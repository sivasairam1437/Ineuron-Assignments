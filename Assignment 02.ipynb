{
 "cells": [
  {
   "cell_type": "raw",
   "id": "33fa047d-819e-4866-8a81-caad9b4e2ed0",
   "metadata": {},
   "source": [
    "Q1.What are the two values of the Boolean data type? How do you write them?\n",
    "A.A variable of the primitive data type boolean can have two values: true and false.Boolean expressions use relational and logical operators. The result of a Boolean expression is either true or false."
   ]
  },
  {
   "cell_type": "raw",
   "id": "b9eb17c0-244e-4eb3-8bc3-50598af55eb3",
   "metadata": {},
   "source": [
    "Q2. What are the three different types of Boolean operators?\n",
    "A.They connect your search words together to either narrow or broaden your set of results. The three basic boolean operators are: AND, OR, and NOT."
   ]
  },
  {
   "cell_type": "raw",
   "id": "67a88f4e-9b76-4e97-9a3e-425964936be6",
   "metadata": {},
   "source": [
    "Q3. Make a list of each Boolean operator's truth tables (i.e. every possible combination of Boolean\n",
    "values for the operator and what it evaluate ).\n",
    "\n",
    "Ans:- True and True is True.\n",
    "\n",
    "True and False is False.\n",
    "\n",
    "False and True is False.\n",
    "\n",
    "False and False is False.\n",
    "\n",
    "True or True is True.\n",
    "\n",
    "True or False is True.\n",
    "\n",
    "False or True is True.\n",
    "\n",
    "False or False is False.\n",
    "\n",
    "not True is False.\n",
    "\n",
    "not False is True.\n",
    "\n",
    "True is 1 and False is 0\n",
    "Truth Table for AND\n",
    "A B output\n",
    "0 0 0\n",
    "0 1 0\n",
    "1 0 0\n",
    "1 1 1\n",
    "Truth Table for OR\n",
    "A B output\n",
    "0 0 0\n",
    "0 1 1\n",
    "1 0 1\n",
    "1 1 1\n",
    "Truth Table for NOT\n",
    "A output\n",
    "0 1\n",
    "1 0"
   ]
  },
  {
   "cell_type": "code",
   "execution_count": 1,
   "id": "4f657e82-b582-485d-8f9d-e96744b4b33f",
   "metadata": {},
   "outputs": [
    {
     "name": "stdout",
     "output_type": "stream",
     "text": [
      "False\n",
      "False\n",
      "True\n",
      "False\n",
      "False\n",
      "True\n"
     ]
    }
   ],
   "source": [
    "#Q4. What are the values of the following expressions?\n",
    "print((5 > 4) and (3 == 5))\n",
    "print(not (5 > 4))\n",
    "print((5 > 4) or (3 == 5))\n",
    "print(not ((5 > 4) or (3 == 5)))\n",
    "print((True and True) and (True == False))\n",
    "print((not False) or (not True))"
   ]
  },
  {
   "cell_type": "markdown",
   "id": "6a6b3297-85bc-47f2-960b-f5ffaa3cc3db",
   "metadata": {},
   "source": [
    "Q5.What are the six comparison operators?\n",
    "A comparison operator compares two values and returns a boolean value, either True or False . Python has six comparison operators: less than ( < ), less than or equal to ( <= ), greater than ( > ), greater than or equal to ( >= ), equal to ( == ), and not equal to ( != )."
   ]
  },
  {
   "cell_type": "markdown",
   "id": "4510c1ba-4fc5-44c8-ab2c-88cce5c2f66a",
   "metadata": {},
   "source": [
    "Q6. How do you tell the difference between the equal to and assignment operators?Describe a\n",
    "condition and when you would use one.\n",
    "A.The '=' is the so-called assignment operator and is used to assign the result of the expression on the right side of the operator to the variable on the left side. The '==' is the so-called equality comparison operator and is used to check whether the two expressions on both sides are equal or not."
   ]
  },
  {
   "cell_type": "code",
   "execution_count": 2,
   "id": "39f9fb7b-24a0-428e-88f5-4cbfa51c1d5d",
   "metadata": {},
   "outputs": [
    {
     "name": "stdout",
     "output_type": "stream",
     "text": [
      "False\n",
      "c = 1\n"
     ]
    }
   ],
   "source": [
    "#eg.\n",
    "\n",
    "# Equal To Operator\n",
    "if(2==3):\n",
    "    print(\"True\")\n",
    "else:\n",
    "    print(\"False\")\n",
    "#Assignment operator\n",
    "c=1 #here we have used assignment operator(=) to assign value of c which is 1\n",
    "print(\"c =\",c)"
   ]
  },
  {
   "cell_type": "raw",
   "id": "9d70b076-bbca-4246-a4be-3786e03d6c36",
   "metadata": {},
   "source": [
    "Q7. Identify the three blocks in this code?\n"
   ]
  },
  {
   "cell_type": "code",
   "execution_count": 3,
   "id": "313d26a8-e0dd-4c27-a543-a5f1bb456dd8",
   "metadata": {},
   "outputs": [
    {
     "name": "stdout",
     "output_type": "stream",
     "text": [
      "ham\n",
      "spam\n",
      "spam\n"
     ]
    }
   ],
   "source": [
    "spam = 0\n",
    "if spam == 10:\n",
    "    print(\"eggs\") #Block 1\n",
    "if spam > 5:\n",
    "    print(\"bacon\") #Block 2\n",
    "else:\n",
    "    print(\"ham\")  #Block 3\n",
    "    print(\"spam\")\n",
    "    print(\"spam\")"
   ]
  },
  {
   "cell_type": "raw",
   "id": "b74f5c31-6d2d-410c-8419-f675b6b309ac",
   "metadata": {},
   "source": [
    "Q8. Write code that prints Hello if 1 is stored in spam, prints Howdy if 2 is stored in spam, and prints\n",
    "Greetings! if anything else is stored in spam."
   ]
  },
  {
   "cell_type": "code",
   "execution_count": 4,
   "id": "c3578fea-5665-4f93-b360-cb48da23acef",
   "metadata": {},
   "outputs": [
    {
     "name": "stdin",
     "output_type": "stream",
     "text": [
      "Enter the input number  3\n"
     ]
    },
    {
     "name": "stdout",
     "output_type": "stream",
     "text": [
      "Greetings\n"
     ]
    }
   ],
   "source": [
    "spam = int(input(\"Enter the input number \"))\n",
    "if spam ==1:\n",
    "           print(\"Hello\")\n",
    "elif spam ==2:\n",
    "            print(\"Howdy\")\n",
    "else:\n",
    "      print(\"Greetings\")\n",
    "           \n",
    "\n"
   ]
  },
  {
   "cell_type": "raw",
   "id": "5288abbf-0b3e-4886-9fca-3a09be1a27ae",
   "metadata": {},
   "source": [
    "Q9.If your programme is stuck in an endless loop, what keys you’ll press?\n",
    "Ans . If program is stuck in endless loop we will press ctrl+c."
   ]
  },
  {
   "cell_type": "markdown",
   "id": "f8f4b5c5-3f44-455f-b912-cbd229be5326",
   "metadata": {},
   "source": [
    "Q10. How can you tell the difference between break and continue?"
   ]
  },
  {
   "cell_type": "code",
   "execution_count": 5,
   "id": "5e821546-a24e-47c3-ba5c-38ce81a3f924",
   "metadata": {},
   "outputs": [
    {
     "name": "stdout",
     "output_type": "stream",
     "text": [
      "0\n",
      "1\n",
      "2\n",
      "3\n",
      "4\n",
      "5\n",
      "Breakended\n",
      "0\n",
      "1\n",
      "2\n",
      "3\n",
      "4\n",
      "5\n",
      "7\n",
      "8\n",
      "9\n",
      "10\n",
      "11\n",
      "12\n",
      "13\n",
      "14\n"
     ]
    }
   ],
   "source": [
    "# use of break\n",
    "for i in range(15):\n",
    "    if(i==6):\n",
    "        break\n",
    "    print(i)\n",
    "    \n",
    "print('Breakended')\n",
    "# use of  continue\n",
    "for i in range(15):\n",
    "    if(i==6):\n",
    "        continue\n",
    "    print(i)"
   ]
  },
  {
   "cell_type": "markdown",
   "id": "581e7e68-1017-412a-99c3-a8d84aec749b",
   "metadata": {},
   "source": [
    "The Break statement is used to exit from the loop constructs.The continue statement is not used to exit from the loop constructs."
   ]
  },
  {
   "cell_type": "markdown",
   "id": "77a6e86d-38de-4624-a322-423836dd48f7",
   "metadata": {},
   "source": [
    "Q11.In a for loop, what is the difference between range(10), range(0, 10), and range(0, 10, 1)?"
   ]
  },
  {
   "cell_type": "code",
   "execution_count": 6,
   "id": "9ecab01f-1567-4033-98ad-74a276892bc5",
   "metadata": {},
   "outputs": [
    {
     "name": "stdout",
     "output_type": "stream",
     "text": [
      "0\n",
      "1\n",
      "2\n",
      "3\n",
      "4\n",
      "5\n",
      "6\n",
      "7\n",
      "8\n",
      "9\n",
      "--------------------------------------------------------------------------------------\n",
      "0\n",
      "1\n",
      "2\n",
      "3\n",
      "4\n",
      "5\n",
      "6\n",
      "7\n",
      "8\n",
      "9\n",
      "--------------------------------------------------------------------------------------\n",
      "0\n",
      "1\n",
      "2\n",
      "3\n",
      "4\n",
      "5\n",
      "6\n",
      "7\n",
      "8\n",
      "9\n"
     ]
    }
   ],
   "source": [
    "for i in range(10):\n",
    "    print(i)\n",
    "print(\"--------------------------------------------------------------------------------------\") \n",
    "for i in range(0,10):\n",
    "    print(i)\n",
    "print(\"--------------------------------------------------------------------------------------\")\n",
    "for i in range(0,10,1):\n",
    "    print(i)"
   ]
  },
  {
   "cell_type": "markdown",
   "id": "a63ffd30-bb69-482c-ac8f-42e5a66abd21",
   "metadata": {},
   "source": [
    "From the above output we can conclude that they all do the same thing. The range(10) call ranges from 0 up to (but not including) 10, range(0, 10) tells the loop to start at 0, and range(0, 10, 1) tells the loop to increase the variable by 1 on each iteration."
   ]
  },
  {
   "cell_type": "raw",
   "id": "ad23f0c1-0707-47c8-80af-7dbeed4d8b1b",
   "metadata": {},
   "source": [
    "Q12. Write a short program that prints the numbers 1 to 10 using a for loop. Then write an equivalent\n",
    "program that prints the numbers 1 to 10 using a while loop."
   ]
  },
  {
   "cell_type": "code",
   "execution_count": 7,
   "id": "8a34b3ad-af41-436e-a7b5-5a2963dc1d85",
   "metadata": {},
   "outputs": [
    {
     "name": "stdout",
     "output_type": "stream",
     "text": [
      "For Loop\n",
      "1\n",
      "2\n",
      "3\n",
      "4\n",
      "5\n",
      "6\n",
      "7\n",
      "8\n",
      "9\n",
      "10\n",
      "While Loop\n",
      "1\n",
      "2\n",
      "3\n",
      "4\n",
      "5\n",
      "6\n",
      "7\n",
      "8\n",
      "9\n",
      "10\n"
     ]
    }
   ],
   "source": [
    "#Use of For Loop\n",
    "print(\"For Loop\")\n",
    "for i in range(1,11):\n",
    "    print(i)\n",
    "#Use of While Loop\n",
    "print(\"While Loop\")\n",
    "a =1\n",
    "while a <= 10:\n",
    "    print(a)\n",
    "    a+=1"
   ]
  },
  {
   "cell_type": "raw",
   "id": "c9c0bcca-5212-4569-a18e-a330479beb9b",
   "metadata": {},
   "source": [
    "Q13 If you had a function named bacon() inside a module named spam, how would you call it after importing spam?\n",
    "A.This function can be called with spam. bacon()."
   ]
  }
 ],
 "metadata": {
  "kernelspec": {
   "display_name": "Python 3 (ipykernel)",
   "language": "python",
   "name": "python3"
  },
  "language_info": {
   "codemirror_mode": {
    "name": "ipython",
    "version": 3
   },
   "file_extension": ".py",
   "mimetype": "text/x-python",
   "name": "python",
   "nbconvert_exporter": "python",
   "pygments_lexer": "ipython3",
   "version": "3.10.6"
  }
 },
 "nbformat": 4,
 "nbformat_minor": 5
}
