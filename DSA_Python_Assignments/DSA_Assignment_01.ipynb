{
 "cells": [
  {
   "cell_type": "markdown",
   "id": "2bf7d31b-f814-4e70-9606-acc23f39df5e",
   "metadata": {},
   "source": [
    "# Assignment Questions and answers"
   ]
  },
  {
   "cell_type": "markdown",
   "id": "aa8bed3f-fdcb-48e0-a044-3ad7efde53cf",
   "metadata": {},
   "source": [
    "💡 **Q1.** Given an array of integers nums and an integer target, return indices of the two numbers such that they add up to target.\n",
    "\n",
    "You may assume that each input would have exactly one solution, and you may not use the same element twice.\n",
    "\n",
    "You can return the answer in any order.\n",
    "\n",
    "**Example:**\n",
    "Input: nums = [2,7,11,15], target = 9\n",
    "Output0 [0,1]\n",
    "\n",
    "**Explanation:** Because nums[0] + nums[1] == 9, we return [0, 1][\n"
   ]
  },
  {
   "cell_type": "code",
   "execution_count": 1,
   "id": "4a80f052-9024-4bfc-9659-7307af27398b",
   "metadata": {},
   "outputs": [
    {
     "name": "stdout",
     "output_type": "stream",
     "text": [
      "[[0, 1]]\n"
     ]
    }
   ],
   "source": [
    "from itertools import combinations\n",
    "\n",
    "class AnySum():\n",
    "    \n",
    "    def any_sum(self,array,target,size):\n",
    "        self.array=array\n",
    "        self.target=target\n",
    "        self.size=size\n",
    "        output_pairs=combinations(self.array,self.size)\n",
    "        list_of_combinations=[]\n",
    "        for i in output_pairs:\n",
    "            list_of_combinations.append(i)\n",
    "        output=[]\n",
    "        for i in list_of_combinations:\n",
    "            if sum(i)==self.target:\n",
    "                output_temp=[]\n",
    "                for j in i:\n",
    "                    output_temp.append((self.array).index(j))\n",
    "                output.append(output_temp)\n",
    "                \n",
    "        if len(output)==0:\n",
    "            output.append(\"No combination found\")\n",
    "        return output\n",
    "    \n",
    "if __name__ == \"__main__\":\n",
    "    array = [2,7,11,15]\n",
    "    target = 9\n",
    "    size=2\n",
    "    result=AnySum()\n",
    "    print(result.any_sum(array,target,size))"
   ]
  },
  {
   "cell_type": "markdown",
   "id": "78097c94-1c95-4730-b1f6-e47f38977490",
   "metadata": {},
   "source": [
    "💡 **Q2.** Given an integer array nums and an integer val, remove all occurrences of val in nums in-place. The order of the elements may be changed. Then return the number of elements in nums which are not equal to val.\n",
    "\n",
    "Consider the number of elements in nums which are not equal to val be k, to get accepted, you need to do the following things:\n",
    "\n",
    "- Change the array nums such that the first k elements of nums contain the elements which are not equal to val. The remaining elements of nums are not important as well as the size of nums.\n",
    "- Return k.\n",
    "\n",
    "**Example :**\n",
    "Input: nums = [3,2,2,3], val = 3\n",
    "Output: 2, nums = [2,2,_*,_*]\n",
    "\n",
    "**Explanation:** Your function should return k = 2, with the first two elements of nums being 2. It does not matter what you leave beyond the returned k (hence they are underscores)\n"
   ]
  },
  {
   "cell_type": "code",
   "execution_count": 2,
   "id": "130b1c84-bb76-4d16-89a5-2aac3e89d36c",
   "metadata": {},
   "outputs": [
    {
     "name": "stdout",
     "output_type": "stream",
     "text": [
      "2\n"
     ]
    }
   ],
   "source": [
    "class RemoveElement:\n",
    "    def removeElement(self,array,val):\n",
    "        self.array=array\n",
    "        self.val=val\n",
    "        # Counter for keeping track of elements other than val\n",
    "        count = 0\n",
    "        # Loop through all the elements of the array\n",
    "        for i in range(len(self.array)):\n",
    "            if self.array[i] != self.val:\n",
    "                # If the element is not val\n",
    "                self.array[count] = self.array[i]\n",
    "                count += 1\n",
    "        return count\n",
    "    \n",
    "if __name__ == \"__main__\":    \n",
    "    nums=[3,2,2,3]\n",
    "    val=3\n",
    "    obj=RemoveElement()\n",
    "    print(obj.removeElement(nums,val))"
   ]
  },
  {
   "cell_type": "markdown",
   "id": "a494f1a6-9936-423c-b9f3-a4bf3aea4f03",
   "metadata": {},
   "source": [
    "💡 Q3. Given a sorted array of distinct integers and a target value, return the index if the target is found. If not, return the index where it would be if it were inserted in order.\n",
    "\n",
    "You must write an algorithm with O(log n) runtime complexity.\n",
    "\n",
    "Example 1: Input: nums = [1,3,5,6], target = 5\n"
   ]
  },
  {
   "cell_type": "code",
   "execution_count": 3,
   "id": "4f50a235-6ec0-45b5-9d27-3daa37e8a186",
   "metadata": {},
   "outputs": [
    {
     "name": "stdout",
     "output_type": "stream",
     "text": [
      "2\n"
     ]
    }
   ],
   "source": [
    "class Solution:\n",
    "    def searchInsert(self, array:list[int], target: int) -> int:\n",
    "        low = 0\n",
    "        high = len(array)\n",
    "\n",
    "        while low < high:\n",
    "            middle = (high + low) // 2\n",
    "\n",
    "            if array[middle] == target:\n",
    "                return middle\n",
    "\n",
    "            if array[middle] < target:\n",
    "                low = middle + 1\n",
    "\n",
    "            if array[middle] > target:\n",
    "                high = middle - 0\n",
    "        return low\n",
    "if __name__ == \"__main__\":  \n",
    "    array=[1,3,5,6]\n",
    "    target=5\n",
    "    obj=Solution()\n",
    "    print(obj.searchInsert(array, target))"
   ]
  },
  {
   "cell_type": "markdown",
   "id": "7553a764-3dd9-4a57-84d9-9efcb50895eb",
   "metadata": {},
   "source": [
    "💡 **Q4.** You are given a large integer represented as an integer array digits, where each digits[i] is the ith digit of the integer. The digits are ordered from most significant to least significant in left-to-right order. The large integer does not contain any leading 0's.\n",
    "Increment the large integer by one and return the resulting array of digits.\n",
    "\n",
    "Example 1: Input: digits = [1,2,3] Output: [1,2,4]\n",
    "\n",
    "Explanation: The array represents the integer 123.\n",
    "\n",
    "Incrementing by one gives 123 + 1 = 124. Thus, the result should be [1,2,4]."
   ]
  },
  {
   "cell_type": "code",
   "execution_count": 4,
   "id": "44ce0c1e-0365-4b31-82b2-3b5daa9ef523",
   "metadata": {},
   "outputs": [
    {
     "name": "stdout",
     "output_type": "stream",
     "text": [
      "[1, 2, 4]\n"
     ]
    }
   ],
   "source": [
    "class Solution(object):\n",
    "   def plusOne(self, digits):\n",
    "      num = \"\"\n",
    "      for i in digits:\n",
    "         num +=str(i)\n",
    "      num = int(num)\n",
    "      num+=1\n",
    "      num = str(num)\n",
    "      ans = []\n",
    "      for i in num:\n",
    "         ans.append(int(i))\n",
    "      return ans\n",
    "digits = [1,2,3]\n",
    "obj = Solution()\n",
    "print(obj.plusOne(digits))"
   ]
  },
  {
   "cell_type": "code",
   "execution_count": 5,
   "id": "2298fdac-58dd-4787-b07c-c00d3fb17924",
   "metadata": {},
   "outputs": [],
   "source": [
    "class Solution:\n",
    "    def plusOne(self, digits: list[int]) -> list[int]:\n",
    "        dig_len = len(digits)\n",
    "        for i in reversed(range(dig_len)):\n",
    "            digits[i]+=1\n",
    "            if digits[i] < 10:\n",
    "                return digits\n",
    "            else: #Example 49\n",
    "                digits[i] = 0\n",
    "        #Example Case 99\n",
    "        digits.insert(0,1)\n",
    "        return digits"
   ]
  },
  {
   "cell_type": "code",
   "execution_count": 6,
   "id": "e2294a1f-e51b-4b73-8b8e-fe01f005a014",
   "metadata": {},
   "outputs": [
    {
     "name": "stdout",
     "output_type": "stream",
     "text": [
      "[1, 2, 4]\n"
     ]
    }
   ],
   "source": [
    "digits = [1,2,3]\n",
    "obj = Solution()\n",
    "print(obj.plusOne(digits))"
   ]
  },
  {
   "cell_type": "markdown",
   "id": "fe265cd4-ddb6-4fa0-bb26-c07dc8b2748e",
   "metadata": {},
   "source": [
    "💡 **Q5.** You are given two integer arrays nums1 and nums2, sorted in non-decreasing order, and two integers m and n, representing the number of elements in nums1 and nums2 respectively.\n",
    "Merge nums1 and nums2 into a single array sorted in non-decreasing order.\n",
    "\n",
    "The final sorted array should not be returned by the function, but instead be stored inside the array nums1. To accommodate this, nums1 has a length of m + n, where the first m elements denote the elements that should be merged, and the last n elements are set to 0 and should be ignored. nums2 has a length of n.\n",
    "\n",
    "Example 1: Input: nums1 = [1,2,3,0,0,0], m = 3, nums2 = [2,5,6], n = 3 Output: [1,2,2,3,5,6]\n",
    "\n",
    "Explanation: The arrays we are merging are [1,2,3] and [2,5,6]. The result of the merge is [1,2,2,3,5,6] with the underlined elements coming from nums1."
   ]
  },
  {
   "cell_type": "code",
   "execution_count": 4,
   "id": "b00fc572-589e-4e77-8d88-996ea8be44d1",
   "metadata": {},
   "outputs": [
    {
     "name": "stdout",
     "output_type": "stream",
     "text": [
      "[1, 2, 2, 3, 5, 6]\n"
     ]
    }
   ],
   "source": [
    "class Solution(object):\n",
    "   def merge(self, nums1, m, nums2, n):\n",
    "      i = 0\n",
    "      j = 0\n",
    "      end = len(nums1)-1\n",
    "      while end>=0 and not nums1[end]:\n",
    "         end-=1\n",
    "      while j<len(nums2) :\n",
    "         if i>end and not nums1[i]:\n",
    "            nums1[i] = nums2[j]\n",
    "            j+=1\n",
    "         elif nums1[i]>nums2[j]:\n",
    "            self.shift(nums1,i)\n",
    "            nums1[i] = nums2[j]\n",
    "            end+=1\n",
    "            j+=1\n",
    "         i+=1\n",
    "      return nums1\n",
    "   def shift(self,num,i):\n",
    "      j = len(num)-1\n",
    "      while not num[j]:\n",
    "         j-=1\n",
    "      while j>=i:\n",
    "         num[j+1] = num[j]\n",
    "         j-=1\n",
    "ob = Solution()\n",
    "print(ob.merge([1,2,3,0,0,0],3,[2,5,6],3))"
   ]
  },
  {
   "cell_type": "markdown",
   "id": "741e814e-ff4a-444f-a99e-7c90781292a6",
   "metadata": {},
   "source": [
    " **Q6.** Given an integer array nums, return true if any value appears at least twice in the array, and return false if every element is distinct.\n",
    "Example 1: Input: nums = [1,2,3,1]\n",
    "\n",
    "Output: true"
   ]
  },
  {
   "cell_type": "code",
   "execution_count": 9,
   "id": "eee8895a-9268-42fe-9072-96db448d4293",
   "metadata": {},
   "outputs": [
    {
     "name": "stdout",
     "output_type": "stream",
     "text": [
      "True\n"
     ]
    }
   ],
   "source": [
    "class Solution:\n",
    "    def containsDuplicate(self, nums: list[int]) -> bool:\n",
    "        for i in range(len(nums)):\n",
    "            for j in range(0, i):\n",
    "                if nums[i] == nums[j]:\n",
    "                    return True\n",
    "        return False\n",
    "List =[1,2,3,2,5,6,5]\n",
    "obj = Solution()\n",
    "print(obj.containsDuplicate(List))"
   ]
  },
  {
   "cell_type": "markdown",
   "id": "ac4b0aa9-5326-4a89-8d5c-e128e23fbfb0",
   "metadata": {},
   "source": [
    "💡 **Q7.** Given an integer array nums, move all 0's to the end of it while maintaining the relative order of the nonzero elements.\n",
    "Note that you must do this in-place without making a copy of the array.\n",
    "\n",
    "Example 1: Input: nums = [0,1,0,3,12] Output: [1,3,12,0,0]"
   ]
  },
  {
   "cell_type": "code",
   "execution_count": 10,
   "id": "e7fbd0e1-0c24-4104-8d5c-0ac421f5669a",
   "metadata": {},
   "outputs": [
    {
     "name": "stdout",
     "output_type": "stream",
     "text": [
      "[1, 3, 12, 0, 0]\n"
     ]
    }
   ],
   "source": [
    "# Python Program to move all zeros to the end\n",
    "A =  [0,1,0,3,12]\n",
    "n = len(A)\n",
    "j = 0\n",
    "for i in range(n):\n",
    "    if A[i] != 0:\n",
    "        A[j], A[i] = A[i], A[j]  # Partitioning the array\n",
    "        j += 1\n",
    "print(A)  # Print the array"
   ]
  },
  {
   "cell_type": "markdown",
   "id": "96dc3c31-b065-4de7-aac4-c710b5117250",
   "metadata": {},
   "source": [
    "💡 **Q8.** You have a set of integers, which originally contains all the numbers from 1 to n. Unfortunately, due to some error, one of the numbers in s got duplicated to another number in the set, which results in repetition of one number and loss of another number.\n",
    "You are given an integer array nums representing the data status of this set after the error.\n",
    "\n",
    "Find the number that occurs twice and the number that is missing and return them in the form of an array.\n",
    "\n",
    "Example 1: Input: nums = [1,2,2,4] Output: [2,3]"
   ]
  },
  {
   "cell_type": "code",
   "execution_count": 1,
   "id": "f7e01613-dfd6-486a-a313-c17b396b31b4",
   "metadata": {},
   "outputs": [
    {
     "name": "stdout",
     "output_type": "stream",
     "text": [
      "[2, 3]\n"
     ]
    }
   ],
   "source": [
    "class Solution:\n",
    "    def findErrorNums(self, nums: list[int]) -> list[int]:\n",
    "        N, dupe = len(nums), 0\n",
    "        seen, sumN = [0] * (N+1), N * (N+1) // 2\n",
    "        for num in nums:\n",
    "            sumN -= num\n",
    "            if seen[num]: dupe = num\n",
    "            seen[num] += 1\n",
    "        return [dupe, sumN + dupe]\n",
    "nums = [1,2,2,4]\n",
    "target=[2,3]\n",
    "obj = Solution()\n",
    "print(obj.findErrorNums(nums))"
   ]
  },
  {
   "cell_type": "code",
   "execution_count": null,
   "id": "482d3d7d-044b-4321-aae5-8add262885f0",
   "metadata": {},
   "outputs": [],
   "source": []
  }
 ],
 "metadata": {
  "kernelspec": {
   "display_name": "Python 3 (ipykernel)",
   "language": "python",
   "name": "python3"
  },
  "language_info": {
   "codemirror_mode": {
    "name": "ipython",
    "version": 3
   },
   "file_extension": ".py",
   "mimetype": "text/x-python",
   "name": "python",
   "nbconvert_exporter": "python",
   "pygments_lexer": "ipython3",
   "version": "3.10.6"
  }
 },
 "nbformat": 4,
 "nbformat_minor": 5
}
