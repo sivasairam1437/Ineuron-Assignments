{
 "cells": [
  {
   "cell_type": "markdown",
   "id": "0b3a9cbe-347d-44cc-8a3b-c6a24bc4d23f",
   "metadata": {},
   "source": [
    "💡 **Question 1**\n",
    "Given an integer array nums of length n and an integer target, find three integers\n",
    "in nums such that the sum is closest to the target.\n",
    "Return the sum of the three integers.\n",
    "\n",
    "You may assume that each input would have exactly one solution.\n",
    "\n",
    "**Example 1:**\n",
    "Input: nums = [-1,2,1,-4], target = 1\n",
    "Output: 2\n",
    "\n",
    "**Explanation:** The sum that is closest to the target is 2. (-1 + 2 + 1 = 2)."
   ]
  },
  {
   "cell_type": "code",
   "execution_count": 1,
   "id": "f98ffb09-1816-427d-9457-568d983240ed",
   "metadata": {},
   "outputs": [
    {
     "name": "stdout",
     "output_type": "stream",
     "text": [
      "2\n"
     ]
    }
   ],
   "source": [
    "# Python3 implementation of the above approach\n",
    "import sys\n",
    "\n",
    "# Function to return the sum of a\n",
    "# triplet which is closest to x\n",
    "def solution(arr, x):\n",
    "\n",
    "\t# To store the closest sum\n",
    "\tclosestSum = sys.maxsize\n",
    "\n",
    "\t# Run three nested loops each loop\n",
    "\t# for each element of triplet\n",
    "\tfor i in range (len(arr)) :\n",
    "\t\tfor j in range(i + 1, len(arr)):\n",
    "\t\t\tfor k in range(j + 1, len( arr)):\n",
    "\t\t\t\n",
    "\t\t\t\t# Update the closestSum\n",
    "\t\t\t\tif(abs(x - closestSum) >\n",
    "\t\t\t\tabs(x - (arr[i] +\n",
    "\t\t\t\tarr[j] + arr[k]))):\n",
    "\t\t\t\t\tclosestSum = (arr[i] +\n",
    "\t\t\t\t\t\t\t\t\tarr[j] + arr[k])\n",
    "\t\t\t\n",
    "\t# Return the closest sum found\n",
    "\treturn closestSum\n",
    "\n",
    "# Driver code\n",
    "if __name__ == \"__main__\":\n",
    "\t\n",
    "\tarr = [ -1, 2, 1, -4 ]\n",
    "\tx = 1\n",
    "\t\n",
    "\tprint(solution(arr, x))"
   ]
  },
  {
   "cell_type": "markdown",
   "id": "af6fe339-d04a-4a52-9dee-7f6cd0ee0d7d",
   "metadata": {},
   "source": [
    "💡 **Question 2**\n",
    "Given an array nums of n integers, return an array of all the unique quadruplets\n",
    "[nums[a], nums[b], nums[c], nums[d]] such that:\n",
    "           ● 0 <= a, b, c, d < n\n",
    "           ● a, b, c, and d are distinct.\n",
    "           ● nums[a] + nums[b] + nums[c] + nums[d] == target\n",
    "\n",
    "You may return the answer in any order.\n",
    "\n",
    "**Example 1:**\n",
    "Input: nums = [1,0,-1,0,-2,2], target = 0\n",
    "Output: [[-2,-1,1,2],[-2,0,0,2],[-1,0,0,1]]"
   ]
  },
  {
   "cell_type": "code",
   "execution_count": 17,
   "id": "b09ec96d-40e8-4972-ba83-4bd7cd018d7f",
   "metadata": {},
   "outputs": [
    {
     "name": "stdout",
     "output_type": "stream",
     "text": [
      "(-2, 0, 0, 2)\n",
      "(-1, 0, 0, 1)\n",
      "(-2, -1, 1, 2)\n"
     ]
    }
   ],
   "source": [
    "# Store the pair of indices\n",
    "class Pair:\n",
    "    def __init__(self, x, y):\n",
    "        self.index1 = x\n",
    "        self.index2 = y\n",
    "# Function to find the all the unique quadruplets\n",
    "# with the elements at different indices\n",
    "def GetQuadruplets(nums, target):\n",
    "    # Store the sum mapped to a list of pair indices\n",
    "    map = {}\n",
    " \n",
    "    # Generate all possible pairs for the map\n",
    "    for i in range(len(nums) - 1):\n",
    "        for j in range(i + 1, len(nums)):\n",
    "            # Find the sum of pairs of elements\n",
    "            sum = nums[i] + nums[j]\n",
    " \n",
    "            # If the sum doesn't exist then update with the new pairs\n",
    "            if sum not in map:\n",
    "                map[sum] = [Pair(i, j)]\n",
    "            # Otherwise, add the new pair of indices to the current sum\n",
    "            else:\n",
    "                map[sum].append(Pair(i, j))\n",
    " \n",
    "    # Store all the Quadruplets\n",
    "    ans = set()\n",
    " \n",
    "    for i in range(len(nums) - 1):\n",
    "        for j in range(i + 1, len(nums)):\n",
    "            lookUp = target - (nums[i] + nums[j])\n",
    " \n",
    "            # If the sum with value (K - sum) exists\n",
    "            if lookUp in map:\n",
    "                # Get the pair of indices of sum\n",
    "                temp = map[lookUp]\n",
    " \n",
    "                for pair in temp:\n",
    "                    # Check if i, j, k and l are distinct or not\n",
    "                    if pair.index1 != i and pair.index1 != j and pair.index2 != i and pair.index2 != j:\n",
    "                        l1 = [nums[pair.index1], nums[pair.index2], nums[i], nums[j]]\n",
    "                         \n",
    "                        # Sort the list to avoid duplicacy\n",
    "                        l1.sort()\n",
    "                         \n",
    "                        # Update the set\n",
    "                        ans.add(tuple(l1))\n",
    " \n",
    "    # Print all the Quadruplets\n",
    "    print(*reversed(list(ans)), sep = '\\n')\n",
    "arr = [1, 0, -1, 0, -2, 2]\n",
    "K = 0\n",
    "GetQuadruplets(arr, K)"
   ]
  },
  {
   "cell_type": "markdown",
   "id": "4f1650f4-2ea5-487b-b568-5bb2d334e880",
   "metadata": {},
   "source": [
    "💡 **Question 3**\n",
    "A permutation of an array of integers is an arrangement of its members into a\n",
    "sequence or linear order.\n",
    "\n",
    "For example, for arr = [1,2,3], the following are all the permutations of arr:\n",
    "[1,2,3], [1,3,2], [2, 1, 3], [2, 3, 1], [3,1,2], [3,2,1].\n",
    "\n",
    "The next permutation of an array of integers is the next lexicographically greater\n",
    "permutation of its integer. More formally, if all the permutations of the array are\n",
    "sorted in one container according to their lexicographical order, then the next\n",
    "permutation of that array is the permutation that follows it in the sorted container.\n",
    "\n",
    "If such an arrangement is not possible, the array must be rearranged as the\n",
    "lowest possible order (i.e., sorted in ascending order).\n",
    "\n",
    "● For example, the next permutation of arr = [1,2,3] is [1,3,2].\n",
    "● Similarly, the next permutation of arr = [2,3,1] is [3,1,2].\n",
    "● While the next permutation of arr = [3,2,1] is [1,2,3] because [3,2,1] does not\n",
    "have a lexicographical larger rearrangement.\n",
    "\n",
    "Given an array of integers nums, find the next permutation of nums.\n",
    "The replacement must be in place and use only constant extra memory.\n",
    "\n",
    "**Example 1:**\n",
    "Input: nums = [1,2,3]\n",
    "Output: [1,3,2]"
   ]
  },
  {
   "cell_type": "code",
   "execution_count": 2,
   "id": "445e02cc-7d8f-4e9f-b383-f1632bce2373",
   "metadata": {},
   "outputs": [
    {
     "name": "stdout",
     "output_type": "stream",
     "text": [
      "1 3 2 "
     ]
    }
   ],
   "source": [
    "# Python code to implement the above approach\n",
    "def swapPositions(list, pos1, pos2):\n",
    "    list[pos1], list[pos2] = list[pos2], list[pos1]\n",
    "    return list\n",
    " \n",
    "# Function to find the next permutation\n",
    "def nextPermutation(arr):\n",
    "    n = len(arr)\n",
    "    i = 0\n",
    "    j = 0\n",
    "     \n",
    "    # Find for the pivot element.\n",
    "    # A pivot is the first element from\n",
    "    # end of sequencewhich doesn't follow\n",
    "    # property of non-increasing suffix\n",
    "    for i in range(n-2, -1, -1):\n",
    "        if (arr[i] < arr[i + 1]):\n",
    "            break\n",
    "             \n",
    "    # Check if pivot is not found\n",
    "    if (i < 0):\n",
    "        arr.reverse()\n",
    " \n",
    "    # if pivot is found\n",
    "    else:\n",
    "        # Find for the successor of pivot in suffix\n",
    "        for j in range(n-1, i, -1):\n",
    "            if (arr[j] > arr[i]):\n",
    "                break\n",
    " \n",
    "        # Swap the pivot and successor\n",
    "        swapPositions(arr, i, j)\n",
    "         \n",
    "        # Minimise the suffix part\n",
    "        # initializing range\n",
    "        strt, end = i+1, len(arr)\n",
    " \n",
    "        # Third arg. of split with -1 performs reverse\n",
    "        arr[strt:end] = arr[strt:end][::-1]\n",
    " \n",
    "# Driver code\n",
    "if __name__ == \"__main__\":\n",
    "    arr = [1, 2, 3]\n",
    "     \n",
    "    # Function call\n",
    "    nextPermutation(arr)\n",
    "     \n",
    "    # Printing the answer\n",
    "    for i in arr:\n",
    "        print(i, end=\" \")"
   ]
  },
  {
   "cell_type": "markdown",
   "id": "31f99d7a-cab9-48ac-a425-1a6835a592ba",
   "metadata": {},
   "source": [
    "💡 **Question 4**\n",
    "\n",
    "Given a sorted array of distinct integers and a target value, return the index if the\n",
    "target is found. If not, return the index where it would be if it were inserted in\n",
    "order.\n",
    "\n",
    "You must write an algorithm with O(log n) runtime complexity.\n",
    "\n",
    "**Example 1:**\n",
    "Input: nums = [1,3,5,6], target = 5\n",
    "Output: 2"
   ]
  },
  {
   "cell_type": "code",
   "execution_count": 5,
   "id": "f94c27fa-dc2a-4791-b7b4-5e79b8f55099",
   "metadata": {},
   "outputs": [
    {
     "name": "stdout",
     "output_type": "stream",
     "text": [
      "2\n"
     ]
    }
   ],
   "source": [
    "# Function to find insert position of K\n",
    "def find_index(arr, n, K):\n",
    "     \n",
    "    # Traverse the array\n",
    "    for i in range(n):\n",
    "         \n",
    "        # If K is found\n",
    "        if arr[i] == K:\n",
    "            return i\n",
    "             \n",
    "        # If arr[i] exceeds K\n",
    "        elif arr[i] > K:\n",
    "            return i\n",
    "             \n",
    "    # If all array elements are smaller\n",
    "    return n\n",
    " \n",
    "# Driver Code\n",
    "arr = [1, 3, 5, 6]\n",
    "n = len(arr)\n",
    "K = 5\n",
    "print(find_index(arr, n, K))"
   ]
  },
  {
   "cell_type": "markdown",
   "id": "4789e60b-0cbb-4048-ac7b-9dd8d0545cb8",
   "metadata": {},
   "source": [
    "💡 **Question 5**\n",
    "\n",
    "You are given a large integer represented as an integer array digits, where each\n",
    "digits[i] is the ith digit of the integer. The digits are ordered from most significant\n",
    "to least significant in left-to-right order. The large integer does not contain any\n",
    "leading 0's.\n",
    "\n",
    "Increment the large integer by one and return the resulting array of digits.\n",
    "\n",
    "**Example 1:**\n",
    "Input: digits = [1,2,3]\n",
    "Output: [1,2,4]\n",
    "\n",
    "**Explanation:** The array represents the integer 123.\n",
    "Incrementing by one gives 123 + 1 = 124.\n",
    "Thus, the result should be [1,2,4]."
   ]
  },
  {
   "cell_type": "code",
   "execution_count": 6,
   "id": "cf597d4b-90c2-4e82-8880-b66e0265c927",
   "metadata": {},
   "outputs": [
    {
     "name": "stdout",
     "output_type": "stream",
     "text": [
      "1 2 4 "
     ]
    }
   ],
   "source": [
    "#Python Program\n",
    "def AddOne(digits):\n",
    "\t\n",
    "\t# initialize an index (digit of units)\n",
    "\tindex = len(digits) - 1\n",
    "\t\n",
    "\t# while the index is valid and the value at [index] ==\n",
    "\t# 9 set it as 0\n",
    "\twhile (index >= 0 and digits[index] == 9):\n",
    "\t\tdigits[index] = 0\n",
    "\t\tindex -= 1\n",
    "\t\t\n",
    "\t# if index < 0 (if all digits were 9)\n",
    "\tif (index < 0):\n",
    "\t\t\n",
    "\t\t# insert an one at the beginning of the vector\n",
    "\t\tdigits.insert(0, 1)\n",
    "\t\t\n",
    "\t# else increment the value at [index]\n",
    "\telse:\n",
    "\t\tdigits[index]+=1\n",
    "\n",
    "\n",
    "digits = [1,2,3] \n",
    "\n",
    "AddOne(digits)\n",
    "\n",
    "for digit in digits:\n",
    "\tprint(digit, end =' ')"
   ]
  },
  {
   "cell_type": "markdown",
   "id": "cabe077d-7b53-447b-98f8-861e78005bdc",
   "metadata": {},
   "source": [
    "💡 **Question 6**\n",
    "\n",
    "Given a non-empty array of integers nums, every element appears twice except\n",
    "for one. Find that single one.\n",
    "\n",
    "You must implement a solution with a linear runtime complexity and use only\n",
    "constant extra space.\n",
    "\n",
    "**Example 1:**\n",
    "Input: nums = [2,2,1]\n",
    "Output: 1"
   ]
  },
  {
   "cell_type": "code",
   "execution_count": 7,
   "id": "cf83243e-3c07-4720-8b7e-e6e6dc881542",
   "metadata": {},
   "outputs": [
    {
     "name": "stdout",
     "output_type": "stream",
     "text": [
      "Element occurring once is 1\n"
     ]
    }
   ],
   "source": [
    "# Python code to find the array element that appears only once\n",
    "\n",
    "# Function to find the array\n",
    "# element that appears only once\n",
    "def findSingle(A, ar_size):\n",
    "\t\n",
    "\t# iterate over every element\n",
    "\tfor i in range(ar_size):\n",
    "\t\t\n",
    "\t\t# Initialize count to 0\n",
    "\t\tcount = 0\n",
    "\t\tfor j in range(ar_size):\n",
    "\t\t\t\n",
    "\t\t\t# Count the frequency\n",
    "\t\t\t# of the element\n",
    "\t\t\tif(A[i] == A[j]):\n",
    "\t\t\t\tcount += 1\n",
    "\n",
    "\t\t# If the frequency of\n",
    "\t\t# the element is one\n",
    "\t\tif(count == 1):\n",
    "\t\t\treturn A[i]\n",
    "\t\t\t\n",
    "\t# If no element exist\n",
    "\t# at most once\n",
    "\treturn -1\n",
    "\n",
    "ar = [2,2,1]\n",
    "n = len(ar)\n",
    "# Function call\n",
    "print(\"Element occurring once is\", findSingle(ar, n))"
   ]
  },
  {
   "cell_type": "markdown",
   "id": "4ca07e2a-d51c-40ac-a876-9cb09a4b3290",
   "metadata": {},
   "source": [
    "💡 **Question 7**\n",
    "\n",
    "You are given an inclusive range [lower, upper] and a sorted unique integer array\n",
    "nums, where all elements are within the inclusive range.\n",
    "\n",
    "A number x is considered missing if x is in the range [lower, upper] and x is not in\n",
    "nums.\n",
    "\n",
    "Return the shortest sorted list of ranges that exactly covers all the missing\n",
    "numbers. That is, no element of nums is included in any of the ranges, and each\n",
    "missing number is covered by one of the ranges.\n",
    "\n",
    "**Example 1:**\n",
    "Input: nums = [0,1,3,50,75], lower = 0, upper = 99\n",
    "Output: [[2,2],[4,49],[51,74],[76,99]]\n",
    "\n",
    "**Explanation:** The ranges are:\n",
    "[2,2]\n",
    "[4,49]\n",
    "[51,74]\n",
    "[76,99]"
   ]
  },
  {
   "cell_type": "code",
   "execution_count": 12,
   "id": "d6ef0218-784b-4c83-8974-5581f95ff23a",
   "metadata": {},
   "outputs": [],
   "source": [
    "class Solution:\n",
    "    def findMissingRanges(self, nums: list[int], lower: int, upper: int) -> list[str]:\n",
    "        results = []\n",
    "        \n",
    "        if not nums:\n",
    "            gap = self.helper(lower, upper)\n",
    "            results.append(gap)\n",
    "            \n",
    "            return results\n",
    "        \n",
    "        prev = lower - 1\n",
    "        \n",
    "        for num in nums:\n",
    "            if prev + 1 != num:                \n",
    "                gap = self.helper(prev + 1, num - 1)\n",
    "                results.append(gap)\n",
    "            prev = num    \n",
    "        \n",
    "        if nums[-1] < upper:\n",
    "            gap = self.helper(nums[-1] + 1, upper)\n",
    "            results.append(gap)\n",
    "                    \n",
    "        return results\n",
    "    \n",
    "    def helper(self, left, right):\n",
    "        if left == right:\n",
    "            return str(left)\n",
    "        \n",
    "        return str(left) + \"->\" + str(right)\n",
    "\n"
   ]
  },
  {
   "cell_type": "code",
   "execution_count": 10,
   "id": "9bc19cec-0173-4912-a348-692452971ab0",
   "metadata": {},
   "outputs": [
    {
     "name": "stdout",
     "output_type": "stream",
     "text": [
      "['2', '4->49', '51->74', '76->99']\n"
     ]
    }
   ],
   "source": [
    "arr =  [0,1,3,50,75]\n",
    "#n = len(arr)\n",
    "low = 0\n",
    "high = 99\n",
    "obj=olution()\n",
    "print(obj.findMissingRanges(arr,low,high))"
   ]
  },
  {
   "cell_type": "markdown",
   "id": "370fc816-838f-494a-8afe-422218f0943b",
   "metadata": {},
   "source": [
    "💡 **Question 8**\n",
    "\n",
    "Given an array of meeting time intervals where intervals[i] = [starti, endi],\n",
    "determine if a person could attend all meetings.\n",
    "\n",
    "**Example 1:**\n",
    "Input: intervals = [[0,30],[5,10],[15,20]]\n",
    "Output: false"
   ]
  },
  {
   "cell_type": "code",
   "execution_count": null,
   "id": "f6523346-0e3e-4bed-9120-44de3046dc5d",
   "metadata": {},
   "outputs": [],
   "source": [
    "def canAttendMeetings(intervals):\n",
    "    intervals.sort(key=lambda a: a.start)\n",
    "    for i in range(len(intervals)-1):\n",
    "        if intervals[i].end > intervals[i+1].start:\n",
    "            return False\n",
    "        return True\n",
    "intervals = [[0,30],[5,10],[15,20]] \n",
    "obj = sort()\n",
    "print(obj.canAttendMeetings(intervals))"
   ]
  }
 ],
 "metadata": {
  "kernelspec": {
   "display_name": "Python 3 (ipykernel)",
   "language": "python",
   "name": "python3"
  },
  "language_info": {
   "codemirror_mode": {
    "name": "ipython",
    "version": 3
   },
   "file_extension": ".py",
   "mimetype": "text/x-python",
   "name": "python",
   "nbconvert_exporter": "python",
   "pygments_lexer": "ipython3",
   "version": "3.10.6"
  }
 },
 "nbformat": 4,
 "nbformat_minor": 5
}
