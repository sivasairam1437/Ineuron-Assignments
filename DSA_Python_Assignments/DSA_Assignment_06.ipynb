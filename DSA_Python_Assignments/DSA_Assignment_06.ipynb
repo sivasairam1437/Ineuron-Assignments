{
 "cells": [
  {
   "cell_type": "markdown",
   "id": "27ae090f-8349-4817-9f00-200e3f51a979",
   "metadata": {},
   "source": [
    "#Assignment Questions 6 "
   ]
  },
  {
   "cell_type": "markdown",
   "id": "b39d6f6b-7104-4606-af16-8ac0f1289629",
   "metadata": {},
   "source": [
    "Question 1\n",
    "\n",
    "A permutation perm of n + 1 integers of all the integers in the range [0, n] can be represented as a string s of length n where:\n",
    "\n",
    "s[i] == 'I' if perm[i] < perm[i + 1], and\n",
    "s[i] == 'D' if perm[i] > perm[i + 1].\n",
    "\n",
    "Given a string s, reconstruct the permutation perm and return it. If there are multiple valid permutations perm, return any of them.\n",
    "Example 1:\n",
    "Input: s = \"IDID\"\n",
    "\n",
    "Output: [0,4,1,3,2]"
   ]
  },
  {
   "cell_type": "code",
   "execution_count": 1,
   "id": "d735b810-36c4-4c98-88dd-39e099257269",
   "metadata": {},
   "outputs": [
    {
     "data": {
      "text/plain": [
       "[0, 4, 1, 3, 2]"
      ]
     },
     "execution_count": 1,
     "metadata": {},
     "output_type": "execute_result"
    }
   ],
   "source": [
    "class Solution:\n",
    "    def diStringMatch(self, S: str) -> list[int]:\n",
    "        mini=0\n",
    "        maxi=len(S)\n",
    "        l=[]\n",
    "        \n",
    "        for i in S:\n",
    "            if i==\"I\":\n",
    "                l.append(mini)\n",
    "                mini+=1\n",
    "            else:\n",
    "                l.append(maxi)\n",
    "                maxi-=1\n",
    "        return l+[maxi]\n",
    "obj=Solution()\n",
    "obj.diStringMatch(\"IDID\")"
   ]
  },
  {
   "cell_type": "markdown",
   "id": "6702b69d-d074-488a-946c-564539873289",
   "metadata": {},
   "source": [
    "Question 2\n",
    "\n",
    "\n",
    "You are given an m x n integer matrix matrix with the following two properties:\n",
    "Each row is sorted in non-decreasing order.\n",
    "The first integer of each row is greater than the last integer of the previous row.\n",
    "Given an integer target, return true if target is in matrix or false otherwise.\n",
    "You must write a solution in O(log(m * n)) time complexity.\n",
    "Example 1:\n",
    "\n",
    "Input: matrix = [[1,3,5,7],[10,11,16,20],[23,30,34,60]]\n",
    "\n",
    "target = 3\n",
    "\n",
    "Output: true"
   ]
  },
  {
   "cell_type": "code",
   "execution_count": 2,
   "id": "cc34537e-ec88-460a-9f0a-1270e7247467",
   "metadata": {},
   "outputs": [
    {
     "data": {
      "text/plain": [
       "True"
      ]
     },
     "execution_count": 2,
     "metadata": {},
     "output_type": "execute_result"
    }
   ],
   "source": [
    "class Solution:\n",
    "    def searchMatrix(self, matrix: list[list[int]], target: int) -> bool:\n",
    "        if not matrix:\n",
    "          return False\n",
    "        m,n = len(matrix), len(matrix[0])\n",
    "        low = 0\n",
    "        high = (m * n) -1\n",
    "        while low <= high:\n",
    "          mid = (low+high)//2\n",
    "          midElement = matrix[mid//n][mid%n]\n",
    "          if midElement == target:\n",
    "            return True\n",
    "          elif midElement > target:\n",
    "            high = mid -1\n",
    "          else:\n",
    "            low = mid + 1\n",
    "        return False\n",
    "obj1=Solution()\n",
    "obj1.searchMatrix([[1,3,5,7],[10,11,16,20],[23,30,34,60]],3)"
   ]
  },
  {
   "cell_type": "markdown",
   "id": "a8447ee2-973b-4234-8f3c-6370159d528e",
   "metadata": {},
   "source": [
    "Question 3\n",
    "\n",
    "Given an array of integers arr, return true if and only if it is a valid mountain array.\n",
    "Recall that arr is a mountain array if and only if:\n",
    "arr.length >= 3\n",
    "\n",
    "There exists some i with 0 < i < arr.length - 1 such that:\n",
    "\n",
    "arr[0] < arr[1] < ... < arr[i - 1] < arr[i]\n",
    "arr[i] > arr[i + 1] > ... > arr[arr.length - 1]\n",
    "\n",
    "Example 1:\n",
    "\n",
    "Input: arr = [2,1]\n",
    "\n",
    "Output:false"
   ]
  },
  {
   "cell_type": "code",
   "execution_count": 3,
   "id": "58b975d7-404d-4ff1-9122-7ff8a3671eec",
   "metadata": {},
   "outputs": [
    {
     "data": {
      "text/plain": [
       "False"
      ]
     },
     "execution_count": 3,
     "metadata": {},
     "output_type": "execute_result"
    }
   ],
   "source": [
    "class Solution(object):\n",
    "    def validMountainArray(self, A):\n",
    "        \"\"\"\n",
    "        :type A: List[int]\n",
    "        :rtype: bool\n",
    "        \"\"\"\n",
    "        if len(A) <= 2: return False\n",
    "        if A[0] > A[1]: return False\n",
    "\n",
    "        increasing = True\n",
    "        for i in range(1, len(A)):\n",
    "            if A[i] > A[i - 1]:\n",
    "                if not increasing: return False\n",
    "            elif A[i] < A[i - 1]:\n",
    "                increasing = False\n",
    "            else:\n",
    "                return False\n",
    "\n",
    "        return not increasing\n",
    "obj=Solution()\n",
    "obj.validMountainArray([1,2])"
   ]
  },
  {
   "cell_type": "markdown",
   "id": "0625e4f9-a947-47f1-a691-ffc0fa3bfd6c",
   "metadata": {},
   "source": [
    "Question 4\n",
    "\n",
    "Given a binary array nums, return the maximum length of a contiguous subarray with an equal number of 0 and 1.\n",
    "\n",
    "Example 1:\n",
    "\n",
    "Input: nums = [0,1]\n",
    "\n",
    "Output: 2\n",
    "\n",
    "Explanation:\n",
    "\n",
    "[0, 1] is the longest contiguous subarray with an equal number of 0 and 1."
   ]
  },
  {
   "cell_type": "code",
   "execution_count": 4,
   "id": "68d9d570-ec30-4041-9040-0d04519df40b",
   "metadata": {},
   "outputs": [
    {
     "data": {
      "text/plain": [
       "2"
      ]
     },
     "execution_count": 4,
     "metadata": {},
     "output_type": "execute_result"
    }
   ],
   "source": [
    "class Solution:\n",
    "    def findMaxLength(self, nums: list[int]) -> int:\n",
    "        ans = 0\n",
    "        prefix = 0\n",
    "        prefixToIndex = {0: -1}\n",
    "\n",
    "        for i, num in enumerate(nums):\n",
    "            prefix += 1 if num else -1\n",
    "            ans = max(ans, i - prefixToIndex.setdefault(prefix, i))\n",
    "\n",
    "        return ans\n",
    "obj=Solution()\n",
    "obj.findMaxLength([0,1])"
   ]
  },
  {
   "cell_type": "markdown",
   "id": "f83c171c-8481-43b4-844f-c859d9f556e8",
   "metadata": {},
   "source": [
    "Question 5\n",
    "\n",
    "The product sum of two equal-length arrays a and b is equal to the sum of a[i] * b[i] for all 0 <= i < a.length (0-indexed).\n",
    "\n",
    "For example, if a = [1,2,3,4] and b = [5,2,3,1], the product sum would be 1*5 + 2*2 + 3*3 + 4*1 = 22.\n",
    "\n",
    "Given two arrays nums1 and nums2 of length n, return the minimum product sum if you are allowed to rearrange the order of the elements in nums1.\n",
    "\n",
    "Example 1:\n",
    "\n",
    "Input: nums1 = [5,3,4,2], \n",
    "\n",
    "nums2 = [4,2,2,5]\n",
    "\n",
    "Output: 40\n",
    "\n",
    "Explanation:\n",
    "\n",
    "We can rearrange nums1 to become [3,5,4,2]. The product sum of [3,5,4,2] and [4,2,2,5] is 3*4 + 5*2 + 4*2 + 2*5 = 40"
   ]
  },
  {
   "cell_type": "code",
   "execution_count": 5,
   "id": "1107689e-cca3-4baa-9942-871235127a1c",
   "metadata": {},
   "outputs": [
    {
     "data": {
      "text/plain": [
       "40"
      ]
     },
     "execution_count": 5,
     "metadata": {},
     "output_type": "execute_result"
    }
   ],
   "source": [
    "class Solution:\n",
    "    def minProductSum(self, nums1: list[int], nums2: list[int]) -> int:\n",
    "        nums1.sort()\n",
    "        nums2.sort()\n",
    "        n, res = len(nums1), 0\n",
    "        for i in range(n):\n",
    "            res += nums1[i] * nums2[n - i - 1]\n",
    "        return res\n",
    "obj=Solution()\n",
    "obj.minProductSum([5,3,4,2],[4,2,2,5])"
   ]
  },
  {
   "cell_type": "markdown",
   "id": "23267540-2717-4e79-926b-518f1329a1ea",
   "metadata": {},
   "source": [
    "Question 6\n",
    "\n",
    "An integer array original is transformed into a doubled array changed by appending twice the value of every element in original, and then randomly shuffling the resulting array.\n",
    "\n",
    "Given an array changed, return original if changed is a doubled array. If changed is not a doubled array, return an empty array. The elements in original may be returned in any order.\n",
    "\n",
    "Example 1:\n",
    "\n",
    "Input: changed = [1,3,4,2,6,8]\n",
    "\n",
    "Output: [1,3,4]\n",
    "\n",
    "Explanation: One possible original array could be [1,3,4]:\n",
    "\n",
    "Twice the value of 1 is 1 * 2 = 2.\n",
    "\n",
    "Twice the value of 3 is 3 * 2 = 6.\n",
    "\n",
    "Twice the value of 4 is 4 * 2 = 8.\n",
    "\n",
    "Other original arrays could be [4,3,1] or [3,1,4]."
   ]
  },
  {
   "cell_type": "code",
   "execution_count": 25,
   "id": "069902f6-0dae-4961-a77d-89eef298d389",
   "metadata": {},
   "outputs": [
    {
     "data": {
      "text/plain": [
       "[1, 3, 4]"
      ]
     },
     "execution_count": 25,
     "metadata": {},
     "output_type": "execute_result"
    }
   ],
   "source": [
    "class Solution:\n",
    "    def findOriginalArray(self, changed: list[int]) -> list[int]:\n",
    "        \n",
    "        ans = []\n",
    "        if(len(changed)%2==1): return ans\n",
    "        \n",
    "        changed.sort()\n",
    "        dic = {}\n",
    "        \n",
    "        for i in changed:\n",
    "            if i in dic.keys():\n",
    "                dic[i]+=1\n",
    "            else:\n",
    "                dic[i] = 1\n",
    "\n",
    "        for i in changed:\n",
    "            if dic[i]==0: continue\n",
    "            if (2*i) not in dic.keys() or dic[2*i]==0: return []\n",
    "            ans.append(i)\n",
    "            dic[i] -=1\n",
    "            dic[2*i] -= 1\n",
    " \n",
    "        return ans\n",
    "obj=Solution()\n",
    "obj.findOriginalArray([1,3,4,2,6,8])"
   ]
  },
  {
   "cell_type": "markdown",
   "id": "e98eadf3-b553-4ce3-a78e-c79530fc9240",
   "metadata": {},
   "source": [
    "Question 7\n",
    "\n",
    "Given a positive integer n, generate an n x n matrix filled with elements from 1 to n2 in spiral order.\n",
    "Example 1:\n",
    "\n",
    "\n",
    "Input: n = 3\n",
    "Output: [[1,2,3],[8,9,4],[7,6,5]]"
   ]
  },
  {
   "cell_type": "code",
   "execution_count": 32,
   "id": "494cea0b-3022-42f2-a715-75f1b93f6edf",
   "metadata": {},
   "outputs": [
    {
     "data": {
      "text/plain": [
       "[[1, 2, 3], [8, 9, 4], [7, 6, 5]]"
      ]
     },
     "execution_count": 32,
     "metadata": {},
     "output_type": "execute_result"
    }
   ],
   "source": [
    "class Solution2:\n",
    "    def generateMatrix(self, n): \n",
    "        \"\"\" \n",
    "        :type n: int\n",
    "        :rtype: List[List[int]]\n",
    "        \"\"\"\n",
    "        res, lo = [[n*n]], n*n \n",
    "        while lo > 1:\n",
    "            lo, hi = lo - len(res), lo\n",
    "            res = [[i for i in range(lo, hi)]] + [list(j) for j in zip(*res[::-1])]\n",
    "        return res \n",
    "obj=Solution2()\n",
    "obj.generateMatrix(3)"
   ]
  },
  {
   "cell_type": "markdown",
   "id": "f5e1bb73-9252-477d-89cc-5181faa90ca8",
   "metadata": {},
   "source": [
    "Question 8\n",
    "Given two sparse matrices mat1 of size m x k and mat2 of size k x n, return the result of mat1 x mat2. You may assume that multiplication is always possible.\n",
    "Example 1:\n",
    "\n",
    "\n",
    "Input: mat1 = [[1,0,0],[-1,0,3]], mat2 = [[7,0,0],[0,0,0],[0,0,1]]\n",
    "Output:\n",
    "[[7,0,0],[-7,0,3]]\n"
   ]
  },
  {
   "cell_type": "code",
   "execution_count": 39,
   "id": "dce6b466-cf44-4c8e-a4f4-db21c31a7169",
   "metadata": {},
   "outputs": [
    {
     "data": {
      "text/plain": [
       "[[7, 0, 0], [-7, 0, 3]]"
      ]
     },
     "execution_count": 39,
     "metadata": {},
     "output_type": "execute_result"
    }
   ],
   "source": [
    "class Solution():\n",
    "    def multiply(self, A, B):\n",
    "        \"\"\"\n",
    "        :type A: List[List[int]]\n",
    "        :type B: List[List[int]]\n",
    "        :rtype: List[List[int]]\n",
    "        \"\"\"\n",
    "        res = [[0 for j in range(len(B[0]))] for i in range(len(A))]\n",
    "\n",
    "        for i, row in enumerate(A):\n",
    "            for k, a in enumerate(row):\n",
    "                if a:\n",
    "                    for j, b in enumerate(B[k]):\n",
    "                        if b:\n",
    "                            res[i][j] += a * b\n",
    "        return res\n",
    "obj=Solution()\n",
    "obj.multiply([[1,0,0],[-1,0,3]], [[7,0,0],[0,0,0],[0,0,1]])"
   ]
  }
 ],
 "metadata": {
  "kernelspec": {
   "display_name": "Python 3 (ipykernel)",
   "language": "python",
   "name": "python3"
  },
  "language_info": {
   "codemirror_mode": {
    "name": "ipython",
    "version": 3
   },
   "file_extension": ".py",
   "mimetype": "text/x-python",
   "name": "python",
   "nbconvert_exporter": "python",
   "pygments_lexer": "ipython3",
   "version": "3.10.6"
  }
 },
 "nbformat": 4,
 "nbformat_minor": 5
}
