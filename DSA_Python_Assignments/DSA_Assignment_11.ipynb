{
 "cells": [
  {
   "cell_type": "markdown",
   "id": "edcb39d2-1dc9-46ac-b5ce-b23e5e3879d0",
   "metadata": {},
   "source": [
    "## Assignment Questions 11"
   ]
  },
  {
   "cell_type": "markdown",
   "id": "207e08e8-8da3-486d-b223-e9ecaf09da1d",
   "metadata": {},
   "source": [
    "💡 **Question 1**\n",
    "\n",
    "Given a non-negative integer `x`, return *the square root of* `x` *rounded down to the nearest integer*. The returned integer should be **non-negative** as well.\n",
    "\n",
    "You **must not use** any built-in exponent function or operator.\n",
    "\n",
    "- For example, do not use `pow(x, 0.5)` in c++ or `x ** 0.5` in python.\n",
    "\n",
    "**Example 1:**\n",
    "\n",
    "```\n",
    "Input: x = 4\n",
    "Output: 2\n",
    "Explanation: The square root of 4 is 2, so we return 2.\n",
    "**Example 2:**\n",
    "\n",
    "```\n",
    "Input: x = 8\n",
    "Output: 2\n",
    "Explanation: The square root of 8 is 2.82842..., and since we round it down to the nearest integer, 2 is returned."
   ]
  },
  {
   "cell_type": "code",
   "execution_count": 1,
   "id": "3b520d46-c80a-41a9-8e5f-b2fdbc5adf11",
   "metadata": {},
   "outputs": [
    {
     "name": "stdout",
     "output_type": "stream",
     "text": [
      "2\n",
      "2\n"
     ]
    }
   ],
   "source": [
    "class solution:\n",
    "    def mySqrt(self, x: int) -> int:\n",
    "        if x == 0:\n",
    "            return 0\n",
    "        for i in range(1,x+1):\n",
    "            if i * i == x:\n",
    "                return i\n",
    "            elif i * i > x:\n",
    "                return (i-1)\n",
    "obj=solution()\n",
    "print(obj.mySqrt(4))\n",
    "print(obj.mySqrt(8))"
   ]
  },
  {
   "cell_type": "markdown",
   "id": "fe39621c-2488-44c4-ad9f-d1d349455e71",
   "metadata": {},
   "source": [
    "💡 **Question 2**\n",
    "\n",
    "A peak element is an element that is strictly greater than its neighbors.\n",
    "\n",
    "Given a **0-indexed** integer array `nums`, find a peak element, and return its index. If the array contains multiple peaks, return the index to **any of the peaks**.\n",
    "\n",
    "You may imagine that `nums[-1] = nums[n] = -∞`. In other words, an element is always considered to be strictly greater than a neighbor that is outside the array.\n",
    "\n",
    "You must write an algorithm that runs in `O(log n)` time.\n",
    "\n",
    "**Example 1:**\n",
    "Input: nums = [1,2,3,1]\n",
    "Output: 2\n",
    "Explanation: 3 is a peak element and your function should return the index number 2.\n",
    "```\n",
    "\n",
    "**Example 2:**\n",
    "\n",
    "```\n",
    "Input: nums = [1,2,1,3,5,6,4]\n",
    "Output: 5\n",
    "Explanation: Your function can return either index number 1 where the peak element is 2, or index number 5 where the peak element is 6.\n",
    "```"
   ]
  },
  {
   "cell_type": "code",
   "execution_count": 2,
   "id": "e0e1dcec-436b-4663-8454-8b86ba6af8c7",
   "metadata": {},
   "outputs": [
    {
     "data": {
      "text/plain": [
       "5"
      ]
     },
     "execution_count": 2,
     "metadata": {},
     "output_type": "execute_result"
    }
   ],
   "source": [
    "class Solution(object):\n",
    "    def findPeakElement(self, nums):\n",
    "        start = 0\n",
    "        end = len(nums) - 1\n",
    "        while start < end:\n",
    "            mid = (start + end) // 2\n",
    "            if mid == 0:\n",
    "                return 0 if nums[0] >= nums[1] else 1\n",
    "            if mid == end:\n",
    "                return end - 1 if nums[end - 1] >= nums[end - 2] else end - 2\n",
    "\n",
    "            if nums[mid] > nums[mid + 1] and nums[mid] > nums[mid - 1]:\n",
    "                return mid\n",
    "            if nums[mid] < nums[mid - 1]:\n",
    "                end = mid - 1\n",
    "            else:\n",
    "                start = mid + 1\n",
    "        return start\n",
    "nums = [1,2,1,3,5,6,4]\n",
    "obj=Solution()\n",
    "obj.findPeakElement(nums)"
   ]
  },
  {
   "cell_type": "markdown",
   "id": "ffc336a3-e563-4bb3-ba63-ea5c97760f62",
   "metadata": {},
   "source": [
    "💡 **Question 3**\n",
    "\n",
    "****\n",
    "\n",
    "Given an array `nums` containing `n` distinct numbers in the range `[0, n]`, return *the only number in the range that is missing from the array.*\n",
    "\n",
    "**Example 1:**\n",
    "\n",
    "```\n",
    "Input: nums = [3,0,1]\n",
    "Output: 2\n",
    "Explanation: n = 3 since there are 3 numbers, so all numbers are in the range [0,3]. 2 is the missing number in the range since it does not appear in nums.\n",
    "\n",
    "```\n",
    "\n",
    "**Example 2:**\n",
    "\n",
    "```\n",
    "Input: nums = [0,1]\n",
    "Output: 2\n",
    "Explanation: n = 2 since there are 2 numbers, so all numbers are in the range [0,2]. 2 is the missing number in the range since it does not appear in nums.\n",
    "\n",
    "```\n",
    "\n",
    "**Example 3:**\n",
    "\n",
    "```\n",
    "Input: nums = [9,6,4,2,3,5,7,0,1]\n",
    "Output: 8\n",
    "Explanation: n = 9 since there are 9 numbers, so all numbers are in the range [0,9]. 8 is the missing number in the range since it does not appear in nums."
   ]
  },
  {
   "cell_type": "code",
   "execution_count": 3,
   "id": "cbe9de9a-c0e2-4908-b323-c0dcbd83d09e",
   "metadata": {},
   "outputs": [
    {
     "name": "stdout",
     "output_type": "stream",
     "text": [
      "2\n",
      "8\n"
     ]
    }
   ],
   "source": [
    "class Solution:\n",
    "    def missingNumber(self, nums: list[int]) -> int:\n",
    "        n = len(nums) + 1\n",
    "        total = (n * (n-1)) // 2\n",
    "        \n",
    "        for num in nums:\n",
    "            total -= num\n",
    "        \n",
    "        return total\n",
    "nums = [3,0,1]\n",
    "num=[9,6,4,2,3,5,7,0,1]\n",
    "obj=Solution()\n",
    "print(obj.missingNumber(nums))\n",
    "print(obj.missingNumber(num))"
   ]
  },
  {
   "cell_type": "markdown",
   "id": "7f91dbe5-3cdc-4939-8e7b-6efeb72f0756",
   "metadata": {},
   "source": [
    "💡 **Question 4**\n",
    "\n",
    "Given an array of integers `nums` containing `n + 1` integers where each integer is in the range `[1, n]` inclusive.\n",
    "\n",
    "There is only **one repeated number** in `nums`, return *this repeated number*.\n",
    "\n",
    "You must solve the problem **without** modifying the array `nums` and uses only constant extra space.\n",
    "\n",
    "**Example 1:**\n",
    "\n",
    "```\n",
    "Input: nums = [1,3,4,2,2]\n",
    "Output: 2\n",
    "**Example 2:**\n",
    "\n",
    "```\n",
    "Input: nums = [3,1,3,4,2]\n",
    "Output: 3"
   ]
  },
  {
   "cell_type": "code",
   "execution_count": 16,
   "id": "df0325ee-9533-4343-945c-83e564ed236b",
   "metadata": {},
   "outputs": [
    {
     "name": "stdout",
     "output_type": "stream",
     "text": [
      "2\n",
      "3\n"
     ]
    }
   ],
   "source": [
    "class Solution:\n",
    "    def findDuplicate(self, nums: list[int]) -> int:\n",
    "        for i in nums:\n",
    "            nums[abs(i)-1] *= -1\n",
    "            if nums[abs(i)-1] > 0: return abs(i)\n",
    "nums = [1,3,4,2,2]\n",
    "num = [3,1,3,4,2]\n",
    "obj=Solution()\n",
    "print(obj.findDuplicate(nums))\n",
    "print(obj.findDuplicate(num))"
   ]
  },
  {
   "cell_type": "markdown",
   "id": "6b37d03c-aed9-4016-ba36-705aaa61ecb8",
   "metadata": {},
   "source": [
    "💡 **Question 5**\n",
    "\n",
    "Given two integer arrays `nums1` and `nums2`, return *an array of their intersection*. Each element in the result must be **unique** and you may return the result in **any order**.\n",
    "\n",
    "**Example 1:**\n",
    "\n",
    "```\n",
    "Input: nums1 = [1,2,2,1], nums2 = [2,2]\n",
    "Output: [2]\n",
    "\n",
    "```\n",
    "\n",
    "**Example 2:**\n",
    "\n",
    "```\n",
    "Input: nums1 = [4,9,5], nums2 = [9,4,9,8,4]\n",
    "Output: [9,4]\n",
    "Explanation: [4,9] is also accepted."
   ]
  },
  {
   "cell_type": "code",
   "execution_count": 19,
   "id": "58b8384a-d142-4775-9a0b-f40fcf950a2c",
   "metadata": {},
   "outputs": [
    {
     "name": "stdout",
     "output_type": "stream",
     "text": [
      "[2]\n",
      "[9, 4]\n"
     ]
    }
   ],
   "source": [
    "class Solution:\n",
    "    def intersection(self, nums1: list[int], nums2: list[int]) -> list[int]:\n",
    "        # Convert nums1 to set\n",
    "        nums1_set = set(nums1)\n",
    "        # Create a set to store the intersection\n",
    "        intersection_set = set()\n",
    "        # Loop through nums2 and check if each element is in nums1_set\n",
    "        for num in nums2:\n",
    "            if num in nums1_set:\n",
    "                intersection_set.add(num)\n",
    "        # Convert the intersection set back to a list and return\n",
    "        return list(intersection_set)\n",
    "nums1 = [1,2,2,1]\n",
    "nums2 = [2,2]\n",
    "num1 = [4,9,5]\n",
    "num2 = [9,4,9,8,4]\n",
    "obj=Solution()\n",
    "print(obj.intersection(nums1,nums2))\n",
    "print(obj.intersection(num1,num2))"
   ]
  },
  {
   "cell_type": "markdown",
   "id": "3db33044-1174-444e-bb21-4f203ca4e38b",
   "metadata": {},
   "source": [
    "💡 **Question 6**\n",
    "\n",
    "Suppose an array of length `n` sorted in ascending order is **rotated** between `1` and `n` times. For example, the array `nums = [0,1,2,4,5,6,7]` might become:\n",
    "\n",
    "- `[4,5,6,7,0,1,2]` if it was rotated `4` times.\n",
    "- `[0,1,2,4,5,6,7]` if it was rotated `7` times.\n",
    "\n",
    "Notice that **rotating** an array `[a[0], a[1], a[2], ..., a[n-1]]` 1 time results in the array `[a[n-1], a[0], a[1], a[2], ..., a[n-2]]`.\n",
    "\n",
    "Given the sorted rotated array `nums` of **unique** elements, return *the minimum element of this array*.\n",
    "\n",
    "You must write an algorithm that runs in `O(log n) time.`\n",
    "\n",
    "**Example 1:**\n",
    "\n",
    "```\n",
    "Input: nums = [3,4,5,1,2]\n",
    "Output: 1\n",
    "Explanation: The original array was [1,2,3,4,5] rotated 3 times.\n",
    "**Example 2:**\n",
    "\n",
    "```\n",
    "Input: nums = [4,5,6,7,0,1,2]\n",
    "Output: 0\n",
    "Explanation: The original array was [0,1,2,4,5,6,7] and it was rotated 4 times.\n",
    "\n",
    "```\n",
    "\n",
    "**Example 3:**\n",
    "\n",
    "```\n",
    "Input: nums = [11,13,15,17]\n",
    "Output: 11\n",
    "Explanation: The original array was [11,13,15,17] and it was rotated 4 times."
   ]
  },
  {
   "cell_type": "code",
   "execution_count": 24,
   "id": "e6dfe0e5-edf4-46e3-8650-5350d525c8b8",
   "metadata": {},
   "outputs": [
    {
     "name": "stdout",
     "output_type": "stream",
     "text": [
      "0\n",
      "11\n"
     ]
    }
   ],
   "source": [
    "class Solution:\n",
    "    def findMin(self, nums: list[int]) -> int:\n",
    "        low,high=0,len(nums)-1\n",
    "        n=len(nums)\n",
    "        while low<=high:\n",
    "            mid=low+(high-low)//2\n",
    "            if nums[mid]<=nums[(mid-1+n)%n] and nums[mid]<=nums[(mid+1)%n]:\n",
    "                return nums[mid]\n",
    "            if nums[mid]>=nums[low]:\n",
    "                if nums[high]>=nums[mid]:\n",
    "                    high=mid-1\n",
    "                else:\n",
    "                    low=mid+1\n",
    "            else:\n",
    "                high=mid-1\n",
    "\n",
    "        return -1\n",
    "\n",
    "nums = [4,5,6,7,0,1,2]\n",
    "num = [11,13,15,17]\n",
    "obj=Solution()\n",
    "print(obj.findMin(nums))\n",
    "print(obj.findMin(num))"
   ]
  },
  {
   "cell_type": "markdown",
   "id": "de05cf3d-9a9b-4bda-ba8a-51731be88e3c",
   "metadata": {},
   "source": [
    "💡 **Question 7**\n",
    "\n",
    "Given an array of integers `nums` sorted in non-decreasing order, find the starting and ending position of a given `target` value.\n",
    "\n",
    "If `target` is not found in the array, return `[-1, -1]`.\n",
    "\n",
    "You must write an algorithm with `O(log n)` runtime complexity.\n",
    "\n",
    "**Example 1:**\n",
    "\n",
    "```\n",
    "Input: nums = [5,7,7,8,8,10], target = 8\n",
    "Output: [3,4]\n",
    "\n",
    "```\n",
    "\n",
    "**Example 2:**\n",
    "\n",
    "```\n",
    "Input: nums = [5,7,7,8,8,10], target = 6\n",
    "Output: [-1,-1]\n",
    "\n",
    "```\n",
    "\n",
    "**Example 3:**\n",
    "\n",
    "```\n",
    "Input: nums = [], target = 0\n",
    "Output: [-1,-1]"
   ]
  },
  {
   "cell_type": "code",
   "execution_count": 28,
   "id": "452072bc-d2ee-406f-a715-0955982544f0",
   "metadata": {},
   "outputs": [
    {
     "name": "stdout",
     "output_type": "stream",
     "text": [
      "[3, 4]\n",
      "[-1, -1]\n"
     ]
    }
   ],
   "source": [
    "class Solution:\n",
    "    def searchRange(self, nums: list[int], target: int) -> list[int]:\n",
    "        x = self.first(nums,target)\n",
    "        y = self.last(nums,target)\n",
    "        \n",
    "        return [x,y]\n",
    "        \n",
    "        \n",
    "    def first(self,nums,target):\n",
    "        low = 0\n",
    "        high = len(nums)-1\n",
    "        \n",
    "        while(low <= high):\n",
    "            mid = (low+high)//2\n",
    "            if nums[mid] == target and (target > nums[mid-1] or mid == 0):\n",
    "                return mid\n",
    "            \n",
    "            elif nums[mid] < target:\n",
    "                low = mid+1\n",
    "                \n",
    "            \n",
    "            else:\n",
    "                high = mid-1\n",
    "                \n",
    "        return -1        \n",
    "                \n",
    "    def last(self,nums,target):\n",
    "        low = 0\n",
    "        high = len(nums)-1\n",
    "        \n",
    "        while(low <= high):\n",
    "            mid = (low+high)//2\n",
    "            \n",
    "            if ((nums[mid] == target) and (mid == len(nums)-1 or nums[mid+1] > target)):\n",
    "                return mid\n",
    "            \n",
    "            elif nums[mid] > target:\n",
    "                high = mid-1\n",
    "                \n",
    "            else:\n",
    "                low = mid + 1\n",
    "                \n",
    "        return -1\n",
    "nums = [5,7,7,8,8,10]\n",
    "target1 =8\n",
    "num = [5,7,7,8,8,10]\n",
    "target=6\n",
    "obj=Solution()\n",
    "print(obj.searchRange(nums,target1))\n",
    "print(obj.searchRange(num,target))"
   ]
  },
  {
   "cell_type": "code",
   "execution_count": null,
   "id": "7be90a16-70df-468c-9c2b-2c99bdc5df4b",
   "metadata": {},
   "outputs": [],
   "source": [
    "💡 **Question 8**\n",
    "\n",
    "Given two integer arrays `nums1` and `nums2`, return *an array of their intersection*. Each element in the result must appear as many times as it shows in both arrays and you may return the result in **any order**.\n",
    "\n",
    "**Example 1:**\n",
    "\n",
    "```\n",
    "Input: nums1 = [1,2,2,1], nums2 = [2,2]\n",
    "Output: [2,2]\n",
    "\n",
    "```\n",
    "\n",
    "**Example 2:**\n",
    "\n",
    "```\n",
    "Input: nums1 = [4,9,5], nums2 = [9,4,9,8,4]\n",
    "Output: [4,9]\n",
    "Explanation: [9,4] is also accepted."
   ]
  },
  {
   "cell_type": "code",
   "execution_count": 30,
   "id": "662770a8-2a7f-4b39-8a56-2135ee6b0233",
   "metadata": {},
   "outputs": [
    {
     "name": "stdout",
     "output_type": "stream",
     "text": [
      "[2]\n",
      "[9, 4]\n"
     ]
    }
   ],
   "source": [
    "class Solution:\n",
    "    def intersection(self, nums1: list[int], nums2: list[int]) -> list[int]:\n",
    "        # Convert nums1 to set\n",
    "        nums1_set = set(nums1)\n",
    "        # Create a set to store the intersection\n",
    "        intersection_set = set()\n",
    "        # Loop through nums2 and check if each element is in nums1_set\n",
    "        for num in nums2:\n",
    "            if num in nums1_set:\n",
    "                intersection_set.add(num)\n",
    "        # Convert the intersection set back to a list and return\n",
    "        return list(intersection_set)\n",
    "nums1 = [1,2,2,1]\n",
    "nums2 = [2,2]\n",
    "num1 = [4,9,5]\n",
    "num2 = [9,4,9,8,4]\n",
    "obj=Solution()\n",
    "print(obj.intersection(nums1,nums2))\n",
    "print(obj.intersection(num1,num2))"
   ]
  }
 ],
 "metadata": {
  "kernelspec": {
   "display_name": "Python 3 (ipykernel)",
   "language": "python",
   "name": "python3"
  },
  "language_info": {
   "codemirror_mode": {
    "name": "ipython",
    "version": 3
   },
   "file_extension": ".py",
   "mimetype": "text/x-python",
   "name": "python",
   "nbconvert_exporter": "python",
   "pygments_lexer": "ipython3",
   "version": "3.10.6"
  }
 },
 "nbformat": 4,
 "nbformat_minor": 5
}
