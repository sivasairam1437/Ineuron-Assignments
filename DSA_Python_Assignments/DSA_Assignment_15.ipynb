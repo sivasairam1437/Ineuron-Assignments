{
 "cells": [
  {
   "cell_type": "markdown",
   "id": "e6bcf5af-d35c-4daf-87cb-a7b3451bb956",
   "metadata": {},
   "source": [
    "# Assignment Questions 15"
   ]
  },
  {
   "cell_type": "markdown",
   "id": "54754a51-3c8c-4086-bf6e-f3c44faa5f5e",
   "metadata": {},
   "source": [
    "💡 **Question 1**\n",
    "\n",
    "Given an array **arr[ ]** of size **N** having elements, the task is to find the next greater element for each element of the array in order of their appearance in the array.Next greater element of an element in the array is the nearest element on the right which is greater than the current element.If there does not exist next greater of current element, then next greater element for current element is -1. For example, next greater of the last element is always -1.\n",
    "\n",
    "**Example 1:**\n",
    "\n",
    "```\n",
    "Input:\n",
    "N = 4, arr[] = [1 3 2 4]\n",
    "Output:\n",
    "3 4 4 -1\n",
    "Explanation:\n",
    "In the array, the next larger element\n",
    "to 1 is 3 , 3 is 4 , 2 is 4 and for 4 ?\n",
    "since it doesn't exist, it is -1.\n",
    "\n",
    "```\n",
    "\n",
    "**Example 2:**\n",
    "\n",
    "```\n",
    "Input:\n",
    "N = 5, arr[] [6 8 0 1 3]\n",
    "Output:\n",
    "8 -1 1 3 -1\n",
    "Explanation:\n",
    "In the array, the next larger element to\n",
    "6 is 8, for 8 there is no larger elements\n",
    "hence it is -1, for 0 it is 1 , for 1 it\n",
    "is 3 and then for 3 there is no larger\n",
    "element on right and hence -1."
   ]
  },
  {
   "cell_type": "code",
   "execution_count": 4,
   "id": "1041d976-301b-41e0-9483-485428f2d889",
   "metadata": {},
   "outputs": [
    {
     "data": {
      "text/plain": [
       "[3, 4, 4, -1]"
      ]
     },
     "execution_count": 4,
     "metadata": {},
     "output_type": "execute_result"
    }
   ],
   "source": [
    "class Solution:\n",
    "    def nextLargerElement(self, arr, n):\n",
    "        # code here\n",
    "        s = []\n",
    "        for i in range(len(arr)):\n",
    "            while s and s[-1].get(\"value\") < arr[i]:\n",
    "                d = s.pop()\n",
    "                arr[d.get(\"ind\")] = arr[i]\n",
    "            s.append({\"value\": arr[i], \"ind\": i})\n",
    "        while s:\n",
    "            d = s.pop()\n",
    "            arr[d.get(\"ind\")] = -1\n",
    "        return arr\n",
    " \n",
    " \n",
    "obj=Solution()\n",
    "obj.nextLargerElement([1,3, 2, 4], 4)"
   ]
  },
  {
   "cell_type": "markdown",
   "id": "14e7bd4e-2c5f-4d93-9aed-99d64e8d1aa2",
   "metadata": {},
   "source": [
    "💡 **Question 2**\n",
    "\n",
    "Given an array **a** of integers of length **n**, find the nearest smaller number for every element such that the smaller element is on left side.If no small element present on the left print -1.\n",
    "\n",
    "**Example 1:**\n",
    "\n",
    "```\n",
    "Input: n = 3\n",
    "a = {1, 6, 2}\n",
    "Output: -1 1 1\n",
    "Explaination: There is no number at the\n",
    "left of 1. Smaller number than 6 and 2 is 1.\n",
    "```\n",
    "\n",
    "**Example 2:**\n",
    "\n",
    "```\n",
    "Input: n = 6\n",
    "a = {1, 5, 0, 3, 4, 5}\n",
    "Output: -1 1 -1 0 3 4\n",
    "Explaination: Upto 3 it is easy to see\n",
    "the smaller numbers. But for 4 the smaller\n",
    "numbers are 1, 0 and 3. But among them 3\n",
    "is closest. Similary for 5 it is 4.\n",
    "```"
   ]
  },
  {
   "cell_type": "code",
   "execution_count": 9,
   "id": "610bfbb4-4a0c-4f29-be57-a4755902040c",
   "metadata": {},
   "outputs": [
    {
     "name": "stdout",
     "output_type": "stream",
     "text": [
      "[-1, 1, 1]\n"
     ]
    }
   ],
   "source": [
    "def nearest_smaller_to_left(arr,n):\n",
    "    result = []\n",
    "    for i in range(0, n):\n",
    "        for j in range(i-1, -1, -1):\n",
    "            if arr[i] > arr[j]:\n",
    "                result.append(arr[j])\n",
    "                break\n",
    "        else:\n",
    "            result.append(-1)\n",
    "\n",
    "    return result\n",
    "\n",
    "arr = [1, 6, 2]\n",
    "n=len(arr)\n",
    "print(nearest_smaller_to_left(arr,n))"
   ]
  },
  {
   "cell_type": "markdown",
   "id": "9141f60c-debc-4a5b-bcad-98212a92cc5a",
   "metadata": {},
   "source": [
    "💡 **Question 3**\n",
    "\n",
    "Implement a Stack using two queues **q1** and **q2**.\n",
    "\n",
    "**Example 1:**\n",
    "\n",
    "```\n",
    "Input:\n",
    "push(2)\n",
    "push(3)\n",
    "pop()\n",
    "push(4)\n",
    "pop()\n",
    "Output:3 4\n",
    "Explanation:\n",
    "push(2) the stack will be {2}\n",
    "push(3) the stack will be {2 3}\n",
    "pop()   poped element will be 3 the\n",
    "        stack will be {2}\n",
    "push(4) the stack will be {2 4}\n",
    "pop()   poped element will be 4\n",
    "\n",
    "```\n",
    "\n",
    "**Example 2:**\n",
    "\n",
    "```\n",
    "Input:\n",
    "push(2)\n",
    "pop()\n",
    "pop()\n",
    "push(3)\n",
    "Output:2 -1\n",
    "```"
   ]
  },
  {
   "cell_type": "code",
   "execution_count": 12,
   "id": "fed23460-67bc-41b9-8661-c755321123a4",
   "metadata": {},
   "outputs": [
    {
     "data": {
      "text/plain": [
       "4"
      ]
     },
     "execution_count": 12,
     "metadata": {},
     "output_type": "execute_result"
    }
   ],
   "source": [
    "class MyStack:\n",
    "\n",
    "    def __init__(self):\n",
    "        self.container=[]\n",
    "        \n",
    "\n",
    "    def push(self, x: int) -> None:\n",
    "        self.container.append(x)\n",
    "    def pop(self) -> int:\n",
    "        return self.container.pop()\n",
    "\n",
    "    def top(self) -> int:\n",
    "        return self.container[-1]\n",
    "\n",
    "    def empty(self) -> bool:\n",
    "        return len(self.container)==0\n",
    "\n",
    "\n",
    "# Your MyStack object will be instantiated and called as such:\n",
    "obj = MyStack()\n",
    "obj.push(2)\n",
    "obj.push(3)\n",
    "obj.pop()\n",
    "obj.push(4)\n",
    "obj.pop()\n",
    "# param_2 = obj.pop()\n",
    "# param_3 = obj.top()\n",
    "# obj.push(4)\n",
    "# param_4 = obj.empty()"
   ]
  },
  {
   "cell_type": "markdown",
   "id": "4b63f38b-b512-4011-b143-8cb4798d767c",
   "metadata": {},
   "source": [
    "💡 **Question 4**\n",
    "\n",
    "You are given a stack **St**. You have to reverse the stack using recursion.\n",
    "\n",
    "**Example 1:**\n",
    "\n",
    "```\n",
    "Input:St = {3,2,1,7,6}\n",
    "Output:{6,7,1,2,3}\n",
    "```\n",
    "\n",
    "**Example 2:**\n",
    "\n",
    "```\n",
    "Input:St = {4,3,9,6}\n",
    "Output:{6,9,3,4}\n",
    "```"
   ]
  },
  {
   "cell_type": "code",
   "execution_count": 15,
   "id": "2aa63bf5-486d-4b93-bdb5-546da7ec3c11",
   "metadata": {},
   "outputs": [
    {
     "data": {
      "text/plain": [
       "[6, 7, 1, 2, 3]"
      ]
     },
     "execution_count": 15,
     "metadata": {},
     "output_type": "execute_result"
    }
   ],
   "source": [
    "def reverse(orig, reversel=None):\n",
    "    if not reversel:\n",
    "        reversel = []\n",
    "    reversel.append(orig.pop())\n",
    "    if orig:\n",
    "        reverse(orig, reversel)\n",
    "    return reversel\n",
    "\n",
    "stack = [3,2,1,7,6]\n",
    "reverse(stack)"
   ]
  },
  {
   "cell_type": "markdown",
   "id": "0022ffba-a3a1-4413-b31d-5454aa5f8b49",
   "metadata": {},
   "source": [
    "💡 **Question 5**\n",
    "\n",
    "You are given a string **S**, the task is to reverse the string using stack.\n",
    "\n",
    "**Example 1:**\n",
    "\n",
    "```\n",
    "Input: S=\"GeeksforGeeks\"\n",
    "Output: skeeGrofskeeG\n",
    "```"
   ]
  },
  {
   "cell_type": "code",
   "execution_count": 20,
   "id": "7f8ff134-fb0e-4035-80f5-bd7d045fb273",
   "metadata": {},
   "outputs": [
    {
     "data": {
      "text/plain": [
       "'skeeGrofskeeG'"
      ]
     },
     "execution_count": 20,
     "metadata": {},
     "output_type": "execute_result"
    }
   ],
   "source": [
    "def reverse_string_using_stack(string):\n",
    "    # convert string to list of characters\n",
    "    stack = list(string)\n",
    "    # initialize empty reverse string\n",
    "    reverse = \"\"\n",
    "    #   loop until stack is empty\n",
    "    while(len(stack)>0):\n",
    "        ch=stack.pop()\n",
    "        #   removes character from the end of stack\n",
    "        #   append to reverse string\n",
    "        reverse += ch\n",
    "    return reverse\n",
    "\n",
    "reverse_string_using_stack(\"GeeksforGeeks\")"
   ]
  },
  {
   "cell_type": "markdown",
   "id": "d73de7d7-1720-4069-9955-9776a9aaaee0",
   "metadata": {},
   "source": [
    "💡 **Question 6**\n",
    "\n",
    "Given string **S** representing a postfix expression, the task is to evaluate the expression and find the final value. Operators will only include the basic arithmetic operators like ***, /, + and -**.\n",
    "\n",
    "**Example 1:**\n",
    "\n",
    "```\n",
    "Input: S = \"231*+9-\"\n",
    "Output: -4\n",
    "Explanation:\n",
    "After solving the given expression,\n",
    "we have -4 as result.\n",
    "\n",
    "```\n",
    "\n",
    "**Example 2:**\n",
    "\n",
    "```\n",
    "Input: S = \"123+*8-\"\n",
    "Output: -3\n",
    "Explanation:\n",
    "After solving the given postfix\n",
    "expression, we have -3 as result.\n",
    "```"
   ]
  },
  {
   "cell_type": "code",
   "execution_count": 23,
   "id": "e6423225-14fa-4809-bca6-f38974ce853e",
   "metadata": {},
   "outputs": [
    {
     "name": "stdout",
     "output_type": "stream",
     "text": [
      "-4\n"
     ]
    }
   ],
   "source": [
    "from collections import deque\n",
    "\n",
    "def evalPostfix(exp):\n",
    " \n",
    "    # base case\n",
    "    if not exp:\n",
    "        exit(-1)\n",
    " \n",
    "    # create an empty stack\n",
    "    stack = deque()\n",
    " \n",
    "    # traverse the given expression\n",
    "    for ch in exp:\n",
    " \n",
    "        # if the current is an operand, push it into the stack\n",
    "        if ch.isdigit():\n",
    "            stack.append(int(ch))\n",
    " \n",
    "        # if the current is an operator\n",
    "        else:\n",
    "            # remove the top two elements from the stack\n",
    "            x = stack.pop()\n",
    "            y = stack.pop()\n",
    " \n",
    "            # evaluate the expression 'x op y', and push the\n",
    "            # result back to the stack\n",
    "            if ch == '+':\n",
    "                stack.append(y + x)\n",
    "            elif ch == '-':\n",
    "                stack.append(y - x)\n",
    "            elif ch == '*':\n",
    "                stack.append(y * x)\n",
    "            elif ch == '/':\n",
    "                stack.append(y // x)\n",
    " \n",
    "    # At this point, the stack is left with only one element, i.e.,\n",
    "    # expression result\n",
    "    return stack.pop()\n",
    " \n",
    " \n",
    "if __name__ == '__main__':\n",
    " \n",
    "    exp = \"231*+9-\"\n",
    "    print(evalPostfix(exp))\n"
   ]
  },
  {
   "cell_type": "markdown",
   "id": "23e1e5ca-a8a1-476d-82a9-3987a7e33f30",
   "metadata": {},
   "source": [
    "💡 **Question 7**\n",
    "\n",
    "Design a stack that supports push, pop, top, and retrieving the minimum element in constant time.\n",
    "\n",
    "Implement the `MinStack` class:\n",
    "\n",
    "- `MinStack()` initializes the stack object.\n",
    "- `void push(int val)` pushes the element `val` onto the stack.\n",
    "- `void pop()` removes the element on the top of the stack.\n",
    "- `int top()` gets the top element of the stack.\n",
    "- `int getMin()` retrieves the minimum element in the stack.\n",
    "\n",
    "You must implement a solution with `O(1)` time complexity for each function.\n",
    "\n",
    "**Example 1:**\n",
    "\n",
    "```\n",
    "Input\n",
    "[\"MinStack\",\"push\",\"push\",\"push\",\"getMin\",\"pop\",\"top\",\"getMin\"]\n",
    "[[],[-2],[0],[-3],[],[],[],[]]\n",
    "\n",
    "Output\n",
    "[null,null,null,null,-3,null,0,-2]\n",
    "\n",
    "Explanation\n",
    "MinStack minStack = new MinStack();\n",
    "minStack.push(-2);\n",
    "minStack.push(0);\n",
    "minStack.push(-3);\n",
    "minStack.getMin(); // return -3\n",
    "minStack.pop();\n",
    "minStack.top();    // return 0\n",
    "minStack.getMin(); // return -2"
   ]
  },
  {
   "cell_type": "code",
   "execution_count": 35,
   "id": "8b556c39-710a-432e-ad82-2c78267b36b9",
   "metadata": {},
   "outputs": [
    {
     "name": "stdout",
     "output_type": "stream",
     "text": [
      "None\n",
      "None\n",
      "None\n",
      "-2\n",
      "None\n",
      "0\n",
      "-2\n"
     ]
    }
   ],
   "source": [
    "class MinStack:\n",
    "\n",
    "    def __init__(self):\n",
    "       \n",
    "        self.stack = []\n",
    "        self.currentMin = float('inf')\n",
    "        self.prevMins = []\n",
    "        \n",
    "    def push(self, x: int) -> None:\n",
    "        self.stack.append(x)\n",
    "        if x <= self.currentMin:\n",
    "            self.prevMins.append(self.currentMin)\n",
    "            self.currentMin = x\n",
    "        \n",
    "\n",
    "    def pop(self) -> None:\n",
    "        if self.stack[-1] == self.currentMin:\n",
    "            self.currentMin = self.prevMins.pop()\n",
    "        self.stack.pop()\n",
    "\n",
    "    def top(self) -> int:\n",
    "        return self.stack[-1]\n",
    "\n",
    "    def getMin(self) -> int:\n",
    "        return self.currentMin\n",
    "l=[\"push\",\"push\",\"push\",\"getMin\",\"pop\",\"top\",\"getMin\"]\n",
    "k=[[-2],[0],[-3],[],[],[],[]]\n",
    "\n",
    "obj = MinStack()\n",
    "print(obj.push(-2))\n",
    "print(obj.push(0))\n",
    "print(obj.push(3))\n",
    "print(obj.getMin())\n",
    "print(obj.pop())\n",
    "print(obj.top())\n",
    "print(obj.getMin())"
   ]
  },
  {
   "cell_type": "markdown",
   "id": "89d52c75-7e42-477a-bfcb-8175dc2f4770",
   "metadata": {},
   "source": [
    "💡 **Question 8**\n",
    "\n",
    "Given `n` non-negative integers representing an elevation map where the width of each bar is `1`, compute how much water it can trap after raining.\n",
    "\n",
    "**Example 1:**\n",
    "\n",
    "!https://assets.leetcode.com/uploads/2018/10/22/rainwatertrap.png\n",
    "\n",
    "```\n",
    "Input: height = [0,1,0,2,1,0,1,3,2,1,2,1]\n",
    "Output: 6\n",
    "Explanation: The above elevation map (black section) is represented by array [0,1,0,2,1,0,1,3,2,1,2,1]. In this case, 6 units of rain water (blue section) are being trapped.\n",
    "\n",
    "```\n",
    "\n",
    "**Example 2:**\n",
    "\n",
    "```\n",
    "Input: height = [4,2,0,3,2,5]\n",
    "Output: 9\n",
    "```\n",
    "\n",
    "</aside>"
   ]
  },
  {
   "cell_type": "code",
   "execution_count": 37,
   "id": "f3ab9378-0093-4b2d-b426-e765fc77128c",
   "metadata": {},
   "outputs": [
    {
     "data": {
      "text/plain": [
       "9"
      ]
     },
     "execution_count": 37,
     "metadata": {},
     "output_type": "execute_result"
    }
   ],
   "source": [
    "class Solution:\n",
    "    def trap(self, height: list[int]) -> int:\n",
    "        sum = 0\n",
    "        n = len(height)\n",
    "        back = [0] * n\n",
    "        back[n - 1] = height[n - 1]\n",
    "        for i in reversed(range(n-1)):\n",
    "            back[i] = max(back[i+1],height[i])\n",
    "        leftmax = height[0]\n",
    "        for i in range(1, n-1):\n",
    "            leftmax = max(leftmax, height[i])\n",
    "            diff = min(leftmax, back[i]) - height[i]\n",
    "            sum += diff\n",
    "        return sum\n",
    "obj=Solution()\n",
    "obj.trap([4,2,0,3,2,5])"
   ]
  }
 ],
 "metadata": {
  "kernelspec": {
   "display_name": "Python 3 (ipykernel)",
   "language": "python",
   "name": "python3"
  },
  "language_info": {
   "codemirror_mode": {
    "name": "ipython",
    "version": 3
   },
   "file_extension": ".py",
   "mimetype": "text/x-python",
   "name": "python",
   "nbconvert_exporter": "python",
   "pygments_lexer": "ipython3",
   "version": "3.10.6"
  }
 },
 "nbformat": 4,
 "nbformat_minor": 5
}
