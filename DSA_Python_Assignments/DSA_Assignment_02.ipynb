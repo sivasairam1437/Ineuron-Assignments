{
 "cells": [
  {
   "cell_type": "markdown",
   "id": "4e0ee5a8-d924-4d49-b37e-42ee23a0f012",
   "metadata": {},
   "source": [
    "**Question 1**\n",
    "Given an integer array nums of 2n integers, group these integers into n pairs (a1, b1), (a2, b2),..., (an, bn) such that the sum of min(ai, bi) for all i is maximized. Return the maximized sum.\n",
    "\n",
    "**Example 1:**\n",
    "Input: nums = [1,4,3,2]\n",
    "Output: 4\n",
    "\n",
    "**Explanation:** All possible pairings (ignoring the ordering of elements) are:\n",
    "\n",
    "1. (1, 4), (2, 3) -> min(1, 4) + min(2, 3) = 1 + 2 = 3\n",
    "2. (1, 3), (2, 4) -> min(1, 3) + min(2, 4) = 1 + 2 = 3\n",
    "3. (1, 2), (3, 4) -> min(1, 2) + min(3, 4) = 1 + 3 = 4\n",
    "So the maximum possible sum is 4\n"
   ]
  },
  {
   "cell_type": "code",
   "execution_count": 1,
   "id": "d57b908d-f6d8-410d-8807-a7d67d12bcd8",
   "metadata": {},
   "outputs": [
    {
     "name": "stdout",
     "output_type": "stream",
     "text": [
      "4\n"
     ]
    }
   ],
   "source": [
    "class Solution:\n",
    "    def arrayPairSum(self, nums: list[int]) -> int:\n",
    "        nums.sort()\n",
    "        r=0\n",
    "        for i in range(0,len(nums),2):\n",
    "            r+=min(nums[i],nums[i+1])\n",
    "        return(r)\n",
    "nums = [1,4,3,2]\n",
    "obj = Solution()\n",
    "print(obj.arrayPairSum(nums))"
   ]
  },
  {
   "cell_type": "markdown",
   "id": "933d137e-dd30-4cf5-bc9e-328a56a89cc3",
   "metadata": {},
   "source": [
    "💡 **Question 2**\n",
    "Alice has n candies, where the ith candy is of type candyType[i]. Alice noticed that she started to gain weight, so she visited a doctor. \n",
    "\n",
    "The doctor advised Alice to only eat n / 2 of the candies she has (n is always even). Alice likes her candies very much, and she wants to eat the maximum number of different types of candies while still following the doctor's advice. \n",
    "\n",
    "Given the integer array candyType of length n, return the maximum number of different types of candies she can eat if she only eats n / 2 of them.\n",
    "\n",
    "**Example 1:**\n",
    "Input: candyType = [1,1,2,2,3,3]\n",
    "Output: 3\n",
    "\n",
    "**Explanation**: Alice can only eat 6 / 2 = 3 candies. Since there are only 3 types, she can eat one of each type."
   ]
  },
  {
   "cell_type": "code",
   "execution_count": 2,
   "id": "ccc70124-cc4d-4e6d-8ee1-8460acfb8686",
   "metadata": {},
   "outputs": [
    {
     "name": "stdout",
     "output_type": "stream",
     "text": [
      "2\n"
     ]
    }
   ],
   "source": [
    "class Solution:\n",
    "    def distributeCandies(self, candyType: list[int]) -> int:\n",
    "        return min(len(candyType) >> 1, len(set(candyType)))\n",
    "andyType = [1,1,2,2,3,3]\n",
    "obj = Solution()\n",
    "print(obj.distributeCandies(nums))"
   ]
  },
  {
   "cell_type": "markdown",
   "id": "1796ab8d-1e04-48fa-9ac3-6ddac6a87370",
   "metadata": {},
   "source": [
    "💡 **Question 3**\n",
    "We define a harmonious array as an array where the difference between its maximum value\n",
    "and its minimum value is exactly 1.\n",
    "\n",
    "Given an integer array nums, return the length of its longest harmonious subsequence\n",
    "among all its possible subsequences.\n",
    "\n",
    "A subsequence of an array is a sequence that can be derived from the array by deleting some or no elements without changing the order of the remaining elements.\n",
    "\n",
    "**Example 1:**\n",
    "Input: nums = [1,3,2,2,5,2,3,7]\n",
    "Output: 5\n",
    "\n",
    "**Explanation:** The longest harmonious subsequence is [3,2,2,2,3]."
   ]
  },
  {
   "cell_type": "code",
   "execution_count": 3,
   "id": "8c37b309-a02e-422f-a283-ca87d9b58c31",
   "metadata": {},
   "outputs": [],
   "source": [
    "import collections\n",
    "\n",
    "\n",
    "class Solution(object):\n",
    "    def findLHS(self, nums):\n",
    "        \"\"\"\n",
    "        :type nums: List[int]\n",
    "        :rtype: int\n",
    "        \"\"\"\n",
    "        lookup = collections.defaultdict(int)\n",
    "        result = 0\n",
    "        for num in nums:\n",
    "            lookup[num] += 1\n",
    "            for diff in [-1, 1]:\n",
    "                if (num + diff) in lookup:\n",
    "                    result = max(result, lookup[num] + lookup[num + diff])\n",
    "        return result"
   ]
  },
  {
   "cell_type": "code",
   "execution_count": 4,
   "id": "f07775a8-f8b5-4173-9c92-89f3260f304d",
   "metadata": {},
   "outputs": [
    {
     "name": "stdout",
     "output_type": "stream",
     "text": [
      "5\n"
     ]
    }
   ],
   "source": [
    "nums = [1,3,2,2,5,2,3,7]\n",
    "obj1 = Solution()\n",
    "print(obj1.findLHS(nums))"
   ]
  },
  {
   "cell_type": "code",
   "execution_count": 15,
   "id": "5ea6f17f-8e57-474b-a6f3-a40e90f84938",
   "metadata": {},
   "outputs": [],
   "source": [
    "class Solution(object):\n",
    "    def findLHS(self, nums):\n",
    "        \"\"\"\n",
    "        :type nums: List[int]\n",
    "        :rtype: int\n",
    "        \"\"\"\n",
    "        numsLen, result = len(nums), 0\n",
    "        counts = {}\n",
    "        for val in nums:\n",
    "            if val in counts:\n",
    "                counts[val] += 1\n",
    "            else:\n",
    "                counts[val] = 1\n",
    "            inc = val + 1\n",
    "            dec = val - 1\n",
    "            if dec in counts:\n",
    "                result = max(result, counts[val] + counts[dec])\n",
    "            if inc in counts:\n",
    "                result = max(result, counts[val] + counts[inc])\n",
    "        return result"
   ]
  },
  {
   "cell_type": "code",
   "execution_count": 14,
   "id": "7d4937e2-76d5-4635-94c5-4dea2b72fbeb",
   "metadata": {},
   "outputs": [
    {
     "ename": "TypeError",
     "evalue": "'int' object is not callable",
     "output_type": "error",
     "traceback": [
      "\u001b[0;31m---------------------------------------------------------------------------\u001b[0m",
      "\u001b[0;31mTypeError\u001b[0m                                 Traceback (most recent call last)",
      "Cell \u001b[0;32mIn [14], line 3\u001b[0m\n\u001b[1;32m      1\u001b[0m nums \u001b[38;5;241m=\u001b[39m [\u001b[38;5;241m1\u001b[39m,\u001b[38;5;241m3\u001b[39m,\u001b[38;5;241m2\u001b[39m,\u001b[38;5;241m2\u001b[39m,\u001b[38;5;241m5\u001b[39m,\u001b[38;5;241m2\u001b[39m,\u001b[38;5;241m3\u001b[39m,\u001b[38;5;241m7\u001b[39m]\n\u001b[1;32m      2\u001b[0m obj \u001b[38;5;241m=\u001b[39m Solution()\n\u001b[0;32m----> 3\u001b[0m \u001b[38;5;28mprint\u001b[39m(\u001b[43mobj\u001b[49m\u001b[38;5;241;43m.\u001b[39;49m\u001b[43mfindLHS\u001b[49m\u001b[43m(\u001b[49m\u001b[43mnums\u001b[49m\u001b[43m)\u001b[49m)\n",
      "Cell \u001b[0;32mIn [12], line 17\u001b[0m, in \u001b[0;36mSolution.findLHS\u001b[0;34m(self, nums)\u001b[0m\n\u001b[1;32m     15\u001b[0m dec \u001b[38;5;241m=\u001b[39m val \u001b[38;5;241m-\u001b[39m \u001b[38;5;241m1\u001b[39m\n\u001b[1;32m     16\u001b[0m \u001b[38;5;28;01mif\u001b[39;00m dec \u001b[38;5;129;01min\u001b[39;00m counts:\n\u001b[0;32m---> 17\u001b[0m     result \u001b[38;5;241m=\u001b[39m \u001b[38;5;28;43mmax\u001b[39;49m\u001b[43m(\u001b[49m\u001b[43mresult\u001b[49m\u001b[43m,\u001b[49m\u001b[43m \u001b[49m\u001b[43mcounts\u001b[49m\u001b[43m[\u001b[49m\u001b[43mval\u001b[49m\u001b[43m]\u001b[49m\u001b[43m \u001b[49m\u001b[38;5;241;43m+\u001b[39;49m\u001b[43m \u001b[49m\u001b[43mcounts\u001b[49m\u001b[43m[\u001b[49m\u001b[43mdec\u001b[49m\u001b[43m]\u001b[49m\u001b[43m)\u001b[49m\n\u001b[1;32m     18\u001b[0m \u001b[38;5;28;01mif\u001b[39;00m inc \u001b[38;5;129;01min\u001b[39;00m counts:\n\u001b[1;32m     19\u001b[0m     result \u001b[38;5;241m=\u001b[39m \u001b[38;5;28mmax\u001b[39m(result, counts[val] \u001b[38;5;241m+\u001b[39m counts[inc])\n",
      "\u001b[0;31mTypeError\u001b[0m: 'int' object is not callable"
     ]
    }
   ],
   "source": [
    "nums = [1,3,2,2,5,2,3,7]\n",
    "obj = Solution()\n",
    "print(obj.findLHS(nums))"
   ]
  },
  {
   "cell_type": "markdown",
   "id": "e47af539-6c81-45a8-8cbd-e913378472b8",
   "metadata": {},
   "source": [
    "💡 **Question 4**\n",
    "Output: true\n",
    "\n",
    "</aside>\n",
    "You have a long flowerbed in which some of the plots are planted, and some are not.\n",
    "However, flowers cannot be planted in adjacent plots.\n",
    "Given an integer array flowerbed containing 0's and 1's, where 0 means empty and 1 means not empty, and an integer n, return true if n new flowers can be planted in the flowerbed without violating the no-adjacent-flowers rule and false otherwise.\n",
    "\n",
    "**Example 1:**\n",
    "Input: flowerbed = [1,0,0,0,1], n = 1"
   ]
  },
  {
   "cell_type": "code",
   "execution_count": 16,
   "id": "f407943d-7a07-4522-8b97-fb803f6f043f",
   "metadata": {},
   "outputs": [
    {
     "name": "stdout",
     "output_type": "stream",
     "text": [
      "True\n"
     ]
    }
   ],
   "source": [
    "class Solution:\n",
    "    def canPlaceFlowers(self, flowerbed: list[int], n: int) -> bool:\n",
    "        for i, flower in enumerate(flowerbed):\n",
    "            if flower == 0 and (i == 0 or flowerbed[i - 1] == 0) and (i == len(flowerbed) - 1 or flowerbed[i + 1] == 0):\n",
    "                flowerbed[i] = 1\n",
    "                n -= 1\n",
    "                if n <= 0:\n",
    "                    return True\n",
    "        return False\n",
    "flowerbed = [1,0,0,0,1]\n",
    "obj = Solution()\n",
    "target=1\n",
    "print(obj.canPlaceFlowers(flowerbed,target))"
   ]
  },
  {
   "cell_type": "markdown",
   "id": "66db239d-86e1-4c6c-8c0c-245155c0435e",
   "metadata": {},
   "source": [
    "💡 **Question 5**\n",
    "Given an integer array nums, find three numbers whose product is maximum and return the maximum product.\n",
    "\n",
    "**Example 1:**\n",
    "Input: nums = [1,2,3]\n",
    "Output: 6"
   ]
  },
  {
   "cell_type": "code",
   "execution_count": null,
   "id": "28b281e0-8197-43d3-98e4-8208b0ffb4cc",
   "metadata": {},
   "outputs": [
    {
     "ename": "TypeError",
     "evalue": "'int' object is not callable",
     "output_type": "error",
     "traceback": [
      "\u001b[0;31m---------------------------------------------------------------------------\u001b[0m",
      "\u001b[0;31mTypeError\u001b[0m                                 Traceback (most recent call last)",
      "Cell \u001b[0;32mIn [8], line 32\u001b[0m\n\u001b[1;32m     29\u001b[0m arr \u001b[38;5;241m=\u001b[39m[\u001b[38;5;241m1\u001b[39m,\u001b[38;5;241m2\u001b[39m,\u001b[38;5;241m3\u001b[39m]\n\u001b[1;32m     30\u001b[0m n \u001b[38;5;241m=\u001b[39m \u001b[38;5;28mlen\u001b[39m(arr)\n\u001b[0;32m---> 32\u001b[0m \u001b[38;5;28mmax\u001b[39m \u001b[38;5;241m=\u001b[39m \u001b[43mmaxProduct\u001b[49m\u001b[43m(\u001b[49m\u001b[43marr\u001b[49m\u001b[43m,\u001b[49m\u001b[43m \u001b[49m\u001b[43mn\u001b[49m\u001b[43m)\u001b[49m\n\u001b[1;32m     34\u001b[0m \u001b[38;5;28;01mif\u001b[39;00m \u001b[38;5;28mmax\u001b[39m \u001b[38;5;241m==\u001b[39m \u001b[38;5;241m-\u001b[39m\u001b[38;5;241m1\u001b[39m:\n\u001b[1;32m     35\u001b[0m \t\u001b[38;5;28mprint\u001b[39m(\u001b[38;5;124m\"\u001b[39m\u001b[38;5;124mNo Triplet Exits\u001b[39m\u001b[38;5;124m\"\u001b[39m)\n",
      "Cell \u001b[0;32mIn [8], line 22\u001b[0m, in \u001b[0;36mmaxProduct\u001b[0;34m(arr, n)\u001b[0m\n\u001b[1;32m     20\u001b[0m \t\u001b[38;5;28;01mfor\u001b[39;00m j \u001b[38;5;129;01min\u001b[39;00m \u001b[38;5;28mrange\u001b[39m(i \u001b[38;5;241m+\u001b[39m \u001b[38;5;241m1\u001b[39m, n \u001b[38;5;241m-\u001b[39m \u001b[38;5;241m1\u001b[39m):\n\u001b[1;32m     21\u001b[0m \t\t\u001b[38;5;28;01mfor\u001b[39;00m k \u001b[38;5;129;01min\u001b[39;00m \u001b[38;5;28mrange\u001b[39m(j \u001b[38;5;241m+\u001b[39m \u001b[38;5;241m1\u001b[39m, n):\n\u001b[0;32m---> 22\u001b[0m \t\t\tmax_product \u001b[38;5;241m=\u001b[39m \u001b[38;5;28;43mmax\u001b[39;49m\u001b[43m(\u001b[49m\n\u001b[1;32m     23\u001b[0m \u001b[43m\t\t\t\t\u001b[49m\u001b[43mmax_product\u001b[49m\u001b[43m,\u001b[49m\u001b[43m \u001b[49m\u001b[43marr\u001b[49m\u001b[43m[\u001b[49m\u001b[43mi\u001b[49m\u001b[43m]\u001b[49m\n\u001b[1;32m     24\u001b[0m \u001b[43m\t\t\t\t\u001b[49m\u001b[38;5;241;43m*\u001b[39;49m\u001b[43m \u001b[49m\u001b[43marr\u001b[49m\u001b[43m[\u001b[49m\u001b[43mj\u001b[49m\u001b[43m]\u001b[49m\u001b[43m \u001b[49m\u001b[38;5;241;43m*\u001b[39;49m\u001b[43m \u001b[49m\u001b[43marr\u001b[49m\u001b[43m[\u001b[49m\u001b[43mk\u001b[49m\u001b[43m]\u001b[49m\u001b[43m)\u001b[49m\n\u001b[1;32m     26\u001b[0m \u001b[38;5;28;01mreturn\u001b[39;00m max_product\n",
      "\u001b[0;31mTypeError\u001b[0m: 'int' object is not callable"
     ]
    }
   ],
   "source": [
    "# Python3 program to find a maximum\n",
    "# product of a triplet in array\n",
    "# of integers\n",
    "import sys\n",
    "\n",
    "# Function to find a maximum\n",
    "# product of a triplet in array\n",
    "# of integers of size n\n",
    "def maxProduct(arr, n):\n",
    "\n",
    "\t# if size is less than 3,\n",
    "\t# no triplet exists\n",
    "\tif n < 3:\n",
    "\t\treturn -1\n",
    "\n",
    "\t# will contain max product\n",
    "\tmax_product = -(sys.maxsize - 1)\n",
    "\t\n",
    "\tfor i in range(0, n - 2):\n",
    "\t\tfor j in range(i + 1, n - 1):\n",
    "\t\t\tfor k in range(j + 1, n):\n",
    "\t\t\t\tmax_product = max(\n",
    "\t\t\t\t\tmax_product, arr[i]\n",
    "\t\t\t\t\t* arr[j] * arr[k])\n",
    "\n",
    "\treturn max_product\n",
    "\n",
    "# Driver Program\n",
    "arr =[1,2,3]\n",
    "n = len(arr)\n",
    "\n",
    "max = maxProduct(arr, n)\n",
    "\n",
    "if max == -1:\n",
    "\tprint(\"No Triplet Exits\")\n",
    "else:\n",
    "\tprint(\"Maximum product is\", max)\n",
    "flowerbed = [1,2]\n",
    "obj = Solution()\n",
    "target=6\n",
    "print(obj.canPlaceFlowers(flowerbed,target))"
   ]
  },
  {
   "cell_type": "markdown",
   "id": "fb92f8f3-7bd1-477c-a317-ecf10251c173",
   "metadata": {},
   "source": [
    "💡 **Question 6**\n",
    "Given an array of integers nums which is sorted in ascending order, and an integer target,\n",
    "write a function to search target in nums. If target exists, then return its index. Otherwise,\n",
    "return -1.\n",
    "\n",
    "You must write an algorithm with O(log n) runtime complexity.\n",
    "\n",
    "Input: nums = [-1,0,3,5,9,12], target = 9\n",
    "Output: 4\n",
    "\n",
    "**Explanation:** 9 exists in nums and its index is 4"
   ]
  },
  {
   "cell_type": "code",
   "execution_count": 13,
   "id": "82766f0c-c330-4afd-bff9-ddff921b4606",
   "metadata": {},
   "outputs": [
    {
     "name": "stdout",
     "output_type": "stream",
     "text": [
      "4\n"
     ]
    }
   ],
   "source": [
    "class Solution:\n",
    "    def search(self, nums: list[int], target: int) -> int:\n",
    "        l = 0\n",
    "        r = len(nums)-1\n",
    " \n",
    "        while l<=r:\n",
    "            m = l + (r-l)//2\n",
    "            if nums[m]>target:\n",
    "                r=m-1\n",
    "            elif nums[m]<target:\n",
    "                l=m+1\n",
    "            else:\n",
    "                return m\n",
    "        return -1\n",
    "nums = [-1,0,3,5,9,12]\n",
    "obj = Solution()\n",
    "target=9\n",
    "print(obj.search(nums,target))"
   ]
  },
  {
   "cell_type": "markdown",
   "id": "1f7c1baa-5e4c-4397-9f24-a978a9b9ab97",
   "metadata": {},
   "source": [
    "💡 **Question 7**\n",
    "An array is monotonic if it is either monotone increasing or monotone decreasing.\n",
    "\n",
    "An array nums is monotone increasing if for all i <= j, nums[i] <= nums[j]. An array nums is\n",
    "monotone decreasing if for all i <= j, nums[i] >= nums[j].\n",
    "\n",
    "Given an integer array nums, return true if the given array is monotonic, or false otherwise.\n",
    "\n",
    "**Example 1:**\n",
    "Input: nums = [1,2,2,3]\n",
    "Output: true"
   ]
  },
  {
   "cell_type": "code",
   "execution_count": 15,
   "id": "3d600bde-3e1e-416d-bbe8-98de2f1a67c1",
   "metadata": {},
   "outputs": [
    {
     "name": "stdout",
     "output_type": "stream",
     "text": [
      "True\n"
     ]
    }
   ],
   "source": [
    "def isMonotonic(A):\n",
    "   return (all(A[i] <= A[i + 1] for i in range(len(A) - 1)) or\n",
    "      all(A[i] >= A[i + 1] for i in range(len(A) - 1)))\n",
    "# main\n",
    "A = [1,2,2,3]\n",
    "print(isMonotonic(A))"
   ]
  },
  {
   "cell_type": "markdown",
   "id": "25b2d452-4b6d-40b1-a893-f34b38901f65",
   "metadata": {},
   "source": [
    "💡 **Question 8**\n",
    "You are given an integer array nums and an integer k.\n",
    "\n",
    "In one operation, you can choose any index i where 0 <= i < nums.length and change nums[i] to nums[i] + x where x is an integer from the range [-k, k]. You can apply this operation at most once for each index i.\n",
    "\n",
    "The score of nums is the difference between the maximum and minimum elements in nums.\n",
    "\n",
    "Return the minimum score of nums after applying the mentioned operation at most once for each index in it.\n",
    "\n",
    "**Example 1:**\n",
    "Input: nums = [1], k = 0\n",
    "Output: 0\n",
    "\n",
    "**Explanation:** The score is max(nums) - min(nums) = 1 - 1 = 0."
   ]
  },
  {
   "cell_type": "code",
   "execution_count": 16,
   "id": "6142591e-136b-4391-850c-25a8a589025d",
   "metadata": {},
   "outputs": [
    {
     "name": "stdout",
     "output_type": "stream",
     "text": [
      "False\n"
     ]
    }
   ],
   "source": [
    "def FindPairs(arr, k):\n",
    "    for i in range(0, len(arr)):\n",
    "        if k - arr[i] in arr:\n",
    "            return True\n",
    "    return False        \n",
    "nums = [1]\n",
    "n = 100\n",
    "print(FindPairs(A, n))"
   ]
  }
 ],
 "metadata": {
  "kernelspec": {
   "display_name": "Python 3 (ipykernel)",
   "language": "python",
   "name": "python3"
  },
  "language_info": {
   "codemirror_mode": {
    "name": "ipython",
    "version": 3
   },
   "file_extension": ".py",
   "mimetype": "text/x-python",
   "name": "python",
   "nbconvert_exporter": "python",
   "pygments_lexer": "ipython3",
   "version": "3.10.6"
  }
 },
 "nbformat": 4,
 "nbformat_minor": 5
}
