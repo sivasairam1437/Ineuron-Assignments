{
 "cells": [
  {
   "cell_type": "markdown",
   "id": "4b03d590-bedb-4674-8d19-33d443eaaef1",
   "metadata": {},
   "source": [
    "💡 **Question 1**\n",
    "Given three integer arrays arr1, arr2 and arr3 **sorted** in **strictly increasing** order, return a sorted array of **only** the integers that appeared in **all** three arrays.\n",
    "\n",
    "**Example 1:**\n",
    "\n",
    "Input: arr1 = [1,2,3,4,5], arr2 = [1,2,5,7,9], arr3 = [1,3,4,5,8]\n",
    "\n",
    "Output: [1,5]\n",
    "\n",
    "**Explanation:** Only 1 and 5 appeared in the three arrays."
   ]
  },
  {
   "cell_type": "code",
   "execution_count": 1,
   "id": "57c6dc3d-3cf9-4a87-858e-128a8dc11e35",
   "metadata": {},
   "outputs": [
    {
     "name": "stdout",
     "output_type": "stream",
     "text": [
      "{1, 5}\n"
     ]
    }
   ],
   "source": [
    "def find(arr1, arr2, arr3): \n",
    "    #print(\"Common elements between all three array: \", end=\"\") \n",
    "    arr1 = set(arr1) \n",
    "    arr2 = set(arr2) \n",
    "    arr3 = set(arr3) \n",
    "    print(arr1 & arr2 & arr3) \n",
    "array1 = [1, 2, 3, 4,5] \n",
    "array2 = [1,2,5,7,9]\n",
    "array3 = [1,3,4,5,8]\n",
    "find(array1, array2, array3)"
   ]
  },
  {
   "cell_type": "markdown",
   "id": "ad75adf7-74ca-466d-99c5-7804ed429d83",
   "metadata": {},
   "source": [
    " **Question 2**\n",
    "\n",
    "Given two **0-indexed** integer arrays nums1 and nums2, return *a list* answer *of size* 2 *where:*\n",
    "\n",
    "- answer[0] *is a list of all **distinct** integers in* nums1 *which are **not** present in* nums2*.*\n",
    "- answer[1] *is a list of all **distinct** integers in* nums2 *which are **not** present in* nums1.\n",
    "\n",
    "**Note** that the integers in the lists may be returned in **any** order.\n",
    "\n",
    "**Example 1:**\n",
    "\n",
    "**Input:** nums1 = [1,2,3], nums2 = [2,4,6]\n",
    "\n",
    "**Output:** [[1,3],[4,6]]\n",
    "\n",
    "**Explanation:**\n",
    "\n",
    "For nums1, nums1[1] = 2 is present at index 0 of nums2, whereas nums1[0] = 1 and nums1[2] = 3 are not present in nums2. Therefore, answer[0] = [1,3].\n",
    "\n",
    "For nums2, nums2[0] = 2 is present at index 1 of nums1, whereas nums2[1] = 4 and nums2[2] = 6 are not present in nums2. Therefore, answer[1] = [4,6].\n"
   ]
  },
  {
   "cell_type": "code",
   "execution_count": 6,
   "id": "c2a59e97-dd7f-4b9c-bc9a-817709a270c5",
   "metadata": {},
   "outputs": [
    {
     "name": "stdout",
     "output_type": "stream",
     "text": [
      "[[1, 3], [4, 6]]\n"
     ]
    }
   ],
   "source": [
    "class Solution:\n",
    "    def findDifference(self, nums1: list[int], nums2: list[int]) -> list[list[int]]:\n",
    "        return [list(set(nums1).difference(nums2)), list(set(nums2).difference(nums1))]\n",
    "nums1 = [1,2,3]\n",
    "nums2 = [2,4,6]\n",
    "obj=Solution()\n",
    "print(obj.findDifference(nums1, nums2))"
   ]
  },
  {
   "cell_type": "markdown",
   "id": "08237b6b-c30b-4837-8d29-750200672c7b",
   "metadata": {},
   "source": [
    "💡 **Question 3**\n",
    "Given a 2D integer array matrix, return *the **transpose** of* matrix.\n",
    "\n",
    "The **transpose** of a matrix is the matrix flipped over its main diagonal, switching the matrix's row and column indices.\n",
    "\n",
    "**Example 1:**\n",
    "\n",
    "Input: matrix = [[1,2,3],[4,5,6],[7,8,9]]\n",
    "\n",
    "Output: [[1,4,7],[2,5,8],[3,6,9]]"
   ]
  },
  {
   "cell_type": "code",
   "execution_count": 54,
   "id": "265e681e-4153-4cd2-931c-a569aefe9af2",
   "metadata": {},
   "outputs": [
    {
     "name": "stdout",
     "output_type": "stream",
     "text": [
      "Result matrix is\n",
      "1  4  7  \n",
      "2  5  8  \n",
      "3  6  9  \n"
     ]
    }
   ],
   "source": [
    "# Python3 Program to find\n",
    "# transpose of a matrix\n",
    "\n",
    "N = 3\n",
    "\n",
    "# This function stores\n",
    "# transpose of A[][] in B[][]\n",
    "\n",
    "\n",
    "def transpose(A, B):\n",
    "\n",
    "\tfor i in range(N):\n",
    "\t\tfor j in range(N):\n",
    "\t\t\tB[i][j] = A[j][i]\n",
    "if __name__ == '__main__':\n",
    "    A = [[1,2,3],[4,5,6],[7,8,9]]\n",
    "\n",
    "\n",
    "# To store result\n",
    "B = [[0 for x in range(N)] for y in range(N)]\n",
    "\n",
    "# Function call\n",
    "transpose(A, B)\n",
    "\n",
    "print(\"Result matrix is\")\n",
    "l=[]\n",
    "k=[]\n",
    "for i in range(N):\n",
    "\tfor j in range(N):\n",
    "\t\tprint(B[i][j], \" \", end='')\n",
    "\tprint()\n"
   ]
  },
  {
   "cell_type": "markdown",
   "id": "e5a4d1c3-f9ec-47e8-a566-dc256269371f",
   "metadata": {},
   "source": [
    "💡 **Question 4**\n",
    "Given an integer array nums of 2n integers, group these integers into n pairs (a1, b1), (a2, b2), ..., (an, bn) such that the sum of min(ai, bi) for all i is **maximized**. Return *the maximized sum*.\n",
    "\n",
    "**Example 1:**\n",
    "\n",
    "Input: nums = [1,4,3,2]\n",
    "\n",
    "Output: 4\n",
    "\n",
    "**Explanation:** All possible pairings (ignoring the ordering of elements) are:\n",
    "\n",
    "1. (1, 4), (2, 3) -> min(1, 4) + min(2, 3) = 1 + 2 = 3\n",
    "\n",
    "2. (1, 3), (2, 4) -> min(1, 3) + min(2, 4) = 1 + 2 = 3\n",
    "\n",
    "3. (1, 2), (3, 4) -> min(1, 2) + min(3, 4) = 1 + 3 = 4\n",
    "\n",
    "So the maximum possible sum is 4."
   ]
  },
  {
   "cell_type": "code",
   "execution_count": 39,
   "id": "fa906ea8-e6f6-4451-8737-31275aef9c82",
   "metadata": {},
   "outputs": [
    {
     "name": "stdout",
     "output_type": "stream",
     "text": [
      "4\n"
     ]
    }
   ],
   "source": [
    "class Solution:\n",
    "    def arrayPairSum(self, nums: list[int]) -> int:\n",
    "        nums.sort()\n",
    "        r=0\n",
    "        for i in range(0,len(nums),2):\n",
    "            r+=min(nums[i],nums[i+1])\n",
    "        return(r)\n",
    "nums = [1,4,3,2]\n",
    "obj=Solution()\n",
    "print(obj.arrayPairSum(nums))"
   ]
  },
  {
   "cell_type": "markdown",
   "id": "8bf919a1-3331-40ed-a247-62f7b0f89750",
   "metadata": {},
   "source": [
    "### 💡 **Question 5**\n",
    "You have n coins and you want to build a staircase with these coins. The staircase consists of k rows where the ith row has exactly i coins. The last row of the staircase **may be** incomplete.\n",
    "\n",
    "Given the integer n, return *the number of **complete rows** of the staircase you will build*.\n",
    "\n",
    "**Example 1:**\n",
    "\n",
    "[]()\n",
    "\n",
    "![v2.jpg](https://s3-us-west-2.amazonaws.com/secure.notion-static.com/4bd91cfa-d2b1-47b3-8197-a72e8dcfff4b/v2.jpg)\n",
    "\n",
    "**Input:** n = 5\n",
    "\n",
    "**Output:** 2\n",
    "\n",
    "**Explanation:** Because the 3rd row is incomplete, we return 2."
   ]
  },
  {
   "cell_type": "code",
   "execution_count": 40,
   "id": "03f43b11-b4e1-4156-bdbf-b2c2ab5dbfe9",
   "metadata": {},
   "outputs": [
    {
     "name": "stdout",
     "output_type": "stream",
     "text": [
      "2\n"
     ]
    }
   ],
   "source": [
    "class Solution: \n",
    "    def arrangeCoins(self, n: int):\n",
    "        rows = 0 \n",
    "        i = 1\n",
    "        while n >= i:\n",
    "            n-=i\n",
    "            rows+=1\n",
    "            i+=1\n",
    "        return rows\n",
    "n=5       \n",
    "obj = Solution()\n",
    "print(obj.arrangeCoins(n))"
   ]
  },
  {
   "cell_type": "markdown",
   "id": "f8e6cdb8-507e-48ad-a07a-0aba898139ac",
   "metadata": {},
   "source": [
    "💡 **Question 6**\n",
    "Given an integer array nums sorted in **non-decreasing** order, return *an array of **the squares of each number** sorted in non-decreasing order*.\n",
    "\n",
    "**Example 1:**\n",
    "\n",
    "Input: nums = [-4,-1,0,3,10]\n",
    "\n",
    "Output: [0,1,9,16,100]\n",
    "\n",
    "**Explanation:** After squaring, the array becomes [16,1,0,9,100].\n",
    "After sorting, it becomes [0,1,9,16,100]"
   ]
  },
  {
   "cell_type": "code",
   "execution_count": 17,
   "id": "cb436fde-46bd-456f-ad31-c918b7d69fcf",
   "metadata": {},
   "outputs": [
    {
     "name": "stdout",
     "output_type": "stream",
     "text": [
      "After sort\n",
      "0 1 9 16 100 "
     ]
    }
   ],
   "source": [
    "# Python program to Sort square\n",
    "# of the numbers of the array\n",
    "\n",
    "# Function to sort an square array\n",
    "def sortSquare(arr, n):\n",
    "\n",
    "\t# First convert each array\n",
    "\t# elements into its square\n",
    "\tfor i in range(n):\n",
    "\t\tarr[i]= arr[i] * arr[i]\n",
    "\tarr.sort()\n",
    "\n",
    "# Driver code\n",
    "arr = nums = [-4,-1,0,3,10]\n",
    "n = len(arr)\n",
    "\n",
    "# print(\"Before sort\")\n",
    "# for i in range(n):\n",
    "# \tprint(arr[i], end = \" \")\n",
    "\n",
    "# print(\"\\n\")\n",
    "\n",
    "sortSquare(arr, n)\n",
    "\n",
    "print(\"After sort\")\n",
    "for i in range(n):\n",
    "\tprint(arr[i], end = \" \")"
   ]
  },
  {
   "cell_type": "markdown",
   "id": "19ff1dd3-7419-426e-b538-921d47390510",
   "metadata": {},
   "source": [
    "💡 **Question 7**\n",
    "You are given an m x n matrix M initialized with all 0's and an array of operations ops, where ops[i] = [ai, bi] means M[x][y] should be incremented by one for all 0 <= x < ai and 0 <= y < bi.\n",
    "\n",
    "Count and return *the number of maximum integers in the matrix after performing all the operations*\n",
    "\n",
    "**Example 1:**\n",
    "\n",
    "![q4.jpg](https://s3-us-west-2.amazonaws.com/secure.notion-static.com/4d0890d0-7bc7-4f59-be8e-352d9f3c1c52/q4.jpg)\n",
    "\n",
    "**Input:** m = 3, n = 3, ops = [[2,2],[3,3]]\n",
    "\n",
    "**Output:** 4\n",
    "\n",
    "**Explanation:** The maximum integer in M is 2, and there are four of it in M. So return 4."
   ]
  },
  {
   "cell_type": "code",
   "execution_count": 5,
   "id": "f9fa212d-976d-4b3f-9769-d6f19f45cf57",
   "metadata": {},
   "outputs": [
    {
     "name": "stdout",
     "output_type": "stream",
     "text": [
      "4\n"
     ]
    }
   ],
   "source": [
    "class Solution:\n",
    "    def maxCount(self, m: int, n: int, ops: list[list[int]]) -> int:\n",
    "        length = len(ops)\n",
    "        if length == 0:\n",
    "            return m*n\n",
    "        result = [ops[0][0] , ops[0][1]]\n",
    "        for i in range(1,length):\n",
    "            result[0] = min(result[0] , ops[i][0])\n",
    "            result[1] = min(result[1] , ops[i][1])\n",
    "        return result[0]*result[1]\n",
    "m = 3\n",
    "n = 3\n",
    "ops = [[2,2],[3,3]]\n",
    "obj=Solution()\n",
    "print(obj.maxCount(m,n,ops))"
   ]
  },
  {
   "cell_type": "markdown",
   "id": "8cf42f4e-c3d0-42f3-8350-79bb9fd3a01c",
   "metadata": {},
   "source": [
    "💡 **Question 8**\n",
    "\n",
    "Given the array nums consisting of 2n elements in the form [x1,x2,...,xn,y1,y2,...,yn].\n",
    "\n",
    "*Return the array in the form* [x1,y1,x2,y2,...,xn,yn].\n",
    "\n",
    "**Example 1:**\n",
    "\n",
    "**Input:** nums = [2,5,1,3,4,7], n = 3\n",
    "\n",
    "**Output:** [2,3,5,4,1,7]\n",
    "\n",
    "**Explanation:** Since x1=2, x2=5, x3=1, y1=3, y2=4, y3=7 then the answer is [2,3,5,4,1,7]."
   ]
  },
  {
   "cell_type": "code",
   "execution_count": 15,
   "id": "641279f3-0dba-481c-bcaf-14c998de42d0",
   "metadata": {},
   "outputs": [
    {
     "name": "stdout",
     "output_type": "stream",
     "text": [
      "[2, 3, 5, 4, 1, 7]\n"
     ]
    }
   ],
   "source": [
    "# Python3 Naive program to\n",
    "# shuffle an array of size 2n\n",
    "\n",
    "# Function to shuffle an array of size 2n\n",
    "def shuffleArray(a, n):\n",
    "\n",
    "\t# Rotate the element to the left\n",
    "\ti, q, k = 0, 1, n\n",
    "\twhile(i < n):\t\n",
    "\t\tj = k\n",
    "\t\twhile(j > i + q):\n",
    "\t\t\ta[j - 1], a[j] = a[j], a[j - 1]\n",
    "\t\t\tj -= 1\n",
    "\t\ti += 1\n",
    "\t\tk += 1\n",
    "\t\tq += 1\n",
    "\n",
    "# Driver Code\n",
    "a =  [2,5,1,3,4,7]\n",
    "n = len(a)\n",
    "shuffleArray(a, int(n / 2))\n",
    "l=[]\n",
    "for i in range(0, n):\n",
    "    l.append(a[i])\n",
    "\t# print(a[i], end = \" \")\n",
    "print(l)"
   ]
  },
  {
   "cell_type": "code",
   "execution_count": null,
   "id": "7f507a09-ea00-4b15-a185-97d1e8715083",
   "metadata": {},
   "outputs": [],
   "source": []
  }
 ],
 "metadata": {
  "kernelspec": {
   "display_name": "Python 3 (ipykernel)",
   "language": "python",
   "name": "python3"
  },
  "language_info": {
   "codemirror_mode": {
    "name": "ipython",
    "version": 3
   },
   "file_extension": ".py",
   "mimetype": "text/x-python",
   "name": "python",
   "nbconvert_exporter": "python",
   "pygments_lexer": "ipython3",
   "version": "3.10.6"
  }
 },
 "nbformat": 4,
 "nbformat_minor": 5
}
