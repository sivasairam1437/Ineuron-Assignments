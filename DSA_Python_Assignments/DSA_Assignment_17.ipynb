{
 "cells": [
  {
   "cell_type": "markdown",
   "id": "bda61562-7bda-47dd-9aa1-46cc0408a504",
   "metadata": {},
   "source": [
    "# Assignment Questions 17"
   ]
  },
  {
   "cell_type": "markdown",
   "id": "e5d82cac-87f3-40b8-903c-cfb367741e13",
   "metadata": {},
   "source": [
    "💡 **Question 1**\n",
    "\n",
    "Given a string `s`, *find the first non-repeating character in it and return its index*. If it does not exist, return `-1`.\n",
    "\n",
    "**Example 1:**\n",
    "\n",
    "```\n",
    "Input: s = \"leetcode\"\n",
    "Output: 0\n",
    "\n",
    "```\n",
    "\n",
    "**Example 2:**\n",
    "\n",
    "```\n",
    "Input: s = \"loveleetcode\"\n",
    "Output: 2\n",
    "\n",
    "**Example 3:**\n",
    "\n",
    "```\n",
    "Input: s = \"aabb\"\n",
    "Output: -1"
   ]
  },
  {
   "cell_type": "code",
   "execution_count": 8,
   "id": "5eb7357c-9434-4924-acdc-19d071e68c3a",
   "metadata": {},
   "outputs": [
    {
     "data": {
      "text/plain": [
       "0"
      ]
     },
     "execution_count": 8,
     "metadata": {},
     "output_type": "execute_result"
    }
   ],
   "source": [
    "class Solution:\n",
    "    def firstUniqChar(self, s: str) -> int:\n",
    "        for i in s:\n",
    "            if s.count(i)==1:\n",
    "                return s.index(i)\n",
    "        else:\n",
    "            return -1\n",
    "        \n",
    "obj=Solution()\n",
    "obj.firstUniqChar(\"leetcode\")"
   ]
  },
  {
   "cell_type": "markdown",
   "id": "84eaec87-51b4-4018-b18e-1049941b850b",
   "metadata": {},
   "source": [
    "💡 **Question 2**\n",
    "\n",
    "Given a **circular integer array** `nums` of length `n`, return *the maximum possible sum of a non-empty **subarray** of* `nums`.\n",
    "\n",
    "A **circular array** means the end of the array connects to the beginning of the array. Formally, the next element of `nums[i]` is `nums[(i + 1) % n]` and the previous element of `nums[i]` is `nums[(i - 1 + n) % n]`.\n",
    "\n",
    "A **subarray** may only include each element of the fixed buffer `nums` at most once. Formally, for a subarray `nums[i], nums[i + 1], ..., nums[j]`, there does not exist `i <= k1`, `k2 <= j` with `k1 % n == k2 % n`.\n",
    "\n",
    "**Example 1:**\n",
    "\n",
    "```\n",
    "Input: nums = [1,-2,3,-2]\n",
    "Output: 3\n",
    "Explanation: Subarray [3] has maximum sum 3.\n",
    "\n",
    "```\n",
    "\n",
    "**Example 2:**\n",
    "\n",
    "```\n",
    "Input: nums = [5,-3,5]\n",
    "Output: 10\n",
    "Explanation: Subarray [5,5] has maximum sum 5 + 5 = 10.\n",
    "\n",
    "```\n",
    "\n",
    "**Example 3:**\n",
    "\n",
    "```\n",
    "Input: nums = [-3,-2,-3]\n",
    "Output: -2\n",
    "Explanation: Subarray [-2] has maximum sum -2."
   ]
  },
  {
   "cell_type": "code",
   "execution_count": 10,
   "id": "a2b6af4d-fa3a-4724-a9a2-5da84ee602dd",
   "metadata": {},
   "outputs": [
    {
     "name": "stdout",
     "output_type": "stream",
     "text": [
      "Maximum sum is 3\n"
     ]
    }
   ],
   "source": [
    "def maxCircularSum(a, n):\n",
    "\t\n",
    "\t# Corner Case\n",
    "\tif (n == 1):\n",
    "\t\treturn a[0]\n",
    "\n",
    "\t# Initialize sum variable which\n",
    "\t# store total sum of the array.\n",
    "\tsum = 0\n",
    "\tfor i in range(n):\n",
    "\t\tsum += a[i]\n",
    "\n",
    "\t# Initialize every variable\n",
    "\t# with first value of array.\n",
    "\tcurr_max = a[0]\n",
    "\tmax_so_far = a[0]\n",
    "\tcurr_min = a[0]\n",
    "\tmin_so_far = a[0]\n",
    "\n",
    "\t# Concept of Kadane's Algorithm\n",
    "\tfor i in range(1, n):\n",
    "\t\n",
    "\t\t# Kadane's Algorithm to find Maximum subarray sum.\n",
    "\t\tcurr_max = max(curr_max + a[i], a[i])\n",
    "\t\tmax_so_far = max(max_so_far, curr_max)\n",
    "\n",
    "\t\t# Kadane's Algorithm to find Minimum subarray sum.\n",
    "\t\tcurr_min = min(curr_min + a[i], a[i])\n",
    "\t\tmin_so_far = min(min_so_far, curr_min)\n",
    "\tif (min_so_far == sum):\n",
    "\t\treturn max_so_far\n",
    "\n",
    "\t# returning the maximum value\n",
    "\treturn max(max_so_far, sum - min_so_far)\n",
    "\n",
    "# Driver code\n",
    "a =[1,-2,3,-2]\n",
    "n = len(a)\n",
    "print(\"Maximum sum is\", maxCircularSum(a, n))"
   ]
  },
  {
   "cell_type": "markdown",
   "id": "93178a45-cf2c-4f71-9951-5e29b70bf044",
   "metadata": {},
   "source": [
    "💡 **Question 3**\n",
    "\n",
    "The school cafeteria offers circular and square sandwiches at lunch break, referred to by numbers `0` and `1` respectively. All students stand in a queue. Each student either prefers square or circular sandwiches.\n",
    "\n",
    "The number of sandwiches in the cafeteria is equal to the number of students. The sandwiches are placed in a **stack**. At each step:\n",
    "\n",
    "- If the student at the front of the queue **prefers** the sandwich on the top of the stack, they will **take it** and leave the queue.\n",
    "- Otherwise, they will **leave it** and go to the queue's end.\n",
    "\n",
    "This continues until none of the queue students want to take the top sandwich and are thus unable to eat.\n",
    "\n",
    "You are given two integer arrays `students` and `sandwiches` where `sandwiches[i]` is the type of the `ith` sandwich in the stack (`i = 0` is the top of the stack) and `students[j]` is the preference of the `jth` student in the initial queue (`j = 0` is the front of the queue). Return *the number of students that are unable to eat.*\n",
    "\n",
    "**Example 1:**\n",
    "\n",
    "```\n",
    "Input: students = [1,1,0,0], sandwiches = [0,1,0,1]\n",
    "Output: 0\n",
    "Explanation:\n",
    "- Front student leaves the top sandwich and returns to the end of the line making students = [1,0,0,1].\n",
    "- Front student leaves the top sandwich and returns to the end of the line making students = [0,0,1,1].\n",
    "- Front student takes the top sandwich and leaves the line making students = [0,1,1] and sandwiches = [1,0,1].\n",
    "- Front student leaves the top sandwich and returns to the end of the line making students = [1,1,0].\n",
    "- Front student takes the top sandwich and leaves the line making students = [1,0] and sandwiches = [0,1].\n",
    "- Front student leaves the top sandwich and returns to the end of the line making students = [0,1].\n",
    "- Front student takes the top sandwich and leaves the line making students = [1] and sandwiches = [1].\n",
    "- Front student takes the top sandwich and leaves the line making students = [] and sandwiches = [].\n",
    "Hence all students are able to eat.\n",
    "\n",
    "```\n",
    "\n",
    "**Example 2:**\n",
    "\n",
    "```\n",
    "Input: students = [1,1,1,0,0,1], sandwiches = [1,0,0,0,1,1]\n",
    "Output: 3"
   ]
  },
  {
   "cell_type": "code",
   "execution_count": 5,
   "id": "9cd549a9-9464-4e74-8507-c9a74b80cd7c",
   "metadata": {},
   "outputs": [
    {
     "data": {
      "text/plain": [
       "0"
      ]
     },
     "execution_count": 5,
     "metadata": {},
     "output_type": "execute_result"
    }
   ],
   "source": [
    "class Solution:\n",
    "    def countStudents(self, students: list[int], sandwiches: list[int]) -> int:\n",
    "        while(len(students)!=0):\n",
    "            if(sandwiches[0] not in students):\n",
    "                return(len(students))\n",
    "            if(students[0]==sandwiches[0]):\n",
    "                students.pop(0)\n",
    "                sandwiches.pop(0)\n",
    "            else:\n",
    "                a=students.pop(0)\n",
    "                students.append(a)\n",
    "        return(len(students))\n",
    "students = [1,1,0,0]\n",
    "sandwiches = [0,1,0,1]               \n",
    "obj=Solution()\n",
    "obj.countStudents(students,sandwiches)"
   ]
  },
  {
   "cell_type": "markdown",
   "id": "3c8c417b-b599-4ac2-97f9-f449396dc2ea",
   "metadata": {},
   "source": [
    "💡 **Question 4**\n",
    "\n",
    "You have a `RecentCounter` class which counts the number of recent requests within a certain time frame.\n",
    "\n",
    "Implement the `RecentCounter` class:\n",
    "\n",
    "- `RecentCounter()` Initializes the counter with zero recent requests.\n",
    "- `int ping(int t)` Adds a new request at time `t`, where `t` represents some time in milliseconds, and returns the number of requests that has happened in the past `3000` milliseconds (including the new request). Specifically, return the number of requests that have happened in the inclusive range `[t - 3000, t]`.\n",
    "\n",
    "It is **guaranteed** that every call to `ping` uses a strictly larger value of `t` than the previous call.\n",
    "\n",
    "**Example 1:**\n",
    "\n",
    "```\n",
    "Input\n",
    "[\"RecentCounter\", \"ping\", \"ping\", \"ping\", \"ping\"]\n",
    "[[], [1], [100], [3001], [3002]]\n",
    "Output\n",
    "[null, 1, 2, 3, 3]\n",
    "\n",
    "Explanation\n",
    "RecentCounter recentCounter = new RecentCounter();\n",
    "recentCounter.ping(1);     // requests = [1], range is [-2999,1], return 1\n",
    "recentCounter.ping(100);   // requests = [1,100], range is [-2900,100], return 2\n",
    "recentCounter.ping(3001);  // requests = [1,100,3001], range is [1,3001], return 3\n",
    "recentCounter.ping(3002);  // requests = [1,100,3001,3002], range is [2,3002], return 3"
   ]
  },
  {
   "cell_type": "code",
   "execution_count": 28,
   "id": "756afc1c-800f-43e5-9319-586048de566c",
   "metadata": {},
   "outputs": [
    {
     "name": "stdout",
     "output_type": "stream",
     "text": [
      "1\n",
      "2\n",
      "3\n",
      "3\n"
     ]
    }
   ],
   "source": [
    "from collections import deque\n",
    "class RecentCounter:\n",
    "\n",
    "    def __init__(self):\n",
    "        self.que = deque()\n",
    "        \n",
    "\n",
    "    def ping(self, t: int) -> int:\n",
    "        self.que.append(t)\n",
    "        while self.que and self.que[0] < t - 3000:\n",
    "            self.que.popleft()\n",
    "        return len(self.que)\n",
    "ob = RecentCounter()\n",
    "print(ob.ping(1))\n",
    "print(ob.ping(100))\n",
    "print(ob.ping(3001))\n",
    "print(ob.ping(3002))"
   ]
  },
  {
   "cell_type": "markdown",
   "id": "1f8a2ff7-69c5-4829-9f1e-9631af4f3af4",
   "metadata": {},
   "source": [
    "💡 **Question 5**\n",
    "\n",
    "There are `n` friends that are playing a game. The friends are sitting in a circle and are numbered from `1` to `n` in **clockwise order**. More formally, moving clockwise from the `ith` friend brings you to the `(i+1)th` friend for `1 <= i < n`, and moving clockwise from the `nth` friend brings you to the `1st` friend.\n",
    "\n",
    "The rules of the game are as follows:\n",
    "\n",
    "1. **Start** at the `1st` friend.\n",
    "2. Count the next `k` friends in the clockwise direction **including** the friend you started at. The counting wraps around the circle and may count some friends more than once.\n",
    "3. The last friend you counted leaves the circle and loses the game.\n",
    "4. If there is still more than one friend in the circle, go back to step `2` **starting** from the friend **immediately clockwise** of the friend who just lost and repeat.\n",
    "5. Else, the last friend in the circle wins the game.\n",
    "\n",
    "Given the number of friends, `n`, and an integer `k`, return *the winner of the game*.\n",
    "\n",
    "**Example 1:**\n",
    "\n",
    "!https://assets.leetcode.com/uploads/2021/03/25/ic234-q2-ex11.png\n",
    "\n",
    "```\n",
    "Input: n = 5, k = 2\n",
    "Output: 3\n",
    "Explanation: Here are the steps of the game:\n",
    "1) Start at friend 1.\n",
    "2) Count 2 friends clockwise, which are friends 1 and 2.\n",
    "3) Friend 2 leaves the circle. Next start is friend 3.\n",
    "4) Count 2 friends clockwise, which are friends 3 and 4.\n",
    "5) Friend 4 leaves the circle. Next start is friend 5.\n",
    "6) Count 2 friends clockwise, which are friends 5 and 1.\n",
    "7) Friend 1 leaves the circle. Next start is friend 3.\n",
    "8) Count 2 friends clockwise, which are friends 3 and 5.\n",
    "9) Friend 5 leaves the circle. Only friend 3 is left, so they are the winner.\n",
    "```\n",
    "\n",
    "**Example 2:**\n",
    "\n",
    "```\n",
    "Input: n = 6, k = 5\n",
    "Output: 1\n",
    "Explanation: The friends leave in this order: 5, 4, 6, 2, 3. The winner is friend 1."
   ]
  },
  {
   "cell_type": "code",
   "execution_count": 29,
   "id": "05e18e28-03ce-40f6-b421-24e3ced7cd48",
   "metadata": {},
   "outputs": [
    {
     "data": {
      "text/plain": [
       "3"
      ]
     },
     "execution_count": 29,
     "metadata": {},
     "output_type": "execute_result"
    }
   ],
   "source": [
    "class Solution:\n",
    "    def findTheWinner(self, n: int, k: int) -> int:\n",
    "        nums=[]\n",
    "        for i in range(1,n+1):\n",
    "            nums.append(i)\n",
    "        j=0\n",
    "        while len(nums)!=1:\n",
    "           j=(j+k-1)%len(nums)\n",
    "           nums.remove(nums[j])\n",
    "        return nums[0]\n",
    "    \n",
    "obj=Solution()\n",
    "obj.findTheWinner(5,2)"
   ]
  },
  {
   "cell_type": "markdown",
   "id": "ae305481-7fe5-4b98-8023-2e28829cae07",
   "metadata": {},
   "source": [
    "💡 **Question 6**\n",
    "\n",
    "You are given an integer array `deck`. There is a deck of cards where every card has a unique integer. The integer on the `ith` card is `deck[i]`.\n",
    "\n",
    "You can order the deck in any order you want. Initially, all the cards start face down (unrevealed) in one deck.\n",
    "\n",
    "You will do the following steps repeatedly until all cards are revealed:\n",
    "\n",
    "1. Take the top card of the deck, reveal it, and take it out of the deck.\n",
    "2. If there are still cards in the deck then put the next top card of the deck at the bottom of the deck.\n",
    "3. If there are still unrevealed cards, go back to step 1. Otherwise, stop.\n",
    "\n",
    "Return *an ordering of the deck that would reveal the cards in increasing order*.\n",
    "\n",
    "**Note** that the first entry in the answer is considered to be the top of the deck.\n",
    "\n",
    "**Example 1:**\n",
    "\n",
    "```\n",
    "Input: deck = [17,13,11,2,3,5,7]\n",
    "Output: [2,13,3,11,5,17,7]\n",
    "Explanation:\n",
    "We get the deck in the order [17,13,11,2,3,5,7] (this order does not matter), and reorder it.\n",
    "After reordering, the deck starts as [2,13,3,11,5,17,7], where 2 is the top of the deck.\n",
    "We reveal 2, and move 13 to the bottom.  The deck is now [3,11,5,17,7,13].\n",
    "We reveal 3, and move 11 to the bottom.  The deck is now [5,17,7,13,11].\n",
    "We reveal 5, and move 17 to the bottom.  The deck is now [7,13,11,17].\n",
    "We reveal 7, and move 13 to the bottom.  The deck is now [11,17,13].\n",
    "We reveal 11, and move 17 to the bottom.  The deck is now [13,17].\n",
    "We reveal 13, and move 17 to the bottom.  The deck is now [17].\n",
    "We reveal 17.\n",
    "Since all the cards revealed are in increasing order, the answer is correct.\n",
    "\n",
    "```\n",
    "\n",
    "**Example 2:**\n",
    "\n",
    "```\n",
    "Input: deck = [1,1000]\n",
    "Output: [1,1000]"
   ]
  },
  {
   "cell_type": "code",
   "execution_count": 34,
   "id": "5cfab818-b45a-45ab-ab2e-8b66536dee14",
   "metadata": {},
   "outputs": [
    {
     "data": {
      "text/plain": [
       "[2, 13, 3, 11, 5, 17, 7]"
      ]
     },
     "execution_count": 34,
     "metadata": {},
     "output_type": "execute_result"
    }
   ],
   "source": [
    "class Solution(object):\n",
    "    def deckRevealedIncreasing(self, deck):\n",
    "        N = len(deck)\n",
    "        index = collections.deque(range(N))\n",
    "        ans = [None] * N\n",
    "\n",
    "        for card in sorted(deck):\n",
    "            ans[index.popleft()] = card\n",
    "            if index:\n",
    "                index.append(index.popleft())\n",
    "        return ans\n",
    "    \n",
    "deck = [17,13,11,2,3,5,7]\n",
    "obj=Solution()\n",
    "obj.deckRevealedIncreasing(deck)"
   ]
  },
  {
   "cell_type": "markdown",
   "id": "ee3349e7-5528-4777-a35e-a9a7552e1f86",
   "metadata": {},
   "source": [
    "💡 **Question 7**\n",
    "\n",
    "Design a queue that supports `push` and `pop` operations in the front, middle, and back.\n",
    "\n",
    "Implement the `FrontMiddleBack` class:\n",
    "\n",
    "- `FrontMiddleBack()` Initializes the queue.\n",
    "- `void pushFront(int val)` Adds `val` to the **front** of the queue.\n",
    "- `void pushMiddle(int val)` Adds `val` to the **middle** of the queue.\n",
    "- `void pushBack(int val)` Adds `val` to the **back** of the queue.\n",
    "- `int popFront()` Removes the **front** element of the queue and returns it. If the queue is empty, return `1`.\n",
    "- `int popMiddle()` Removes the **middle** element of the queue and returns it. If the queue is empty, return `1`.\n",
    "- `int popBack()` Removes the **back** element of the queue and returns it. If the queue is empty, return `1`.\n",
    "\n",
    "**Notice** that when there are **two** middle position choices, the operation is performed on the **frontmost** middle position choice. For example:\n",
    "\n",
    "- Pushing `6` into the middle of `[1, 2, 3, 4, 5]` results in `[1, 2, 6, 3, 4, 5]`.\n",
    "- Popping the middle from `[1, 2, 3, 4, 5, 6]` returns `3` and results in `[1, 2, 4, 5, 6]`.\n",
    "\n",
    "**Example 1:**\n",
    "\n",
    "```\n",
    "Input:\n",
    "[\"FrontMiddleBackQueue\", \"pushFront\", \"pushBack\", \"pushMiddle\", \"pushMiddle\", \"popFront\", \"popMiddle\", \"popMiddle\", \"popBack\", \"popFront\"]\n",
    "[[], [1], [2], [3], [4], [], [], [], [], []]\n",
    "Output:\n",
    "[null, null, null, null, null, 1, 3, 4, 2, -1]\n",
    "\n",
    "Explanation:\n",
    "FrontMiddleBackQueue q = new FrontMiddleBackQueue();\n",
    "q.pushFront(1);   // [1]\n",
    "q.pushBack(2);    // [1,2]\n",
    "q.pushMiddle(3);  // [1,3, 2]\n",
    "q.pushMiddle(4);  // [1,4, 3, 2]\n",
    "q.popFront();     // return 1 -> [4, 3, 2]\n",
    "q.popMiddle();    // return 3 -> [4, 2]\n",
    "q.popMiddle();    // return 4 -> [2]\n",
    "q.popBack();      // return 2 -> []\n",
    "q.popFront();     // return -1 -> [] (The queue is empty)"
   ]
  },
  {
   "cell_type": "code",
   "execution_count": 44,
   "id": "66d2b5dd-f29f-46c0-9b7b-e8b6d7d3a81a",
   "metadata": {},
   "outputs": [
    {
     "data": {
      "text/plain": [
       "-1"
      ]
     },
     "execution_count": 44,
     "metadata": {},
     "output_type": "execute_result"
    }
   ],
   "source": [
    "class FrontMiddleBackQueue:\n",
    "\n",
    "    def __init__(self):\n",
    "        self.queue=[]\n",
    "        \n",
    "\n",
    "    def pushFront(self, val: int) -> None:\n",
    "        self.queue.insert(0,val)\n",
    "        \n",
    "\n",
    "    def pushMiddle(self, val: int) -> None:\n",
    "        n=len(self.queue)\n",
    "        self.queue.insert(n//2,val)\n",
    "    def pushBack(self, val: int) -> None:\n",
    "        self.queue.append(val)\n",
    "\n",
    "    def popFront(self) -> int:\n",
    "        if len(self.queue)==0:\n",
    "            return -1    \n",
    "        return self.queue.pop(0)\n",
    "        \n",
    "\n",
    "    def popMiddle(self) -> int:\n",
    "        if len(self.queue)==0:\n",
    "            return -1\n",
    "        n=len(self.queue)\n",
    "        if n%2==0:\n",
    "            n=(n//2)-1\n",
    "        else:\n",
    "            n=int(n//2)\n",
    "        return self.queue.pop(n)\n",
    "        \n",
    "\n",
    "    def popBack(self) -> int:\n",
    "        if len(self.queue)==0:\n",
    "            return -1 \n",
    "        return self.queue.pop()\n",
    "q = FrontMiddleBackQueue()        \n",
    "q.pushFront(1)\n",
    "q.pushBack(2)\n",
    "q.pushMiddle(3)\n",
    "q.pushMiddle(4)\n",
    "q.popFront()\n",
    "q.popMiddle()\n",
    "q.popMiddle()\n",
    "q.popBack()\n",
    "q.popFront()"
   ]
  },
  {
   "cell_type": "markdown",
   "id": "0899efde-7c21-41dc-a556-e359bd28d756",
   "metadata": {},
   "source": [
    "💡 **Question 8**\n",
    "\n",
    "For a stream of integers, implement a data structure that checks if the last `k` integers parsed in the stream are **equal** to `value`.\n",
    "\n",
    "Implement the **DataStream** class:\n",
    "\n",
    "- `DataStream(int value, int k)` Initializes the object with an empty integer stream and the two integers `value` and `k`.\n",
    "- `boolean consec(int num)` Adds `num` to the stream of integers. Returns `true` if the last `k` integers are equal to `value`, and `false` otherwise. If there are less than `k` integers, the condition does not hold true, so returns `false`.\n",
    "\n",
    "**Example 1:**\n",
    "\n",
    "```\n",
    "Input\n",
    "[\"DataStream\", \"consec\", \"consec\", \"consec\", \"consec\"]\n",
    "[[4, 3], [4], [4], [4], [3]]\n",
    "Output\n",
    "[null, false, false, true, false]\n",
    "\n",
    "Explanation\n",
    "DataStream dataStream = new DataStream(4, 3); //value = 4, k = 3\n",
    "dataStream.consec(4); // Only 1 integer is parsed, so returns False.\n",
    "dataStream.consec(4); // Only 2 integers are parsed.\n",
    "                      // Since 2 is less than k, returns False.\n",
    "dataStream.consec(4); // The 3 integers parsed are all equal to value, so returns True.\n",
    "dataStream.consec(3); // The last k integers parsed in the stream are [4,4,3].\n",
    "                      // Since 3 is not equal to value, it returns False."
   ]
  },
  {
   "cell_type": "code",
   "execution_count": 40,
   "id": "ed76bb81-b317-4e9a-99f8-8131aed8bf90",
   "metadata": {},
   "outputs": [
    {
     "data": {
      "text/plain": [
       "False"
      ]
     },
     "execution_count": 40,
     "metadata": {},
     "output_type": "execute_result"
    }
   ],
   "source": [
    "class DataStream:\n",
    "\n",
    "    def __init__(self, value: int, k: int):\n",
    "        self.count = 0 \n",
    "        self.value = value\n",
    "        self.k = k\n",
    "\n",
    "    def consec(self, num: int) -> bool:\n",
    "        if num == self.value:\n",
    "            self.count += 1\n",
    "        else: \n",
    "            self.count = 0 \n",
    "            \n",
    "        return self.count >= self.k\n",
    "obj = DataStream(4, 3)\n",
    "obj.consec(4)  \n",
    "    "
   ]
  }
 ],
 "metadata": {
  "kernelspec": {
   "display_name": "Python 3 (ipykernel)",
   "language": "python",
   "name": "python3"
  },
  "language_info": {
   "codemirror_mode": {
    "name": "ipython",
    "version": 3
   },
   "file_extension": ".py",
   "mimetype": "text/x-python",
   "name": "python",
   "nbconvert_exporter": "python",
   "pygments_lexer": "ipython3",
   "version": "3.10.6"
  }
 },
 "nbformat": 4,
 "nbformat_minor": 5
}
