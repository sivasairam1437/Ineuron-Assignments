{
 "cells": [
  {
   "cell_type": "markdown",
   "id": "313522b0-c481-4755-bc67-58895816d33b",
   "metadata": {},
   "source": [
    "<aside>\n",
    "💡 **Question 1**\n",
    "\n",
    "Given an integer `n`, return *`true` if it is a power of two. Otherwise, return `false`*.\n",
    "\n",
    "An integer `n` is a power of two, if there exists an integer `x` such that `n == 2x`.\n",
    "\n",
    "**Example 1:**\n",
    "Input: n = 1 \n",
    "\n",
    "Output: true\n",
    "\n",
    "**Example 2:**\n",
    "Input: n = 16 \n",
    "\n",
    "Output: true\n",
    "\n",
    "**Example 3:**\n",
    "Input: n = 3 \n",
    "\n",
    "Output: false\n",
    "\n",
    "</aside>"
   ]
  },
  {
   "cell_type": "code",
   "execution_count": 8,
   "id": "e43bdf36-4a17-470f-8062-ff16596d439a",
   "metadata": {},
   "outputs": [
    {
     "name": "stdout",
     "output_type": "stream",
     "text": [
      "True\n"
     ]
    }
   ],
   "source": [
    "class Solution:\n",
    "    def isPowerOfTwo(self, n: int) -> bool:\n",
    "        if n==1:\n",
    "            return True\n",
    "obj=Solution()\n",
    "print(obj.isPowerOfTwo(1))"
   ]
  },
  {
   "cell_type": "markdown",
   "id": "834d9ebf-8482-4025-9384-ebe195e9c231",
   "metadata": {},
   "source": [
    "<aside>\n",
    "💡 **Question 2**\n",
    "\n",
    "Given a number n, find the sum of the first natural numbers.\n",
    "\n",
    "**Example 1:**\n",
    "\n",
    "Input: n = 3 \n",
    "\n",
    "Output: 6\n",
    "\n",
    "**Example 2:**\n",
    "\n",
    "Input  : 5 \n",
    "\n",
    "Output : 15\n",
    "\n",
    "</aside>"
   ]
  },
  {
   "cell_type": "code",
   "execution_count": 21,
   "id": "5d2abb4c-bc91-458c-a4d8-93c29e70f70d",
   "metadata": {},
   "outputs": [
    {
     "name": "stdout",
     "output_type": "stream",
     "text": [
      "15\n"
     ]
    }
   ],
   "source": [
    "class solution:\n",
    "    def findSum(n) :\n",
    "        sum = 0\n",
    "        x = 1\n",
    "        while x <=n :\n",
    "            sum = sum + x\n",
    "            x = x + 1\n",
    "        return sum\n",
    "n = 5\n",
    "print(findSum(n))"
   ]
  },
  {
   "cell_type": "markdown",
   "id": "34cdffc4-19fd-482d-a3d5-996c0ef5bb63",
   "metadata": {},
   "source": [
    "<aside>\n",
    "💡 **Question 3**\n",
    "\n",
    "****Given a positive integer, N. Find the factorial of N. \n",
    "\n",
    "**Example 1:**\n",
    "\n",
    "Input: N = 5 \n",
    "\n",
    "Output: 120\n",
    "\n",
    "**Example 2:**\n",
    "\n",
    "Input: N = 4\n",
    "\n",
    "Output: 24\n",
    "\n",
    "</aside>"
   ]
  },
  {
   "cell_type": "code",
   "execution_count": 27,
   "id": "b03f87fd-c867-4150-b2b7-6813ec03b3ac",
   "metadata": {},
   "outputs": [
    {
     "name": "stdout",
     "output_type": "stream",
     "text": [
      "Factorial of 5 is 120\n"
     ]
    }
   ],
   "source": [
    "class solution(): \n",
    "    def factorial(n):\n",
    "\n",
    "        res = 1\n",
    "\n",
    "        for i in range(2, n+1):\n",
    "            res *= i\n",
    "        return res\n",
    "     # Driver Code\n",
    "num = 5\n",
    "print(\"Factorial of\", num, \"is\",\n",
    "factorial(num))"
   ]
  },
  {
   "cell_type": "markdown",
   "id": "1babbd97-e945-4715-a682-450d70c124d3",
   "metadata": {},
   "source": [
    "<aside>\n",
    "💡 **Question 4**\n",
    "\n",
    "Given a number N and a power P, the task is to find the exponent of this number raised to the given power, i.e. N^P.\n",
    "\n",
    "**Example 1 :** \n",
    "\n",
    "Input: N = 5, P = 2\n",
    "\n",
    "Output: 25\n",
    "\n",
    "**Example 2 :**\n",
    "Input: N = 2, P = 5\n",
    "\n",
    "Output: 32\n",
    "\n",
    "</aside>"
   ]
  },
  {
   "cell_type": "code",
   "execution_count": 32,
   "id": "2817fded-b19e-4dc8-9d3c-0ec8b406ef8e",
   "metadata": {},
   "outputs": [
    {
     "name": "stdout",
     "output_type": "stream",
     "text": [
      "32\n"
     ]
    }
   ],
   "source": [
    "class solution:    \n",
    "    def calc_power(N, p):\n",
    "        if p == 0:\n",
    "            return 1\n",
    "        return N * calc_power(N, p-1)\n",
    "\n",
    "print(calc_power(2, 5))"
   ]
  },
  {
   "cell_type": "markdown",
   "id": "6583f1ae-adae-4efe-82ef-d00f89fb764a",
   "metadata": {},
   "source": [
    "<aside>\n",
    "💡 **Question 5**\n",
    "\n",
    "Given an array of integers **arr**, the task is to find maximum element of that array using recursion.\n",
    "\n",
    "**Example 1:**\n",
    "\n",
    "Input: arr = {1, 4, 3, -5, -4, 8, 6};\n",
    "Output: 8\n",
    "\n",
    "**Example 2:**\n",
    "\n",
    "Input: arr = {1, 4, 45, 6, 10, -8};\n",
    "Output: 45\n",
    "\n",
    "</aside>"
   ]
  },
  {
   "cell_type": "code",
   "execution_count": 39,
   "id": "f73b0667-127b-483e-b792-626e5c27a6dd",
   "metadata": {},
   "outputs": [
    {
     "name": "stdout",
     "output_type": "stream",
     "text": [
      "Largest in given array is 8\n"
     ]
    }
   ],
   "source": [
    "class solution:\n",
    "    def largest(arr, n):\n",
    "\n",
    "        # Initialize maximum element\n",
    "        mx = arr[0]\n",
    "\n",
    "        # Traverse array elements from second\n",
    "        # and compare every element with\n",
    "        # current max\n",
    "        for i in range(1, n):\n",
    "            if arr[i] > mx:\n",
    "                mx = arr[i]\n",
    "\n",
    "        return mx\n",
    "# Driver Code\n",
    "if __name__ == '__main__':\n",
    "\tarr = [1, 4, 3, -5, -4, 8, 6]\n",
    "\tn = len(arr)\n",
    "\t\n",
    "\t# Calculating length of an array\n",
    "\tAns = largest(arr, n)\n",
    "\t\n",
    "\t# display max\n",
    "\tprint(\"Largest in given array is\", Ans)"
   ]
  },
  {
   "cell_type": "markdown",
   "id": "dc35bbce-f2e0-4534-aa15-a47707b314bb",
   "metadata": {},
   "source": [
    "<aside>\n",
    "💡 **Question 6**\n",
    "\n",
    "Given first term (a), common difference (d) and a integer N of the Arithmetic Progression series, the task is to find Nth term of the series.\n",
    "\n",
    "**Example 1:**\n",
    "\n",
    "Input : a = 2 d = 1 N = 5\n",
    "Output : 6\n",
    "The 5th term of the series is : 6\n",
    "\n",
    "**Example 2:**\n",
    "\n",
    "Input : a = 5 d = 2 N = 10\n",
    "Output : 23\n",
    "The 10th term of the series is : 23\n",
    "\n",
    "</aside>"
   ]
  },
  {
   "cell_type": "code",
   "execution_count": 41,
   "id": "c217af62-85f9-4799-843d-0897828d7765",
   "metadata": {},
   "outputs": [
    {
     "name": "stdout",
     "output_type": "stream",
     "text": [
      "The  5 th term of the series is :  6\n"
     ]
    }
   ],
   "source": [
    "# Python 3 Program to\n",
    "# find nth term of\n",
    "# Arithmetic progression\n",
    "\n",
    "def Nth_of_AP(a, d, N) :\n",
    "\n",
    "\t# using formula to find the\n",
    "\t# Nth term t(n) = a(1) + (n-1)*d\n",
    "\treturn (a + (N - 1) * d)\n",
    "\t\n",
    "\n",
    "# Driver code\n",
    "a = 2 # starting number\n",
    "d = 1 # Common difference\n",
    "N = 5 # N th term to be find\n",
    "\n",
    "# Display the output\n",
    "print( \"The \", N ,\"th term of the series is : \",\n",
    "\tNth_of_AP(a, d, N))"
   ]
  },
  {
   "cell_type": "markdown",
   "id": "a5e011f7-0613-4fe3-be4d-f1344a53820d",
   "metadata": {},
   "source": [
    "<aside>\n",
    "💡 **Question 7**\n",
    "\n",
    "Given a string S, the task is to write a program to print all permutations of a given string.\n",
    "\n",
    "**Example 1:**\n",
    "\n",
    "***Input:***\n",
    "\n",
    "*S = “ABC”*\n",
    "\n",
    "***Output:***\n",
    "\n",
    "*“ABC”, “ACB”, “BAC”, “BCA”, “CBA”, “CAB”*\n",
    "\n",
    "**Example 2:**\n",
    "\n",
    "***Input:***\n",
    "\n",
    "*S = “XY”*\n",
    "\n",
    "***Output:***\n",
    "\n",
    "*“XY”, “YX”*\n",
    "\n",
    "</aside>"
   ]
  },
  {
   "cell_type": "code",
   "execution_count": 42,
   "id": "6a2a54dd-37c7-4bb3-937c-42a9a59021b6",
   "metadata": {},
   "outputs": [
    {
     "name": "stdout",
     "output_type": "stream",
     "text": [
      "ABC\n",
      "ACB\n",
      "BAC\n",
      "BCA\n",
      "CBA\n",
      "CAB\n"
     ]
    }
   ],
   "source": [
    "# Python3 program to print all permutations with\n",
    "# duplicates allowed\n",
    "\n",
    "\n",
    "def toString(List):\n",
    "\treturn ''.join(List)\n",
    "\n",
    "# Function to print permutations of string\n",
    "# This function takes three parameters:\n",
    "# 1. String\n",
    "# 2. Starting index of the string\n",
    "# 3. Ending index of the string.\n",
    "\n",
    "\n",
    "def permute(a, l, r):\n",
    "\tif l == r:\n",
    "\t\tprint(toString(a))\n",
    "\telse:\n",
    "\t\tfor i in range(l, r):\n",
    "\t\t\ta[l], a[i] = a[i], a[l]\n",
    "\t\t\tpermute(a, l+1, r)\n",
    "\t\t\ta[l], a[i] = a[i], a[l] # backtrack\n",
    "\n",
    "\n",
    "# Driver code\n",
    "string = \"ABC\"\n",
    "n = len(string)\n",
    "a = list(string)\n",
    "\n",
    "# Function call\n",
    "permute(a, 0, n)"
   ]
  },
  {
   "cell_type": "markdown",
   "id": "ac3170d4-fadd-4274-8737-60448dc05bd8",
   "metadata": {},
   "source": [
    "<aside>\n",
    "💡 **Question 8**\n",
    "\n",
    "Given an array, find a product of all array elements.\n",
    "\n",
    "**Example 1:**\n",
    "\n",
    "Input  : arr[] = {1, 2, 3, 4, 5}\n",
    "Output : 120\n",
    "**Example 2:**\n",
    "\n",
    "Input  : arr[] = {1, 6, 3}\n",
    "Output : 18\n",
    "\n",
    "</aside>"
   ]
  },
  {
   "cell_type": "code",
   "execution_count": 43,
   "id": "e7df4024-0432-4877-aea5-0a6bff1499bf",
   "metadata": {},
   "outputs": [
    {
     "name": "stdout",
     "output_type": "stream",
     "text": [
      "120\n"
     ]
    }
   ],
   "source": [
    "# Python3 program to find\n",
    "# product of array elements.\n",
    "def product(ar, n):\n",
    "\n",
    "\tresult = 1\n",
    "\tfor i in range(0, n):\n",
    "\t\tresult = result * ar[i]\n",
    "\treturn result\n",
    "\n",
    "\n",
    "# Driver Code\n",
    "ar = [ 1, 2, 3, 4, 5 ]\n",
    "n = len(ar)\n",
    "\n",
    "print(product(ar, n))"
   ]
  }
 ],
 "metadata": {
  "kernelspec": {
   "display_name": "Python 3 (ipykernel)",
   "language": "python",
   "name": "python3"
  },
  "language_info": {
   "codemirror_mode": {
    "name": "ipython",
    "version": 3
   },
   "file_extension": ".py",
   "mimetype": "text/x-python",
   "name": "python",
   "nbconvert_exporter": "python",
   "pygments_lexer": "ipython3",
   "version": "3.10.6"
  }
 },
 "nbformat": 4,
 "nbformat_minor": 5
}
