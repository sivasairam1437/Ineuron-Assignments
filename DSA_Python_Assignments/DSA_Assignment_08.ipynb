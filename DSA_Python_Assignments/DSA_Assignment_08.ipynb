{
 "cells": [
  {
   "cell_type": "markdown",
   "id": "27947ec7-b629-4405-80b0-3d6c45f33119",
   "metadata": {},
   "source": [
    "<aside>\n",
    "💡 **Question 1**\n",
    "\n",
    "Given two strings s1 and s2, return *the lowest **ASCII** sum of deleted characters to make two strings equal*.\n",
    "\n",
    "**Example 1:**\n",
    "\n",
    "**Input:** s1 = \"sea\", s2 = \"eat\"\n",
    "\n",
    "**Output:** 231\n",
    "\n",
    "**Explanation:** Deleting \"s\" from \"sea\" adds the ASCII value of \"s\" (115) to the sum.\n",
    "\n",
    "Deleting \"t\" from \"eat\" adds 116 to the sum.\n",
    "\n",
    "At the end, both strings are equal, and 115 + 116 = 231 is the minimum sum possible to achieve this.\n",
    "\n",
    "</aside>"
   ]
  },
  {
   "cell_type": "code",
   "execution_count": 1,
   "id": "663b2954-57d1-41b1-8327-0f3aa910b141",
   "metadata": {},
   "outputs": [
    {
     "data": {
      "text/plain": [
       "231"
      ]
     },
     "execution_count": 1,
     "metadata": {},
     "output_type": "execute_result"
    }
   ],
   "source": [
    "class Solution:\n",
    "    def minimumDeleteSum(self, s1: str, s2: str) -> int:\n",
    "        m = len(s1)\n",
    "        n = len(s2)\n",
    "        \n",
    "        dp = [[0 for i in range(len(s1) + 1)] for j in range(len(s2) + 1)]\n",
    "\n",
    "        for i in range(len(s2) + 1):\n",
    "            for j in range(len(s1) + 1):\n",
    "                if i == 0 and j == 0: \n",
    "                    continue\n",
    "                elif i == 0:\n",
    "                    dp[i][j] += dp[i][j-1] + ord(s1[j-1])\n",
    "                elif j  == 0:\n",
    "                    dp[i][j] += dp[i-1][j] + ord(s2[i-1])\n",
    "                elif s1[j-1] == s2[i-1]:\n",
    "                    dp[i][j] = dp[i-1][j-1]\n",
    "                else:\n",
    "                    dp[i][j] = min(ord(s1[j-1]) + dp[i][j-1], ord(s2[i-1]) + dp[i-1][j])\n",
    "        \n",
    "        return dp[n][m]\n",
    "obj=Solution()\n",
    "obj.minimumDeleteSum(\"sea\",\"eat\")\n"
   ]
  },
  {
   "cell_type": "markdown",
   "id": "9ae60df7-2aca-4537-ab45-7d478de08451",
   "metadata": {},
   "source": [
    "Given a string s containing only three types of characters: '(', ')' and '*', return true *if* s *is **valid***.\n",
    "\n",
    "The following rules define a **valid** string:\n",
    "\n",
    "- Any left parenthesis '(' must have a corresponding right parenthesis ')'.\n",
    "- Any right parenthesis ')' must have a corresponding left parenthesis '('.\n",
    "- Left parenthesis '(' must go before the corresponding right parenthesis ')'.\n",
    "- '*' could be treated as a single right parenthesis ')' or a single left parenthesis '(' or an empty string \"\".\n",
    "\n",
    "**Example 1:**\n",
    "\n",
    "**Input:** s = \"()\"\n",
    "\n",
    "**Output:**\n",
    "\n",
    "true"
   ]
  },
  {
   "cell_type": "code",
   "execution_count": 2,
   "id": "f264998a-d9d9-4a04-b7e5-f5a84b80d180",
   "metadata": {},
   "outputs": [
    {
     "data": {
      "text/plain": [
       "True"
      ]
     },
     "execution_count": 2,
     "metadata": {},
     "output_type": "execute_result"
    }
   ],
   "source": [
    "class Solution:\n",
    "    def checkValidString(self, s) -> bool:\n",
    "        st=[]\n",
    "        sr=[]\n",
    "        for i in range(len(s)):\n",
    "            if s[i]=='(':\n",
    "                st.append(i)\n",
    "            elif s[i]== '*':\n",
    "                sr.append(i)\n",
    "            else:\n",
    "                if st:\n",
    "                    st.pop()\n",
    "                elif sr:\n",
    "                    sr.pop()\n",
    "                else:\n",
    "                    return False\n",
    "        while st:\n",
    "            if len(sr)==0:\n",
    "                return False\n",
    "            elif st[-1]< sr[-1]:\n",
    "                st.pop()\n",
    "                sr.pop()\n",
    "            else:\n",
    "                return False\n",
    "        return True\n",
    "obj=Solution()\n",
    "obj.checkValidString(\"()\")"
   ]
  },
  {
   "cell_type": "markdown",
   "id": "7918af97-c863-4983-afc8-fca4a98e0d9c",
   "metadata": {},
   "source": [
    "<aside>\n",
    "💡 **Question 3**\n",
    "\n",
    "Given two strings word1 and word2, return *the minimum number of **steps** required to make* word1 *and* word2 *the same*.\n",
    "\n",
    "In one **step**, you can delete exactly one character in either string.\n",
    "\n",
    "**Example 1:**\n",
    "\n",
    "**Input:** word1 = \"sea\", word2 = \"eat\"\n",
    "\n",
    "**Output:** 2\n",
    "\n",
    "**Explanation:** You need one step to make \"sea\" to \"ea\" and another step to make \"eat\" to \"ea\".\n",
    "\n",
    "</aside>"
   ]
  },
  {
   "cell_type": "code",
   "execution_count": 3,
   "id": "83896737-e510-4a4a-b2e1-a1c3bc4a2bc6",
   "metadata": {},
   "outputs": [
    {
     "data": {
      "text/plain": [
       "2"
      ]
     },
     "execution_count": 3,
     "metadata": {},
     "output_type": "execute_result"
    }
   ],
   "source": [
    "class Solution:\n",
    "    def minDistance(self, word1: str, word2: str) -> int:\n",
    "        m, n = len(word1), len(word2)\n",
    "        dp = [[0] * (n + 1) for _ in range(m + 1)]\n",
    "        \n",
    "        # fill in the dynamic programming table\n",
    "        for i in range(1, m + 1):\n",
    "            for j in range(1, n + 1):\n",
    "                if word1[i - 1] == word2[j - 1]:\n",
    "                    dp[i][j] = dp[i - 1][j - 1] + 1\n",
    "                else:\n",
    "                    dp[i][j] = max(dp[i - 1][j], dp[i][j - 1])\n",
    "        \n",
    "        # return the minimum number of deletions required\n",
    "        return m + n - 2 * dp[m][n]\n",
    "obj=Solution()\n",
    "obj.minDistance(\"sea\", \"eat\")"
   ]
  },
  {
   "cell_type": "markdown",
   "id": "701b721a-93f7-415f-8fa3-a06635858115",
   "metadata": {},
   "source": [
    "<aside>\n",
    "💡 **Question 4**\n",
    "\n",
    "You need to construct a binary tree from a string consisting of parenthesis and integers.\n",
    "\n",
    "The whole input represents a binary tree. It contains an integer followed by zero, one or two pairs of parenthesis. The integer represents the root's value and a pair of parenthesis contains a child binary tree with the same structure.\n",
    "You always start to construct the **left** child node of the parent first if it exists.\n",
    "\n",
    "</aside>\n",
    "**Input:** s = \"4(2(3)(1))(6(5))\"\n",
    "\n",
    "**Output:** [4,2,6,3,1,5]"
   ]
  },
  {
   "cell_type": "code",
   "execution_count": 8,
   "id": "e2d279b3-bfbf-41f5-af43-97139252dec0",
   "metadata": {},
   "outputs": [
    {
     "ename": "SyntaxError",
     "evalue": "unmatched '}' (126158302.py, line 38)",
     "output_type": "error",
     "traceback": [
      "\u001b[0;36m  Cell \u001b[0;32mIn [8], line 38\u001b[0;36m\u001b[0m\n\u001b[0;31m    }\u001b[0m\n\u001b[0m    ^\u001b[0m\n\u001b[0;31mSyntaxError\u001b[0m\u001b[0;31m:\u001b[0m unmatched '}'\n"
     ]
    }
   ],
   "source": [
    "class Solution:\n",
    "    public TreeNode str2tree(String s) {\n",
    "        if (s == null || s.length() == 0) {\n",
    "            return null;\n",
    "        }\n",
    "\n",
    "        Stack<TreeNode> stack = new Stack<>();\n",
    "\n",
    "        for (int end = 0, start = 0; end < s.length(); end++, start = end) {\n",
    "            char c = s.charAt(end);\n",
    "\n",
    "            if (c == '(') {\n",
    "                continue;\n",
    "            }\n",
    "            else if (c == ')') {\n",
    "                stack.pop();\n",
    "            }\n",
    "            else {\n",
    "                while (end + 1< s.length() && Character.isDigit(s.charAt(end + 1))) {\n",
    "                    ++end;\n",
    "                }\n",
    "                TreeNode curNode = new TreeNode(Integer.parseInt(s.substring(start, end + 1)));\n",
    "\n",
    "                if (!stack.isEmpty()) {\n",
    "                    TreeNode parentNode = stack.peek();\n",
    "                    if (parentNode.left != null) {\n",
    "                        parentNode.right = curNode;\n",
    "                    }\n",
    "                    else {\n",
    "                        parentNode.left = curNode;\n",
    "                    }\n",
    "                }\n",
    "                stack.push(curNode);\n",
    "            }\n",
    "        }\n",
    "        return stack.isEmpty() ? null : stack.peek();\n",
    "    }\n",
    "}"
   ]
  },
  {
   "cell_type": "markdown",
   "id": "d6462b43-c251-42cf-b1e3-5ac006d69774",
   "metadata": {},
   "source": [
    "<aside>\n",
    "💡 **Question 5**\n",
    "\n",
    "Given an array of characters chars, compress it using the following algorithm:\n",
    "\n",
    "Begin with an empty string s. For each group of **consecutive repeating characters** in chars:\n",
    "\n",
    "- If the group's length is 1, append the character to s.\n",
    "- Otherwise, append the character followed by the group's length.\n",
    "\n",
    "The compressed string s **should not be returned separately**, but instead, be stored **in the input character array chars**. Note that group lengths that are 10 or longer will be split into multiple characters in chars.\n",
    "\n",
    "After you are done **modifying the input array,** return *the new length of the array*.\n",
    "\n",
    "You must write an algorithm that uses only constant extra space.\n",
    "\n",
    "**Example 1:**\n",
    "\n",
    "**Input:** chars = [\"a\",\"a\",\"b\",\"b\",\"c\",\"c\",\"c\"]\n",
    "\n",
    "**Output:** Return 6, and the first 6 characters of the input array should be: [\"a\",\"2\",\"b\",\"2\",\"c\",\"3\"]\n",
    "\n",
    "**Explanation:**\n",
    "\n",
    "The groups are \"aa\", \"bb\", and \"ccc\". This compresses to \"a2b2c3\".\n",
    "\n",
    "</aside>"
   ]
  },
  {
   "cell_type": "code",
   "execution_count": 11,
   "id": "836e1f9c-935a-4abc-8e52-60b037f70b8a",
   "metadata": {},
   "outputs": [
    {
     "name": "stdout",
     "output_type": "stream",
     "text": [
      "6\n",
      "['a', '2', 'b', '2', 'c', '3']\n"
     ]
    }
   ],
   "source": [
    "class Solution:\n",
    "    def compress(self, chars: list[str]) -> int:\n",
    "        i=0\n",
    "        count=1\n",
    "        while i<len(chars)-1:\n",
    "            if chars[i+1]==chars[i]:\n",
    "                chars.pop(i+1)\n",
    "                count+=1\n",
    "            elif count>1:\n",
    "                cc=[*str(count)]\n",
    "                for j in range(len(cc)):\n",
    "                    chars.insert(i+j+1,cc[j])\n",
    "                count=1\n",
    "                i+=len(cc)+1\n",
    "            else:\n",
    "                i+=1\n",
    "        if count>1:\n",
    "            chars+=[*str(count)]\n",
    "        return len(chars)\n",
    "chars = [\"a\",\"a\",\"b\",\"b\",\"c\",\"c\",\"c\"]\n",
    "obj=Solution()\n",
    "print(obj.compress(chars))\n",
    "print(chars)"
   ]
  },
  {
   "cell_type": "markdown",
   "id": "0e66fe9a-2f1f-4aa5-b7b8-3072f8d1f3e3",
   "metadata": {},
   "source": [
    "<aside>\n",
    "💡 **Question 6**\n",
    "\n",
    "Given two strings s and p, return *an array of all the start indices of* p*'s anagrams in* s. You may return the answer in **any order**.\n",
    "\n",
    "An **Anagram** is a word or phrase formed by rearranging the letters of a different word or phrase, typically using all the original letters exactly once.\n",
    "\n",
    "**Example 1:**\n",
    "\n",
    "**Input:** s = \"cbaebabacd\", p = \"abc\"\n",
    "\n",
    "**Output:** [0,6]\n",
    "\n",
    "**Explanation:**\n",
    "\n",
    "The substring with start index = 0 is \"cba\", which is an anagram of \"abc\".\n",
    "\n",
    "The substring with start index = 6 is \"bac\", which is an anagram of \"abc\".\n",
    "\n",
    "</aside>"
   ]
  },
  {
   "cell_type": "code",
   "execution_count": 14,
   "id": "79641090-4b9f-4596-a184-f0d7c8b7159b",
   "metadata": {},
   "outputs": [
    {
     "name": "stdout",
     "output_type": "stream",
     "text": [
      "[0, 6]\n"
     ]
    }
   ],
   "source": [
    "from collections import Counter\n",
    "from typing import List\n",
    "class Solution:\n",
    "    def findAnagrams(self, s: str, p: str) -> List[int]:\n",
    "        if len(s) < len(p):\n",
    "            return []\n",
    "        c= Counter(p)\n",
    "        result =[]\n",
    "        for i in range(len(s)-len(p) +1):\n",
    "            temp = Counter(s[i:i+len(p)])\n",
    "            if temp == c:\n",
    "                result.append(i)\n",
    "        return result        \n",
    "    \n",
    "s = \"cbaebabacd\"\n",
    "p = \"abc\"\n",
    "obj=Solution()\n",
    "print(obj.findAnagrams(s,p))   "
   ]
  },
  {
   "cell_type": "markdown",
   "id": "8e5a52fc-d7ea-4d85-9497-79e11860af87",
   "metadata": {},
   "source": [
    "<aside>\n",
    "💡 **Question 7**\n",
    "\n",
    "Given an encoded string, return its decoded string.\n",
    "\n",
    "The encoding rule is: k[encoded_string], where the encoded_string inside the square brackets is being repeated exactly k times. Note that k is guaranteed to be a positive integer.\n",
    "\n",
    "You may assume that the input string is always valid; there are no extra white spaces, square brackets are well-formed, etc. Furthermore, you may assume that the original data does not contain any digits and that digits are only for those repeat numbers, k. For example, there will not be input like 3a or 2[4].\n",
    "\n",
    "The test cases are generated so that the length of the output will never exceed 105.\n",
    "\n",
    "**Example 1:**\n",
    "\n",
    "**Input:** s = \"3[a]2[bc]\"\n",
    "\n",
    "**Output:** \"aaabcbc\"\n",
    "\n",
    "</aside>"
   ]
  },
  {
   "cell_type": "code",
   "execution_count": 18,
   "id": "a0e53c77-21a5-4b57-95b7-3bf0b8e644a4",
   "metadata": {},
   "outputs": [
    {
     "data": {
      "text/plain": [
       "'aaabcbc'"
      ]
     },
     "execution_count": 18,
     "metadata": {},
     "output_type": "execute_result"
    }
   ],
   "source": [
    "class Solution:\n",
    "    def decodeString(self, s: str) -> str:\n",
    "        stack = []\n",
    "        cur = \"\"\n",
    "        k = 0\n",
    "        for c in s:\n",
    "            if c == \"[\":\n",
    "                stack.append((cur, k))\n",
    "                cur, k = \"\", 0 # reset global vars\n",
    "            elif c == \"]\":\n",
    "                enc, n = stack.pop()\n",
    "                cur = enc + n * cur \n",
    "            elif c.isdigit():\n",
    "                k = k * 10 + int(c) # for two and three digit numbers\n",
    "            else:\n",
    "                cur += c # track the lower case letters\n",
    "        return cur\n",
    "obj=Solution()\n",
    "obj.decodeString(\"3[a]2[bc]\")"
   ]
  },
  {
   "cell_type": "markdown",
   "id": "cb6f0177-2105-4742-b9ef-0e808b9dccb0",
   "metadata": {},
   "source": [
    "<aside>\n",
    "💡 **Question 8**\n",
    "\n",
    "Given two strings s and goal, return true *if you can swap two letters in* s *so the result is equal to* goal*, otherwise, return* false*.*\n",
    "\n",
    "Swapping letters is defined as taking two indices i and j (0-indexed) such that i != j and swapping the characters at s[i] and s[j].\n",
    "\n",
    "- For example, swapping at indices 0 and 2 in \"abcd\" results in \"cbad\".\n",
    "\n",
    "**Example 1:**\n",
    "\n",
    "**Input:** s = \"ab\", goal = \"ba\"\n",
    "\n",
    "**Output:** true\n",
    "\n",
    "**Explanation:** You can swap s[0] = 'a' and s[1] = 'b' to get \"ba\", which is equal to goal.\n",
    "\n",
    "</aside>"
   ]
  },
  {
   "cell_type": "code",
   "execution_count": 19,
   "id": "92594f20-5efc-4bd1-b587-888258869d40",
   "metadata": {},
   "outputs": [
    {
     "data": {
      "text/plain": [
       "True"
      ]
     },
     "execution_count": 19,
     "metadata": {},
     "output_type": "execute_result"
    }
   ],
   "source": [
    "class Solution:\n",
    "    def buddyStrings(self, A: str, B: str) -> bool:\n",
    "        # goal: make one swap to A sp that A == B\n",
    "        \n",
    "        # length\n",
    "        if len(A) != len(B):\n",
    "            return False\n",
    "        \n",
    "        # A == B condition\n",
    "        if A == B and len(set(A)) < len(A):\n",
    "            return True\n",
    "        \n",
    "        # The length is same so now we check weather or not we can reach B by making a single swap\n",
    "        differences = []\n",
    "        for x in range(len(B)):\n",
    "            if A[x] != B[x]:\n",
    "                differences.append([A[x], B[x]])\n",
    "\n",
    "        if len(differences) == 2 and differences[0] == differences[-1][::-1]:\n",
    "            return True\n",
    "        \n",
    "        return False\n",
    "obj=Solution()\n",
    "obj.buddyStrings(\"ab\",\"ba\")"
   ]
  }
 ],
 "metadata": {
  "kernelspec": {
   "display_name": "Python 3 (ipykernel)",
   "language": "python",
   "name": "python3"
  },
  "language_info": {
   "codemirror_mode": {
    "name": "ipython",
    "version": 3
   },
   "file_extension": ".py",
   "mimetype": "text/x-python",
   "name": "python",
   "nbconvert_exporter": "python",
   "pygments_lexer": "ipython3",
   "version": "3.10.6"
  }
 },
 "nbformat": 4,
 "nbformat_minor": 5
}
