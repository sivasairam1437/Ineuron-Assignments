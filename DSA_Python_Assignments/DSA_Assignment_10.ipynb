{
 "cells": [
  {
   "cell_type": "code",
   "execution_count": null,
   "id": "040db91b-5034-43d0-b836-7bd3ff1f1a54",
   "metadata": {},
   "outputs": [],
   "source": [
    "💡 **Question 1**\n",
    "\n",
    "Given an integer `n`, return *`true` if it is a power of three. Otherwise, return `false`*.\n",
    "\n",
    "An integer `n` is a power of three, if there exists an integer `x` such that `n == 3x`.\n",
    "\n",
    "**Example 1:**\n",
    "\n",
    "```\n",
    "Input: n = 27\n",
    "Output: true\n",
    "Explanation: 27 = 33\n",
    "```\n",
    "**Example 2:**\n",
    "\n",
    "```\n",
    "Input: n = 0\n",
    "Output: false\n",
    "Explanation: There is no x where 3x = 0.\n",
    "\n",
    "```\n",
    "\n",
    "**Example 3:**\n",
    "\n",
    "```\n",
    "Input: n = -1\n",
    "Output: false\n",
    "Explanation: There is no x where 3x = (-1)."
   ]
  },
  {
   "cell_type": "code",
   "execution_count": 4,
   "id": "c9a94958-2c52-416e-a794-7602974e7ae0",
   "metadata": {},
   "outputs": [
    {
     "name": "stdout",
     "output_type": "stream",
     "text": [
      "True\n",
      "False\n",
      "False\n"
     ]
    }
   ],
   "source": [
    "class Solution:\n",
    "    def isPowerOfThree(self, n: int) -> bool:\n",
    "        if n<1:\n",
    "            return False\n",
    "        while(n%3 ==0):\n",
    "            n=n//3\n",
    "        return n==1\n",
    "obj=Solution()\n",
    "print(obj.isPowerOfThree(27))\n",
    "print(obj.isPowerOfThree(0))\n",
    "print(obj.isPowerOfThree(-1))"
   ]
  },
  {
   "cell_type": "code",
   "execution_count": null,
   "id": "fa9b639d-39fa-4983-9134-3351d7a27276",
   "metadata": {},
   "outputs": [],
   "source": [
    "💡 **Question 2**\n",
    "\n",
    "You have a list `arr` of all integers in the range `[1, n]` sorted in a strictly increasing order. Apply the following algorithm on `arr`:\n",
    "\n",
    "- Starting from left to right, remove the first number and every other number afterward until you reach the end of the list.\n",
    "- Repeat the previous step again, but this time from right to left, remove the rightmost number and every other number from the remaining numbers.\n",
    "- Keep repeating the steps again, alternating left to right and right to left, until a single number remains.\n",
    "\n",
    "Given the integer `n`, return *the last number that remains in* `arr`.\n",
    "\n",
    "**Example 1:**\n",
    "\n",
    "```\n",
    "Input: n = 9\n",
    "Output: 6\n",
    "Explanation:\n",
    "arr = [1, 2,3, 4,5, 6,7, 8,9]\n",
    "arr = [2,4, 6,8]\n",
    "arr = [2, 6]\n",
    "arr = [6]\n",
    "\n",
    "```\n",
    "\n",
    "**Example 2:**\n",
    "\n",
    "```\n",
    "Input: n = 1\n",
    "Output: 1"
   ]
  },
  {
   "cell_type": "code",
   "execution_count": 11,
   "id": "b04b2ef8-d6f2-4677-99de-b7334e369505",
   "metadata": {},
   "outputs": [
    {
     "name": "stdout",
     "output_type": "stream",
     "text": [
      "6\n",
      "1\n"
     ]
    }
   ],
   "source": [
    "class Solution:\n",
    "    def lastRemaining(self, n: int) -> int:\n",
    "        N = n   # number of remaining numbers\n",
    "        fwd = True   # flag for forward/backward elimination\n",
    "        m = 2    # elimination step/interval\n",
    "        s = 0   # elimination base\n",
    "\n",
    "        while N > 1:\n",
    "            if fwd or N % 2 == 1: \n",
    "                s += m // 2\n",
    "            m *= 2\n",
    "            N = N // 2\n",
    "            fwd = not fwd   # reverse the pass direction\n",
    "        return s+1\n",
    "obj=Solution()\n",
    "print(obj.lastRemaining(9))\n",
    "print(obj.lastRemaining(1))"
   ]
  },
  {
   "cell_type": "code",
   "execution_count": null,
   "id": "6d01bc84-dc3a-4e1c-a085-893a5196a8fd",
   "metadata": {},
   "outputs": [],
   "source": [
    "💡 **Question 3**\n",
    "\n",
    "****Given a set represented as a string, write a recursive code to print all subsets of it. The subsets can be printed in any order.\n",
    "\n",
    "**Example 1:**\n",
    "\n",
    "Input :  set = “abc”\n",
    "\n",
    "Output : { “”, “a”, “b”, “c”, “ab”, “ac”, “bc”, “abc”}\n",
    "\n",
    "**Example 2:**\n",
    "\n",
    "Input : set = “abcd”\n",
    "\n",
    "Output : { “”, “a” ,”ab” ,”abc” ,”abcd”, “abd” ,”ac” ,”acd”, “ad” ,”b”, “bc” ,”bcd” ,”bd” ,”c” ,”cd” ,”d” }"
   ]
  },
  {
   "cell_type": "code",
   "execution_count": 50,
   "id": "a7e66128-73a7-46f0-b9da-02b2b481fab6",
   "metadata": {},
   "outputs": [
    {
     "name": "stdout",
     "output_type": "stream",
     "text": [
      "['', 'abc', 'ac', 'ab', 'bc', 'c', 'b', 'a']\n",
      "['', 'abcd', 'abd', 'abc', 'acd', 'ad', 'ac', 'ab', 'bcd', 'bd', 'bc', 'cd', 'd', 'c', 'b', 'a']\n"
     ]
    }
   ],
   "source": [
    "class Solution:\n",
    "    def string_subset(self, s):\n",
    "        prefix=''\n",
    "        out=['']\n",
    "        if len(s) > 0:\n",
    "            recur(s[1:], prefix+s[0], out)\n",
    "            recur(s[1:], prefix, out)\n",
    "            out.append(prefix+s[0])\n",
    "        return out\n",
    "obj=Solution()\n",
    "print(obj.string_subset(\"abc\"))\n",
    "print(obj.string_subset(\"abcd\"))\n",
    "\n",
    " "
   ]
  },
  {
   "cell_type": "code",
   "execution_count": null,
   "id": "e3eaea82-8e41-4cc9-b870-ece70e45d5d7",
   "metadata": {},
   "outputs": [],
   "source": [
    "💡 **Question 4**\n",
    "\n",
    "Given a string calculate length of the string using recursion.\n",
    "\n",
    "**Examples:**\n",
    "\n",
    "```\n",
    "Input : str = \n",
    "Output :4\n",
    "\n",
    "Input : str = \"GEEKSFORGEEKS\"\n",
    "Output :13"
   ]
  },
  {
   "cell_type": "code",
   "execution_count": 39,
   "id": "5e5c3409-a9c4-4acb-84e5-12e4cea41114",
   "metadata": {},
   "outputs": [
    {
     "name": "stdout",
     "output_type": "stream",
     "text": [
      "4\n",
      "13\n"
     ]
    }
   ],
   "source": [
    "class Solution:\n",
    "    def string_length(self,str) :\n",
    "        # if we reach at the end of the string\n",
    "        if str == '':\n",
    "            return 0\n",
    "        else :\n",
    "            return 1 + self.string_length(str[1:])\n",
    "obj=Solution()\n",
    "print(obj.string_length(\"abcd\"))\n",
    "print(obj.string_length(\"GeeksforGeeks\"))"
   ]
  },
  {
   "cell_type": "code",
   "execution_count": null,
   "id": "9d0fe8d9-400c-4485-aaee-11b2c8bb8faf",
   "metadata": {},
   "outputs": [],
   "source": [
    "💡 **Question 5**\n",
    "\n",
    "We are given a string S, we need to find count of all contiguous substrings starting and ending with same character.\n",
    "\n",
    "**Examples :**\n",
    "\n",
    "```\n",
    "Input  : S = \"abcab\"\n",
    "Output : 7\n",
    "There are 15 substrings of \"abcab\"\n",
    "a, ab, abc, abca, abcab, b, bc, bca\n",
    "bcab, c, ca, cab, a, ab, b\n",
    "Out of the above substrings, there\n",
    "are 7 substrings : a, abca, b, bcab,\n",
    "c, a and b.\n",
    "\n",
    "Input  : S = \"aba\"\n",
    "Output : 4\n",
    "The substrings are a, b, a and aba"
   ]
  },
  {
   "cell_type": "code",
   "execution_count": 57,
   "id": "3c8d353c-6ccd-4a6a-b15a-274ab42991c1",
   "metadata": {},
   "outputs": [
    {
     "name": "stdout",
     "output_type": "stream",
     "text": [
      "7\n",
      "4\n"
     ]
    }
   ],
   "source": [
    "class Solution:\n",
    "    def countSubstringWithEqualEnds(self,s):\n",
    "        result = 0;\n",
    "        n = len(s);\n",
    "        for i in range(n):\n",
    "            for j in range(i, n):\n",
    "                if (s[i] == s[j]):\n",
    "                    result = result + 1\n",
    "\n",
    "        return result\n",
    "obj=Solution()\n",
    "print(obj.countSubstringWithEqualEnds(\"abcab\"))\n",
    "print(obj.countSubstringWithEqualEnds(\"aba\"))"
   ]
  },
  {
   "cell_type": "code",
   "execution_count": null,
   "id": "9294a85c-e4b5-4e39-ac4f-b9febb2bf07a",
   "metadata": {},
   "outputs": [],
   "source": [
    "💡 **Question 6**\n",
    "\n",
    "The [tower of Hanoi](https://en.wikipedia.org/wiki/Tower_of_Hanoi) is a famous puzzle where we have three rods and **N** disks. The objective of the puzzle is to move the entire stack to another rod. You are given the number of discs **N**. Initially, these discs are in the rod 1. You need to print all the steps of discs movement so that all the discs reach the 3rd rod. Also, you need to find the total moves.**Note:** The discs are arranged such that the **top disc is numbered 1** and the **bottom-most disc is numbered N**. Also, all the discs have **different sizes** and a bigger disc **cannot** be put on the top of a smaller disc. Refer the provided link to get a better clarity about the puzzle.\n",
    "\n",
    "**Example 1:**\n",
    "\n",
    "```\n",
    "Input:\n",
    "N = 2\n",
    "Output:\n",
    "move disk 1 from rod 1 to rod 2\n",
    "move disk 2 from rod 1 to rod 3\n",
    "move disk 1 from rod 2 to rod 3\n",
    "3\n",
    "Explanation:For N=2 , steps will be\n",
    "as follows in the example and total\n",
    "3 steps will be taken.\n",
    "```\n",
    "**Example 2:**\n",
    "\n",
    "```\n",
    "Input:\n",
    "N = 3\n",
    "Output:\n",
    "move disk 1 from rod 1 to rod 3\n",
    "move disk 2 from rod 1 to rod 2\n",
    "move disk 1 from rod 3 to rod 2\n",
    "move disk 3 from rod 1 to rod 3\n",
    "move disk 1 from rod 2 to rod 1\n",
    "move disk 2 from rod 2 to rod 3\n",
    "move disk 1 from rod 1 to rod 3\n",
    "7\n",
    "Explanation:For N=3 , steps will be\n",
    "as follows in the example and total\n",
    "7 steps will be taken.\n",
    "```"
   ]
  },
  {
   "cell_type": "code",
   "execution_count": 97,
   "id": "75edf7f7-02e7-4406-bb54-1b685ee9a5d2",
   "metadata": {},
   "outputs": [
    {
     "name": "stdout",
     "output_type": "stream",
     "text": [
      "Move disk 1 from rod A to rod C\n",
      "Move disk 2 from rod A to rod B\n",
      "Move disk 1 from rod C to rod B\n",
      "Move disk 3 from rod A to rod C\n",
      "Move disk 1 from rod B to rod A\n",
      "Move disk 2 from rod B to rod C\n",
      "Move disk 1 from rod A to rod C\n",
      "******************************\n",
      "Move disk 1 from rod A to rod B\n",
      "Move disk 2 from rod A to rod C\n",
      "Move disk 1 from rod B to rod C\n"
     ]
    }
   ],
   "source": [
    "def TowerOfHanoi(n, from_rod, to_rod, aux_rod):\n",
    "    if n == 0:\n",
    "        return\n",
    "    TowerOfHanoi(n-1, from_rod, aux_rod, to_rod)\n",
    "    print(\"Move disk\", n, \"from rod\", from_rod, \"to rod\", to_rod)\n",
    "    TowerOfHanoi(n-1, aux_rod, to_rod, from_rod) \n",
    "N = 3 \n",
    "# A, C, B are the name of rods\n",
    "TowerOfHanoi(N, 'A', 'C', 'B')\n",
    "print(\"*\"*30)\n",
    "TowerOfHanoi(2, 'A', 'C', 'B')"
   ]
  },
  {
   "cell_type": "code",
   "execution_count": null,
   "id": "6f7bc9b5-6f77-4efc-80fb-c43a080da7c1",
   "metadata": {},
   "outputs": [],
   "source": [
    "💡 **Question 7**\n",
    "\n",
    "Given a string **str**, the task is to print all the permutations of **str**. A **permutation** is an arrangement of all or part of a set of objects, with regard to the order of the arrangement. For instance, the words ‘bat’ and ‘tab’ represents two distinct permutation (or arrangements) of a similar three letter word.\n",
    "\n",
    "**Examples:**\n",
    "\n",
    "> Input: str = “cd”\n",
    "> \n",
    "> \n",
    "> **Output:** cd dc\n",
    "> \n",
    "> **Input:** str = “abb”\n",
    "> \n",
    "> **Output:** abb abb bab bba bab bba"
   ]
  },
  {
   "cell_type": "code",
   "execution_count": 86,
   "id": "7d2b1761-c96a-4ae3-b29e-f4375956dda7",
   "metadata": {},
   "outputs": [
    {
     "name": "stdout",
     "output_type": "stream",
     "text": [
      "cd\n",
      "dc\n"
     ]
    }
   ],
   "source": [
    "def permute(data, i, length): \n",
    "    if i==length: \n",
    "        print(''.join(data) )\n",
    "    else: \n",
    "        for j in range(i,length): \n",
    "            #swap\n",
    "            data[i], data[j] = data[j], data[i] \n",
    "            permute(data, i+1, length) \n",
    "            data[i], data[j] = data[j], data[i]  \n",
    "  \n",
    "\n",
    "string = \"cd\"\n",
    "n = len(string) \n",
    "data = list(string) \n",
    "permute(data, 0, n)"
   ]
  },
  {
   "cell_type": "code",
   "execution_count": null,
   "id": "b6fadc0a-c255-4f3a-a23c-913349137c2d",
   "metadata": {},
   "outputs": [],
   "source": [
    "💡 **Question 8**\n",
    "\n",
    "Given a string, count total number of consonants in it. A consonant is an English alphabet character that is not vowel (a, e, i, o and u). Examples of constants are b, c, d, f, and g.\n",
    "\n",
    "**Examples :**\n",
    "\n",
    "```\n",
    "Input : abc de\n",
    "Output : 3\n",
    "There are three consonants b, c and d.\n",
    "\n",
    "Input : geeksforgeeks portal\n",
    "Output : 12"
   ]
  },
  {
   "cell_type": "code",
   "execution_count": 91,
   "id": "2c394b5d-79e7-48d4-81dc-35d56157fd60",
   "metadata": {},
   "outputs": [
    {
     "name": "stdout",
     "output_type": "stream",
     "text": [
      "No of consonants: 3\n",
      "No of consonants: 12\n"
     ]
    }
   ],
   "source": [
    "def countConsonants(string):\n",
    "    num_consonants = 0\n",
    "   # to count the consonants\n",
    "    for char in string:\n",
    "        if char not in \"aeiouAEIOU \":\n",
    "            num_consonants += 1\n",
    "    return num_consonants\n",
    "print('No of consonants:',countConsonants(\"abc de\"))\n",
    "print('No of consonants:',countConsonants(\"geeksforgeeks portal\"))"
   ]
  }
 ],
 "metadata": {
  "kernelspec": {
   "display_name": "Python 3 (ipykernel)",
   "language": "python",
   "name": "python3"
  },
  "language_info": {
   "codemirror_mode": {
    "name": "ipython",
    "version": 3
   },
   "file_extension": ".py",
   "mimetype": "text/x-python",
   "name": "python",
   "nbconvert_exporter": "python",
   "pygments_lexer": "ipython3",
   "version": "3.10.6"
  }
 },
 "nbformat": 4,
 "nbformat_minor": 5
}
