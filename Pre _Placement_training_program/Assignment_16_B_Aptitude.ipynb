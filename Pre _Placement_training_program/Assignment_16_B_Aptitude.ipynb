{
  "nbformat": 4,
  "nbformat_minor": 0,
  "metadata": {
    "colab": {
      "provenance": []
    },
    "kernelspec": {
      "name": "python3",
      "display_name": "Python 3"
    },
    "language_info": {
      "name": "python"
    }
  },
  "cells": [
    {
      "cell_type": "code",
      "source": [
        "Cubes"
      ],
      "metadata": {
        "id": "WaVtIxp8C3j2"
      },
      "execution_count": null,
      "outputs": []
    },
    {
      "cell_type": "code",
      "execution_count": null,
      "metadata": {
        "id": "z-5goYaziJyE"
      },
      "outputs": [],
      "source": [
        "Directions: A cube was painted with a colour on all its sides and then it was divided into 729 identical cubelets by applying cuts uniformly over the surface. Answer the following questions:\n",
        "1) How many cuts are required?\n",
        "a) 21  b) 24  c) 27  d) None of these\n",
        "•\tA cube is painted on all sides and then cut into 729 identical smaller cubes.\n",
        "Calculate the number of cuts required:\n",
        "•\tA large cube is divided into 729 smaller cubes, so each side of the original cube must have 7293=93729=9 small cubes along its edge (9 × 9 × 9 = 729).\n",
        "•\tTo create 9 small cubes along each edge, we need 8 cuts per edge.\n",
        "•\tSince a cube has three dimensions, the total number of cuts required will be 8+8+8=248+8+8=24.\n",
        "Answer: (b) 24"
      ]
    },
    {
      "cell_type": "code",
      "source": [
        "2) How many cubelets are painted from exactly three sides?\n",
        "a) 4  b) 16  c) 64  d) None of these\n",
        "Number of cubelets painted on exactly three sides:\n",
        "•\tCubelets painted on exactly three sides are located at the eight corners of the cube.\n",
        "•\tTherefore, there are 8 such cubelets.\n",
        "Answer: (a) 4"
      ],
      "metadata": {
        "id": "k8DKjl94C3ml"
      },
      "execution_count": null,
      "outputs": []
    },
    {
      "cell_type": "code",
      "source": [
        "3) How many cubelets are painted from exactly two sides?\n",
        "a) 27  b) 81  c) 84  d) None of these\n",
        "Number of cubelets painted on exactly two sides:\n",
        "•\tCubelets painted on exactly two sides are those on the edges of the cube but not at the corners.\n",
        "•\tEach edge has 9−2=79−2=7 such cubelets (excluding two corner cubelets on each edge).\n",
        "•\tThere are 12 edges in a cube, so the total number of cubelets painted on exactly two sides is 12×7=8412×7=84.\n",
        "Answer: (c) 84"
      ],
      "metadata": {
        "id": "pexMF7KiC3o8"
      },
      "execution_count": null,
      "outputs": []
    },
    {
      "cell_type": "code",
      "source": [
        "4) How many cubelets are painted from exactly one side?\n",
        "a) 81  b) 243  c) 294  d) None of these\n",
        "Number of cubelets painted on exactly one side:\n",
        "•\tCubelets painted on exactly one side are those on the faces of the cube but not on the edges.\n",
        "•\tEach face has 9−29−2 rows of cubelets along each dimension, giving a 7 × 7 grid in the center of each face.\n",
        "•\tEach face has 7×7=497×7=49 such cubelets.\n",
        "•\tSince there are 6 faces, the total number of cubelets painted on exactly one side is 6×49=2946×49=294.\n",
        "Answer: (c) 294"
      ],
      "metadata": {
        "id": "eEWyFeqVC3re"
      },
      "execution_count": null,
      "outputs": []
    },
    {
      "cell_type": "code",
      "source": [
        "5) How many cubelets are painted from no sides?\n",
        "a) 243  b) 343  c) 586  d) None of these\n",
        "Number of cubelets painted on no sides:\n",
        "•\tCubelets that are not painted on any side are located inside the cube, forming a smaller unpainted cube.\n",
        "•\tThis smaller cube has dimensions 9−2=79−2=7 along each side (excluding the painted layers on the outer surface).\n",
        "•\tTherefore, the number of cubelets painted on no sides is 7×7×7=3437×7×7=343.\n",
        "Answer: (b) 343"
      ],
      "metadata": {
        "id": "iuSsRFzgC3t9"
      },
      "execution_count": null,
      "outputs": []
    },
    {
      "cell_type": "code",
      "source": [
        "Directions: A cube was painted with three colours- red, blue and green on the three pairs of opposite sides respectively and then it was divided into 216 identical cubelets by applying cuts uniformly over all surfaces. Answer the following questions:\n",
        "6) How many cuts are required?\n",
        "a) 15  b) 18  c) 21  d) None of these\n",
        "Let's solve each question step-by-step based on the cube painted with three colors.\n",
        "Given:\n",
        "•\tThe cube is painted with three colors (red, blue, and green) on three pairs of opposite faces, then divided into 216 identical cubelets.\n",
        "1.\tCalculate the number of cuts required:\n",
        "•\tThe cube is divided into 216 smaller cubes, so each side of the original cube has 2163=63216=6 smaller cubes along its edge (6 × 6 × 6 = 216).\n",
        "•\tTo create 6 small cubes along each edge, we need 5 cuts per edge.\n",
        "•\tSince a cube has three dimensions, the total number of cuts required will be 5+5+5=155+5+5=15.\n",
        "Answer: (a) 15"
      ],
      "metadata": {
        "id": "DTlMsrahC3yi"
      },
      "execution_count": null,
      "outputs": []
    },
    {
      "cell_type": "code",
      "source": [
        "7) How many cubelets are painted with exactly three colours?\n",
        "a) 36  b) 8  c) 16  d) None of these\n",
        "Number of cubelets painted with exactly three colors:\n",
        "•\tCubelets painted with exactly three colors are located at the eight corners of the cube.\n",
        "•\tThere are 8 corners in a cube, so there are 8 such cubelets.\n",
        "Answer: (b) 8"
      ],
      "metadata": {
        "id": "yqvWPZzRHHwp"
      },
      "execution_count": null,
      "outputs": []
    },
    {
      "cell_type": "code",
      "source": [
        "8) How many cubelets are painted with exactly two colours?\n",
        "a) 24  b) 48  c) 36  d) None of these\n",
        "Number of cubelets painted with exactly two colors:\n",
        "•\tCubelets painted with exactly two colors are located on the edges of the cube but not at the corners.\n",
        "•\tEach edge has 6−2=46−2=4 such cubelets (excluding the two corner cubelets on each edge).\n",
        "•\tThere are 12 edges in a cube, so the total number of cubelets painted with exactly two colors is 12×4=4812×4=48.\n",
        "Answer: (b) 48"
      ],
      "metadata": {
        "id": "REoEyX-vHH5_"
      },
      "execution_count": null,
      "outputs": []
    },
    {
      "cell_type": "code",
      "source": [
        "9) How many cubelets are painted with exactly one colour?\n",
        "a) 72  b) 144  c) 96  d) None of these\n",
        "Number of cubelets painted with exactly one color:\n",
        "•\tCubelets painted with exactly one color are those located on the faces of the cube but not on the edges.\n",
        "•\tEach face has 6−2=46−2=4 rows of cubelets along each dimension, giving a 4 × 4 grid in the center of each face.\n",
        "•\tEach face has 4×4=164×4=16 such cubelets.\n",
        "•\tSince there are 6 faces, the total number of cubelets painted with exactly one color is 6×16=966×16=96.\n",
        "Answer: (c) 96"
      ],
      "metadata": {
        "id": "-jaiZvTYC34F"
      },
      "execution_count": null,
      "outputs": []
    },
    {
      "cell_type": "code",
      "source": [
        "10) How many cubelets are painted with no colours?\n",
        "a) 8  b) 125  c) 64  d) None of these\n",
        "Number of cubelets painted with no colors:\n",
        "•\tCubelets that are not painted with any color are located inside the cube, forming a smaller unpainted cube.\n",
        "•\tThis smaller cube has dimensions 6−2=46−2=4 along each side (excluding the painted layers on the outer surface).\n",
        "•\tTherefore, the number of cubelets painted with no colors is 4×4×4=644×4×4=64.\n",
        "Answer: (c) 64"
      ],
      "metadata": {
        "id": "tj76qUUDC86v"
      },
      "execution_count": null,
      "outputs": []
    },
    {
      "cell_type": "code",
      "source": [
        "Directions: A cube was painted with three colours- red, blue and green on the three pairs of adjacent sides respectively and then it was divided into 125 identical cubelets by applying cuts uniformly over all surfaces. Answer the following questions:\n",
        "11) How many cuts are required?\n",
        "a) 18  b) 9  c) 15  d) None of these\n",
        "Let's solve each question step-by-step.\n",
        "Given:\n",
        "•\tA cube is painted with three colors (red, blue, and green) on three pairs of adjacent sides and then divided into 125 smaller cubes.\n",
        "1.\tCalculate the number of cuts required:\n",
        "o\tThe cube is divided into 125 smaller cubes, so each side of the original cube must have 1253=5\\sqrt[3]{125} = 53125=5 small cubes along each edge (5 × 5 × 5 = 125).\n",
        "o\tTo create 5 small cubes along each edge, we need 4 cuts per edge.\n",
        "o\tSince a cube has three dimensions, the total number of cuts required will be 4+4+4=124 + 4 + 4 = 124+4+4=12.\n",
        "Answer: (d) None of these"
      ],
      "metadata": {
        "id": "pj4PGjTIC899"
      },
      "execution_count": null,
      "outputs": []
    },
    {
      "cell_type": "code",
      "source": [
        "12) How many cubelets are painted with exactly three colours?\n",
        "a) 2  b) 8  c) 16  d) None of these\n",
        "Number of cubelets painted with exactly three colors:\n",
        "o\tCubelets painted with exactly three colors are located at the corners where the three painted adjacent faces meet.\n",
        "o\tThere are 8 corners in a cube, so there are 8 such cubelets.\n",
        "Answer: (b) 8"
      ],
      "metadata": {
        "id": "JF64nu8CC9Ac"
      },
      "execution_count": null,
      "outputs": []
    },
    {
      "cell_type": "code",
      "source": [
        "13) How many cubelets are painted with exactly two colours?\n",
        "a) 24  b) 27  c) 33  d) None of these\n",
        "Number of cubelets painted with exactly two colors:\n",
        "o\tCubelets painted with exactly two colors are those on the edges where only two of the painted faces meet, but not at the corners.\n",
        "o\tEach of these edges has 5−2=35 - 2 = 35−2=3 such cubelets (excluding the two corner cubelets on each edge).\n",
        "o\tThere are 12 edges in a cube, so the total number of cubelets painted with exactly two colors is 12×3=3612 \\times 3 = 3612×3=36.\n",
        "Answer: (d) None of these"
      ],
      "metadata": {
        "id": "cGGwi6iCC9DB"
      },
      "execution_count": null,
      "outputs": []
    },
    {
      "cell_type": "code",
      "source": [
        "14) How many cubelets are painted with exactly one colour?\n",
        "a) 54  b) 63  c) 72  d) None of these\n",
        "Number of cubelets painted with exactly one color:\n",
        "o\tCubelets painted with exactly one color are those located on the faces of the cube but not on the edges.\n",
        "o\tEach face has 5−2=35 - 2 = 35−2=3 rows of cubelets along each dimension, giving a 3 × 3 grid in the center of each face.\n",
        "o\tEach face has 3×3=93 \\times 3 = 93×3=9 such cubelets.\n",
        "o\tSince there are 6 faces, the total number of cubelets painted with exactly one color is 6×9=546 \\times 9 = 546×9=54.\n",
        "Answer: (a) 54"
      ],
      "metadata": {
        "id": "YZX39ACGC9Fo"
      },
      "execution_count": null,
      "outputs": []
    },
    {
      "cell_type": "code",
      "source": [
        "15) How many cubelets are painted with no colours?\n",
        "a) 8  b) 27  c) 64  d) None of these\n",
        "Number of cubelets painted with no colors:\n",
        "o\tCubelets that are not painted with any color are located inside the cube, forming a smaller unpainted cube.\n",
        "o\tThis smaller cube has dimensions 5−2=35 - 2 = 35−2=3 along each side (excluding the painted layers on the outer surface).\n",
        "o\tTherefore, the number of cubelets painted with no colors is 3×3×3=273 \\times 3 \\times 3 = 273×3×3=27.\n",
        "Answer: (b) 27"
      ],
      "metadata": {
        "id": "Jzs-0SknC9IJ"
      },
      "execution_count": null,
      "outputs": []
    },
    {
      "cell_type": "code",
      "source": [
        "16) How many cubelets are painted with one colour on two sides and with another colour on one of the remaining sides?\n",
        "a) 2  b) 8  c) 6  d) None of these\n",
        "Number of cubelets painted with one color on two sides and with another color on one of the remaining sides:\n",
        "o\tThese cubelets are located on the faces adjacent to a colored edge but not at the corners.\n",
        "o\tSince this configuration only appears on the center cubelet of each edge adjacent to a pair of differently colored faces, and there are 6 such cubelets in total.\n",
        "Answer: (c) 6"
      ],
      "metadata": {
        "id": "uvprpuJXC9K1"
      },
      "execution_count": null,
      "outputs": []
    },
    {
      "cell_type": "code",
      "source": [
        "Directions: All faces of a cube are coloured with six different colours - black, brown, green, red, white and blue:\n",
        "> Red face is opposite to the black face.\n",
        "> Green face is between red and black faces.\n",
        "> Blue face is adjacent to white face.\n",
        "> Brown face is adjacent to blue face.\n",
        "> Red face is in the bottom.\n",
        "Let's analyze the setup of the cube based on the given clues and answer each question.\n",
        "Given:\n",
        "1.\tRed face is opposite to the Black face.\n",
        "2.\tGreen face is between Red and Black faces.\n",
        "3.\tBlue face is adjacent to White face.\n",
        "4.\tBrown face is adjacent to Blue face.\n",
        "5.\tRed face is on the bottom.\n",
        "Step-by-Step Analysis:\n",
        "1.\tIdentify Opposite Faces:\n",
        "o\tRed is opposite to Black (from clue 1).\n",
        "o\tThis means Black is on the top (since Red is on the bottom).\n",
        "2.\tPosition Green Between Red and Black:\n",
        "o\tSince Green is \"between\" Red and Black (from clue 2), it must be on one of the side faces, adjacent to both the Red and Black faces.\n",
        "3.\tDetermine the Positions of Blue, White, and Brown:\n",
        "o\tBlue is adjacent to White (from clue 3).\n",
        "o\tBrown is adjacent to Blue (from clue 4).\n",
        "o\tThis implies Blue, White, and Brown are on the remaining three side faces.\n",
        "o\tSince Green is already on one side, Blue, White, and Brown must occupy the remaining three sides.\n",
        "4.\tFinal Face Arrangement:\n",
        "o\tBased on the clues and positioning requirements, we can deduce the following layout:\n",
        "\tTop face: Black\n",
        "\tBottom face: Red\n",
        "\tSide faces: Green, Blue, White, and Brown."
      ],
      "metadata": {
        "id": "G4VpBmx0C_23"
      },
      "execution_count": null,
      "outputs": []
    },
    {
      "cell_type": "code",
      "source": [
        "1) The upper face is:\n",
        "a) White  b) Black  c) Brown  d) None of these\n",
        "The upper face is:\n",
        "o\tThe upper face is Black.\n",
        "Answer: (b) Black"
      ],
      "metadata": {
        "id": "aUzK785vC_5m"
      },
      "execution_count": null,
      "outputs": []
    },
    {
      "cell_type": "code",
      "source": [
        "2) The face opposite to brown is:\n",
        "a) Blue  b) White  c) Green  d) Red\n",
        "The face opposite to Brown is:\n",
        "o\tGiven the layout, the face opposite Brown is Green.\n",
        "Answer: (c) Green"
      ],
      "metadata": {
        "id": "kFpA71XZC_8V"
      },
      "execution_count": null,
      "outputs": []
    },
    {
      "cell_type": "code",
      "source": [
        "3) Which of the following is adjacent to green?\n",
        "a) Black, white, brown, red  b) Blue, black, red, white\n",
        "c) Red, black, blue, white  d) None of these\n",
        "Which of the following is adjacent to Green?\n",
        "o\tBased on our arrangement, Green is adjacent to Black, Red, Blue, and White.\n",
        "Answer: (b) Blue, black, red, white"
      ],
      "metadata": {
        "id": "y2o-sVLfSbD9"
      },
      "execution_count": null,
      "outputs": []
    },
    {
      "cell_type": "code",
      "source": [
        "4) Which face is opposite to green ?\n",
        "a) Red  b) White  c) Blue  d) Brown\n",
        "Which face is opposite to Green?\n",
        "o\tGreen is opposite to Brown.\n",
        "Answer: (d) Brown"
      ],
      "metadata": {
        "id": "bvFgQVY0Shpz"
      },
      "execution_count": null,
      "outputs": []
    },
    {
      "cell_type": "code",
      "source": [
        "5) Which colour is adjacent to black but not to green?\n",
        "a) Red  b) White  c) Brown  d) Blue\n",
        "Which color is adjacent to Black but not to Green?\n",
        "o\tThe color adjacent to Black but not Green is Brown.\n",
        "Answer: (c) Brown"
      ],
      "metadata": {
        "id": "vah8Pe5pSh8D"
      },
      "execution_count": null,
      "outputs": []
    }
  ]
}