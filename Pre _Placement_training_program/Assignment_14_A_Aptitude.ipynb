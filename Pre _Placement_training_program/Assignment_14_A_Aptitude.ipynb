{
  "nbformat": 4,
  "nbformat_minor": 0,
  "metadata": {
    "colab": {
      "provenance": []
    },
    "kernelspec": {
      "name": "python3",
      "display_name": "Python 3"
    },
    "language_info": {
      "name": "python"
    }
  },
  "cells": [
    {
      "cell_type": "code",
      "execution_count": null,
      "metadata": {
        "id": "mm_6DCHcZI8D"
      },
      "outputs": [],
      "source": [
        "Syllogisms"
      ]
    },
    {
      "cell_type": "code",
      "source": [
        "Directions: Each question consists of few statements followed by few conclusions. Answer which of the given conclusions(s) logically follow the given statements:\n",
        "1) Statements:  i) All W are Z  ii) Some X are Z\n",
        "Conclusions:  i) Some X are W  ii) Some W are X\n",
        "•  Statements:\n",
        "i) All W are Z.\n",
        "ii) Some X are Z.\n",
        "Conclusions:\n",
        "i) Some X are W.\n",
        "ii) Some W are X.\n",
        "Answer: Neither follows.\n",
        "Explanation: There is no direct connection between X and W."
      ],
      "metadata": {
        "id": "hrPkjAxzZR2H"
      },
      "execution_count": null,
      "outputs": []
    },
    {
      "cell_type": "code",
      "source": [
        "2) Statements:  i) All W are U  ii) All X are U\n",
        "Conclusions:  i) All W are X  ii) Some W are U\n",
        "Answer: Only conclusion ii follows.\n",
        "Explanation: All W are U directly implies \"some W are U,\" but there is no direct relation between W and X."
      ],
      "metadata": {
        "id": "dVMJMuymZR5P"
      },
      "execution_count": null,
      "outputs": []
    },
    {
      "cell_type": "code",
      "source": [
        "3) Statements:  i) No C is X  ii) Some W are not C\n",
        "Conclusions:  i) Some X are W  ii) All C are W\n",
        "Answer: Neither follows.\n",
        "Explanation: The given statements don't establish any relationship between X and W or C and W."
      ],
      "metadata": {
        "id": "88fJHMlSZR8b"
      },
      "execution_count": null,
      "outputs": []
    },
    {
      "cell_type": "code",
      "source": [
        "4) Statements:  i) All W are X  ii) No Y is X\n",
        "Conclusions:  i) All W is Y  ii) Some Y are W\n",
        "Answer: Neither follows.\n",
        "Explanation: Since no Y is X and all W are X, W cannot be Y."
      ],
      "metadata": {
        "id": "_UhuRFdAZSBm"
      },
      "execution_count": null,
      "outputs": []
    },
    {
      "cell_type": "code",
      "source": [
        "5) Statements:  i) All W are Y  ii) All W are X\n",
        "Conclusions:  i) Some Y are W  ii) Some X are W\n",
        "Answer: Both follow.\n",
        "Explanation: Since all W are Y and all W are X, some Y are W and some X are W."
      ],
      "metadata": {
        "id": "TPM3AnEbZSEv"
      },
      "execution_count": null,
      "outputs": []
    },
    {
      "cell_type": "code",
      "source": [
        "6) Statements:  i) No X is C  ii) No C is W\n",
        "Conclusions:  i) W is X  ii) Some W are X\n",
        "Answer: Neither follows.\n",
        "Explanation: There is no relation established between X and W."
      ],
      "metadata": {
        "id": "BlCVtu1BZ74y"
      },
      "execution_count": null,
      "outputs": []
    },
    {
      "cell_type": "code",
      "source": [
        "7) Statements:  i) Some hens are cows  ii) All cows are dogs\n",
        "Conclusions:  i) Some dogs are not hens  ii) No hen is dog\n",
        "Answer: Neither follows.\n",
        "Explanation: The conclusions are not logically derived from the given statements"
      ],
      "metadata": {
        "id": "DXq1tEiyZ7-c"
      },
      "execution_count": null,
      "outputs": []
    },
    {
      "cell_type": "code",
      "source": [
        "8) Statements:  i) Some dogs are bats  ii) Some bats are cats\n",
        "Conclusions:  i) Some dogs are not cats  ii) No cat is dog\n",
        "Answer: Neither follows.\n",
        "Explanation: The relationship between dogs and cats isn't clear from the statements."
      ],
      "metadata": {
        "id": "KvfYp7tfZ8Cg"
      },
      "execution_count": null,
      "outputs": []
    },
    {
      "cell_type": "code",
      "source": [
        "9) Statements:\n",
        "i) Some poets are goats  ii) Some goats are trees\n",
        "Conclusions:\n",
        "i) Some poets are not trees  ii) No tree is goat\n",
        "Answer: Neither follows.\n",
        "Explanation: The given statements don’t directly lead to either conclusion."
      ],
      "metadata": {
        "id": "AJRsZ7_gZSIb"
      },
      "execution_count": null,
      "outputs": []
    },
    {
      "cell_type": "code",
      "source": [
        "10) Statements:\n",
        "i) Some pens are tables  ii) No table is blue\n",
        "Conclusions:\n",
        "i) No table is pen  ii) No pen is blue\n",
        "Answer: Neither follows.\n",
        "Explanation: There is no information about pens being blue or not."
      ],
      "metadata": {
        "id": "5QTkjlVlaP6Y"
      },
      "execution_count": null,
      "outputs": []
    },
    {
      "cell_type": "code",
      "source": [
        "11) Statements:\n",
        "i) Some boys are girls  ii) All girls are cute\n",
        "Conclusions:\n",
        "i) Some boys are cute  ii) No boy is cute\n",
        "iii) Some cute are girls  iv) No cute is girl\n",
        "Answer: Conclusions i and iii follow.\n",
        "Explanation: If some boys are girls and all girls are cute, then some boys are cute. Also, some cute are girls."
      ],
      "metadata": {
        "id": "MJQG3Q5J_Ekn"
      },
      "execution_count": null,
      "outputs": []
    },
    {
      "cell_type": "code",
      "source": [
        "12) Statements:\n",
        "i) Some copies are desks  ii) No desk is pen\n",
        "Conclusions:\n",
        "i) Some copies are pens  ii) Some pens are desks\n",
        "iii) Some copies are not pens  iv) Some pens are not desks\n",
        "Answer: Conclusion iii follows.\n",
        "Explanation: Since no desk is a pen and some copies are desks, some copies are not pens."
      ],
      "metadata": {
        "id": "b20W3m4BaP9J"
      },
      "execution_count": null,
      "outputs": []
    },
    {
      "cell_type": "code",
      "source": [
        "13) Statements:\n",
        "i) All books are pens  ii) Some pens are pencils\n",
        "Conclusions:\n",
        "i) Some pens are books  ii) No pen is book\n",
        "iii) Some books are pencils  iv) No book is pencil\n",
        "Answer: Conclusions i and iii follow.\n",
        "Explanation: All books are pens, so some pens are books. Also, some pens are pencils, so some books may be pencils."
      ],
      "metadata": {
        "id": "gQMGVjxU_N_H"
      },
      "execution_count": null,
      "outputs": []
    },
    {
      "cell_type": "code",
      "source": [
        "14) Statements:\n",
        "i) All books are notes  ii) Some notes are watches  iii) No watch is pencil\n",
        "Conclusions:\n",
        "i) Some watches are books  ii) Some notes are pencils\n",
        "iii) No watch is book  iv) Some notes are not pencils\n",
        "Answer: Conclusions iii and iv follow.\n",
        "Explanation: There’s no overlap between watches and books or pencils."
      ],
      "metadata": {
        "id": "D94aVJNOaP_7"
      },
      "execution_count": null,
      "outputs": []
    },
    {
      "cell_type": "code",
      "source": [
        "15) Statements:\n",
        "i) No system is deck  ii) All decks are books\n",
        "Conclusions:\n",
        "i) Some systems are books  ii) Some systems are not books\n",
        "iii) Some books are systems  iv) Some books are not systems\n",
        "Answer: Conclusion iv follows.\n",
        "Explanation: No system is a deck, so some books are not systems."
      ],
      "metadata": {
        "id": "Wz21QF_8aQCq"
      },
      "execution_count": null,
      "outputs": []
    },
    {
      "cell_type": "code",
      "source": [
        "16) Statements:\n",
        "i) All bulbs are radios  ii) All radios are fans  iii) No fan is table\n",
        "Conclusions:\n",
        "i) Some fans are bulbs  ii) No bulb is table\n",
        "iii) Some radios are bulbs  iv) Some tables are radios\n",
        "Answer: Conclusions i, ii, and iii follow.\n",
        "Explanation: All bulbs are fans (as they are radios), and no fan is a table. Thus, the first three conclusions are valid"
      ],
      "metadata": {
        "id": "EfXe7L1wZJ1T"
      },
      "execution_count": null,
      "outputs": []
    },
    {
      "cell_type": "code",
      "source": [
        "Logical Deductions"
      ],
      "metadata": {
        "id": "3V6OHrPLAlkJ"
      },
      "execution_count": null,
      "outputs": []
    },
    {
      "cell_type": "code",
      "source": [
        "Directions: Each question consists of six statements followed by five sets of three statements each. Select the set in which the statements are logically related:\n",
        "1) Statements:  a) All cunning are foxes  b) Some fox are clever  c) All clever write Z  d) Some cunning are clever  e) Some fox do not write Z  f) Some who write Z are cunning\n",
        "i) BCE  ii) ADB  iii) BCD  iv) CDE  v) ACE\n",
        "Answer: iii) BCD\n",
        "Explanation:\n",
        "•\tb) Some foxes are clever.\n",
        "•\tc) All clever write Z.\n",
        "•\td) Some cunning are clever.\n",
        "This combination makes logical sense, as it links foxes, cleverness, and writing Z."
      ],
      "metadata": {
        "id": "U8PFsXMQAtm2"
      },
      "execution_count": null,
      "outputs": []
    },
    {
      "cell_type": "code",
      "source": [
        "2) Statements:  a) Some herbs are not shrubs  b) All seeds are buds  c) Some buds are not shrub  d) No shrub is seed  e) Some buds are herbs  f) Herb is a seed\n",
        "i) ABC  ii) BCE  iii) FDC  iv) ECF  v) DFA\n",
        "Answer: iv) ECF\n",
        "Explanation:\n",
        "•\te) Some buds are herbs.\n",
        "•\tc) Some buds are not shrubs.\n",
        "•\tf) Herb is a seed.\n",
        "This set connects buds, herbs, and seeds logically."
      ],
      "metadata": {
        "id": "M0thPQRvAly9"
      },
      "execution_count": null,
      "outputs": []
    },
    {
      "cell_type": "code",
      "source": [
        "3) Statements:  a) Some mammals are carnivores  b) All whales are mammals  c) All whales are aquatic animals  d) All whales are carnivores  e) Some aquatic animals are mammals  f) Some mammals are whales\n",
        "i) ADF  ii) ABC  iii) AEF  iv) BCE  v) NOT\n",
        "Answer: v) NOT\n",
        "Explanation:\n",
        "None of the given sets can be derived logically from the statements provided."
      ],
      "metadata": {
        "id": "j9d-Je1CAmCp"
      },
      "execution_count": null,
      "outputs": []
    },
    {
      "cell_type": "code",
      "source": [
        "4) Statements:  a) All arguments are deductions  b) Some deductions are assumptions  c) Some deductions are not formations  d) All equations are assumptions  e) Some deductions are formations  f) No formation is argument\n",
        "i) BFE  ii) AFC  iii) AFE  iv) BFC  v) ADC\n",
        "Answer: iii) AFE\n",
        "Explanation:\n",
        "•\ta) All arguments are deductions.\n",
        "•\tf) No formation is an argument.\n",
        "•\te) Some deductions are formations.\n",
        "This set creates a logical relationship between arguments, deductions, and formations."
      ],
      "metadata": {
        "id": "N2WkyGtCAmGg"
      },
      "execution_count": null,
      "outputs": []
    },
    {
      "cell_type": "code",
      "source": [
        "5) Statements:  a) Some athletes are lazy  b) Some athletes are couch potatoes  c) Some couch potatoes are hard works  d) All hard works are athletes  e) All couch potatoes are lazy  f) Some hard works are lazy\n",
        "i) ABE  ii) AEB  iii) CEF  iv) FEC  v) ABC\n",
        "Answer: iii) CEF\n",
        "Explanation:\n",
        "•\tc) Some couch potatoes are hard workers.\n",
        "•\te) All couch potatoes are lazy.\n",
        "f) Some hard workers are lazy.\n",
        "This set links hard work, laziness, and couch potatoes."
      ],
      "metadata": {
        "id": "hwUI7oRTA4lA"
      },
      "execution_count": null,
      "outputs": []
    },
    {
      "cell_type": "code",
      "source": [
        "6) Statements:  a) Some software guys are Geeks  b) Some Greeks are Geeks  c) All nerds are Geeks  d) Some Greeks are nerds  e) Some nerds are software guys  f) Some software guys are Greeks\n",
        "i) ABF  ii) BCD  iii) DEF  iv) CEA  v) BCE\n",
        "Answer: iii) DEF\n",
        "Explanation:\n",
        "•\td) Some Greeks are nerds.\n",
        "•\te) Some nerds are software guys.\n",
        "•\tf) Some software guys are Greeks.\n",
        "This set logically relates Greeks, nerds, and software guys."
      ],
      "metadata": {
        "id": "ygFPkZPmA4rW"
      },
      "execution_count": null,
      "outputs": []
    },
    {
      "cell_type": "code",
      "source": [
        "7) Statements:  a) Some prizes are gifts  b) All prizes are exotic c) No gift is present  d) Some prizes are present  e) Some sensuous are present  f) Some of the exotic are not sensuous\n",
        "i) ACF  ii) ACD  iii) BFE  iv) CBD  v) NOT\n",
        "Answer: ii) ACD\n",
        "Explanation:\n",
        "•\ta) Some prizes are gifts.\n",
        "•\tc) No gift is present.\n",
        "•\td) Some prizes are present.\n",
        "This set logically connects prizes, gifts, and presents."
      ],
      "metadata": {
        "id": "qBh8E4hAA4vZ"
      },
      "execution_count": null,
      "outputs": []
    },
    {
      "cell_type": "code",
      "source": [
        "8) Statements:  a) Mangoes are fruity  b) Some bananas are not fruity  c) Some fruities are juicies  d) Some bananas are not mangoes  e) No juicy is banana  f) Some juicies are mangoes\n",
        "i) ACB  ii) ECB  iii) ABD  iv) BDA  v) EDF\n",
        "Answer: v) EDF\n",
        "Explanation:\n",
        "•\te) No juicy is a banana.\n",
        "•\td) Some bananas are not mangoes.\n",
        "f) Some juicies are mangoes.\n",
        "This set makes logical connections between juicies, bananas, and mangoes"
      ],
      "metadata": {
        "id": "36WwpTU1A4y5"
      },
      "execution_count": null,
      "outputs": []
    }
  ]
}