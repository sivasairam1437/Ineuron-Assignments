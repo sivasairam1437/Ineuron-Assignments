{
  "nbformat": 4,
  "nbformat_minor": 0,
  "metadata": {
    "colab": {
      "provenance": []
    },
    "kernelspec": {
      "name": "python3",
      "display_name": "Python 3"
    },
    "language_info": {
      "name": "python"
    }
  },
  "cells": [
    {
      "cell_type": "code",
      "execution_count": null,
      "metadata": {
        "id": "S8JPQn43Lrhx"
      },
      "outputs": [],
      "source": [
        "Averages"
      ]
    },
    {
      "cell_type": "code",
      "source": [
        "1) The average of the first five multiples of 3 is:\n",
        "•\tThe first five multiples of 3 are: 3, 6, 9, 12, 15.\n",
        "•\tAverage = 3+6+9+12+155=455=9\\frac{3 + 6 + 9 + 12 + 15}{5} = \\frac{45}{5} = 953+6+9+12+15=545=9.\n",
        "Answer: (b) 9"
      ],
      "metadata": {
        "id": "loigFYN_L-wx"
      },
      "execution_count": null,
      "outputs": []
    },
    {
      "cell_type": "code",
      "source": [
        "2) The average of six numbers is 3.95. The average of two of them is 3.4, while the average of the other two is 3.85. What is the average of the remaining two numbers?\n",
        "•\tLet the six numbers be: a1,a2,a3,a4,a5,a6a_1, a_2, a_3, a_4, a_5, a_6a1,a2,a3,a4,a5,a6.\n",
        "•\tThe sum of all six numbers is 6×3.95=23.76 \\times 3.95 = 23.76×3.95=23.7.\n",
        "•\tThe sum of the first two numbers is 2×3.4=6.82 \\times 3.4 = 6.82×3.4=6.8, and the sum of the next two is 2×3.85=7.72 \\times 3.85 = 7.72×3.85=7.7.\n",
        "•\tThe sum of the remaining two numbers is 23.7−(6.8+7.7)=23.7−14.5=9.223.7 - (6.8 + 7.7) = 23.7 - 14.5 = 9.223.7−(6.8+7.7)=23.7−14.5=9.2.\n",
        "•\tThe average of the remaining two numbers is 9.22=4.6\\frac{9.2}{2} = 4.629.2=4.6.\n",
        "Answer: (b) 4.6"
      ],
      "metadata": {
        "id": "VKsPRLrrL-zo"
      },
      "execution_count": null,
      "outputs": []
    },
    {
      "cell_type": "code",
      "source": [
        "3) The average score of a cricketer for ten matches is 38.9 runs. If the average for the first six matches is 42, then find the average for the last four matches.\n",
        "•\tTotal runs for 10 matches = 10×38.9=38910 \\times 38.9 = 38910×38.9=389.\n",
        "•\tTotal runs for the first 6 matches = 6×42=2526 \\times 42 = 2526×42=252.\n",
        "•\tTotal runs for the last 4 matches = 389−252=137389 - 252 = 137389−252=137.\n",
        "•\tAverage for the last 4 matches = 1374=34.25\\frac{137}{4} = 34.254137=34.25.\n",
        "Answer: (c) 34.25"
      ],
      "metadata": {
        "id": "vD8Iy01TL-27"
      },
      "execution_count": null,
      "outputs": []
    },
    {
      "cell_type": "code",
      "source": [
        "4) The average age of 40 students of a class is 15 years. When 10 new students are admitted, the average increases by 0.2 years. The average age of the new students is:\n",
        "•\tTotal age of the 40 students = 40×15=60040 \\times 15 = 60040×15=600.\n",
        "•\tNew average with 10 new students = 15+0.2=15.215 + 0.2 = 15.215+0.2=15.2.\n",
        "•\tTotal age of all 50 students = 50×15.2=76050 \\times 15.2 = 76050×15.2=760.\n",
        "•\tTotal age of the 10 new students = 760−600=160760 - 600 = 160760−600=160.\n",
        "•\tAverage age of the new students = 16010=16\\frac{160}{10} = 1610160=16.\n",
        "Answer: (c) 16 yrs"
      ],
      "metadata": {
        "id": "179cevR1L-5z"
      },
      "execution_count": null,
      "outputs": []
    },
    {
      "cell_type": "code",
      "source": [
        "5) The average weight of 16 boys in a class is 50.25 kg, and that of the remaining 8 boys is 45.15 kg. Find the average weight of all the boys in the class.\n",
        "•\tTotal weight of 16 boys = 16×50.25=80416 \\times 50.25 = 80416×50.25=804.\n",
        "•\tTotal weight of 8 boys = 8×45.15=361.28 \\times 45.15 = 361.28×45.15=361.2.\n",
        "•\tTotal weight of all 24 boys = 804+361.2=1165.2804 + 361.2 = 1165.2804+361.2=1165.2.\n",
        "•\tAverage weight = 1165.224=48.55\\frac{1165.2}{24} = 48.55241165.2=48.55 kg.\n",
        "Answer: (a) 48.55 kg"
      ],
      "metadata": {
        "id": "TRmsaOIWL-8p"
      },
      "execution_count": null,
      "outputs": []
    },
    {
      "cell_type": "code",
      "source": [
        "6) The average of 5 consecutive odd numbers is 61. What is the difference between the highest and lowest number?\n",
        "•\tLet the 5 consecutive odd numbers be: x,x+2,x+4,x+6,x+8x, x+2, x+4, x+6, x+8x,x+2,x+4,x+6,x+8.\n",
        "•\tThe average is x+(x+2)+(x+4)+(x+6)+(x+8)5=61\\frac{x + (x+2) + (x+4) + (x+6) + (x+8)}{5} = 615x+(x+2)+(x+4)+(x+6)+(x+8)=61.\n",
        "•\tSimplifying: 5x+205=61⇒x+4=61⇒x=57\\frac{5x + 20}{5} = 61 \\quad \\Rightarrow \\quad x + 4 = 61 \\quad \\Rightarrow \\quad x = 5755x+20=61⇒x+4=61⇒x=57.\n",
        "•\tThe numbers are 57, 59, 61, 63, 65. The difference between the highest and lowest is 65−57=865 - 57 = 865−57=8.\n",
        "Answer: (c) 8"
      ],
      "metadata": {
        "id": "YdHgIJRaL-_z"
      },
      "execution_count": null,
      "outputs": []
    },
    {
      "cell_type": "code",
      "source": [
        "7) In seven given numbers, the average of the first four numbers is 4 and that of the last four numbers is also 4. If the average of these seven numbers is 3, the fourth number is:\n",
        "•\tLet the seven numbers be a1,a2,a3,a4,a5,a6,a7a_1, a_2, a_3, a_4, a_5, a_6, a_7a1,a2,a3,a4,a5,a6,a7.\n",
        "•\tThe sum of the first four numbers is 4×4=164 \\times 4 = 164×4=16, and the sum of the last four numbers is also 4×4=164 \\times 4 = 164×4=16.\n",
        "•\tThe sum of all seven numbers is 7×3=217 \\times 3 = 217×3=21.\n",
        "•\tLet the fourth number be a4a_4a4. Then: (a1+a2+a3+a4)+(a4+a5+a6+a7)=16+16−a4=32−a4=21(a_1 + a_2 + a_3 + a_4) + (a_4 + a_5 + a_6 + a_7) = 16 + 16 - a_4 = 32 - a_4 = 21(a1+a2+a3+a4)+(a4+a5+a6+a7)=16+16−a4=32−a4=21 a4=32−21=11a_4 = 32 - 21 = 11a4=32−21=11\n",
        "Answer: (d) 11"
      ],
      "metadata": {
        "id": "nhXg2JG8L_C3"
      },
      "execution_count": null,
      "outputs": []
    },
    {
      "cell_type": "code",
      "source": [
        "8) The average age of 30 students is 9 years. If the age of their teacher is included, it becomes 10 years. The age of the teacher is:\n",
        "•\tTotal age of 30 students = 30×9=27030 \\times 9 = 27030×9=270.\n",
        "•\tTotal age of 31 people (including the teacher) = 31×10=31031 \\times 10 = 31031×10=310.\n",
        "•\tAge of the teacher = 310−270=40310 - 270 = 40310−270=40.\n",
        "Answer: (d) 40"
      ],
      "metadata": {
        "id": "gSrOMTBKL_Fy"
      },
      "execution_count": null,
      "outputs": []
    },
    {
      "cell_type": "code",
      "source": [
        "9) The average of 2, 7, 6 and xxx is 5 and the average of 18, 1, 6, xxx, and yyy is 10. What is the value of yyy?\n",
        "•\tThe sum of 2, 7, 6, and xxx is 4×5=204 \\times 5 = 204×5=20, so 15+x=20⇒x=515 + x = 20 \\Rightarrow x = 515+x=20⇒x=5.\n",
        "•\tThe sum of 18, 1, 6, 5, and yyy is 5×10=505 \\times 10 = 505×10=50, so 30+y=50⇒y=2030 + y = 50 \\Rightarrow y = 2030+y=50⇒y=20.\n",
        "Answer: (c) 20"
      ],
      "metadata": {
        "id": "fzyETtR0L_Ia"
      },
      "execution_count": null,
      "outputs": []
    },
    {
      "cell_type": "code",
      "source": [
        "10) A batsman makes a score of 87 runs in the 17th inning and thus increases his average by 3. Find his average after the 17th inning.\n",
        "•\tLet the initial average be xxx.\n",
        "•\tTotal runs after 16 innings = 16x16x16x.\n",
        "•\tAfter 17 innings, the new total runs are 16x+8716x + 8716x+87 and the new average is x+3x + 3x+3.\n",
        "•\tThe equation becomes: 16x+8717=x+3\\frac{16x + 87}{17} = x + 31716x+87=x+3 Solving: 16x+87=17(x+3)⇒16x+87=17x+51⇒x=3616x + 87 = 17(x + 3) \\quad \\Rightarrow \\quad 16x + 87 = 17x + 51 \\quad \\Rightarrow \\quad x = 3616x+87=17(x+3)⇒16x+87=17x+51⇒x=36 The new average is 36+3=3936 + 3 = 3936+3=39.\n",
        "Answer: (b) 39"
      ],
      "metadata": {
        "id": "-owRnI5zL_Lk"
      },
      "execution_count": null,
      "outputs": []
    },
    {
      "cell_type": "code",
      "source": [
        "11) The mean of 50 observations was 36. It was found later an observation 48 was wrongly taken as 23. The corrected new mean is:\n",
        "•\tThe total of all observations is 50×36=180050 \\times 36 = 180050×36=1800.\n",
        "•\tThe error in the observation is 48−23=2548 - 23 = 2548−23=25.\n",
        "•\tThe corrected total is 1800+25=18251800 + 25 = 18251800+25=1825.\n",
        "•\tThe corrected mean is 182550=36.5\\frac{1825}{50} = 36.5501825=36.5.\n",
        "Answer: (c) 36.5"
      ],
      "metadata": {
        "id": "rLUk92EVL_Oi"
      },
      "execution_count": null,
      "outputs": []
    },
    {
      "cell_type": "code",
      "source": [
        "12) The average of runs of a cricket player for 10 innings was 32. How many runs must be made in his next innings so as to increase his average of runs by 4?\n",
        "•\tCurrent total runs for 10 innings = 10×32=32010 \\times 32 = 32010×32=320.\n",
        "•\tNew average = 32+4=3632 + 4 = 3632+4=36.\n",
        "•\tTotal runs required for 11 innings = 11×36=39611 \\times 36 = 39611×36=396.\n",
        "•\tRuns to be made in the next innings = 396−320=76396 - 320 = 76396−320=76.\n",
        "Answer: (d) 76"
      ],
      "metadata": {
        "id": "Z2J6Wb7yL_Rq"
      },
      "execution_count": null,
      "outputs": []
    },
    {
      "cell_type": "code",
      "source": [
        "13) The average weight of 6 men decreases by 3 kg when one of them weighing 80 kg is replaced by a new man. The weight of the new man is:\n",
        "•\tTotal weight of the 6 men before the replacement"
      ],
      "metadata": {
        "id": "rbRp0NlEL_Uq"
      },
      "execution_count": null,
      "outputs": []
    },
    {
      "cell_type": "code",
      "source": [
        "14) The average of the two-digit numbers, which remain the same when the digits interchange their positions, is:\n",
        "•\tThe two-digit numbers where the digits are the same are: 11, 22, 33, 44, 55, 66, 77, 88, 99.\n",
        "•\tThe sum of these numbers is: 11+22+33+44+55+66+77+88+99=49511 + 22 + 33 + 44 + 55 + 66 + 77 + 88 + 99 = 49511+22+33+44+55+66+77+88+99=495.\n",
        "•\tThe number of such numbers is 9.\n",
        "•\tThe average is: 4959=55\\frac{495}{9} = 559495=55.\n",
        "Answer: (d) 55"
      ],
      "metadata": {
        "id": "zKdo-1gGL_Xa"
      },
      "execution_count": null,
      "outputs": []
    },
    {
      "cell_type": "code",
      "source": [
        "15) The average of six numbers is xxx and the average of three of these is yyy. If the average of the remaining three is zzz, then:\n",
        "•\tThe sum of all six numbers is 6x6x6x.\n",
        "•\tThe sum of the first three numbers is 3y3y3y, and the sum of the remaining three is 3z3z3z.\n",
        "•\tHence, 6x=3y+3z6x = 3y + 3z6x=3y+3z, which simplifies to 2x=y+z2x = y + z2x=y+z.\n",
        "Answer: (b) 2x = y + z"
      ],
      "metadata": {
        "id": "wgCJVI1_OXhY"
      },
      "execution_count": null,
      "outputs": []
    },
    {
      "cell_type": "code",
      "source": [
        "16) A team of 8 persons joins in a shooting competition. The best marksman scored 85 points. If he had scored 92 points, the average score for the team would have been 84. The number of points the team scored was:\n",
        "•\tLet the total score of the team be SSS.\n",
        "•\tThe average score with the best marksman scoring 92 would be S−85+928=84\\frac{S - 85 + 92}{8} = 848S−85+92=84.\n",
        "•\tThis simplifies to S+78=84\\frac{S + 7}{8} = 848S+7=84, or S+7=672S + 7 = 672S+7=672, so S=665S = 665S=665.\n",
        "Answer: (a) 665"
      ],
      "metadata": {
        "id": "2HFrZhaIOXkr"
      },
      "execution_count": null,
      "outputs": []
    },
    {
      "cell_type": "code",
      "source": [
        "17) In a cricket eleven, the average of eleven players is 28 years. Out of these, the average ages of three groups of three players each are 25 years, 28 years, and 30 years respectively. If in these groups, the captain and the youngest player are not included, and the captain is eleven years older than the youngest player, what is the age of the captain?\n",
        "•\tLet the total age of the team be 11×28=30811 \\times 28 = 30811×28=308.\n",
        "•\tThe total age of the 9 players in the three groups is (3×25)+(3×28)+(3×30)=75+84+90=249(3 \\times 25) + (3 \\times 28) + (3 \\times 30) = 75 + 84 + 90 = 249(3×25)+(3×28)+(3×30)=75+84+90=249.\n",
        "•\tSo, the age of the captain and the youngest player is 308−249=59308 - 249 = 59308−249=59.\n",
        "•\tLet the age of the youngest player be xxx, then the captain's age is x+11x + 11x+11, and x+(x+11)=59x + (x + 11) = 59x+(x+11)=59, which simplifies to 2x+11=592x + 11 = 592x+11=59, giving 2x=482x = 482x=48 and x=24x = 24x=24.\n",
        "•\tTherefore, the captain's age is 24+11=3524 + 11 = 3524+11=35.\n",
        "Answer: (c) 35 yrs"
      ],
      "metadata": {
        "id": "OMG-IvNYOXnf"
      },
      "execution_count": null,
      "outputs": []
    },
    {
      "cell_type": "code",
      "source": [
        "18) Three years ago, the average age of a family of 5 members was 17 years. A baby having been born, the average age of the family is the same today. The present age of the baby is:\n",
        "•\tThree years ago, the total age of the family was 17×5=8517 \\times 5 = 8517×5=85.\n",
        "•\tThe current total age of the original 5 members is 85+(5×3)=10085 + (5 \\times 3) = 10085+(5×3)=100.\n",
        "•\tLet the present age of the baby be xxx, and the new average age is still 17. Hence, the total age of the 6 members is 6×17=1026 \\times 17 = 1026×17=102.\n",
        "•\tTherefore, 100+x=102100 + x = 102100+x=102, giving x=2x = 2x=2.\n",
        "Answer: (a) 2 yrs"
      ],
      "metadata": {
        "id": "zS7jrwiGOXqO"
      },
      "execution_count": null,
      "outputs": []
    },
    {
      "cell_type": "code",
      "source": [
        "19) The average of 50 numbers is 38. If two numbers, namely 45 and 55, are discarded, the average of remaining numbers is:\n",
        "•\tThe total of the 50 numbers is 50×38=190050 \\times 38 = 190050×38=1900.\n",
        "•\tThe total of the remaining 48 numbers is 1900−(45+55)=1900−100=18001900 - (45 + 55) = 1900 - 100 = 18001900−(45+55)=1900−100=1800.\n",
        "•\tThe new average is 180048=37.5\\frac{1800}{48} = 37.5481800=37.5.\n",
        "Answer: (b) 37.5"
      ],
      "metadata": {
        "id": "pM4eU_fAOXtJ"
      },
      "execution_count": null,
      "outputs": []
    },
    {
      "cell_type": "code",
      "source": [
        "20) The average of 5 consecutive integers starting with ‘a’ is ‘b’. What is the average of 9 consecutive integers starting with a+2a + 2a+2?\n",
        "•\tThe five consecutive integers are: a,a+1,a+2,a+3,a+4a, a+1, a+2, a+3, a+4a,a+1,a+2,a+3,a+4, and their average is b=a+2b = a + 2b=a+2.\n",
        "•\tThe nine consecutive integers starting with a+2a+2a+2 are: a+2,a+3,a+4,…,a+10a+2, a+3, a+4, \\dots, a+10a+2,a+3,a+4,…,a+10.\n",
        "•\tThe average of these numbers is (a+2)+(a+10)2=2a+122=a+6\\frac{(a+2) + (a+10)}{2} = \\frac{2a + 12}{2} = a + 62(a+2)+(a+10)=22a+12=a+6.\n",
        "•\tSince b=a+2b = a + 2b=a+2, the average is b+4b + 4b+4.\n",
        "Answer: (e) b + 4"
      ],
      "metadata": {
        "id": "b923EIVoOXvo"
      },
      "execution_count": null,
      "outputs": []
    },
    {
      "cell_type": "code",
      "source": [
        "21) The average age of students of a class is 15.8 years. The average age of boys in the class is 16.4 years and that of the girls is 15.4 years. The ratio of the number of boys to the number of girls in the class is:\n",
        "•\tLet the number of boys be bbb and the number of girls be ggg.\n",
        "•\tThe total age of the class is 15.8(b+g)15.8(b + g)15.8(b+g), the total age of the boys is 16.4b16.4b16.4b, and the total age of the girls is 15.4g15.4g15.4g.\n",
        "•\tTherefore, 16.4b+15.4g=15.8(b+g)16.4b + 15.4g = 15.8(b + g)16.4b+15.4g=15.8(b+g), simplifying to 16.4b+15.4g=15.8b+15.8g16.4b + 15.4g = 15.8b + 15.8g16.4b+15.4g=15.8b+15.8g, which simplifies to 0.6b=0.4g0.6b = 0.4g0.6b=0.4g, or bg=23\\frac{b}{g} = \\frac{2}{3}gb=32.\n",
        "Answer: (d) 2:3"
      ],
      "metadata": {
        "id": "bEBRa2ZWOXyZ"
      },
      "execution_count": null,
      "outputs": []
    },
    {
      "cell_type": "code",
      "source": [
        "22) The average of 50 numbers is 30. If two numbers, 35 and 40, are discarded, then the average of remaining numbers is:\n",
        "•\tThe total of the 50 numbers is 50×30=150050 \\times 30 = 150050×30=1500.\n",
        "•\tThe total of the remaining 48 numbers is 1500−(35+40)=1500−75=14251500 - (35 + 40) = 1500 - 75 = 14251500−(35+40)=1500−75=1425.\n",
        "•\tThe new average is 142548≈29.68\\frac{1425}{48} \\approx 29.68481425≈29.68.\n",
        "Answer: (b) 29.68"
      ],
      "metadata": {
        "id": "1w9gjDg2OX3s"
      },
      "execution_count": null,
      "outputs": []
    },
    {
      "cell_type": "code",
      "source": [
        "23) The average of 20 numbers is zero. Of them, at the most, how many may be greater than zero?\n",
        "•\tThe sum of the 20 numbers is 20×0=020 \\times 0 = 020×0=0.\n",
        "•\tIf xxx numbers are positive, then the remaining 20−x20 - x20−x numbers must be negative. For the sum to remain zero, the sum of the positive numbers must equal the sum of the negative numbers.\n",
        "•\tAt most, 19 numbers can be positive, and the 20th number can be a large enough negative number to balance the sum.\n",
        "Answer: (d) 19"
      ],
      "metadata": {
        "id": "h79EDYUfOX63"
      },
      "execution_count": null,
      "outputs": []
    },
    {
      "cell_type": "code",
      "source": [
        "________________________________________\n",
        "24) Nine persons went to a hotel for taking their meals. Eight of them spent Rs.12 each on their meals, and the ninth spent Rs.8 more than the average expenditure of all the nine. What was the total money spent by them?\n",
        "•\tLet the average expenditure of all nine persons be xxx.\n",
        "•\tThe ninth person spent x+8x + 8x+8, and the total expenditure of the first eight persons is 8×12=968 \\times 12 = 968×12=96.\n",
        "•\tTherefore, 96+(x+8)=9x96 + (x + 8) = 9x96+(x+8)=9x, which simplifies to 104=9x−x104 = 9x - x104=9x−x, so 104=8x104 = 8x104=8x, giving x=13x = 13x=13.\n",
        "•\tThe total expenditure is 9x=9×13=1179x = 9 \\times 13 = 1179x=9×13=117.\n",
        "Answer: (c) Rs. 117"
      ],
      "metadata": {
        "id": "9cJjNgQOOX9o"
      },
      "execution_count": null,
      "outputs": []
    },
    {
      "cell_type": "code",
      "source": [
        "25) The average weight of a class of 24 students is 35 kg. If the weight of the teacher is included, the average rises by 400 g. The weight of the teacher is:\n",
        "•\tThe total weight of the students is 24×35=84024 \\times 35 = 84024×35=840 kg.\n",
        "•\tThe new average weight is 35+0.4=35.435 + 0.4 = 35.435+0.4=35.4 kg.\n",
        "•\tThe total weight of the 25 people (including the teacher) is 25×35.4=88525 \\times 35.4 = 88525×35.4=885 kg.\n",
        "•\tThe weight of the teacher is 885−840=45885 - 840 = 45885−840=45 kg.\n",
        "Answer: (a) 45 kg"
      ],
      "metadata": {
        "id": "uia1OmTIOYAV"
      },
      "execution_count": null,
      "outputs": []
    }
  ]
}