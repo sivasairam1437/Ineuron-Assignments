{
  "nbformat": 4,
  "nbformat_minor": 0,
  "metadata": {
    "colab": {
      "provenance": []
    },
    "kernelspec": {
      "name": "python3",
      "display_name": "Python 3"
    },
    "language_info": {
      "name": "python"
    }
  },
  "cells": [
    {
      "cell_type": "code",
      "execution_count": null,
      "metadata": {
        "id": "S8JPQn43Lrhx"
      },
      "outputs": [],
      "source": [
        "Averages"
      ]
    },
    {
      "cell_type": "code",
      "source": [
        "1) The average of the first five multiples of 3 is:\n",
        "•\tThe first five multiples of 3 are: 3, 6, 9, 12, 15.\n",
        "•\tAverage = 3+6+9+12+155=455=9\\frac{3 + 6 + 9 + 12 + 15}{5} = \\frac{45}{5} = 953+6+9+12+15=545=9.\n",
        "Answer: (b) 9"
      ],
      "metadata": {
        "id": "loigFYN_L-wx"
      },
      "execution_count": null,
      "outputs": []
    },
    {
      "cell_type": "code",
      "source": [
        "2) The average of six numbers is 3.95. The average of two of them is 3.4, while the average of the other two is 3.85. What is the average of the remaining two numbers?\n",
        "•\tLet the six numbers be: a1,a2,a3,a4,a5,a6a_1, a_2, a_3, a_4, a_5, a_6a1,a2,a3,a4,a5,a6.\n",
        "•\tThe sum of all six numbers is 6×3.95=23.76 \\times 3.95 = 23.76×3.95=23.7.\n",
        "•\tThe sum of the first two numbers is 2×3.4=6.82 \\times 3.4 = 6.82×3.4=6.8, and the sum of the next two is 2×3.85=7.72 \\times 3.85 = 7.72×3.85=7.7.\n",
        "•\tThe sum of the remaining two numbers is 23.7−(6.8+7.7)=23.7−14.5=9.223.7 - (6.8 + 7.7) = 23.7 - 14.5 = 9.223.7−(6.8+7.7)=23.7−14.5=9.2.\n",
        "•\tThe average of the remaining two numbers is 9.22=4.6\\frac{9.2}{2} = 4.629.2=4.6.\n",
        "Answer: (b) 4.6"
      ],
      "metadata": {
        "id": "VKsPRLrrL-zo"
      },
      "execution_count": null,
      "outputs": []
    },
    {
      "cell_type": "code",
      "source": [
        "3) The average score of a cricketer for ten matches is 38.9 runs. If the average for the first six matches is 42, then find the average for the last four matches.\n",
        "•\tTotal runs for 10 matches = 10×38.9=38910 \\times 38.9 = 38910×38.9=389.\n",
        "•\tTotal runs for the first 6 matches = 6×42=2526 \\times 42 = 2526×42=252.\n",
        "•\tTotal runs for the last 4 matches = 389−252=137389 - 252 = 137389−252=137.\n",
        "•\tAverage for the last 4 matches = 1374=34.25\\frac{137}{4} = 34.254137=34.25.\n",
        "Answer: (c) 34.25"
      ],
      "metadata": {
        "id": "vD8Iy01TL-27"
      },
      "execution_count": null,
      "outputs": []
    },
    {
      "cell_type": "code",
      "source": [
        "4) The average age of 40 students of a class is 15 years. When 10 new students are admitted, the average increases by 0.2 years. The average age of the new students is:\n",
        "•\tTotal age of the 40 students = 40×15=60040 \\times 15 = 60040×15=600.\n",
        "•\tNew average with 10 new students = 15+0.2=15.215 + 0.2 = 15.215+0.2=15.2.\n",
        "•\tTotal age of all 50 students = 50×15.2=76050 \\times 15.2 = 76050×15.2=760.\n",
        "•\tTotal age of the 10 new students = 760−600=160760 - 600 = 160760−600=160.\n",
        "•\tAverage age of the new students = 16010=16\\frac{160}{10} = 1610160=16.\n",
        "Answer: (c) 16 yrs"
      ],
      "metadata": {
        "id": "179cevR1L-5z"
      },
      "execution_count": null,
      "outputs": []
    },
    {
      "cell_type": "code",
      "source": [
        "5) The average weight of 16 boys in a class is 50.25 kg, and that of the remaining 8 boys is 45.15 kg. Find the average weight of all the boys in the class.\n",
        "•\tTotal weight of 16 boys = 16×50.25=80416 \\times 50.25 = 80416×50.25=804.\n",
        "•\tTotal weight of 8 boys = 8×45.15=361.28 \\times 45.15 = 361.28×45.15=361.2.\n",
        "•\tTotal weight of all 24 boys = 804+361.2=1165.2804 + 361.2 = 1165.2804+361.2=1165.2.\n",
        "•\tAverage weight = 1165.224=48.55\\frac{1165.2}{24} = 48.55241165.2=48.55 kg.\n",
        "Answer: (a) 48.55 kg"
      ],
      "metadata": {
        "id": "TRmsaOIWL-8p"
      },
      "execution_count": null,
      "outputs": []
    },
    {
      "cell_type": "code",
      "source": [
        "6) The average of 5 consecutive odd numbers is 61. What is the difference between the highest and lowest number?\n",
        "•\tLet the 5 consecutive odd numbers be: x,x+2,x+4,x+6,x+8x, x+2, x+4, x+6, x+8x,x+2,x+4,x+6,x+8.\n",
        "•\tThe average is x+(x+2)+(x+4)+(x+6)+(x+8)5=61\\frac{x + (x+2) + (x+4) + (x+6) + (x+8)}{5} = 615x+(x+2)+(x+4)+(x+6)+(x+8)=61.\n",
        "•\tSimplifying: 5x+205=61⇒x+4=61⇒x=57\\frac{5x + 20}{5} = 61 \\quad \\Rightarrow \\quad x + 4 = 61 \\quad \\Rightarrow \\quad x = 5755x+20=61⇒x+4=61⇒x=57.\n",
        "•\tThe numbers are 57, 59, 61, 63, 65. The difference between the highest and lowest is 65−57=865 - 57 = 865−57=8.\n",
        "Answer: (c) 8"
      ],
      "metadata": {
        "id": "YdHgIJRaL-_z"
      },
      "execution_count": null,
      "outputs": []
    },
    {
      "cell_type": "code",
      "source": [
        "7) In seven given numbers, the average of the first four numbers is 4 and that of the last four numbers is also 4. If the average of these seven numbers is 3, the fourth number is:\n",
        "•\tLet the seven numbers be a1,a2,a3,a4,a5,a6,a7a_1, a_2, a_3, a_4, a_5, a_6, a_7a1,a2,a3,a4,a5,a6,a7.\n",
        "•\tThe sum of the first four numbers is 4×4=164 \\times 4 = 164×4=16, and the sum of the last four numbers is also 4×4=164 \\times 4 = 164×4=16.\n",
        "•\tThe sum of all seven numbers is 7×3=217 \\times 3 = 217×3=21.\n",
        "•\tLet the fourth number be a4a_4a4. Then: (a1+a2+a3+a4)+(a4+a5+a6+a7)=16+16−a4=32−a4=21(a_1 + a_2 + a_3 + a_4) + (a_4 + a_5 + a_6 + a_7) = 16 + 16 - a_4 = 32 - a_4 = 21(a1+a2+a3+a4)+(a4+a5+a6+a7)=16+16−a4=32−a4=21 a4=32−21=11a_4 = 32 - 21 = 11a4=32−21=11\n",
        "Answer: (d) 11"
      ],
      "metadata": {
        "id": "nhXg2JG8L_C3"
      },
      "execution_count": null,
      "outputs": []
    },
    {
      "cell_type": "code",
      "source": [
        "8) The average age of 30 students is 9 years. If the age of their teacher is included, it becomes 10 years. The age of the teacher is:\n",
        "•\tTotal age of 30 students = 30×9=27030 \\times 9 = 27030×9=270.\n",
        "•\tTotal age of 31 people (including the teacher) = 31×10=31031 \\times 10 = 31031×10=310.\n",
        "•\tAge of the teacher = 310−270=40310 - 270 = 40310−270=40.\n",
        "Answer: (d) 40"
      ],
      "metadata": {
        "id": "gSrOMTBKL_Fy"
      },
      "execution_count": null,
      "outputs": []
    },
    {
      "cell_type": "code",
      "source": [
        "9) The average of 2, 7, 6 and xxx is 5 and the average of 18, 1, 6, xxx, and yyy is 10. What is the value of yyy?\n",
        "•\tThe sum of 2, 7, 6, and xxx is 4×5=204 \\times 5 = 204×5=20, so 15+x=20⇒x=515 + x = 20 \\Rightarrow x = 515+x=20⇒x=5.\n",
        "•\tThe sum of 18, 1, 6, 5, and yyy is 5×10=505 \\times 10 = 505×10=50, so 30+y=50⇒y=2030 + y = 50 \\Rightarrow y = 2030+y=50⇒y=20.\n",
        "Answer: (c) 20"
      ],
      "metadata": {
        "id": "fzyETtR0L_Ia"
      },
      "execution_count": null,
      "outputs": []
    },
    {
      "cell_type": "code",
      "source": [
        "10) A batsman makes a score of 87 runs in the 17th inning and thus increases his average by 3. Find his average after the 17th inning.\n",
        "•\tLet the initial average be xxx.\n",
        "•\tTotal runs after 16 innings = 16x16x16x.\n",
        "•\tAfter 17 innings, the new total runs are 16x+8716x + 8716x+87 and the new average is x+3x + 3x+3.\n",
        "•\tThe equation becomes: 16x+8717=x+3\\frac{16x + 87}{17} = x + 31716x+87=x+3 Solving: 16x+87=17(x+3)⇒16x+87=17x+51⇒x=3616x + 87 = 17(x + 3) \\quad \\Rightarrow \\quad 16x + 87 = 17x + 51 \\quad \\Rightarrow \\quad x = 3616x+87=17(x+3)⇒16x+87=17x+51⇒x=36 The new average is 36+3=3936 + 3 = 3936+3=39.\n",
        "Answer: (b) 39"
      ],
      "metadata": {
        "id": "-owRnI5zL_Lk"
      },
      "execution_count": null,
      "outputs": []
    },
    {
      "cell_type": "code",
      "source": [
        "11) The mean of 50 observations was 36. It was found later an observation 48 was wrongly taken as 23. The corrected new mean is:\n",
        "•\tThe total of all observations is 50×36=180050 \\times 36 = 180050×36=1800.\n",
        "•\tThe error in the observation is 48−23=2548 - 23 = 2548−23=25.\n",
        "•\tThe corrected total is 1800+25=18251800 + 25 = 18251800+25=1825.\n",
        "•\tThe corrected mean is 182550=36.5\\frac{1825}{50} = 36.5501825=36.5.\n",
        "Answer: (c) 36.5"
      ],
      "metadata": {
        "id": "rLUk92EVL_Oi"
      },
      "execution_count": null,
      "outputs": []
    },
    {
      "cell_type": "code",
      "source": [
        "12) The average of runs of a cricket player for 10 innings was 32. How many runs must be made in his next innings so as to increase his average of runs by 4?\n",
        "•\tCurrent total runs for 10 innings = 10×32=32010 \\times 32 = 32010×32=320.\n",
        "•\tNew average = 32+4=3632 + 4 = 3632+4=36.\n",
        "•\tTotal runs required for 11 innings = 11×36=39611 \\times 36 = 39611×36=396.\n",
        "•\tRuns to be made in the next innings = 396−320=76396 - 320 = 76396−320=76.\n",
        "Answer: (d) 76"
      ],
      "metadata": {
        "id": "Z2J6Wb7yL_Rq"
      },
      "execution_count": null,
      "outputs": []
    },
    {
      "cell_type": "code",
      "source": [
        "13) The average weight of 6 men decreases by 3 kg when one of them weighing 80 kg is replaced by a new man. The weight of the new man is:\n",
        "•\tTotal weight of the 6 men before the replacement"
      ],
      "metadata": {
        "id": "rbRp0NlEL_Uq"
      },
      "execution_count": null,
      "outputs": []
    },
    {
      "cell_type": "code",
      "source": [
        "14) The average of the two-digit numbers, which remain the same when the digits interchange their positions, is:\n",
        "•\tThe two-digit numbers where the digits are the same are: 11, 22, 33, 44, 55, 66, 77, 88, 99.\n",
        "•\tThe sum of these numbers is: 11+22+33+44+55+66+77+88+99=49511 + 22 + 33 + 44 + 55 + 66 + 77 + 88 + 99 = 49511+22+33+44+55+66+77+88+99=495.\n",
        "•\tThe number of such numbers is 9.\n",
        "•\tThe average is: 4959=55\\frac{495}{9} = 559495=55.\n",
        "Answer: (d) 55"
      ],
      "metadata": {
        "id": "zKdo-1gGL_Xa"
      },
      "execution_count": null,
      "outputs": []
    },
    {
      "cell_type": "code",
      "source": [
        "15) The average of six numbers is xxx and the average of three of these is yyy. If the average of the remaining three is zzz, then:\n",
        "•\tThe sum of all six numbers is 6x6x6x.\n",
        "•\tThe sum of the first three numbers is 3y3y3y, and the sum of the remaining three is 3z3z3z.\n",
        "•\tHence, 6x=3y+3z6x = 3y + 3z6x=3y+3z, which simplifies to 2x=y+z2x = y + z2x=y+z.\n",
        "Answer: (b) 2x = y + z"
      ],
      "metadata": {
        "id": "wgCJVI1_OXhY"
      },
      "execution_count": null,
      "outputs": []
    },
    {
      "cell_type": "code",
      "source": [
        "16) A team of 8 persons joins in a shooting competition. The best marksman scored 85 points. If he had scored 92 points, the average score for the team would have been 84. The number of points the team scored was:\n",
        "•\tLet the total score of the team be SSS.\n",
        "•\tThe average score with the best marksman scoring 92 would be S−85+928=84\\frac{S - 85 + 92}{8} = 848S−85+92=84.\n",
        "•\tThis simplifies to S+78=84\\frac{S + 7}{8} = 848S+7=84, or S+7=672S + 7 = 672S+7=672, so S=665S = 665S=665.\n",
        "Answer: (a) 665"
      ],
      "metadata": {
        "id": "2HFrZhaIOXkr"
      },
      "execution_count": null,
      "outputs": []
    },
    {
      "cell_type": "code",
      "source": [
        "17) In a cricket eleven, the average of eleven players is 28 years. Out of these, the average ages of three groups of three players each are 25 years, 28 years, and 30 years respectively. If in these groups, the captain and the youngest player are not included, and the captain is eleven years older than the youngest player, what is the age of the captain?\n",
        "•\tLet the total age of the team be 11×28=30811 \\times 28 = 30811×28=308.\n",
        "•\tThe total age of the 9 players in the three groups is (3×25)+(3×28)+(3×30)=75+84+90=249(3 \\times 25) + (3 \\times 28) + (3 \\times 30) = 75 + 84 + 90 = 249(3×25)+(3×28)+(3×30)=75+84+90=249.\n",
        "•\tSo, the age of the captain and the youngest player is 308−249=59308 - 249 = 59308−249=59.\n",
        "•\tLet the age of the youngest player be xxx, then the captain's age is x+11x + 11x+11, and x+(x+11)=59x + (x + 11) = 59x+(x+11)=59, which simplifies to 2x+11=592x + 11 = 592x+11=59, giving 2x=482x = 482x=48 and x=24x = 24x=24.\n",
        "•\tTherefore, the captain's age is 24+11=3524 + 11 = 3524+11=35.\n",
        "Answer: (c) 35 yrs"
      ],
      "metadata": {
        "id": "OMG-IvNYOXnf"
      },
      "execution_count": null,
      "outputs": []
    },
    {
      "cell_type": "code",
      "source": [
        "18) Three years ago, the average age of a family of 5 members was 17 years. A baby having been born, the average age of the family is the same today. The present age of the baby is:\n",
        "•\tThree years ago, the total age of the family was 17×5=8517 \\times 5 = 8517×5=85.\n",
        "•\tThe current total age of the original 5 members is 85+(5×3)=10085 + (5 \\times 3) = 10085+(5×3)=100.\n",
        "•\tLet the present age of the baby be xxx, and the new average age is still 17. Hence, the total age of the 6 members is 6×17=1026 \\times 17 = 1026×17=102.\n",
        "•\tTherefore, 100+x=102100 + x = 102100+x=102, giving x=2x = 2x=2.\n",
        "Answer: (a) 2 yrs"
      ],
      "metadata": {
        "id": "zS7jrwiGOXqO"
      },
      "execution_count": null,
      "outputs": []
    },
    {
      "cell_type": "code",
      "source": [
        "19) The average of 50 numbers is 38. If two numbers, namely 45 and 55, are discarded, the average of remaining numbers is:\n",
        "•\tThe total of the 50 numbers is 50×38=190050 \\times 38 = 190050×38=1900.\n",
        "•\tThe total of the remaining 48 numbers is 1900−(45+55)=1900−100=18001900 - (45 + 55) = 1900 - 100 = 18001900−(45+55)=1900−100=1800.\n",
        "•\tThe new average is 180048=37.5\\frac{1800}{48} = 37.5481800=37.5.\n",
        "Answer: (b) 37.5"
      ],
      "metadata": {
        "id": "pM4eU_fAOXtJ"
      },
      "execution_count": null,
      "outputs": []
    },
    {
      "cell_type": "code",
      "source": [
        "20) The average of 5 consecutive integers starting with ‘a’ is ‘b’. What is the average of 9 consecutive integers starting with a+2a + 2a+2?\n",
        "•\tThe five consecutive integers are: a,a+1,a+2,a+3,a+4a, a+1, a+2, a+3, a+4a,a+1,a+2,a+3,a+4, and their average is b=a+2b = a + 2b=a+2.\n",
        "•\tThe nine consecutive integers starting with a+2a+2a+2 are: a+2,a+3,a+4,…,a+10a+2, a+3, a+4, \\dots, a+10a+2,a+3,a+4,…,a+10.\n",
        "•\tThe average of these numbers is (a+2)+(a+10)2=2a+122=a+6\\frac{(a+2) + (a+10)}{2} = \\frac{2a + 12}{2} = a + 62(a+2)+(a+10)=22a+12=a+6.\n",
        "•\tSince b=a+2b = a + 2b=a+2, the average is b+4b + 4b+4.\n",
        "Answer: (e) b + 4"
      ],
      "metadata": {
        "id": "b923EIVoOXvo"
      },
      "execution_count": null,
      "outputs": []
    },
    {
      "cell_type": "code",
      "source": [
        "21) The average age of students of a class is 15.8 years. The average age of boys in the class is 16.4 years and that of the girls is 15.4 years. The ratio of the number of boys to the number of girls in the class is:\n",
        "•\tLet the number of boys be bbb and the number of girls be ggg.\n",
        "•\tThe total age of the class is 15.8(b+g)15.8(b + g)15.8(b+g), the total age of the boys is 16.4b16.4b16.4b, and the total age of the girls is 15.4g15.4g15.4g.\n",
        "•\tTherefore, 16.4b+15.4g=15.8(b+g)16.4b + 15.4g = 15.8(b + g)16.4b+15.4g=15.8(b+g), simplifying to 16.4b+15.4g=15.8b+15.8g16.4b + 15.4g = 15.8b + 15.8g16.4b+15.4g=15.8b+15.8g, which simplifies to 0.6b=0.4g0.6b = 0.4g0.6b=0.4g, or bg=23\\frac{b}{g} = \\frac{2}{3}gb=32.\n",
        "Answer: (d) 2:3"
      ],
      "metadata": {
        "id": "bEBRa2ZWOXyZ"
      },
      "execution_count": null,
      "outputs": []
    },
    {
      "cell_type": "code",
      "source": [
        "22) The average of 50 numbers is 30. If two numbers, 35 and 40, are discarded, then the average of remaining numbers is:\n",
        "•\tThe total of the 50 numbers is 50×30=150050 \\times 30 = 150050×30=1500.\n",
        "•\tThe total of the remaining 48 numbers is 1500−(35+40)=1500−75=14251500 - (35 + 40) = 1500 - 75 = 14251500−(35+40)=1500−75=1425.\n",
        "•\tThe new average is 142548≈29.68\\frac{1425}{48} \\approx 29.68481425≈29.68.\n",
        "Answer: (b) 29.68"
      ],
      "metadata": {
        "id": "1w9gjDg2OX3s"
      },
      "execution_count": null,
      "outputs": []
    },
    {
      "cell_type": "code",
      "source": [
        "23) The average of 20 numbers is zero. Of them, at the most, how many may be greater than zero?\n",
        "•\tThe sum of the 20 numbers is 20×0=020 \\times 0 = 020×0=0.\n",
        "•\tIf xxx numbers are positive, then the remaining 20−x20 - x20−x numbers must be negative. For the sum to remain zero, the sum of the positive numbers must equal the sum of the negative numbers.\n",
        "•\tAt most, 19 numbers can be positive, and the 20th number can be a large enough negative number to balance the sum.\n",
        "Answer: (d) 19"
      ],
      "metadata": {
        "id": "h79EDYUfOX63"
      },
      "execution_count": null,
      "outputs": []
    },
    {
      "cell_type": "code",
      "source": [
        "________________________________________\n",
        "24) Nine persons went to a hotel for taking their meals. Eight of them spent Rs.12 each on their meals, and the ninth spent Rs.8 more than the average expenditure of all the nine. What was the total money spent by them?\n",
        "•\tLet the average expenditure of all nine persons be xxx.\n",
        "•\tThe ninth person spent x+8x + 8x+8, and the total expenditure of the first eight persons is 8×12=968 \\times 12 = 968×12=96.\n",
        "•\tTherefore, 96+(x+8)=9x96 + (x + 8) = 9x96+(x+8)=9x, which simplifies to 104=9x−x104 = 9x - x104=9x−x, so 104=8x104 = 8x104=8x, giving x=13x = 13x=13.\n",
        "•\tThe total expenditure is 9x=9×13=1179x = 9 \\times 13 = 1179x=9×13=117.\n",
        "Answer: (c) Rs. 117"
      ],
      "metadata": {
        "id": "9cJjNgQOOX9o"
      },
      "execution_count": null,
      "outputs": []
    },
    {
      "cell_type": "code",
      "source": [
        "25) The average weight of a class of 24 students is 35 kg. If the weight of the teacher is included, the average rises by 400 g. The weight of the teacher is:\n",
        "•\tThe total weight of the students is 24×35=84024 \\times 35 = 84024×35=840 kg.\n",
        "•\tThe new average weight is 35+0.4=35.435 + 0.4 = 35.435+0.4=35.4 kg.\n",
        "•\tThe total weight of the 25 people (including the teacher) is 25×35.4=88525 \\times 35.4 = 88525×35.4=885 kg.\n",
        "•\tThe weight of the teacher is 885−840=45885 - 840 = 45885−840=45 kg.\n",
        "Answer: (a) 45 kg"
      ],
      "metadata": {
        "id": "uia1OmTIOYAV"
      },
      "execution_count": null,
      "outputs": []
    },
    {
      "cell_type": "code",
      "source": [
        "Mixtures & Alligations"
      ],
      "metadata": {
        "id": "8hSsQcoJR7Ao"
      },
      "execution_count": null,
      "outputs": []
    },
    {
      "cell_type": "code",
      "source": [
        "1) In what ratio must rice at Rs.12 per kg be mixed with rice at Rs.10.80 per kg so that the mixture is worth Rs.10 per kg?\n",
        "•\tUsing the rule of allegation: Ratio=10.80−1010−12=0.802=25\\text{Ratio} = \\frac{10.80 - 10}{10 - 12} = \\frac{0.80}{2} = \\frac{2}{5}Ratio=10−1210.80−10=20.80=52\n",
        "Answer: (b) 2:5"
      ],
      "metadata": {
        "id": "TPq_rd_cR7EI"
      },
      "execution_count": null,
      "outputs": []
    },
    {
      "cell_type": "code",
      "source": [
        "2) Two vessels A and B contain spirit and water in the ratio 5:2 and 7:6 respectively. Find the ratio in which these mixtures should be mixed to obtain a new mixture containing spirit and water in the ratio 8:5.\n",
        "•\tLet the ratio of mixing be x:yx : yx:y.\n",
        "•\tThe percentage of spirit in vessel A is 57\\frac{5}{7}75, and in vessel B, it is 713\\frac{7}{13}137.\n",
        "•\tThe percentage of spirit in the new mixture should be 813\\frac{8}{13}138.\n",
        "•\tUsing the rule of allegation: 813−713=113,57−813=3591−5691=−2191=−730\\frac{8}{13} - \\frac{7}{13} = \\frac{1}{13}, \\quad \\frac{5}{7} - \\frac{8}{13} = \\frac{35}{91} - \\frac{56}{91} = -\\frac{21}{91} = -\\frac{7}{30}138−137=131,75−138=9135−9156=−9121=−307\n",
        "The calculation shows no simple integer ratio is possible.\n",
        "Answer: (d) Not possible"
      ],
      "metadata": {
        "id": "InzmUyxBR7G9"
      },
      "execution_count": null,
      "outputs": []
    },
    {
      "cell_type": "code",
      "source": [
        "3) Vessel ‘A’ contains 150 litres of a mixture of milk and water in the ratio of 3:1. Vessel ‘B’ contains 200 litres of the mixture in the ratio of 5:2. If the mixtures from both vessels are poured into vessel ‘C’, find the ratio of the resulting mixture.\n",
        "•\tMilk in vessel A: 150×34=112.5150 \\times \\frac{3}{4} = 112.5150×43=112.5 litres.\n",
        "•\tWater in vessel A: 150−112.5=37.5150 - 112.5 = 37.5150−112.5=37.5 litres.\n",
        "•\tMilk in vessel B: 200×57=142.857200 \\times \\frac{5}{7} = 142.857200×75=142.857 litres.\n",
        "•\tWater in vessel B: 200−142.857=57.143200 - 142.857 = 57.143200−142.857=57.143 litres.\n",
        "•\tTotal milk: 112.5+142.857=255.357112.5 + 142.857 = 255.357112.5+142.857=255.357 litres.\n",
        "•\tTotal water: 37.5+57.143=94.64337.5 + 57.143 = 94.64337.5+57.143=94.643 litres.\n",
        "•\tThe ratio of milk to water is approximately 255.357:94.643≈143:53255.357:94.643 \\approx 143:53255.357:94.643≈143:53.\n",
        "Answer: (d) 143:53"
      ],
      "metadata": {
        "id": "Rj61h19LR7J5"
      },
      "execution_count": null,
      "outputs": []
    },
    {
      "cell_type": "code",
      "source": [
        "4) 4 kg of metal contains 15\\frac{1}{5}51 copper and the rest is zinc. Another 5 kg of metal contains 16\\frac{1}{6}61 copper and the rest is zinc. The ratio of copper and zinc in the mixture of these two metals:\n",
        "•\tCopper in the first metal: 4×15=0.84 \\times \\frac{1}{5} = 0.84×51=0.8 kg.\n",
        "•\tZinc in the first metal: 4−0.8=3.24 - 0.8 = 3.24−0.8=3.2 kg.\n",
        "•\tCopper in the second metal: 5×16=0.8335 \\times \\frac{1}{6} = 0.8335×61=0.833 kg.\n",
        "•\tZinc in the second metal: 5−0.833=4.1675 - 0.833 = 4.1675−0.833=4.167 kg.\n",
        "•\tTotal copper: 0.8+0.833=1.6330.8 + 0.833 = 1.6330.8+0.833=1.633 kg.\n",
        "•\tTotal zinc: 3.2+4.167=7.3673.2 + 4.167 = 7.3673.2+4.167=7.367 kg.\n",
        "•\tThe ratio of copper to zinc is approximately 1.633:7.367≈49:2211.633:7.367 \\approx 49:2211.633:7.367≈49:221.\n",
        "Answer: (a) 49:221"
      ],
      "metadata": {
        "id": "MYAOSbvXR7M5"
      },
      "execution_count": null,
      "outputs": []
    },
    {
      "cell_type": "code",
      "source": [
        "5) In what ratio must water be mixed with milk costing Rs.12 per litre to obtain a mixture worth Rs.8 per litre?\n",
        "•\tUsing the rule of allegation: Ratio=12−88−0=48=12\\text{Ratio} = \\frac{12 - 8}{8 - 0} = \\frac{4}{8} = \\frac{1}{2}Ratio=8−012−8=84=21\n",
        "Answer: (a) 1:2"
      ],
      "metadata": {
        "id": "Au70xgbkR7P1"
      },
      "execution_count": null,
      "outputs": []
    },
    {
      "cell_type": "code",
      "source": [
        "6) A sum of Rs.4000 is lent out in two parts, one at 8% simple interest and the other at 10% simple interest. If the annual interest is Rs.352, the sum lent at 8% is:\n",
        "•\tLet the sum lent at 8% be xxx, then the sum lent at 10% is 4000−x4000 - x4000−x.\n",
        "•\tThe total interest is 0.08x+0.10(4000−x)=3520.08x + 0.10(4000 - x) = 3520.08x+0.10(4000−x)=352.\n",
        "•\tSimplifying: 0.08x+400−0.10x=3520.08x + 400 - 0.10x = 3520.08x+400−0.10x=352, or −0.02x=−48-0.02x = -48−0.02x=−48, so x=480.02=2400x = \\frac{48}{0.02} = 2400x=0.0248=2400.\n",
        "Answer: (d) 2400"
      ],
      "metadata": {
        "id": "F0d6RJ2JR7S3"
      },
      "execution_count": null,
      "outputs": []
    },
    {
      "cell_type": "code",
      "source": [
        "7) A merchant has 1000 kg of sugar, part of which he sells at 8% profit and the rest at 18% profit. He gains 14% on the whole. The quantity sold at 18% profit is:\n",
        "•\tLet the quantity sold at 18% profit be xxx kg, and the rest, 1000−x1000 - x1000−x, is sold at 8% profit.\n",
        "•\tThe total profit is 8(1000−x)+18x1000=14\\frac{8(1000 - x) + 18x}{1000} = 1410008(1000−x)+18x=14.\n",
        "•\tSimplifying: 8000−8x+18x=140008000 - 8x + 18x = 140008000−8x+18x=14000, or 10x=600010x = 600010x=6000, so x=600x = 600x=600.\n",
        "Answer: (a) 600"
      ],
      "metadata": {
        "id": "Hg5Zb3d3R7Ye"
      },
      "execution_count": null,
      "outputs": []
    },
    {
      "cell_type": "code",
      "source": [
        "8) How many kilograms of sugar costing Rs.9 per kg must be mixed with 27 kg of sugar costing Rs.7 per kg so that there may be a 10% gain by selling the mixture at Rs.9.24 per kg?\n",
        "•\tLet the quantity of sugar to be mixed be xxx.\n",
        "•\tThe cost price of the mixture is 7×27+9x27+x\\frac{7 \\times 27 + 9x}{27 + x}27+x7×27+9x.\n",
        "•\tThe selling price per kg is 9.249.249.24, and the cost price must be 9.241.10=8.4\\frac{9.24}{1.10} = 8.41.109.24=8.4.\n",
        "•\tTherefore, 189+9x27+x=8.4\\frac{189 + 9x}{27 + x} = 8.427+x189+9x=8.4, solving for xxx gives x=63x = 63x=63.\n",
        "Answer: (b) 63 kg"
      ],
      "metadata": {
        "id": "u6Z8M8M7R7bs"
      },
      "execution_count": null,
      "outputs": []
    },
    {
      "cell_type": "code",
      "source": [
        "9) A jar full of whisky contains 40% alcohol. A part of this whisky is replaced by another containing 19% alcohol and now the percentage of alcohol was found to be 26%. The quantity of whisky replaced is:\n",
        "•\tLet the quantity of whisky replaced be xxx.\n",
        "•\tThe equation for the new concentration is: (1−x)(0.40)+x(0.19)=0.26(1 - x)(0.40) + x(0.19) = 0.26(1−x)(0.40)+x(0.19)=0.26 Solving this gives x=45x = \\frac{4}{5}x=54.\n",
        "Answer: (a) 45\\frac{4}{5}54"
      ],
      "metadata": {
        "id": "BKD0frr1R7e1"
      },
      "execution_count": null,
      "outputs": []
    },
    {
      "cell_type": "code",
      "source": [
        "10) A sample of xxx litres from a container having a 60-litre mixture of milk and water containing milk and water in the ratio of 2:3 is replaced with pure milk so that the container will have milk and water in equal proportions. What is the value of xxx?\n",
        "•\tThe initial quantity of milk is 60×25=2460 \\times \\frac{2}{5} = 2460×52=24 litres.\n",
        "•\tThe initial quantity of water is 60×35=3660 \\times \\frac{3}{5} = 3660×53=36 litres.\n",
        "•\tLet xxx litres be removed. After removing xxx litres, the remaining mixture has 24−25x24 - \\frac{2}{5}x24−52x litres of milk and 36−35x36 - \\frac{3}{5}x36−53x litres of water.\n",
        "•\tAdding xxx litres of milk, the final quantity of milk is 24−25x+x24 - \\frac{2}{5}x + x24−52x+x and the final quantity of water is 36−35x36 - \\frac{3}{5}x36−53x.\n",
        "•\tSetting the two equal gives 24−25x+x=36−35x24 - \\frac{2}{5}x + x = 36 - \\frac{3}{5}x24−52x+x=36−53x, solving for xxx gives x=10x = 10x=10.\n",
        "Answer: (b) 10 L"
      ],
      "metadata": {
        "id": "u3ofqOESTzxN"
      },
      "execution_count": null,
      "outputs": []
    },
    {
      "cell_type": "code",
      "source": [
        "11) A can contains 40 kg of milk. From this container, 4 kg of milk was taken out and replaced by water. This process was repeated further two times. How much milk is now contained in the container?\n",
        "•\tThe remaining milk after each replacement is given by the formula: Remaining milk=Initial milk×(Remaining quantityTotal quantity)n\\text{Remaining milk} = \\text{Initial milk} \\times \\left(\\frac{\\text{Remaining quantity}}{\\text{Total quantity}}\\right)^nRemaining milk=Initial milk×(Total quantityRemaining quantity)n, where nnn is the number of replacements.\n",
        "•\tAfter 3 replacements: 40 \\times \\left(\\frac{36}{40}\\right)^3 = 40 \\times \\left(\\"
      ],
      "metadata": {
        "id": "9Lapli59Tz16"
      },
      "execution_count": null,
      "outputs": []
    },
    {
      "cell_type": "code",
      "source": [
        "12) A can contains a mixture of two liquids A and B in the ratio 7:5. When 9 litres of mixture are drawn off and the can is filled with B, the ratio of A and B becomes 7:9. How many litres of liquid A was contained in the can initially?\n",
        "•\tLet the total quantity of the mixture be xxx litres.\n",
        "•\tInitially, A = 712x\\frac{7}{12}x127x and B = 512x\\frac{5}{12}x125x.\n",
        "•\tAfter removing 9 litres, 712×9\\frac{7}{12} \\times 9127×9 litres of A and 512×9\\frac{5}{12} \\times 9125×9 litres of B are removed.\n",
        "•\tAfter replacing with B, the ratio of A to B becomes 7:97:97:9, so 712x−712×9\\frac{7}{12}x - \\frac{7}{12} \\times 9127x−127×9 and 512x−512×9+9\\frac{5}{12}x - \\frac{5}{12} \\times 9 + 9125x−125×9+9 should follow the ratio 7:97:97:9.\n",
        "Solving gives x=36x = 36x=36, so initially, the quantity of liquid A is 712×36=21\\frac{7}{12} \\times 36 = 21127×36=21.\n",
        "Answer: (a) 21 l"
      ],
      "metadata": {
        "id": "JKZ_q7YyR7iU"
      },
      "execution_count": null,
      "outputs": []
    },
    {
      "cell_type": "code",
      "source": [
        "13) One alloy contains silver and copper in the ratio 5:1, and the other contains it in the ratio 7:2. What weights of the two must be melted together to make a 5 lb mass with 80% silver?\n",
        "•\tLet the weights of the two alloys be xxx and yyy.\n",
        "•\tFor the first alloy, the percentage of silver is 56\\frac{5}{6}65, and for the second alloy, it is 79\\frac{7}{9}97.\n",
        "•\tThe resulting mixture has 80% silver, or 45\\frac{4}{5}54.\n",
        "Using the rule of allegation, solving gives the ratio 2:32:32:3.\n",
        "Answer: (c) 2 lb, 3 lb"
      ],
      "metadata": {
        "id": "9tQr1VhmR7lb"
      },
      "execution_count": null,
      "outputs": []
    },
    {
      "cell_type": "code",
      "source": [
        "14) In what ratio must water be mixed with milk to gain 20% by selling the mixture at cost price?\n",
        "•\tTo gain 20%, the quantity of water should be 15\\frac{1}{5}51 of the milk (because water is added at no cost).\n",
        "So, the ratio of water to milk should be 1:51:51:5.\n",
        "Answer: (d) 1:5"
      ],
      "metadata": {
        "id": "5GKe8f_tVD63"
      },
      "execution_count": null,
      "outputs": []
    },
    {
      "cell_type": "code",
      "source": [
        "15) Two vessels A and B contain milk and water mixed in the ratio 4:3 and 2:3. In what ratio must these mixtures be mixed to form a new mixture containing half milk and half water?\n",
        "•\tLet the ratio of mixing be x:yx:yx:y.\n",
        "•\tThe percentage of milk in vessel A is 47\\frac{4}{7}74, and in vessel B, it is 25\\frac{2}{5}52.\n",
        "•\tThe resulting mixture has 12\\frac{1}{2}21 milk.\n",
        "Using the rule of allegation, solving gives the ratio 7:57:57:5.\n",
        "Answer: (b) 7:5"
      ],
      "metadata": {
        "id": "PFbETuvSVD9p"
      },
      "execution_count": null,
      "outputs": []
    },
    {
      "cell_type": "code",
      "source": [
        "16) A 20-litre mixture of milk and water contains milk and water in the ratio 3:2. Ten litres of the mixture are removed and replaced with pure milk. The operation is repeated once more. At the end of the two removals and replacements, what is the ratio of milk to water in the resultant mixture?\n",
        "•\tInitially, milk = 35×20=12\\frac{3}{5} \\times 20 = 1253×20=12 litres, water = 888 litres.\n",
        "•\tAfter removing 10 litres, 666 litres of milk and 444 litres of water are left.\n",
        "•\tAfter adding 10 litres of milk, milk = 161616, water = 444.\n",
        "•\tRepeating the process:\n",
        "o\tAfter removing another 10 litres, 888 litres of milk and 222 litres of water are left.\n",
        "o\tAdding 10 litres of milk, milk = 181818, water = 222.\n",
        "The ratio is 18:2=9:118:2 = 9:118:2=9:1.\n",
        "Answer: (b) 9:1"
      ],
      "metadata": {
        "id": "kY0BWirwVEAw"
      },
      "execution_count": null,
      "outputs": []
    },
    {
      "cell_type": "code",
      "source": [
        "17) From a tank of petrol, which contains 200 litres of petrol, the seller replaces each time with kerosene when he sells 40 litres of petrol (or mixture). After replacing the petrol with kerosene four times, the amount of kerosene in the mixture is:\n",
        "•\tThe remaining amount of petrol after each replacement is 200×(160200)n200 \\times \\left(\\frac{160}{200}\\right)^n200×(200160)n.\n",
        "•\tAfter 4 replacements, the remaining petrol is 200×(45)4=81.92200 \\times \\left(\\frac{4}{5}\\right)^4 = 81.92200×(54)4=81.92 litres of petrol.\n",
        "•\tSo, the amount of kerosene is 200−81.92=118.08200 - 81.92 = 118.08200−81.92=118.08 litres.\n",
        "Answer: (c) 118.08 L"
      ],
      "metadata": {
        "id": "l4s1D4m7VEDp"
      },
      "execution_count": null,
      "outputs": []
    },
    {
      "cell_type": "code",
      "source": [
        "18) From a cask of milk containing 30 litres, 6 litres are drawn out, and the cask is filled with water. If the same process is repeated a second, then a third time, what will be the number of litres of milk left in the cask?\n",
        "•\tThe remaining amount of milk after each replacement is 30×(2430)n30 \\times \\left(\\frac{24}{30}\\right)^n30×(3024)n.\n",
        "•\tAfter 3 replacements, the remaining milk is 30×(45)3=15.3630 \\times \\left(\\frac{4}{5}\\right)^3 = 15.3630×(54)3=15.36 litres.\n",
        "Answer: (d) 15.36 L"
      ],
      "metadata": {
        "id": "XNScc3PwVEGV"
      },
      "execution_count": null,
      "outputs": []
    },
    {
      "cell_type": "code",
      "source": [
        "19) In a zoo, there are rabbits and pigeons. If heads are counted, there are 200, and if legs are counted, there are 580. How many pigeons are there?\n",
        "•\tLet the number of rabbits be xxx, and pigeons be yyy.\n",
        "•\tFrom heads: x+y=200x + y = 200x+y=200.\n",
        "•\tFrom legs: 4x+2y=5804x + 2y = 5804x+2y=580.\n",
        "Solving these equations gives y=110y = 110y=110.\n",
        "Answer: (c) 110"
      ],
      "metadata": {
        "id": "6Cu9EVAzVgzs"
      },
      "execution_count": null,
      "outputs": []
    },
    {
      "cell_type": "code",
      "source": [
        "20) In a 729-litre mixture of milk and water, the ratio of milk to water is 7:2. To get a new mixture containing milk and water in the ratio 7:3, the amount of water to be added is:\n",
        "•\tInitially, milk = 79×729=567\\frac{7}{9} \\times 729 = 56797×729=567 litres, water = 162162162 litres.\n",
        "•\tLet xxx litres of water be added. The new ratio becomes 567162+x=73\\frac{567}{162 + x} = \\frac{7}{3}162+x567=37.\n",
        "Solving gives x=81x = 81x=81.\n",
        "Answer: (d) 81 L"
      ],
      "metadata": {
        "id": "fFWr6uFAVEJJ"
      },
      "execution_count": null,
      "outputs": []
    },
    {
      "cell_type": "code",
      "source": [
        "21) A man travelled a distance of 90 km in 9 hours, partly on foot at 8 kmph and partly on a bicycle at 17 kmph. Find the distance travelled on foot.\n",
        "•\tLet the distance travelled on foot be xxx km.\n",
        "•\tThe time taken on foot is x8\\frac{x}{8}8x, and by bicycle, it is 90−x17\\frac{90 - x}{17}1790−x.\n",
        "•\tThe total time is x8+90−x17=9\\frac{x}{8} + \\frac{90 - x}{17} = 98x+1790−x=9.\n",
        "Solving gives x=46x = 46x=46.\n",
        "Answer: (a) 46 km"
      ],
      "metadata": {
        "id": "g0pOuOIrVEMB"
      },
      "execution_count": null,
      "outputs": []
    },
    {
      "cell_type": "code",
      "source": [
        "22) Teas worth Rs. 126 per kg and Rs. 135 per kg are mixed with a third variety in the ratio 1:1:2. If the mixture is worth Rs 153 per kg, the price of the third variety per kg will be?\n",
        "•\tLet the price of the third variety be xxx.\n",
        "•\tThe weighted average is 126+135+2x4=153\\frac{126 + 135 + 2x}{4} = 1534126+135+2x=153.\n",
        "Solving gives x=175.50x = 175.50x=175.50.\n",
        "Answer: (c) Rs. 175.50"
      ],
      "metadata": {
        "id": "IumUNciWVEPK"
      },
      "execution_count": null,
      "outputs": []
    }
  ]
}