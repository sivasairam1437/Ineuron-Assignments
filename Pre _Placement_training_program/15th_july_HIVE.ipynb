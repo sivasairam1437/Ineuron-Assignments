{
  "nbformat": 4,
  "nbformat_minor": 0,
  "metadata": {
    "colab": {
      "provenance": []
    },
    "kernelspec": {
      "name": "python3",
      "display_name": "Python 3"
    },
    "language_info": {
      "name": "python"
    }
  },
  "cells": [
    {
      "cell_type": "code",
      "execution_count": null,
      "metadata": {
        "id": "Aiq9tIdlgE_d"
      },
      "outputs": [],
      "source": [
        "1.  Write a Python program that uses the HiveQL language to create a table named \"Employees\" with columns for \"id,\" \"name,\" and \"salary.\"\n",
        "from pyhive import hive\n",
        "\n",
        "def create_hive_table():\n",
        "    conn = hive.Connection(host='localhost', port=10000, username='your_username')\n",
        "    cursor = conn.cursor()\n",
        "    cursor.execute(\"\"\"\n",
        "        CREATE TABLE IF NOT EXISTS Employees (\n",
        "            id INT,\n",
        "            name STRING,\n",
        "            salary FLOAT\n",
        "        )\n",
        "    \"\"\")\n",
        "    cursor.close()\n",
        "    conn.close()\n",
        "\n",
        "create_hive_table()"
      ]
    },
    {
      "cell_type": "code",
      "source": [
        "2.  Create a Python program that retrieves records from a Hive table named \"Customers\" where the age is greater than 30.\n",
        "from pyhive import hive\n",
        "\n",
        "def get_customers_above_30():\n",
        "    conn = hive.Connection(host='localhost', port=10000, username='your_username')\n",
        "    cursor = conn.cursor()\n",
        "    cursor.execute(\"\"\"\n",
        "        SELECT * FROM Customers WHERE age > 30\n",
        "    \"\"\")\n",
        "    for row in cursor.fetchall():\n",
        "        print(row)\n",
        "    cursor.close()\n",
        "    conn.close()\n",
        "\n",
        "get_customers_above_30()"
      ],
      "metadata": {
        "id": "A7WeKfSRhJ5z"
      },
      "execution_count": null,
      "outputs": []
    },
    {
      "cell_type": "code",
      "source": [
        "3.  Write a Python script that sorts records in descending order based on the \"timestamp\" column in a Hive table named \"Logs.\"\n",
        "from pyhive import hive\n",
        "\n",
        "def sort_logs_by_timestamp():\n",
        "    conn = hive.Connection(host='localhost', port=10000, username='your_username')\n",
        "    cursor = conn.cursor()\n",
        "    cursor.execute(\"\"\"\n",
        "        SELECT * FROM Logs ORDER BY timestamp DESC\n",
        "    \"\"\")\n",
        "    for row in cursor.fetchall():\n",
        "        print(row)\n",
        "    cursor.close()\n",
        "    conn.close()\n",
        "\n",
        "sort_logs_by_timestamp()"
      ],
      "metadata": {
        "id": "9wu-eRX3hJ9Q"
      },
      "execution_count": null,
      "outputs": []
    },
    {
      "cell_type": "code",
      "source": [
        "4.  Write a Python program that connects to a Hive server using PyHive library and retrieves all records from a table named \"Products\".\n",
        "from pyhive import hive\n",
        "\n",
        "def get_all_products():\n",
        "    conn = hive.Connection(host='localhost', port=10000, username='your_username')\n",
        "    cursor = conn.cursor()\n",
        "    cursor.execute(\"SELECT * FROM Products\")\n",
        "    for row in cursor.fetchall():\n",
        "        print(row)\n",
        "    cursor.close()\n",
        "    conn.close()\n",
        "\n",
        "get_all_products()"
      ],
      "metadata": {
        "id": "2UYFYaDChKAc"
      },
      "execution_count": null,
      "outputs": []
    },
    {
      "cell_type": "code",
      "source": [
        "5.  Write a Python script that calculates the average salary of employees from a Hive table named \"Employees\".\n",
        "from pyhive import hive\n",
        "\n",
        "def calculate_average_salary():\n",
        "    conn = hive.Connection(host='localhost', port=10000, username='your_username')\n",
        "    cursor = conn.cursor()\n",
        "    cursor.execute(\"SELECT AVG(salary) FROM Employees\")\n",
        "    average_salary = cursor.fetchone()[0]\n",
        "    print(f\"Average Salary: {average_salary}\")\n",
        "    cursor.close()\n",
        "    conn.close()\n",
        "\n",
        "calculate_average_salary()"
      ],
      "metadata": {
        "id": "0LxMeow4hKDn"
      },
      "execution_count": null,
      "outputs": []
    },
    {
      "cell_type": "code",
      "source": [
        "6.  Implement a Python program that uses Hive partitioning to create a partitioned table named \"Sales_Data\" based on the \"year\" and \"month\" columns.\n",
        "from pyhive import hive\n",
        "\n",
        "def create_partitioned_table():\n",
        "    conn = hive.Connection(host='localhost', port=10000, username='your_username')\n",
        "    cursor = conn.cursor()\n",
        "    cursor.execute(\"\"\"\n",
        "        CREATE TABLE IF NOT EXISTS Sales_Data (\n",
        "            id INT,\n",
        "            amount FLOAT\n",
        "        ) PARTITIONED BY (year INT, month INT)\n",
        "    \"\"\")\n",
        "    cursor.close()\n",
        "    conn.close()\n",
        "\n",
        "create_partitioned_table()"
      ],
      "metadata": {
        "id": "K1PNYVBlhKGq"
      },
      "execution_count": null,
      "outputs": []
    },
    {
      "cell_type": "code",
      "source": [
        "7.  Develop a Python script that adds a new column named \"email\" of type string to an existing Hive table named \"Employees.\"\n",
        "from pyhive import hive\n",
        "\n",
        "def add_email_column():\n",
        "    conn = hive.Connection(host='localhost', port=10000, username='your_username')\n",
        "    cursor = conn.cursor()\n",
        "    cursor.execute(\"\"\"\n",
        "        ALTER TABLE Employees ADD COLUMNS (email STRING)\n",
        "    \"\"\")\n",
        "    cursor.close()\n",
        "    conn.close()\n",
        "\n",
        "add_email_column()"
      ],
      "metadata": {
        "id": "uug8r99qhKJz"
      },
      "execution_count": null,
      "outputs": []
    },
    {
      "cell_type": "code",
      "source": [
        "8.  Create a Python program that performs an inner join between two Hive tables, \"Orders\" and \"Customers,\" based on a common column.\n",
        "from pyhive import hive\n",
        "\n",
        "def inner_join_orders_customers():\n",
        "    conn = hive.Connection(host='localhost', port=10000, username='your_username')\n",
        "    cursor = conn.cursor()\n",
        "    cursor.execute(\"\"\"\n",
        "        SELECT * FROM Orders o\n",
        "        INNER JOIN Customers c\n",
        "        ON o.customer_id = c.id\n",
        "    \"\"\")\n",
        "    for row in cursor.fetchall():\n",
        "        print(row)\n",
        "    cursor.close()\n",
        "    conn.close()\n",
        "\n",
        "inner_join_orders_customers()"
      ],
      "metadata": {
        "id": "LHdhof7jhKNM"
      },
      "execution_count": null,
      "outputs": []
    },
    {
      "cell_type": "code",
      "source": [
        "9.  Implement a Python program that uses the Hive SerDe library to process JSON data stored in a Hive table named \"User_Activity_Logs.\"\n",
        "from pyhive import hive\n",
        "\n",
        "def create_json_table():\n",
        "    conn = hive.Connection(host='localhost', port=10000, username='your_username')\n",
        "    cursor = conn.cursor()\n",
        "    cursor.execute(\"\"\"\n",
        "        CREATE TABLE IF NOT EXISTS User_Activity_Logs (\n",
        "            user_id INT,\n",
        "            activity STRING\n",
        "        ) ROW FORMAT SERDE\n",
        "        'org.apache.hive.hcatalog.data.JsonSerDe'\n",
        "        STORED AS TEXTFILE\n",
        "    \"\"\")\n",
        "    cursor.close()\n",
        "    conn.close()\n",
        "\n",
        "create_json_table()"
      ],
      "metadata": {
        "id": "79jfwz_MhKQV"
      },
      "execution_count": null,
      "outputs": []
    }
  ]
}