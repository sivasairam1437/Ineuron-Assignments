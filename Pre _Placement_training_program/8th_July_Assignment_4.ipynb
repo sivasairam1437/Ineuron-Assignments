{
  "nbformat": 4,
  "nbformat_minor": 0,
  "metadata": {
    "colab": {
      "provenance": []
    },
    "kernelspec": {
      "name": "python3",
      "display_name": "Python 3"
    },
    "language_info": {
      "name": "python"
    }
  },
  "cells": [
    {
      "cell_type": "code",
      "execution_count": null,
      "metadata": {
        "id": "Ears9Ukz_glF"
      },
      "outputs": [],
      "source": [
        "💡 **Q1.1. Write a program to show Interface Example in java?**\n",
        "\n",
        "interface Animal {\n",
        "    void sound();\n",
        "}\n",
        "\n",
        "class Dog implements Animal {\n",
        "    @Override\n",
        "    public void sound() {\n",
        "        System.out.println(\"Dog barks\");\n",
        "    }\n",
        "}\n",
        "\n",
        "class Cat implements Animal {\n",
        "    @Override\n",
        "    public void sound() {\n",
        "        System.out.println(\"Cat meows\");\n",
        "    }\n",
        "}\n",
        "\n",
        "public class InterfaceExample {\n",
        "    public static void main(String[] args) {\n",
        "        Animal dog = new Dog();\n",
        "        Animal cat = new Cat();\n",
        "\n",
        "        dog.sound();  // Outputs: Dog barks\n",
        "        cat.sound();  // Outputs: Cat meows\n",
        "    }\n",
        "}"
      ]
    },
    {
      "cell_type": "code",
      "source": [
        "💡 **Q2.Write a program a Program with 2 concrete method and 2 abstract method in java ?**\n",
        "abstract class Shape {\n",
        "    // Abstract methods\n",
        "    abstract void draw();\n",
        "    abstract double area();\n",
        "\n",
        "    // Concrete methods\n",
        "    public void displayShapeName() {\n",
        "        System.out.println(\"This is a shape.\");\n",
        "    }\n",
        "\n",
        "    public void printHello() {\n",
        "        System.out.println(\"Hello from Shape class.\");\n",
        "    }\n",
        "}\n",
        "\n",
        "class Circle extends Shape {\n",
        "    private double radius;\n",
        "\n",
        "    public Circle(double radius) {\n",
        "        this.radius = radius;\n",
        "    }\n",
        "\n",
        "    @Override\n",
        "    void draw() {\n",
        "        System.out.println(\"Drawing a Circle\");\n",
        "    }\n",
        "\n",
        "    @Override\n",
        "    double area() {\n",
        "        return Math.PI * radius * radius;\n",
        "    }\n",
        "}\n",
        "\n",
        "public class ConcreteAbstractExample {\n",
        "    public static void main(String[] args) {\n",
        "        Circle circle = new Circle(5.0);\n",
        "        circle.displayShapeName();   // Concrete method\n",
        "        circle.printHello();         // Concrete method\n",
        "        circle.draw();               // Abstract method implemented in subclass\n",
        "        System.out.println(\"Area: \" + circle.area());  // Abstract method\n",
        "    }\n",
        "}"
      ],
      "metadata": {
        "id": "MFpDkQ2hAc1F"
      },
      "execution_count": null,
      "outputs": []
    },
    {
      "cell_type": "code",
      "source": [
        "💡 **Q3.Write a program  to show the use of functional interface in java?**\n",
        "A functional interface is an interface with only one abstract method. Below is an example using the @FunctionalInterface annotation and a lambda expression."
      ],
      "metadata": {
        "id": "yWFO0bOnAc4z"
      },
      "execution_count": null,
      "outputs": []
    },
    {
      "cell_type": "code",
      "source": [
        "💡 **Q4.What is an interface in Java?**\n",
        "An interface in Java is a blueprint of a class. It contains abstract methods (methods without a body) and constants. Interfaces are used to achieve multiple inheritance in Java and to provide loose coupling."
      ],
      "metadata": {
        "id": "HKuN3ppzAc7v"
      },
      "execution_count": null,
      "outputs": []
    },
    {
      "cell_type": "code",
      "source": [
        "💡 **Q5.What is the use of interface in Java?**\n",
        "Interfaces in Java are used to:\n",
        "\n",
        "Achieve multiple inheritance (since a class can implement multiple interfaces).\n",
        "Promote abstraction by defining a contract that implementing classes must follow.\n",
        "Facilitate loose coupling, allowing changes in implementation without affecting the interface users.\n",
        "Enable polymorphism, where multiple classes can be treated as objects of the interface type."
      ],
      "metadata": {
        "id": "jDu_k6KFAdBh"
      },
      "execution_count": null,
      "outputs": []
    },
    {
      "cell_type": "code",
      "source": [
        "💡 **Q6.What is the lambda expression of Java 8?**\n",
        "\n",
        "A lambda expression in Java 8 provides a clear and concise way to represent anonymous functions (methods without a name). It's used to implement a method defined by a functional interface.\n",
        "\n",
        "(int x, int y) -> x + y\n",
        "\n",
        "This is a lambda expression that takes two integers and returns their sum."
      ],
      "metadata": {
        "id": "b6nUEh-YAdFO"
      },
      "execution_count": null,
      "outputs": []
    },
    {
      "cell_type": "code",
      "source": [
        "💡 **Q7.Can you pass lambda expressions to a method? When?**\n",
        "\n",
        "Yes, lambda expressions can be passed to methods as arguments when the method expects a functional interface as a parameter. A functional interface has only one abstract method, which a lambda can implement.\n",
        "\n",
        "interface Greeting {\n",
        "    void sayHello(String name);\n",
        "}\n",
        "\n",
        "public class LambdaExample {\n",
        "    public static void greetSomeone(Greeting greeting, String name) {\n",
        "        greeting.sayHello(name);\n",
        "    }\n",
        "\n",
        "    public static void main(String[] args) {\n",
        "        greetSomeone((name) -> System.out.println(\"Hello \" + name), \"John\");\n",
        "    }\n",
        "}"
      ],
      "metadata": {
        "id": "6VFzIkMWAdJa"
      },
      "execution_count": null,
      "outputs": []
    },
    {
      "cell_type": "code",
      "source": [
        "💡 **Q8.What is the functional interface in Java 8?**\n",
        "\n",
        "A functional interface in Java is an interface with exactly one abstract method. Functional interfaces can be implemented by lambda expressions. The @FunctionalInterface annotation is used to mark such interfaces.\n",
        "\n",
        "Examples include Runnable, Callable, Comparable, and interfaces like Function<T,R> in the java.util.function package."
      ],
      "metadata": {
        "id": "oARgRzMmAdMa"
      },
      "execution_count": null,
      "outputs": []
    },
    {
      "cell_type": "code",
      "source": [
        "💡 **Q9.What is the benefit of lambda expressions in Java 8?**\n",
        "\n",
        "The benefits of lambda expressions are:\n",
        "\n",
        "Simplified code: They make the code more concise and readable, especially for small and anonymous functions.\n",
        "Improved efficiency: They enable functional programming in Java and provide efficient ways to work with collections (via streams).\n",
        "Parallel operations: Lambda expressions combined with streams enable parallelism, making processing more efficient."
      ],
      "metadata": {
        "id": "8g7VinasAdPN"
      },
      "execution_count": null,
      "outputs": []
    },
    {
      "cell_type": "code",
      "source": [
        "💡 **Q10.Is it mandatory for a lambda expression to have parameters?**\n",
        "\n",
        "No, it is not mandatory for a lambda expression to have parameters. If a lambda expression takes no parameters, empty parentheses () are used.\n",
        "\n",
        "Runnable runnable = () -> System.out.println(\"Hello World\");\n",
        "runnable.run();"
      ],
      "metadata": {
        "id": "oqWjYdAjAdSG"
      },
      "execution_count": null,
      "outputs": []
    }
  ]
}