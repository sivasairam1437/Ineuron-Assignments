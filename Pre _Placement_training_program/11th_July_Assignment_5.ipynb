{
  "nbformat": 4,
  "nbformat_minor": 0,
  "metadata": {
    "colab": {
      "provenance": []
    },
    "kernelspec": {
      "name": "python3",
      "display_name": "Python 3"
    },
    "language_info": {
      "name": "python"
    }
  },
  "cells": [
    {
      "cell_type": "code",
      "execution_count": null,
      "metadata": {
        "id": "PFyJXC-HIFA7"
      },
      "outputs": [],
      "source": [
        "💡 **Q1.What is Exception in Java?**\n",
        "An exception in Java is an event that disrupts the normal flow of the program. It occurs during runtime and can be caused by various reasons such as invalid input, resource unavailability, or arithmetic errors (like division by zero)."
      ]
    },
    {
      "cell_type": "code",
      "source": [
        "💡 **Q2.What is Exception Handling?**\n",
        "Exception handling in Java refers to managing and responding to runtime exceptions. It ensures that the program can recover or handle unexpected errors gracefully without crashing. The key components include try, catch, throw, throws, and finally."
      ],
      "metadata": {
        "id": "dwpixosAIcMj"
      },
      "execution_count": null,
      "outputs": []
    },
    {
      "cell_type": "code",
      "source": [
        "💡 **Q3.What is the difference between Checked and Unchecked Exceptions and Error?**\n",
        "\n",
        "Checked Exceptions: These are exceptions checked at compile time. The compiler ensures that such exceptions are either handled or declared. Example: IOException, SQLException.\n",
        "\n",
        "Unchecked Exceptions: These are exceptions not checked at compile time. They occur at runtime and generally result from programming logic errors, such as NullPointerException or ArithmeticException.\n",
        "\n",
        "Error: Errors represent serious problems that an application should not attempt to recover from. Errors are not exceptions; they indicate issues like memory leaks or JVM errors, e.g., OutOfMemoryError, StackOverflowError.\n"
      ],
      "metadata": {
        "id": "gQyUAEttIcQf"
      },
      "execution_count": null,
      "outputs": []
    },
    {
      "cell_type": "code",
      "source": [
        "💡 **Q4.What are the difference between throw and throws in Java?**\n",
        "throw: It is used to explicitly throw an exception in the program. You can throw both checked and unchecked exceptions using throw.\n",
        "\n",
        "throw new IllegalArgumentException(\"Invalid Argument\");\n",
        "\n",
        "throws: It is used in the method signature to declare that a method might throw one or more exceptions.\n",
        "\n",
        "public void readFile() throws IOException {\n",
        "    // code\n",
        "}"
      ],
      "metadata": {
        "id": "FpaxKyObIcUb"
      },
      "execution_count": null,
      "outputs": []
    },
    {
      "cell_type": "code",
      "source": [
        "💡 **Q5.What is multithreading in Java? mention its advantages**\n",
        "\n",
        "Multithreading in Java allows multiple threads (smallest units of processing) to run concurrently within a program.\n",
        "\n",
        "Advantages:\n",
        "\n",
        "Efficient CPU utilization: By executing multiple threads simultaneously, CPU idle time is reduced.\n",
        "Improved performance: Especially in complex tasks that can be divided into subtasks.\n",
        "Enhanced responsiveness: UI applications can stay responsive to user input while performing background operations."
      ],
      "metadata": {
        "id": "YRJ8diXgIcYd"
      },
      "execution_count": null,
      "outputs": []
    },
    {
      "cell_type": "code",
      "source": [
        "💡 **Q6.Write a program to create and call a custom exception**\n",
        "\n",
        "class InvalidAgeException extends Exception {\n",
        "    public InvalidAgeException(String message) {\n",
        "        super(message);\n",
        "    }\n",
        "}\n",
        "\n",
        "public class CustomExceptionExample {\n",
        "    public static void checkAge(int age) throws InvalidAgeException {\n",
        "        if (age < 18) {\n",
        "            throw new InvalidAgeException(\"Age is less than 18. Not eligible.\");\n",
        "        }\n",
        "    }\n",
        "\n",
        "    public static void main(String[] args) {\n",
        "        try {\n",
        "            checkAge(16);\n",
        "        } catch (InvalidAgeException e) {\n",
        "            System.out.println(\"Caught Exception: \" + e.getMessage());\n",
        "        }\n",
        "    }\n",
        "}"
      ],
      "metadata": {
        "id": "63GX0uFJIccD"
      },
      "execution_count": null,
      "outputs": []
    },
    {
      "cell_type": "code",
      "source": [
        "💡 **Q7.How can you handle exceptions in Java?**\n",
        "\n",
        "You can handle exceptions in Java using the try-catch-finally block. The code that may generate an exception is placed in the try block, and the catch block is used to handle the specific exceptions.\n",
        "\n",
        "try {\n",
        "    int result = 10 / 0;  // This will cause an ArithmeticException\n",
        "} catch (ArithmeticException e) {\n",
        "    System.out.println(\"Error: Division by zero\");\n",
        "} finally {\n",
        "    System.out.println(\"Finally block executed\");\n",
        "}"
      ],
      "metadata": {
        "id": "DIk7BY6nIcfy"
      },
      "execution_count": null,
      "outputs": []
    },
    {
      "cell_type": "code",
      "source": [
        "💡 **Q8.What is Thread in Java?**\n",
        "\n",
        "A Thread in Java is the smallest unit of execution within a process. Java supports multithreading, which means multiple threads can run concurrently within a program, improving performance by doing multiple tasks simultaneously.\n"
      ],
      "metadata": {
        "id": "PxAKvBSnIci_"
      },
      "execution_count": null,
      "outputs": []
    },
    {
      "cell_type": "code",
      "source": [
        "💡 **Q9. What are the two ways of implementing thread in Java?**\n",
        "\n",
        "Extending the Thread class:\n",
        "\n",
        "A class can extend the Thread class and override its run() method to define the thread's task.\n",
        "\n",
        "class MyThread extends Thread {\n",
        "    public void run() {\n",
        "        System.out.println(\"Thread is running...\");\n",
        "    }\n",
        "}\n",
        "public class Main {\n",
        "    public static void main(String[] args) {\n",
        "        MyThread t1 = new MyThread();\n",
        "        t1.start(); // Starts the thread\n",
        "    }\n",
        "}\n",
        "\n",
        "Implementing the Runnable interface:\n",
        "\n",
        "A class can implement the Runnable interface and pass an instance of it to a Thread object.\n",
        "\n",
        "class MyRunnable implements Runnable {\n",
        "    public void run() {\n",
        "        System.out.println(\"Runnable thread is running...\");\n",
        "    }\n",
        "}\n",
        "public class Main {\n",
        "    public static void main(String[] args) {\n",
        "        Thread t1 = new Thread(new MyRunnable());\n",
        "        t1.start(); // Starts the thread\n",
        "    }\n",
        "}"
      ],
      "metadata": {
        "id": "4PrI-b4FIcmm"
      },
      "execution_count": null,
      "outputs": []
    },
    {
      "cell_type": "code",
      "source": [
        "💡 **Q10.What do you mean by garbage collection?**\n",
        "\n",
        "Garbage Collection (GC) in Java is the process by which the JVM automatically reclaims memory by destroying objects that are no longer in use or accessible. This helps in preventing memory leaks and ensuring efficient memory management without the need for explicit memory deallocation."
      ],
      "metadata": {
        "id": "FOL23MjSIcp_"
      },
      "execution_count": null,
      "outputs": []
    }
  ]
}