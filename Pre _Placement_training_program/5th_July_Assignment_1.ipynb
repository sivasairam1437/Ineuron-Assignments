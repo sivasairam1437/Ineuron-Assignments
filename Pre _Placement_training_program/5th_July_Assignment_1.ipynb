{
  "nbformat": 4,
  "nbformat_minor": 0,
  "metadata": {
    "colab": {
      "provenance": []
    },
    "kernelspec": {
      "name": "python3",
      "display_name": "Python 3"
    },
    "language_info": {
      "name": "python"
    }
  },
  "cells": [
    {
      "cell_type": "code",
      "execution_count": null,
      "metadata": {
        "id": "BattMbG8Ge2O"
      },
      "outputs": [],
      "source": [
        "\n",
        "💡 **Q1.What is the difference between Compiler and Interpreter**\n",
        "Compiler: A compiler translates the entire program into machine code before executing it. It creates an executable file (e.g., .exe) and reports all errors at once after compilation. Programs run faster once compiled. Example languages: C, C++.\n",
        "Interpreter: An interpreter translates code line-by-line and executes it immediately. It stops when an error occurs, making it slower for execution. Example languages: Python, JavaScript."
      ]
    },
    {
      "cell_type": "code",
      "source": [
        "💡 **Q2.What is the difference between JDK, JRE, and JVM?**\n",
        "\n",
        "JVM (Java Virtual Machine): A virtual machine that runs Java bytecode and ensures platform independence by converting bytecode into machine code. It provides memory management and garbage collection.\n",
        "JRE (Java Runtime Environment): It includes the JVM and the libraries necessary to run Java applications. It does not include development tools like a compiler or debugger.\n",
        "JDK (Java Development Kit): It includes the JRE along with development tools such as a compiler (javac), debugger, and other utilities needed to write, compile, and debug Java programs."
      ],
      "metadata": {
        "id": "9IOtzG5NHDIz"
      },
      "execution_count": null,
      "outputs": []
    },
    {
      "cell_type": "code",
      "source": [
        "💡 **Q3.How many types of memory areas are allocated by JVM?**\n",
        "\n",
        "JVM allocates several types of memory areas:\n",
        "\n",
        "Method Area: Stores class-level data, including static variables, method code, and runtime constant pool.\n",
        "Heap Area: Used for dynamic memory allocation, i.e., objects and their associated data.\n",
        "Stack Area: Stores local variables, method calls, and intermediate results.\n",
        "Program Counter Register: Contains the address of the next instruction to execute.\n",
        "Native Method Stack: Holds the state of native method (non-Java) calls."
      ],
      "metadata": {
        "id": "4VmmmsTVHDMH"
      },
      "execution_count": null,
      "outputs": []
    },
    {
      "cell_type": "code",
      "source": [
        "💡 **Q4.What is JIT compiler?**\n",
        "JIT (Just-In-Time) Compiler: Part of the JVM that improves performance by compiling bytecode into native machine code at runtime. Instead of interpreting bytecode line-by-line, JIT compiles frequently executed code into optimized machine code, speeding up execution."
      ],
      "metadata": {
        "id": "XyFEQTzSHDSD"
      },
      "execution_count": null,
      "outputs": []
    },
    {
      "cell_type": "code",
      "source": [
        "💡 **Q5.What are the various access specifiers in Java?**\n",
        "Private: The member is accessible only within the class in which it is defined.\n",
        "Default: Accessible within the same package but not from outside the package. It is also called \"package-private.\"\n",
        "Protected: Accessible within the same package and by subclasses (even if they are in different packages).\n",
        "Public: Accessible from any class or package."
      ],
      "metadata": {
        "id": "mZ_FVtVuHDVz"
      },
      "execution_count": null,
      "outputs": []
    },
    {
      "cell_type": "code",
      "source": [
        "💡 **Q6.What is a compiler in Java?**\n",
        "\n",
        "In Java, the compiler (javac) is responsible for translating Java source code into bytecode (.class files). The bytecode can then be executed by the JVM on any platform, providing platform independence."
      ],
      "metadata": {
        "id": "yaQzUAYgHDZy"
      },
      "execution_count": null,
      "outputs": []
    },
    {
      "cell_type": "code",
      "source": [
        "💡 **Q7.Explain the types of variables in Java?**\n",
        "Local Variables: Declared inside a method, constructor, or block. They are created when the method is called and destroyed when the method exits.\n",
        "Instance Variables: Non-static fields declared in a class but outside any method. Each object has its own copy of instance variables.\n",
        "Static Variables: Declared with the static keyword inside a class but outside methods. Static variables are shared among all instances of the class."
      ],
      "metadata": {
        "id": "6J3Aob4NHDdD"
      },
      "execution_count": null,
      "outputs": []
    },
    {
      "cell_type": "code",
      "source": [
        "💡 **Q8.What are the Datatypes in Java?**\n",
        "\n",
        "Primitive Data Types:\n",
        "byte: 8-bit integer (range: -128 to 127)\n",
        "short: 16-bit integer\n",
        "int: 32-bit integer\n",
        "long: 64-bit integer\n",
        "float: 32-bit floating-point\n",
        "double: 64-bit floating-point\n",
        "char: 16-bit Unicode character\n",
        "boolean: Stores true or false\n",
        "Non-Primitive Data Types: Classes, Arrays, Strings, Interfaces."
      ],
      "metadata": {
        "id": "9eB4HXJZHDgR"
      },
      "execution_count": null,
      "outputs": []
    },
    {
      "cell_type": "code",
      "source": [
        "💡 **Q9.What are the identifiers in java?**\n",
        "\n",
        "Identifiers in Java are names given to variables, methods, classes, and other user-defined entities. They must follow these rules:\n",
        "\n",
        "Must begin with a letter, dollar sign ($), or underscore (_).\n",
        "Subsequent characters can be letters, digits, dollar signs, or underscores.\n",
        "Cannot be a reserved keyword like int, class, or public."
      ],
      "metadata": {
        "id": "9uTkPQmMHDjl"
      },
      "execution_count": null,
      "outputs": []
    },
    {
      "cell_type": "code",
      "source": [
        "\n",
        "💡 **Q10.Explain the architecture of JVM*\n",
        "\n",
        "The architecture of the JVM consists of several components:\n",
        "\n",
        "Class Loader: Loads .class files (bytecode) into memory.\n",
        "Runtime Data Area: Includes memory areas such as Method Area, Heap, Stack, Program Counter Register, and Native Method Stack.\n",
        "Execution Engine:\n",
        "Interpreter: Executes bytecode line-by-line.\n",
        "JIT Compiler: Converts bytecode into machine code for frequently executed methods.\n",
        "Garbage Collector: Automatically manages memory by cleaning up unused objects in the heap.\n",
        "Native Method Interface: Enables interaction with code written in other languages like C/C++.\n",
        "Native Method Libraries: Libraries needed for native method execution."
      ],
      "metadata": {
        "id": "Z-D8RUCQHDmx"
      },
      "execution_count": null,
      "outputs": []
    }
  ]
}