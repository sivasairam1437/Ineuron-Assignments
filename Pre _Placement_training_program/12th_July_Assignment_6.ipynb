{
  "nbformat": 4,
  "nbformat_minor": 0,
  "metadata": {
    "colab": {
      "provenance": []
    },
    "kernelspec": {
      "name": "python3",
      "display_name": "Python 3"
    },
    "language_info": {
      "name": "python"
    }
  },
  "cells": [
    {
      "cell_type": "code",
      "execution_count": null,
      "metadata": {
        "id": "A_fGL5E6JdCK"
      },
      "outputs": [],
      "source": [
        "\n",
        "💡 **Q1.What is Collection in Java?**\n",
        "In Java, a Collection is a framework that provides an architecture to store and manipulate groups of objects. It is a root interface in the java.util package that provides various classes and interfaces for managing data structures like lists, sets, queues, etc."
      ]
    },
    {
      "cell_type": "code",
      "source": [
        "💡 **Q2. Differentiate between Collection and collections in the context of Java.**\n",
        "\n",
        "Collection: It is a root interface in the java.util package that represents a group of objects (e.g., List, Set, Queue).\n",
        "\n",
        "Collections: It is a utility class in the java.util package that provides static methods to manipulate and operate on collections like sorting, searching, and shuffling elements."
      ],
      "metadata": {
        "id": "3MosG1CBNyU1"
      },
      "execution_count": null,
      "outputs": []
    },
    {
      "cell_type": "code",
      "source": [
        "💡 **Q3. What are the advantages of the Collection framework?**\n",
        "\n",
        "Reusability: The collection framework provides standard data structures and algorithms for reuse.\n",
        "Efficiency: It provides optimized performance for commonly used data structures and algorithms.\n",
        "Ease of use: Predefined methods simplify complex operations like searching, sorting, and traversing.\n",
        "Interoperability: Collections allow easy conversion between different types of data structures.\n",
        "Thread-safety: Some implementations, like ConcurrentHashMap, provide thread-safe collections."
      ],
      "metadata": {
        "id": "2v-RU6utNyYL"
      },
      "execution_count": null,
      "outputs": []
    },
    {
      "cell_type": "code",
      "source": [
        "💡 **Q4.Explain the various interfaces used in the Collection framework.**\n",
        "\n",
        "List: An ordered collection (also known as a sequence) that allows duplicates. Examples: ArrayList, LinkedList.\n",
        "Set: A collection that does not allow duplicate elements. Examples: HashSet, TreeSet.\n",
        "Queue: A collection designed for holding elements prior to processing (FIFO ordering). Example: PriorityQueue, LinkedList.\n",
        "Map: A collection of key-value pairs. Examples: HashMap, TreeMap.\n",
        "Deque: A double-ended queue that allows insertion and deletion from both ends. Examples: ArrayDeque, LinkedList."
      ],
      "metadata": {
        "id": "fqUe9knMNybu"
      },
      "execution_count": null,
      "outputs": []
    },
    {
      "cell_type": "code",
      "source": [
        "💡 **Q5.Differentiate between List and Set in Java.**\n",
        "\n",
        "List:\n",
        "\n",
        "Allows duplicate elements.\n",
        "Maintains the order of insertion.\n",
        "Implements List interface.\n",
        "Example: ArrayList, LinkedList.\n",
        "Set:\n",
        "\n",
        "Does not allow duplicate elements.\n",
        "Does not guarantee insertion order (except LinkedHashSet).\n",
        "Implements Set interface.\n",
        "Example: HashSet, TreeSet."
      ],
      "metadata": {
        "id": "ATYNrIhWNyfG"
      },
      "execution_count": null,
      "outputs": []
    },
    {
      "cell_type": "code",
      "source": [
        "💡 **Q6.What is the Differentiate between Iterator and ListIterator in Java.**\n",
        "\n",
        "Iterator:\n",
        "\n",
        "Can traverse elements in a forward direction only.\n",
        "Available for all collection types like Set, List, Map.\n",
        "Does not support modification (add/remove elements) during iteration.\n",
        "ListIterator:\n",
        "\n",
        "Can traverse elements in both forward and backward directions.\n",
        "Available for List implementations only (e.g., ArrayList, LinkedList).\n",
        "Allows modification of elements during iteration."
      ],
      "metadata": {
        "id": "5de4l_lMNyiT"
      },
      "execution_count": null,
      "outputs": []
    },
    {
      "cell_type": "code",
      "source": [
        "💡 **Q7.What is the Differentiate between Comparable and Comparator**\n",
        "\n",
        "Comparable:\n",
        "\n",
        "Interface used for natural ordering of objects.\n",
        "A class must implement Comparable and override compareTo() method.\n",
        "Comparison logic is defined inside the class.\n",
        "\n",
        "public class Student implements Comparable<Student> {\n",
        "    public int compareTo(Student s) {\n",
        "        return this.name.compareTo(s.name); // Natural order by name\n",
        "    }\n",
        "}\n",
        "\n",
        "Comparator:\n",
        "\n",
        "Interface used for custom ordering of objects.\n",
        "Allows you to define multiple sorting sequences.\n",
        "You implement Comparator in a separate class or anonymously in the collection method.\n",
        "\n",
        "Comparator<Student> byAge = (Student s1, Student s2) -> s1.age - s2.age;\n"
      ],
      "metadata": {
        "id": "FfIwevURNyli"
      },
      "execution_count": null,
      "outputs": []
    },
    {
      "cell_type": "code",
      "source": [
        "💡 **Q8.What is collision in HashMap?**\n",
        "\n",
        "A collision occurs in a HashMap when two distinct keys hash to the same bucket index. Java handles collisions using techniques like chaining (i.e., storing multiple entries in the same bucket as a linked list) or open addressing."
      ],
      "metadata": {
        "id": "41sKwlbvNyo5"
      },
      "execution_count": null,
      "outputs": []
    },
    {
      "cell_type": "code",
      "source": [
        "💡 **Q9.Distinguish between a hashmap and a Treemap.**\n",
        "\n",
        "HashMap:\n",
        "Stores key-value pairs.\n",
        "Does not maintain any order.\n",
        "Allows one null key and multiple null values.\n",
        "Time complexity for basic operations is O(1).\n",
        "TreeMap:\n",
        "Stores key-value pairs in sorted order based on natural ordering or a custom comparator.\n",
        "Does not allow null keys but allows multiple null values.\n",
        "Time complexity for basic operations is O(log n) because of the red-black tree structure."
      ],
      "metadata": {
        "id": "QYEVpIkqNysG"
      },
      "execution_count": null,
      "outputs": []
    },
    {
      "cell_type": "code",
      "source": [
        "💡 **Q10.Define LinkedHashMap in Java**\n",
        "\n",
        "LinkedHashMap is a subclass of HashMap that maintains the insertion order of elements. It uses a doubly-linked list across all entries, making it possible to iterate through the map in the order in which elements were inserted. It provides predictable iteration order and still allows one null key and multiple null values."
      ],
      "metadata": {
        "id": "YnHetXvxNyvO"
      },
      "execution_count": null,
      "outputs": []
    }
  ]
}