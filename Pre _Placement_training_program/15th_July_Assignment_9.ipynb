{
  "nbformat": 4,
  "nbformat_minor": 0,
  "metadata": {
    "colab": {
      "provenance": []
    },
    "kernelspec": {
      "name": "python3",
      "display_name": "Python 3"
    },
    "language_info": {
      "name": "python"
    }
  },
  "cells": [
    {
      "cell_type": "code",
      "execution_count": null,
      "metadata": {
        "id": "glolcEemdUg9"
      },
      "outputs": [],
      "source": [
        "Q1.What is Spring Framework?\n",
        "The Spring Framework is a comprehensive framework for building Java-based enterprise applications. It provides support for dependency injection, aspect-oriented programming, and transaction management, among other features. Spring simplifies Java development by offering a robust and flexible architecture for developing loosely coupled, scalable applications."
      ]
    },
    {
      "cell_type": "code",
      "source": [
        "💡 **Q2.What are the features of Spring Framework?**\n",
        "Inversion of Control (IoC): Spring uses IoC to manage object creation and their dependencies.\n",
        "Aspect-Oriented Programming (AOP): It allows separation of cross-cutting concerns such as logging, security, etc.\n",
        "Transaction Management: Spring simplifies managing transactions, ensuring consistency and reliability.\n",
        "Data Access: Offers simplified access to relational databases using JDBC and ORM frameworks like Hibernate.\n",
        "MVC Framework: Provides support for building web applications using the Model-View-Controller (MVC) architecture.\n",
        "Testing: Supports integration and unit testing, including mock objects for testing.\n",
        "Spring Boot: Simplifies Spring application development with embedded servers and auto-configuration."
      ],
      "metadata": {
        "id": "oHMcdeQNfUNF"
      },
      "execution_count": null,
      "outputs": []
    },
    {
      "cell_type": "code",
      "source": [
        "💡 **Q3.What is a Spring configuration file?**\n",
        "\n",
        "A Spring configuration file is an XML or annotation-based file that defines the beans and their dependencies used in a Spring application. It configures the IoC container by specifying the beans, their properties, and the relationships between them. In annotation-based configurations, @Configuration and @Bean annotations are often used to replace XML configurations."
      ],
      "metadata": {
        "id": "uhKXsg2PfUQG"
      },
      "execution_count": null,
      "outputs": []
    },
    {
      "cell_type": "code",
      "source": [
        "💡 **Q4.What do you mean by IoC Container?**\n",
        "\n",
        "The IoC (Inversion of Control) Container in Spring is responsible for managing the lifecycle and dependencies of objects (beans). It is the core of the Spring Framework, where it handles object creation, wiring, configuration, and the complete life cycle of beans. The IoC container ensures that objects are created when needed and that dependencies are injected properly."
      ],
      "metadata": {
        "id": "u3LnmoURfUSt"
      },
      "execution_count": null,
      "outputs": []
    },
    {
      "cell_type": "code",
      "source": [
        "💡 **Q5.What do you understand by Dependency Injection?**\n",
        "Dependency Injection (DI) is a design pattern used in Spring to inject dependencies into objects, rather than having the objects create their dependencies. DI allows the IoC container to provide the required dependencies (beans) at runtime, promoting loose coupling between components. DI can be done via constructor injection, setter injection, or field injection."
      ],
      "metadata": {
        "id": "nj5kloXffUVU"
      },
      "execution_count": null,
      "outputs": []
    },
    {
      "cell_type": "code",
      "source": [
        "💡 **Q6.Explain the difference between constructor and setter injection?**\n",
        "\n",
        "Constructor Injection:\n",
        "Dependencies are injected via the constructor of the class.\n",
        "Ensures that the object is always created with all necessary dependencies.\n",
        "Best suited for mandatory dependencies.\n",
        "Setter Injection:\n",
        "Dependencies are injected via setter methods.\n",
        "Allows partial initialization and provides the flexibility to set optional dependencies.\n",
        "Suitable for optional dependencies or cases where dependencies may change over time."
      ],
      "metadata": {
        "id": "mB2nkcznfUXx"
      },
      "execution_count": null,
      "outputs": []
    },
    {
      "cell_type": "code",
      "source": [
        "💡 **Q7.What are Spring Beans?**\n",
        "A Spring Bean is an object that is managed by the Spring IoC container. Beans are the backbone of a Spring application, and they represent the various components of an application that the container initializes, manages, and wires together. Beans can be defined in configuration files (XML), through annotations, or Java-based configurations."
      ],
      "metadata": {
        "id": "iN9XRXV9fUac"
      },
      "execution_count": null,
      "outputs": []
    },
    {
      "cell_type": "code",
      "source": [
        "💡 **Q8.What are the bean scopes available in Spring?**\n",
        "\n",
        "Spring provides several bean scopes that control the lifecycle and visibility of a bean:\n",
        "\n",
        "Singleton: One instance per Spring IoC container (default scope).\n",
        "Prototype: A new instance is created every time the bean is requested.\n",
        "Request: Scoped to a single HTTP request (used in web applications).\n",
        "Session: Scoped to an HTTP session (used in web applications).\n",
        "Global Session: Scoped to a global HTTP session, typically for portlets.\n",
        "Application: Scoped to the lifecycle of a web application (Spring Web)"
      ],
      "metadata": {
        "id": "Pe1KCTm2fUdT"
      },
      "execution_count": null,
      "outputs": []
    },
    {
      "cell_type": "code",
      "source": [
        "💡 **Q9.What is Autowiring and name the different modes of it?**\n",
        "\n",
        "Autowiring is a feature in Spring where the container automatically injects the dependencies of a bean by matching types or names. It reduces the need for explicit configuration. The different modes of autowiring are:\n",
        "\n",
        "No: Default, no autowiring.\n",
        "ByName: Autowires by matching bean names.\n",
        "ByType: Autowires by matching data types.\n",
        "Constructor: Autowires using constructor arguments.\n",
        "Autodetect: Automatically chooses between constructor and byType depending on the bean"
      ],
      "metadata": {
        "id": "W94aRU1zfUgF"
      },
      "execution_count": null,
      "outputs": []
    },
    {
      "cell_type": "code",
      "source": [
        "💡 **Q10.Explain Bean life cycle in Spring Bean Factory Container.**\n",
        "\n",
        "The Bean life cycle in Spring involves several stages:\n",
        "\n",
        "Instantiation: The container instantiates the bean.\n",
        "Dependency Injection: The container injects the dependencies into the bean.\n",
        "BeanNameAware: If the bean implements BeanNameAware, the container calls setBeanName().\n",
        "BeanFactoryAware: If the bean implements BeanFactoryAware, the container calls setBeanFactory().\n",
        "Pre-Initialization: BeanPostProcessor can be used for custom processing before initialization.\n",
        "Initialization: If the bean implements InitializingBean, the container calls afterPropertiesSet(). Alternatively, a custom init method can be specified.\n",
        "Post-Initialization: BeanPostProcessor can be used for custom processing after initialization.\n",
        "Use: The bean is ready to be used by the application.\n",
        "Destruction: When the application context is closed, the bean is destroyed by calling destroy() or a custom destroy method if specified."
      ],
      "metadata": {
        "id": "MSa0GzdDfUi5"
      },
      "execution_count": null,
      "outputs": []
    }
  ]
}