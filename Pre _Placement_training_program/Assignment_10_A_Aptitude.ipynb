{
  "nbformat": 4,
  "nbformat_minor": 0,
  "metadata": {
    "colab": {
      "provenance": []
    },
    "kernelspec": {
      "name": "python3",
      "display_name": "Python 3"
    },
    "language_info": {
      "name": "python"
    }
  },
  "cells": [
    {
      "cell_type": "code",
      "source": [
        "Lines, Angles & Triangles"
      ],
      "metadata": {
        "id": "H2929PWfHy9i"
      },
      "execution_count": null,
      "outputs": []
    },
    {
      "cell_type": "code",
      "execution_count": null,
      "metadata": {
        "id": "FTXyPcNxHjo7"
      },
      "outputs": [],
      "source": [
        "1) I and m are two distinct non-parallel lines and t is the\n",
        "transversal. If the co-interior angles on the RHS of the\n",
        "transversal are 75° and 85° and the co-interior angles on the\n",
        "LHS of the transversal are 95° and 105°, then which of the\n",
        "following statements is true?\n",
        "a) The lines l and m will meet on the left-hand side. b) The\n",
        "lines l and m will meet on the right-hand side. c) The lines l\n",
        "and m will never meet. d) The lines l and m will coincide.\n",
        "1.\tGiven: Co-interior angles on RHS are 75° and 85°, and on LHS are 95° and 105°.\n",
        "•\tThe sum of co-interior angles on the RHS = 75°+85°=160°75° + 85° = 160°75°+85°=160°\n",
        "•\tThe sum of co-interior angles on the LHS = 95°+105°=200°95° + 105° = 200°95°+105°=200°\n",
        "•\tSince the angles do not sum to 180° on either side, the lines are not parallel and will meet on one side.\n",
        "•\tAnswer: b) The lines l and m will meet on the right-hand side."
      ]
    },
    {
      "cell_type": "code",
      "source": [
        "2) If l and m are intersecting lines and p is any third line, then\n",
        "which of the following is false?\n",
        "a) Both l and m cannot be perpendicular to p. b) Both l and m\n",
        "cannot be parallel to p. c) Neither l nor m can be both\n",
        "perpendicular and parallel to p at the same time. d) Both l and\n",
        "m can be parallel, but not perpendicular to p.\n",
        "Given: l and mmm are intersecting lines, and p is a third line.\n",
        "•\tBoth l and mmm cannot be parallel to p because they are already intersecting each other.\n",
        "•\tAnswer: d) Both l and mmm can be parallel, but not perpendicular to p."
      ],
      "metadata": {
        "id": "dGWFBW17HzAj"
      },
      "execution_count": null,
      "outputs": []
    },
    {
      "cell_type": "code",
      "source": [
        "3) If the lengths of two sides of a triangle are 3 and 4\n",
        "respectively, then which of the following is true about the\n",
        "value of the third side?\n",
        "a) It is greater than 7. b) It is equal to 7. c) It is less than 7 and\n",
        "greater than 1. d) It is equal to 1.\n",
        "Given: Two sides of a triangle are 3 and 4. By the triangle inequality theorem, the third side must be:\n",
        "•\t3+4>third side>∣3−4∣3 + 4 > \\text{third side} > |3 - 4|3+4>third side>∣3−4∣\n",
        "•\tSo, 7>third side>17 > \\text{third side} > 17>third side>1.\n",
        "•\tAnswer: c) It is less than 7 and greater than 1."
      ],
      "metadata": {
        "id": "Wo8J8KU6HzDA"
      },
      "execution_count": null,
      "outputs": []
    },
    {
      "cell_type": "code",
      "source": [
        "4) In ∆ABC, AB = AC. If a point P is taken on the side AB such\n",
        "that AP = PC = CB, then the measure of angle A is\n",
        "a) 18° b) 36° c) 90° d) 72°\n",
        "Given: AB=ACAB = ACAB=AC and AP=PC=CBAP = PC = CBAP=PC=CB.\n",
        "•\tThis forms an isosceles triangle where angle AAA is calculated based on symmetry.\n",
        "•\tAnswer: d) 72°."
      ],
      "metadata": {
        "id": "Slp1O6UVHzFj"
      },
      "execution_count": null,
      "outputs": []
    },
    {
      "cell_type": "code",
      "source": [
        "5) Consider five points comprising the vertices of a square and\n",
        "the intersection point of its diagonals. How many triangles can\n",
        "be formed using these points?\n",
        "a) 4 b) 6 c) 8 d) None of these\n",
        "Given: Five points comprising the vertices of a square and the intersection of diagonals.\n",
        "•\tThe number of triangles that can be formed using these points is based on choosing 3 out of 5 points.\n",
        "•\tAnswer: c) 8."
      ],
      "metadata": {
        "id": "3V8qZ_dhHzIK"
      },
      "execution_count": null,
      "outputs": []
    },
    {
      "cell_type": "code",
      "source": [
        "6) In an equilateral triangle ABC, a line DE is drawn parallel to\n",
        "AB that meets sides BC and AC at points D and E, respectively.\n",
        "The line DE divides BC in 3 : 2 i.e. BD: DC = 3: 2. What is the\n",
        "ratio of area of ∆CDE to that of area of quadrilateral ABDE?\n",
        "a) 4:25 b) 21:25 c) 4:21 d) 25:8\n",
        "Given: BD:DC=3:2BD:DC = 3:2BD:DC=3:2, and DE∥ABDE \\parallel ABDE∥AB.\n",
        "•\tBy the area ratio of similar triangles, the ratio of △CDE\\triangle CDE△CDE to quadrilateral ABDEABDEABDE is derived.\n",
        "•\tAnswer: b) 21:25."
      ],
      "metadata": {
        "id": "SlebhwJmHzKk"
      },
      "execution_count": null,
      "outputs": []
    },
    {
      "cell_type": "code",
      "source": [
        "7) The bisectors of the angles of a linear pair are not\n",
        "a) parallel to each other b) at right angle to each other c)\n",
        "perpendicular to each other d) intersecting at a point\n",
        "Answer: c) perpendicular to each other."
      ],
      "metadata": {
        "id": "ppd0Nih3HzNE"
      },
      "execution_count": null,
      "outputs": []
    },
    {
      "cell_type": "code",
      "source": [
        "8) The perimeter of a triangle is\n",
        "a) greater than the sum of its altitudes b) less than the sum of\n",
        "its altitudes c) equal to the sum of its altitudes d) None of\n",
        "these\n",
        "Answer: d) None of these."
      ],
      "metadata": {
        "id": "dD8j9nOCHzPy"
      },
      "execution_count": null,
      "outputs": []
    },
    {
      "cell_type": "code",
      "source": [
        "9) In ∆ABC, the internal bisector of ∠ A meets BC at D. If AB = 4\n",
        "cm, AC = 3 cm and ∠ A= 60°, then what is the length of AD?\n",
        "a) 2√3 cm b) 12√3/7 cm c) 15√3/8 cm d) 6√3/7 cm\n",
        "Given: Using the angle bisector theorem and cosine law, the length of ADADAD is calculated.\n",
        "Answer: d)  6√3/7 cm"
      ],
      "metadata": {
        "id": "qUr4XqSrHzS2"
      },
      "execution_count": null,
      "outputs": []
    },
    {
      "cell_type": "code",
      "source": [
        "10) BPC is an equilateral triangle drawn inside a square ABCD.\n",
        "What is the measure of angle APD?\n",
        "a) 75° b) 90° c) 120° d) None of these\n",
        "Given: △BPC\\triangle BPC△BPC is equilateral inside square ABCDABCDABCD.\n",
        "•\tUsing angle sum properties, angle APDAPDAPD is calculated.\n",
        "Answer: a) 75°."
      ],
      "metadata": {
        "id": "3boZd8L9HzV5"
      },
      "execution_count": null,
      "outputs": []
    },
    {
      "cell_type": "code",
      "source": [
        "11) In ∆PQR, L and M are the points respectively on sides PQ\n",
        "and QR, such that LM || PR. If PQ = 8 cm, MQ = 3 cm\n",
        "and LQ = 4 cm, find the length of QR.\n",
        "a) 10.67 cm b) 8 cm c) 9 cm d) 6 cm\n",
        "Given: LM∥PRLM \\parallel PRLM∥PR, and using similar triangles:\n",
        "•\tAnswer: a) 10.67 cm."
      ],
      "metadata": {
        "id": "u8LsMbJLHzYt"
      },
      "execution_count": null,
      "outputs": []
    },
    {
      "cell_type": "code",
      "source": [
        "Quadrilaterals & Polygons"
      ],
      "metadata": {
        "id": "zwDWAgyZHzbl"
      },
      "execution_count": null,
      "outputs": []
    },
    {
      "cell_type": "code",
      "source": [
        "1) ABCDEF is a regular hexagon. What is the ratio of the area of\n",
        "∆ACE to that of the area of hexagon ABCDEF?\n",
        "a) 1:3 b) 1:2 c) 2:3 d) 5:6\n",
        "Given: Regular hexagon ABCDEF and triangle △ACE\\triangle ACE△ACE.\n",
        "•\tThe ratio of the area of △ACE\\triangle ACE△ACE to that of the hexagon is derived using the area formula for regular polygons.\n",
        "Answer: a) 1:3"
      ],
      "metadata": {
        "id": "0Od5ZbweHzem"
      },
      "execution_count": null,
      "outputs": []
    },
    {
      "cell_type": "code",
      "source": [
        "2) The difference between the interior and the exterior angle\n",
        "of a regular polygon is 90°. How many sides does it have?\n",
        "a) 6 b) 8 c) 10 d) 12\n",
        "Given: The difference between the interior and exterior angle is 90°.\n",
        "•\tBy the formula 180(n−2)n−360n=90°\\frac{180(n-2)}{n} - \\frac{360}{n} = 90°n180(n−2)−n360=90°, solve for nnn.\n",
        "•\tAnswer: b) 8."
      ],
      "metadata": {
        "id": "aIJzJL3KKOey"
      },
      "execution_count": null,
      "outputs": []
    },
    {
      "cell_type": "code",
      "source": [
        "3) If each interior angle of a regular polygon is p times as large\n",
        "as each exterior angle, then the number of sides of polygon is\n",
        "a) 2(P + 1) b) 2P+3 c) 2P-2 d) P+1\n",
        "Answer: a) 2(P+1)2(P + 1)2(P+1)."
      ],
      "metadata": {
        "id": "vh-8mV3qKexx"
      },
      "execution_count": null,
      "outputs": []
    },
    {
      "cell_type": "code",
      "source": [
        "4) All the internal angles of a convex polygon are distinct\n",
        "integers (when expressed in degrees), with the greatest of\n",
        "them being 110°. The maximum number of sides of the\n",
        "polygon is\n",
        "a) 5 b) 6 c) 7 d) 8\n",
        "Answer: c) 7."
      ],
      "metadata": {
        "id": "sCyNnCVfKauZ"
      },
      "execution_count": null,
      "outputs": []
    },
    {
      "cell_type": "code",
      "source": [
        "5) PQRS is a trapezoid with PQ parallel to SR, PQ = 20 cm, RS =\n",
        "3 cm, ∠ PQR = 30° and ∠ QPS 60°. What is the length of the line\n",
        "joining the midpoints of PQ and RS?\n",
        "a) 10 cm b) 8 cm c) 8.5 cm d) 1.5 cm\n",
        "3.\tGiven: Trapezoid PQRSPQRSPQRS, use the mid-segment theorem.\n",
        "Answer: a) 10 cm."
      ],
      "metadata": {
        "id": "X4wzGA_jKaxi"
      },
      "execution_count": null,
      "outputs": []
    },
    {
      "cell_type": "code",
      "source": [
        "6) ABCD is a trapezoid such that AB is parallel to CD and AB =\n",
        "10 cm, CD = 20 cm. Further, it is known that the trapezoid is an\n",
        "isosceles trapezoid with length of one of the oblique sides\n",
        "being √89 cm. Find the length of BD.\n",
        "a) 17 cm b) 6√3 cm c) 15 cm d) 8√3 cm\n",
        "Answer: a) 17 cm."
      ],
      "metadata": {
        "id": "X4tCsjOZKa0X"
      },
      "execution_count": null,
      "outputs": []
    },
    {
      "cell_type": "code",
      "source": [
        "7) If the side of a square is increased by 4 metres, its area\n",
        "increases by 56 square metres. If the length of a side of this\n",
        "bigger square is increased by 4 metres, then how many square\n",
        "metres bigger than the original square will this new square\n",
        "be?\n",
        "a) 81 m2 b) 100 m2 c) 121 m2 d) 144 m2\n",
        "Given: Side increases by 4 meters, with area increase of 56 square meters.\n",
        "•\tThe new square’s area increase is calculated.\n",
        "•\tAnswer: c) 121 m²."
      ],
      "metadata": {
        "id": "Vh2dN2S8Ka3M"
      },
      "execution_count": null,
      "outputs": []
    },
    {
      "cell_type": "code",
      "source": [
        "8) Suppose ABCD is a rectangle and E is a point on CD. Let x be\n",
        "the area of ∆AED, y be the area of ∆ BCE and z be the area of\n",
        "∆ABE, and suppose y2 = xz. What is the DE value of DE/EC?\n",
        "a) 3/5 b) √5 - 1/2 c) 2/3 d) √5/3\n",
        "Answer: a) 3/5."
      ],
      "metadata": {
        "id": "5V5r1vlbKa5-"
      },
      "execution_count": null,
      "outputs": []
    },
    {
      "cell_type": "code",
      "source": [
        "9) ABCD is a rhombus with each side equal to 6 cm. The sum of\n",
        "the squares of the two diagonals is\n",
        "a) 36 cm b) 144 cm² c) 162 cm d) 184 cm\n",
        "Given: Sum of squares of diagonals in a rhombus is calculated using the property of diagonals.\n",
        "Answer: b) 144 cm²."
      ],
      "metadata": {
        "id": "Olxn4Pn3Ka8z"
      },
      "execution_count": null,
      "outputs": []
    },
    {
      "cell_type": "code",
      "source": [
        "10) The area of a rhombus is three times the area of a square\n",
        "ABCD. If AB = 4 cm and one of the diagonals of the rhombus\n",
        "measures 8 cm, then what is the length of the second\n",
        "diagonal?\n",
        "a) 12 cm b) 15 cm c) 16 cm d) 18 cm\n",
        "Answer: a) 12 cm."
      ],
      "metadata": {
        "id": "j6NPvaJ4Ka_r"
      },
      "execution_count": null,
      "outputs": []
    },
    {
      "cell_type": "code",
      "source": [
        "11) ABCDEF is a regular hexagon and ABPQR is a regular\n",
        "pentagon that are joined with each other through one\n",
        "common side AB. If the lines EF and QR are extended in such a\n",
        "way that they meet at point T, then the angle FTR is\n",
        "a) 132° b) 108° c) 96° d) 60°\n",
        "Answer: a) 132°."
      ],
      "metadata": {
        "id": "DkTu9gB1KbCn"
      },
      "execution_count": null,
      "outputs": []
    },
    {
      "cell_type": "code",
      "source": [
        "12) A square has perimeter p > o and area A. If A = 2p, then\n",
        "what is the value of p?\n",
        "a) 24 b) 32 c) 36 d) 48\n",
        "Given: The perimeter of a square is ppp and the area is AAA, with the relationship A=2pA = 2pA=2p.\n",
        "The perimeter of a square is 4s4s4s, and the area is s2s^2s2, where sss is the side length of the square.\n",
        "So, s2=2(4s)  ⟹  s2=8s  ⟹  s=8s^2 = 2(4s) \\implies s^2 = 8s \\implies s = 8s2=2(4s)⟹s2=8s⟹s=8.\n",
        "The perimeter is 4s=4(8)=324s = 4(8) = 324s=4(8)=32.\n",
        "Answer: b) 32."
      ],
      "metadata": {
        "id": "kYZyaAoOKbIr"
      },
      "execution_count": null,
      "outputs": []
    },
    {
      "cell_type": "code",
      "source": [
        "13) The diagonal of the square A is (a + b). Find the length of\n",
        "the diagonal of the square B, whose area is twice the area of A.\n",
        "a) a + b/2 b) √2(a + b) c) (a + b)/√2 d) √(a + b/2)\n",
        "13.\tGiven: The diagonal of square AAA is (a+b)(a + b)(a+b), and the area of square BBB is twice the area of square AAA.\n",
        "•\tThe diagonal of a square is s2s\\sqrt{2}s2, where sss is the side length.\n",
        "•\tIf the area of square BBB is twice that of square AAA, the side of square BBB is 2\\sqrt{2}2 times the side of square AAA.\n",
        "•\tThe diagonal of square BBB is √2(a + b).\n",
        "•\tAnswer: b) √2(a + b."
      ],
      "metadata": {
        "id": "1tgb7nxPKbLj"
      },
      "execution_count": null,
      "outputs": []
    },
    {
      "cell_type": "code",
      "source": [
        "14) A square of side 2 m has its corners cut away so as to form\n",
        "an octagon with all sides equal. The length of each side of the\n",
        "octagon (in metres) is\n",
        "a) √2/√2+1 m b) 2/√2+1 m c) 2/√2-1 m d) √2/√2-1 m\n",
        "14.\tGiven: A square of side 2 meters has its corners cut away to form an octagon.\n",
        "•\tThe side length of the octagon can be calculated geometrically.\n",
        "Answer: b) 2/√2+1 meters."
      ],
      "metadata": {
        "id": "XqwOVixzHzhX"
      },
      "execution_count": null,
      "outputs": []
    },
    {
      "cell_type": "code",
      "source": [
        "15) A certain quadrilateral has perpendicular diagonals. Three\n",
        "of the sides of the quadrilateral have lengths 2 units, 3 units\n",
        "and 4 units. Which of the following is/are the possible value(s)\n",
        "of the length of the fourth side?\n",
        "a) √11 units b) √21 units c) Both a) and (2) d) None of these\n",
        "Given: A quadrilateral with perpendicular diagonals, and three sides are 2, 3, and 4 units.\n",
        "•\tBy the Pythagorean theorem, possible values for the fourth side can be 11\\sqrt{11}11 or 21\\sqrt{21}21.\n",
        "•\tAnswer: c) Both a) and b)."
      ],
      "metadata": {
        "id": "VaQcIWYFHzkf"
      },
      "execution_count": null,
      "outputs": []
    },
    {
      "cell_type": "code",
      "source": [
        "16) If E and F are points on the diagonal BD of a parallelogram\n",
        "ABCD, such that DE =BF, AECF must be.\n",
        "a) a rectangle b) a parallelogram c) a square d) a rhombus\n",
        "Given: EEE and FFF are points on diagonal BDBDBD of parallelogram ABCDABCDABCD, with DE=BFDE = BFDE=BF.\n",
        "•\tThe figure AECFAECFAECF is a parallelogram because opposite sides are equal and parallel.\n",
        "•\tAnswer: b) A parallelogram."
      ],
      "metadata": {
        "id": "MpUobRFAHznV"
      },
      "execution_count": null,
      "outputs": []
    },
    {
      "cell_type": "code",
      "source": [
        "17) The angles of a quadrilateral, taken in order, measure x, x +\n",
        "20, x + 30 and x + 50 degrees. This quadrilateral is a\n",
        "a) parallelogram b) rhombus c) trapezium d) square\n",
        "Given: The angles of the quadrilateral measure x,x+20,x+30,x+50x, x + 20, x + 30, x + 50x,x+20,x+30,x+50.\n",
        "•\tThe sum of the angles in a quadrilateral is 360°:\n",
        "x+(x+20)+(x+30)+(x+50)=360  ⟹  4x+100=360  ⟹  x=65°x + (x + 20) + (x + 30) + (x + 50) = 360 \\implies 4x + 100 = 360 \\implies x = 65°x+(x+20)+(x+30)+(x+50)=360⟹4x+100=360⟹x=65°.\n",
        "•\tSo, the angles are 65°,85°,95°,115°65°, 85°, 95°, 115°65°,85°,95°,115°. This does not match any specific type of quadrilateral.\n",
        "•\tAnswer: c) A trapezium."
      ],
      "metadata": {
        "id": "t6CBvQUHHzqM"
      },
      "execution_count": null,
      "outputs": []
    },
    {
      "cell_type": "code",
      "source": [
        "18) If the angles of a quadrilateral taken in order are in the\n",
        "ratio 1: 3:5: 7, then its\n",
        "a) two sides are parallel b) two sides are equal c) three sides\n",
        "are equal d) both the pairs of sides are parallel\n",
        "Given: The angles of the quadrilateral are in the ratio 1:3:5:7.\n",
        "•\tThe sum of the angles in a quadrilateral is 360°. Let the angles be x,3x,5x,7xx, 3x, 5x, 7xx,3x,5x,7x.\n",
        "•\tx+3x+5x+7x=360  ⟹  16x=360  ⟹  x=22.5°x + 3x + 5x + 7x = 360 \\implies 16x = 360 \\implies x = 22.5°x+3x+5x+7x=360⟹16x=360⟹x=22.5°.\n",
        "•\tSo, the angles are 22.5°,67.5°,112.5°,157.5°22.5°, 67.5°, 112.5°, 157.5°22.5°,67.5°,112.5°,157.5°, meaning two sides are parallel.\n",
        "•\tAnswer: a) Two sides are parallel."
      ],
      "metadata": {
        "id": "eeIr3TujOv-m"
      },
      "execution_count": null,
      "outputs": []
    },
    {
      "cell_type": "code",
      "source": [
        "19) The figure obtained by joining the midpoints of the sides of\n",
        "a rhombus, taken in order, is\n",
        "a) a rhombus b) a rectangle c) a square d) any parallelogram\n",
        "Given: The figure obtained by joining the midpoints of the sides of a rhombus.\n",
        "•\tThe figure is a rectangle because the diagonals of a rhombus bisect each other at right angles.\n",
        "Answer: b) A rectangle"
      ],
      "metadata": {
        "id": "PlJzryU2OwCd"
      },
      "execution_count": null,
      "outputs": []
    },
    {
      "cell_type": "code",
      "source": [
        "Circles"
      ],
      "metadata": {
        "id": "zwQj8EqAOwMt"
      },
      "execution_count": null,
      "outputs": []
    },
    {
      "cell_type": "code",
      "source": [
        "1) Two concentric circles are of radii 7 cm and 4 cm. A line\n",
        "PQRS cuts the larger circle at P and S, and the smaller at Q and\n",
        "R. If QR = 6 cm, then PS is (approximately) equal to\n",
        "a) 13 cm b) 12 cm c) 13.5 cm d) 12.5 cm\n",
        "1.\tGiven: Two concentric circles with radii 7 cm and 4 cm, and a line PQRS cuts both circles, with QR=6QR = 6QR=6 cm.\n",
        "•\tThe length of PSPSPS can be found using the Pythagorean theorem on the radii and QRQRQR.\n",
        "•\tBy applying the Pythagoras theorem, PS≈13PS \\approx 13PS≈13 cm.\n",
        "•\tAnswer: a) 13 cm."
      ],
      "metadata": {
        "id": "vN5uA6LgP5t4"
      },
      "execution_count": null,
      "outputs": []
    },
    {
      "cell_type": "code",
      "source": [
        "2) The line AB is 6 m in length and is tangent to the inner one\n",
        "of the two concentric circles at point C. If the radii of the both\n",
        "the circles are integers, find the radius of the outer circle.\n",
        "a) 5 m b) 1 m c) 2 m d) 3 m\n",
        "2.\tGiven: A line AB is tangent to the inner circle and has a length of 6 meters. The radii of both circles are integers.\n",
        "•\tBy using the Pythagorean theorem and the fact that a tangent to a circle is perpendicular to the radius, the radius of the outer circle is 5 meters.\n",
        "•\tAnswer: a) 5 m."
      ],
      "metadata": {
        "id": "2i42umikP5xL"
      },
      "execution_count": null,
      "outputs": []
    },
    {
      "cell_type": "code",
      "source": [
        "3) In a semicircle, chord BC is parallel to diameter AD. The\n",
        "lengths of chords AB and CD are 2 cm each, while AD has\n",
        "length 8 cm. What is the length of BC?\n",
        "a) 7.5 cm b) 7 cm c) 7.75 cm d) None of these\n",
        "Given: In a semicircle, chord BC is parallel to the diameter AD, with lengths of chords AB and CD being 2 cm, and AD being 8 cm.\n",
        "•\tUsing the geometry of parallel chords and applying the Pythagorean theorem, the length of BC is approximately 7 cm.\n",
        "Answer: b) 7 cm"
      ],
      "metadata": {
        "id": "I3vSwy1ZP50H"
      },
      "execution_count": null,
      "outputs": []
    },
    {
      "cell_type": "code",
      "source": [
        "4) Let C be a circle with centre Po, and AB be the diameter of C.\n",
        "Suppose P1 is the mid- point of the line segment PoB, P2 is the\n",
        "mid-point of the line segment P1B and so on. Let C1, C2, C3, ...\n",
        "be the circles with diameters PoP1, P1P2, P2P3, ..., respectively.\n",
        "Suppose the circles C1, C2, C3, ... are all shaded. The ratio of the\n",
        "area of the unshaded portion of C to that of the original circle C\n",
        "is\n",
        "a) 8:9 b) 9:10 c) 10: 11 d) 11:12\n",
        "Given: A series of circles with diameters being halved sequentially inside the original circle, and the ratio of the unshaded area to the total area is required.\n",
        "•\tThe ratio of the area of the unshaded portion to the area of the original circle is 8:9.\n",
        "•\tAnswer: a) 8:9."
      ],
      "metadata": {
        "id": "LDXBkOGjP54T"
      },
      "execution_count": null,
      "outputs": []
    },
    {
      "cell_type": "code",
      "source": [
        "5) From an external point A, AB and AC are two tangents\n",
        "drawn to a circle with centre O. If ∠ BAC: ∠ BOC = 2: 3, what is\n",
        "the measure of ∠ BOC?\n",
        "a) 45° b) 90° c) 108° d) 135°\n",
        "Given: Tangents AB and AC are drawn from an external point A to a circle with center O, and the ratio ∠BAC:∠BOC=2:3\\angle BAC : \\angle BOC = 2:3∠BAC:∠BOC=2:3.\n",
        "•\tSince ∠BOC\\angle BOC∠BOC is subtended by the arc formed by the tangents, the value of ∠BOC\\angle BOC∠BOC is 108°.\n",
        "•\tAnswer: c) 108°."
      ],
      "metadata": {
        "id": "TgkRvguKQokC"
      },
      "execution_count": null,
      "outputs": []
    },
    {
      "cell_type": "code",
      "source": [
        "6) PA and PB are two tangents to a circle with centre O. If\n",
        "∠ AOP: ∠ OPB = 13: 5, find the measure of ∠ OPA.\n",
        "a) 20° b) 25° c) 45° d) 15°\n",
        "Given: PA and PB are tangents to a circle with center O, and the ratio ∠AOP:∠OPB=13:5\\angle AOP : \\angle OPB = 13:5∠AOP:∠OPB=13:5.\n",
        "•\tUsing angle properties of tangents, ∠OPA\\angle OPA∠OPA can be calculated as 25°.\n",
        "•\tAnswer: b) 25°."
      ],
      "metadata": {
        "id": "EopD6C3pQonK"
      },
      "execution_count": null,
      "outputs": []
    },
    {
      "cell_type": "code",
      "source": [
        "7) In a triangle ABC, AB = 6, BC = 8 and AC = 10. A\n",
        "perpendicular from B meets the side AC at D. A circle is drawn\n",
        "with radius BD and centre B. If the circle cuts AB and BC\n",
        "respectively at P and Q, then AP: QC is equal to\n",
        "a) 3:8 b) 3:2 c) 4:1 d) 2:5\n",
        "Given: In triangle ABC, AB=6AB = 6AB=6, BC=8BC = 8BC=8, and AC=10AC = 10AC=10. A perpendicular from B meets AC at D, and a circle is drawn with radius BD.\n",
        "•\tBy applying similar triangles and segment proportionality, the ratio AP:QC=3:2AP:QC = 3:2AP:QC=3:2.\n",
        "•\tAnswer: b) 3:2."
      ],
      "metadata": {
        "id": "wp9SQlJqQopq"
      },
      "execution_count": null,
      "outputs": []
    },
    {
      "cell_type": "code",
      "source": [
        "8) A circle is inscribed in a quadrant of a bigger circle, If the\n",
        "radius of the smaller circle is 2 units, what is the radius of the\n",
        "bigger circle?\n",
        "a) 2(√2 + 1) units b) 4√2 units c) 4(√2 +1) units d) 2(√3+√2)\n",
        "units\n",
        "Given: A circle is inscribed in a quadrant of a larger circle, and the radius of the smaller circle is 2 units.\n",
        "•\tBy solving using geometry of circles and quadrants, the radius of the larger circle is 4(2+1)4( \\sqrt{2} + 1)4(2+1) units.\n",
        "Answer: c) 4(√2 + 1) units"
      ],
      "metadata": {
        "id": "LXmBi_bmQowi"
      },
      "execution_count": null,
      "outputs": []
    },
    {
      "cell_type": "code",
      "source": [
        "Co-ordinate Geometry"
      ],
      "metadata": {
        "id": "ECW30B-oRjxO"
      },
      "execution_count": null,
      "outputs": []
    },
    {
      "cell_type": "code",
      "source": [
        "1) The point A (-4, -1), B (-2, -4), C (4, 0) and D (2, 3) are the\n",
        "\tvertices of a\n",
        "a) parallelogram b) rhombus c) square d) None of the above\n",
        "The point A(−4,−1)A(-4, -1)A(−4,−1), B(−2,−4)B(-2, -4)B(−2,−4), C(4,0)C(4, 0)C(4,0), and D(2,3)D(2, 3)D(2,3).\n",
        "Answer: d) None of the above (after calculating slopes and distances, these points do not form any of the listed shapes)."
      ],
      "metadata": {
        "id": "NkIcU9sNRm8G"
      },
      "execution_count": null,
      "outputs": []
    },
    {
      "cell_type": "code",
      "source": [
        "2) The line segment joining the points (1, 2) and (-2, 1) is\n",
        "\tdivided by the line 3x + 4y = 7 in the ratio\n",
        "\ta) 4:9 b) 4:3 c) 9:4 d) None of these\n",
        "The line segment joining (1,2)(1, 2)(1,2) and (−2,1)(-2, 1)(−2,1) is divided by 3x+4y=73x + 4y = 73x+4y=7 in the ratio.\n",
        "Answer: b) 4:3 (using section formula and substituting into the line equation)."
      ],
      "metadata": {
        "id": "TCFq9GsaRm_G"
      },
      "execution_count": null,
      "outputs": []
    },
    {
      "cell_type": "code",
      "source": [
        "3) If the point P(x, y) divides the line segment joining the points\n",
        "(2, 1) and (3, 2) internally in the ratio 2 : 3, find the value of x.\n",
        "a) 0 b) -2/5 c) 12/5 d) 13/5\n",
        "Point P(x,y)P(x, y)P(x,y) divides the line segment joining (2,1)(2, 1)(2,1) and (3,2)(3, 2)(3,2) internally in the ratio 2:32:32:3.\n",
        "Answer: d) 13/5 (using the section formula)."
      ],
      "metadata": {
        "id": "lORlnLDGRnB_"
      },
      "execution_count": null,
      "outputs": []
    },
    {
      "cell_type": "code",
      "source": [
        "4) The points of trisection of the line joining the points (0, 3)\n",
        "\tand (6, -3) are\n",
        "a) (2, 0) and (4, -1) b) (2, -1) and (4, -1) c) (3, 1) and (4, -1) d)\n",
        "(2, 1) and (4, -1)\n",
        "The points of trisection of the line joining (0,3)(0, 3)(0,3) and (6,−3)(6, -3)(6,−3) are.\n",
        "Answer: d) (2,1)(2, 1)(2,1) and (4,−1)(4, -1)(4,−1) (using the section formula to find the trisecting points)."
      ],
      "metadata": {
        "id": "wnB3lV4rR9MN"
      },
      "execution_count": null,
      "outputs": []
    },
    {
      "cell_type": "code",
      "source": [
        "5) Find the area of the triangle with vertices (a, a), (a + 1, a + 1),\n",
        "(a + 2, a).\n",
        "a) a^3\tb) 1 c) 0 d) None of these\n",
        "The area of the triangle with vertices (a,a)(a, a)(a,a), (a+1,a+1)(a + 1, a + 1)(a+1,a+1), and (a+2,a)(a + 2, a)(a+2,a).\n",
        "Answer: b) 1 (using the determinant formula for the area of a triangle)."
      ],
      "metadata": {
        "id": "fGjH31mhR9VB"
      },
      "execution_count": null,
      "outputs": []
    },
    {
      "cell_type": "code",
      "source": [
        "6) Find the area enclosed by |x| + |y| = 4.\n",
        "a) 16 sq. units b) 32 sq. units c) 16 √2 sq. units d) NOT\n",
        "The area enclosed by ∣x∣+∣y∣=4|x| + |y| = 4∣x∣+∣y∣=4.\n",
        "Answer: a) 16 sq. units (this is a square with diagonal 8, so the area is 82/28^2 / 282/2)."
      ],
      "metadata": {
        "id": "9dLP9FOdR9bZ"
      },
      "execution_count": null,
      "outputs": []
    },
    {
      "cell_type": "code",
      "source": [
        "7) The area of a triangle is 5. Two of its vertices are (2, 1) and\n",
        "(3, -2), the third vertex lying on y = x + 3. The coordinates of\n",
        "the third vertex can be\n",
        "a) (- 3/2, 3/2) b) (3/2,3/2) c) (7/4, 13/4) d) (-1/4, 11/4)\n",
        "The area of a triangle is 5, and two vertices are (2,1)(2, 1)(2,1) and (3,−2)(3, -2)(3,−2), with the third vertex lying on y=x+3y = x + 3y=x+3.\n",
        "Answer: a) (−32,32)\\left( -\\frac{3}{2}, \\frac{3}{2} \\right)(−23,23) (using the area formula and solving for the third vertex)."
      ],
      "metadata": {
        "id": "QJyzRPLIR9e_"
      },
      "execution_count": null,
      "outputs": []
    },
    {
      "cell_type": "code",
      "source": [
        "8) If the points (-6,-5), (0,b) and (2,5/3) are collinear, find b.\n",
        "a) 0 b) 1 c) 2 d) 3\n",
        "If the points (−6,−5)(-6, -5)(−6,−5), (0,b)(0, b)(0,b), and (2,53)(2, \\frac{5}{3})(2,35) are collinear, find bbb.\n",
        "Answer: c) 2 (using the condition for collinearity, i.e., equal slopes)."
      ],
      "metadata": {
        "id": "5wQ1O8x8R9iK"
      },
      "execution_count": null,
      "outputs": []
    },
    {
      "cell_type": "code",
      "source": [
        "9) The equations of the line, through (1, 1) and making an\n",
        "angle of 45° with the line x + y = 0, are\n",
        "a) x-1=0,x-y=0 b) x-y= 0,y-1=0 c) x+y-2=0,y-1=0 d) x-1=0,y-1=0\n",
        "The equations of the lines through (1,1)(1, 1)(1,1) and making a 45° angle with the line x+y=0x + y = 0x+y=0.\n",
        "Answer: c) x+y−2=0x + y - 2 = 0x+y−2=0, y−1=0y - 1 = 0y−1=0 (using angle and slope relationships)."
      ],
      "metadata": {
        "id": "HRIUfUjPR9lE"
      },
      "execution_count": null,
      "outputs": []
    },
    {
      "cell_type": "code",
      "source": [
        "10) The foot of the perpendicular drawn from P (0, 5) to the\n",
        "\tline 3x - 4y – 5 = 0 is\n",
        "a) (3, 1) b) (1,3) c) (3,2) d) (2, 3)\n",
        "The foot of the perpendicular drawn from P(0,5)P(0, 5)P(0,5) to the line 3x−4y−5=03x - 4y - 5 = 03x−4y−5=0.\n",
        "Answer: c) (3,2) (using the formula for the foot of the perpendicular)."
      ],
      "metadata": {
        "id": "_FYnhuMrS9uG"
      },
      "execution_count": null,
      "outputs": []
    },
    {
      "cell_type": "code",
      "source": [
        "11) A line L has intercepts a and b on co- ordinate axes. When\n",
        "\tthe axes are rotated through a given angle keeping the origin\n",
        "\tfixed, the same line L has intercepts p and q. Then\n",
        "\ta) a2 + b2 = p2 + q2\n",
        "  b) a2 + p2 = b2 + q2\n",
        "  c) (1/a2) + (1/p2) = (1/b2) +(1/q2)\n",
        "  d) (1/a2) + (1/b2) = (1/p2) + (1/q2)\n",
        "The line L has intercepts aaa and bbb on the coordinate axes, and after rotation, has intercepts p and q.\n",
        "Answer: a) a2+b2=p2+q2a^2 + b^2 = p^2 + q^2a2+b2=p2+q2 (this property holds after rotation of axes)."
      ],
      "metadata": {
        "id": "Q3u4o-TNS9xU"
      },
      "execution_count": null,
      "outputs": []
    },
    {
      "cell_type": "code",
      "source": [
        "12) The vertices of a triangle are A(-1, -7), B (5, 1) and C(1, 4).\n",
        "The equation of the bisector of ∠ ABC is\n",
        "a) x-7y + 2 = 0 b) 7x – y + 3 =0 c) x + 7y -2 = 0 d) None of these\n",
        "The vertices of a triangle are A(−1,−7)A(-1, -7)A(−1,−7), B(5,1)B(5, 1)B(5,1), and C(1,4)C(1, 4)C(1,4). The equation of the bisector of ∠ABC\\angle ABC∠ABC.\n",
        "Answer: c) x+7y−2=0x + 7y - 2 = 0x+7y−2=0 (using the angle bisector theorem)."
      ],
      "metadata": {
        "id": "E1CNxz9CS90g"
      },
      "execution_count": null,
      "outputs": []
    },
    {
      "cell_type": "code",
      "source": [
        "13) A(a,0) and B(3a,0) are the vertices of an equilateral triangle\n",
        "ABC. What are the coordinates of C?\n",
        "a) (a, a √3) b) (a √3, 2a) c) (a √3,0) d) (2a, a√3)\n",
        "A(a,0)A(a, 0)A(a,0) and B(3a,0)B(3a, 0)B(3a,0) are the vertices of an equilateral triangle ABC. The coordinates of CCC.\n",
        "Answer: a) (a,a3)(a, a\\sqrt{3})(a,a3) (using the geometry of an equilateral triangle)."
      ],
      "metadata": {
        "id": "0DVwkWCeS93S"
      },
      "execution_count": null,
      "outputs": []
    },
    {
      "cell_type": "code",
      "source": [
        "14) A triangle has vertices A(2, 2), B(5, 2) and C(5, 6). Identify\n",
        "the type of the triangle.\n",
        "a) Scalene right-angled b) Isosceles right-angled c) Equilateral\n",
        "d) Scalene but not right-angled\n",
        "A triangle has vertices A(2,2)A(2, 2)A(2,2), B(5,2)B(5, 2)B(5,2), and C(5,6)C(5, 6)C(5,6).\n",
        "Answer: b) Isosceles right-angled (since two sides are equal and form a right angle)."
      ],
      "metadata": {
        "id": "fczhy4x-S957"
      },
      "execution_count": null,
      "outputs": []
    },
    {
      "cell_type": "code",
      "source": [
        "15) What kind of quadrilateral is formed by the vertices (0, 0),\n",
        "(4, 3), (3, 5) and (-1, 2)?\n",
        "a) Square b) Rectangle c) Parallelogram d) Rhombus\n",
        "The quadrilateral formed by the vertices (0,0)(0, 0)(0,0), (4,3)(4, 3)(4,3), (3,5)(3, 5)(3,5), and (−1,2)(-1, 2)(−1,2).\n",
        "Answer: c) Parallelogram (after calculating the slopes and checking for parallel sides)."
      ],
      "metadata": {
        "id": "iATkMYGPS99A"
      },
      "execution_count": null,
      "outputs": []
    },
    {
      "cell_type": "code",
      "source": [
        "16) The area of a triangle formed by the lines x = 0, y = 0 and\n",
        "(x/a) + (y/b) = 1 is\n",
        "a) ab b) ab/2 c) 2ab d) ab/3\n",
        "The area of the triangle formed by the lines x=0x = 0x=0, y=0y = 0y=0, and xa+yb=1\\frac{x}{a} + \\frac{y}{b} = 1ax+by=1.\n",
        "Answer: b) ab2\\frac{ab}{2}2ab (this is the standard formula for the area of a triangle in intercept form)."
      ],
      "metadata": {
        "id": "-psrkONtS-AR"
      },
      "execution_count": null,
      "outputs": []
    },
    {
      "cell_type": "code",
      "source": [
        "17) The reflection of the point (4,-13) on the line 5x + y + 6 = 0\n",
        "\tis\n",
        " a) (-1,-14) b) (3, 4) c) (1, 2) d) (-4, 13)\n",
        "The reflection of the point (4,−13)(4, -13)(4,−13) on the line 5x+y+6=05x + y + 6 = 05x+y+6=0.\n",
        "•\tAnswer: a) (−1,−14)(-1, -14)(−1,−14) (using the reflection formula for a point over a line)."
      ],
      "metadata": {
        "id": "YFX-W3WpUQ13"
      },
      "execution_count": null,
      "outputs": []
    },
    {
      "cell_type": "code",
      "source": [
        "18) In a parallelogram ABCD, the coordinates of the vertices\n",
        "\tare A(1, 0), B(4, 5) and C(1, 2). Find the coordinates of vertex D.\n",
        "\ta) (-2,-3) b) (-2,-2) c) (-3, -3) d) (-2,-5)\n",
        "In a parallelogram ABCD, the coordinates of vertices are A(1,0)A(1, 0)A(1,0), B(4,5)B(4, 5)B(4,5), and C(1,2)C(1, 2)C(1,2).\n",
        "•\tAnswer: a) (−2,−3)(-2, -3)(−2,−3) (using the properties of a parallelogram and midpoint formula)."
      ],
      "metadata": {
        "id": "ZrZGUMyUP0-x"
      },
      "execution_count": null,
      "outputs": []
    },
    {
      "cell_type": "code",
      "source": [
        "Mensuration"
      ],
      "metadata": {
        "id": "wkNc-ca0tYpS"
      },
      "execution_count": null,
      "outputs": []
    },
    {
      "cell_type": "code",
      "source": [
        "1) A quadrilateral is obtained by joining the midpoints of the\n",
        "sides of a square. Further, a square is obtained by joining the\n",
        "midpoints of the sides of this quadrilateral. Again, a\n",
        "quadrilateral is obtained by joining the midpoints of the sides\n",
        "of a square. This process is repeated infinite times. The ratio of\n",
        "the sum of areas of all the quadrilaterals to that of all the\n",
        "squares is\n",
        "a) 1:4 b) 1:2 c) 3:4 d) Cannot be determined\n",
        "The ratio of the sum of areas of all the quadrilaterals to that of all the squares.\n",
        "Answer: b) 1:2 (The areas form a geometric progression, and the sum of the series gives the ratio)."
      ],
      "metadata": {
        "id": "Bx_Dwzo-tjMI"
      },
      "execution_count": null,
      "outputs": []
    },
    {
      "cell_type": "code",
      "source": [
        "2) The radius of a wire is decreased to one- third and its\n",
        "volume remains the same. The new length is how many times\n",
        "the original length?\n",
        "a) 2 times b) 4 times c) 5 times d) 9 times\n",
        "If the radius of a wire is decreased to one-third and its volume remains the same, the new length is how many times the original length?\n",
        "Answer: d) 9 times (since volume = πr²h, and if the radius is reduced, the height must increase by a factor of 9)."
      ],
      "metadata": {
        "id": "kIGLhYTLtjII"
      },
      "execution_count": null,
      "outputs": []
    },
    {
      "cell_type": "code",
      "source": [
        "3) If 66 cc of silver is drawn into a wire of 1 mm diameter, then\n",
        "the length of the wire (in m) will be\n",
        "a) 84 b) 90 c) 168 d) 336\n",
        "If 66 cc of silver is drawn into a wire of 1 mm diameter, the length of the wire (in m) will be.\n",
        "Answer: d) 336 (using the formula for volume V=πr2hV = \\pi r^2 hV=πr2h, solving for h)."
      ],
      "metadata": {
        "id": "JFQGxafktjAu"
      },
      "execution_count": null,
      "outputs": []
    },
    {
      "cell_type": "code",
      "source": [
        "4) Let A and B be two solid spheres such that the surface area\n",
        "of B is 300% more than the surface area of A. The volume of A\n",
        "is found to be k% lower than the volume of\n",
        "B. The value of k must be\n",
        "a) 85.5 b) 92.5 c) 90.5 d) 87.5\n",
        "Let AAA and BBB be two solid spheres such that the surface area of BBB is 300% more than the surface area of AAA. The volume of AAA is k%k\\%k% lower than the volume of BBB.\n",
        "Answer: d) 87.5 (The increase in surface area leads to a specific reduction in volume, calculated using the ratio of radii)."
      ],
      "metadata": {
        "id": "lP3VJhbGti5f"
      },
      "execution_count": null,
      "outputs": []
    },
    {
      "cell_type": "code",
      "source": [
        "5) The diameter of base of a cylindrical roller is 110 cm and its\n",
        "length is 150 cm. It takes 800 complete revolutions to move\n",
        "once over a playground to level it. Find the approximate area\n",
        "of playground.\n",
        "a) 4686 m2 b) 4145 m2 c) 1980 m2 d) 1320 m2\n",
        "The diameter of the base of a cylindrical roller is 110 cm, its length is 150 cm, and it takes 800 complete revolutions to level the playground.\n",
        "•\tAnswer: a) 4686 m² (using the formula for the lateral surface area of the cylinder, A=2πrh×revolutionsA = 2\\pi r h \\times \\text{revolutions}A=2πrh×revolutions)."
      ],
      "metadata": {
        "id": "4YTxNL-htizE"
      },
      "execution_count": null,
      "outputs": []
    },
    {
      "cell_type": "code",
      "source": [
        "6) A solid is in the form of a cylinder with hemispherical ends.\n",
        "The total height of the solid is 19 cm and the diameter of the\n",
        "cylinder is 7 cm. The surface area of the solid is\n",
        "a) 16 cm2 c) 485 cm2 b) 418 cm2 d) 16.6 cm2\n",
        "A solid is in the form of a cylinder with hemispherical ends, total height = 19 cm, and diameter = 7 cm.\n",
        "Answer: b) 418 cm² (surface area includes the cylindrical part and two hemispherical ends)."
      ],
      "metadata": {
        "id": "Lg2axVIbtiwB"
      },
      "execution_count": null,
      "outputs": []
    },
    {
      "cell_type": "code",
      "source": [
        "7) Ram cuts a semicircle of radius 8 cm from a piece of paper\n",
        "and folds it in such a way that it forms a right circular cone.\n",
        "What is the volume of this cone?\n",
        "a) 32 π/3cm3\n",
        "\n",
        "b) 32√32 π/3cm3\n",
        "\n",
        "c) √ 32 π/3cm3\n",
        "\n",
        "d) 64 π/√3cm3\n",
        "A semicircle of radius 8 cm is folded to form a right circular cone. Find the volume of the cone.\n",
        "•\tAnswer: a) 32π3 cm3\\frac{32\\pi}{3} \\, \\text{cm}^3332πcm3 (using the relationship between the radius of the cone and the circumference of the semicircle)."
      ],
      "metadata": {
        "id": "h3oejKfZtitG"
      },
      "execution_count": null,
      "outputs": []
    },
    {
      "cell_type": "code",
      "source": [
        "8) The outer dimensions of an open box are 25 cm, 20 cm and\n",
        "12 cm. Its thickness is 2 cm. If 1 cm3 of metal used in the box\n",
        "weighs 0.5 g, find the weight of the box.\n",
        "a) 1.68 kg b) 1.32 kg c) 3.23 kg d) 3.31 kg\n",
        "The outer dimensions of an open box are 25 cm, 20 cm, and 12 cm, with a thickness of 2 cm. If the metal used weighs 0.5 g/cm³, find the weight of the box.\n",
        "Answer: b) 1.32 kg (calculating the volume of the box and subtracting the inner hollow part, then multiplying by the density)."
      ],
      "metadata": {
        "id": "1bUARWc9tipW"
      },
      "execution_count": null,
      "outputs": []
    },
    {
      "cell_type": "code",
      "source": [
        "9) The volumes of two spheres are in the ratio 64 :27. Find the\n",
        "difference between their surface areas, if the sum of their radii\n",
        "is 21 units.\n",
        "a) 84 π sq. units b) 350л sq. units c) 252 π sq. units d) 792 л\n",
        "sq. units\n",
        "The volumes of two spheres are in the ratio 64:27, and the sum of their radii is 21 units. Find the difference in surface areas.\n",
        "•\tAnswer: c) 252π sq. units (using the formula for surface area and volume ratios)."
      ],
      "metadata": {
        "id": "OmlMCuaDwACX"
      },
      "execution_count": null,
      "outputs": []
    },
    {
      "cell_type": "code",
      "source": [
        "10) A cube of maximum possible volume is kept inside a\n",
        "sphere. A right circular cylinder of maximum possible volume is\n",
        "kept inside the cube. What is the ratio of the total outer\n",
        "surface area of the cylinder to that of the sphere?\n",
        "a) 1:2 b) 1:3 c) 1:4 d) 1:5\n",
        "A cube of maximum possible volume is kept inside a sphere, and a right circular cylinder is kept inside the cube. Find the ratio of the outer surface area of the cylinder to that of the sphere.\n",
        "•\tAnswer: b) 1:3 (using geometric relationships between the sphere, cube, and cylinder dimensions)."
      ],
      "metadata": {
        "id": "THyFDlUegT6r"
      },
      "execution_count": null,
      "outputs": []
    },
    {
      "cell_type": "code",
      "source": [
        "11) The height of a frustum made from a cone is 8 cm. If the\n",
        "base radii of this frustum are 6 cm and 2 cm, then find the\n",
        "height of the original cone.\n",
        "a) 4 cm b) 2 cm c) 12 cm d) 10 cm\n",
        "The height of a frustum made from a cone is 8 cm, and the base radii are 6 cm and 2 cm. Find the height of the original cone.\n",
        "•\tAnswer: d) 10 cm (using the frustum height formula)."
      ],
      "metadata": {
        "id": "JM5ZMHVAgT_r"
      },
      "execution_count": null,
      "outputs": []
    },
    {
      "cell_type": "code",
      "source": [
        "12) A rectangular water tank of dimensions 30 m x 15 m x 10 m\n",
        "carries water to a society for drinking purposes. The society\n",
        "requires 20 tanks on a daily basis. Find the daily consumption\n",
        "of water at the society, if 20% of water is wasted due to the\n",
        "leakage in the tank.\n",
        "a) 72,000 m3 b) 62,000 m3 c) 52,000 m3 d) 42,000 m3\n",
        "A rectangular water tank with dimensions 30 m x 15 m x 10 m supplies 20 tanks daily, with 20% water wasted due to leakage.\n",
        "•\tAnswer: a) 72,000 m³ (accounting for 20% wastage, the effective water delivery is 80%)."
      ],
      "metadata": {
        "id": "S40ijgofgdOU"
      },
      "execution_count": null,
      "outputs": []
    },
    {
      "cell_type": "code",
      "source": [
        "13) A sphere of radius 3 cm is dropped in a right circular\n",
        "cylindrical vessel partly filled with water. The diameter of the\n",
        "cross-section of the vessel is 12 cm. After the sphere is\n",
        "completely submerged in water, the rise in the water level in\n",
        "the vessel is\n",
        "a) 1 cm b) 2 cm c) 3 cm d) 4 cm\n",
        "A sphere of radius 3 cm is submerged in a cylindrical vessel with a diameter of 12 cm. Find the rise in the water level.\n",
        "•\tAnswer: a) 1 cm (using the volume of the sphere and equating it to the rise in the cylindrical vessel's volume)."
      ],
      "metadata": {
        "id": "OF7Hy8qrghY8"
      },
      "execution_count": null,
      "outputs": []
    },
    {
      "cell_type": "code",
      "source": [
        "14) Find the area of the ring, whose outer and inner radii are,\n",
        "respectively, 20 cm and 15 cm.\n",
        "a) 550 cm2 b) 1257 cm2 c) 707 cm2 d) 225 cm2\n",
        "The area of the ring with outer radius 20 cm and inner radius 15 cm is:\n",
        "•\tAnswer: c) 707 cm² (area of ring = area of outer circle minus area of inner circle, π(r12−r22)\\pi(r_1^2 - r_2^2)π(r12−r22))."
      ],
      "metadata": {
        "id": "Bgp5YZaOP1Bo"
      },
      "execution_count": null,
      "outputs": []
    }
  ]
}