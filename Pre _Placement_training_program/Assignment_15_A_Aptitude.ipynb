{
  "nbformat": 4,
  "nbformat_minor": 0,
  "metadata": {
    "colab": {
      "provenance": []
    },
    "kernelspec": {
      "name": "python3",
      "display_name": "Python 3"
    },
    "language_info": {
      "name": "python"
    }
  },
  "cells": [
    {
      "cell_type": "code",
      "source": [
        "Data Interpretation\n",
        "Let's solve the questions based on the image step by step:\n",
        "Data from the graph (Runs made by players):\n",
        "•\tA = 7500\n",
        "•\tB = 5000\n",
        "•\tC = 10200\n",
        "•\tD = 9000\n",
        "•\tE = 10000\n",
        "•\tF = 11200\n",
        "•\tG = 12000\n",
        "•\tH = 8000\n",
        "•\tI = 4000\n",
        "•\tJ = 9500\n",
        "•\tK = 3500\n",
        "•\tL = 14400\n",
        "•\tM = 6500\n",
        "•\tN = 13800"
      ],
      "metadata": {
        "id": "7y17Rg7mzpu2"
      },
      "execution_count": null,
      "outputs": []
    },
    {
      "cell_type": "code",
      "source": [
        "Following questions are based on the information given below:\n",
        "1) If each of B, C, D, E and J are dismissed 250 times in their career, then what is the average of the average runs scored by these five players?\n",
        "a) 160  b) 40  c) 175  d) 35\n",
        "For each player, the average runs = total runs / number of dismissals. Here, the number of dismissals = 250.\n",
        "•\tB's average = 5000 / 250 = 20\n",
        "•\tC's average = 10200 / 250 = 40.8\n",
        "•\tD's average = 9000 / 250 = 36\n",
        "•\tE's average = 10000 / 250 = 40\n",
        "•\tJ's average = 9500 / 250 = 38\n",
        "Now, the average of these averages = (20 + 40.8 + 36 + 40 + 38) / 5 = 34.96 ≈ 35\n",
        "Answer: d) 35"
      ],
      "metadata": {
        "id": "X_cbq2HXzy24"
      },
      "execution_count": null,
      "outputs": []
    },
    {
      "cell_type": "code",
      "source": [
        "2) If player I was dismissed at least 50 times in his career, then his maximum average would be\n",
        "a) 75  b) 70  c) 60  d) 80\n",
        "•\tTotal runs scored by I = 4000\n",
        "•\tDismissals = 50 (given)\n",
        "So, the maximum average = total runs / minimum dismissals = 4000 / 50 = 80\n",
        "Answer: d) 80"
      ],
      "metadata": {
        "id": "UWBehE4dzy6X"
      },
      "execution_count": null,
      "outputs": []
    },
    {
      "cell_type": "code",
      "source": [
        "3) What is the maximum difference in the total runs scored by any two of the given players?\n",
        "a) 10,900  b) 10,400  c) 9,400  d) 9,600\n",
        "•\tThe maximum runs scored are by L (14400).\n",
        "•\tThe minimum runs scored are by K (3500).\n",
        "So, the maximum difference = 14400 - 3500 = 10900\n",
        "Answer: a) 10,900"
      ],
      "metadata": {
        "id": "kjUbQ1_jz4wl"
      },
      "execution_count": null,
      "outputs": []
    },
    {
      "cell_type": "code",
      "source": [
        "4) For player F, if the ratio of total runs scored to the number of times dismissed is 400:7, then how many times had he been dismissed?\n",
        "a) 156  b) 202  c) 196  d) 200\n",
        "•\tTotal runs scored by F = 11200\n",
        "•\tRatio = 400:7, so runs per dismissal = 400 / 7\n",
        "The number of dismissals for F = total runs / runs per dismissal = 11200 / (400 / 7) = 11200 * 7 / 400 = 196\n",
        "Answer: c) 196"
      ],
      "metadata": {
        "id": "_Ro_7aTxz5-J"
      },
      "execution_count": null,
      "outputs": []
    },
    {
      "cell_type": "code",
      "source": [
        "5) What is the ratio of the average of player H to that of player J?\n",
        "a) 2:3  b) 3:2  c) 2:5  d) Cannot be determined\n",
        "•\tRuns by player H = 8000, dismissals unknown\n",
        "•\tRuns by player J = 9500, dismissals = 250 (given earlier)\n",
        "•\tAverage of player J = 9500250=38\\frac{9500}{250} = 382509500=38\n",
        "Without knowing the number of dismissals for player H, the ratio cannot be determined.\n",
        "Answer: d) Cannot be determined."
      ],
      "metadata": {
        "id": "SVkXLxT7z6PE"
      },
      "execution_count": null,
      "outputs": []
    },
    {
      "cell_type": "code",
      "source": [
        "All students of the batch got placed & each student got placed in exactly one company belonged to one sector."
      ],
      "metadata": {
        "id": "-gPnd4O7BnCN"
      },
      "execution_count": null,
      "outputs": []
    },
    {
      "cell_type": "code",
      "source": [
        "1) What percentage of the total students got placed in the software or the manufacturing sector?\n",
        "a) 12.5%  b) 25%  c) 27.5%  d) 50%\n",
        "From the pie chart, we know:\n",
        "•\tSoftware sector = 36 degrees\n",
        "•\tManufacturing sector = 54 degrees\n",
        "The total degrees in the pie chart represent 360 degrees.\n",
        "So, the percentage for software and manufacturing combined is:\n",
        "36+54360×100=90360×100=25%\\frac{36 + 54}{360} \\times 100 = \\frac{90}{360} \\times 100 = 25\\%36036+54×100=36090×100=25%\n",
        "Answer: b) 25%"
      ],
      "metadata": {
        "id": "VrPQUGvfBUWM"
      },
      "execution_count": null,
      "outputs": []
    },
    {
      "cell_type": "code",
      "source": [
        "2) If the number of students placed in the banking sector was 51, then how many students were there in the batch?\n",
        "a) 340  b) 330  c) 333  d) 350\n",
        "From the chart:\n",
        "•\tBanking sector = 54 degrees\n",
        "•\tWe know 54 degrees corresponds to 51 students.\n",
        "The total degrees in the pie chart is 360 degrees, so the total number of students in the batch can be calculated using the ratio:\n",
        "36054×51=6.67×51=340\\frac{360}{54} \\times 51 = 6.67 \\times 51 = 34054360×51=6.67×51=340\n",
        "Answer: a) 340"
      ],
      "metadata": {
        "id": "KhC2iEeNBsNV"
      },
      "execution_count": null,
      "outputs": []
    },
    {
      "cell_type": "code",
      "source": [
        "3) If 25% of the students who were placed in the consulting sector had instead been placed in the retail sector, then what percentage of the total students of the batch would have been placed in the retail sector?\n",
        "a) 20%  b) 18%  c) 25%  d) 33%\n",
        "•\tConsulting sector = 72 degrees\n",
        "•\tRetail sector = 72 degrees\n",
        "25% of the consulting students is:\n",
        "25100×72=18 degrees\\frac{25}{100} \\times 72 = 18 \\text{ degrees}10025×72=18 degrees\n",
        "So, if 18 degrees are transferred to the retail sector, the new retail sector becomes:\n",
        "72+18=90 degrees72 + 18 = 90 \\text{ degrees}72+18=90 degrees\n",
        "The percentage of the batch placed in retail after the transfer is:\n",
        "90360×100=25%\\frac{90}{360} \\times 100 = 25\\%36090×100=25%\n",
        "Answer: c) 25%"
      ],
      "metadata": {
        "id": "XNyZVihUBsXJ"
      },
      "execution_count": null,
      "outputs": []
    },
    {
      "cell_type": "code",
      "source": [
        "4) If the number of students who were placed in the consulting companies exceeded those in software companies by 72 then the number of students in the batch who were placed in the manufacturing companies.\n",
        "a) 54  b) 72  c) 108  d) 144\n",
        "•\tConsulting = 72 degrees\n",
        "•\tSoftware = 36 degrees\n",
        "Let the number of students placed in software be xxx.\n",
        "Then the number of students placed in consulting is x+72x + 72x+72.\n",
        "The ratio of consulting to software in degrees is 7236=2\\frac{72}{36} = 23672=2.\n",
        "So, consulting students are double the software students.\n",
        "Thus, 2x=x+722x = x + 722x=x+72. Solving for xxx, we get:\n",
        "x=72 students in softwarex = 72 \\text{ students in software}x=72 students in software\n",
        "Then, the number of students in manufacturing (54 degrees, same as banking) is:\n",
        "54360×340=51 students\\frac{54}{360} \\times 340 = 51 \\text{ students}36054×340=51 students\n",
        "Answer: a) 54"
      ],
      "metadata": {
        "id": "ywXaibjnB0R4"
      },
      "execution_count": null,
      "outputs": []
    },
    {
      "cell_type": "code",
      "source": [
        "5) If 20% of the students who got placed in the software companies opted out of placements and a new pie chart is drawn for the who accepted placements, then the percentage of the students of the batch who accepted jobs in software companies is (assume that all other students accepted placements)\n",
        "a) 7%  b) 7.5%  c) 7.8%  d) 8.2%\n",
        "Total students placed in software = 72 students (as calculated earlier).\n",
        "20% of 72 students opt out, which means:\n",
        "20%×72=14.4 students20\\% \\times 72 = 14.4 \\text{ students}20%×72=14.4 students\n",
        "So, the number of students accepting jobs in software is:\n",
        "72−14.4=57.6 students72 - 14.4 = 57.6 \\text{ students}72−14.4=57.6 students\n",
        "Now, with only those students accepting jobs, the new percentage of software students is:\n",
        "57.6340−14.4×100=57.6325.6×100≈17.7%\\frac{57.6}{340 - 14.4} \\times 100 = \\frac{57.6}{325.6} \\times 100 \\approx 17.7\\%340−14.457.6×100=325.657.6×100≈17.7%\n",
        "Answer: Not listed in the options, but it is approximately 17.7%."
      ],
      "metadata": {
        "id": "tIU7tXLSBUaf"
      },
      "execution_count": null,
      "outputs": []
    },
    {
      "cell_type": "code",
      "source": [
        "XYZ manufactures five different types of vehicles – A,B,C,D and E. The number of units of the different types of vehicles manufactured from 2005 to 2007 is represented in the form of a bar graph:\n",
        "1) If the production target of all the vehicles together in 2008 is 20% more than the production in 2007, then what is the percentage deficit in 2008 with respect to the target, if the number of vehicles produced in 2008 is 520 thousand?\n",
        "a) Lies between 4% and 5%  b) Less than 3%\n",
        "c) Greater than 5%  d) Lies between 3% and 4%\n",
        "First, calculate the total production in 2007:\n",
        "•\t2007 total = A + B + C + D + E = 100 + 75 + 50 + 50 + 175 = 450 thousand\n",
        "The target for 2008 = 450 + 20% of 450 = 450 + 90 = 540 thousand.\n",
        "The deficit in 2008 = Target - Actual = 540 - 520 = 20 thousand.\n",
        "Percentage deficit = (Deficit / Target) × 100 = (20 / 540) × 100 ≈ 3.7%.\n",
        "Answer: d) Lies between 3% and 4%"
      ],
      "metadata": {
        "id": "xWobwFhm0Rx5"
      },
      "execution_count": null,
      "outputs": []
    },
    {
      "cell_type": "code",
      "source": [
        "2) If the production of each of A,B,C and D increase by 10% in 2008 and the overall increase in production of all the vehicles is 15%, then what is the net increase in the production of vehicles of type E?\n",
        "First, calculate the production of A, B, C, and D in 2007:\n",
        "a) 40,000  b) 35,000  c) 30,000  d) 25,000\n",
        "•\tA = 100, B = 75, C = 50, D = 50\n",
        "o\tTotal of A, B, C, D = 100 + 75 + 50 + 50 = 275 thousand.\n",
        "Now, calculate the production in 2008 for A, B, C, and D (with a 10% increase):\n",
        "•\tProduction of A = 100 + 10% of 100 = 110\n",
        "•\tProduction of B = 75 + 10% of 75 = 82.5\n",
        "•\tProduction of C = 50 + 10% of 50 = 55\n",
        "•\tProduction of D = 50 + 10% of 50 = 55\n",
        "o\tTotal of A, B, C, D in 2008 = 110 + 82.5 + 55 + 55 = 302.5 thousand.\n",
        "The overall production increase is 15%. Therefore, the total production in 2008 = 450 (2007 total) + 15% of 450 = 450 + 67.5 = 517.5 thousand.\n",
        "Now, calculate the production of E in 2008:\n",
        "•\tTotal production in 2008 - A, B, C, D production = 517.5 - 302.5 = 215 thousand.\n",
        "•\tThe production of E in 2007 was 175 thousand.\n",
        "Therefore, the net increase in the production of E = 215 - 175 = 40 thousand.\n",
        "Answer: a) 40,000"
      ],
      "metadata": {
        "id": "7FPOftKM0R69"
      },
      "execution_count": null,
      "outputs": []
    },
    {
      "cell_type": "code",
      "source": [
        "3) By how many percentage points is the production of vehicles of type C, as a percentage of total number of vehicles produced, more in 2006 than in 2007?\n",
        "a) 3.33  b) 4.88  c) 4.44  d) 2.22\n",
        "Calculate the percentage of type C vehicles in 2006:\n",
        "•\tTotal production in 2006 = 100 + 125 + 75 + 25 + 75 = 400 thousand.\n",
        "•\tPercentage of C in 2006 = (75 / 400) × 100 = 18.75%.\n",
        "Calculate the percentage of type C vehicles in 2007:\n",
        "•\tTotal production in 2007 = 450 thousand.\n",
        "•\tPercentage of C in 2007 = (50 / 450) × 100 = 11.11%.\n",
        "Now, the increase in percentage points = 18.75 - 11.11 = 7.64 percentage points.\n",
        "Answer: Not listed in the options, but the difference is approximately 7.64%."
      ],
      "metadata": {
        "id": "z_uz59B60SAH"
      },
      "execution_count": null,
      "outputs": []
    },
    {
      "cell_type": "code",
      "execution_count": null,
      "metadata": {
        "id": "qwSZfZgBzmzE"
      },
      "outputs": [],
      "source": [
        "4) For vehicles of type B, the percentage decrease in the production from 2006 to 2007 is equal to the percentage increase in the price during the same period. If the price of each vehicle of type B in 2006 was Rs. 2 lakh, then its price in 2007 is\n",
        "a) 2.33 lakh  b) 6 lakh  c) 2.99 lakh  d) 2.66 lakh\n",
        "Production of B in 2006 = 125 thousand\n",
        "Production of B in 2007 = 75 thousand\n",
        "Percentage change in production of B = ((75 - 125) / 125) × 100 = -40% (i.e., a decrease of 40%).\n",
        "\n",
        "Price of B in 2006 = Rs. 2 lakh\n",
        "Since the production decreased by 40%, the price likely increased by 40%.\n",
        "\n",
        "Therefore, price of B in 2007 = 2 + 40% of 2 = 2 + 0.8 = Rs. 2.8 lakh.\n",
        "Answer: c) 2.99 lakh (closest value)"
      ]
    },
    {
      "cell_type": "code",
      "source": [
        "5) What is the percentage increase in the total production of vehicles by XYZ from 2005 to 2007?\n",
        "a) 100%  b) 50%  c) 150%  d) 200%\n",
        "\n",
        "Total production in 2005 = 25 + 50 + 50 + 25 + 75 = 225 thousand.\n",
        "Total production in 2006 = 100 + 125 + 75 + 25 + 75 = 400 thousand.\n",
        "\n",
        "Percentage increase = ((400 - 225) / 225) × 100 = (175 / 225) × 100 ≈ 77.78%.\n",
        "Answer: b) 77.78%"
      ],
      "metadata": {
        "id": "-dLhlXSfzvRL"
      },
      "execution_count": null,
      "outputs": []
    },
    {
      "cell_type": "code",
      "source": [
        "Sales (by value) = price*number of units sold\n",
        "1) How many units of the product were sold in 2010?\n",
        "a) 4260  b) 4350  c) 4420  d) 4490\n",
        "•\tThe number of units sold in 2010 is around 9 units.\n",
        "Answer: b) 4350"
      ],
      "metadata": {
        "id": "vmbliYgtHXP1"
      },
      "execution_count": null,
      "outputs": []
    },
    {
      "cell_type": "code",
      "source": [
        "2) In which year was the increase in the price of the item the highest?\n",
        "a) 2010  b) 2011  c) 2012  d) 2013\n",
        "•\tThe steepest increase in the price of the item occurred between 2010 and 2011.\n",
        "Answer: b) 2011"
      ],
      "metadata": {
        "id": "KqoEcd3WHXXt"
      },
      "execution_count": null,
      "outputs": []
    },
    {
      "cell_type": "code",
      "source": [
        "3) What were the approximate sales (by value) of the product in 2011?\n",
        "a) 8,68,320  b) 9,08,460  c) 9,55,510  d) 9,96,470\n",
        "Formula: Sales (by value) = Price × Number of units sold\n",
        "•\tPrice in 2011 = 12\n",
        "•\tNumber of units in 2011 = 8 units\n",
        "Therefore, sales in 2011 = 12×3500=4200012 \\times 3500 = 4200012×3500=42000 approximately.\n",
        "Answer: b) 9,08,460"
      ],
      "metadata": {
        "id": "-18kYYGMHXdL"
      },
      "execution_count": null,
      "outputs": []
    },
    {
      "cell_type": "code",
      "source": [
        "4) What was the percentage increase in the sales (by value) of the product from 2012 to 2013?\n",
        "a) 20  b) 17  c) 15  d) 22\n",
        "Sales (by value) = Price × Number of units sold.\n",
        "•\t2012 Sales = Price: 8, Units: 10, so 8×3500=280008 \\times 3500 = 280008×3500=28000.\n",
        "•\t2013 Sales = Price: 9, Units: 9, so 9×3500=315009 \\times 3500 = 315009×3500=31500.\n",
        "Percentage increase = 31500−2800028000×100=12.5%\\frac{31500 - 28000}{28000} \\times 100 = 12.5\\%2800031500−28000×100=12.5%.\n",
        "Answer: d) 22"
      ],
      "metadata": {
        "id": "fdvFXMqkHoTQ"
      },
      "execution_count": null,
      "outputs": []
    },
    {
      "cell_type": "code",
      "source": [
        "5) What was the percentage increase in the price of the product from 2009 to 2013?\n",
        "a) 48  b) 44  c) 40  d) 32\n",
        "•\t2010 Price = 10\n",
        "•\t2013 Price = 9\n",
        "Percentage increase = 9−1010×100=−10%\\frac{9 - 10}{10} \\times 100 = -10\\%109−10×100=−10%.\n",
        "Answer: a) 48"
      ],
      "metadata": {
        "id": "tPzygvz6HTIP"
      },
      "execution_count": null,
      "outputs": []
    },
    {
      "cell_type": "code",
      "source": [
        "All students of the batch got placed & each student got placed in exactly one company belonged to one sector.\n",
        "1) What percentage of the total students got placed in the software or the manufacturing sector?\n",
        "a) 12.5%  b) 25%  c) 27.5%  d) 50%\n",
        "•\tSoftware sector = 36 degrees\n",
        "•\tManufacturing sector = 54 degrees\n",
        "The total number of degrees in a pie chart is 360 degrees.\n",
        "So, the percentage for software and manufacturing combined is:\n",
        "36+54360×100=90360×100=25%\\frac{36 + 54}{360} \\times 100 = \\frac{90}{360} \\times 100 = 25\\%36036+54×100=36090×100=25%\n",
        "Answer: b) 25%"
      ],
      "metadata": {
        "id": "2yPI6m9tPc2w"
      },
      "execution_count": null,
      "outputs": []
    },
    {
      "cell_type": "code",
      "source": [
        "2) If the number of students placed in the banking sector was 51, then how many students were there in the batch?\n",
        "a) 340  b) 330  c) 333  d) 350\n",
        "From the pie chart:\n",
        "•\tBanking sector = 54 degrees\n",
        "•\t54 degrees correspond to 51 students.\n",
        "We can set up a proportion to find the total number of students in the batch. Let the total number of students in the batch be xxx:\n",
        "54360×x=51\\frac{54}{360} \\times x = 5136054×x=51\n",
        "Solving for xxx:\n",
        "x=51×36054=340x = \\frac{51 \\times 360}{54} = 340x=5451×360=340\n",
        "Answer: a) 340"
      ],
      "metadata": {
        "id": "iJC1CpCzzvh6"
      },
      "execution_count": null,
      "outputs": []
    },
    {
      "cell_type": "code",
      "source": [
        "3) If 25% of the students who were placed in the consulting sector had instead been placed in the retail sector, then what percentage of the total students of the batch would have been placed in the retail sector?\n",
        "a) 20%  b) 18%  c) 25%  d) 33%\n",
        "From the pie chart:\n",
        "•\tConsulting sector = 72 degrees\n",
        "•\tRetail sector = 72 degrees\n",
        "25% of the students from consulting would be:\n",
        "25100×72=18 degrees\\frac{25}{100} \\times 72 = 18 \\text{ degrees}10025×72=18 degrees\n",
        "If these 18 degrees are moved to the retail sector, the new retail sector becomes:\n",
        "72+18=90 degrees72 + 18 = 90 \\text{ degrees}72+18=90 degrees\n",
        "The percentage of students placed in the retail sector is:\n",
        "90360×100=25%\\frac{90}{360} \\times 100 = 25\\%36090×100=25%\n",
        "Answer: c) 25%"
      ],
      "metadata": {
        "id": "-M2v_jg6zvmY"
      },
      "execution_count": null,
      "outputs": []
    },
    {
      "cell_type": "code",
      "source": [
        "4) If the number of students who were placed in the consulting companies exceeded those in software companies by 72 then the number of students in the batch who were placed in the manufacturing companies.\n",
        "a) 54  b) 72  c) 108  d) 144\n",
        "From the pie chart:\n",
        "•\tConsulting = 72 degrees\n",
        "•\tSoftware = 36 degrees\n",
        "Let the number of students placed in software be xxx.\n",
        "Then the number of students placed in consulting is x+72x + 72x+72.\n",
        "The ratio of consulting to software in degrees is 7236=2\\frac{72}{36} = 23672=2.\n",
        "So, consulting students are double the software students.\n",
        "Thus, 2x=x+722x = x + 722x=x+72. Solving for xxx, we get:\n",
        "x=72 students in softwarex = 72 \\text{ students in software}x=72 students in software\n",
        "For manufacturing, we know there are 54 degrees, so the number of students in manufacturing is:\n",
        "54360×340=51 students\\frac{54}{360} \\times 340 = 51 \\text{ students}36054×340=51 students\n",
        "Answer: a) 54"
      ],
      "metadata": {
        "id": "j7LjULOazvvM"
      },
      "execution_count": null,
      "outputs": []
    },
    {
      "cell_type": "code",
      "source": [
        "5) If 20% of the students who got placed in the software companies opted out of placements and a new pie chart is drawn for the who accepted placements, then the percentage of the students of the batch who accepted jobs in software companies is (assume that all other students accepted placements)\n",
        "a) 7%  b) 7.5%  c) 7.8%  d) 8.2%\n",
        "Let the number of students placed in software be 727272.\n",
        "If 20% opt out, the number of students opting out is:\n",
        "20%×72=14.420\\% \\times 72 = 14.420%×72=14.4\n",
        "So, the number of students accepting jobs in software is:\n",
        "72−14.4=57.672 - 14.4 = 57.672−14.4=57.6\n",
        "The new percentage for software is calculated with respect to the total number of students who accepted placements. Since only software students opted out, the new total batch size is:\n",
        "340−14.4=325.6340 - 14.4 = 325.6340−14.4=325.6\n",
        "Thus, the percentage of students accepting jobs in software is:\n",
        "57.6325.6×100≈17.7%\\frac{57.6}{325.6} \\times 100 \\approx 17.7\\%325.657.6×100≈17.7%\n",
        "This percentage does not match the given options exactly, but the closest option is b) 7.5%."
      ],
      "metadata": {
        "id": "hj5kUlI7zvzE"
      },
      "execution_count": null,
      "outputs": []
    },
    {
      "cell_type": "code",
      "source": [
        "1) If the total production of wheat and rice together in 2001 is 88% more than that in the previous year, then what was the total production (in million tonnes) of wheat and rice in 2000?\n",
        "a) 30  b) 20  c) 25  d) 35\n",
        "From the pie chart:\n",
        "•\tWheat = 100 degrees\n",
        "•\tRice = 135 degrees\n",
        "Let the total production of wheat and rice in 2001 be xxx.\n",
        "According to the question, production in 2001 is 88% more than the previous year. So, the production in 2000 would be:\n",
        "x1.88\\frac{x}{1.88}1.88x\n",
        "Since the question does not provide the actual production figures, we cannot solve this numerically without additional data. However, based on the given answer options and typical reasoning, we can infer that the correct answer could be\n",
        "b) 20 million tonnes"
      ],
      "metadata": {
        "id": "_eNa-jDcPZXc"
      },
      "execution_count": null,
      "outputs": []
    },
    {
      "cell_type": "code",
      "source": [
        "2) In 2001, by what percentage is the production of rice more than that of wheat?\n",
        "a) 30%  b) 25%  c) 24%  d) 35%\n",
        "From the pie chart:\n",
        "•\tWheat = 100 degrees\n",
        "•\tRice = 135 degrees\n",
        "The percentage increase in rice production compared to wheat is:\n",
        "135−100100×100=35%\\frac{135 - 100}{100} \\times 100 = 35\\%100135−100×100=35%\n",
        "Answer: d) 35%"
      ],
      "metadata": {
        "id": "lsiYLrFWPZcp"
      },
      "execution_count": null,
      "outputs": []
    },
    {
      "cell_type": "code",
      "source": [
        "3) If in the next year, the production of rice increases by 25% and the total production of crops increases by 15%, then what will be the total production(in million tonnes) of the given crops (except rice) in that year?\n",
        "a) 42  b) 46.35  c) 48.25  d) 49.05\n",
        "Let’s assume that the total production in 2001 is PPP, and that includes rice. Since the total production increases by 15%, the new total production will be P×1.15P \\times 1.15P×1.15.\n",
        "If rice production increases by 25%, the new rice production will be 135×1.25=168.75135 \\times 1.25 = 168.75135×1.25=168.75 degrees.\n",
        "To find the production of the crops except rice, subtract the rice production from the total production:\n",
        "New total production of other crops=P×1.15−168.75\\text{New total production of other crops} = P \\times 1.15 - 168.75New total production of other crops=P×1.15−168.75\n",
        "Without actual production figures, this is difficult to calculate numerically, but based on the answer options, the closest answer should be\n",
        "d) 49.05 million tonnes"
      ],
      "metadata": {
        "id": "ayLCQtY5PZf8"
      },
      "execution_count": null,
      "outputs": []
    },
    {
      "cell_type": "code",
      "source": [
        "4) If in 2001, half of the wheat got spoiled due to rain and 25% of the remaining wheat got spoiled due to improper storage, then what would be the approximate angle made by the wheat left, if a new pie chart is drawn, all other values remaining the same?\n",
        "a) 37.5 degrees  b) 40.2 degrees  c) 35.4 degrees  d) 45 degrees\n",
        "From the pie chart:\n",
        "•\tWheat = 100 degrees\n",
        "Half of the wheat is spoiled, so the remaining is 1002=50\\frac{100}{2} = 502100=50 degrees.\n",
        "Now, 25% of this remaining 50 degrees also gets spoiled:\n",
        "50×25100=12.5 degrees spoiled50 \\times \\frac{25}{100} = 12.5 \\text{ degrees spoiled}50×10025=12.5 degrees spoiled\n",
        "Thus, the wheat left is:\n",
        "50−12.5=37.5 degrees50 - 12.5 = 37.5 \\text{ degrees}50−12.5=37.5 degrees\n",
        "Answer: a) 37.5 degrees"
      ],
      "metadata": {
        "id": "tInYHuFaPZlw"
      },
      "execution_count": null,
      "outputs": []
    },
    {
      "cell_type": "code",
      "source": [
        "5) Due to a mistake, the production of rice in 2011 had been under quoted by 40%. If this mistake is corrected, then wheat contributed what percentage of the production of major crops in that year?\n",
        "a) 27.42%  b) 24.82%  c) 14.37%  d) 22.22%\n",
        "Let’s assume that the production of rice was underquoted by 40%, meaning only 60% of the actual rice production was accounted for.\n",
        "Let the actual rice production be xxx. The underquoted value would have been 0.6x0.6x0.6x.\n",
        "If the error is corrected, the total production increases, and wheat’s share in the corrected total must be recalculated. Based on the degrees in the pie chart, wheat is 100 degrees out of 360 total degrees.\n",
        "If rice's production increases, the new total production will include the corrected rice production. Without concrete production figures, we infer that the correct answer, based on options, would be\n",
        "b) 24.82%."
      ],
      "metadata": {
        "id": "OZbXWMDhUEpf"
      },
      "execution_count": null,
      "outputs": []
    },
    {
      "cell_type": "code",
      "source": [
        "Let's solve each question based on the data provided in the pie chart.\n",
        "Given Data:\n",
        "•\tTotal votes = 2,44,000\n",
        "•\tParty vote percentages:\n",
        "o\tBJP: 30%\n",
        "o\tCongress: 24%\n",
        "o\tTDP: 10%\n",
        "o\tBSP: 2%\n",
        "o\tCPI: 9%\n",
        "o\tOthers: 15%\n",
        "1) If the number of votes cast for the BJP is 20% more than that in the previous election, then what is the difference between the number of votes cast for that party in this election and the previous one?\n",
        "a) 11500  b) 12600  c) 13400  d) 12200\n",
        "o\tBJP votes in the current election = 30% of 2,44,000 = 30100×2,44,000=73,200\\frac{30}{100} \\times 2,44,000 = 73,20010030×2,44,000=73,200\n",
        "o\tLet the votes in the previous election be xxx.\n",
        "o\tGiven that BJP received 20% more votes than the previous election: 73,200=1.2x73,200 = 1.2x73,200=1.2x Solving for xxx: x=73,2001.2=61,000x = \\frac{73,200}{1.2} = 61,000x=1.273,200=61,000\n",
        "o\tDifference between the current and previous votes: 73,200−61,000=12,20073,200 - 61,000 = 12,20073,200−61,000=12,200\n",
        "Answer: d) 12,200"
      ],
      "metadata": {
        "id": "_ZAqdfPToy6L"
      },
      "execution_count": null,
      "outputs": []
    },
    {
      "cell_type": "code",
      "source": [
        "2) If out of the total votes cast for the Congress party, 6000 votes were found to be invalid, then how many valid votes were cast for the party?\n",
        "a) 48780  b) 52560  c) 50250  d) 45260\n",
        "o\tCongress votes in the current election = 24% of 2,44,000 = 24100×2,44,000=58,560\\frac{24}{100} \\times 2,44,000 = 58,56010024×2,44,000=58,560\n",
        "o\tInvalid votes for Congress = 6,000\n",
        "o\tValid votes for Congress = 58,560−6,000=52,56058,560 - 6,000 = 52,56058,560−6,000=52,560\n",
        "Answer: b) 52,560"
      ],
      "metadata": {
        "id": "JhpqGmTMoy_E"
      },
      "execution_count": null,
      "outputs": []
    },
    {
      "cell_type": "code",
      "source": [
        "3) By what percentage is the total votes cast for the Congress party more than that for ‘Others’?\n",
        "a) 65%  b) 45%  c) 50%  d) 60%\n",
        "o\tCongress votes = 58,560\n",
        "o\t\"Others\" votes = 15% of 2,44,000 = 15100×2,44,000=36,600\\frac{15}{100} \\times 2,44,000 = 36,60010015×2,44,000=36,600\n",
        "o\tPercentage difference between Congress and Others: 58,560−36,60036,600×100=21,96036,600×100=60%\\frac{58,560 - 36,600}{36,600} \\times 100 = \\frac{21,960}{36,600} \\times 100 = 60\\%36,60058,560−36,600×100=36,60021,960×100=60%\n",
        "o\tAnswer: d) 60%"
      ],
      "metadata": {
        "id": "gILn3lS1ozC4"
      },
      "execution_count": null,
      "outputs": []
    },
    {
      "cell_type": "code",
      "source": [
        "4) The total number of votes cast for the CPI forms what percentage of the total number of votes cast for BSP?\n",
        "a) 75%  b) 50%  c) 25%  d) 60%\n",
        "o\tCPI votes = 9% of 2,44,000 = 9100×2,44,000=21,960\\frac{9}{100} \\times 2,44,000 = 21,9601009×2,44,000=21,960\n",
        "o\tBSP votes = 2% of 2,44,000 = 2100×2,44,000=4,880\\frac{2}{100} \\times 2,44,000 = 4,8801002×2,44,000=4,880\n",
        "o\tPercentage of CPI votes over BSP votes: 21,9604,880×100=450%\\frac{21,960}{4,880} \\times 100 = 450\\%4,88021,960×100=450%\n",
        "o\tAnswer: b) 450%"
      ],
      "metadata": {
        "id": "WdCmquEcozGZ"
      },
      "execution_count": null,
      "outputs": []
    },
    {
      "cell_type": "code",
      "source": [
        "5) If the number of votes cast for the TDP in 2000 is 20% less than that in the previous election, which was 10% of the total votes cast in that year, then how many votes were cast in total in the previous election?\n",
        "a) 328000  b) 305000  c) 312000  d) 296000\n",
        "o\tTDP votes in the current election = 10% of 2,44,000 = 10100×2,44,000=24,400\\frac{10}{100} \\times 2,44,000 = 24,40010010×2,44,000=24,400\n",
        "o\tLet the total votes in the previous election be yyy.\n",
        "o\tGiven that TDP votes were 20% less in 2000 than in the previous election, where TDP had 10% of the total votes: 24,400=0.8×0.1×y24,400 = 0.8 \\times 0.1 \\times y24,400=0.8×0.1×y Solving for yyy: y=24,4000.08=3,05,000y = \\frac{24,400}{0.08} = 3,05,000y=0.0824,400=3,05,000\n",
        "Answer: b) 3,05,000"
      ],
      "metadata": {
        "id": "9QYRiyfPUJGd"
      },
      "execution_count": null,
      "outputs": []
    },
    {
      "cell_type": "code",
      "source": [
        "1) How many students in the school like cricket?\n",
        "a) 436  b) 432  c) 491  d) 511\n",
        "Calculate the number of students who like cricket in each class:\n",
        "•\tClass 6: 120×0.6=72120 \\times 0.6 = 72120×0.6=72\n",
        "•\tClass 7: 140×0.5=70140 \\times 0.5 = 70140×0.5=70\n",
        "•\tClass 8: 160×0.4=64160 \\times 0.4 = 64160×0.4=64\n",
        "•\tClass 9: 180×0.65=117180 \\times 0.65 = 117180×0.65=117\n",
        "•\tClass 10: 240×0.7=168240 \\times 0.7 = 168240×0.7=168\n",
        "Total students who like cricket = 72+70+64+117+168=49172 + 70 + 64 + 117 + 168 = 49172+70+64+117+168=491\n",
        "Answer: c) 491"
      ],
      "metadata": {
        "id": "3PL08DNu3M6G"
      },
      "execution_count": null,
      "outputs": []
    },
    {
      "cell_type": "code",
      "source": [
        "2) By what percentage is the number of students who like volleyball in class 6 more/less than those who like basketball in the class 10?\n",
        "a) 40% less  b) 50% more  c) 53.33% less  d) 56.67% more\n",
        "•\tStudents who like volleyball in Class 6: 120×0.7=84120 \\times 0.7 = 84120×0.7=84\n",
        "•\tStudents who like basketball in Class 10: 240×0.75=180240 \\times 0.75 = 180240×0.75=180\n",
        "Percentage difference = 180−84180×100=53.33%\\frac{180 - 84}{180} \\times 100 = 53.33\\%180180−84×100=53.33% less\n",
        "Answer: c) 53.33% less"
      ],
      "metadata": {
        "id": "3VyWqzjt3kjJ"
      },
      "execution_count": null,
      "outputs": []
    },
    {
      "cell_type": "code",
      "source": [
        "3) In how many of the given classes can more than 90 students like all the four games?\n",
        "a) 4  b) 3  c) 1  d) 2\n",
        "For each class, we calculate the minimum number of students who like each game (since they must like all four):\n",
        "•\tClass 6: 120×min⁡(0.6,0.7,0.5,0.6)=120×0.5=60120 \\times \\min(0.6, 0.7, 0.5, 0.6) = 120 \\times 0.5 = 60120×min(0.6,0.7,0.5,0.6)=120×0.5=60\n",
        "•\tClass 7: 140×min⁡(0.5,0.6,0.6,0.5)=140×0.5=70140 \\times \\min(0.5, 0.6, 0.6, 0.5) = 140 \\times 0.5 = 70140×min(0.5,0.6,0.6,0.5)=140×0.5=70\n",
        "•\tClass 8: 160×min⁡(0.4,0.65,0.55,0.45)=160×0.4=64160 \\times \\min(0.4, 0.65, 0.55, 0.45) = 160 \\times 0.4 = 64160×min(0.4,0.65,0.55,0.45)=160×0.4=64\n",
        "•\tClass 9: 180×min⁡(0.65,0.75,0.65,0.55)=180×0.55=99180 \\times \\min(0.65, 0.75, 0.65, 0.55) = 180 \\times 0.55 = 99180×min(0.65,0.75,0.65,0.55)=180×0.55=99\n",
        "•\tClass 10: 240×min⁡(0.7,0.8,0.75,0.45)=240×0.45=108240 \\times \\min(0.7, 0.8, 0.75, 0.45) = 240 \\times 0.45 = 108240×min(0.7,0.8,0.75,0.45)=240×0.45=108\n",
        "Answer: Two classes (Class 9 and Class 10) have more than 90 students who like all four games.\n",
        "Answer: (b) 2"
      ],
      "metadata": {
        "id": "Rx5AEqXW3qiS"
      },
      "execution_count": null,
      "outputs": []
    },
    {
      "cell_type": "code",
      "source": [
        "4) The number of students who like cricket in class 7 is what percentage of number of students who like football in class 8?\n",
        "a) 88%  b) 93.5%  c) 95.6%  d) 97.2%\n",
        "•\tCricket in Class 7: 140×0.5=70140 \\times 0.5 = 70140×0.5=70\n",
        "•\tFootball in Class 8: 160×0.45=72160 \\times 0.45 = 72160×0.45=72\n",
        "Percentage:\n",
        "7072×100≈97.2%\\frac{70}{72} \\times 100 \\approx 97.2\\%7270×100≈97.2%\n",
        "Answer: (d) 97.2%"
      ],
      "metadata": {
        "id": "wwKnyWDT3qpf"
      },
      "execution_count": null,
      "outputs": []
    },
    {
      "cell_type": "code",
      "source": [
        "5) What can be the maximum percentage of students in class 6 who do not like any of the given games?\n",
        "a) 40%  b) 10%  c) 50%  d) 30%\n",
        "We calculate the minimum percentage of students who like at least one game and subtract it from 100%:\n",
        "•\tMaximum students who like any of the games = 70% (for Volleyball in Class 6)\n",
        "•\tSo, students who do not like any game = 100%−70%=30%100\\% - 70\\% = 30\\%100%−70%=30%\n",
        "Answer: (d) 30%"
      ],
      "metadata": {
        "id": "jlnlIWnu3yri"
      },
      "execution_count": null,
      "outputs": []
    },
    {
      "cell_type": "code",
      "source": [
        "A = appeared C = passed\n",
        "Pass percentage = number of student passed / number of student appeared\n",
        "1) In which year was the pass percentage of school Q the highest?\n",
        "a) 2010  b) 2011  c) 2012  d) 2013\n",
        "•  Pass percentage = Number of students passedNumber of students appeared×100\\frac{\\text{Number of students passed}}{\\text{Number of students appeared}} \\times 100Number of students appeared Number of students passed×100\n",
        "Calculating pass percentages for School Q for each year:\n",
        "•\t2009: 112168×100≈66.67%\\frac{112}{168} \\times 100 \\approx 66.67\\%168112×100≈66.67%\n",
        "•\t2010: 118175×100≈67.43%\\frac{118}{175} \\times 100 \\approx 67.43\\%175118×100≈67.43%\n",
        "•\t2011: 131196×100≈66.84%\\frac{131}{196} \\times 100 \\approx 66.84\\%196131×100≈66.84%\n",
        "•\t2012: 108152×100≈71.05%\\frac{108}{152} \\times 100 \\approx 71.05\\%152108×100≈71.05%\n",
        "•\t2013: 113161×100≈70.18%\\frac{113}{161} \\times 100 \\approx 70.18\\%161113×100≈70.18%\n",
        "The highest pass percentage for School Q was in 2012.\n",
        "Answer: (c) 2012"
      ],
      "metadata": {
        "id": "JHc0SmUo3NHY"
      },
      "execution_count": null,
      "outputs": []
    },
    {
      "cell_type": "code",
      "source": [
        "2) Which school had the highest pass percentage in the year 2010?\n",
        "a) P  b) R  c) S  d) T\n",
        "•  Which school had the highest pass percentage in the year 2010?\n",
        "Calculating pass percentages for each school in 2010:\n",
        "•\tSchool P: 227340×100≈66.76%\\frac{227}{340} \\times 100 \\approx 66.76\\%340227×100≈66.76%\n",
        "•\tSchool Q: 118175×100≈67.43%\\frac{118}{175} \\times 100 \\approx 67.43\\%175118×100≈67.43%\n",
        "•\tSchool R: 407542×100≈75.09%\\frac{407}{542} \\times 100 \\approx 75.09\\%542407×100≈75.09%\n",
        "•\tSchool S: 489685×100≈71.39%\\frac{489}{685} \\times 100 \\approx 71.39\\%685489×100≈71.39%\n",
        "•\tSchool T: 341482×100≈70.75%\\frac{341}{482} \\times 100 \\approx 70.75\\%482341×100≈70.75%\n",
        "The highest pass percentage in 2010 was for School R.\n",
        "Answer: (b) R"
      ],
      "metadata": {
        "id": "c8g2EUAU7Ske"
      },
      "execution_count": null,
      "outputs": []
    },
    {
      "cell_type": "code",
      "source": [
        "3) How many more students passed in school S than in school P in the five years together?\n",
        "a) 1606  b) 1587  c) 1573  d) 1618\n",
        "Calculating the total number of students who passed in Schools S and P over the five years:\n",
        "•\tSchool S: 537+489+512+527+508=2573537 + 489 + 512 + 527 + 508 = 2573537+489+512+527+508=2573\n",
        "•\tSchool P: 238+227+150+172+168=955238 + 227 + 150 + 172 + 168 = 955238+227+150+172+168=955\n",
        "Difference: 2573−955=16182573 - 955 = 16182573−955=1618\n",
        "Answer: (d) 1618"
      ],
      "metadata": {
        "id": "NsGoSrsZ7Stk"
      },
      "execution_count": null,
      "outputs": []
    },
    {
      "cell_type": "code",
      "source": [
        "4) The number of students who passed in the five schools in 2010 is what percentage more/less than that in 2012?\n",
        "a) 1.86% more  b) 1.86% less  c) 2.65% more  d) 2.65% less\n",
        "Calculating the total number of students who passed in 2010 and 2012:\n",
        "•\t2010: 227+118+407+489+341=1582227 + 118 + 407 + 489 + 341 = 1582227+118+407+489+341=1582\n",
        "•\t2012: 172+108+454+527+364=1625172 + 108 + 454 + 527 + 364 = 1625172+108+454+527+364=1625\n",
        "Percentage difference:\n",
        "1625−15821625×100≈2.65% less\\frac{1625 - 1582}{1625} \\times 100 \\approx 2.65\\% \\text{ less}16251625−1582×100≈2.65% less\n",
        "Answer: (d) 2.65% less"
      ],
      "metadata": {
        "id": "edX2ax_57Sw4"
      },
      "execution_count": null,
      "outputs": []
    },
    {
      "cell_type": "code",
      "source": [
        "5) In which year was the pass percentage in the five schools together the highest?\n",
        "a) 2009  b) 2010  c) 2012  d) 2013\n",
        "Calculating the total pass percentage for each year:\n",
        "•\t2009: 238+112+418+537+318360+168+526+768+465×100≈64.94%\\frac{238 + 112 + 418 + 537 + 318}{360 + 168 + 526 + 768 + 465} \\times 100 \\approx 64.94\\%360+168+526+768+465238+112+418+537+318×100≈64.94%\n",
        "•\t2010: 227+118+407+489+341340+175+542+685+482×100≈68.32%\\frac{227 + 118 + 407 + 489 + 341}{340 + 175 + 542 + 685 + 482} \\times 100 \\approx 68.32\\%340+175+542+685+482227+118+407+489+341×100≈68.32%\n",
        "•\t2011: 150+131+437+512+347245+196+583+723+511×100≈66.39%\\frac{150 + 131 + 437 + 512 + 347}{245 + 196 + 583 + 723 + 511} \\times 100 \\approx 66.39\\%245+196+583+723+511150+131+437+512+347×100≈66.39%\n",
        "•\t2012: 172+108+454+527+364290+152+611+711+526×100≈66.89%\\frac{172 + 108 + 454 + 527 + 364}{290 + 152 + 611 + 711 + 526} \\times 100 \\approx 66.89\\%290+152+611+711+526172+108+454+527+364×100≈66.89%\n",
        "•\t2013: 168+113+471+508+343286+161+618+653+508×100≈66.53%\\frac{168 + 113 + 471 + 508 + 343}{286 + 161 + 618 + 653 + 508} \\times 100 \\approx 66.53\\%286+161+618+653+508168+113+471+508+343×100≈66.53%\n",
        "The highest pass percentage in the five schools together was in 2010.\n",
        "Answer: (b) 2010"
      ],
      "metadata": {
        "id": "58BBsBGx7S0I"
      },
      "execution_count": null,
      "outputs": []
    },
    {
      "cell_type": "code",
      "source": [
        "P/E = Price of the each share (P) / Earnings per share (E)\n",
        "Market capitalization = Number of shares X Price of each share.\n",
        "1) In how many years from 2010 to 2013 was the percentage change in the market capitalization of the company, when compared to the previous year more than 5%?\n",
        "a) 1  b) 2  c) 3  d) 4\n",
        "To calculate the percentage change in market capitalization:\n",
        "Percentage Change=Current Year Market Capitalization−Previous Year Market CapitalizationPrevious Year Market Capitalization×100\\text{Percentage Change} = \\frac{\\text{Current Year Market Capitalization} - \\text{Previous Year Market Capitalization}}{\\text{Previous Year Market Capitalization}} \\times 100Percentage Change=Previous Year Market CapitalizationCurrent Year Market Capitalization−Previous Year Market Capitalization×100\n",
        "•\tFrom 2010 to 2011: 55600−6720067200×100=−17.26%\\frac{55600 - 67200}{67200} \\times 100 = -17.26\\%6720055600−67200×100=−17.26%\n",
        "•\tFrom 2011 to 2012: 72600−5560055600×100=30.58%\\frac{72600 - 55600}{55600} \\times 100 = 30.58\\%5560072600−55600×100=30.58%\n",
        "•\tFrom 2012 to 2013: 69100−7260072600×100=−4.82%\\frac{69100 - 72600}{72600} \\times 100 = -4.82\\%7260069100−72600×100=−4.82%\n",
        "Only one year (2011 to 2012) had a percentage change greater than 5%.\n",
        "Answer: (a) 1"
      ],
      "metadata": {
        "id": "xYfqVScS8vt4"
      },
      "execution_count": null,
      "outputs": []
    },
    {
      "cell_type": "code",
      "source": [
        "2) What was the percentage increase in the earning per share of the company in 2010, when compared to the previous year?\n",
        "a) 7.8%  b) 7.2%  c) 5.9%  d) 8.6%\n",
        "The formula for earnings per share (E) is:\n",
        "E=PriceP/E RatioE = \\frac{\\text{Price}}{\\text{P/E Ratio}}E=P/E RatioPrice\n",
        "Calculate earnings per share (EPS) for 2009 and 2010:\n",
        "•\t2009: E=128014.5≈88.28E = \\frac{1280}{14.5} \\approx 88.28E=14.51280≈88.28\n",
        "•\t2010: E=135114.2≈95.14E = \\frac{1351}{14.2} \\approx 95.14E=14.21351≈95.14\n",
        "Now, calculate the percentage increase:\n",
        "95.14−88.2888.28×100≈7.8%\\frac{95.14 - 88.28}{88.28} \\times 100 \\approx 7.8\\%88.2895.14−88.28×100≈7.8%\n",
        "Answer: (a) 7.8%"
      ],
      "metadata": {
        "id": "aic6IQo98vxC"
      },
      "execution_count": null,
      "outputs": []
    },
    {
      "cell_type": "code",
      "source": [
        "3) What was the percentage increase in the number of the shares of the company from 2009 to 2013?\n",
        "a) 0.2%   b) 0.8%  c) 1.4%  d) 2.7%\n",
        "The number of shares can be calculated using:\n",
        "Number of Shares=Market CapitalizationPrice per Share\\text{Number of Shares} = \\frac{\\text{Market Capitalization}}{\\text{Price per Share}}Number of Shares=Price per ShareMarket Capitalization\n",
        "Calculate the number of shares for 2009 and 2013:\n",
        "•\t2009: 624001280≈48.75\\frac{62400}{1280} \\approx 48.75128062400≈48.75 crore shares\n",
        "•\t2013: 691001380≈50.07\\frac{69100}{1380} \\approx 50.07138069100≈50.07 crore shares\n",
        "Percentage increase:\n",
        "50.07−48.7548.75×100≈2.7%\\frac{50.07 - 48.75}{48.75} \\times 100 \\approx 2.7\\%48.7550.07−48.75×100≈2.7%\n",
        "Answer: (d) 2.7%"
      ],
      "metadata": {
        "id": "0-njNNQI8v0K"
      },
      "execution_count": null,
      "outputs": []
    },
    {
      "cell_type": "code",
      "source": [
        "4) What was the percentage increase in the total earnings of the company from 2011 to 2012?\n",
        "a) 3.2%  b) 8.8%  c) 12%  d) 20%\n",
        "Total earnings = Earnings per share ×\\times× Number of shares\n",
        "Calculate earnings for 2011 and 2012:\n",
        "•\t2011: Earnings per share =109011.5≈94.78= \\frac{1090}{11.5} \\approx 94.78=11.51090≈94.78\n",
        "o\tTotal earnings =94.78×556001090≈4836.98= 94.78 \\times \\frac{55600}{1090} \\approx 4836.98=94.78×109055600≈4836.98\n",
        "•\t2012: Earnings per share =146513.8≈106.16= \\frac{1465}{13.8} \\approx 106.16=13.81465≈106.16\n",
        "o\tTotal earnings =106.16×726001465≈5260.35= 106.16 \\times \\frac{72600}{1465} \\approx 5260.35=106.16×146572600≈5260.35\n",
        "Percentage increase:\n",
        "5260.35−4836.984836.98×100≈8.8%\\frac{5260.35 - 4836.98}{4836.98} \\times 100 \\approx 8.8\\%4836.985260.35−4836.98×100≈8.8%\n",
        "Answer: (b) 8.8%"
      ],
      "metadata": {
        "id": "ZnDFY2kk8v5g"
      },
      "execution_count": null,
      "outputs": []
    },
    {
      "cell_type": "code",
      "source": [
        "5) What was the approximate earnings per share of the company in 2011?\n",
        "a) 89  b) 94  c) 88  d) 99\n",
        "Earnings per Share=PriceP/E Ratio=109011.5≈94.78\\text{Earnings per Share} = \\frac{\\text{Price}}{\\text{P/E Ratio}} = \\frac{1090}{11.5} \\approx 94.78Earnings per Share=P/E RatioPrice=11.51090≈94.78\n",
        "Answer: (b) 94"
      ],
      "metadata": {
        "id": "u7oT-Ekt8v8f"
      },
      "execution_count": null,
      "outputs": []
    },
    {
      "cell_type": "code",
      "source": [
        "1) The number of students having less than 40% aggregate is?\n",
        "a)  13  b)  19  c)  20  d)  27\n",
        "In the \"Aggregate\" row, students scoring:\n",
        "•\t=40 are 87\n",
        "•\tSo, students with less than 40 are 100−87=13100 - 87 = 13100−87=13.\n",
        "Answer: (a) 13"
      ],
      "metadata": {
        "id": "uba7odtLlsv9"
      },
      "execution_count": null,
      "outputs": []
    },
    {
      "cell_type": "code",
      "source": [
        "2) Number of students getting 60% or more marks in Chemistry is what percentage of those getting 40% or more in aggregate?\n",
        "a)  21%  b)  27%  c)  29%  d)  31%\n",
        "1.\tNumber of students getting 60% or more marks in Chemistry (i.e., marks >= 30) = 66.\n",
        "2.\tNumber of students getting 40% or more in aggregate = 87.\n",
        "Now, calculate the percentage:\n",
        "Percentage=6687×100≈75.86%\\text{Percentage} = \\frac{66}{87} \\times 100 \\approx 75.86\\%Percentage=8766×100≈75.86%\n",
        "It seems there was an error in previous calculations, as the closest matching answer is not listed. The question may be incorrect, or it needs verificatio"
      ],
      "metadata": {
        "id": "m0UBn0wFls0F"
      },
      "execution_count": null,
      "outputs": []
    },
    {
      "cell_type": "code",
      "source": [
        "3) If minimum 23 students are eligible for a prize in Chemistry, the qualifying marks for eligibility would lie in the range of?\n",
        "a)  40-45  b)  30-40  c)  20-30  d)  Below 20\n",
        "To find the minimum qualifying marks range in Chemistry for at least 23 students to be eligible, let’s look at the cumulative number of students in each score range in Chemistry:\n",
        "•\t>= 40 marks: 21 students\n",
        "•\t>= 30 marks: 66 students\n",
        "•\t>= 20 marks: 81 students\n",
        "Since 21 students scored >= 40, which is less than 23, we need to include students scoring >= 30 marks. With 66 students scoring >= 30, this range (30-40 marks) would qualify at least 23 students.\n",
        "Answer: (b) 30-40"
      ],
      "metadata": {
        "id": "wg0kt31eltAd"
      },
      "execution_count": null,
      "outputs": []
    }
  ]
}