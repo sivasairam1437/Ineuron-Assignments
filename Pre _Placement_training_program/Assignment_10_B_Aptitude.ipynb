{
  "nbformat": 4,
  "nbformat_minor": 0,
  "metadata": {
    "colab": {
      "provenance": []
    },
    "kernelspec": {
      "name": "python3",
      "display_name": "Python 3"
    },
    "language_info": {
      "name": "python"
    }
  },
  "cells": [
    {
      "cell_type": "code",
      "source": [
        "Linear Equations:"
      ],
      "metadata": {
        "id": "AvgcPCNsumjm"
      },
      "execution_count": null,
      "outputs": []
    },
    {
      "cell_type": "code",
      "execution_count": null,
      "metadata": {
        "id": "9x-dA-4Ah8mK"
      },
      "outputs": [],
      "source": [
        "1) Find x & y: 1/(x–y) + 5/(3x–2y)=2 and 15/(3x–2y) – 2/(x–y)=1\n",
        "a) x=3, y=2 b) x=2, y=3 c) x=4, y=5 d) x=5, y=4\n",
        "Given:\n",
        "1x−y+53x−2y=2(1)\\frac{1}{x - y} + \\frac{5}{3x - 2y} = 2 \\quad \\text{(1)}x−y1+3x−2y5=2(1) 153x−2y−2x−y=1(2)\\frac{15}{3x - 2y} - \\frac{2}{x - y} = 1 \\quad \\text{(2)}3x−2y15−x−y2=1(2)\n",
        "Let a=1x−ya = \\frac{1}{x - y}a=x−y1 and b=13x−2yb = \\frac{1}{3x - 2y}b=3x−2y1. We now have:\n",
        "a+5b=2(3)a + 5b = 2 \\quad \\text{(3)}a+5b=2(3) 15b−2a=1(4)15b - 2a = 1 \\quad \\text{(4)}15b−2a=1(4)\n",
        "Solving these two equations, we get: Multiply (3) by 2:\n",
        "2a+10b=4(5)2a + 10b = 4 \\quad \\text{(5)}2a+10b=4(5)\n",
        "Now, add (4) and (5):\n",
        "2a+10b+15b−2a=4+1  ⟹  25b=5  ⟹  b=152a + 10b + 15b - 2a = 4 + 1 \\implies 25b = 5 \\implies b = \\frac{1}{5}2a+10b+15b−2a=4+1⟹25b=5⟹b=51\n",
        "Substitute b=15b = \\frac{1}{5}b=51 into (3):\n",
        "a+5×15=2  ⟹  a=1a + 5 \\times \\frac{1}{5} = 2 \\implies a = 1a+5×51=2⟹a=1\n",
        "So, 1x−y=1  ⟹  x−y=1\\frac{1}{x - y} = 1 \\implies x - y = 1x−y1=1⟹x−y=1 and 13x−2y=15  ⟹  3x−2y=5\\frac{1}{3x - 2y} = \\frac{1}{5} \\implies 3x - 2y = 53x−2y1=51⟹3x−2y=5.\n",
        "Solving these two equations:\n",
        "x−y=1and3x−2y=5x - y = 1 \\quad \\text{and} \\quad 3x - 2y = 5x−y=1and3x−2y=5\n",
        "Substitute x=y+1x = y + 1x=y+1 into 3x−2y=53x - 2y = 53x−2y=5:\n",
        "3(y+1)−2y=5  ⟹  3y+3−2y=5  ⟹  y=23(y + 1) - 2y = 5 \\implies 3y + 3 - 2y = 5 \\implies y = 23(y+1)−2y=5⟹3y+3−2y=5⟹y=2\n",
        "Substitute y=2y = 2y=2 into x−y=1x - y = 1x−y=1:\n",
        "x−2=1  ⟹  x=3x - 2 = 1 \\implies x = 3x−2=1⟹x=3\n",
        "Answer: a) x=3,y=2x = 3, y = 2x=3,y=2"
      ]
    },
    {
      "cell_type": "code",
      "source": [
        "2) Five burgers, six pizzas and seven cold drinks cost Rs 178 and\n",
        "six burgers, four pizzas and two cold drinks cost Rs 124. What is\n",
        "the cost of 3 (pizzas + burgers + cold drinks)?\n",
        "a) Rs 60 b) Rs 62.5 c) Rs 90 d) Cannot be determined\n",
        "Cost of 5 burgers, 6 pizzas, and 7 cold drinks is Rs 178. Cost of 6 burgers, 4 pizzas, and 2 cold drinks is Rs 124. Let the costs of one burger, one pizza, and one cold drink be b,p,b, p,b,p, and ccc, respectively.\n",
        "We have:\n",
        "5b+6p+7c=178(1)5b + 6p + 7c = 178 \\quad \\text{(1)}5b+6p+7c=178(1) 6b+4p+2c=124(2)6b + 4p + 2c = 124 \\quad \\text{(2)}6b+4p+2c=124(2)\n",
        "Multiplying (2) by 3 and subtracting (1):\n",
        "18b+12p+6c−5b−6p−7c=372−178  ⟹  13b+6p−c=194(3)18b + 12p + 6c - 5b - 6p - 7c = 372 - 178 \\implies 13b + 6p - c = 194 \\quad \\text{(3)}18b+12p+6c−5b−6p−7c=372−178⟹13b+6p−c=194(3)\n",
        "This is not enough information to uniquely determine b+p+cb + p + cb+p+c.\n",
        "Answer: d) Cannot be determined"
      ],
      "metadata": {
        "id": "df2I4qpPdq_r"
      },
      "execution_count": null,
      "outputs": []
    },
    {
      "cell_type": "code",
      "source": [
        "3) How many non–negative pair of integers (x, y) satisfy the\n",
        "equation: 3x+4y=21?\n",
        "a) 0 b) 1 c) 2 d) 3\n",
        "Solve for x:\n",
        "x=21−4y3x = \\frac{21 - 4y}{3}x=321−4y\n",
        "For xxx to be an integer, 21−4y21 - 4y21−4y must be divisible by 3. Check for values of y:\n",
        "•\ty=0y = 0y=0: 3x=21  ⟹  x=73x = 21 \\implies x = 73x=21⟹x=7\n",
        "•\ty=3y = 3y=3: 3x=9  ⟹  x=33x = 9 \\implies x = 33x=9⟹x=3\n",
        "•\ty=6y = 6y=6: 3x=−3  ⟹  x=−13x = -3 \\implies x = -13x=−3⟹x=−1 (not valid)\n",
        "So, there are 2 solutions: (7,0)(7, 0)(7,0) and (3,3)(3, 3)(3,3).\n",
        "Answer: c) 2"
      ],
      "metadata": {
        "id": "O32ck8-idrDX"
      },
      "execution_count": null,
      "outputs": []
    },
    {
      "cell_type": "code",
      "source": [
        "4) Nobody knows how old Aunt Helen is, but she gave a few\n",
        "hints. She had passed 1/20 of her life before she started\n",
        "school. She spent 3/20 of her life in school and worked for\n",
        "1/10 of her life before she got married. She was married for\n",
        "2/5 of her life. Her husband died after 7/10 of her life.\n",
        "After reading Uncle Harry's gravestone, you find out that she\n",
        "has been a widow for 24 years. How old is Aunt Helen?\n",
        "a) 60 years b) 75 years c) 80 years d) 90 years\n",
        "Aunt Helen has been a widow for 24 years, and her life phases are described. Let her total life be xxx.\n",
        "The breakdown of her life phases is:\n",
        "•\t120\\frac{1}{20}201 for early life,\n",
        "•\t320\\frac{3}{20}203 for school,\n",
        "•\t110\\frac{1}{10}101 for work,\n",
        "•\t25\\frac{2}{5}52 for marriage.\n",
        "Her husband died after 710\\frac{7}{10}107 of her life, meaning she was married for 25\\frac{2}{5}52. Since she has been a widow for 24 years:\n",
        "x−710x=24  ⟹  310x=24  ⟹  x=80x - \\frac{7}{10}x = 24 \\implies \\frac{3}{10}x = 24 \\implies x = 80x−107x=24⟹103x=24⟹x=80\n",
        "Answer: c) 80 years"
      ],
      "metadata": {
        "id": "KoaMfz5OdrGV"
      },
      "execution_count": null,
      "outputs": []
    },
    {
      "cell_type": "code",
      "source": [
        "5) Virat wanted to buy both pens and pencils. He had $19 with\n",
        "him. If each pen costs $1.5 and each pencil costs $0.8, what is\n",
        "the maximum number of items that he can buy, if he plans to\n",
        "exhaust all the money he has?\n",
        "a) 16 b) 18 c) 20 d) 22\n",
        "Virat has $19 and wants to buy pens at $1.5 each and pencils at $0.8 each. Let the number of pens be ppp and pencils be ccc.\n",
        "The equation is:\n",
        "1.5p+0.8c=191.5p + 0.8c = 191.5p+0.8c=19\n",
        "Try different combinations of ppp and ccc that satisfy this equation. The maximum number of items (pens + pencils) is 16 when p=8p = 8p=8 and c=8c = 8c=8.\n",
        "Answer: a) 16"
      ],
      "metadata": {
        "id": "lD1hQvKOdrIm"
      },
      "execution_count": null,
      "outputs": []
    },
    {
      "cell_type": "code",
      "source": [
        "6) If a/b=(x–1)/(x+1), b/c=(y–1)/(y+1) and c/a=(z–1)/(z+1),\n",
        "which of the following is true?\n",
        "a) xyz=1 b) x+y+z=0 c) xy+yz+zx = –1 d) x2+y2+z2 = xy+yz+zx\n",
        "Given ab=x−1x+1\\frac{a}{b} = \\frac{x-1}{x+1}ba=x+1x−1, bc=y−1y+1\\frac{b}{c} = \\frac{y-1}{y+1}cb=y+1y−1, ca=z−1z+1\\frac{c}{a} = \\frac{z-1}{z+1}ac=z+1z−1, find the correct relation.\n",
        "Multiplying all three equations:\n",
        "ab×bc×ca=(x−1)(y−1)(z−1)(x+1)(y+1)(z+1)=1\\frac{a}{b} \\times \\frac{b}{c} \\times \\frac{c}{a} = \\frac{(x-1)(y-1)(z-1)}{(x+1)(y+1)(z+1)} = 1ba×cb×ac=(x+1)(y+1)(z+1)(x−1)(y−1)(z−1)=1\n",
        "This simplifies to xyz=1xyz = 1xyz=1.\n",
        "Answer: a) xyz=1xyz = 1xyz=1"
      ],
      "metadata": {
        "id": "o_7rcsjJggQI"
      },
      "execution_count": null,
      "outputs": []
    },
    {
      "cell_type": "code",
      "source": [
        "7) For what value of α are the following set of equations\n",
        "inconsistent: αx+3y=α–3; 12x+αy=α\n",
        "a) 8 b) –6 c) 12 d) –12\n",
        "The set of equations are inconsistent if:\n",
        "αx+3y=α−3(1)\\alpha x + 3y = \\alpha - 3 \\quad \\text{(1)}αx+3y=α−3(1) 12x+αy=α(2)12x + \\alpha y = \\alpha \\quad \\text{(2)}12x+αy=α(2)\n",
        "For inconsistency, the determinant must be zero:\n",
        "α⋅α−12⋅3=0  ⟹  α2=36  ⟹  α=6 or −6\\alpha \\cdot \\alpha - 12 \\cdot 3 = 0 \\implies \\alpha^2 = 36 \\implies \\alpha = 6 \\text{ or } -6α⋅α−12⋅3=0⟹α2=36⟹α=6 or −6\n",
        "Only α=−6\\alpha = -6α=−6 causes inconsistency.\n",
        "Answer: b) α=−6\\alpha = -6α=−6"
      ],
      "metadata": {
        "id": "a05JEUGzggTL"
      },
      "execution_count": null,
      "outputs": []
    },
    {
      "cell_type": "code",
      "source": [
        "8) There is a father, a mother and 2 sons in a family and their\n",
        "total age is 60 years. The difference between the sons' age is 3\n",
        "years, mother's age exceeds the sum of the sons' age by 17\n",
        "years and the difference of age of father and mother is equal\n",
        "to the age of the elder son. How old is the father?\n",
        "a) 29 years b) 24 years c) 22 years d) 28 years\n",
        "The family has a father, mother, and two sons. The total age is 60, and the difference between the sons' ages is 3 years. Let the younger son's age be yyy, the elder son's age be y+3y + 3y+3, mother's age be mmm, and father's age be fff.\n",
        "The equations are:\n",
        "f+m+y+(y+3)=60f + m + y + (y + 3) = 60f+m+y+(y+3)=60 m=17+2y+3m = 17 + 2y + 3m=17+2y+3 f−m=y+3f - m = y + 3f−m=y+3\n",
        "Solving gives f=29f = 29f=29.\n",
        "Answer: a) 29 years"
      ],
      "metadata": {
        "id": "oagIc9mBggWB"
      },
      "execution_count": null,
      "outputs": []
    },
    {
      "cell_type": "code",
      "source": [
        "9) There are certain number of passengers in a bus such that\n",
        "40 are male and the rest are female. At a bus stop, exactly half\n",
        "of the females alight and no male alights. Also, no passenger\n",
        "boards the bus. Now, the total number of passengers is two–\n",
        "third of the initial. How many females alight at the stop?\n",
        "a) 40 b) 60 c) 80 d) 50\n",
        "There are 40 males, and let fff be the initial number of females. After half of the females alight, the total number of passengers becomes 23\\frac{2}{3}32 of the initial number:\n",
        "40+f=32(40+f2)40 + f = \\frac{3}{2}(40 + \\frac{f}{2})40+f=23(40+2f)\n",
        "Solving gives f=80f = 80f=80, so half of the females (40) alight.\n",
        "Answer: a) 40"
      ],
      "metadata": {
        "id": "AtCqxawwgga5"
      },
      "execution_count": null,
      "outputs": []
    },
    {
      "cell_type": "code",
      "source": [
        "10) A is 29 years older than B, B is 3 years older than C and D is\n",
        "2 years younger than C. Two years hence, A's age will be twice\n",
        "the combined ages of B, C and D. Find the present age of A.\n",
        "a) 34 b) 36 c) 39 d) 38\n",
        "Let A's age be a, B's age be b, and C's age be c. We have:\n",
        "a=b+29,b=c+3,c=d+2a = b + 29, \\quad b = c + 3, \\quad c = d + 2a=b+29,b=c+3,c=d+2\n",
        "Two years hence:\n",
        "a+2=2(b+2+c+2+d+2)a + 2 = 2(b + 2 + c + 2 + d + 2)a+2=2(b+2+c+2+d+2)\n",
        "Solving gives a=36a = 36a=36.\n",
        "Answer: b) 36"
      ],
      "metadata": {
        "id": "AWuUxmwQggeI"
      },
      "execution_count": null,
      "outputs": []
    },
    {
      "cell_type": "code",
      "source": [
        "11) Q is as much younger than R as he is older than T. If the\n",
        "sum of the ages of R and T is 50 years, what is definitely the\n",
        "difference between R and Q's age?\n",
        "a) 1 year b) 2 years c) 25 years d) Data inadequate\n",
        "If Q is as much younger than R as he is older than T, and R+T=50R + T = 50R+T=50, then:\n",
        "R−Q=Q−T  ⟹  R+T=2Q  ⟹  Q=25R - Q = Q - T \\implies R + T = 2Q \\implies Q = 25R−Q=Q−T⟹R+T=2Q⟹Q=25\n",
        "The difference between RRR and QQQ's age is R−Q=50−25=25R - Q = 50 - 25 = 25R−Q=50−25=25.\n",
        "Answer: c) 25 years"
      ],
      "metadata": {
        "id": "5MJf1L4YdrLL"
      },
      "execution_count": null,
      "outputs": []
    },
    {
      "cell_type": "code",
      "source": [
        "Quadratic Equations:"
      ],
      "metadata": {
        "id": "UPz_78wFuh6X"
      },
      "execution_count": null,
      "outputs": []
    },
    {
      "cell_type": "code",
      "source": [
        "1) Find the value of 'a' for which one of the roots of the\n",
        "equation (a2–5a+3)x2+(3a–1)x+2=0 is twice as large as other.\n",
        "a) 2/3 b) –2/3 c) 1/3 d) –1/3\n",
        "Let the roots be rrr and 2r2r2r. Using Vieta's formulas:\n",
        "r+2r=−(3a−1)(a2−5a+3)(sum of roots)r + 2r = -\\frac{(3a - 1)}{(a^2 - 5a + 3)} \\quad \\text{(sum of roots)}r+2r=−(a2−5a+3)(3a−1)(sum of roots) r⋅2r=2(a2−5a+3)(product of roots)r \\cdot 2r = \\frac{2}{(a^2 - 5a + 3)} \\quad \\text{(product of roots)}r⋅2r=(a2−5a+3)2(product of roots)\n",
        "Substituting into these equations and solving for aaa, we get a=23a = \\frac{2}{3}a=32.\n",
        "Answer: a) 2/3"
      ],
      "metadata": {
        "id": "TjozAvgNdrN9"
      },
      "execution_count": null,
      "outputs": []
    },
    {
      "cell_type": "code",
      "source": [
        "2) Let p and q be the roots of the equation x2–(α–2)x–α–1=0.\n",
        "What is the minimum possible value of p2+q2?\n",
        "a) 0 b) 3 c) 4 d) 5\n",
        "From Vieta's relations:\n",
        "p+q=α−2,pq=−(α+1)p + q = \\alpha - 2, \\quad pq = -(\\alpha + 1)p+q=α−2,pq=−(α+1)\n",
        "We know:\n",
        "p2+q2=(p+q)2−2pq=(α−2)2−2(−(α+1))p^2 + q^2 = (p + q)^2 - 2pq = (\\alpha - 2)^2 - 2(-(\\alpha + 1))p2+q2=(p+q)2−2pq=(α−2)2−2(−(α+1))\n",
        "Minimizing this gives the minimum value of 5.\n",
        "Answer: d) 5"
      ],
      "metadata": {
        "id": "KAh2b15tlaii"
      },
      "execution_count": null,
      "outputs": []
    },
    {
      "cell_type": "code",
      "source": [
        "3) If α,ẞ are the roots of the quadratic equation ax2+bx+c=o,\n",
        "then find the value of α2/ẞ+ẞ2/α.\n",
        "a) (2bc–a3)/b2c b) (3abc–b3)/a2c c) (ab–b2c)/2b2c d) NOT\n",
        "We know:\n",
        "α2β+β2α=α+β−2ca\\frac{\\alpha^2}{\\beta} + \\frac{\\beta^2}{\\alpha} = \\alpha + \\beta - \\frac{2c}{a}βα2+αβ2=α+β−a2c\n",
        "Using Vieta's relations, the expression simplifies to:\n",
        "b2−2aca2\\frac{b^2 - 2ac}{a^2}a2b2−2ac\n",
        "Answer: b) 3abc−b3/a2c"
      ],
      "metadata": {
        "id": "drSdSqxOlalH"
      },
      "execution_count": null,
      "outputs": []
    },
    {
      "cell_type": "code",
      "source": [
        "4) If the sum of the roots of the ax2+bx+c=0 is equal to the sum\n",
        "of the squares of their reciprocals, then a/c, b/a, c/b are in\n",
        "a) AP b) GP c) HP d) None of these\n",
        "Using the condition and simplifying, we find that the values are in a harmonic progression (HP).\n",
        "Answer: c) HP"
      ],
      "metadata": {
        "id": "AxBj_cUvlan-"
      },
      "execution_count": null,
      "outputs": []
    },
    {
      "cell_type": "code",
      "source": [
        "5) While finding a quadratic equation with the given roots, Mr.\n",
        "Mistake took the reciprocals of the roots and got the equation\n",
        "of the form x2–5x+k1=0, whereas Mr. Error took the square root\n",
        "of the roots and got the equation of the form x2–k2x+3=o. Find\n",
        "the actual equation which can be formed with the given roots.\n",
        "a) x2+45x+3=0 b) x2–45x+9=0 c) x2–15x+3=0 d) x2+45x–9=0\n",
        "By reversing the operations, we find that the actual equation is:\n",
        "x2−15x+3=0x^2 - 15x + 3 = 0x2−15x+3=0\n",
        "Answer: c) x2−15x+3=0x^2 - 15x + 3 = 0x2−15x+3=0"
      ],
      "metadata": {
        "id": "QjxL-MDwlaqv"
      },
      "execution_count": null,
      "outputs": []
    },
    {
      "cell_type": "code",
      "source": [
        "6) If the difference between the roots of the quadratic\n",
        "equation x2–5x+2k=1 is 3, what is the value of k?\n",
        "a) 2 b) 2.5 c) 4 d) None of these\n",
        "Let the roots be r1r_1r1 and r2r_2r2, with r1−r2=3r_1 - r_2 = 3r1−r2=3. Using Vieta's formulas and simplifying, we find k=2.5k = 2.5k=2.5.\n",
        "Answer: b) 2.5"
      ],
      "metadata": {
        "id": "OwoOyUoxquVf"
      },
      "execution_count": null,
      "outputs": []
    },
    {
      "cell_type": "code",
      "source": [
        "7) If the roots of the equation 3x2+9x+k=0 are in the ratio 1:2,\n",
        "what is the value of k?\n",
        "a) 2 b) 3 c) 4 d) 6\n",
        "Let the roots be rrr and 2r2r2r. Using Vieta’s formulas:\n",
        "r+2r=−93,r⋅2r=k3r + 2r = -\\frac{9}{3}, \\quad r \\cdot 2r = \\frac{k}{3}r+2r=−39,r⋅2r=3k\n",
        "Solving gives k=6k = 6k=6.\n",
        "Answer: d) 6"
      ],
      "metadata": {
        "id": "1GfxLCF4qudU"
      },
      "execution_count": null,
      "outputs": []
    },
    {
      "cell_type": "code",
      "source": [
        "8) If one of the roots of the quadratic equation 3x2–px+q=0 is\n",
        "3, then find the other root. Given that q–2p=3.\n",
        "a) 4 b) 5 c) 7 d) 10\n",
        "Using Vieta’s relations, the other root is found to be 4.\n",
        "Answer: a) 4"
      ],
      "metadata": {
        "id": "DpgXQWK9qugQ"
      },
      "execution_count": null,
      "outputs": []
    },
    {
      "cell_type": "code",
      "source": [
        "9) If one root of the quadratic equation x2–px+8=0 is the\n",
        "square of the other, what is the value of p?\n",
        "a) 6 b) 7 c) 8 d) 9\n",
        "Let the roots be rrr and r2r^2r2. Using Vieta’s relations, we get p=6p = 6p=6.\n",
        "Answer: a) 6"
      ],
      "metadata": {
        "id": "MJm4RBzRqui0"
      },
      "execution_count": null,
      "outputs": []
    },
    {
      "cell_type": "code",
      "source": [
        "10) If a, b and g are the roots of the following cubic equation:\n",
        "x3–2x2+x–5=0, then what is the value of a2+b2+g2?\n",
        "a) 1 b) 2 c) 4 d) 5\n",
        "Using the identity for the sum of squares of the roots:\n",
        "a2+b2+g2=(a+b+g)2−2(ab+bg+ga)a^2 + b^2 + g^2 = (a + b + g)^2 - 2(ab + bg + ga)a2+b2+g2=(a+b+g)2−2(ab+bg+ga)\n",
        "This simplifies to 4.\n",
        "Answer: c) 4"
      ],
      "metadata": {
        "id": "AjvZdSyvqulf"
      },
      "execution_count": null,
      "outputs": []
    },
    {
      "cell_type": "code",
      "source": [
        "11) Find the value of (1/p), for which the sum of roots of the\n",
        "equation 5x2–(4p–1)x = 3p+2 is equal to the product of roots.\n",
        "a) 4 b) –4 c) 7 d) –7\n",
        "By solving the given condition, we find p=−4p = -4p=−4.\n",
        "Answer: b) -4"
      ],
      "metadata": {
        "id": "EBOi7mO9quoC"
      },
      "execution_count": null,
      "outputs": []
    },
    {
      "cell_type": "code",
      "source": [
        "12) The number of common roots between the two cubic\n",
        "equations x3+3x2+4x+5=0 and x3+2x2+7x+3=0 is\n",
        "a) 0 b) 1 c) 2 d) 3\n",
        "By comparing the equations, we find that there is one common root.\n",
        "Answer: b) 1"
      ],
      "metadata": {
        "id": "K3j3rCAvquqh"
      },
      "execution_count": null,
      "outputs": []
    },
    {
      "cell_type": "code",
      "source": [
        "13) Find the value of m for which the following equation\n",
        "(m+1)x2+2(m+3)x+m+8=0 has equal roots?\n",
        "a) –1/2 b) 1/3 c) –2 d) 1\n",
        "For equal roots, the discriminant must be zero. Solving this gives m=−2m = -2m=−2.\n",
        "Answer: c) -2"
      ],
      "metadata": {
        "id": "a6x9VYq9qutM"
      },
      "execution_count": null,
      "outputs": []
    },
    {
      "cell_type": "code",
      "source": [
        "14) x and y are the real numbers such that (x2–y2)(x2–2xy+y2\n",
        ")=3 and x–y=1. What is the value of xy?\n",
        "a) 2 b) 1+√2 c) 1–√2 d) 1\n",
        "Solving the given system of equations, we get xy=1xy = 1xy=1.\n",
        "Answer: d) 1"
      ],
      "metadata": {
        "id": "74URBYDjquv_"
      },
      "execution_count": null,
      "outputs": []
    },
    {
      "cell_type": "code",
      "source": [
        "15) Find the number of positive values of 'x' that satisfy the\n",
        "following equation: 4\n",
        "x+1–18x2x+8=0\n",
        "a) 0 b) 1 c) 2 d) More than 2\n",
        "By solving this equation, we find there is 1 positive solution.\n",
        "Answer: b) 1"
      ],
      "metadata": {
        "id": "v9AYbXF9quzB"
      },
      "execution_count": null,
      "outputs": []
    },
    {
      "cell_type": "code",
      "source": [
        "Inequalities:"
      ],
      "metadata": {
        "id": "YXAQ-RI2latb"
      },
      "execution_count": null,
      "outputs": []
    },
    {
      "cell_type": "code",
      "source": [
        "1) Find the range of x which satisfy the inequality: x2–10x+21<0\n",
        "a) x<3 b) x>7 c) 3<x<7 d) 3≤x<7\n",
        "Factorizing the quadratic:\n",
        "x2−10x+21=(x−3)(x−7)x^2 - 10x + 21 = (x - 3)(x - 7)x2−10x+21=(x−3)(x−7)\n",
        "The inequality (x−3)(x−7)<0(x - 3)(x - 7) < 0(x−3)(x−7)<0 holds when 3<x<7\n",
        "Answer: c) 3<x<7"
      ],
      "metadata": {
        "id": "rx07av3MvlNN"
      },
      "execution_count": null,
      "outputs": []
    },
    {
      "cell_type": "code",
      "source": [
        "2) Solve for x: 2(x–3)+5(1–x)≥3(2x–5)\n",
        "a) x≤14/9 b) x<14/9 c) x=14/9 d) x≥14/9\n",
        "Simplifying:\n",
        "2x−6+5−5x≥6x−152x - 6 + 5 - 5x \\geq 6x - 152x−6+5−5x≥6x−15 −3x−1≥6x−15-3x - 1 \\geq 6x - 15−3x−1≥6x−15 −3x−6x≥−15+1-3x - 6x \\geq -15 + 1−3x−6x≥−15+1 −9x≥−14-9x \\geq -14−9x≥−14 x≤149x \\leq \\frac{14}{9}x≤914\n",
        "Answer: a) x≤149"
      ],
      "metadata": {
        "id": "eLyS8dU2vlTX"
      },
      "execution_count": null,
      "outputs": []
    },
    {
      "cell_type": "code",
      "source": [
        "3) If x3–3x2–6x+8>0, then x can be best described by\n",
        "a) x<4 b) –2<x<1 c) x>4 d) Both (b) and (c)\n",
        "If x3−3x2−6x+8>0x^3 - 3x^2 - 6x + 8 > 0x3−3x2−6x+8>0, then xxx can be best described by...\n",
        "Finding the roots of x3−3x2−6x+8=0x^3 - 3x^2 - 6x + 8 = 0x3−3x2−6x+8=0, we get the approximate values x=−2,1,4x = -2, 1, 4x=−2,1,4. The inequality is satisfied for −2<x<1-2 < x < 1−2<x<1 and x>4x > 4x>4.\n",
        "Answer: d) Both (b) and (c)"
      ],
      "metadata": {
        "id": "gS_VBvPLvlZf"
      },
      "execution_count": null,
      "outputs": []
    },
    {
      "cell_type": "code",
      "source": [
        "4) The smallest positive integral value of 'x' which satisfies the\n",
        "inequality x3–7x2+11x–5>0 is\n",
        "a) 6 b) 5 c) 4 d) 3\n",
        "By trial and error or graphing, we find the smallest integer value of xxx that satisfies the inequality is x=5x = 5x=5.\n",
        "Answer: b) 5"
      ],
      "metadata": {
        "id": "MrTAsmzMvlcY"
      },
      "execution_count": null,
      "outputs": []
    },
    {
      "cell_type": "code",
      "source": [
        "5) Solve for the value x: 1/x<1\n",
        "a) (–∞,–4)ꓴ(9,∞) b) (–∞,–9)ꓴ(4,∞) c) (–∞,0)ꓴ(1,∞) d) (0,1)\n",
        "This inequality simplifies to x>1x > 1x>1. However, since 1x<1\\frac{1}{x} < 1x1<1, it excludes x=1x = 1x=1.\n",
        "Answer: c) (−∞,0)∪(1,∞)"
      ],
      "metadata": {
        "id": "jLX77TSnwJy3"
      },
      "execution_count": null,
      "outputs": []
    },
    {
      "cell_type": "code",
      "source": [
        "6) If (1+3c), 1 and (1–c) are the three sides of a triangle, then\n",
        "find the range to which c belongs.\n",
        "a) (–1/2, 1/2) b) (–1/4,1/4) c) (1/2,–1/2) d) (1/4, 1/2)\n",
        "For the given lengths to form a triangle, they must satisfy the triangle inequality:\n",
        "1+3c+1>1−c,1+1−c>1+3c,1+1−c+1+3c>11 + 3c + 1 > 1 - c, \\quad 1 + 1 - c > 1 + 3c, \\quad 1 + 1 - c + 1 + 3c > 11+3c+1>1−c,1+1−c>1+3c,1+1−c+1+3c>1\n",
        "After solving these inequalities, we get −14<c<14-\\frac{1}{4} < c < \\frac{1}{4}−41<c<41.\n",
        "Answer: b) (−14,1/4)"
      ],
      "metadata": {
        "id": "RwGysRJZwJ1_"
      },
      "execution_count": null,
      "outputs": []
    },
    {
      "cell_type": "code",
      "source": [
        "7) x and y are real numbers satisfying the conditions 2<x<3 and\n",
        "–8<y<–7. Which of the following expressions will have the least\n",
        "value?\n",
        "a) x2y b) xy2 c) 5xy d) x+y\n",
        "Let's evaluate the expressions based on the ranges of xxx and yyy:\n",
        "a)x2y:22(−8)=−32(least value)b)xy2:2(−8)2=128c)5xy:5(2)(−8)=−80d)x+y:2+(−8)=−6a) x^2y: \\quad 2^2(-8) = -32 \\quad \\text{(least value)} b) xy^2: \\quad 2(-8)^2 = 128 c) 5xy: \\quad 5(2)(-8) = -80 d) x + y: \\quad 2 + (-8) = -6a)x2y:22(−8)=−32(least value)b)xy2:2(−8)2=128c)5xy:5(2)(−8)=−80d)x+y:2+(−8)=−6\n",
        "The least value is from option c) 5xy = -80.\n",
        "Answer: c) 5xy"
      ],
      "metadata": {
        "id": "uoR5st1VwJ4s"
      },
      "execution_count": null,
      "outputs": []
    },
    {
      "cell_type": "code",
      "source": [
        "8) x and y are two distinct non–zero integers. Which of the\n",
        "following is definitely greater than 1?\n",
        "a) │x│+│y│ b) |x–yl c) │x│/│y│ d) │x+y│/│x│–│y│\n",
        "Considering the nature of the expressions:\n",
        "a)∣ ⁣x∣+∣ ⁣y∣(not always > 1)b)∣ ⁣x−y∣(can be less than 1)c)∣ ⁣x∣/∣ ⁣y∣(depends on values of x and y)d)∣ ⁣x+y∣/∣ ⁣x∣−∣ ⁣y∣(can be less than 1)a) |\\!x| + |\\!y| \\quad \\text{(not always > 1)} b) |\\!x - y| \\quad \\text{(can be less than 1)} c) |\\!x| / |\\!y| \\quad \\text{(depends on values of \\( x \\) and \\( y \\))} d) |\\!x + y| / |\\!x| - |\\!y| \\quad \\text{(can be less than 1)}a)∣x∣+∣y∣(not always > 1)b)∣x−y∣(can be less than 1)c)∣x∣/∣y∣(depends on values of x and y)d)∣x+y∣/∣x∣−∣y∣(can be less than 1)\n",
        "None of the options are definitively greater than 1 based on the information given.\n",
        "Answer: No definitive answer."
      ],
      "metadata": {
        "id": "R5t7eRlbwJ7V"
      },
      "execution_count": null,
      "outputs": []
    },
    {
      "cell_type": "code",
      "source": [
        "9) If –1 ≤ v ≤ 1, –2 ≤ u ≤ –0.5, –2 ≤ z ≤ z ≤ –0.5 and w=vz/u then\n",
        "which of these is necessarily true?\n",
        "a) –0.5≤w≤2 b) –4≤w≤4 c) –4≤w≤2 d) –2≤w≤–0.5\n",
        "By calculating the range for w=vzuw = \\frac{vz}{u}w=uvz, we get:\n",
        "w∈[−4,2]w \\in [-4, 2]w∈[−4,2]\n",
        "Thus, the correct option is −4≤w≤2-4 \\leq w \\leq 2−4≤w≤2.\n",
        "Answer: c) −4≤w≤2"
      ],
      "metadata": {
        "id": "qByQ9uRCwJ-K"
      },
      "execution_count": null,
      "outputs": []
    },
    {
      "cell_type": "code",
      "source": [
        "10) Which of the following inequalities best describes a real\n",
        "number x, satisfying 1–1/n < x ≤ 3+1/n for every positive\n",
        "integer n?\n",
        "a) 1<x<4 b) 1<x≤3 c) 0<x≤4 d) 1≤x≤3\n",
        "As n→∞n \\to \\inftyn→∞, the inequality becomes 1<x≤31 < x \\leq 31<x≤3.\n",
        "Answer: b) 1<x≤3"
      ],
      "metadata": {
        "id": "z6zpdlIRwKDs"
      },
      "execution_count": null,
      "outputs": []
    },
    {
      "cell_type": "code",
      "source": [
        "11) Solve: 3│x–1│+x2–7>0\n",
        "a) x>–1 b) x<–1 c) x<9 d) x<2\n",
        "For x=1x = 1x=1, the inequality becomes positive. After solving for critical points, we find x>−1x > -1x>−1.\n",
        "Answer: a) x>−1"
      ],
      "metadata": {
        "id": "N39-FtO-wKHB"
      },
      "execution_count": null,
      "outputs": []
    },
    {
      "cell_type": "code",
      "source": [
        "12) Solve the following system of inequalities: │x–5│<2 &\n",
        "│x+3│>4\n",
        "a) 3<x<7 b) x<–3 or x>7 c) x<–7 or x>1 d) –7<x<15\n",
        "The first inequality gives 3<x<73 < x < 73<x<7, and the second gives x<−7x < -7x<−7 or x>1x > 1x>1. The solution is 3<x<73 < x < 73<x<7.\n",
        "Answer: a) 3<x<7"
      ],
      "metadata": {
        "id": "LQrL5NYiTpyJ"
      },
      "execution_count": null,
      "outputs": []
    },
    {
      "cell_type": "code",
      "source": [
        "13) If │2p–4│≤2 and │3q–6│≥3, what is the minimum value of\n",
        "│p+q│?\n",
        "a) –∞ b) 0 c) 2 d) –2\n",
        "Solving the inequalities gives the minimum value of ∣p+q∣=2|p + q| = 2∣p+q∣=2.\n",
        "Answer: c) 2"
      ],
      "metadata": {
        "id": "ishKbkcOTp12"
      },
      "execution_count": null,
      "outputs": []
    },
    {
      "cell_type": "code",
      "source": [
        "14) If │2p–7|=5, │3q+6│=3 and [r–1|=7, what is the maximum\n",
        "value of pq2\n",
        "/r?\n",
        "a) –27/4 b) 9 c) 9/8 d) 27/4\n",
        "Maximizing the expression gives pq2r=274\\frac{pq^2}{r} = \\frac{27}{4}rpq2=427.\n",
        "Answer: d) 27/4"
      ],
      "metadata": {
        "id": "l-oGmUeLTp40"
      },
      "execution_count": null,
      "outputs": []
    },
    {
      "cell_type": "code",
      "source": [
        "15) Solve the following system of inequalities: 3x–4<8x+6; 2x–\n",
        "1>5x–4; 11x–9≤15x+3\n",
        "a) –2<x<1 b) –3≤x<1 c) 1<x<2 d) x=–1\n",
        "Solving these gives the range −3≤x<1-3 \\leq x < 1−3≤x<1.\n",
        "Answer: b) −3≤x<1"
      ],
      "metadata": {
        "id": "r6p_0VV_Tp72"
      },
      "execution_count": null,
      "outputs": []
    },
    {
      "cell_type": "code",
      "source": [
        "16) x–│x│ is always\n",
        "a) <0 b) =0 c) >0 d) ≤0\n",
        "The expression x−∣x∣x - |x|x−∣x∣ is always less than or equal to 0.\n",
        "Answer: d) ≤0"
      ],
      "metadata": {
        "id": "fqF33JkTTqBy"
      },
      "execution_count": null,
      "outputs": []
    },
    {
      "cell_type": "code",
      "source": [
        "17) What values of x satisfy the inequality x\n",
        "2/3+x1/3–2≤0?\n",
        "a) –8≤x≤1 b) –1≤x≤8 c) 1<x<8 d) 1≤x≤8\n",
        "Solving this inequality, we find 1≤x≤81 \\leq x \\leq 81≤x≤8.\n",
        "Answer: d) 1≤x≤8"
      ],
      "metadata": {
        "id": "UMmDwospTqFG"
      },
      "execution_count": null,
      "outputs": []
    },
    {
      "cell_type": "code",
      "source": [
        "18) If √(x–3)/x–2>0, then\n",
        "a) 0≤x<2 b) x>3 c) 0<x<1 d) Both (b) and (c)\n",
        "The solution to this inequality gives x>3x > 3x>3.\n",
        "Answer: b) x>3x"
      ],
      "metadata": {
        "id": "6ijWb6YYTqKu"
      },
      "execution_count": null,
      "outputs": []
    },
    {
      "cell_type": "code",
      "source": [
        "Relations & Functions:"
      ],
      "metadata": {
        "id": "-aKLeSPMUgUU"
      },
      "execution_count": null,
      "outputs": []
    },
    {
      "cell_type": "code",
      "source": [
        "1) Let A={1, 2, 3}. Then, the relation R={(1,1),(2,2),(1,3)} on A is\n",
        "a) reflexive b) transitive c) symmetric d) None of these\n",
        "•\tReflexive: For reflexivity, all elements must relate to themselves. However, (3,3)(3,3)(3,3) is missing.\n",
        "•\tTransitive: For transitivity, if (1,1)(1, 1)(1,1) and (1,3)(1, 3)(1,3), then (1,3)(1, 3)(1,3) holds, but no contradiction.\n",
        "•\tSymmetric: Not symmetric because (1,3)(1, 3)(1,3) does not imply (3,1)(3, 1)(3,1).\n",
        "Answer: d) None of these"
      ],
      "metadata": {
        "id": "9YfA9hpWUhnv"
      },
      "execution_count": null,
      "outputs": []
    },
    {
      "cell_type": "code",
      "source": [
        "2) The graph of the function y=5x6+3x4–x2+8\n",
        "a) is symmetric about the X–axis b) is symmetric about the Y–\n",
        "axis c) passes through the origin d) passes through the point\n",
        "(2,256)\n",
        "•\tIt is symmetric about the Y-axis because all powers of xxx are even, making it an even function.\n",
        "•\tIt does not pass through the origin since plugging x=0x = 0x=0 gives y=8y = 8y=8.\n",
        "Answer: b) is symmetric about the Y–axis"
      ],
      "metadata": {
        "id": "6TZcJ2BiUhqm"
      },
      "execution_count": null,
      "outputs": []
    },
    {
      "cell_type": "code",
      "source": [
        "3) The range of the function f(x)=│x–1│ is\n",
        "a) (–∞, ∞) b) (0, ∞) c) [0, ∞) d) (–∞, 0)\n",
        "The absolute value function ∣x−1∣|x - 1|∣x−1∣ has a minimum value of 0 and extends to infinity.\n",
        "Answer: c) [0, ∞)"
      ],
      "metadata": {
        "id": "PPZa-XWTUhwr"
      },
      "execution_count": null,
      "outputs": []
    },
    {
      "cell_type": "code",
      "source": [
        "4) Find the range of the function f(x)=√(x–3)\n",
        "a) (0, ∞) b) [0, ∞) c) (–∞, ∞) d) (–∞, 0]\n",
        "The square root function x−3\\sqrt{x - 3}x−3 is non-negative, and its minimum value occurs at x=3x = 3x=3, where it is 0.\n",
        "Answer: b) [0, ∞)"
      ],
      "metadata": {
        "id": "JARygkdgUhz8"
      },
      "execution_count": null,
      "outputs": []
    },
    {
      "cell_type": "code",
      "source": [
        "5) If f:R is defined by f(x)=x2–6x–14,then f–1\n",
        "(2) is equal to\n",
        "a) {2, 8} b) {–2, 8} c) {–2,–8} d) {2,–8}\n",
        "To solve for f−1(2)f^{-1}(2)f−1(2), solve:\n",
        "x2−6x−14=2x^2 - 6x - 14 = 2x2−6x−14=2 x2−6x−16=0x^2 - 6x - 16 = 0x2−6x−16=0\n",
        "Solving the quadratic gives x=8x = 8x=8 and x=−2x = -2x=−2.\n",
        "Answer: d) {2, –8}"
      ],
      "metadata": {
        "id": "JHollK-1Uh3F"
      },
      "execution_count": null,
      "outputs": []
    },
    {
      "cell_type": "code",
      "source": [
        "6) Let a function be fn+1(x)=fn(x)+3. If f2(2)=4, find the value of\n",
        "f6(2).\n",
        "a) 14 b) 16 c) 18 d) 20\n",
        "The recurrence relation increases the function by 3 each time. So, f6(2)=f2(2)+4×3=4+12=16f_6(2) = f_2(2) + 4 \\times 3 = 4 + 12 = 16f6(2)=f2(2)+4×3=4+12=16.\n",
        "Answer: b) 16"
      ],
      "metadata": {
        "id": "gvJS1s24UyE9"
      },
      "execution_count": null,
      "outputs": []
    },
    {
      "cell_type": "code",
      "source": [
        "7) If f(x)=log (1+x)/(1–x) then f(x)+f(y) is\n",
        "a) f(x+y) b) f((x+y)/(1+xy)) c) (x+y)f((1/1+xy)) d)\n",
        "(f(x)+f(y))/(1+xy)\n",
        "Directions: If f(x)=2x+3 and g(x)=(x–3)/2, then\n",
        "Using the properties of logarithms:\n",
        "f(x)+f(y)=log⁡(1+x1−x)+log⁡(1+y1−y)=log⁡((1+x)(1+y)(1−x)(1−y))f(x) + f(y) = \\log \\left(\\frac{1+x}{1-x}\\right) + \\log \\left(\\frac{1+y}{1-y}\\right) = \\log \\left(\\frac{(1+x)(1+y)}{(1-x)(1-y)}\\right)f(x)+f(y)=log(1−x1+x)+log(1−y1+y)=log((1−x)(1−y)(1+x)(1+y))\n",
        "This simplifies to:\n",
        "f(x+y1+xy)f\\left(\\frac{x + y}{1 + xy}\\right)f(1+xyx+y)\n",
        "Answer: b) f(x+y1+xy)f\\left(\\frac{x+y}{1+xy}\\right)f(1+xyx+y"
      ],
      "metadata": {
        "id": "9N2p0YHHUyIP"
      },
      "execution_count": null,
      "outputs": []
    },
    {
      "cell_type": "code",
      "source": [
        "8) For what value of x, f(x)=g(x–3)?\n",
        "a) –3 b) 1/4 c) –4 d) None of these\n",
        "Given f(x)=2x+3f(x) = 2x + 3f(x)=2x+3 and g(x)=x−32g(x) = \\frac{x - 3}{2}g(x)=2x−3, solve 2x+3=(x−3)−322x + 3 = \\frac{(x - 3) - 3}{2}2x+3=2(x−3)−3. This simplifies to x=−3x = -3x=−3.\n",
        "Answer: a) –3"
      ],
      "metadata": {
        "id": "trIjW9g1UyK-"
      },
      "execution_count": null,
      "outputs": []
    },
    {
      "cell_type": "code",
      "source": [
        "9) fog(x) is equal to\n",
        "a) 1 b) gof(x) c) (15x+9)/(16x–5) d) 1/x\n",
        "f(g(x))=2(x−32)+3=xf(g(x)) = 2\\left(\\frac{x-3}{2}\\right) + 3 = xf(g(x))=2(2x−3)+3=x.\n",
        "Answer: a) 1"
      ],
      "metadata": {
        "id": "Q_DZ3Q4mUyNl"
      },
      "execution_count": null,
      "outputs": []
    },
    {
      "cell_type": "code",
      "source": [
        "10) What of value the is (gofofogogof)(x).(fogofog)(x)?\n",
        "a) x b) x2 c) (5x+3)/(4x–1) d) (x+3)(5x+3)/(4x–5)(4x–1)\n",
        "To simplify the given expression requires iteration of functions. This problem requires deeper computation but assuming simplifications, the expression evaluates to xxx.\n",
        "Answer: a) x"
      ],
      "metadata": {
        "id": "NgjYwZfBUyTY"
      },
      "execution_count": null,
      "outputs": []
    },
    {
      "cell_type": "code",
      "source": [
        "11) What is the value of fo(fog)o(gof)(x)?\n",
        "a) x b) x^2c) 2x+3 d) (x+3)/(4x–5)\n",
        "This requires substitution and evaluation of composed functions. Through computation, this simplifies to xxx.\n",
        "Answer: a) x"
      ],
      "metadata": {
        "id": "pd9JVTMsUyW8"
      },
      "execution_count": null,
      "outputs": []
    },
    {
      "cell_type": "code",
      "source": [
        "12) What is the maximum or minimum value of the function\n",
        "g(x)=3x2+6x+6?\n",
        "a) 3 b) 9 c) 6 d) 12\n",
        "This is a quadratic function, and its minimum value occurs at x=−1x = -1x=−1. Substituting into the function gives g(−1)=3g(-1) = 3g(−1)=3.\n",
        "Answer: a) 3"
      ],
      "metadata": {
        "id": "siFHTn30Uh_3"
      },
      "execution_count": null,
      "outputs": []
    },
    {
      "cell_type": "code",
      "source": [
        "13) For each real number x, let f(x) be the minimum of the\n",
        "numbers 4x+1, x+2 and –2x+4. Then the maximum value of f(x)\n",
        "is a) 2 b) 5/2 c) 8/3 d) 17/6\n",
        "By analyzing each expression and comparing, the maximum value is 17/617/617/6.\n",
        "Answer: d) 17/6"
      ],
      "metadata": {
        "id": "Y-9mS5HqVZhq"
      },
      "execution_count": null,
      "outputs": []
    },
    {
      "cell_type": "code",
      "source": [
        "14) Range of │x│/x, x≠0 is\n",
        "a) {–1,1} b) [–1,1] c) R–(–1,1) d) (–1,1)\n",
        "This function equals 1 if x>0x > 0x>0 and -1 if x<0x < 0x<0.\n",
        "Answer: a) {–1, 1}"
      ],
      "metadata": {
        "id": "sb9XL0f3VZkX"
      },
      "execution_count": null,
      "outputs": []
    },
    {
      "cell_type": "code",
      "source": [
        "15) If f(x)=√((x–1)(6–x)), then the domain of is\n",
        "a) (1, 6) b) [1,6] c) [–6,1] d) [–1,6]\n",
        "The expression under the square root must be non-negative, so 1≤x≤61 \\leq x \\leq 61≤x≤6.\n",
        "Answer: b) [1, 6]"
      ],
      "metadata": {
        "id": "91Jf-SPEVZqK"
      },
      "execution_count": null,
      "outputs": []
    },
    {
      "cell_type": "code",
      "source": [
        "16) If f(x)=(3x+2)/(5x–3) then\n",
        "a) f–1(x)=f(x) b) f–1(x)= –f(x) c) (fof)(x)= –x d) f–1(x)= –f(–x)\n",
        "Solving for the inverse function f−1(x)f^{-1}(x)f−1(x) gives f−1(x)=−3x+2−5x+3f^{-1}(x) = \\frac{-3x + 2}{-5x + 3}f−1(x)=−5x+3−3x+2.\n",
        "Answer: d) f−1(x)=−f(−x)"
      ],
      "metadata": {
        "id": "JqQ0OYULVZto"
      },
      "execution_count": null,
      "outputs": []
    },
    {
      "cell_type": "code",
      "source": [
        "17) If f(x)=31+log x/xlog3 then f(1994) is\n",
        "a) log 1994 b) 1994log 3 c) 3 d) None of these\n",
        "Through simplification, f(1994)=1994log⁡3f(1994) = 1994 \\log 3f(1994)=1994log3.\n",
        "Answer: b) 1994log"
      ],
      "metadata": {
        "id": "__S-98VyVZz7"
      },
      "execution_count": null,
      "outputs": []
    },
    {
      "cell_type": "code",
      "source": [
        "18) If f(x)=(x+3)/(4x–5) and f(t)=x, then t could be\n",
        "a) (4x–3)/(5x–5) b) (3x–1)/(5–4x) c) (4x–1)/(5x+3) d)(3+5x)/(4x–1)\n",
        "By solving f(t)=xf(t) = xf(t)=x, we get t=3x−15−4xt = \\frac{3x - 1}{5 - 4x}t=5−4x3x−1.\n",
        "Answer: b) 3x−15−4x"
      ],
      "metadata": {
        "id": "lHflmrQ2VZ3r"
      },
      "execution_count": null,
      "outputs": []
    },
    {
      "cell_type": "code",
      "source": [
        "19) Let f(x) be a function satisfying f(x)f(y)=f(xy) for all real x,y.\n",
        "If f(2)=4 and f(1)≠0, then what is the value of f(1/2)?\n",
        "a) 4 b) 1/4 c) 5 d) 0\n",
        "Using the functional equation, we find f(12)=14f\\left(\\frac{1}{2}\\right) = \\frac{1}{4}f(21)=41.\n",
        "Answer: b) 1/4"
      ],
      "metadata": {
        "id": "i5iTUgDZVzW6"
      },
      "execution_count": null,
      "outputs": []
    },
    {
      "cell_type": "code",
      "source": [
        "20) The maximum value of f(x)=x5–5x4+5x3+10 is\n",
        "a) 11 b) 9 c) 1 d) –2\n",
        "Using calculus or graphing, the maximum value is 111111.\n",
        "Answer: a) 11"
      ],
      "metadata": {
        "id": "uFKBMaISVzZs"
      },
      "execution_count": null,
      "outputs": []
    },
    {
      "cell_type": "code",
      "source": [
        "21) If 2≤a≤–1, –4≤b≤2, 2≤c≤4 and 1≤d≤3, what is the maximum\n",
        "value of ab2/cd2?\n",
        "a) –16 b) –1/9 c) 1/9 d) 16\n",
        "The maximum value occurs at a=2a = 2a=2, b=2b = 2b=2, c=2c = 2c=2, and d=1d = 1d=1, giving 162=16\\frac{16}{2} = 16216=16.\n",
        "Answer: d) 16"
      ],
      "metadata": {
        "id": "x139UMmwVzcZ"
      },
      "execution_count": null,
      "outputs": []
    },
    {
      "cell_type": "code",
      "source": [
        "22) The function f:R–{2} → R defined by f(x)=(x2+2x)/(x–2) is\n",
        "a) one–one and onto b) one–one but not onto c) neither one–\n",
        "one nor onto d) none of these\n",
        "This function is one-to-one but not onto because the range\n",
        "Answer: b) one–one but not onto"
      ],
      "metadata": {
        "id": "eqIiyiOTV9Mw"
      },
      "execution_count": null,
      "outputs": []
    },
    {
      "cell_type": "code",
      "source": [
        "Exponents & Logarithms:"
      ],
      "metadata": {
        "id": "LwJ0S55TWM5y"
      },
      "execution_count": null,
      "outputs": []
    },
    {
      "cell_type": "code",
      "source": [
        "1) Find the value of (2nx6m+1x10m–nx15m+n–2)/(4mx32m+nx25n–1)\n",
        "a) 2 b) 2/3 c) 1/3 d) 3\n",
        "This question involves simplifying the expression using properties of exponents. After simplifying:\n",
        "Answer: b) 2/3"
      ],
      "metadata": {
        "id": "LCBlyzhOWM8o"
      },
      "execution_count": null,
      "outputs": []
    },
    {
      "cell_type": "code",
      "source": [
        "2) Find the value of x for m7x.n–2x=p5x+1, if m=1000, n=10 and p=100.\n",
        "a) 2/7 b) 2/9 c) 2/13 d) 3\n",
        "Substitute m=1000m = 1000m=1000, n=10n = 10n=10, and p=100p = 100p=100 into the equation and solve for xxx.\n",
        "Answer: d) 3"
      ],
      "metadata": {
        "id": "Br4KPKS5WNCl"
      },
      "execution_count": null,
      "outputs": []
    },
    {
      "cell_type": "code",
      "source": [
        "3) If 5x+5x+2+5x+3=755, then find the value of 3x+3x–1.\n",
        "a) 12 b) 4 c) 6 d) 8\n",
        "We can simplify the left-hand side by factoring out 5x5^x5x and solving for xxx.\n",
        "Answer: d) 8"
      ],
      "metadata": {
        "id": "SBsK_x4CWNFx"
      },
      "execution_count": null,
      "outputs": []
    },
    {
      "cell_type": "code",
      "source": [
        "4) If ax=b, by=c and cz=a, then find the value of xyz.\n",
        "a) abc b) 0 c) 1 d) a+b+c\n",
        "By multiplying the three equations and simplifying, we get:\n",
        "Answer: c) 1"
      ],
      "metadata": {
        "id": "Nks2DtpFWNIl"
      },
      "execution_count": null,
      "outputs": []
    },
    {
      "cell_type": "code",
      "source": [
        "5) What are the values of x and y that satisfy both the\n",
        "following equations: 20.7x3–1.25y=8√6/27; 40.3xx90.2y=8x811/5\n",
        "a) x=2, y=5 b) x=2.5, y=6 c) x=3, y=5 d) x=5, y=2\n",
        "Solve the system of equations by converting to logarithmic form and finding the values of xxx and yyy.\n",
        "Answer: a) x=2"
      ],
      "metadata": {
        "id": "fmvrEpiBWNLW"
      },
      "execution_count": null,
      "outputs": []
    },
    {
      "cell_type": "code",
      "source": [
        "6) If 16log22x – 9log37x + log464=0, then how many positive\n",
        "values of x are possible?\n",
        "a) 0 b) 1 c) 2 d) 3\n",
        "Solving this involves simplifying each logarithmic term and finding xxx.\n",
        "Answer: b) 1"
      ],
      "metadata": {
        "id": "ygBnWAN7WzGt"
      },
      "execution_count": null,
      "outputs": []
    },
    {
      "cell_type": "code",
      "source": [
        "7) If log9(3log2(1+log3(1+2log2x)))=1/2, find x.\n",
        "a) 4 b) 1/2 c) 1 d) 2\n",
        "We use properties of logarithms to simplify the nested logarithmic expression.\n",
        "Answer: a) 4"
      ],
      "metadata": {
        "id": "JNeSl9Q3WzJ_"
      },
      "execution_count": null,
      "outputs": []
    },
    {
      "cell_type": "code",
      "source": [
        "8) log 512 to the base 2√2 is equal to\n",
        "a) 9 b) 6 c) 4 d) 10\n",
        "Use the change of base formula and logarithmic properties to simplify.\n",
        "Answer: b) 6"
      ],
      "metadata": {
        "id": "78gh9jNYWzM2"
      },
      "execution_count": null,
      "outputs": []
    },
    {
      "cell_type": "code",
      "source": [
        "9) What is the value of log101000+log1001000+log100010+log1000100?\n",
        "a) 11/2 b) 5/2 c) 3/2 d) 11/6\n",
        "Simplify each logarithmic term:\n",
        "log⁡101000=3,log⁡1010=1,log⁡10100=2\\log_{10} 1000 = 3, \\quad \\log_{10} 10 = 1, \\quad \\log_{10} 100 = 2log101000=3,log1010=1,log10100=2\n",
        "The sum is 3+3+1+2=93 + 3 + 1 + 2 = 93+3+1+2=9.\n",
        "Answer: a) 11/2"
      ],
      "metadata": {
        "id": "rrim1A1UWzS3"
      },
      "execution_count": null,
      "outputs": []
    },
    {
      "cell_type": "code",
      "source": [
        "10) If log32, log3(2x–5), logs(2x–7/2) are in arithmetic\n",
        "progression, then the value of x is equal to\n",
        "a) 5 b) 4 c) 2 d) 3\n",
        "Use the arithmetic progression property to set up an equation and solve for xxx.\n",
        "Answer: b) 4"
      ],
      "metadata": {
        "id": "ctJSQM4SWzWw"
      },
      "execution_count": null,
      "outputs": []
    },
    {
      "cell_type": "code",
      "source": [
        "11) Solve the following for y: 81logy=3+2x9logy (Assume log has\n",
        "the base 10)\n",
        "a) O b) √10 c) 1 d) 3√2\n",
        "Simplify and solve for y using logarithmic properties.\n",
        "Answer: b) √10"
      ],
      "metadata": {
        "id": "x1Hhocq8WzaL"
      },
      "execution_count": null,
      "outputs": []
    },
    {
      "cell_type": "code",
      "source": [
        "12) If log xy=log x–log y, then which of the following options\n",
        "must be true?\n",
        "a) x=y b) x 1 c) y=1 d) xy=1\n",
        "The equation implies a relationship between xxx and yyy.\n",
        "Answer: d) xy=1"
      ],
      "metadata": {
        "id": "X8ZYbs0YWNOj"
      },
      "execution_count": null,
      "outputs": []
    },
    {
      "cell_type": "code",
      "source": [
        "13) If log24 × log48 x log816 x ... nth term=49, then what is the\n",
        "value of n?\n",
        "a) 49 b) 48 c) 34 d) 24\n",
        "Recognize the pattern and solve for nnn.\n",
        "Answer: b) 48"
      ],
      "metadata": {
        "id": "YQErKpGRXRp9"
      },
      "execution_count": null,
      "outputs": []
    },
    {
      "cell_type": "code",
      "source": [
        "14) Find the value of (2n+2n–1)/(2n+1–2n)\n",
        "a) 2/3 b) 3/2 c) 5/6 d) 1/6\n",
        "Simplify the expression by factoring powers of 2.\n",
        "Answer: a) 2/3"
      ],
      "metadata": {
        "id": "lGQmZ6wKXRti"
      },
      "execution_count": null,
      "outputs": []
    },
    {
      "cell_type": "code",
      "source": [
        "15) If (log a)/(b–c) = (log b)/(c–a)= (log c)/(a–b) then find the\n",
        "value of aabbcc.\n",
        "a) ∛3 b) 1 c) 0 d) 2\n",
        "Solve the logarithmic equations and simplify to find the value.\n",
        "Answer: b) 1"
      ],
      "metadata": {
        "id": "-iVPwdcVXRwe"
      },
      "execution_count": null,
      "outputs": []
    },
    {
      "cell_type": "code",
      "source": [
        "16) (1/logxyxyz)+(1/logyzxyz)+(1/logzxxyz) equals\n",
        "a) 1 b) 2 c) 3 d) 4\n",
        "Simplify each term using logarithmic identities.\n",
        "Answer: a) 1"
      ],
      "metadata": {
        "id": "m2GtF97_XR0C"
      },
      "execution_count": null,
      "outputs": []
    },
    {
      "cell_type": "code",
      "source": [
        "17) If log5x=a and log20x=b, then what is the value of logx10?\n",
        "a) (a+b)/2ab b) 2ab(a+b) c) 2ab/(a+b) d) (a+b)/2\n",
        "Use the change of base formula and properties of logarithms to solve for log⁡x10\\log_x 10logx10.\n",
        "Answer: d) a+b/2"
      ],
      "metadata": {
        "id": "3AuL9h8PlawX"
      },
      "execution_count": null,
      "outputs": []
    }
  ]
}