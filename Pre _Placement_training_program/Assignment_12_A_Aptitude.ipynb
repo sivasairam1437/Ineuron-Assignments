{
  "nbformat": 4,
  "nbformat_minor": 0,
  "metadata": {
    "colab": {
      "provenance": []
    },
    "kernelspec": {
      "name": "python3",
      "display_name": "Python 3"
    },
    "language_info": {
      "name": "python"
    }
  },
  "cells": [
    {
      "cell_type": "code",
      "execution_count": null,
      "metadata": {
        "id": "72TAefwevu1N"
      },
      "outputs": [],
      "source": [
        "Q.1) Three persons A, B and C gave these statements:\n",
        "A said, either Freedom Party or Green Party won the elections.\n",
        "B said, Freedom Party won.\n",
        "C said, neither Freedom Party nor Green Party won\n",
        "Of these persons, only one person is wrong.\n",
        "Who won the elections?\n",
        "•\tStatements:\n",
        "o\tA: Either Freedom Party or Green Party won.\n",
        "o\tB: Freedom Party won.\n",
        "o\tC: Neither Freedom Party nor Green Party won.\n",
        "If only one of the statements is wrong, let's evaluate:\n",
        "•\tIf C is wrong (i.e., one of the parties won), then A and B must both be correct. Thus, the Freedom Party won.\n",
        "Answer: Freedom Party."
      ]
    },
    {
      "cell_type": "code",
      "source": [
        "Q.2) The police rounded up Tolu, Molu and Golu yesterday because one of them was suspected of robbing the local bank. The 3 suspects gave following statements after intensive questioning:\n",
        "Tolu: I’m innocent.\n",
        "Molu: I’m innocent.\n",
        "Golu: Molu is the guilty one.\n",
        "Who robbed the bank among the three persons, if only one of the statements will be true?\n",
        "•\tStatements:\n",
        "o\tTolu: I’m innocent.\n",
        "o\tMolu: I’m innocent.\n",
        "o\tGolu: Molu is the guilty one.\n",
        "If only one statement is true, then:\n",
        "•\tIf Golu's statement is true (i.e., Molu is guilty), then both Tolu and Molu's statements must be false. This aligns with only one statement being true, meaning Molu is the robber.\n",
        "Answer: Molu."
      ],
      "metadata": {
        "id": "o8SM7s6wwcQI"
      },
      "execution_count": null,
      "outputs": []
    },
    {
      "cell_type": "code",
      "source": [
        "Q.3) On an Island, three types of tribes live- Saca, Jhav and Lobe. Sacas’ always tell the truth, Jhavs’ always lie and Lobes’ tell the truth and lie alternating (they can tell truth first or lie first). Three persons (of different tribes) from this Island give these statements.\n",
        "GABE: UCKO is of Sacas tribe; I am of Lobe tribe\n",
        "BORRIS: GABE is of Jhavs tribe; I am of Sacas Tribe\n",
        "UCKO: BORRIS is of Jhavs tribe; I am of Lobe tribe.\n",
        "GABE belongs to which tribe?\n",
        "•\tStatements:\n",
        "o\tGABE: UCKO is of Sacas tribe; I am of Lobe tribe.\n",
        "o\tBORRIS: GABE is of Jhavs tribe; I am of Sacas Tribe.\n",
        "o\tUCKO: BORRIS is of Jhavs tribe; I am of Lobe tribe.\n",
        "To determine the tribes:\n",
        "•\tIf GABE is Lobe, GABE's statement alternates between truth and lie.\n",
        "•\tIf GABE’s first statement (UCKO is of Sacas tribe) is true, then GABE’s second statement (I am of Lobe tribe) must be false. This implies GABE is not Lobe and therefore must be Jhavs, because GABE can't be Sacas.\n",
        "Answer: GABE belongs to Jhavs tribe"
      ],
      "metadata": {
        "id": "jNkBYpH8wcTa"
      },
      "execution_count": null,
      "outputs": []
    },
    {
      "cell_type": "code",
      "source": [
        "Q.4) While searching for a Painter, Ali met three locals - Raj, Rajan and Roy - who always gave two replies to any question. Among them one is a truth teller, one is a liar and one is an alternator. When Ali asked them, \"Who among you is the painter?\", their replies were:\n",
        "Raj:I am the Painter, Rajan is a liar\n",
        "Rajan: I am the Painter, Roy is a liar\n",
        "Roy: Rajan is the Painter, Raj is a liar.\n",
        "Who was the painter?\n",
        "o\tRaj: I am the Painter, Rajan is a liar.\n",
        "o\tRajan: I am the Painter, Roy is a liar.\n",
        "o\tRoy: Rajan is the Painter, Raj is a liar.\n",
        "If one is a truth-teller, one is a liar, and one alternates, let’s break it down:\n",
        "•\tIf Raj is telling the truth, then Rajan is the liar, and Roy alternates.\n",
        "•\tIf Rajan is the liar, his claim of being the painter is false.\n",
        "•\tTherefore, Raj must be the painter.\n",
        "Answer: Raj is the painter."
      ],
      "metadata": {
        "id": "LOQG8hYLwcZI"
      },
      "execution_count": null,
      "outputs": []
    },
    {
      "cell_type": "code",
      "source": [
        "Q.5) In a colony, each person is either a truth teller, who always speaks truth or a liar, who always lies or an alternator, who alternates between truth and lie in any order. When a question is asked to three persons P1, P2 and P3 whose names are X, Y & Z not necessarily in the same order they replied in the following manner.\n",
        "P1: I am Y. Exactly one of us is liar.\n",
        "P2: Exactly one of us is truth teller. P3 is X\n",
        "P3: Exactly one of us is an alternator. I am not Z\n",
        "If there is at least one truth teller, then who is Z?\n",
        "•\tStatements:\n",
        "o\tP1: I am Y. Exactly one of us is a liar.\n",
        "o\tP2: Exactly one of us is the truth teller. P3 is X.\n",
        "o\tP3: Exactly one of us is an alternator. I am not Z.\n",
        "Assuming one truth-teller, one liar, and one alternator:\n",
        "•\tP1's statement must be false, meaning P1 is not Y.\n",
        "•\tP2’s statement can only be true if P2 is the truth-teller.\n",
        "•\tP3’s statement suggests P3 is not Z, making P1 Z.\n",
        "Answer: Z is P1."
      ],
      "metadata": {
        "id": "PzqZPU7nwch-"
      },
      "execution_count": null,
      "outputs": []
    },
    {
      "cell_type": "code",
      "source": [
        "Q.6) In Honololo, Island , there are two types of people-truth tellers and liars. Truth-tellers always speak truth and liars always lie.I met three residents Ho,Lo, and Po, and asked them \"who among you is the liar?\" The following are their replies.\n",
        "Ho: I am a truth-teller.\n",
        "Lo: Ho is not a truth-teller.\n",
        "Po: Lois not a liar.\n",
        "If it is known that exactly one person among them is a liar and the other two are truth-tellers, then who among them is the liar?\n",
        "•\tStatements:\n",
        "o\tHo: I am a truth-teller.\n",
        "o\tLo: Ho is not a truth-teller.\n",
        "o\tPo: Lo is not a liar.\n",
        "Since exactly one person is a liar, if Lo is the liar, then:\n",
        "•\tLo’s statement is false (so Ho is telling the truth).\n",
        "•\tPo’s statement that Lo is not a liar is true.\n",
        "Answer: Lo is the liar."
      ],
      "metadata": {
        "id": "rYUsCMT-wclI"
      },
      "execution_count": null,
      "outputs": []
    },
    {
      "cell_type": "code",
      "source": [
        "Q.7) Fact 1: Mary said, \"Ann and I both have cats.\"\n",
        "Fact 2: Ann said, \"I don't have a cat.\"\n",
        "Fact 3: Mary always tells the truth, but Ann sometimes lies.\n",
        "If the first three statements are facts, which of the following statements must also be a fact?\n",
        "I: Ann has a cat.  II: Mary has a cat.  III: Ann is lying.\n",
        "a) I only  b) II only  c) I and II only  d) All statements are facts.\n",
        "•\tFacts:\n",
        "o\tMary always tells the truth, so she and Ann both have cats.\n",
        "o\tAnn sometimes lies, so her statement about not having a cat is false.\n",
        "Answer: d) All statements are facts."
      ],
      "metadata": {
        "id": "sXQaUR5swcn4"
      },
      "execution_count": null,
      "outputs": []
    },
    {
      "cell_type": "code",
      "source": [
        "Q.8) All Lamels are Signots with buttons.\n",
        "No yellow Signots have buttons.\n",
        "No Lamels are yellow.\n",
        "If the first two statements are true, the third statement is\n",
        "a) True  b) False  c) Uncertain\n",
        "Directions for Q 9 & 10: Three criminals were arrested for shop lifting. However, when interrogated, only one of them told the truth in both his statements, while the other two each told one true statement and one lie. The statements were:\n",
        "Ti-Ti: (a) Chi-chi passed the goods. (b) Ki- Ki created the diversion.\n",
        "Ki-Ki : (a) Ti-Ti passed the goods. (b) I created the diversion.\n",
        "Chi-Chi : (a) I took the goods out of the shop. (b) Ki-Ki passed goods.\n",
        "•\tStatements:\n",
        "o\tAll Lamels are Signots with buttons.\n",
        "o\tNo yellow Signots have buttons.\n",
        "o\tNo Lamels are yellow.\n",
        "If all Lamels have buttons and no yellow Signots have buttons, it follows that no Lamels can be yellow.\n",
        "Answer: a) True."
      ],
      "metadata": {
        "id": "zsrqw9ZqvTLU"
      },
      "execution_count": null,
      "outputs": []
    },
    {
      "cell_type": "code",
      "source": [
        "Q.9) Who created the diversion?\n",
        "1. Ti-Ti  2. Chi-chi  3. Ki-Ki  4. Either 1 or 2\n",
        "•\tStatements:\n",
        "o\tTi-Ti: Chi-Chi passed the goods. Ki-Ki created the diversion.\n",
        "o\tKi-Ki: Ti-Ti passed the goods. I created the diversion.\n",
        "o\tChi-Chi: I took the goods out. Ki-Ki passed the goods.\n",
        "Only one person told the truth in both statements. After elimination, it aligns that Ki-Ki created the diversion.\n",
        "Answer: 3. Ki-Ki."
      ],
      "metadata": {
        "id": "Lm26IDG9u1LT"
      },
      "execution_count": null,
      "outputs": []
    },
    {
      "cell_type": "code",
      "source": [
        "Q.10) Which of these statements is correct?\n",
        "Chi-Chi created the diversion.\n",
        "Ti-Ti took the goods out of the shop.\n",
        "Chi-Chi passed the goods.\n",
        "Ti-Ti passed the goods.\n",
        "Chi-Chi passed the goods, as indicated in Chi-Chi's statement (since Ti-Ti’s claim about Chi-Chi passing the goods is true and consistent with the others)\n",
        "Anawer. Chi-Chi passed the goods.\n",
        "In the village of Rampur, all inhabitants always answer any question with two sentences, one of which is always true, the other is always false.\n",
        "While visiting the village, Gauri meets three inhabitants—Rajesh, Mahesh and Ramesh near the village square. One of them is wearing a suit. Knowing that they were there to resolve a dispute over the ownership of some land, you ask them—“Who got the land?” They answer as follows:\n",
        "Rajesh: “I got the land. Ramesh is wearing the suit.”\n",
        "Mahesh: “I am wearing the suit. I got the land.”\n",
        "Ramesh: “I got the land. I am not wearing the suit.”\n",
        "\n",
        "4) Who is wearing the suit?\n",
        "a) Rajesh b) Mahesh c) Ramesh d) None of these\n",
        "Since each villager gives one true statement and one false statement, let's analyze:\n",
        "If Mahesh is wearing the suit, Rajesh’s statement about Ramesh wearing the suit must be false, which makes his second statement about getting the land true.\n",
        "Mahesh’s statement about getting the land must then be false, meaning he is only truthful about wearing the suit.\n",
        "Answer: b) Mahesh.\n",
        "\n",
        "5) Who got the land?\n",
        "a) Rajesh b) Can’t say c) Ramesh d) Mahesh\n",
        "From the above reasoning:\n",
        "\n",
        "If Rajesh’s statement about Ramesh wearing the suit is false, then his claim of getting the land is true.\n",
        "Answer: a) Rajesh.\n",
        "\n",
        "On waking up the next morning, you find that your brand new watch has been stolen. The suspects are the same trio you met the previous day. You question them (knowing that only one of them is guilty).\n",
        "And they reply as follows:\n",
        "Rajesh: “Mahesh did not do it. I did not do it.”\n",
        "Mahesh: “I did not do it. Ramesh did not do it.”\n",
        "Ramesh: “I did not do it. I do not know who did it.”\n",
        "\n",
        "6) Who stole the watch?\n",
        "a) Can’t say b) Ramesh c) Mahesh d) Rajesh\n",
        "Since only one person is guilty and only one statement from each person is true, we need to eliminate falsehoods:\n",
        "\n",
        "If Rajesh is guilty, then his second statement (“I did not do it”) must be false, while his first statement (“Mahesh did not do it”) must be true.\n",
        "This makes Mahesh’s statement (“I did not do it”) false, and Ramesh’s first statement true.\n",
        "Answer: d) Rajesh.\n",
        "\n",
        "Going around the village, you come across three people. One of them is a dentist, one a barrister and one a professor. You want to know who is who.\n",
        "Peter says, ‘‘I am not a professor. Shina is not a professor.”\n",
        "Matt says, ‘‘Peter is not a barrister. Shina is a professor.”\n",
        "Shina says, ‘‘Peter is not a dentist. I am not a professor.”\n",
        "\n",
        "9) Which of the following is true?\n",
        "a) Shina is the professor b) Peter is the dentist c) Matt is the barrister. d) None of these\n",
        "From Shina’s and Matt’s statements, if Shina is lying, she is indeed the professor. If Peter is not a barrister (as Matt claims), then Peter must be the dentist.\n",
        "\n",
        "Answer: b) Peter is the dentist.\n",
        "\n",
        "Further, you come across three women, one of whom is an excellent singer. You start questioning them, when you notice that Minaxi is wearing a flower in her hair.\n",
        "Madhuri says, ‘‘I am not the singer. The singer wears a flower in her hair.”\n",
        "Minaxi says, ‘‘I am the singer. The singer is amongst us.”\n",
        "Jaya says, ‘‘Madhuri is the singer. Minaxi is not the singer.”\n",
        "\n",
        "10) Who is the singer?\n",
        "a) Madhuri b) Minaxi c) Jaya d) None of these\n",
        "\n",
        "Minaxi is wearing a flower in her hair, which aligns with Madhuri's claim that the singer wears a flower. Since Madhuri’s statement has to be partially true, it must be that Minaxi is the singer.\n",
        "\n",
        "Answer: b) Minaxi.\n",
        "\n",
        "Coming across a group of three persons—Raju, Golu, and Suyash—you hear them make two statements:\n",
        "Raju: “All of us are type Y’s”.\n",
        "Golu: “Exactly one of us is a type X.”\n",
        "\n",
        "3) Which of the following is true?\n",
        "a) Raju is type Y b) Golu is a type X. c) Suyash is a type Y d) All of these\n",
        "\n",
        "If Golu’s statement is true, then exactly one of the three is a type X. This means Raju’s statement that “all of us are type Y’s” is false. Therefore, Raju cannot be type Y, and Golu must be type X.\n",
        "\n",
        "Answer: b) Golu is a type X."
      ],
      "metadata": {
        "id": "ScY3de3Z3NnK"
      },
      "execution_count": null,
      "outputs": []
    }
  ]
}