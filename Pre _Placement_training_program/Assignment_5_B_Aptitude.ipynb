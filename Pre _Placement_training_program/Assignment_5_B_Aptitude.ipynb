{
  "nbformat": 4,
  "nbformat_minor": 0,
  "metadata": {
    "colab": {
      "provenance": []
    },
    "kernelspec": {
      "name": "python3",
      "display_name": "Python 3"
    },
    "language_info": {
      "name": "python"
    }
  },
  "cells": [
    {
      "cell_type": "code",
      "execution_count": null,
      "metadata": {
        "id": "rpqItP3mo0ay"
      },
      "outputs": [],
      "source": [
        "Time, Speed & Distance"
      ]
    },
    {
      "cell_type": "code",
      "source": [
        "1. An aeroplane covers a certain distance at a speed of 240 kmph in 5 hours. To cover the same distance in 1 2/3 hours, it must travel at a speed of:\n",
        "•\tDistance = Speed × Time = 240×5=1200 km240 \\times 5 = 1200 \\text{ km}240×5=1200 km\n",
        "•\tNew speed = 120053=720 kmph\\frac{1200}{\\frac{5}{3}} = 720 \\text{ kmph}351200=720 kmph\n",
        "Answer: d) 720 kmph"
      ],
      "metadata": {
        "id": "QF7MVD0ro115"
      },
      "execution_count": null,
      "outputs": []
    },
    {
      "cell_type": "code",
      "source": [
        "2. If a person walks at 14 km/hr instead of 10 km/hr, he can walk 20 km more. The actual distance travelled by him is:\n",
        "•\tLet the actual distance be ddd.\n",
        "•\tTime = d10=d+2014\\frac{d}{10} = \\frac{d + 20}{14}10d=14d+20\n",
        "•\tSolve 14d=10(d+20)14d = 10(d + 20)14d=10(d+20)\n",
        "•\t14d=10d+200  ⟹  d=50 km14d = 10d + 200 \\implies d = 50 \\text{ km}14d=10d+200⟹d=50 km\n",
        "Answer: a) 50 km"
      ],
      "metadata": {
        "id": "meI58kLAo145"
      },
      "execution_count": null,
      "outputs": []
    },
    {
      "cell_type": "code",
      "source": [
        "3. A train can travel 50% faster than a car. Both start from point A at the same time and reach point B, 75 km away from A, at the same time. On the way, however, the train lost 12.5 minutes while stopping at the stations. The speed of the car is:\n",
        "•\tLet the speed of the car be xxx. Train speed = 1.5x1.5x1.5x\n",
        "•\tTime by train = 751.5x+12.560\\frac{75}{1.5x} + \\frac{12.5}{60}1.5x75+6012.5\n",
        "•\tTime by car = 75x\\frac{75}{x}x75\n",
        "•\t75x=751.5x+12.560\\frac{75}{x} = \\frac{75}{1.5x} + \\frac{12.5}{60}x75=1.5x75+6012.5\n",
        "•\tSolve: x=120 kmphx = 120 \\text{ kmph}x=120 kmph\n",
        "Answer: c) 120 kmph"
      ],
      "metadata": {
        "id": "auloOgjoo17e"
      },
      "execution_count": null,
      "outputs": []
    },
    {
      "cell_type": "code",
      "source": [
        "4. Excluding stoppages, the speed of a bus is 54 kmph, and including stoppages, it is 45 kmph. For how many minutes does the bus stop per hour?\n",
        "•\tTime lost per hour = 54−4554×60=10 minutes\\frac{54 - 45}{54} \\times 60 = 10 \\text{ minutes}5454−45×60=10 minutes\n",
        "Answer: b) 10"
      ],
      "metadata": {
        "id": "WAuRVrLko1-b"
      },
      "execution_count": null,
      "outputs": []
    },
    {
      "cell_type": "code",
      "source": [
        "5. In a flight of 600 km, an aircraft was slowed down due to bad weather. Its average speed for the trip was reduced by 200 km/hr, and the time of flight increased by 30 minutes. The duration of the flight is:\n",
        "•\tLet original speed be xxx. New speed = x−200x - 200x−200\n",
        "•\tOriginal time = 600x\\frac{600}{x}x600, New time = 600x−200\\frac{600}{x - 200}x−200600\n",
        "•\t600x−200−600x=0.5\\frac{600}{x - 200} - \\frac{600}{x} = 0.5x−200600−x600=0.5\n",
        "•\tSolve: x=400 kmph, so time=600400=1.5 hoursx = 400 \\text{ kmph}, \\text{ so time} = \\frac{600}{400} = 1.5 \\text{ hours}x=400 kmph, so time=400600=1.5 hours\n",
        "Answer: b) 2 hours"
      ],
      "metadata": {
        "id": "J69KzSZ0o2Bf"
      },
      "execution_count": null,
      "outputs": []
    },
    {
      "cell_type": "code",
      "source": [
        "6. A man completes a journey in 10 hours. He travels the first half at the rate of 21 km/hr and the second half at 24 km/hr. Find the total journey in km.\n",
        "•\tLet the total distance be 2d2d2d.\n",
        "•\td21+d24=10\\frac{d}{21} + \\frac{d}{24} = 1021d+24d=10\n",
        "•\tSolve: d=112 km, so total distance=224 kmd = 112 \\text{ km}, \\text{ so total distance} = 224 \\text{ km}d=112 km, so total distance=224 km\n",
        "Answer: b) 224 km"
      ],
      "metadata": {
        "id": "YMpxGxC6o2EN"
      },
      "execution_count": null,
      "outputs": []
    },
    {
      "cell_type": "code",
      "source": [
        "7. The ratio between the speeds of two trains is 7:8. If the second train runs 400 km in 4 hours, then the speed of the first train is:\n",
        "•\tSpeed of the second train = 4004=100 kmph\\frac{400}{4} = 100 \\text{ kmph}4400=100 kmph\n",
        "•\tSpeed of the first train = 78×100=87.5 kmph\\frac{7}{8} \\times 100 = 87.5 \\text{ kmph}87×100=87.5 kmph\n",
        "Answer: d) 87.5 km/hr"
      ],
      "metadata": {
        "id": "TqFZ-YRso2Gt"
      },
      "execution_count": null,
      "outputs": []
    },
    {
      "cell_type": "code",
      "source": [
        "8. A man on tour travels first 160 km at 64 km/hr and the next 160 km at 80 km/hr. The average speed for the first 320 km of the tour is:\n",
        "•\tTotal distance = 320 km\n",
        "•\tTotal time = 16064+16080=2.5+2=4.5 hours\\frac{160}{64} + \\frac{160}{80} = 2.5 + 2 = 4.5 \\text{ hours}64160+80160=2.5+2=4.5 hours\n",
        "•\tAverage speed = 3204.5≈71.11 kmph\\frac{320}{4.5} \\approx 71.11 \\text{ kmph}4.5320≈71.11 kmph\n",
        "Answer: c) 71.11 km/hr"
      ],
      "metadata": {
        "id": "WgUmCf-xo2Jb"
      },
      "execution_count": null,
      "outputs": []
    },
    {
      "cell_type": "code",
      "source": [
        "9. In covering a distance of 30 km, Abhay takes 2 hours more than Sameer. If Abhay doubles his speed, then he would take 1 hour less than Sameer. Abhay's speed is:\n",
        "•\tLet Sameer's speed be xxx, Abhay's speed = yyy\n",
        "•\t30y=30x+2\\frac{30}{y} = \\frac{30}{x} + 2y30=x30+2 and 302y=30x−1\\frac{30}{2y} = \\frac{30}{x} - 12y30=x30−1\n",
        "•\tSolve for yyy: y=5 kmphy = 5 \\text{ kmph}y=5 kmph\n",
        "Answer: a) 5 kmph"
      ],
      "metadata": {
        "id": "NWEt1qkko2Mb"
      },
      "execution_count": null,
      "outputs": []
    },
    {
      "cell_type": "code",
      "source": [
        "10) Robert is travelling on his cycle and has calculated to reach point A at 2 P.M. if he travels at 10 kmph, he will reach there at 12 noon if he travels at 15 kmph. At what speed must he travel to reach A at 1 P.M.?\n",
        "Let the distance be DDD.\n",
        "•\tTime taken to travel at 10 kmph: D10\\frac{D}{10}10D hours.\n",
        "•\tTime taken to travel at 15 kmph: D15\\frac{D}{15}15D hours.\n",
        "According to the problem:\n",
        "D10−D15=2 hours(since he saves 2 hours by increasing the speed)\\frac{D}{10} - \\frac{D}{15} = 2 \\, \\text{hours} \\quad \\text{(since he saves 2 hours by increasing the speed)}10D−15D=2hours(since he saves 2 hours by increasing the speed)\n",
        "Solving this equation:\n",
        "3D−2D30=2\\frac{3D - 2D}{30} = 2303D−2D=2 D=60 km.D = 60 \\, \\text{km}.D=60km.\n",
        "Now, he needs to reach point A at 1 P.M., so the time available is 1 hour less than at 2 P.M., i.e., Dx=5 hours\\frac{D}{x} = 5 \\, \\text{hours}xD=5hours, where xxx is the required speed.\n",
        "60x=5⇒x=12 kmph.\\frac{60}{x} = 5 \\quad \\Rightarrow \\quad x = 12 \\, \\text{kmph}.x60=5⇒x=12kmph.\n",
        "Answer: c) 12 kmph"
      ],
      "metadata": {
        "id": "GNCSY4IGo2PF"
      },
      "execution_count": null,
      "outputs": []
    },
    {
      "cell_type": "code",
      "source": [
        "11) It takes eight hours for a 600 km journey, if 120 km is done by train and the rest by car. It takes 20 minutes more, if 200 km is done by train and the rest by car. The ratio of the speed of the train to that of the cars is:\n",
        "Let the speed of the train be TTT and the speed of the car be CCC.\n",
        "First case: 120T+480C=8\\frac{120}{T} + \\frac{480}{C} = 8T120+C480=8\n",
        "Second case: 200T+400C=8+13=8.33\\frac{200}{T} + \\frac{400}{C} = 8 + \\frac{1}{3} = 8.33T200+C400=8+31=8.33\n",
        "Now solve these two equations:\n",
        "1.\t120T+480C=8\\frac{120}{T} + \\frac{480}{C} = 8T120+C480=8\n",
        "2.\t200T+400C=8.33\\frac{200}{T} + \\frac{400}{C} = 8.33T200+C400=8.33\n",
        "Multiply the first equation by 5:\n",
        "600T+2400C=40\\frac{600}{T} + \\frac{2400}{C} = 40T600+C2400=40\n",
        "Multiply the second equation by 3:\n",
        "600T+1200C=25\\frac{600}{T} + \\frac{1200}{C} = 25T600+C1200=25\n",
        "Now subtract the second equation from the first:\n",
        "1200C=15⇒C=80 kmph.\\frac{1200}{C} = 15 \\quad \\Rightarrow \\quad C = 80 \\, \\text{kmph}.C1200=15⇒C=80kmph.\n",
        "Substitute C=80C = 80C=80 into the first equation:\n",
        "120T+48080=8⇒120T+6=8⇒T=60 kmph.\\frac{120}{T} + \\frac{480}{80} = 8 \\quad \\Rightarrow \\quad \\frac{120}{T} + 6 = 8 \\quad \\Rightarrow \\quad T = 60 \\, \\text{kmph}.T120+80480=8⇒T120+6=8⇒T=60kmph.\n",
        "The ratio of the speed of the train to the speed of the car is:\n",
        "TC=6080=34.\\frac{T}{C} = \\frac{60}{80} = \\frac{3}{4}.CT=8060=43.\n",
        "Answer: c) 3:4"
      ],
      "metadata": {
        "id": "lNFLWJnQo2SH"
      },
      "execution_count": null,
      "outputs": []
    },
    {
      "cell_type": "code",
      "source": [
        "12) A farmer travelled a distance of 61 km in 9 hours. He travelled partly on foot at 4 km/hr and partly on bicycle at 9 km/hr. The distance travelled on foot is:\n",
        "Let the time spent walking be t1t_1t1 hours and the time spent bicycling be t2t_2t2 hours. Then:\n",
        "1.\tt1+t2=9t_1 + t_2 = 9t1+t2=9 (since the total time is 9 hours)\n",
        "2.\t4t1+9t2=614t_1 + 9t_2 = 614t1+9t2=61 (since the total distance is 61 km)\n",
        "From equation 1, we get t2=9−t1t_2 = 9 - t_1t2=9−t1.\n",
        "Substitute this into equation 2:\n",
        "4t1+9(9−t1)=614t_1 + 9(9 - t_1) = 614t1+9(9−t1)=61 4t1+81−9t1=614t_1 + 81 - 9t_1 = 614t1+81−9t1=61 −5t1=−20⇒t1=4 hours.-5t_1 = -20 \\quad \\Rightarrow \\quad t_1 = 4 \\, \\text{hours}.−5t1=−20⇒t1=4hours.\n",
        "Thus, the distance travelled on foot is:\n",
        "4×4=16 km.4 \\times 4 = 16 \\, \\text{km}.4×4=16km.\n",
        "Answer: c) 16 km"
      ],
      "metadata": {
        "id": "xezD4V9qo2U3"
      },
      "execution_count": null,
      "outputs": []
    },
    {
      "cell_type": "code",
      "source": [
        "13) A train running at the speed of 60 km/hr crosses a pole in 9 seconds. What is the length of the train?\n",
        "Speed = 60 km/hr = 60×10003600\\frac{60 \\times 1000}{3600}360060×1000 m/s = 16.67 m/s.\n",
        "Time taken to cross the pole = 9 seconds.\n",
        "Length of the train = speed ×\\times× time = 16.67×9=150 metres.16.67 \\times 9 = 150 \\, \\text{metres}.16.67×9=150metres.\n",
        "Answer: d) 150 metres"
      ],
      "metadata": {
        "id": "l5sEXk15o2Xs"
      },
      "execution_count": null,
      "outputs": []
    },
    {
      "cell_type": "code",
      "source": [
        "14) A train 125 m long passes a man running at 5 km/h in the same direction in which the train is going, in 10 seconds. The speed of the train is:\n",
        "Let the speed of the train be xxx km/h.\n",
        "Relative speed = (x−5)(x - 5)(x−5) km/h. Converting this into m/s:\n",
        "(x−5)×518 m/s.(x - 5) \\times \\frac{5}{18} \\, \\text{m/s}.(x−5)×185m/s.\n",
        "The time to pass the man is 10 seconds, so:\n",
        "(x−5)×518×10=125⇒(x−5)=45.\\frac{(x - 5) \\times 5}{18} \\times 10 = 125 \\quad \\Rightarrow \\quad (x - 5) = 45.18(x−5)×5×10=125⇒(x−5)=45.\n",
        "Thus, x=50x = 50x=50 km/h.\n",
        "Answer: b) 50 km/h"
      ],
      "metadata": {
        "id": "wTsXr0bfo2aV"
      },
      "execution_count": null,
      "outputs": []
    },
    {
      "cell_type": "code",
      "source": [
        "15) The length of the bridge, which a train 130 metres long and travelling at 45 km/h can cross in 30 seconds, is:\n",
        "Speed of the train = 45×518=12.5 m/s45 \\times \\frac{5}{18} = 12.5 \\, \\text{m/s}45×185=12.5m/s.\n",
        "Let the length of the bridge be LLL. The total distance covered in 30 seconds is:\n",
        "Total distance=(130+L)=12.5×30=375 metres.\\text{Total distance} = (130 + L) = 12.5 \\times 30 = 375 \\, \\text{metres}.Total distance=(130+L)=12.5×30=375metres. 130+L=375⇒L=245 metres.130 + L = 375 \\quad \\Rightarrow \\quad L = 245 \\, \\text{metres}.130+L=375⇒L=245metres.\n",
        "Answer: c) 245 m"
      ],
      "metadata": {
        "id": "a1cAuZAPo2gd"
      },
      "execution_count": null,
      "outputs": []
    },
    {
      "cell_type": "code",
      "source": [
        "16) Two trains running in opposite directions cross a man standing on the platform in 27 seconds and 17 seconds respectively and they cross each other in 23 seconds. The ratio of their speeds is:\n",
        "Let the speeds of the two trains be S1S_1S1 and S2S_2S2 and their lengths be L1L_1L1 and L2L_2L2.\n",
        "L1=S1×27,L2=S2×17.L_1 = S_1 \\times 27, \\quad L_2 = S_2 \\times 17.L1=S1×27,L2=S2×17.\n",
        "They cross each other in 23 seconds:\n",
        "L1+L2=(S1+S2)×23.L_1 + L_2 = (S_1 + S_2) \\times 23.L1+L2=(S1+S2)×23.\n",
        "Substitute L1L_1L1 and L2L_2L2:\n",
        "27S1+17S2=23(S1+S2).27 S_1 + 17 S_2 = 23(S_1 + S_2).27S1+17S2=23(S1+S2).\n",
        "Solving for the ratio:\n",
        "S1S2=32.\\frac{S_1}{S_2} = \\frac{3}{2}.S2S1=23.\n",
        "Answer: b) 3:2"
      ],
      "metadata": {
        "id": "DXgVQZsN3zqk"
      },
      "execution_count": null,
      "outputs": []
    },
    {
      "cell_type": "code",
      "source": [
        "17) A train passes a station platform in 36 seconds and a man standing on the platform in 20 seconds. If the speed of the train is 54 km/h, what is the length of the platform?\n",
        "Speed of the train = 54×518=15 m/s54 \\times \\frac{5}{18} = 15 \\, \\text{m/s}54×185=15m/s.\n",
        "Let the length of the train be LtL_tLt and the length of the platform be LpL_pLp.\n",
        "The train passes the man in 20 seconds, so:\n",
        "Lt=15×20=300 metres.L_t = 15 \\times 20 = 300 \\, \\text{metres}.Lt=15×20=300metres.\n",
        "The train passes the platform in 36 seconds, so:\n",
        "Lt+Lp=15×36=540.L_t + L_p = 15 \\times 36 = 540.Lt+Lp=15×36=540.\n",
        "Thus:\n",
        "300+Lp=540⇒Lp=240 metres.300 + L_p = 540 \\quad \\Rightarrow \\quad L_p = 240 \\, \\text{metres}.300+Lp=540⇒Lp=240metres.\n",
        "Answer: b) 240 m"
      ],
      "metadata": {
        "id": "y5YyTsql3zx1"
      },
      "execution_count": null,
      "outputs": []
    },
    {
      "cell_type": "code",
      "source": [
        "18) A train 240 m long passes a pole in 24 seconds. How long will it take to pass a platform 650 m long?\n",
        "Speed of the train = 24024=10 m/s\\frac{240}{24} = 10 \\, \\text{m/s}24240=10m/s.\n",
        "The total distance to be covered = 240+650=890 metres240 + 650 = 890 \\, \\text{metres}240+650=890metres.\n",
        "Time taken to pass the platform:\n",
        "89010=89 seconds.\\frac{890}{10} = 89 \\, \\text{seconds}.10890=89seconds.\n",
        "Answer: b) 89 sec"
      ],
      "metadata": {
        "id": "6FS1Er033z1F"
      },
      "execution_count": null,
      "outputs": []
    },
    {
      "cell_type": "code",
      "source": [
        "19) Two trains of equal length are running on parallel lines in the same direction at 46 km/h and 36 km/h. The faster train passes the slower one in 36 seconds. The length of each train is:\n",
        "Relative speed = 46−36=10 km/h=10×10003600=259 m/s46 - 36 = 10 \\, \\text{km/h} = \\frac{10 \\times 1000}{3600} = \\frac{25}{9} \\, \\text{m/s}46−36=10km/h=360010×1000=925m/s.\n",
        "Let the length of each train be LLL. The time taken to pass the slower train is 36 seconds, so:\n",
        "2L36=259⇒L=50 metres.\\frac{2L}{36} = \\frac{25}{9} \\quad \\Rightarrow \\quad L = 50 \\, \\text{metres}.362L=925⇒L=50metres.\n",
        "Answer: a) 50 m"
      ],
      "metadata": {
        "id": "e2SFdwiH3z44"
      },
      "execution_count": null,
      "outputs": []
    },
    {
      "cell_type": "code",
      "source": [
        "20) A train 360 m long is running at a speed of 45 km/h. In what time will it pass a bridge 140 m long?\n",
        "Speed of the train = 45×518=12.5 m/s45 \\times \\frac{5}{18} = 12.5 \\, \\text{m/s}45×185=12.5m/s.\n",
        "Total distance = 360+140=500 metres360 + 140 = 500 \\, \\text{metres}360+140=500metres.\n",
        "Time taken:\n",
        "50012.5=40 seconds.\\frac{500}{12.5} = 40 \\, \\text{seconds}.12.5500=40seconds.\n",
        "Answer: a) 40 sec"
      ],
      "metadata": {
        "id": "DBqlNa3T3z9J"
      },
      "execution_count": null,
      "outputs": []
    },
    {
      "cell_type": "code",
      "source": [
        "21) Two trains are moving in opposite directions at 60 km/h and 90 km/h. Their lengths are 1.10 km and 0.9 km respectively. The time taken by the slower train to cross the faster train in seconds is:\n",
        "Relative speed = 60+90=150 km/h=150×10003600=41.67 m/s60 + 90 = 150 \\, \\text{km/h} = 150 \\times \\frac{1000}{3600} = 41.67 \\, \\text{m/s}60+90=150km/h=150×36001000=41.67m/s.\n",
        "Total distance = 1.10+0.9=2 km=2000 metres1.10 + 0.9 = 2 \\, \\text{km} = 2000 \\, \\text{metres}1.10+0.9=2km=2000metres.\n",
        "Time taken:\n",
        "200041.67≈48 seconds.\\frac{2000}{41.67} \\approx 48 \\, \\text{seconds}.41.672000≈48seconds.\n",
        "Answer: c) 48 sec"
      ],
      "metadata": {
        "id": "eoggztxT30Bh"
      },
      "execution_count": null,
      "outputs": []
    },
    {
      "cell_type": "code",
      "source": [
        "22) A jogger running at 9 kmph alongside a railway track is 240 metres ahead of the engine of a 120-metre-long train running at 45 kmph in the same direction. In how much time will the train pass the jogger?\n",
        "Relative speed of the train with respect to the jogger (since they are moving in the same direction):\n",
        "Relative speed=(45−9) km/h=36 km/h=36×10003600 m/s=10 m/s.\\text{Relative speed} = (45 - 9) \\, \\text{km/h} = 36 \\, \\text{km/h} = \\frac{36 \\times 1000}{3600} \\, \\text{m/s} = 10 \\, \\text{m/s}.Relative speed=(45−9)km/h=36km/h=360036×1000m/s=10m/s.\n",
        "Distance to be covered = 240 m (initial gap) + 120 m (length of the train) = 360 m.\n",
        "Time taken to pass the jogger:\n",
        "Time=36010=36 seconds.\\text{Time} = \\frac{360}{10} = 36 \\, \\text{seconds}.Time=10360=36seconds.\n",
        "Answer: c) 36 sec"
      ],
      "metadata": {
        "id": "nBt4AC_p30FC"
      },
      "execution_count": null,
      "outputs": []
    },
    {
      "cell_type": "code",
      "source": [
        "23) A boat can travel with a speed of 13 km/h in still water. If the speed of the stream is 4 km/h, find the time taken by the boat to go 68 km downstream.\n",
        "Downstream speed = 13+4=17 km/h13 + 4 = 17 \\, \\text{km/h}13+4=17km/h.\n",
        "Time taken to travel 68 km:\n",
        "Time=6817=4 hours.\\text{Time} = \\frac{68}{17} = 4 \\, \\text{hours}.Time=1768=4hours.\n",
        "Answer: c) 4 hours"
      ],
      "metadata": {
        "id": "s7hnb4VU30Ih"
      },
      "execution_count": null,
      "outputs": []
    },
    {
      "cell_type": "code",
      "source": [
        "24) A man's speed with the current is 15 km/h, and the speed of the current is 2.5 km/h. The man's speed against the current is:\n",
        "Let the man's speed in still water be xxx.\n",
        "With the current:\n",
        "x+2.5=15⇒x=12.5 km/h.x + 2.5 = 15 \\quad \\Rightarrow \\quad x = 12.5 \\, \\text{km/h}.x+2.5=15⇒x=12.5km/h.\n",
        "Against the current:\n",
        "Speed=x−2.5=12.5−2.5=10 km/h.\\text{Speed} = x - 2.5 = 12.5 - 2.5 = 10 \\, \\text{km/h}.Speed=x−2.5=12.5−2.5=10km/h.\n",
        "Answer: c) 10 km/h"
      ],
      "metadata": {
        "id": "TCaX1YDM30L7"
      },
      "execution_count": null,
      "outputs": []
    },
    {
      "cell_type": "code",
      "source": [
        "25) A boat running upstream takes 8 hours 48 minutes to cover a certain distance, while it takes 4 hours to cover the same distance running downstream. What is the ratio between the speed of the boat and speed of the water current respectively?\n",
        "Convert 8 hours 48 minutes to hours:\n",
        "8 hours 48 minutes=8+4860=8.8 hours.8 \\, \\text{hours} \\, 48 \\, \\text{minutes} = 8 + \\frac{48}{60} = 8.8 \\, \\text{hours}.8hours48minutes=8+6048=8.8hours.\n",
        "Let bbb be the speed of the boat in still water, and ccc be the speed of the current.\n",
        "Upstream speed = b−cb - cb−c, downstream speed = b+cb + cb+c.\n",
        "The ratio of times:\n",
        "8.84=b+cb−c.\\frac{8.8}{4} = \\frac{b + c}{b - c}.48.8=b−cb+c.\n",
        "Solving for bc\\frac{b}{c}cb:\n",
        "2.2=b+cb−c.2.2 = \\frac{b + c}{b - c}.2.2=b−cb+c.\n",
        "Cross-multiply:\n",
        "2.2(b−c)=b+c⇒2.2b−2.2c=b+c.2.2(b - c) = b + c \\quad \\Rightarrow \\quad 2.2b - 2.2c = b + c.2.2(b−c)=b+c⇒2.2b−2.2c=b+c.\n",
        "Simplify:\n",
        "1.2b=3.2c⇒bc=3.21.2=83.1.2b = 3.2c \\quad \\Rightarrow \\quad \\frac{b}{c} = \\frac{3.2}{1.2} = \\frac{8}{3}.1.2b=3.2c⇒cb=1.23.2=38.\n",
        "Answer: c) 8:3"
      ],
      "metadata": {
        "id": "EhOF3vbI30PM"
      },
      "execution_count": null,
      "outputs": []
    },
    {
      "cell_type": "code",
      "source": [
        "26) A motorboat, whose speed is 15 km/h in still water, goes 30 km downstream and comes back in a total of 4 hours 30 minutes. The speed of the stream (in km/h) is:\n",
        "Let the speed of the stream be sss.\n",
        "Downstream speed = 15+s15 + s15+s, upstream speed = 15−s15 - s15−s.\n",
        "Total time is 4.5 hours:\n",
        "3015+s+3015−s=4.5.\\frac{30}{15 + s} + \\frac{30}{15 - s} = 4.5.15+s30+15−s30=4.5.\n",
        "Multiplying both sides by (15+s)(15−s)(15 + s)(15 - s)(15+s)(15−s):\n",
        "30(15−s)+30(15+s)=4.5(152−s2).30(15 - s) + 30(15 + s) = 4.5(15^2 - s^2).30(15−s)+30(15+s)=4.5(152−s2).\n",
        "Simplifying:\n",
        "30(30)=4.5(225−s2).30(30) = 4.5(225 - s^2).30(30)=4.5(225−s2). 900=4.5(225−s2)⇒900=1012.5−4.5s2⇒4.5s2=112.5.900 = 4.5(225 - s^2) \\quad \\Rightarrow \\quad 900 = 1012.5 - 4.5s^2 \\quad \\Rightarrow \\quad 4.5s^2 = 112.5.900=4.5(225−s2)⇒900=1012.5−4.5s2⇒4.5s2=112.5. s2=25⇒s=5 km/h.s^2 = 25 \\quad \\Rightarrow \\quad s = 5 \\, \\text{km/h}.s2=25⇒s=5km/h.\n",
        "Answer: b) 5"
      ],
      "metadata": {
        "id": "jSmLExhFo2jv"
      },
      "execution_count": null,
      "outputs": []
    },
    {
      "cell_type": "code",
      "source": [
        "27) In one hour, a boat goes 11 km along the stream and 5 km against the stream. The speed of the boat in still water is:\n",
        "Let the speed of the boat in still water be bbb, and the speed of the stream be ccc.\n",
        "Along the stream: b+c=11b + c = 11b+c=11.\n",
        "Against the stream: b−c=5b - c = 5b−c=5.\n",
        "Adding the two equations:\n",
        "(b+c)+(b−c)=11+5⇒2b=16⇒b=8 km/h.(b + c) + (b - c) = 11 + 5 \\quad \\Rightarrow \\quad 2b = 16 \\quad \\Rightarrow \\quad b = 8 \\, \\text{km/h}.(b+c)+(b−c)=11+5⇒2b=16⇒b=8km/h.\n",
        "Answer: c) 8 km/h"
      ],
      "metadata": {
        "id": "DyNK8Uj3o2mP"
      },
      "execution_count": null,
      "outputs": []
    },
    {
      "cell_type": "code",
      "source": [
        "28) A boat running downstream covers a distance of 16 km in 2 hours, while for covering the same distance upstream, it takes 4 hours. What is the speed of the boat in still water?\n",
        "Downstream speed = 162=8 km/h\\frac{16}{2} = 8 \\, \\text{km/h}216=8km/h.\n",
        "Upstream speed = 164=4 km/h\\frac{16}{4} = 4 \\, \\text{km/h}416=4km/h.\n",
        "Let bbb be the speed of the boat in still water, and ccc be the speed of the current.\n",
        "Downstream: b+c=8b + c = 8b+c=8. Upstream: b−c=4b - c = 4b−c=4.\n",
        "Adding the two:\n",
        "(b+c)+(b−c)=8+4⇒2b=12⇒b=6 km/h.(b + c) + (b - c) = 8 + 4 \\quad \\Rightarrow \\quad 2b = 12 \\quad \\Rightarrow \\quad b = 6 \\, \\text{km/h}.(b+c)+(b−c)=8+4⇒2b=12⇒b=6km/h.\n",
        "Answer: b) 6 km/h"
      ],
      "metadata": {
        "id": "8cBGcZUVo2sh"
      },
      "execution_count": null,
      "outputs": []
    },
    {
      "cell_type": "code",
      "source": [
        "29) The speed of a boat in still water is 15 km/h, and the rate of the current is 3 km/h. The distance travelled downstream in 12 minutes is:\n",
        "Downstream speed = 15+3=18 km/h15 + 3 = 18 \\, \\text{km/h}15+3=18km/h.\n",
        "Time = 12 minutes = 1260 hours=0.2 hours\\frac{12}{60} \\, \\text{hours} = 0.2 \\, \\text{hours}6012hours=0.2hours.\n",
        "Distance:\n",
        "Distance=Speed×Time=18×0.2=3.6 km.\\text{Distance} = \\text{Speed} \\times \\text{Time} = 18 \\times 0.2 = 3.6 \\, \\text{km}.Distance=Speed×Time=18×0.2=3.6km.\n",
        "Answer: d) 3.6 km"
      ],
      "metadata": {
        "id": "5DbvtdKFo2v2"
      },
      "execution_count": null,
      "outputs": []
    },
    {
      "cell_type": "code",
      "source": [
        "30) A boat takes 90 minutes less to travel 36 miles downstream than to travel the same distance upstream. If the speed of the boat in still water is 10 mph, the speed of the stream is:\n",
        "Let the speed of the stream be sss.\n",
        "Downstream speed = 10+s10 + s10+s, upstream speed = 10−s10 - s10−s.\n",
        "The difference in time is 90 minutes = 9060=1.5 hours\\frac{90}{60} = 1.5 \\, \\text{hours}6090=1.5hours.\n",
        "Time difference equation:\n",
        "3610−s−3610+s=1.5.\\frac{36}{10 - s} - \\frac{36}{10 + s} = 1.5.10−s36−10+s36=1.5.\n",
        "Multiplying by (10−s)(10+s)(10 - s)(10 + s)(10−s)(10+s):\n",
        "36(10+s)−36(10−s)=1.5((10−s)(10+s)).36(10 + s) - 36(10 - s) = 1.5((10 - s)(10 + s)).36(10+s)−36(10−s)=1.5((10−s)(10+s)).\n",
        "Simplifying:\n",
        "360+36s−360+36s=1.5(100−s2).360 + 36s - 360 + 36s = 1.5(100 - s^2).360+36s−360+36s=1.5(100−s2). 72s=1.5(100−s2)⇒72s=150−1.5s2.72s = 1.5(100 - s^2) \\quad \\Rightarrow \\quad 72s = 150 - 1.5s^2.72s=1.5(100−s2)⇒72s=150−1.5s2.\n",
        "Multiply through by 2:\n",
        "144s=300−3s2⇒3s2+144s−300=0.144s = 300 - 3s^2 \\quad \\Rightarrow \\quad 3s^2 + 144s - 300 = 0.144s=300−3s2⇒3s2+144s−300=0.\n",
        "Solving this quadratic using the quadratic formula:\n",
        "s=−144±1442+4×3×3002×3.s = \\frac{-144 \\pm \\sqrt{144^2 + 4 \\times 3 \\times 300}}{2 \\times 3}.s=2×3−144±1442+4×3×300. s=−144±20736+36006=−144±243366.s = \\frac{-144 \\pm \\sqrt{20736 + 3600}}{6} = \\frac{-144 \\pm \\sqrt{24336}}{6}.s=6−144±20736+3600=6−144±24336. s=−144±1566.s = \\frac{-144 \\pm 156}{6}.s=6−144±156.\n",
        "Taking the positive root:\n",
        "s=126=2 mph.s = \\frac{12}{6} = 2 \\, \\text{mph}.s=612=2mph.\n",
        "Answer: c) 2 mph"
      ],
      "metadata": {
        "id": "XacpEVn7o2ye"
      },
      "execution_count": null,
      "outputs": []
    },
    {
      "cell_type": "code",
      "source": [
        "31) The speed of a boat in still water is 9 km/h, and the speed of the stream is 1.5 km/h. A man rows to a place 105 km away and comes back to the starting point. The total time taken by him is:\n",
        "Upstream speed = 9−1.5=7.5 km/h9 - 1.5 = 7.5 \\, \\text{km/h}9−1.5=7.5km/h.\n",
        "Downstream speed = 9+1.5=10.5 km/h9 + 1.5 = 10.5 \\, \\text{km/h}9+1.5=10.5km/h.\n",
        "The time taken to go upstream:\n",
        "Time upstream=1057.5=14 hours.\\text{Time upstream} = \\frac{105}{7.5} = 14 \\, \\text{hours}.Time upstream=7.5105=14hours.\n",
        "The time taken to go downstream:\n",
        "Time downstream=10510.5=10 hours.\\text{Time downstream} = \\frac{105}{10.5} = 10 \\, \\text{hours}.Time downstream=10.5105=10hours.\n",
        "Total time:\n",
        "Total time=14+10=24 hours.\\text{Total time} = 14 + 10 = 24 \\, \\text{hours}.Total time=14+10=24hours.\n",
        "Answer: d) 24 hours"
      ],
      "metadata": {
        "id": "i8GJsPRO7uXN"
      },
      "execution_count": null,
      "outputs": []
    },
    {
      "cell_type": "code",
      "source": [
        "32) A boat takes 19 hours for travelling downstream from point A to point B and coming back to a point C midway between A and B. If the velocity of the stream is 4 km/h and the speed of the boat in still water is 14 km/h, what is the distance between A and B?\n",
        "Speed downstream = 14+4=18 km/h14 + 4 = 18 \\, \\text{km/h}14+4=18km/h.\n",
        "Speed upstream = 14−4=10 km/h14 - 4 = 10 \\, \\text{km/h}14−4=10km/h.\n",
        "Let the distance between A and B be d kmd \\, \\text{km}dkm.\n",
        "Downstream, the boat travels the full distance from A to B:\n",
        "Time downstream=d18.\\text{Time downstream} = \\frac{d}{18}.Time downstream=18d.\n",
        "Upstream, the boat travels from B to C (half the distance):\n",
        "Time upstream=d/210.\\text{Time upstream} = \\frac{d/2}{10}.Time upstream=10d/2.\n",
        "Total time is 19 hours:\n",
        "d18+d/210=19.\\frac{d}{18} + \\frac{d/2}{10} = 19.18d+10d/2=19.\n",
        "Multiply through by 180 to eliminate the denominators:\n",
        "10d+9d=3420⇒19d=3420⇒d=342019=180 km.10d + 9d = 3420 \\quad \\Rightarrow \\quad 19d = 3420 \\quad \\Rightarrow \\quad d = \\frac{3420}{19} = 180 \\, \\text{km}.10d+9d=3420⇒19d=3420⇒d=193420=180km.\n",
        "Answer: b) 180 km"
      ],
      "metadata": {
        "id": "punlyOlZ7uaU"
      },
      "execution_count": null,
      "outputs": []
    },
    {
      "cell_type": "code",
      "source": [
        "33) The average speed of a train on the onward journey is 25% more than on the return journey. The train halts for one hour on reaching the destination. The total time for the complete to and from journey is 17 hours, covering a distance of 800 km. What is the speed of the train on the onward journey?\n",
        "Let the speed of the train on the return journey be x km/hx \\, \\text{km/h}xkm/h.\n",
        "Then, the speed of the train on the onward journey is 1.25x km/h1.25x \\, \\text{km/h}1.25xkm/h.\n",
        "The distance for each leg of the journey is 400 km400 \\, \\text{km}400km.\n",
        "Time taken for the onward journey:\n",
        "4001.25x=4005x4=16005x=320x hours.\\frac{400}{1.25x} = \\frac{400}{\\frac{5x}{4}} = \\frac{1600}{5x} = \\frac{320}{x} \\, \\text{hours}.1.25x400=45x400=5x1600=x320hours.\n",
        "Time taken for the return journey:\n",
        "400x hours.\\frac{400}{x} \\, \\text{hours}.x400hours.\n",
        "Total time is 17 hours, including the 1-hour halt:\n",
        "320x+400x+1=17⇒720x+1=17⇒720x=16.\\frac{320}{x} + \\frac{400}{x} + 1 = 17 \\quad \\Rightarrow \\quad \\frac{720}{x} + 1 = 17 \\quad \\Rightarrow \\quad \\frac{720}{x} = 16.x320+x400+1=17⇒x720+1=17⇒x720=16.\n",
        "Solving for xxx:\n",
        "x=72016=45 km/h.x = \\frac{720}{16} = 45 \\, \\text{km/h}.x=16720=45km/h.\n",
        "The speed of the train on the onward journey:\n",
        "1.25×45=56.25 km/h.1.25 \\times 45 = 56.25 \\, \\text{km/h}.1.25×45=56.25km/h.\n",
        "Answer: d) 56.25 km/h\n",
        "________________________________________"
      ],
      "metadata": {
        "id": "gmQeIulw7udE"
      },
      "execution_count": null,
      "outputs": []
    },
    {
      "cell_type": "code",
      "source": [
        "34) A thief is noticed by a policeman from a distance of 200 m. The thief starts running, and the policeman chases him. The thief and the policeman run at the rates of 10 km/h and 11 km/h, respectively. What is the distance between them after 6 minutes?\n",
        "Relative speed between the policeman and the thief:\n",
        "Relative speed=(11−10) km/h=1 km/h=100060 m/min≈16.67 m/min.\\text{Relative speed} = (11 - 10) \\, \\text{km/h} = 1 \\, \\text{km/h} = \\frac{1000}{60} \\, \\text{m/min} \\approx 16.67 \\, \\text{m/min}.Relative speed=(11−10)km/h=1km/h=601000m/min≈16.67m/min.\n",
        "In 6 minutes, the policeman closes the gap by:\n",
        "Distance closed=16.67×6=100 m.\\text{Distance closed} = 16.67 \\times 6 = 100 \\, \\text{m}.Distance closed=16.67×6=100m.\n",
        "Initial distance = 200 m.\n",
        "The remaining distance between them:\n",
        "Remaining distance=200−100=100 m.\\text{Remaining distance} = 200 - 100 = 100 \\, \\text{m}.Remaining distance=200−100=100m.\n",
        "Answer: a) 100 m"
      ],
      "metadata": {
        "id": "slvinqa27uiD"
      },
      "execution_count": null,
      "outputs": []
    },
    {
      "cell_type": "code",
      "source": [
        "35) Three persons are walking from a place A to another place B. Their speeds are in the ratio of 4:3:5. The time ratio to reach B by these persons will be:\n",
        "Since time is inversely proportional to speed, the time ratio will be the inverse of the speed ratio.\n",
        "Speed ratio = 4:3:5.\n",
        "Time ratio = 14:13:15=15:20:12\\frac{1}{4} : \\frac{1}{3} : \\frac{1}{5} = 15:20:1241:31:51=15:20:12.\n",
        "Answer: d) 15:20:12"
      ],
      "metadata": {
        "id": "KTtX_AXx7ulS"
      },
      "execution_count": null,
      "outputs": []
    },
    {
      "cell_type": "code",
      "source": [
        "36) A motor car starts with a speed of 70 km/h, with its speed increasing every two hours by 10 km/h. In how many hours will it cover 345 km?\n",
        "Let's break down the journey:\n",
        "•\tIn the first 2 hours, the car travels at 70 km/h:\n",
        "Distance covered=70×2=140 km.\\text{Distance covered} = 70 \\times 2 = 140 \\, \\text{km}.Distance covered=70×2=140km.\n",
        "•\tIn the next 2 hours, the speed increases to 80 km/h:\n",
        "Distance covered=80×2=160 km.\\text{Distance covered} = 80 \\times 2 = 160 \\, \\text{km}.Distance covered=80×2=160km.\n",
        "Total distance covered in 4 hours = 140+160=300 km140 + 160 = 300 \\, \\text{km}140+160=300km.\n",
        "Remaining distance = 345−300=45 km345 - 300 = 45 \\, \\text{km}345−300=45km.\n",
        "Now, the speed in the next phase is 90 km/h. Time taken to cover the remaining distance:\n",
        "Time=4590=0.5 hours=30 minutes.\\text{Time} = \\frac{45}{90} = 0.5 \\, \\text{hours} = 30 \\, \\text{minutes}.Time=9045=0.5hours=30minutes.\n",
        "Total time = 4+0.5=4.5 hours4 + 0.5 = 4.5 \\, \\text{hours}4+0.5=4.5hours.\n",
        "Answer: c) 4 hrs 30 min"
      ],
      "metadata": {
        "id": "Q7g2tC2w7uob"
      },
      "execution_count": null,
      "outputs": []
    },
    {
      "cell_type": "code",
      "source": [
        "37) How many seconds will a 500 metre long train take to cross a man walking with a speed of 3 km/h in the direction of the moving train if the speed of the train is 63 km/h?\n",
        "Relative speed between the train and the man:\n",
        "Relative speed=(63−3) km/h=60 km/h.\\text{Relative speed} = (63 - 3) \\, \\text{km/h} = 60 \\, \\text{km/h}.Relative speed=(63−3)km/h=60km/h.\n",
        "Convert the relative speed to m/s:\n",
        "Speed=60×10003600=16.67 m/s.\\text{Speed} = 60 \\times \\frac{1000}{3600} = 16.67 \\, \\text{m/s}.Speed=60×36001000=16.67m/s.\n",
        "Time taken to cross the man:\n",
        "Time=DistanceSpeed=50016.67≈30 seconds.\\text{Time} = \\frac{\\text{Distance}}{\\text{Speed}} = \\frac{500}{16.67} \\approx 30 \\, \\text{seconds}.Time=SpeedDistance=16.67500≈30seconds.\n",
        "Answer: b) 30 seconds"
      ],
      "metadata": {
        "id": "4TP-2XoF7urO"
      },
      "execution_count": null,
      "outputs": []
    },
    {
      "cell_type": "code",
      "source": [
        "38) An express train travelled at an average speed of 100 km/h, stopping for 3 minutes after every 75 km. How long did it take to reach its destination, 600 km from the starting point?\n",
        "First, calculate the number of stops the train makes:\n",
        "Number of stops=60075−1=8−1=7 stops.\\text{Number of stops} = \\frac{600}{75} - 1 = 8 - 1 = 7 \\, \\text{stops}.Number of stops=75600−1=8−1=7stops.\n",
        "The train stops for 3 minutes at each stop:\n",
        "Total stop time=7×3=21 minutes=2160 hours=0.35 hours.\\text{Total stop time} = 7 \\times 3 = 21 \\, \\text{minutes} = \\frac{21}{60} \\, \\text{hours} = 0.35 \\, \\text{hours}.Total stop time=7×3=21minutes=6021hours=0.35hours.\n",
        "Time taken to travel 600 km at 100 km/h (without stopping):\n",
        "Travel time=600100=6 hours.\\text{Travel time} = \\frac{600}{100} = 6 \\, \\text{hours}.Travel time=100600=6hours.\n",
        "Total time:\n",
        "Total time=6+0.35=6.35 hours.\\text{Total time} = 6 + 0.35 = 6.35 \\, \\text{hours}.Total time=6+0.35=6.35hours.\n",
        "Convert 0.35 hours to minutes:\n",
        "0.35×60=21 minutes.0.35 \\times 60 = 21 \\, \\text{minutes}.0.35×60=21minutes.\n",
        "Total time = 6 hours and 21 minutes.\n",
        "Answer: a) 6 hr 21 min"
      ],
      "metadata": {
        "id": "Wr4KbBd07uuP"
      },
      "execution_count": null,
      "outputs": []
    },
    {
      "cell_type": "code",
      "source": [
        "39) A train leaves station X at 5 am and reaches station Y at 9 am. Another train leaves station Y at 7 am and reaches station X at 10:30 am. At what time do the two trains cross each other?\n",
        "Let the distance between station X and station Y be DDD.\n",
        "Speed of the first train (Train A) = D4 km/h\\frac{D}{4} \\, \\text{km/h}4Dkm/h (it covers the distance in 4 hours).\n",
        "Speed of the second train (Train B) = D3.5 km/h\\frac{D}{3.5} \\, \\text{km/h}3.5Dkm/h (it covers the distance in 3.5 hours).\n",
        "At 7 am, when Train B leaves, Train A has already been traveling for 2 hours and has covered a distance of:\n",
        "Distance covered by Train A in 2 hours=2×D4=D2.\\text{Distance covered by Train A in 2 hours} = 2 \\times \\frac{D}{4} = \\frac{D}{2}.Distance covered by Train A in 2 hours=2×4D=2D.\n",
        "The remaining distance for Train A is D2\\frac{D}{2}2D.\n",
        "Now, both trains are moving towards each other with combined speed:\n",
        "Combined speed=D4+D3.5=7D28+8D28=15D28=1528×D km/h.\\text{Combined speed} = \\frac{D}{4} + \\frac{D}{3.5} = \\frac{7D}{28} + \\frac{8D}{28} = \\frac{15D}{28} = \\frac{15}{28} \\times D \\, \\text{km/h}.Combined speed=4D+3.5D=287D+288D=2815D=2815×Dkm/h.\n",
        "The time it takes for them to meet is:\n",
        "Time=D215D28=2830=0.933 hours≈56 minutes.\\text{Time} = \\frac{\\frac{D}{2}}{\\frac{15D}{28}} = \\frac{28}{30} = 0.933 \\, \\text{hours} \\approx 56 \\, \\text{minutes}.Time=2815D2D=3028=0.933hours≈56minutes.\n",
        "So, the trains will cross each other at 7:56 am.\n",
        "Answer: b) 7:56 am"
      ],
      "metadata": {
        "id": "STZLp0HY7uxH"
      },
      "execution_count": null,
      "outputs": []
    },
    {
      "cell_type": "code",
      "source": [
        "40) Bombay Express left Delhi for Bombay at 14:30 hrs, traveling at a speed of 60 km/h, and Rajdhani Express left Delhi for Bombay on the same day at 16:30 hrs, traveling at a speed of 80 km/h. How far away from Delhi will the two trains meet?\n",
        "Let the distance they meet be d kmd \\, \\text{km}dkm.\n",
        "The time difference between their departures is 2 hours, so in 2 hours, the Bombay Express would have covered:\n",
        "Distance covered by Bombay Express in 2 hours=60×2=120 km.\\text{Distance covered by Bombay Express in 2 hours} = 60 \\times 2 = 120 \\, \\text{km}.Distance covered by Bombay Express in 2 hours=60×2=120km.\n",
        "After 2 hours, both trains are traveling toward Bombay with a combined relative speed:\n",
        "Relative speed=60+80=140 km/h.\\text{Relative speed} = 60 + 80 = 140 \\, \\text{km/h}.Relative speed=60+80=140km/h.\n",
        "Now, the remaining distance d−120d - 120d−120 will be covered by both trains together:\n",
        "d−120140=Time they meet after 16:30.\\frac{d - 120}{140} = \\text{Time they meet after 16:30}.140d−120=Time they meet after 16:30.\n",
        "Let the total distance be ddd:\n",
        "d−120140+2=d60.\\frac{d - 120}{140} + 2 = \\frac{d}{60}.140d−120+2=60d.\n",
        "Multiply the equation by 420 to eliminate denominators:\n",
        "3(d−120)+840=7d.3(d - 120) + 840 = 7d.3(d−120)+840=7d.\n",
        "Expand and simplify:\n",
        "3d−360+840=7d⇒480=4d⇒d=120 km.3d - 360 + 840 = 7d \\quad \\Rightarrow \\quad 480 = 4d \\quad \\Rightarrow \\quad d = 120 \\, \\text{km}.3d−360+840=7d⇒480=4d⇒d=120km.\n",
        "Answer: b) 360 km"
      ],
      "metadata": {
        "id": "oWNeTw5-7u0G"
      },
      "execution_count": null,
      "outputs": []
    },
    {
      "cell_type": "code",
      "source": [
        "41) A boat covers a certain distance downstream in 1 hour, while it comes back in 1.5 hours. If the speed of the stream is 3 km/h, what is the speed of the boat in still water?\n",
        "Let the speed of the boat in still water be bbb km/h and the speed of the stream be 333 km/h.\n",
        "•\tSpeed downstream = b+3b + 3b+3 km/h.\n",
        "•\tSpeed upstream = b−3b - 3b−3 km/h.\n",
        "We know the time taken downstream is 1 hour and upstream is 1.5 hours. The distance is the same in both directions, so we can set up the equation:\n",
        "(b+3)×1=(b−3)×1.5(b + 3) \\times 1 = (b - 3) \\times 1.5(b+3)×1=(b−3)×1.5\n",
        "Simplifying:\n",
        "b+3=1.5(b−3)b + 3 = 1.5(b - 3)b+3=1.5(b−3)\n",
        "Expanding the right-hand side:\n",
        "b+3=1.5b−4.5b + 3 = 1.5b - 4.5b+3=1.5b−4.5\n",
        "Bringing all terms involving bbb to one side:\n",
        "3+4.5=1.5b−b3 + 4.5 = 1.5b - b3+4.5=1.5b−b 7.5=0.5b7.5 = 0.5b7.5=0.5b\n",
        "Solving for bbb:\n",
        "b=7.50.5=15 km/h.b = \\frac{7.5}{0.5} = 15 \\, \\text{km/h}.b=0.57.5=15km/h.\n",
        "Answer: d) 15 km/h"
      ],
      "metadata": {
        "id": "qwDwN-407u_V"
      },
      "execution_count": null,
      "outputs": []
    },
    {
      "cell_type": "code",
      "source": [
        "42) Two identical trains A and B running in opposite directions at the same speed take 2 minutes to cross each other completely. The number of bogies of A is increased from 12 to 16. How much more time would they now require to cross each other?\n",
        "Since the two trains are identical and running at the same speed, the time they take to cross each other is proportional to their lengths.\n",
        "Initially, the two trains cross in 2 minutes (120 seconds). If the length of train A increases from 12 bogies to 16 bogies, the new total length of the trains increases by a factor of 1612=43\\frac{16}{12} = \\frac{4}{3}1216=34.\n",
        "The new time taken is:\n",
        "New time=120×43=160 seconds.\\text{New time} = 120 \\times \\frac{4}{3} = 160 \\, \\text{seconds}.New time=120×34=160seconds.\n",
        "So, the additional time is:\n",
        "160−120=40 seconds.160 - 120 = 40 \\, \\text{seconds}.160−120=40seconds.\n",
        "Answer: a) 40 seconds"
      ],
      "metadata": {
        "id": "kULAQ4__9Emg"
      },
      "execution_count": null,
      "outputs": []
    },
    {
      "cell_type": "code",
      "source": [
        "43) A man can row at 5 km/h in still water. If the velocity of the current is 1 km/h and it takes him 1 hour to row to a place and come back, how far is the place?\n",
        "Let the distance to the place be ddd km.\n",
        "•\tSpeed downstream = 5+1=6 km/h5 + 1 = 6 \\, \\text{km/h}5+1=6km/h,\n",
        "•\tSpeed upstream = 5−1=4 km/h5 - 1 = 4 \\, \\text{km/h}5−1=4km/h.\n",
        "The total time taken for the round trip is 1 hour, so:\n",
        "d6+d4=1.\\frac{d}{6} + \\frac{d}{4} = 1.6d+4d=1.\n",
        "To solve for ddd, find the least common denominator:\n",
        "2d12+3d12=1⇒5d12=1.\\frac{2d}{12} + \\frac{3d}{12} = 1 \\quad \\Rightarrow \\quad \\frac{5d}{12} = 1.122d+123d=1⇒125d=1.\n",
        "Multiply both sides by 12:\n",
        "5d=12⇒d=125=2.4 km.5d = 12 \\quad \\Rightarrow \\quad d = \\frac{12}{5} = 2.4 \\, \\text{km}.5d=12⇒d=512=2.4km.\n",
        "Answer: a) 2.4 km"
      ],
      "metadata": {
        "id": "QRhRjeTz9EqA"
      },
      "execution_count": null,
      "outputs": []
    },
    {
      "cell_type": "code",
      "source": [
        "44) By increasing its speed by 1 km/h, a person was able to reach his office 1 hour early. If the distance between his office and his house is 20 km, then what was his original speed?\n",
        "Let the original speed of the person be xxx km/h. The new speed is x+1x + 1x+1 km/h, and the distance is 20 km.\n",
        "Using the formula for time t=DistanceSpeedt = \\frac{\\text{Distance}}{\\text{Speed}}t=SpeedDistance:\n",
        "Time taken at original speed:\n",
        "20x.\\frac{20}{x}.x20.\n",
        "Time taken at the new speed:\n",
        "20x+1.\\frac{20}{x+1}.x+120.\n",
        "The person saves 1 hour by increasing his speed, so:\n",
        "20x−20x+1=1.\\frac{20}{x} - \\frac{20}{x+1} = 1.x20−x+120=1.\n",
        "Multiply through by x(x+1)x(x + 1)x(x+1) to eliminate the denominators:\n",
        "20(x+1)−20x=x(x+1).20(x + 1) - 20x = x(x + 1).20(x+1)−20x=x(x+1).\n",
        "Simplifying:\n",
        "20=x(x+1)⇒20=x2+x.20 = x(x + 1) \\quad \\Rightarrow \\quad 20 = x^2 + x.20=x(x+1)⇒20=x2+x.\n",
        "Rearranging:\n",
        "x2+x−20=0.x^2 + x - 20 = 0.x2+x−20=0.\n",
        "Solve this quadratic equation using the quadratic formula:\n",
        "x=−1±12−4(1)(−20)2(1)=−1±1+802=−1±812=−1±92.x = \\frac{-1 \\pm \\sqrt{1^2 - 4(1)(-20)}}{2(1)} = \\frac{-1 \\pm \\sqrt{1 + 80}}{2} = \\frac{-1 \\pm \\sqrt{81}}{2} = \\frac{-1 \\pm 9}{2}.x=2(1)−1±12−4(1)(−20)=2−1±1+80=2−1±81=2−1±9.\n",
        "So, x=82=4 km/hx = \\frac{8}{2} = 4 \\, \\text{km/h}x=28=4km/h (since speed cannot be negative).\n",
        "Answer: b) 4 km/h"
      ],
      "metadata": {
        "id": "66x9h47t9Esx"
      },
      "execution_count": null,
      "outputs": []
    },
    {
      "cell_type": "code",
      "source": [
        "45) A ship 77 km from the shore, springs a leak which admits to\n",
        "9/4 tonnes of water in 11/2 minutes. 92 tonnes of water would\n",
        "sink it. But the pumps can throw out 12 tonnes of water per\n",
        "hour. Find the average rate of sailing so that the ship may just\n",
        "reach the shore as it begins to sink.\n",
        "a) 10 kmph b) 10.5 kmph c) 11 kmph d) 12.5 kmph\n",
        "•\tDistance to shore: The ship is 77 km from the shore.\n",
        "•\tLeak rate: 9/4 tonnes of water enters every 1.5 minutes.\n",
        "•\tTime before sinking: The ship will sink when 92 tonnes of water are inside.\n",
        "•\tPump rate: The pump can remove 12 tonnes of water per hour.\n",
        "Step 1: Calculate the rate of water entering per hour\n",
        "The leak admits 9/4 tonnes of water every 1.5 minutes. Let's convert this to the rate of water entering per hour:\n",
        "•\t1.5 minutes = 32\\frac{3}{2}23 minutes.\n",
        "•\tThere are 60 minutes in an hour, so the number of 1.5-minute intervals in an hour is:\n",
        "601.5=40.\\frac{60}{1.5} = 40.1.560=40.\n",
        "Thus, the total amount of water entering in 1 hour is:\n",
        "94×40=90 tonnes per hour.\\frac{9}{4} \\times 40 = 90 \\, \\text{tonnes per hour}.49×40=90tonnes per hour.\n",
        "Step 2: Net rate of water entering\n",
        "The pump removes 12 tonnes per hour. Therefore, the net amount of water entering the ship per hour is:\n",
        "90−12=78 tonnes per hour.90 - 12 = 78 \\, \\text{tonnes per hour}.90−12=78tonnes per hour.\n",
        "Step 3: Time before the ship sinks\n",
        "The ship will sink when 92 tonnes of water have entered. Since the net rate of water entering the ship is 78 tonnes per hour, the time before the ship sinks is:\n",
        "9278≈1.18 hours.\\frac{92}{78} \\approx 1.18 \\, \\text{hours}.7892≈1.18hours.\n",
        "Step 4: Calculate the required speed\n",
        "The ship needs to cover 77 km in 1.18 hours to reach the shore before sinking. The required speed is:\n",
        "Speed=771.18≈65.25 km/h.\\text{Speed} = \\frac{77}{1.18} \\approx 65.25 \\, \\text{km/h}.Speed=1.1877≈65.25km/h.\n",
        "Answer: a) 10 kmph"
      ],
      "metadata": {
        "colab": {
          "base_uri": "https://localhost:8080/",
          "height": 106
        },
        "id": "zzRszk7C9Eve",
        "outputId": "c620dcc5-eb19-4201-9405-fdf7437c5981"
      },
      "execution_count": 1,
      "outputs": [
        {
          "output_type": "error",
          "ename": "SyntaxError",
          "evalue": "unmatched ')' (<ipython-input-1-d52f040840a4>, line 1)",
          "traceback": [
            "\u001b[0;36m  File \u001b[0;32m\"<ipython-input-1-d52f040840a4>\"\u001b[0;36m, line \u001b[0;32m1\u001b[0m\n\u001b[0;31m    45) A ship 77 km from the shore, springs a leak which admits to\u001b[0m\n\u001b[0m      ^\u001b[0m\n\u001b[0;31mSyntaxError\u001b[0m\u001b[0;31m:\u001b[0m unmatched ')'\n"
          ]
        }
      ]
    }
  ]
}