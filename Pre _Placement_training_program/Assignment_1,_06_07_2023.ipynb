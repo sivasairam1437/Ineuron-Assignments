{
  "nbformat": 4,
  "nbformat_minor": 0,
  "metadata": {
    "colab": {
      "provenance": []
    },
    "kernelspec": {
      "name": "python3",
      "display_name": "Python 3"
    },
    "language_info": {
      "name": "python"
    }
  },
  "cells": [
    {
      "cell_type": "code",
      "execution_count": null,
      "metadata": {
        "id": "psbqf4xqDl3g"
      },
      "outputs": [],
      "source": [
        "1. Write a Python program to reverse a string without using any built-in string reversal functions.\n",
        "\n",
        "def reverse_string(s):\n",
        "    reversed_s = \"\"\n",
        "    for char in s:\n",
        "        reversed_s = char + reversed_s\n",
        "    return reversed_s\n",
        "\n",
        "# Example usage\n",
        "print(reverse_string(\"Hello\"))"
      ]
    },
    {
      "cell_type": "code",
      "source": [
        "2. Implement a function to check if a given string is a palindrome.\n",
        "def is_palindrome(s):\n",
        "    return s == s[::-1]\n",
        "\n",
        "# Example usage\n",
        "print(is_palindrome(\"racecar\"))\n",
        "print(is_palindrome(\"hello\"))"
      ],
      "metadata": {
        "id": "HZJ3GTS0Fhos"
      },
      "execution_count": null,
      "outputs": []
    },
    {
      "cell_type": "code",
      "source": [
        "3. Write a program to find the largest element in a given list.\n",
        "def is_palindrome(s):\n",
        "    return s == s[::-1]\n",
        "\n",
        "# Example usage\n",
        "print(is_palindrome(\"racecar\"))\n",
        "print(is_palindrome(\"hello\"))"
      ],
      "metadata": {
        "id": "oAHE6VI8Fppm"
      },
      "execution_count": null,
      "outputs": []
    },
    {
      "cell_type": "code",
      "source": [
        "4. Implement a function to count the occurrence of each element in a list.\n",
        "from collections import Counter\n",
        "\n",
        "def count_occurrences(lst):\n",
        "    return Counter(lst)\n",
        "\n",
        "# Example usage\n",
        "print(count_occurrences([1, 2, 2, 3, 4, 4, 4]))"
      ],
      "metadata": {
        "id": "YpnJWaduFtSM"
      },
      "execution_count": null,
      "outputs": []
    },
    {
      "cell_type": "code",
      "source": [
        "5. Write a Python program to find the second largest number in a list.\n",
        "def second_largest(lst):\n",
        "    largest = second = float('-inf')\n",
        "    for num in lst:\n",
        "        if num > largest:\n",
        "            second = largest\n",
        "            largest = num\n",
        "        elif num > second and num != largest:\n",
        "            second = num\n",
        "    return second\n",
        "\n",
        "# Example usage\n",
        "print(second_largest([3, 5, 7, 2, 8]))"
      ],
      "metadata": {
        "id": "NoSUqwlyQCuI"
      },
      "execution_count": null,
      "outputs": []
    },
    {
      "cell_type": "code",
      "source": [
        "6. Implement a function to remove duplicate elements from a list.\n",
        "def remove_duplicates(lst):\n",
        "    return list(dict.fromkeys(lst))\n",
        "\n",
        "# Example usage\n",
        "print(remove_duplicates([1, 2, 2, 3, 4, 4, 4]))\n"
      ],
      "metadata": {
        "id": "eX91zVDbQCxd"
      },
      "execution_count": null,
      "outputs": []
    },
    {
      "cell_type": "code",
      "source": [
        "7. Write a program to calculate the factorial of a given number.def factorial(n):\n",
        "    if n == 0:\n",
        "        return 1\n",
        "    else:\n",
        "        return n * factorial(n - 1)\n",
        "\n",
        "# Example usage\n",
        "print(factorial(5))\n"
      ],
      "metadata": {
        "id": "jag4Ro8MQC0N"
      },
      "execution_count": null,
      "outputs": []
    },
    {
      "cell_type": "code",
      "source": [
        "8. Implement a function to check if a given number is prime.\n",
        "def is_prime(n):\n",
        "    if n <= 1:\n",
        "        return False\n",
        "    for i in range(2, int(n ** 0.5) + 1):\n",
        "        if n % i == 0:\n",
        "            return False\n",
        "    return True\n",
        "\n",
        "# Example usage\n",
        "print(is_prime(11))\n",
        "print(is_prime(4))\n"
      ],
      "metadata": {
        "id": "nxOYPk6AQC25"
      },
      "execution_count": null,
      "outputs": []
    },
    {
      "cell_type": "code",
      "source": [
        "9. Write a Python program to sort a list of integers in ascending order.\n",
        "def sort_list(lst):\n",
        "    return sorted(lst)\n",
        "\n",
        "# Example usage\n",
        "print(sort_list([3, 1, 4, 1, 5, 9]))"
      ],
      "metadata": {
        "id": "Cn8u8UZOQC50"
      },
      "execution_count": null,
      "outputs": []
    },
    {
      "cell_type": "code",
      "source": [
        "10. Implement a function to find the sum of all numbers in a list.\n",
        "def sum_of_list(lst):\n",
        "    return sum(lst)\n",
        "\n",
        "# Example usage\n",
        "print(sum_of_list([1, 2, 3, 4, 5]))\n"
      ],
      "metadata": {
        "id": "Vd6I-GUiQC8p"
      },
      "execution_count": null,
      "outputs": []
    },
    {
      "cell_type": "code",
      "source": [
        "11. Write a program to find the common elements between two lists.\n",
        "def find_common_elements(lst1, lst2):\n",
        "    return list(set(lst1) & set(lst2))\n",
        "\n",
        "# Example usage\n",
        "print(find_common_elements([1, 2, 3], [2, 3, 4]))"
      ],
      "metadata": {
        "id": "Dc8GzmOFQC_q"
      },
      "execution_count": null,
      "outputs": []
    },
    {
      "cell_type": "code",
      "source": [
        "12. Implement a function to check if a given string is an anagram of another string.\n",
        "def are_anagrams(str1, str2):\n",
        "    return sorted(str1) == sorted(str2)\n",
        "\n",
        "# Example usage\n",
        "print(are_anagrams(\"listen\", \"silent\"))\n",
        "print(are_anagrams(\"hello\", \"world\"))"
      ],
      "metadata": {
        "id": "sFu9Ud1ZQDFp"
      },
      "execution_count": null,
      "outputs": []
    },
    {
      "cell_type": "code",
      "source": [
        "13. Write a Python program to generate all permutations of a given string.from itertools import permutations\n",
        "\n",
        "def string_permutations(s):\n",
        "    return [''.join(p) for p in permutations(s)]\n",
        "\n",
        "# Example usage\n",
        "print(string_permutations(\"abc\"))"
      ],
      "metadata": {
        "id": "Eir2I1ufS-OZ"
      },
      "execution_count": null,
      "outputs": []
    },
    {
      "cell_type": "code",
      "source": [
        "14. Implement a function to calculate the Fibonacci sequence up to a given number of terms.\n",
        "def fibonacci(n):\n",
        "    fib_sequence = [0, 1]\n",
        "    while len(fib_sequence) < n:\n",
        "        fib_sequence.append(fib_sequence[-1] + fib_sequence[-2])\n",
        "    return fib_sequence[:n]\n",
        "\n",
        "# Example usage\n",
        "print(fibonacci(10))"
      ],
      "metadata": {
        "id": "RmLUIad9QDMf"
      },
      "execution_count": null,
      "outputs": []
    },
    {
      "cell_type": "code",
      "source": [
        "15. Write a program to find the median of a list of numbers.\n",
        "def find_median(lst):\n",
        "    lst = sorted(lst)\n",
        "    n = len(lst)\n",
        "    if n % 2 == 0:\n",
        "        return (lst[n // 2 - 1] + lst[n // 2]) / 2\n",
        "    else:\n",
        "        return lst[n // 2]\n",
        "\n",
        "# Example usage\n",
        "print(find_median([1, 3, 3, 6, 7, 8, 9]))"
      ],
      "metadata": {
        "id": "nsfRWbBrQDQc"
      },
      "execution_count": null,
      "outputs": []
    },
    {
      "cell_type": "code",
      "source": [
        "16. Implement a function to check if a given list is sorted in non-decreasing order.\n",
        "\n",
        "def is_sorted(lst):\n",
        "    return all(lst[i] <= lst[i + 1] for i in range(len(lst) - 1))\n",
        "\n",
        "# Example usage\n",
        "print(is_sorted([1, 2, 2, 3, 4]))\n",
        "print(is_sorted([1, 3, 2, 4]))"
      ],
      "metadata": {
        "id": "4Hh_3QZuQDTl"
      },
      "execution_count": null,
      "outputs": []
    },
    {
      "cell_type": "code",
      "source": [
        "17. Write a Python program to find the intersection of two lists.\n",
        "\n",
        "def intersection(lst1, lst2):\n",
        "    return list(set(lst1) & set(lst2))\n",
        "\n",
        "# Example usage\n",
        "print(intersection([1, 2, 3], [2, 3, 4]))"
      ],
      "metadata": {
        "id": "tkHCRhcFQDW6"
      },
      "execution_count": null,
      "outputs": []
    },
    {
      "cell_type": "code",
      "source": [
        "18. Implement a function to find the maximum subarray sum in a given list.\n",
        "\n",
        "def max_subarray_sum(lst):\n",
        "    max_sum = current_sum = lst[0]\n",
        "    for num in lst[1:]:\n",
        "        current_sum = max(num, current_sum + num)\n",
        "        max_sum = max(max_sum, current_sum)\n",
        "    return max_sum\n",
        "\n",
        "# Example usage\n",
        "print(max_subarray_sum([-2, 1, -3, 4, -1, 2, 1, -5, 4]))"
      ],
      "metadata": {
        "id": "14e5lnHxQDaO"
      },
      "execution_count": null,
      "outputs": []
    },
    {
      "cell_type": "code",
      "source": [
        "19. Write a program to remove all vowels from a given string.\n",
        "\n",
        "def remove_vowels(s):\n",
        "    vowels = \"aeiouAEIOU\"\n",
        "    return ''.join([char for char in s if char not in vowels])\n",
        "\n",
        "# Example usage\n",
        "print(remove_vowels(\"Hello World\"))"
      ],
      "metadata": {
        "id": "obcO_A5OQDdW"
      },
      "execution_count": null,
      "outputs": []
    },
    {
      "cell_type": "code",
      "source": [
        "20. Implement a function to reverse the order of words in a given sentence.\n",
        "\n",
        "def reverse_words(sentence):\n",
        "    return ' '.join(sentence.split()[::-1])\n",
        "\n",
        "# Example usage\n",
        "print(reverse_words(\"Hello World\"))"
      ],
      "metadata": {
        "id": "g-MQ8ILwQDgd"
      },
      "execution_count": null,
      "outputs": []
    },
    {
      "cell_type": "code",
      "source": [
        "21. Write a Python program to check if two strings are anagrams of each other.\n",
        "\n",
        "def are_anagrams(str1, str2):\n",
        "    return sorted(str1) == sorted(str2)\n",
        "\n",
        "# Example usage\n",
        "print(are_anagrams(\"listen\", \"silent\"))"
      ],
      "metadata": {
        "id": "EFJCEhUuQDj4"
      },
      "execution_count": null,
      "outputs": []
    },
    {
      "cell_type": "code",
      "source": [
        "22. Implement a function to find the first non-repeating character in a string.\n",
        "\n",
        "def first_non_repeating_char(s):\n",
        "    for char in s:\n",
        "        if s.count(char) == 1:\n",
        "            return char\n",
        "    return None\n",
        "\n",
        "# Example usage\n",
        "print(first_non_repeating_char(\"swiss\"))"
      ],
      "metadata": {
        "id": "zhV4kVj9QDmy"
      },
      "execution_count": null,
      "outputs": []
    },
    {
      "cell_type": "code",
      "source": [
        "23. Write a program to find the prime factors of a given number.\n",
        "\n",
        "def prime_factors(n):\n",
        "    factors = []\n",
        "    divisor = 2\n",
        "    while n > 1:\n",
        "        while n % divisor == 0:\n",
        "            factors.append(divisor)\n",
        "            n //= divisor"
      ],
      "metadata": {
        "id": "Wg7_EIwhRJkY"
      },
      "execution_count": null,
      "outputs": []
    },
    {
      "cell_type": "code",
      "source": [
        "24. Implement a function to check if a given number is a power of two.\n",
        "\n",
        "def is_power_of_two(n):\n",
        "    if n <= 0:\n",
        "        return False\n",
        "    return (n & (n - 1)) == 0"
      ],
      "metadata": {
        "id": "9dIohqhXRJnM"
      },
      "execution_count": null,
      "outputs": []
    },
    {
      "cell_type": "code",
      "source": [
        "25. Write a Python program to merge two sorted lists into a single sorted list.\n",
        "\n",
        "def merge_sorted_lists(list1, list2):\n",
        "    merged_list = []\n",
        "    i = j = 0\n",
        "\n",
        "    while i < len(list1) and j < len(list2):\n",
        "        if list1[i] < list2[j]:\n",
        "            merged_list.append(list1[i])\n",
        "            i += 1\n",
        "        else:\n",
        "            merged_list.append(list2[j])\n",
        "            j += 1\n",
        "\n",
        "    merged_list.extend(list1[i:])\n",
        "    merged_list.extend(list2[j:])\n",
        "\n",
        "    return merged_list"
      ],
      "metadata": {
        "id": "z80gyQezRJqK"
      },
      "execution_count": null,
      "outputs": []
    },
    {
      "cell_type": "code",
      "source": [
        "26. Implement a function to find the mode of a list of numbers.\n",
        "\n",
        "from collections import Counter\n",
        "\n",
        "def find_mode(numbers):\n",
        "    count = Counter(numbers)\n",
        "    max_frequency = max(count.values())\n",
        "    modes = [key for key, value in count.items() if value == max_frequency]\n",
        "    return modes"
      ],
      "metadata": {
        "id": "dZcJ1UF-RJsy"
      },
      "execution_count": null,
      "outputs": []
    },
    {
      "cell_type": "code",
      "source": [
        "27. Write a program to find the greatest common divisor (GCD) of two numbers.\n",
        "\n",
        "def gcd(a, b):\n",
        "    while b:\n",
        "        a, b = b, a % b\n",
        "    return a"
      ],
      "metadata": {
        "id": "OisZ72lsRJvc"
      },
      "execution_count": null,
      "outputs": []
    },
    {
      "cell_type": "code",
      "source": [
        "28. Implement a function to calculate the square root of a given number.\n",
        "\n",
        "def square_root(n):\n",
        "    return n ** 0.5"
      ],
      "metadata": {
        "id": "Ym9BL_r6RJyV"
      },
      "execution_count": null,
      "outputs": []
    },
    {
      "cell_type": "code",
      "source": [
        "29. Write a Python program to check if a given string is a valid palindrome ignoring non-alphanumeric characters.\n",
        "\n",
        "import re\n",
        "\n",
        "def is_palindrome(s):\n",
        "    s = re.sub(r'[^a-zA-Z0-9]', '', s).lower()\n",
        "    return s == s[::-1]"
      ],
      "metadata": {
        "id": "bP9c5u8ZRJ1I"
      },
      "execution_count": null,
      "outputs": []
    },
    {
      "cell_type": "code",
      "source": [
        "30. Implement a function to find the minimum element in a rotated sorted list.\n",
        "\n",
        "def find_min_rotated(nums):\n",
        "    left, right = 0, len(nums) - 1\n",
        "\n",
        "    while left < right:\n",
        "        mid = (left + right) // 2\n",
        "        if nums[mid] > nums[right]:\n",
        "            left = mid + 1\n",
        "        else:\n",
        "            right = mid\n",
        "\n",
        "    return nums[left]"
      ],
      "metadata": {
        "id": "5XO4e3lRRJ33"
      },
      "execution_count": null,
      "outputs": []
    },
    {
      "cell_type": "code",
      "source": [
        "31. Write a program to find the sum of all even numbers in a list.\n",
        "\n",
        "def sum_even_numbers(lst):\n",
        "    return sum(x for x in lst if x % 2 == 0)"
      ],
      "metadata": {
        "id": "DwZUvoTlRJ9R"
      },
      "execution_count": null,
      "outputs": []
    },
    {
      "cell_type": "code",
      "source": [
        "32. Implement a function to calculate the power of a number using recursion.\n",
        "\n",
        "def power(base, exponent):\n",
        "    if exponent == 0:\n",
        "        return 1\n",
        "    elif exponent > 0:\n",
        "        return base * power(base, exponent - 1)\n",
        "    else:\n",
        "        return 1 / power(base, -exponent)"
      ],
      "metadata": {
        "id": "NiBlJNCmRKAQ"
      },
      "execution_count": null,
      "outputs": []
    },
    {
      "cell_type": "code",
      "source": [
        "33. Write a Python program to remove duplicates from a list while preserving the order.\n",
        "\n",
        "def remove_duplicates(lst):\n",
        "    seen = set()\n",
        "    result = []\n",
        "    for item in lst:\n",
        "        if item not in seen:\n",
        "            seen.add(item)\n",
        "            result.append(item)\n",
        "    return result"
      ],
      "metadata": {
        "id": "BLoDSv3URKDD"
      },
      "execution_count": null,
      "outputs": []
    },
    {
      "cell_type": "code",
      "source": [
        "34. Implement a function to find the longest common prefix among a list of strings.\n",
        "\n",
        "def longest_common_prefix(strs):\n",
        "    if not strs:\n",
        "        return \"\"\n",
        "\n",
        "    prefix = strs[0]\n",
        "    for string in strs[1:]:\n",
        "        while string[:len(prefix)] != prefix:\n",
        "            prefix = prefix[:-1]\n",
        "            if not prefix:\n",
        "                return \"\"\n",
        "\n",
        "    return prefix"
      ],
      "metadata": {
        "id": "7j17vL0bRkzJ"
      },
      "execution_count": null,
      "outputs": []
    },
    {
      "cell_type": "code",
      "source": [
        "35. Write a program to check if a given number is a perfect square.\n",
        "\n",
        "import math\n",
        "\n",
        "def is_perfect_square(n):\n",
        "    return n == math.isqrt(n) ** 2"
      ],
      "metadata": {
        "id": "RXbxPEPERk2U"
      },
      "execution_count": null,
      "outputs": []
    },
    {
      "cell_type": "code",
      "source": [
        "36. Implement a function to calculate the product of all elements in a list.\n",
        "\n",
        "def product_of_list(lst):\n",
        "    product = 1\n",
        "    for num in lst:\n",
        "        product *= num\n",
        "    return product"
      ],
      "metadata": {
        "id": "a6SSEXaSRk5I"
      },
      "execution_count": null,
      "outputs": []
    },
    {
      "cell_type": "code",
      "source": [
        "37. Write a Python program to reverse the order of words in a sentence while preserving the word order.\n",
        "\n",
        "def reverse_words(sentence):\n",
        "    words = sentence.split()\n",
        "    return ' '.join(words[::-1])"
      ],
      "metadata": {
        "id": "zTcjpiOORk7o"
      },
      "execution_count": null,
      "outputs": []
    },
    {
      "cell_type": "code",
      "source": [
        "38. Implement a function to find the missing number in a given list of consecutive numbers.\n",
        "\n",
        "def find_missing_number(nums):\n",
        "    n = len(nums) + 1\n",
        "    total = n * (n + 1) // 2\n",
        "    return total - sum(nums)"
      ],
      "metadata": {
        "id": "61knfAhzRk-I"
      },
      "execution_count": null,
      "outputs": []
    },
    {
      "cell_type": "code",
      "source": [
        "39. Write a program to find the sum of digits of a given number.\n",
        "\n",
        "def sum_of_digits(n):\n",
        "    return sum(int(digit) for digit in str(n))"
      ],
      "metadata": {
        "id": "WsPR48DSRlDD"
      },
      "execution_count": null,
      "outputs": []
    },
    {
      "cell_type": "code",
      "source": [
        "40. Implement a function to check if a given string is a valid palindrome considering case sensitivity.\n",
        "\n",
        "def is_palindrome_case_sensitive(s):\n",
        "    return s == s[::-1]"
      ],
      "metadata": {
        "id": "PS5Hmw0SRlFv"
      },
      "execution_count": null,
      "outputs": []
    },
    {
      "cell_type": "code",
      "source": [
        "41. Write a Python program to find the smallest missing positive integer in a list.\n",
        "\n",
        "def smallest_missing_positive(nums):\n",
        "    nums = [num for num in nums if num > 0]\n",
        "    nums_set = set(nums)\n",
        "    i = 1\n",
        "\n",
        "    while i in nums_set:\n",
        "        i += 1\n",
        "\n",
        "    return i"
      ],
      "metadata": {
        "id": "eZmTvppRRlIg"
      },
      "execution_count": null,
      "outputs": []
    },
    {
      "cell_type": "code",
      "source": [
        "42. Implement a function to find the longest palindrome substring in a given string.\n",
        "\n",
        "def longest_palindrome_substring(s):\n",
        "    def expand_around_center(s, left, right):\n",
        "        while left >= 0 and right < len(s) and s[left] == s[right]:\n",
        "            left -= 1\n",
        "            right += 1\n",
        "        return s[left+1:right]\n",
        "\n",
        "    longest_palindrome = \"\"\n",
        "    for i in range(len(s)):\n",
        "        odd_palindrome = expand_around_center(s, i, i)\n",
        "        even_palindrome = expand_around_center(s, i, i+1)\n",
        "        longest_palindrome = max(longest_palindrome, odd_palindrome, even_palindrome, key=len)\n",
        "\n",
        "    return longest_palindrome"
      ],
      "metadata": {
        "id": "OfVnLh4eRlLU"
      },
      "execution_count": null,
      "outputs": []
    },
    {
      "cell_type": "code",
      "source": [
        "43. Write a program to find the number of occurrences of a given element in a list.\n",
        "\n",
        "def count_occurrences(lst, element):\n",
        "    return lst.count(element)"
      ],
      "metadata": {
        "id": "8ehANGtmRlN_"
      },
      "execution_count": null,
      "outputs": []
    },
    {
      "cell_type": "code",
      "source": [
        "44. Implement a function to check if a given number is a perfect number.\n",
        "\n",
        "def is_perfect_number(n):\n",
        "    divisors_sum = sum(i for i in range(1, n) if n % i == 0)\n",
        "    return divisors_sum == n"
      ],
      "metadata": {
        "id": "y59B9LQaRlQq"
      },
      "execution_count": null,
      "outputs": []
    },
    {
      "cell_type": "code",
      "source": [
        "45. Write a Python program to remove all duplicates from a string.\n",
        "\n",
        "def remove_duplicates_string(s):\n",
        "    seen = set()\n",
        "    result = []\n",
        "    for char in s:\n",
        "        if char not in seen:\n",
        "            seen.add(char)\n",
        "            result.append(char)\n",
        "    return ''.join(result)"
      ],
      "metadata": {
        "id": "_lIRz8YDRlTj"
      },
      "execution_count": null,
      "outputs": []
    },
    {
      "cell_type": "code",
      "source": [
        "46. Implement a function to find the first missing positive\n",
        "\n",
        "def first_missing_positive(nums):\n",
        "    n = len(nums)\n",
        "    for i in range(n):\n",
        "        while 1 <= nums[i] <= n and nums[nums[i] - 1] != nums[i]:\n",
        "            nums[nums[i] - 1], nums[i] = nums[i], nums[nums[i] - 1]\n",
        "\n",
        "    for i in range(n):\n",
        "        if nums[i] != i + 1:\n",
        "            return i + 1\n",
        "\n",
        "    return n + 1"
      ],
      "metadata": {
        "id": "lNdaH3p1RlWK"
      },
      "execution_count": null,
      "outputs": []
    }
  ]
}