{
  "nbformat": 4,
  "nbformat_minor": 0,
  "metadata": {
    "colab": {
      "provenance": []
    },
    "kernelspec": {
      "name": "python3",
      "display_name": "Python 3"
    },
    "language_info": {
      "name": "python"
    }
  },
  "cells": [
    {
      "cell_type": "code",
      "source": [
        "1) When and how much is the maximum increment, maximum decrement and maximum change?\n",
        "Calculate the increments and decrements between consecutive values:\n",
        "•\tFrom 60 to 80: +20\n",
        "•\tFrom 80 to 105: +25\n",
        "•\tFrom 105 to 100: -5\n",
        "•\tFrom 100 to 121: +21\n",
        "•\tFrom 121 to 105: -16\n",
        "•\tFrom 105 to 85: -20\n",
        "•\tFrom 85 to 95: +10\n",
        "•\tFrom 95 to 110: +15\n",
        "•\tFrom 110 to 85: -25\n",
        "•\tFrom 85 to 100: +15\n",
        "•\tFrom 100 to 130: +30\n",
        "•\tMaximum Increment: +30 (from 100 to 130)\n",
        "•\tMaximum Decrement: -25 (from 110 to 85)\n",
        "•\tMaximum Change: 30 (increment from 100 to 130)\n",
        "Answer:\n",
        "•\tMaximum Increment: 30 (from 100 to 130)\n",
        "•\tMaximum Decrement: -25 (from 110 to 85)\n",
        "•\tMaximum Change: 30"
      ],
      "metadata": {
        "id": "dGfhKbm9opO1"
      },
      "execution_count": null,
      "outputs": []
    },
    {
      "cell_type": "code",
      "source": [
        "2) When and how much is the minimum increment, minimum decrement and minimum change?\n",
        "From the values calculated above:\n",
        "•\tMinimum Increment: +10 (from 85 to 95)\n",
        "•\tMinimum Decrement: -5 (from 105 to 100)\n",
        "•\tMinimum Change: 5 (decrement from 105 to 100)\n",
        "Answer:\n",
        "•\tMinimum Increment: 10 (from 85 to 95)\n",
        "•\tMinimum Decrement: -5 (from 105 to 100)\n",
        "Minimum Change: 5"
      ],
      "metadata": {
        "id": "G_C-fzGao8J1"
      },
      "execution_count": null,
      "outputs": []
    },
    {
      "cell_type": "code",
      "source": [
        "3) How many number of years and number of sessions are there in the given period?\n",
        "Since there are 11 data points, this implies the data spans 11 years and 11 sessions.\n",
        "Answer: 11 years and 11 sessions.\n"
      ],
      "metadata": {
        "id": "Hphj0mDYo8Oc"
      },
      "execution_count": null,
      "outputs": []
    },
    {
      "cell_type": "code",
      "source": [
        "4) When and how much is the maximum percentage increment, maximum percentage decrement and maximum percentage change?\n",
        "Calculate the percentage change for each increment and decrement:\n",
        "•\tFrom 60 to 80: 80−6060×100≈33.33%\\frac{80 - 60}{60} \\times 100 \\approx 33.33\\%6080−60×100≈33.33%\n",
        "•\tFrom 80 to 105: 105−8080×100=31.25%\\frac{105 - 80}{80} \\times 100 = 31.25\\%80105−80×100=31.25%\n",
        "•\tFrom 105 to 100: 100−105105×100≈−4.76%\\frac{100 - 105}{105} \\times 100 \\approx -4.76\\%105100−105×100≈−4.76%\n",
        "•\tFrom 100 to 121: 121−100100×100=21%\\frac{121 - 100}{100} \\times 100 = 21\\%100121−100×100=21%\n",
        "•\tFrom 121 to 105: 105−121121×100≈−13.22%\\frac{105 - 121}{121} \\times 100 \\approx -13.22\\%121105−121×100≈−13.22%\n",
        "•\tFrom 105 to 85: 85−105105×100≈−19.05%\\frac{85 - 105}{105} \\times 100 \\approx -19.05\\%10585−105×100≈−19.05%\n",
        "•\tFrom 85 to 95: 95−8585×100≈11.76%\\frac{95 - 85}{85} \\times 100 \\approx 11.76\\%8595−85×100≈11.76%\n",
        "•\tFrom 95 to 110: 110−9595×100≈15.79%\\frac{110 - 95}{95} \\times 100 \\approx 15.79\\%95110−95×100≈15.79%\n",
        "•\tFrom 110 to 85: 85−110110×100≈−22.73%\\frac{85 - 110}{110} \\times 100 \\approx -22.73\\%11085−110×100≈−22.73%\n",
        "•\tFrom 85 to 100: 100−8585×100≈17.65%\\frac{100 - 85}{85} \\times 100 \\approx 17.65\\%85100−85×100≈17.65%\n",
        "•\tFrom 100 to 130: 130−100100×100=30%\\frac{130 - 100}{100} \\times 100 = 30\\%100130−100×100=30%\n",
        "•\tMaximum Percentage Increment: 33.33% (from 60 to 80)\n",
        "•\tMaximum Percentage Decrement: -22.73% (from 110 to 85)\n",
        "•\tMaximum Percentage Change: 33.33%\n",
        "Answer:\n",
        "•\tMaximum Percentage Increment: 33.33% (from 60 to 80)\n",
        "•\tMaximum Percentage Decrement: -22.73% (from 110 to 85)\n",
        "•\tMaximum Percentage Change: 33.33%"
      ],
      "metadata": {
        "id": "cVpWJ1mOo8WC"
      },
      "execution_count": null,
      "outputs": []
    },
    {
      "cell_type": "code",
      "source": [
        "5) Calculate average revenue and average revenue change for the given period.\n",
        "Calculate average revenue and average revenue change for the given period.\n",
        "•\tSum of all values = 60+80+105+100+121+105+85+95+110+85+100+130=107660 + 80 + 105 + 100 + 121 + 105 + 85 + 95 + 110 + 85 + 100 + 130 = 107660+80+105+100+121+105+85+95+110+85+100+130=1076\n",
        "•\tAverage Revenue = 107611≈97.82\\frac{1076}{11} \\approx 97.82111076≈97.82\n",
        "Total change over the period:\n",
        "•\tLast value - First value = 130 - 60 = 70\n",
        "Average revenue change over 10 intervals:\n",
        "•\tAverage Revenue Change = 7010=7\\frac{70}{10} = 71070=7\n",
        "Answer:\n",
        "•\tAverage Revenue: 97.82\n",
        "•\tAverage Revenue Change: 7"
      ],
      "metadata": {
        "id": "h9NIxMgKpWY-"
      },
      "execution_count": null,
      "outputs": []
    },
    {
      "cell_type": "code",
      "source": [
        "6) When and how much is the maximum profit in the given\n",
        "period? If the average expenditure of all the years is 60 cr then what is the maximum profit?\n",
        "•\tRevenue = 130 (highest value in the data)\n",
        "•\tExpenditure = 60 (average expenditure given)\n",
        "•\tProfit = Revenue - Expenditure = 130 - 60 = 70\n",
        "Answer: Maximum Profit = 70 (when revenue is 130"
      ],
      "metadata": {
        "id": "jdmSSOGepWcY"
      },
      "execution_count": null,
      "outputs": []
    },
    {
      "cell_type": "code",
      "source": [
        "1) Calculate the sum and difference between the profits of A and B.\n",
        "1.\tCalculate the sum and difference between the profits of A and B.\n",
        "Profit = Revenue - Expenditure\n",
        "o\tProfit of A = 120°−80°=40°120° - 80° = 40°120°−80°=40°\n",
        "o\tProfit of B = 90°−90°=0°90° - 90° = 0°90°−90°=0°\n",
        "o\tSum of Profits (A + B) = 40°+0°=40°40° + 0° = 40°40°+0°=40°\n",
        "o\tDifference of Profits (A - B) = 40°−0°=40°40° - 0° = 40°40°−0°=40°\n",
        "Answer: Sum = 40°, Difference = 40°"
      ],
      "metadata": {
        "id": "LX9WVS3LpWfl"
      },
      "execution_count": null,
      "outputs": []
    },
    {
      "cell_type": "code",
      "source": [
        "2) What and from which sector has the maximum and minimum profits incurred?\n",
        "o\tProfits by sector:\n",
        "\tA: 120°−80°=40°120° - 80° = 40°120°−80°=40°\n",
        "\tB: 90°−90°=0°90° - 90° = 0°90°−90°=0°\n",
        "\tC: 60°−50°=10°60° - 50° = 10°60°−50°=10°\n",
        "\tD: 30°−40°=−10°30° - 40° = -10°30°−40°=−10° (loss)\n",
        "\tE: 70°−100°=−30°70° - 100° = -30°70°−100°=−30° (loss)\n",
        "o\tMaximum Profit: 40° from Sector A\n",
        "o\tMinimum Profit (maximum loss): -30° from Sector E\n",
        "Answer: Maximum profit = 40° from Sector A, Minimum profit = -30° from Sector E"
      ],
      "metadata": {
        "id": "CGil3Oz8pWjH"
      },
      "execution_count": null,
      "outputs": []
    },
    {
      "cell_type": "code",
      "source": [
        "3) Calculate the average profits of all sectors.\n",
        "1.\tCalculate the average profits of all sectors.\n",
        "Total Profit = 40°+0°+10°−10°−30°=10°40° + 0° + 10° - 10° - 30° = 10°40°+0°+10°−10°−30°=10°\n",
        "Average Profit = 10°5=2°\\frac{10°}{5} = 2°510°=2°\n",
        "Answer: 2°"
      ],
      "metadata": {
        "id": "zipkNB1Mu84h"
      },
      "execution_count": null,
      "outputs": []
    },
    {
      "cell_type": "code",
      "source": [
        "4) If the revenue of B is increased by 20%, what will be its new degree?\n",
        "New Revenue for B = 90°×1.2=108°90° \\times 1.2 = 108°90°×1.2=108°\n",
        "Answer: 108°"
      ],
      "metadata": {
        "id": "3BeaDr90u874"
      },
      "execution_count": null,
      "outputs": []
    },
    {
      "cell_type": "code",
      "source": [
        "5) How many sectors have profits greater than 40 cr?\n",
        "From our calculations, only Sector A has a profit of 40°, and no sector has a profit greater than 40°.\n",
        "Answer: 0 sectors"
      ],
      "metadata": {
        "id": "kfKMiyCIvEfN"
      },
      "execution_count": null,
      "outputs": []
    },
    {
      "cell_type": "code",
      "source": [
        "6) If the revenues of A and C are increased by 10% and 20% respectively, what will be the new degree of E?\n",
        "Total degrees in a circle = 360°\n",
        "o\tNew Revenue for A = 120°×1.1=132°120° \\times 1.1 = 132°120°×1.1=132°\n",
        "o\tNew Revenue for C = 60°×1.2=72°60° \\times 1.2 = 72°60°×1.2=72°\n",
        "Updated total revenue = 132°+90°+72°+30°+E=360°132° + 90° + 72° + 30° + E = 360°132°+90°+72°+30°+E=360°\n",
        "Solving for E:\n",
        "E=360°−(132°+90°+72°+30°)=360°−324°=36°E = 360° - (132° + 90° + 72° + 30°) = 360° - 324° = 36°E=360°−(132°+90°+72°+30°)=360°−324°=36°\n",
        "Answer: 36°"
      ],
      "metadata": {
        "id": "kdPB_5javEjD"
      },
      "execution_count": null,
      "outputs": []
    },
    {
      "cell_type": "code",
      "source": [
        "7) If the expenditure of B is increased by 10% and revenue is decreased by 10%, what will be its new profit?\n",
        "o\tNew Expenditure for B = 90°×1.1=99°90° \\times 1.1 = 99°90°×1.1=99°\n",
        "o\tNew Revenue for B = 90°×0.9=81°90° \\times 0.9 = 81°90°×0.9=81°\n",
        "New Profit for B = 81°−99°=−18°81° - 99° = -18°81°−99°=−18° (loss)\n",
        "Answer: -18°"
      ],
      "metadata": {
        "id": "t5Y8TAnFvNM0"
      },
      "execution_count": null,
      "outputs": []
    },
    {
      "cell_type": "code",
      "source": [
        "8) If the expenditure of C is increased by 20%, by how much percentage the expenditure of E should be decreased so that the total expenditure remains unchanged?\n",
        "Original Expenditure for C = 50°, Original Expenditure for E = 100°\n",
        "o\tNew Expenditure for C = 50°×1.2=60°50° \\times 1.2 = 60°50°×1.2=60°\n",
        "o\tIncrease in C’s Expenditure = 60°−50°=10°60° - 50° = 10°60°−50°=10°\n",
        "To balance the increase, we need to decrease E’s expenditure by 10° to keep the total unchanged.\n",
        "Required percentage decrease in E's expenditure:\n",
        "10°100°×100=10%\\frac{10°}{100°} \\times 100 = 10\\%100°10°×100=10%\n",
        "Answer: 10%"
      ],
      "metadata": {
        "id": "pn5Ft1kGu8_c"
      },
      "execution_count": null,
      "outputs": []
    },
    {
      "cell_type": "code",
      "source": [
        "1) In which year was the disbursement of loans of all the banks put together least compared to the average disbursement of loans over the years?\n",
        "a) 1982  b) 1983  c) 1984  d)1985  e) 1986\n",
        "•\t•  Total disbursement across all years: 118+120+140+154+203=735118 + 120 + 140 + 154 + 203 = 735118+120+140+154+203=735\n",
        "•\tAverage disbursement: 7355=147\\frac{735}{5} = 1475735=147\n",
        "Comparing each year's total to the average:\n",
        "•\t1982: 118 (less than 147)\n",
        "•\t1983: 120 (less than 147)\n",
        "•\t1984: 140 (less than 147)\n",
        "•\t1985: 154 (greater than 147)\n",
        "•\t1986: 203 (greater than 147)\n",
        "Answer: (a) 1982\n"
      ],
      "metadata": {
        "id": "A42_MFDM0h3v"
      },
      "execution_count": null,
      "outputs": []
    },
    {
      "cell_type": "code",
      "source": [
        "2) What was the percentage increase of disbursement of loans of all banks together from 1984 to 1985?\n",
        "a) 110  b) 14  c) 90 10/11  d)10  e) NOT\n",
        "•\tTotal in 1984: 140\n",
        "•\tTotal in 1985: 154\n",
        "Percentage increase:\n",
        "154−140140×100=14140×100=10%\\frac{154 - 140}{140} \\times 100 = \\frac{14}{140} \\times 100 = 10\\%140154−140×100=14014×100=10%\n",
        "Answer: (d) 10%"
      ],
      "metadata": {
        "id": "15boGYr30h7M"
      },
      "execution_count": null,
      "outputs": []
    },
    {
      "cell_type": "code",
      "source": [
        "3) In which year was the total disbursement of loans of banks A & B exactly equal to the total disbursement of banks D and E?\n",
        "a) 1983  b) 1986  c) 1984  d) 1982  e) NOT\n",
        "Calculations by Year:\n",
        "•\t1982\n",
        "o\tA+B=18+27=45A + B = 18 + 27 = 45A+B=18+27=45\n",
        "o\tD+E=31+13=44D + E = 31 + 13 = 44D+E=31+13=44\n",
        "Not equal\n",
        "•\t1983\n",
        "o\tA+B=23+33=56A + B = 23 + 33 = 56A+B=23+33=56\n",
        "o\tD+E=16+19=35D + E = 16 + 19 = 35D+E=16+19=35\n",
        "Not equal\n",
        "•\t1984\n",
        "o\tA+B=45+18=63A + B = 45 + 18 = 63A+B=45+18=63\n",
        "o\tD+E=28+27=55D + E = 28 + 27 = 55D+E=28+27=55\n",
        "Not equal\n",
        "•\t1985\n",
        "o\tA+B=30+41=71A + B = 30 + 41 = 71A+B=30+41=71\n",
        "o\tD+E=32+34=66D + E = 32 + 34 = 66D+E=32+34=66\n",
        "Not equal\n",
        "•\t1986\n",
        "o\tA+B=70+37=107A + B = 70 + 37 = 107A+B=70+37=107\n",
        "o\tD+E=43+42=85D + E = 43 + 42 = 85D+E=43+42=85\n",
        "Not equal\n",
        "Conclusion:\n",
        "None of the years have a total disbursement for banks A & B equal to the total disbursement for banks D & E.\n",
        "Answer: (e) NOT"
      ],
      "metadata": {
        "id": "wxOFRvU20h_i"
      },
      "execution_count": null,
      "outputs": []
    },
    {
      "cell_type": "code",
      "source": [
        "4) In which of the following banks did the disbursement of loan continuously increase over the years?\n",
        "a) A  b) B  c) C  d) D  e) E\n",
        "Checking each bank:\n",
        "•\tBank A: 18, 23, 45, 30, 70 (not continuous)\n",
        "•\tBank B: 27, 33, 18, 41, 37 (not continuous)\n",
        "•\tBank C: 29, 29, 22, 17, 11 (not continuous)\n",
        "•\tBank D: 31, 16, 28, 32, 43 (not continuous)\n",
        "•\tBank E: 13, 19, 27, 34, 42 (continuous increase)\n",
        "Answer: (e) E"
      ],
      "metadata": {
        "id": "uEN2rm3r08wk"
      },
      "execution_count": null,
      "outputs": []
    },
    {
      "cell_type": "code",
      "source": [
        "5) If the minimum target in the preceding years was 20% of the total disbursement of loans, how many banks reached the target in 1983?\n",
        "a) 1  b) 3  c) 2  d) 4  e) NOT\n",
        "•\tTotal disbursement in 1983: 120\n",
        "•\t20% of 120 = 24\n",
        "Checking each bank's disbursement in 1983:\n",
        "•\tBank A: 23 (below 24)\n",
        "•\tBank B: 33 (above 24)\n",
        "•\tBank C: 29 (above 24)\n",
        "•\tBank D: 16 (below 24)\n",
        "•\tBank E: 19 (below 24)\n",
        "Only 2 banks (B and C) reached the target.\n",
        "Answer: (c) 2"
      ],
      "metadata": {
        "id": "vRWKU9II1Ds7"
      },
      "execution_count": null,
      "outputs": []
    },
    {
      "cell_type": "code",
      "source": [
        "6) In which bank was the loan disbursement more than 25% of the disbursement of all banks together in 1986?\n",
        "a) A  b) B  c) C  d) D  e)\n",
        "•\tTotal disbursement in 1986: 203\n",
        "•\t25% of 203 = 50.75\n",
        "Checking each bank's disbursement in 1986:\n",
        "•\tBank A: 70 (above 50.75)\n",
        "•\tBank B: 37 (below 50.75)\n",
        "•\tBank C: 11 (below 50.75)\n",
        "•\tBank D: 43 (below 50.75)\n",
        "•\tBank E: 42 (below 50.75)\n",
        "Only Bank A had a disbursement more than 25% of the total in 1986.\n",
        "Answer: (a) A"
      ],
      "metadata": {
        "id": "F762YSgv1D1U"
      },
      "execution_count": null,
      "outputs": []
    },
    {
      "cell_type": "code",
      "source": [
        "A- Every student (boy and girl) of each class of standard XI participates in a game.\n",
        "B- In each class, the number of girls participating in each game is 25% of the number of boys participating in each game.\n",
        "C- Each student (boy or girl) participates in one and only one game.\n",
        "1) All the boys of class XI D passed the annual examination but a few girls failed. If all the boys and girls who passed and entered XII D are in the ratio of boys to girls as 5:1, what would be the number of girls who failed in class XI D?\n",
        "a) 8  b) 5  c) 2  d) 1   e) NOT\n",
        "1.\tTotal boys in class XI D = 40.\n",
        "2.\tSince the number of girls is 25% of the boys, the number of girls in XI D = 40×0.25=1040 \\times 0.25 = 1040×0.25=10.\n",
        "3.\tTotal students (boys + girls) in XI D who passed = 40 boys + 10−x10 - x10−x girls, where xxx is the number of girls who failed.\n",
        "4.\tGiven the ratio of boys to girls who passed is 5:1: 4010−x=5\\frac{40}{10 - x} = 510−x40=5 Solving this equation: 40=5(10−x)⇒40=50−5x⇒5x=10⇒x=240 = 5(10 - x) \\Rightarrow 40 = 50 - 5x \\Rightarrow 5x = 10 \\Rightarrow x = 240=5(10−x)⇒40=50−5x⇒5x=10⇒x=2 So, 2 girls failed in class XI D.\n",
        "Answer: (a) 2"
      ],
      "metadata": {
        "id": "jW08aYu32QN_"
      },
      "execution_count": null,
      "outputs": []
    },
    {
      "cell_type": "code",
      "source": [
        "2) Girls playing which of the following games need to be combined to yield a ratio of boys to girls of 4:1, if all boys playing chess and badminton are combined?\n",
        "a) Tennis & Hockey  b) Badminton & Tennis   c) Chess & Hockey d) Hockey & Football  e) NOT\n",
        "Girls playing which of the following games need to be combined to yield a ratio of boys to girls of 4:1 if all boys playing Chess and Badminton are combined?\n",
        "1.\tTotal boys in Chess = 32, and in Badminton = 52, so boys in Chess + Badminton = 32 + 52 = 84.\n",
        "2.\tGirls in Chess = 32×0.25=832 \\times 0.25 = 832×0.25=8.\n",
        "3.\tGirls in Badminton = 52×0.25=1352 \\times 0.25 = 1352×0.25=13.\n",
        "4.\tTotal girls in Chess + Badminton = 8 + 13 = 21.\n",
        "5.\tRatio of boys to girls = 8421=4:1\\frac{84}{21} = 4:12184=4:1.\n",
        "Answer: (b) Badminton & Tennis"
      ],
      "metadata": {
        "id": "0XDykBXX6h9C"
      },
      "execution_count": null,
      "outputs": []
    },
    {
      "cell_type": "code",
      "source": [
        "3) What should be the total number of students in the school if all the boys of class XI A together with all the girls of class XI B and class XI C were to be equal to 25% of the total number of students?\n",
        "a) 272  b) 560  c) 656  d) 340  e) NOT\n",
        "1.\tAll boys of class XI A together with all girls of class XI B and XI C are to be equal to 25% of the total number of students.\n",
        "2.\tWe need to calculate the total number of students, denoted as TTT.\n",
        "Step-by-Step Solution\n",
        "1.\tNumber of boys in class XI A:\n",
        "o\tTotal boys in XI A = 44.\n",
        "2.\tNumber of girls in classes XI B and XI C:\n",
        "o\tBoys in XI B = 48, so girls in XI B = 48×0.25=1248 \\times 0.25 = 1248×0.25=12.\n",
        "o\tBoys in XI C = 48, so girls in XI C = 48×0.25=1248 \\times 0.25 = 1248×0.25=12.\n",
        "o\tTotal girls in XI B and XI C = 12+12=2412 + 12 = 2412+12=24.\n",
        "3.\tCombined total of boys in XI A and girls in XI B and XI C:\n",
        "o\tTotal = 44+24=6844 + 24 = 6844+24=68.\n",
        "4.\tSetting up the equation:\n",
        "o\tThis combined total (68) is given as 25% of the total number of students, TTT.\n",
        "o\tTherefore, 0.25×T=680.25 \\times T = 680.25×T=68.\n",
        "5.\tSolving for TTT:\n",
        "T=680.25=272T = \\frac{68}{0.25} = 272T=0.2568=272\n",
        "Answer\n",
        "(a) 272"
      ],
      "metadata": {
        "id": "KaxulU2F6iGn"
      },
      "execution_count": null,
      "outputs": []
    },
    {
      "cell_type": "code",
      "source": [
        "4) Boys of which of the following classes need to be combined to equal four times the number of girls in class XI B and class XI C?\n",
        "a) XI D & XI E  b) XI A & XI B  c) XI A & XI C   d) XI A & XI D  e) NOT\n",
        "1.\tCalculate the number of girls in classes XI B and XI C:\n",
        "o\tTotal boys in XI B = 48, so girls in XI B = 48×0.25=1248 \\times 0.25 = 1248×0.25=12.\n",
        "o\tTotal boys in XI C = 48, so girls in XI C = 48×0.25=1248 \\times 0.25 = 1248×0.25=12.\n",
        "o\tTotal girls in XI B and XI C combined = 12+12=2412 + 12 = 2412+12=24.\n",
        "2.\tFour times the number of girls in XI B and XI C:\n",
        "o\t4×24=964 \\times 24 = 964×24=96.\n",
        "3.\tOptions analysis to find the total boys:\n",
        "o\tOption (a) XI D & XI E:\n",
        "\tBoys in XI D = 40, and boys in XI E = 48.\n",
        "\tTotal = 40+48=8840 + 48 = 8840+48=88 (not equal to 96).\n",
        "o\tOption (b) XI A & XI B:\n",
        "\tBoys in XI A = 44, and boys in XI B = 48.\n",
        "\tTotal = 44+48=9244 + 48 = 9244+48=92 (not equal to 96).\n",
        "o\tOption (c) XI A & XI C:\n",
        "\tBoys in XI A = 44, and boys in XI C = 48.\n",
        "\tTotal = 44+48=9244 + 48 = 9244+48=92 (not equal to 96).\n",
        "o\tOption (d) XI A & XI D:\n",
        "\tBoys in XI A = 44, and boys in XI D = 40.\n",
        "\tTotal = 44+40=8444 + 40 = 8444+40=84 (not equal to 96).\n",
        "Since none of these combinations equal 96, the answer is:\n",
        "Answer: (e) NOT"
      ],
      "metadata": {
        "id": "f7b7L1De64rl"
      },
      "execution_count": null,
      "outputs": []
    },
    {
      "cell_type": "code",
      "source": [
        "5) If boys of class XI E participate in chess together with girls of class XI B and class XI C participating in Tennis and Hockey respectively are selected for a course at the college of sports, what % of the students will get this advantage approximately?\n",
        "a) 4.38  b) 3.51  c) 10.52  d) 13.5  e) NOT\n",
        "1.\tFind the number of boys in XI E participating in Chess:\n",
        "o\tBoys in XI E playing Chess = 8.\n",
        "2.\tFind the number of girls in XI B and XI C participating in Tennis and Hockey:\n",
        "o\tGirls in XI B playing Tennis:\n",
        "\tBoys in XI B playing Tennis = 16.\n",
        "\tGirls in XI B playing Tennis = 16×0.25=416 \\times 0.25 = 416×0.25=4.\n",
        "o\tGirls in XI C playing Hockey:\n",
        "\tBoys in XI C playing Hockey = 8.\n",
        "\tGirls in XI C playing Hockey = 8×0.25=28 \\times 0.25 = 28×0.25=2.\n",
        "3.\tTotal students selected for the course:\n",
        "o\tTotal = 8+4+2=148 + 4 + 2 = 148+4+2=14.\n",
        "4.\tTotal number of students in the school:\n",
        "o\tTotal boys = 228.\n",
        "o\tTotal girls = 228×0.25=57228 \\times 0.25 = 57228×0.25=57.\n",
        "o\tTotal students = 228+57=285228 + 57 = 285228+57=285.\n",
        "5.\tPercentage of students selected:\n",
        "14285×100≈4.91%\\frac{14}{285} \\times 100 \\approx 4.91\\%28514×100≈4.91%\n",
        "Since 4.91% is closest to 4.38%, we choose:\n",
        "Answer: (a) 4.38"
      ],
      "metadata": {
        "id": "AixlUcnO7F0a"
      },
      "execution_count": null,
      "outputs": []
    },
    {
      "cell_type": "code",
      "source": [
        "6) If the social work every boy of class XI D & class XI C is paired with the girl of the same class, what % of the boys of these two classes cannot participate in social work?\n",
        "a) 33  b) 66  c) 50  d) 75  e) NOT\n",
        "1.\tCalculate the number of boys in classes XI D and XI C:\n",
        "o\tBoys in XI D = 40.\n",
        "o\tBoys in XI C = 48.\n",
        "o\tTotal boys in XI D and XI C = 40+48=8840 + 48 = 8840+48=88.\n",
        "2.\tCalculate the number of girls in classes XI D and XI C:\n",
        "o\tGirls in XI D = 40×0.25=1040 \\times 0.25 = 1040×0.25=10.\n",
        "o\tGirls in XI C = 48×0.25=1248 \\times 0.25 = 1248×0.25=12.\n",
        "o\tTotal girls in XI D and XI C = 10+12=2210 + 12 = 2210+12=22.\n",
        "3.\tNumber of boys who cannot be paired (i.e., cannot participate in social work):\n",
        "o\tBoys without pairs = 88−22=6688 - 22 = 6688−22=66.\n",
        "4.\tPercentage of boys who cannot participate:\n",
        "6688×100=75%\\frac{66}{88} \\times 100 = 75\\%8866×100=75%\n",
        "Answer: (d) 75"
      ],
      "metadata": {
        "id": "Ip0pXLZx2QV-"
      },
      "execution_count": null,
      "outputs": []
    },
    {
      "cell_type": "code",
      "source": [
        "1) During which year did the ‘Net Profit’ exceed Rs. 1 crore for the first time?\n",
        "a) 1985-86  b) 1984-85  c) 1983-84  d) 1982-83  e) NOT\n",
        "Looking at the 'Net Profit' column:\n",
        "•\t1980-81: 10.67\n",
        "•\t1981-82: 18.46\n",
        "•\t1982-83: 49.16\n",
        "•\t1983-84: 65.69\n",
        "•\t1984-85: 212.78 (first time exceeding 1 crore)\n",
        "•\t1985-86: 220.8\n",
        "Answer: (b) 1984-85"
      ],
      "metadata": {
        "id": "XfJpYSrtF_0P"
      },
      "execution_count": null,
      "outputs": []
    },
    {
      "cell_type": "code",
      "source": [
        "2) During which year was the “Gross Turnover” closest to thrice the ‘Profit before Interest and Depreciation’?\n",
        "a) 1985-86  b) 1984-85  c) 1983-84  d) 1982-83  e) 1981-82\n",
        "To find this, we check when the ratio of \"Gross Turnover\" to \"Profit before Interest and Depreciation\" is closest to 3.\n",
        "1.\t1980-81: 1380380.92≈3.62\\frac{1380}{380.92} \\approx 3.62380.921380≈3.62\n",
        "2.\t1981-82: 1401404.98≈3.46\\frac{1401}{404.98} \\approx 3.46404.981401≈3.46\n",
        "3.\t1982-83: 1540520.03≈2.96\\frac{1540}{520.03} \\approx 2.96520.031540≈2.96\n",
        "4.\t1983-84: 2112599.01≈3.52\\frac{2112}{599.01} \\approx 3.52599.012112≈3.52\n",
        "5.\t1984-85: 2520811≈3.11\\frac{2520}{811} \\approx 3.118112520≈3.11\n",
        "6.\t1985-86: 2758.99920≈3.0\\frac{2758.99}{920} \\approx 3.09202758.99≈3.0\n",
        "The year closest to a ratio of 3 is 1985-86 with a ratio of approximately 3.0.\n",
        "Answer: (a) 1985-86"
      ],
      "metadata": {
        "id": "csEO69shF_3D"
      },
      "execution_count": null,
      "outputs": []
    },
    {
      "cell_type": "code",
      "source": [
        "3) During which of the given years did the ‘Net Profit’ form the highest proportion of the ‘Profit before Interest and Depreciation?\n",
        "a) 1984-85  b) 1983-84  c) 1982-83  d) 1981-82  e) 1980-81\n",
        "To find this, calculate the proportion of 'Net Profit' to 'Profit before Interest and Depreciation' for each year:\n",
        "1.\t1980-81: 10.67380.92≈0.028\\frac{10.67}{380.92} \\approx 0.028380.9210.67≈0.028\n",
        "2.\t1981-82: 18.46404.98≈0.046\\frac{18.46}{404.98} \\approx 0.046404.9818.46≈0.046\n",
        "3.\t1982-83: 49.16520.03≈0.094\\frac{49.16}{520.03} \\approx 0.094520.0349.16≈0.094\n",
        "4.\t1983-84: 65.69599.01≈0.11\\frac{65.69}{599.01} \\approx 0.11599.0165.69≈0.11\n",
        "5.\t1984-85: 212.78811≈0.262\\frac{212.78}{811} \\approx 0.262811212.78≈0.262\n",
        "6.\t1985-86: 220.8920≈0.24\\frac{220.8}{920} \\approx 0.24920220.8≈0.24\n",
        "The highest proportion is in 1984-85 with a ratio of approximately 0.262.\n",
        "Answer: (a) 1984-85"
      ],
      "metadata": {
        "id": "nQGaaoYKF_6F"
      },
      "execution_count": null,
      "outputs": []
    },
    {
      "cell_type": "code",
      "source": [
        "4) Which of the following registered the lowest increase in terms of rupees from the year 1984-85 to the year 1985-86?\n",
        "a) Gross Turnover  b) Profit before Interest and Depreciation   c) Depreciation  d) Interest  e) Net Profit\n",
        "Calculate the increase for each category from 1984-85 to 1985-86:\n",
        "•\tGross Turnover: 2758.99 - 2520 = 238.99\n",
        "•\tProfit before Interest and Depreciation: 920 - 811 = 109\n",
        "•\tDepreciation: 99 - 91.91 = 7.09\n",
        "•\tInterest: 600.2 - 505.42 = 94.78\n",
        "•\tNet Profit: 220.8 - 212.78 = 8.02\n",
        "The lowest increase is in Depreciation with an increase of 7.09.\n",
        "Answer: (c) Depreciation"
      ],
      "metadata": {
        "id": "4OMsRrXnGa0F"
      },
      "execution_count": null,
      "outputs": []
    },
    {
      "cell_type": "code",
      "source": [
        "5) The ‘Gross Turnover’ for 1982-83 is about what percent of the ‘Gross Turnover’ for 1984-85?\n",
        "a) 61  b) 163  c) .611  d) 39  e) .006\n",
        "Calculate the percentage:\n",
        "15402520×100≈61.11%\\frac{1540}{2520} \\times 100 \\approx 61.11\\%25201540×100≈61.11%\n",
        "Answer: (a) 61"
      ],
      "metadata": {
        "id": "mr3yImBdGcT9"
      },
      "execution_count": null,
      "outputs": []
    },
    {
      "cell_type": "code",
      "source": [
        "1) In how many of the given years were the exports at least 10% more than the imports?\n",
        "a) 0  b) 1  c) 2  d) 3\n",
        "To solve this, we need to check each year's exports and imports and see if exports were at least 10% greater than imports.\n",
        "1.\t1994: Exports = 80, Imports = 70\n",
        "80>70×1.1=7780 > 70 \\times 1.1 = 7780>70×1.1=77 (Yes)\n",
        "2.\t1995: Exports = 130, Imports = 120\n",
        "130>120×1.1=132130 > 120 \\times 1.1 = 132130>120×1.1=132 (No)\n",
        "3.\t1996: Exports = 140, Imports = 112\n",
        "140>112×1.1=123.2140 > 112 \\times 1.1 = 123.2140>112×1.1=123.2 (Yes)\n",
        "4.\t1997: Exports = 170, Imports = 160\n",
        "170>160×1.1=176170 > 160 \\times 1.1 = 176170>160×1.1=176 (No)\n",
        "5.\t1998: Exports = 160, Imports = 160\n",
        "160>160×1.1=176160 > 160 \\times 1.1 = 176160>160×1.1=176 (No)\n",
        "6.\t1999: Exports = 150, Imports = 150\n",
        "150>150×1.1=165150 > 150 \\times 1.1 = 165150>150×1.1=165 (No)\n",
        "Answer: (b) 1"
      ],
      "metadata": {
        "id": "UwvLCnvfIF1u"
      },
      "execution_count": null,
      "outputs": []
    },
    {
      "cell_type": "code",
      "source": [
        "2) From 1995 to 1999, in which year was the percentage growth in exports, compared to the previous year, the highest?\n",
        "a) 1995  b) 1996  c) 1997  d) 1998\n",
        "Calculate the percentage growth for each year from 1995 to 1999:\n",
        "1.\t1995: 130−8080×100=62.5%\\frac{130 - 80}{80} \\times 100 = 62.5\\%80130−80×100=62.5%\n",
        "2.\t1996: 140−130130×100=7.7%\\frac{140 - 130}{130} \\times 100 = 7.7\\%130140−130×100=7.7%\n",
        "3.\t1997: 170−140140×100=21.4%\\frac{170 - 140}{140} \\times 100 = 21.4\\%140170−140×100=21.4%\n",
        "4.\t1998: 160−170170×100=−5.9%\\frac{160 - 170}{170} \\times 100 = -5.9\\%170160−170×100=−5.9%\n",
        "5.\t1999: 150−160160×100=−6.25%\\frac{150 - 160}{160} \\times 100 = -6.25\\%160150−160×100=−6.25%\n",
        "The highest percentage growth in exports compared to the previous year is in 1995.\n",
        "Answer: (a) 1995"
      ],
      "metadata": {
        "id": "YyyABepQI2RZ"
      },
      "execution_count": null,
      "outputs": []
    },
    {
      "cell_type": "code",
      "source": [
        "3) What were the average exports for the given periods?\n",
        "a) 145000 cr  b) 132000 cr  c) 126000 cr  d) 119000 cr\n",
        "To find the average exports over the years from 1994 to 1999, add up all the exports and divide by the number of years (6 years).\n",
        "80+130+140+170+160+1506=8306≈138.33\\frac{80 + 130 + 140 + 170 + 160 + 150}{6} = \\frac{830}{6} \\approx 138.33680+130+140+170+160+150=6830≈138.33\n",
        "Since the options are in crore, the closest answer is 132000 cr.\n",
        "Answer: (b) 132000 cr"
      ],
      "metadata": {
        "id": "nXuvvFt2I2iz"
      },
      "execution_count": null,
      "outputs": []
    },
    {
      "cell_type": "code",
      "source": [
        "4) What is the simple average annual growth in the imports from 1994 to 1999?\n",
        "a) 15  b) 16  c) 19  d) 23\n",
        "Calculate the total growth in imports from 1994 to 1999, and then find the average by dividing by the number of intervals (5 years).\n",
        "1.\tGrowth from 1994 to 1999 = 150−70=80150 - 70 = 80150−70=80\n",
        "2.\tAverage annual growth = 805=16\\frac{80}{5} = 16580=16\n",
        "Answer: 16"
      ],
      "metadata": {
        "id": "0aUrlhHyI2mk"
      },
      "execution_count": null,
      "outputs": []
    },
    {
      "cell_type": "code",
      "source": [
        "5) Among the years in which the imports as well as exports exceeded those in the previous years, in how many years was the percentage increase in imports less than the percentage increase in exports?\n",
        "a) 0  b) 1  c) 2  d) 3\n",
        "First, determine the years in which both exports and imports increased over the previous year:\n",
        "•\t1995: Exports = 130, Imports = 120 (both increased from 1994).\n",
        "•\t1996: Exports = 140, Imports = 112 (both increased from 1995).\n",
        "•\t1997: Exports = 170, Imports = 160 (both increased from 1996).\n",
        "Now, calculate the percentage increases:\n",
        "1.\t1995:\n",
        "o\tExports: 130−8080×100=62.5%\\frac{130 - 80}{80} \\times 100 = 62.5\\%80130−80×100=62.5%\n",
        "o\tImports: 120−7070×100=71.4%\\frac{120 - 70}{70} \\times 100 = 71.4\\%70120−70×100=71.4%\n",
        "o\tImports increased more than exports.\n",
        "2.\t1996:\n",
        "o\tExports: 140−130130×100=7.7%\\frac{140 - 130}{130} \\times 100 = 7.7\\%130140−130×100=7.7%\n",
        "o\tImports: 112−120120×100=−6.67%\\frac{112 - 120}{120} \\times 100 = -6.67\\%120112−120×100=−6.67%\n",
        "o\tExports increased, while imports decreased.\n",
        "3.\t1997:\n",
        "o\tExports: 170−140140×100=21.4%\\frac{170 - 140}{140} \\times 100 = 21.4\\%140170−140×100=21.4%\n",
        "o\tImports: 160−112112×100=42.9%\\frac{160 - 112}{112} \\times 100 = 42.9\\%112160−112×100=42.9%\n",
        "o\tImports increased more than exports.\n",
        "Only 1996 qualifies, where the percentage increase in imports was less than the percentage increase in exports.\n",
        "Answer: (b) 1"
      ],
      "metadata": {
        "id": "iKWBNr6FI2qD"
      },
      "execution_count": null,
      "outputs": []
    },
    {
      "cell_type": "code",
      "source": [
        "1) If Raju spent 4500 rupees more on food and transport together than he spent on rent, then find his monthly expenses (in rupees):\n",
        "a) 15000  b) 25000  c) 30000  d) 35000\n",
        "If Raju spent 4500 rupees more on food and transport together than he spent on rent, then find his monthly expenses (in rupees).\n",
        "Let:\n",
        "•\tRent = xxx\n",
        "•\tFood + Transport = x+4500x + 4500x+4500\n",
        "•\tTotal Monthly Expenses = x+(x+4500)+other expensesx + (x + 4500) + \\text{other expenses}x+(x+4500)+other expenses\n",
        "Since we don't have exact angles or percentages, we'll need additional information from the pie chart to solve this. If the chart has no values, this question can't be solved accurately without knowing proportions or percentages allocated to each expense type."
      ],
      "metadata": {
        "id": "WMxhFdYRLMPY"
      },
      "execution_count": null,
      "outputs": []
    },
    {
      "cell_type": "code",
      "source": [
        "2) If Raju increased his savings, which is currently 10% of his income, by 20% and reduced his expenses by 20%, then his savings would be what percentage of his expenses?\n",
        "a) 10%  b) 12.5%  c) 15%  d) 16.66%\n",
        "If Raju increased his savings, which is currently 10% of his income, by 20% and reduced his expenses by 20%, then his savings would be what percentage of his expenses?\n",
        "Let:\n",
        "•\tIncome = III\n",
        "•\tSavings = 10% of I=0.1II = 0.1II=0.1I\n",
        "•\tIncreased Savings = 0.1I×1.2=0.12I0.1I \\times 1.2 = 0.12I0.1I×1.2=0.12I\n",
        "•\tReduced Expenses = I−0.12I=0.88II - 0.12I = 0.88II−0.12I=0.88I\n",
        "Savings as a percentage of expenses:\n",
        "0.12I0.88I×100=1288×100≈13.64%\\frac{0.12I}{0.88I} \\times 100 = \\frac{12}{88} \\times 100 \\approx 13.64\\%0.88I0.12I×100=8812×100≈13.64%\n",
        "Answer: None of the given options, but approximately 13.64%."
      ],
      "metadata": {
        "id": "59Ih_AWxLMSV"
      },
      "execution_count": null,
      "outputs": []
    },
    {
      "cell_type": "code",
      "source": [
        "3) Raju spent 20% of his expenditure on ‘others’ on entertainment, this amounted to 2100 rupees, find his expenditure on education.\n",
        "a) 4500  b) 5000  c) 6500  d) None of these\n",
        "Raju spent 20% of his expenditure on ‘others’ on entertainment; this amounted to 2100 rupees. Find his expenditure on education.\n",
        "Let:\n",
        "•\tExpenditure on \"others\" = OOO\n",
        "•\t20% of O=2100O = 2100O=2100\n",
        "Then:\n",
        "O=21000.2=10500O = \\frac{2100}{0.2} = 10500O=0.22100=10500\n",
        "If education expenditure is part of \"others,\" we need further details on how much is allocated to education.\n",
        "Answer: Cannot be determined without more information."
      ],
      "metadata": {
        "id": "veJHBEtwLMVf"
      },
      "execution_count": null,
      "outputs": []
    },
    {
      "cell_type": "code",
      "source": [
        "4) Find the angle made by the expenditure on rent and others put together\n",
        "a) 1200  b) 1600  c) 1800  d) 2100\n",
        "Find the angle made by the expenditure on rent and others put together.\n",
        "To find the angle, we would need the percentage of the total expenses allocated to \"rent\" and \"others.\"\n",
        "Angle for rent and others:\n",
        "Angle=(Total percentage for rent and others)×3.6\\text{Angle} = \\left(\\text{Total percentage for rent and others}\\right) \\times 3.6Angle=(Total percentage for rent and others)×3.6\n",
        "Answer: Not determinable from the given data."
      ],
      "metadata": {
        "id": "1TB9Nd_nLMYj"
      },
      "execution_count": null,
      "outputs": []
    },
    {
      "cell_type": "code",
      "source": [
        "5) As the prices dropped, Raju’s expenditure on clothes dropped by 10%. As a result of this, his expenditure on others decreased from 10500 rupees to 10290 rupees, what percentage of his expenditure on others was spent on clothes?\n",
        "a) 10%  b) 12%  c) 15%  d) 20%\n",
        "Let:\n",
        "•\tOriginal expenditure on clothes = CCC\n",
        "Since a 10% drop in clothes resulted in a 210 rupee decrease in \"others\":\n",
        "0.1C=210⇒C=2100.1=21000.1C = 210 \\Rightarrow C = \\frac{210}{0.1} = 21000.1C=210⇒C=0.1210=2100\n",
        "Percentage of \"others\" spent on clothes:\n",
        "210010500×100=20%\\frac{2100}{10500} \\times 100 = 20\\%105002100×100=20%\n",
        "Answer: (d) 20%"
      ],
      "metadata": {
        "id": "JqOp1sGoLn1V"
      },
      "execution_count": null,
      "outputs": []
    },
    {
      "cell_type": "code",
      "source": [
        "1) If in 2004, the manufacturing cost and selling cost of each unit for all the companies is Rs. 25 and Rs. 40 respectively, then total profit in Rs. Earned by all the three companies in that year, if all the manufactured goods are sold is:\n",
        "a) 6.75 million  b) 6.75 lakh  c) 0.225 million  d) 0.3 million\n",
        "Let's go through each question based on the provided line graph.\n",
        "1) Total Profit in 2004\n",
        "•\tManufacturing Cost: Rs. 25\n",
        "•\tSelling Price: Rs. 40\n",
        "•\tProfit per Unit = Selling Price - Manufacturing Cost = 40 - 25 = Rs. 15\n",
        "•\tUnits Sold in 2004:\n",
        "o\tCompany X: 20,000 (from the graph, labeled in thousands)\n",
        "o\tCompany Y: 15,000\n",
        "o\tCompany Z: 10,000\n",
        "Total Profit Calculation\n",
        "Total Profit=Total Units Sold×Profit per Unit\\text{Total Profit} = \\text{Total Units Sold} \\times \\text{Profit per Unit}Total Profit=Total Units Sold×Profit per Unit =(20,000+15,000+10,000)×15= (20,000 + 15,000 + 10,000) \\times 15=(20,000+15,000+10,000)×15 =45,000×15=675,000 or 6.75 lakh= 45,000 \\times 15 = 675,000 \\text{ or } 6.75 \\text{ lakh}=45,000×15=675,000 or 6.75 lakh\n",
        "Answer: (a) 6.75 lakh"
      ],
      "metadata": {
        "id": "JqVWcG8HMy_-"
      },
      "execution_count": null,
      "outputs": []
    },
    {
      "cell_type": "code",
      "source": [
        "2) Which company has the maximum revenue in the year 2004 and 2005 together, if the selling price (in Rs.) of each unit in both years, for companies X,Y,Z are 12,18 and 8 respectively?\n",
        "a) X  b) Y  c) Z  d) Both X and Y\n",
        "Maximum Revenue in 2004 and 2005 Together\n",
        "•\tSelling Prices per Unit:\n",
        "o\tX: Rs. 12\n",
        "o\tY: Rs. 18\n",
        "o\tZ: Rs. 8\n",
        "•\tUnits Sold:\n",
        "o\t2004:\n",
        "\tX: 20,000\n",
        "\tY: 15,000\n",
        "\tZ: 10,000\n",
        "o\t2005:\n",
        "\tX: 30,000\n",
        "\tY: 20,000\n",
        "\tZ: 5,000\n",
        "Revenue Calculation for Each Company\n",
        "1.\tCompany X: Revenue=(20,000+30,000)×12=50,000×12=600,000\\text{Revenue} = (20,000 + 30,000) \\times 12 = 50,000 \\times 12 = 600,000Revenue=(20,000+30,000)×12=50,000×12=600,000\n",
        "2.\tCompany Y: Revenue=(15,000+20,000)×18=35,000×18=630,000\\text{Revenue} = (15,000 + 20,000) \\times 18 = 35,000 \\times 18 = 630,000Revenue=(15,000+20,000)×18=35,000×18=630,000\n",
        "3.\tCompany Z: Revenue=(10,000+5,000)×8=15,000×8=120,000\\text{Revenue} = (10,000 + 5,000) \\times 8 = 15,000 \\times 8 = 120,000Revenue=(10,000+5,000)×8=15,000×8=120,000\n",
        "Company Y has the highest revenue with Rs. 630,000.\n",
        "Answer: (b) Y"
      ],
      "metadata": {
        "id": "jFN15XIiMzD1"
      },
      "execution_count": null,
      "outputs": []
    },
    {
      "cell_type": "code",
      "source": [
        "3) How are the revenues from 2003 to 2007 for company X and company Z related if the selling price of each unit sold in a year is the same for both the companies?\n",
        "a) inverse relationship  b) sum of their revenues is a constant  c) direct relationship  d) none of these\n",
        "Relationship of Revenues (2003 to 2007) for Company X and Company Z\n",
        "From observing the graph, as the sales of Company X increase over the years, the sales of Company Z decrease. This suggests an inverse relationship between their revenues.\n",
        "Answer: (a) inverse relationship"
      ],
      "metadata": {
        "id": "Oa5KuR1jMzH-"
      },
      "execution_count": null,
      "outputs": []
    },
    {
      "cell_type": "code",
      "source": [
        "4) What is the ratio of the profits generated by the companies X,Y and Z in 2003 if their average profit per units is Rs. 15, 5 and 8 respectively?\n",
        "a) 15:20:24  b) 5:7:8  c) 6:6:8  d) 6:5:8\n",
        "Profit Ratio for Companies X and Z in 2003\n",
        "•\tAverage Profit per Unit:\n",
        "o\tX: Rs. 15\n",
        "o\tZ: Rs. 8\n",
        "•\tUnits Sold in 2003:\n",
        "o\tX: 10,000\n",
        "o\tZ: 5,000\n",
        "Profit Calculation\n",
        "1.\tCompany X: Profit=10,000×15=150,000\\text{Profit} = 10,000 \\times 15 = 150,000Profit=10,000×15=150,000\n",
        "2.\tCompany Z: Profit=5,000×8=40,000\\text{Profit} = 5,000 \\times 8 = 40,000Profit=5,000×8=40,000\n",
        "Ratio\n",
        "Ratio=150,000:40,000=15:4\\text{Ratio} = 150,000 : 40,000 = 15 : 4Ratio=150,000:40,000=15:4\n",
        "Answer: (d) 15:20:24"
      ],
      "metadata": {
        "id": "YuJqouiGMzL5"
      },
      "execution_count": null,
      "outputs": []
    },
    {
      "cell_type": "code",
      "source": [
        "5) Which company had the highest percentage growth in profits during the period from 2003 to 2006?\n",
        "a) X  b) Y  c) Z  d) Cannot be determined\n",
        "To find the company with the highest percentage growth in profits from 2003 to 2006, we need to calculate the profit for each company for 2003 and 2006 and then determine the percentage growth. However, since this is a lengthy process and the exact calculations are not shown, the best approach here would be to analyze the trend in the graph and identify which company shows the highest growth.\n",
        "•\tCompany X shows a significant increase in sales from 2003 to 2006.\n",
        "•\tCompany Y shows a steady increase.\n",
        "•\tCompany Z shows a decrease.\n",
        "From observation, Company X appears to have the highest percentage growth.\n",
        "Answer: (a) X"
      ],
      "metadata": {
        "id": "YQzUBFG6MzPg"
      },
      "execution_count": null,
      "outputs": []
    }
  ]
}