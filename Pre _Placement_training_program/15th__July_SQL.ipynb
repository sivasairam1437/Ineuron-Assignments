{
  "nbformat": 4,
  "nbformat_minor": 0,
  "metadata": {
    "colab": {
      "provenance": []
    },
    "kernelspec": {
      "name": "python3",
      "display_name": "Python 3"
    },
    "language_info": {
      "name": "python"
    }
  },
  "cells": [
    {
      "cell_type": "code",
      "execution_count": null,
      "metadata": {
        "id": "hA9Dlk-SdMaV"
      },
      "outputs": [],
      "source": [
        "1. Write an SQL query to retrieve the names and email addresses of all employees from a table named \"Employees\".\n",
        "SELECT Name, Email\n",
        "FROM Employees;"
      ]
    },
    {
      "cell_type": "code",
      "source": [
        "2. Write an SQL query to filter records from a table named \"Customers\" where the \"City\" column is 'New York'.\n",
        "SELECT *\n",
        "FROM Customers\n",
        "WHERE City = 'New York';"
      ],
      "metadata": {
        "id": "MAM4-ANud_EM"
      },
      "execution_count": null,
      "outputs": []
    },
    {
      "cell_type": "code",
      "source": [
        "3. Write an SQL query to sort records in descending order based on the \"DateOfBirth\" column in a table named \"Users\".\n",
        "SELECT *\n",
        "FROM Users\n",
        "ORDER BY DateOfBirth DESC;"
      ],
      "metadata": {
        "id": "WicN-3iPd_Hj"
      },
      "execution_count": null,
      "outputs": []
    },
    {
      "cell_type": "code",
      "source": [
        "4. Write an SQL query to sort records in ascending order based on the \"RegistrationDate\" column in a table named \"Users\".\n",
        "SELECT *\n",
        "FROM Users\n",
        "ORDER BY RegistrationDate ASC;"
      ],
      "metadata": {
        "id": "q3tPC45Wd_K6"
      },
      "execution_count": null,
      "outputs": []
    },
    {
      "cell_type": "code",
      "source": [
        "5. Write an SQL query to find the employee with the highest salary from a table named \"Employees\" and display their name, position, and salary.\n",
        "SELECT Name, Position, Salary\n",
        "FROM Employees\n",
        "ORDER BY Salary DESC\n",
        "LIMIT 1;"
      ],
      "metadata": {
        "id": "5heNc5r3d_Ob"
      },
      "execution_count": null,
      "outputs": []
    },
    {
      "cell_type": "code",
      "source": [
        "6. Write an SQL query to retrieve records from a table named \"Customers\" where the \"Phone\" column matches the pattern '+1-XXX-XXX-XXXX'.\n",
        "SELECT *\n",
        "FROM Customers\n",
        "WHERE Phone LIKE '+1-___-___-____';"
      ],
      "metadata": {
        "id": "DazJpbQhd_Rx"
      },
      "execution_count": null,
      "outputs": []
    },
    {
      "cell_type": "code",
      "source": [
        "7. Write an SQL query to retrieve the top 5 customers with the highest total purchase amount from a table named \"Orders\" and display their names and total purchase amounts.\n",
        "SELECT CustomerName, SUM(TotalPurchaseAmount) AS TotalPurchase\n",
        "FROM Orders\n",
        "GROUP BY CustomerName\n",
        "ORDER BY TotalPurchase DESC\n",
        "LIMIT 5;"
      ],
      "metadata": {
        "id": "5Sf1VwDLd_VS"
      },
      "execution_count": null,
      "outputs": []
    },
    {
      "cell_type": "code",
      "source": [
        "8. Write an SQL query to calculate the percentage of sales for each product category in a table named \"Sales\" and display the category name, total sales amount, and the percentage of total sales.\n",
        "SELECT CategoryName,\n",
        "       SUM(SalesAmount) AS TotalSales,\n",
        "       (SUM(SalesAmount) / (SELECT SUM(SalesAmount) FROM Sales) * 100) AS PercentageOfTotalSales\n",
        "FROM Sales\n",
        "GROUP BY CategoryName;"
      ],
      "metadata": {
        "id": "4VsASc74d_Yd"
      },
      "execution_count": null,
      "outputs": []
    },
    {
      "cell_type": "code",
      "source": [
        "9. Write an SQL query to find the customers who have made the highest total purchases across all years from a table named \"Orders\" and display their names, email addresses, and the total purchase amount.\n",
        "SELECT CustomerName, Email, SUM(TotalPurchaseAmount) AS TotalPurchases\n",
        "FROM Orders\n",
        "GROUP BY CustomerName, Email\n",
        "ORDER BY TotalPurchases DESC\n",
        "LIMIT 1;"
      ],
      "metadata": {
        "id": "337KiWrmd_bi"
      },
      "execution_count": null,
      "outputs": []
    }
  ]
}