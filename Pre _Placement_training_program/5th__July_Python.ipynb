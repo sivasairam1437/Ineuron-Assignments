{
  "nbformat": 4,
  "nbformat_minor": 0,
  "metadata": {
    "colab": {
      "provenance": []
    },
    "kernelspec": {
      "name": "python3",
      "display_name": "Python 3"
    },
    "language_info": {
      "name": "python"
    }
  },
  "cells": [
    {
      "cell_type": "code",
      "execution_count": null,
      "metadata": {
        "id": "_WFQwMDxXCwf"
      },
      "outputs": [],
      "source": [
        "1. Write a Python program to check if a given string is an anagram.\n",
        "def are_anagrams(str1, str2):\n",
        "    return sorted(str1) == sorted(str2)\n",
        "\n",
        "# Example usage:\n",
        "str1 = \"listen\"\n",
        "str2 = \"silent\"\n",
        "print(are_anagrams(str1, str2))  # Output: True"
      ]
    },
    {
      "cell_type": "code",
      "source": [
        "2. Write a Python program to find the maximum and minimum values in a\n",
        "dictionary.\n",
        "def max_min_values(d):\n",
        "    values = list(d.values())\n",
        "    return max(values), min(values)\n",
        "\n",
        "# Example usage:\n",
        "sample_dict = {'a': 10, 'b': 20, 'c': 5}\n",
        "max_value, min_value = max_min_values(sample_dict)\n",
        "print(f\"Max: {max_value}, Min: {min_value}\")  # Output: Max: 20, Min: 5"
      ],
      "metadata": {
        "id": "pkAJtB3eYGKt"
      },
      "execution_count": null,
      "outputs": []
    },
    {
      "cell_type": "code",
      "source": [
        "3. Write a Python program to find the average of a list of numbers.\n",
        "def average(numbers):\n",
        "    return sum(numbers) / len(numbers) if numbers else 0\n",
        "\n",
        "# Example usage:\n",
        "numbers = [10, 20, 30, 40, 50]\n",
        "print(average(numbers))  # Output: 30.0"
      ],
      "metadata": {
        "id": "Levrg71yYGOT"
      },
      "execution_count": null,
      "outputs": []
    },
    {
      "cell_type": "code",
      "source": [
        "4. Write a Python program to remove all vowels from a string.\n",
        "def remove_vowels(s):\n",
        "    vowels = 'aeiouAEIOU'\n",
        "    return ''.join([char for char in s if char not in vowels])\n",
        "\n",
        "# Example usage:\n",
        "string = \"Hello World\"\n",
        "print(remove_vowels(string))  # Output: Hll Wrld"
      ],
      "metadata": {
        "id": "8lcdO6MWYGR9"
      },
      "execution_count": null,
      "outputs": []
    },
    {
      "cell_type": "code",
      "source": [
        "5. Write a Python function to calculate the factorial of a number using recursion.\n",
        "def factorial(n):\n",
        "    if n == 0 or n == 1:\n",
        "        return 1\n",
        "    else:\n",
        "        return n * factorial(n - 1)\n",
        "\n",
        "# Example usage:\n",
        "print(factorial(5))  # Output: 120"
      ],
      "metadata": {
        "id": "vJr6MFHGYGVq"
      },
      "execution_count": null,
      "outputs": []
    },
    {
      "cell_type": "code",
      "source": [
        "6. Write a Python program to merge two unsorted lists into a single sorted list\n",
        "using the merge sort algorithm.\n",
        "def merge_sort(lst):\n",
        "    if len(lst) <= 1:\n",
        "        return lst\n",
        "    mid = len(lst) // 2\n",
        "    left = merge_sort(lst[:mid])\n",
        "    right = merge_sort(lst[mid:])\n",
        "    return merge(left, right)\n",
        "\n",
        "def merge(left, right):\n",
        "    sorted_list = []\n",
        "    while left and right:\n",
        "        if left[0] < right[0]:\n",
        "            sorted_list.append(left.pop(0))\n",
        "        else:\n",
        "            sorted_list.append(right.pop(0))\n",
        "    sorted_list.extend(left if left else right)\n",
        "    return sorted_list\n",
        "\n",
        "# Example usage:\n",
        "list1 = [3, 1, 4]\n",
        "list2 = [6, 5, 2]\n",
        "merged_sorted_list = merge_sort(list1 + list2)\n",
        "print(merged_sorted_list)  # Output: [1, 2, 3, 4, 5, 6]"
      ],
      "metadata": {
        "id": "I8_bpbRdYGZQ"
      },
      "execution_count": null,
      "outputs": []
    },
    {
      "cell_type": "code",
      "source": [
        "7. Write a Python program to find the GCD (Greatest Common Divisor) of two\n",
        "numbers.\n",
        "def gcd(a, b):\n",
        "    while b:\n",
        "        a, b = b, a % b\n",
        "    return a\n",
        "\n",
        "# Example usage:\n",
        "print(gcd(48, 18))  # Output: 6"
      ],
      "metadata": {
        "id": "ACn7vmA_YGcp"
      },
      "execution_count": null,
      "outputs": []
    },
    {
      "cell_type": "code",
      "source": [
        "8. Write a Python program to find the second-largest element in a list.\n",
        "def second_largest(numbers):\n",
        "    first, second = float('-inf'), float('-inf')\n",
        "    for number in numbers:\n",
        "        if number > first:\n",
        "            first, second = number, first\n",
        "        elif number > second and number != first:\n",
        "            second = number\n",
        "    return second if second != float('-inf') else None\n",
        "\n",
        "# Example usage:\n",
        "numbers = [10, 20, 4, 45, 99]\n",
        "print(second_largest(numbers))  # Output: 45"
      ],
      "metadata": {
        "id": "IAG0JQmbYXso"
      },
      "execution_count": null,
      "outputs": []
    },
    {
      "cell_type": "code",
      "source": [
        "9. Write a Python program to find the longest common subsequence between two\n",
        "strings using dynamic programming.\n",
        "def longest_common_subsequence(s1, s2):\n",
        "    m, n = len(s1), len(s2)\n",
        "    dp = [[0] * (n + 1) for _ in range(m + 1)]\n",
        "\n",
        "    for i in range(1, m + 1):\n",
        "        for j in range(1, n + 1):\n",
        "            if s1[i - 1] == s2[j - 1]:\n",
        "                dp[i][j] = dp[i - 1][j - 1] + 1\n",
        "            else:\n",
        "                dp[i][j] = max(dp[i - 1][j], dp[i][j - 1])\n",
        "\n",
        "    return dp[m][n]\n",
        "\n",
        "# Example usage:\n",
        "s1 = \"ABCBDAB\"\n",
        "s2 = \"BDCAB\"\n",
        "print(longest_common_subsequence(s1, s2))  # Output: 4 (BDAB or BCAB)"
      ],
      "metadata": {
        "id": "qUpg0_l6YXv1"
      },
      "execution_count": null,
      "outputs": []
    }
  ]
}