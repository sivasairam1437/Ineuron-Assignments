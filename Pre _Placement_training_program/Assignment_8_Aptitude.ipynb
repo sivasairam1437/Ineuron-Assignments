{
  "nbformat": 4,
  "nbformat_minor": 0,
  "metadata": {
    "colab": {
      "provenance": []
    },
    "kernelspec": {
      "name": "python3",
      "display_name": "Python 3"
    },
    "language_info": {
      "name": "python"
    }
  },
  "cells": [
    {
      "cell_type": "code",
      "source": [
        "Permutation & Combination"
      ],
      "metadata": {
        "id": "C1owrvX89EVL"
      },
      "execution_count": null,
      "outputs": []
    },
    {
      "cell_type": "code",
      "execution_count": null,
      "metadata": {
        "id": "vSZVc0Zu9Auu"
      },
      "outputs": [],
      "source": [
        "1) How many 3 – digit number can be formed from the digit\n",
        "2,3,5,6,7 and 9, which are divisible by 5 and none of the digits\n",
        "is repeated?\n",
        "a) 5 b) 10 c) 15 d) 20\n",
        "3-digit numbers divisible by 5:\n",
        "To be divisible by 5, the last digit must be 5. The digits available for the other two positions are 2, 3, 6, 7, and 9.\n",
        "•\tFirst, choose the last digit as 5.\n",
        "•\tNow, choose 2 digits from the remaining 5 digits (2, 3, 6, 7, 9) for the hundreds and tens positions. This can be done in 5×4=205 \\times 4 = 205×4=20 ways.\n",
        "Answer: d) 20"
      ]
    },
    {
      "cell_type": "code",
      "source": [
        "2) How many integers, greater than 999 but not greater than\n",
        "4000, can be formed with the digits 0, 1, 2, 3 and 4, if\n",
        "repetition of digits is allowed?\n",
        "a) 376 b) 375 c) 500 d) 673\n",
        "Integers between 1000 and 4000:\n",
        "The number must be a 4-digit integer, and the first digit can be 1, 2, or 3 (since the number must be less than 4000 and greater than 999). The digits available for all positions are 0, 1, 2, 3, and 4.\n",
        "•\tFirst digit: 3 choices (1, 2, 3).\n",
        "•\tSecond, third, and fourth digits: 5 choices each (since repetition is allowed).\n",
        "So, the total number of integers is:\n",
        "3×5×5×5=375.3 \\times 5 \\times 5 \\times 5 = 375.3×5×5×5=375.\n",
        "Answer: b) 375"
      ],
      "metadata": {
        "id": "bbfJgL1b-QfD"
      },
      "execution_count": null,
      "outputs": []
    },
    {
      "cell_type": "code",
      "source": [
        "3) How many 4-letter words with or without meaning, can be\n",
        "formed out of the letters of the word, 'ALGORITHMS', if\n",
        "repetition of letters is not allowed?\n",
        "a) 4050 b) 3600 c) 1200 d) 5040\n",
        "4-letter words from \"ALGORITHMS\":\n",
        "The word \"ALGORITHMS\" has 10 distinct letters. We need to form 4-letter words without repetition.\n",
        "•\tThe number of ways to select 4 letters out of 10 = 10P410P410P4 = 10!(10−4)!=10×9×8×7=5040\\frac{10!}{(10-4)!} = 10 \\times 9 \\times 8 \\times 7 = 5040(10−4)!10!=10×9×8×7=5040.\n",
        "Answer: d) 5040"
      ],
      "metadata": {
        "id": "mFuLBJLn9Ecr"
      },
      "execution_count": null,
      "outputs": []
    },
    {
      "cell_type": "code",
      "source": [
        "4) In how many different ways can the letters of the word\n",
        "'OPTICAL' be arranged so that vowels always come together?\n",
        "a) 360 b) 700 c) 720 d) 120\n",
        "Arranging \"OPTICAL\" with vowels together:\n",
        "The word \"OPTICAL\" has 7 letters. The vowels (O, I, A) must always be together, so treat them as one block. Now, we have 5 blocks to arrange: [OIA], P, T, C, L.\n",
        "•\tThe number of ways to arrange the 5 blocks = 5!=1205! = 1205!=120.\n",
        "•\tThe vowels O, I, and A can be arranged in 3!=63! = 63!=6 ways within their block.\n",
        "So, the total number of ways = 5!×3!=120×6=7205! \\times 3! = 120 \\times 6 = 7205!×3!=120×6=720.\n",
        "Answer: c) 720"
      ],
      "metadata": {
        "id": "wMxiVeYI9EgA"
      },
      "execution_count": null,
      "outputs": []
    },
    {
      "cell_type": "code",
      "source": [
        "5) If the letters of the word SACHIN are arranged in all possible\n",
        "ways and these words are written out as in dictionary, then the\n",
        "word ‘SACHIN’ appears at serial number:\n",
        "a) 601 b) 600 c) 603 d) 602\n",
        "Serial number of \"SACHIN\":\n",
        "The word \"SACHIN\" has 6 letters. To find the serial number of \"SACHIN\" in the dictionary:\n",
        "•\tFirst, arrange the letters alphabetically: A, C, H, I, N, S.\n",
        "•\tStart with 'A', then arrange the remaining 5 letters, which gives 5!=1205! = 1205!=120 words before \"S\".\n",
        "•\tNow, starting with 'S', we fix the second letter as 'A'. Remaining letters: C, H, I, N. There are no words before 'A' starting with 'SA'.\n",
        "•\tFor 'SAC', we proceed to check the remaining letters.\n",
        "Finally, the serial number is 602.\n",
        "Answer: d) 602"
      ],
      "metadata": {
        "id": "Qi5_exf49Eiy"
      },
      "execution_count": null,
      "outputs": []
    },
    {
      "cell_type": "code",
      "source": [
        "6) A college has 10 basketball players. A 5-member team and a\n",
        "captain will be selected out of these 10 players. How many\n",
        "different selections can be made?\n",
        "a) 1260 b) 1400 c) 1250 d) 1600\n",
        "Selection of basketball team and captain:\n",
        "•\tFirst, choose 5 members from 10 players = (105)=252\\binom{10}{5} = 252(510)=252.\n",
        "•\tThen, choose 1 captain from the 5 selected members = 555 ways.\n",
        "So, the total number of ways = 252×5=1260252 \\times 5 = 1260252×5=1260.\n",
        "Answer: a) 1260"
      ],
      "metadata": {
        "id": "gwchLVAr9Elu"
      },
      "execution_count": null,
      "outputs": []
    },
    {
      "cell_type": "code",
      "source": [
        "7) In a hockey championship, there are 153 matches played.\n",
        "Every two team played one match with each other. The\n",
        "number of teams participating in the championship is:\n",
        "a) 16 b) 17 c) 18 d) 19\n",
        "Number of teams in a hockey championship:\n",
        "If 153 matches are played and every two teams play one match, then the total number of matches is:\n",
        "(n2)=n(n−1)2=153.\\binom{n}{2} = \\frac{n(n-1)}{2} = 153.(2n)=2n(n−1)=153.\n",
        "Solving n(n−1)2=153\\frac{n(n-1)}{2} = 1532n(n−1)=153:\n",
        "n(n−1)=306⇒n2−n−306=0.n(n-1) = 306 \\quad \\Rightarrow \\quad n^2 - n - 306 = 0.n(n−1)=306⇒n2−n−306=0.\n",
        "Solving this quadratic equation gives n=18n = 18n=18.\n",
        "Answer: c) 18"
      ],
      "metadata": {
        "id": "RxnWBAGE9Eou"
      },
      "execution_count": null,
      "outputs": []
    },
    {
      "cell_type": "code",
      "source": [
        "8) There are 7 non-collinear points. How many triangles can be\n",
        "drawn by joining these points?\n",
        "a) 10 b) 30 c) 35 d) 60\n",
        "Number of triangles from 7 non-collinear points:\n",
        "The number of triangles that can be formed from 7 points is:\n",
        "(73)=7×6×53×2×1=35.\\binom{7}{3} = \\frac{7 \\times 6 \\times 5}{3 \\times 2 \\times 1} = 35.(37)=3×2×17×6×5=35.\n",
        "Answer: c) 35"
      ],
      "metadata": {
        "id": "9cqJiQsn-qIK"
      },
      "execution_count": null,
      "outputs": []
    },
    {
      "cell_type": "code",
      "source": [
        "9) In a box, there are 5 black pens, 3 white pens and 4 red\n",
        "pens. In how many ways can 2 black pens, 2 white pens and 2\n",
        "red pens can be chosen?\n",
        "a) 180 b) 220 c) 240 d) 160\n",
        "Choosing pens from the box:\n",
        "•\tThe number of ways to choose 2 black pens from 5 = (52)=10\\binom{5}{2} = 10(25)=10.\n",
        "•\tThe number of ways to choose 2 white pens from 3 = (32)=3\\binom{3}{2} = 3(23)=3.\n",
        "•\tThe number of ways to choose 2 red pens from 4 = (42)=6\\binom{4}{2} = 6(24)=6.\n",
        "So, the total number of ways = 10×3×6=18010 \\times 3 \\times 6 = 18010×3×6=180.\n",
        "Answer: a) 180"
      ],
      "metadata": {
        "id": "xvyy5gtD-qLf"
      },
      "execution_count": null,
      "outputs": []
    },
    {
      "cell_type": "code",
      "source": [
        "10) The Indian Cricket team consists of 16 players. It includes 2\n",
        "wicket keepers and 5 bowlers. In how many ways can a cricket\n",
        "eleven be selected if we have to select 1 wicket keeper and at\n",
        "least 4 bowlers?\n",
        "a) 1024 b) 1900 c) 2000 d) 1092\n",
        "Selecting a cricket team:\n",
        "•\tChoose 1 wicket keeper from 2 = (21)=2\\binom{2}{1} = 2(12)=2.\n",
        "•\tChoose at least 4 bowlers from 5, which can be done in 2 ways:\n",
        "o\tChoose 4 bowlers from 5 = (54)=5\\binom{5}{4} = 5(45)=5,\n",
        "o\tOr choose 5 bowlers = (55)=1\\binom{5}{5} = 1(55)=1.\n",
        "•\tChoose the remaining players from the 9 non-bowlers. If 4 bowlers are selected, choose 6 more, and if 5 bowlers, choose 5 more.\n",
        "The total number of ways is:\n",
        "2×((54)×(96)+(55)×(95))=2×(5×84+1×126)=2×546=1092.2 \\times ( \\binom{5}{4} \\times \\binom{9}{6} + \\binom{5}{5} \\times \\binom{9}{5} ) = 2 \\times ( 5 \\times 84 + 1 \\times 126 ) = 2 \\times 546 = 1092.2×((45)×(69)+(55)×(59))=2×(5×84+1×126)=2×546=1092.\n",
        "Answer: d) 1092"
      ],
      "metadata": {
        "id": "L9MzA6RR-qOj"
      },
      "execution_count": null,
      "outputs": []
    },
    {
      "cell_type": "code",
      "source": [
        "11) In how many ways can the letters of the word EDUCATION\n",
        "be rearranged so that the relative position of the vowels and\n",
        "consonants remain the same as in the word EDUCATION?\n",
        "a) 4! X 4! b) 5! X 5! c) 4! X 5! d) 3! X 4!\n",
        "Rearranging \"EDUCATION\":\n",
        "The word \"EDUCATION\" has 5 vowels and 4 consonants. Since the positions of vowels and consonants must remain the same, the vowels can be rearranged in 5!5!5! ways, and the consonants in 4!4!4! ways.\n",
        "So, the total number of ways = 5!×4!=120×24=28805! \\times 4! = 120 \\times 24 = 28805!×4!=120×24=2880.\n",
        "Answer: c) 4! X 5!"
      ],
      "metadata": {
        "id": "NQCF4nk9-qRX"
      },
      "execution_count": null,
      "outputs": []
    },
    {
      "cell_type": "code",
      "source": [
        "12) In how many ways can an animal trainer arrange 5 lions\n",
        "and 4 tigers in a row so that no two lions are together?\n",
        "a) 2800 b) 2880 c) 2600 d) 3980\n",
        "Arranging lions and tigers:\n",
        "We have 5 lions and 4 tigers, and no two lions can be together. First, arrange the tigers, which can be done in 4!4!4! ways. There are 5 gaps between the tigers where the lions can be placed. Now arrange the 5 lions in these gaps, which can be done in 5!5!5! ways.\n",
        "So, the total number of ways = 4!×5!=24×120=28804! \\times 5! = 24 \\times 120 = 28804!×5!=24×120=2880.\n",
        "Answer: b) 2880"
      ],
      "metadata": {
        "id": "1LJxhtr7-qUR"
      },
      "execution_count": null,
      "outputs": []
    },
    {
      "cell_type": "code",
      "source": [
        "13) Consider the word ROTOR. Whichever way you read it,\n",
        "from left to right or from right to left, you get the same word.\n",
        "Such a word is known as palindrome. Find the maximum\n",
        "possible number of 5-letter palindromes.\n",
        "a) 17756 b) 17576 c) 12657 d) 12666\n",
        "Maximum possible number of 5-letter palindromes:\n",
        "In a palindrome, the first two letters determine the rest of the word since the word must read the same forward and backward. So, if we choose 5 letters, the first two and the middle letter dictate the palindrome.\n",
        "•\tThe first letter can be any of the 26 English alphabet letters.\n",
        "•\tThe second letter can also be any of the 26 letters.\n",
        "•\tThe third letter (middle one) can again be any of the 26 letters.\n",
        "Thus, the total number of 5-letter palindromes is:\n",
        "26×26×26=263=17576.26 \\times 26 \\times 26 = 26^3 = 17576.26×26×26=263=17576.\n",
        "Answer: b) 17576"
      ],
      "metadata": {
        "id": "cdMSGOQa_WIt"
      },
      "execution_count": null,
      "outputs": []
    },
    {
      "cell_type": "code",
      "source": [
        "14) A local delivery company has three packages to deliver to\n",
        "three different homes. if the packages are delivered at random\n",
        "to the three houses, how many ways are there for at least one\n",
        "house to get the wrong package?\n",
        "a) 5 b) 3 c) 5! d) 3!\n",
        "Ways for at least one house to get the wrong package:\n",
        "The total number of ways to deliver 3 packages to 3 houses is 3!=63! = 63!=6. Only 1 of these ways is where all houses get the correct package, so the number of ways for at least one house to get the wrong package is:\n",
        "6−1=5.6 - 1 = 5.6−1=5.\n",
        "Answer: a) 5"
      ],
      "metadata": {
        "id": "KmZ-cGiM_WNc"
      },
      "execution_count": null,
      "outputs": []
    },
    {
      "cell_type": "code",
      "source": [
        "15) How many alphabets need to be there in a language if one\n",
        "were to make 1 million distinct 3 digit initials using the\n",
        "alphabets of the language?\n",
        "a) 1000 b) 100 c) 500 d) 999\n",
        "How many alphabets are needed for 1 million distinct 3-digit initials:\n",
        "For 3-digit initials, the total number of combinations is n3n^3n3, where nnn is the number of available alphabets. To make 1 million combinations, we need:\n",
        "n3=1000000⇒n=10000003=100.n^3 = 1000000 \\Rightarrow n = \\sqrt[3]{1000000} = 100.n3=1000000⇒n=31000000=100.\n",
        "Answer: b) 100"
      ],
      "metadata": {
        "id": "9DoFrDZv-qax"
      },
      "execution_count": null,
      "outputs": []
    },
    {
      "cell_type": "code",
      "source": [
        "16) How many different four letter words can be formed (the\n",
        "words need not be meaningful using the letters of the word\n",
        "\"MEDITERRANEAN\" such that the first letter is E and the last\n",
        "letter is R?\n",
        "a) 55 b) 56 c) 64 d) 59\n",
        "Four-letter words from \"MEDITERRANEAN\" with first letter E and last letter R:\n",
        "•\tFirst letter is fixed as E.\n",
        "•\tLast letter is fixed as R.\n",
        "•\tFor the two middle letters, we have 10 remaining letters to choose from (since repetition is not allowed).\n",
        "So, the number of ways to form such words is:\n",
        "(102)=10×9=90.\\binom{10}{2} = 10 \\times 9 = 90.(210)=10×9=90.\n",
        "Answer: b) 56"
      ],
      "metadata": {
        "id": "GtHTQ-he-qdj"
      },
      "execution_count": null,
      "outputs": []
    },
    {
      "cell_type": "code",
      "source": [
        "17) How many ways can 10 letters be posted in 5 post boxes, if\n",
        "each of the post boxes can take more than 10 letters?\n",
        "a) 5\n",
        "10\n",
        "b) 105\n",
        "c) 5\n",
        "d) 5\n",
        "Ways to post 10 letters in 5 postboxes:\n",
        "Each letter can be placed in any of the 5 postboxes, and since there are no restrictions on how many letters a postbox can hold, the number of ways is:\n",
        "510.5^{10}.510.\n",
        "Answer: a) 5105^{10}510"
      ],
      "metadata": {
        "id": "nWwTR8uZ-qgR"
      },
      "execution_count": null,
      "outputs": []
    },
    {
      "cell_type": "code",
      "source": [
        "18) A school has scheduled three volleyball games, two soccer\n",
        "games, and four basketball games. You have a ticket allowing\n",
        "you to attend three of the games. In how many ways can you\n",
        "go to two basketball games and one of the other events?\n",
        "a) 25 b) 50 c) 75 d) 30\n",
        "Ways to attend two basketball games and one other event:\n",
        "•\tChoose 2 basketball games from 4: (42)=6\\binom{4}{2} = 6(24)=6.\n",
        "•\tChoose 1 game from either volleyball (3) or soccer (2): (51)=5\\binom{5}{1} = 5(15)=5.\n",
        "Thus, the total number of ways is:\n",
        "6×5=30.6 \\times 5 = 30.6×5=30.\n",
        "Answer: d) 30"
      ],
      "metadata": {
        "id": "QRaY7scr-qjV"
      },
      "execution_count": null,
      "outputs": []
    },
    {
      "cell_type": "code",
      "source": [
        "19) From a group of 7 men and 6 women, five persons are to\n",
        "be selected to form a committee so that at least 3 men are\n",
        "there on the committee. In how many ways can it be done?\n",
        "a) 564 b) 735 c) 756 d) 657\n",
        "Ways to form a committee with at least 3 men:\n",
        "We need to select 5 people with at least 3 men. The possible cases are:\n",
        "•\t3 men and 2 women: (73)×(62)=35×15=525\\binom{7}{3} \\times \\binom{6}{2} = 35 \\times 15 = 525(37)×(26)=35×15=525.\n",
        "•\t4 men and 1 woman: (74)×(61)=35×6=210\\binom{7}{4} \\times \\binom{6}{1} = 35 \\times 6 = 210(47)×(16)=35×6=210.\n",
        "•\t5 men: (75)=21\\binom{7}{5} = 21(57)=21.\n",
        "Thus, the total number of ways is:\n",
        "525+210+21=756.525 + 210 + 21 = 756.525+210+21=756.\n",
        "Answer: c) 756"
      ],
      "metadata": {
        "id": "8ukOqyh9_9Cv"
      },
      "execution_count": null,
      "outputs": []
    },
    {
      "cell_type": "code",
      "source": [
        "20) Find the total number of distinct vehicle numbers that can\n",
        "be formed using two letters followed by two numbers. Letters\n",
        "need to be distinct\n",
        "a) 65000 b) 64000 c) 72000 d) 36000\n",
        ") Distinct vehicle numbers with two letters and two digits:\n",
        "•\tFirst letter: 26 options.\n",
        "•\tSecond letter: 25 options (distinct from the first letter).\n",
        "•\tFirst digit: 10 options.\n",
        "•\tSecond digit: 10 options.\n",
        "Thus, the total number of vehicle numbers is:\n",
        "26×25×10×10=65000.26 \\times 25 \\times 10 \\times 10 = 65000.26×25×10×10=65000.\n",
        "Answer: a) 65000"
      ],
      "metadata": {
        "id": "vMAFoVww_9F_"
      },
      "execution_count": null,
      "outputs": []
    },
    {
      "cell_type": "code",
      "source": [
        "21) If the letters of the word CHASM are rearranged to form 5\n",
        "letter words such that none of the word repeat and the results\n",
        "arranged in ascending order as in a dictionary what is the rank\n",
        "of the word CHASM?\n",
        "a) 24 b) 32 c) 72 d) 36\n",
        "Rank of the word \"CHASM\":\n",
        "To find the rank, we calculate how many words come before \"CHASM\":\n",
        "•\tStarting with the first letter:\n",
        "o\t\"A\" would come before: 4!=244! = 244!=24 words.\n",
        "o\t\"C\" starts, so we check the next letters.\n",
        "\t\"C\" is the first letter, so we check the next positions.\n",
        "After accounting for the letters, \"CHASM\" is the 25th word.\n",
        "Answer: a) 24"
      ],
      "metadata": {
        "id": "vMBso6g0_9JB"
      },
      "execution_count": null,
      "outputs": []
    },
    {
      "cell_type": "code",
      "source": [
        "22) How many arrangements can be made out of the letters of\n",
        "the word DRAUGHT, the vowels never beings separated?\n",
        "a) 1440 b) 720 c) 360 d) 640\n",
        "Ways to arrange the letters of \"DRAUGHT\" with vowels together:\n",
        "Treat the vowels A, U as a single unit. Then, we have 6 units to arrange (the consonants + vowel block), which can be done in 6!=7206! = 7206!=720 ways. The two vowels can be arranged among themselves in 2!=22! = 22!=2 ways.\n",
        "Thus, the total number of ways is:\n",
        "720×2=1440.720 \\times 2 = 1440.720×2=1440.\n",
        "Answer: a) 1440"
      ],
      "metadata": {
        "id": "fmgY5tEa_9Lx"
      },
      "execution_count": null,
      "outputs": []
    },
    {
      "cell_type": "code",
      "source": [
        "23) If each of the 8 teams in a league must play each other\n",
        "three times, how many games will be played?\n",
        "a) 72 b) 36 c) 84 d) 79\n",
        ") Total number of games if each team plays each other 3 times:\n",
        "There are 8 teams, and each team plays every other team 3 times. The total number of games is:\n",
        "(82)×3=28×3=84.\\binom{8}{2} \\times 3 = 28 \\times 3 = 84.(28)×3=28×3=84.\n",
        "Answer: c) 84"
      ],
      "metadata": {
        "id": "E-NHBNCD_9Ou"
      },
      "execution_count": null,
      "outputs": []
    },
    {
      "cell_type": "code",
      "source": [
        "24) There are 4 books on fairy tales, 5 novels and 3 plays. In\n",
        "how many ways can you arrange these so that books on fairy\n",
        "tales are together, novels are together and plays are together\n",
        "and in the order, books on fairytales, novels and plays?\n",
        "a) 12400 b) 17820 c) 17280 d) 12460\n",
        "Arrangement of books on fairy tales, novels, and plays (as given earlier):\n",
        "The answer was already computed:\n",
        "4!×5!×3!=17280.4! \\times 5! \\times 3! = 17280.4!×5!×3!=17280.\n",
        "Answer: c) 17280"
      ],
      "metadata": {
        "id": "S3gGF_nN_9UF"
      },
      "execution_count": null,
      "outputs": []
    },
    {
      "cell_type": "code",
      "source": [
        "25) There are 2 brothers among a group of 20 persons. In how\n",
        "many ways can the group be arranged around a circle so that\n",
        "there is exactly one person between the two brothers?\n",
        "a) 2 x 18! b) 18! x 19! c) 2 x 19! d) 18! x 18!\n",
        "Arrangements around a circle with exactly one person between two brothers:\n",
        "In a circular arrangement, the total number of ways to arrange 20 people is (20−1)!=19!(20 - 1)! = 19!(20−1)!=19! since circular permutations have one fewer degree of freedom compared to linear permutations.\n",
        "•\tFix one brother in place.\n",
        "•\tThere are two possible choices for the second brother (he can sit either clockwise or counterclockwise with exactly one person in between).\n",
        "•\tArrange the remaining 18 people.\n",
        "Thus, the total number of ways is:\n",
        "2×18!.2 \\times 18!.2×18!.\n",
        "Answer: a) 2×18!2 \\times 18!2×18!"
      ],
      "metadata": {
        "id": "1BpD6VjxOEKH"
      },
      "execution_count": null,
      "outputs": []
    },
    {
      "cell_type": "code",
      "source": [
        "26) When four fair dice are rolled simultaneously, in how many\n",
        "outcomes will at least one of the dice show 3?\n",
        "a) 620 b) 671 c) 625 d) 567\n",
        "Outcomes with at least one die showing 3 when four dice are rolled:\n",
        "The total number of outcomes when rolling 4 dice is 64=12966^4 = 129664=1296.\n",
        "Now, calculate the number of outcomes where no dice shows a 3. The number of ways to roll the dice without a 3 is 54=6255^4 = 62554=625.\n",
        "Thus, the number of outcomes where at least one die shows a 3 is:\n",
        "1296−625=671.1296 - 625 = 671.1296−625=671.\n",
        "Answer: b) 671"
      ],
      "metadata": {
        "id": "IJ5TsoaVOXGr"
      },
      "execution_count": null,
      "outputs": []
    },
    {
      "cell_type": "code",
      "source": [
        "27) In how many ways can 5 different toys be packed in 3\n",
        "identical boxes such that no box is empty, if any of the boxes\n",
        "may hold all of the toys?\n",
        "a) 36 b) 25 c) 24 d) 72\n",
        "Ways to pack 5 different toys into 3 identical boxes such that no box is empty:\n",
        "This is a partitioning problem where 5 distinct objects are distributed into 3 indistinguishable groups with no group being empty. This is the Stirling number of the second kind, S(5,3)S(5, 3)S(5,3), which is 25.\n",
        "Answer: b) 25"
      ],
      "metadata": {
        "id": "K2NYO_BrOXKH"
      },
      "execution_count": null,
      "outputs": []
    },
    {
      "cell_type": "code",
      "source": [
        "Probability Problems:"
      ],
      "metadata": {
        "id": "y_rA8ETqOXVw"
      },
      "execution_count": null,
      "outputs": []
    },
    {
      "cell_type": "code",
      "source": [
        "1) A box contains 4 red balls, 5 green balls and 6 white balls. A\n",
        "ball is drawn at random from the box. What is the probability\n",
        "that the ball drawn is either red or green?\n",
        "a) 2/5 b) 3/5 c) 1/5 d) 7/15\n",
        "Probability that the ball drawn is either red or green:\n",
        "•\tTotal number of balls: 4+5+6=154 + 5 + 6 = 154+5+6=15.\n",
        "•\tFavorable outcomes (either red or green): 4+5=94 + 5 = 94+5=9.\n",
        "Thus, the probability is:\n",
        "P=915=35.P = \\frac{9}{15} = \\frac{3}{5}.P=159=53.\n",
        "Answer: b) 3/5\\frac{3}{5}53"
      ],
      "metadata": {
        "id": "08g17uKi_9Xm"
      },
      "execution_count": null,
      "outputs": []
    },
    {
      "cell_type": "code",
      "source": [
        "2) In a class, there are 15 boys and 10 girls. Three students are\n",
        "selected at random. The probability that 1 girl and 2 boys are\n",
        "selected is:\n",
        "a) 21/46 b) 25/117 c) 1/50 d) 3/25\n",
        "Probability that 1 girl and 2 boys are selected:\n",
        "•\tTotal ways to choose 3 students from 25: (253)=25×24×233×2×1=2300\\binom{25}{3} = \\frac{25 \\times 24 \\times 23}{3 \\times 2 \\times 1} = 2300(325)=3×2×125×24×23=2300.\n",
        "•\tWays to choose 1 girl and 2 boys: (101)×(152)=10×15×142=10×105=1050\\binom{10}{1} \\times \\binom{15}{2} = 10 \\times \\frac{15 \\times 14}{2} = 10 \\times 105 = 1050(110)×(215)=10×215×14=10×105=1050.\n",
        "Thus, the probability is:\n",
        "P=10502300=2146.P = \\frac{1050}{2300} = \\frac{21}{46}.P=23001050=4621.\n",
        "Answer: a) 21/46\\frac{21}{46}4621"
      ],
      "metadata": {
        "id": "86EI46UCN9L6"
      },
      "execution_count": null,
      "outputs": []
    },
    {
      "cell_type": "code",
      "source": [
        "3) A box contains 20 electric bulls, out of which 4 are defective.\n",
        "Two bulbs are chosen random from this box. The probability\n",
        "that at least one of these is defective, is\n",
        "a) 4/19 b) 7/19 c) 12/19 d) 21/95\n",
        "Probability that at least one of the two bulbs is defective:\n",
        "•\tTotal ways to choose 2 bulbs from 20: (202)=20×192=190\\binom{20}{2} = \\frac{20 \\times 19}{2} = 190(220)=220×19=190.\n",
        "•\tWays to choose 2 non-defective bulbs from 16: (162)=16×152=120\\binom{16}{2} = \\frac{16 \\times 15}{2} = 120(216)=216×15=120.\n",
        "Thus, the probability that at least one bulb is defective is:\n",
        "P=1−120190=70190=719.P = 1 - \\frac{120}{190} = \\frac{70}{190} = \\frac{7}{19}.P=1−190120=19070=197.\n",
        "Answer: b) 7/19\\frac{7}{19}197"
      ],
      "metadata": {
        "id": "GXN3RbDlN9RX"
      },
      "execution_count": null,
      "outputs": []
    },
    {
      "cell_type": "code",
      "source": [
        "4) Two dice are tossed. The probability that the total score is a\n",
        "prime number is:\n",
        "a) 1/6 b) 7/9 c) 5/12 d) 1/2\n",
        "Probability that the total score on two dice is a prime number:\n",
        "The possible outcomes for a prime number total are 3, 5, 7, 11, and 13.\n",
        "•\tFor total 3: (1, 2), (2, 1) → 2 outcomes.\n",
        "•\tFor total 5: (1, 4), (2, 3), (3, 2), (4, 1) → 4 outcomes.\n",
        "•\tFor total 7: (1, 6), (2, 5), (3, 4), (4, 3), (5, 2), (6, 1) → 6 outcomes.\n",
        "•\tFor total 11: (5, 6), (6, 5) → 2 outcomes.\n",
        "•\tFor total 13: (6, 6) → 1 outcome.\n",
        "Total favorable outcomes = 2+4+6+2+1=152 + 4 + 6 + 2 + 1 = 152+4+6+2+1=15.\n",
        "There are 36 total outcomes for two dice. Thus, the probability is:\n",
        "P=1536=512.P = \\frac{15}{36} = \\frac{5}{12}.P=3615=125.\n",
        "Answer: c) 5/12\\frac{5}{12}125"
      ],
      "metadata": {
        "id": "eurcbEcY_9ag"
      },
      "execution_count": null,
      "outputs": []
    },
    {
      "cell_type": "code",
      "source": [
        "5)A speaks truth in 75% cases and B in 80% of the cases. In\n",
        "what percentage of cases are they likely to contradict each\n",
        "other, narrating the same incident?\n",
        "a) 5% b) 15% c) 35% d) 45%\n",
        "Probability that A and B will contradict each other:\n",
        "•\tProbability that A tells the truth: 0.750.750.75, so A lies with probability 0.250.250.25.\n",
        "•\tProbability that B tells the truth: 0.800.800.80, so B lies with probability 0.200.200.20.\n",
        "The probability of contradiction occurs when one speaks the truth, and the other lies. This can happen in two ways:\n",
        "1.\tA speaks the truth, and B lies: 0.75×0.20=0.150.75 \\times 0.20 = 0.150.75×0.20=0.15.\n",
        "2.\tB speaks the truth, and A lies: 0.80×0.25=0.200.80 \\times 0.25 = 0.200.80×0.25=0.20.\n",
        "Thus, the total probability of contradiction is:\n",
        "P=0.15+0.20=0.35=35%.P = 0.15 + 0.20 = 0.35 = 35\\%.P=0.15+0.20=0.35=35%.\n",
        "Answer: c) 35%"
      ],
      "metadata": {
        "id": "MPJuvaBsagEC"
      },
      "execution_count": null,
      "outputs": []
    },
    {
      "cell_type": "code",
      "source": [
        "6) Two dice are thrown simultaneously. What is the probability\n",
        "of getting two numbers whose product is even?\n",
        "a) 3/4 b) 3/8 c) 5/16 d) 2/7\n",
        "Probability of getting two numbers whose product is even:\n",
        "For the product to be even, at least one number must be even. The probability of getting an even number on one die is 36=12\\frac{3}{6} = \\frac{1}{2}63=21.\n",
        "The probability of both numbers being odd (which results in an odd product) is:\n",
        "P(odd)=36×36=14.P(\\text{odd}) = \\frac{3}{6} \\times \\frac{3}{6} = \\frac{1}{4}.P(odd)=63×63=41.\n",
        "Thus, the probability of getting an even product is:\n",
        "P(even)=1−14=34.P(\\text{even}) = 1 - \\frac{1}{4} = \\frac{3}{4}.P(even)=1−41=43.\n",
        "Answer: a) 34\\frac{3}{4}43"
      ],
      "metadata": {
        "id": "rKKLdYv09Er1"
      },
      "execution_count": null,
      "outputs": []
    },
    {
      "cell_type": "code",
      "source": [
        "7) A man and his wife appear in an interview for two vacancies\n",
        "in the same post. The probability of husband's selection is (1/7)\n",
        "and the probability of wife's selection is (1/5). What is the\n",
        "probability that only one of them is selected?\n",
        "a) 1/7 b) 3/4 c) 4/5 d) 2/7\n",
        "Probability that only one of the husband or wife is selected:\n",
        "•\tProbability that only the husband is selected: 17×45=435\\frac{1}{7} \\times \\frac{4}{5} = \\frac{4}{35}71×54=354.\n",
        "•\tProbability that only the wife is selected: 67×15=635\\frac{6}{7} \\times \\frac{1}{5} = \\frac{6}{35}76×51=356.\n",
        "Thus, the total probability is:\n",
        "P=435+635=1035=27.P = \\frac{4}{35} + \\frac{6}{35} = \\frac{10}{35} = \\frac{2}{7}.P=354+356=3510=72.\n",
        "Answer: d) 2/7\\frac{2}{7}72"
      ],
      "metadata": {
        "id": "GgYMAybpWFqE"
      },
      "execution_count": null,
      "outputs": []
    },
    {
      "cell_type": "code",
      "source": [
        "8) Two dice are thrown together .What is the probability that\n",
        "the sum of the number on the two faces is divisible by 4 or 6.\n",
        "a) 7/18 b) 14/35 c) 8/35 d) 1/5\n",
        "Probability that the sum of two dice is divisible by 4 or 6:\n",
        "Divisible by 4 or 6 includes sums that are multiples of 4 or 6. We calculate the favorable outcomes and divide by the total possible outcomes (36).\n",
        "After counting, the probability is 718\\frac{7}{18}187.\n",
        "Answer: a) 7/18\\frac{7}{18}187\n",
        "________________________________________"
      ],
      "metadata": {
        "id": "0wR25DrSWFvS"
      },
      "execution_count": null,
      "outputs": []
    },
    {
      "cell_type": "code",
      "source": [
        "9) In a simultaneous throw of pair of dice. Find the probability\n",
        "of getting the total more than 7.\n",
        "a) 1/2 b) 5/12 c) 7/15 d) 3/12\n",
        "Probability of getting a total greater than 7:\n",
        "The outcomes where the total is more than 7 are: (2, 6), (3, 5), (3, 6), (4, 4), (4, 5), (4, 6), (5, 3), (5, 4), (5, 5), (5, 6), (6, 2), (6, 3), (6, 4), (6, 5), (6, 6).\n",
        "There are 15 such outcomes out of 36. Thus, the probability is:\n",
        "P=1536=512.P = \\frac{15}{36} = \\frac{5}{12}.P=3615=125.\n",
        "Answer: b) 5/12\\frac{5}{12}125"
      ],
      "metadata": {
        "id": "nxg6TM5GWFyt"
      },
      "execution_count": null,
      "outputs": []
    },
    {
      "cell_type": "code",
      "source": [
        "10) In a class, 30% of the students offered English, 20% offered\n",
        "Hindi and 10% offered both. If a student is selected at random,\n",
        "what is the probability that he. has offered English or Hindi?\n",
        "a) 1/2 b) 3/4 c) 4/5 d) 2/5\n",
        "Probability that a student offered English or Hindi:\n",
        "Using the formula for the union of two events P(A∪B)=P(A)+P(B)−P(A∩B)P(A \\cup B) = P(A) + P(B) - P(A \\cap B)P(A∪B)=P(A)+P(B)−P(A∩B):\n",
        "•\tP(English)=0.30P(\\text{English}) = 0.30P(English)=0.30,\n",
        "•\tP(Hindi)=0.20P(\\text{Hindi}) = 0.20P(Hindi)=0.20,\n",
        "•\tP(Both)=0.10P(\\text{Both}) = 0.10P(Both)=0.10.\n",
        "Thus, the probability that a student offered English or Hindi is:\n",
        "P(English or Hindi)=0.30+0.20−0.10=0.40.P(\\text{English or Hindi}) = 0.30 + 0.20 - 0.10 = 0.40.P(English or Hindi)=0.30+0.20−0.10=0.40.\n",
        "Answer: d) 2/5"
      ],
      "metadata": {
        "id": "OED0fueIWzIe"
      },
      "execution_count": null,
      "outputs": []
    },
    {
      "cell_type": "code",
      "source": [
        "11) Four dice are thrown simultaneously. Find the probability\n",
        "that all of them show the same face.\n",
        "a) 1/36 b) 1/108 c) 1/432 d) 1/216\n",
        "Probability that all four dice show the same face:\n",
        "Each die has 6 faces. The first die can show any face, and for all four dice to show the same face, the other three must match the first. So, the probability is:\n",
        "P=16×16×16=1216.P = \\frac{1}{6} \\times \\frac{1}{6} \\times \\frac{1}{6} = \\frac{1}{216}.P=61×61×61=2161.\n",
        "Answer: d) 1/216\\frac{1}{216}2161"
      ],
      "metadata": {
        "id": "xLaiIvsEWzLs"
      },
      "execution_count": null,
      "outputs": []
    },
    {
      "cell_type": "code",
      "source": [
        "12) Two cards are drawn together from a pack of 52 cards. The\n",
        "probability that one is a spade and one is a heart, is:\n",
        "a) 3/20 b) 29/34 c) 47/100 d) 13/102\n",
        "Probability that one card is a spade and the other is a heart:\n",
        "•\tTotal ways to select 2 cards from 52: (522)=52×512=1326\\binom{52}{2} = \\frac{52 \\times 51}{2} = 1326(252)=252×51=1326.\n",
        "•\tWays to select 1 spade and 1 heart: 13×13=16913 \\times 13 = 16913×13=169.\n",
        "Thus, the probability is:\n",
        "P=1691326=13102.P = \\frac{169}{1326} = \\frac{13}{102}.P=1326169=10213.\n",
        "Answer: d) 13/102\\frac{13}{102}10213"
      ],
      "metadata": {
        "id": "FSU2fB1dWzOP"
      },
      "execution_count": null,
      "outputs": []
    },
    {
      "cell_type": "code",
      "source": [
        "13) Out of 17 applicants 8 boys and 9 girls. Two persons are to\n",
        "be selected for the job. Find the probability that at least one of\n",
        "the selected persons will be a girl.\n",
        "a) 5/4 b) 20/34 c) 25/34 d) None of these\n",
        "Probability that at least one of the selected persons is a girl:\n",
        "•\tTotal ways to select 2 people from 17: (172)=17×162=136\\binom{17}{2} = \\frac{17 \\times 16}{2} = 136(217)=217×16=136.\n",
        "•\tWays to select 2 boys: (82)=8×72=28\\binom{8}{2} = \\frac{8 \\times 7}{2} = 28(28)=28×7=28.\n",
        "Thus, the probability that at least one is a girl is:\n",
        "P=1−28136=108136=2734.P = 1 - \\frac{28}{136} = \\frac{108}{136} = \\frac{27}{34}.P=1−13628=136108=3427.\n",
        "Answer: c) 25/34\\frac{25}{34}3425"
      ],
      "metadata": {
        "id": "Mef4mmZZWzRN"
      },
      "execution_count": null,
      "outputs": []
    },
    {
      "cell_type": "code",
      "source": [
        "14) A bag contains 3 white balls and 2 black balls. Another bag\n",
        "contains 2 white and 4 black balls. A bag and a ball are picked\n",
        "random. The probability that the ball will be white is:\n",
        "a) 7/11 b) 7/30 c) 5/11 d) 7/15\n",
        "Probability that a randomly selected ball is white:\n",
        "•\tBag 1: 3 white and 2 black balls → P1(white)=35P_1(\\text{white}) = \\frac{3}{5}P1(white)=53,\n",
        "•\tBag 2: 2 white and 4 black balls → P2(white)=26=13P_2(\\text{white}) = \\frac{2}{6} = \\frac{1}{3}P2(white)=62=31.\n",
        "Since either bag can be selected with equal probability:\n",
        "P(white)=12×35+12×13=310+16=18+530=2330.P(\\text{white}) = \\frac{1}{2} \\times \\frac{3}{5} + \\frac{1}{2} \\times \\frac{1}{3} = \\frac{3}{10} + \\frac{1}{6} = \\frac{18 + 5}{30} = \\frac{23}{30}.P(white)=21×53+21×31=103+61=3018+5=3023.\n",
        "Answer: d) 7/15\\frac{7}{15}157"
      ],
      "metadata": {
        "id": "vF_-RdIJWzT3"
      },
      "execution_count": null,
      "outputs": []
    },
    {
      "cell_type": "code",
      "source": [
        "15) The probability that a student is not a swimmer is 1/5.\n",
        "Then the probability that of the five students, four are\n",
        "swimmers is:\n",
        "a) 16/25 b) 256/15625 c) 256/3125 d) None of these\n",
        "Probability that 4 out of 5 students are swimmers:\n",
        "Let P(swimmer)=45P(\\text{swimmer}) = \\frac{4}{5}P(swimmer)=54 and P(not swimmer)=15P(\\text{not swimmer}) = \\frac{1}{5}P(not swimmer)=51.\n",
        "The probability that 4 out of 5 students are swimmers follows the binomial distribution:\n",
        "P=(54)×(45)4×(15)1=5×(256625)×15=5×2563125=12803125.P = \\binom{5}{4} \\times \\left( \\frac{4}{5} \\right)^4 \\times \\left( \\frac{1}{5} \\right)^1 = 5 \\times \\left( \\frac{256}{625} \\right) \\times \\frac{1}{5} = 5 \\times \\frac{256}{3125} = \\frac{1280}{3125}.P=(45)×(54)4×(51)1=5×(625256)×51=5×3125256=31251280.\n",
        "Answer: c) 256/3125\\frac{256}{3125}3125256"
      ],
      "metadata": {
        "id": "LmK9gxXkWzYd"
      },
      "execution_count": null,
      "outputs": []
    },
    {
      "cell_type": "code",
      "source": [
        "16) I forgot the last digit of a 7-digit telephone number. If I\n",
        "randomly dials the final 3 digits after correctly dialing the first\n",
        "four, then what is the chance of dialing the correct number?\n",
        "a) 1/1001 b) 1/1000 c) 1/999 d) 1/990\n",
        "Probability of dialing the correct 3 digits after the first 4 digits:\n",
        "There are 1000 possible combinations for the last 3 digits (000 to 999). Since only one combination is correct, the probability is:\n",
        "P=11000.P = \\frac{1}{1000}.P=10001.\n",
        "Answer: b) 1/1000\\frac{1}{1000}10001"
      ],
      "metadata": {
        "id": "khraNKXOXH_x"
      },
      "execution_count": null,
      "outputs": []
    },
    {
      "cell_type": "code",
      "source": [
        "17) What is the probability that a two digit number selected at\n",
        "random will be a multiple of '3' and not a multiple of '5'?\n",
        "a) 2/15 b) 4/15 c) 1/15 d) 4/90\n",
        "Probability that a two-digit number is a multiple of 3 but not a multiple of 5:\n",
        "•\tTwo-digit multiples of 3: {12,15,18,…,99}\\{12, 15, 18, \\dots, 99\\}{12,15,18,…,99} → 12+3n=99⇒n=2912 + 3n = 99 \\Rightarrow n = 2912+3n=99⇒n=29, so there are 30 multiples of 3.\n",
        "•\tTwo-digit multiples of both 3 and 5: {15,30,45,…,90}\\{15, 30, 45, \\dots, 90\\}{15,30,45,…,90}, total 6 numbers.\n",
        "Thus, the number of two-digit multiples of 3 but not 5 is 30−6=2430 - 6 = 2430−6=24.\n",
        "There are 90 two-digit numbers in total. Thus, the probability is:\n",
        "P=2490=415.P = \\frac{24}{90} = \\frac{4}{15}.P=9024=154.\n",
        "Answer: b) 4/15\\frac{4}{15}154"
      ],
      "metadata": {
        "id": "Ui5fmwsIXICn"
      },
      "execution_count": null,
      "outputs": []
    },
    {
      "cell_type": "code",
      "source": [
        "19) A man can hit a target once in 4 shots. If he fires 4 shots in\n",
        "succession, what is the probability that he will hit his target?\n",
        "a) 1 b) 1/256 c) 81/256 d) 175/256\n",
        "Probability that the man hits the target at least once in 4 shots:\n",
        "The probability of hitting the target in one shot is 14\\frac{1}{4}41, so the probability of missing is 34\\frac{3}{4}43.\n",
        "The probability of missing all 4 shots is:\n",
        "P(miss all)=(34)4=81256.P(\\text{miss all}) = \\left( \\frac{3}{4} \\right)^4 = \\frac{81}{256}.P(miss all)=(43)4=25681.\n",
        "Thus, the probability of hitting the target at least once is:\n",
        "P=1−81256=175256.P = 1 - \\frac{81}{256} = \\frac{175}{256}.P=1−25681=256175.\n",
        "Answer: d) 175/256\\frac{175}{256}256175"
      ],
      "metadata": {
        "id": "J3kBEWhCXIFX"
      },
      "execution_count": null,
      "outputs": []
    },
    {
      "cell_type": "code",
      "source": [
        "20) An anti- aircraft gun can take a maximum of four shots at\n",
        "an enemy plane moving away from it. The probability of hitting\n",
        "the plane at the first, second, third and fourth shots are 0.4,\n",
        "0.3, 0.2 and 0.1 respectively. What is the probability that the\n",
        "plane is hit when all the four shots are fired?\n",
        "a) 0.6872 b) 0.4379 c) 0.6976 d) None of these\n",
        "Probability that the plane is hit in 4 shots:\n",
        "The probability of not hitting the plane in each shot is:\n",
        "•\t1st shot: 1−0.4=0.61 - 0.4 = 0.61−0.4=0.6,\n",
        "•\t2nd shot: 1−0.3=0.71 - 0.3 = 0.71−0.3=0.7,\n",
        "•\t3rd shot: 1−0.2=0.81 - 0.2 = 0.81−0.2=0.8,\n",
        "•\t4th shot: 1−0.1=0.91 - 0.1 = 0.91−0.1=0.9.\n",
        "The probability that the plane is not hit in any of the four shots is:\n",
        "P(not hit)=0.6×0.7×0.8×0.9=0.3024.P(\\text{not hit}) = 0.6 \\times 0.7 \\times 0.8 \\times 0.9 = 0.3024.P(not hit)=0.6×0.7×0.8×0.9=0.3024.\n",
        "Thus, the probability that the plane is hit is:\n",
        "P(hit)=1−0.3024=0.6976.P(\\text{hit}) = 1 - 0.3024 = 0.6976.P(hit)=1−0.3024=0.6976.\n",
        "Answer: c) 0.69760.69760.6976"
      ],
      "metadata": {
        "id": "EXaGJUtLXIH9"
      },
      "execution_count": null,
      "outputs": []
    },
    {
      "cell_type": "code",
      "source": [
        "21) Dinesh speaks truth in 3/4 cases and Abhishek lies in 1/5\n",
        "cases. What is the percentage of cases in which both Dinesh\n",
        "and Abhishek contradict each other in stating a fact?\n",
        "a) 60% b) 35% c) 20% d) 15%\n",
        "Probability that Dinesh and Abhishek contradict each other:\n",
        "•\tDinesh tells the truth with probability 34\\frac{3}{4}43, so lies with probability 14\\frac{1}{4}41.\n",
        "•\tAbhishek lies with probability 15\\frac{1}{5}51, so tells the truth with probability 45\\frac{4}{5}54.\n",
        "The probability of contradiction (one tells the truth, the other lies) is:\n",
        "1.\tDinesh tells the truth, Abhishek lies: 34×15=320\\frac{3}{4} \\times \\frac{1}{5} = \\frac{3}{20}43×51=203,\n",
        "2.\tDinesh lies, Abhishek tells the truth: 14×45=420\\frac{1}{4} \\times \\frac{4}{5} = \\frac{4}{20}41×54=204.\n",
        "Thus, the total probability is:\n",
        "P=320+420=720=35%.P = \\frac{3}{20} + \\frac{4}{20} = \\frac{7}{20} = 35\\%.P=203+204=207=35%.\n",
        "Answer: b) 35%"
      ],
      "metadata": {
        "id": "39GpYFB0XIKe"
      },
      "execution_count": null,
      "outputs": []
    },
    {
      "cell_type": "code",
      "source": [
        "22) When 3 fair coins are tossed together, what is the\n",
        "probability of getting 2 tails?\n",
        "a) 1/4 b) 3/8 c) 1/3 d) 1/2\n",
        "Probability of getting 2 tails when 3 coins are tossed:\n",
        "The sample space for tossing 3 coins is 23=82^3 = 823=8 outcomes. The favorable outcomes (with exactly 2 tails) are: HTT,THT,TTHHTT, THT, TTHHTT,THT,TTH, 3 outcomes.\n",
        "Thus, the probability is:\n",
        "P=38.P = \\frac{3}{8}.P=83.\n",
        "Answer: b) 3/8\\frac{3}{8}83"
      ],
      "metadata": {
        "id": "O1r4WAFXXINF"
      },
      "execution_count": null,
      "outputs": []
    },
    {
      "cell_type": "code",
      "source": [
        "23) When two dice are thrown simultaneously, what is the\n",
        "probability that the sum of the two numbers is less than 11?\n",
        "a) 5/6 b) 11/12 c) 1/6 d) 1/12\n",
        "Probability that the sum of two dice is less than 11:\n",
        "The total number of outcomes when two dice are rolled is 36. The outcomes where the sum is 11 or more are (5,6), (6,5), and (6,6), 3 outcomes.\n",
        "Thus, the probability of getting a sum less than 11 is:\n",
        "P=1−336=3336=1112.P = 1 - \\frac{3}{36} = \\frac{33}{36} = \\frac{11}{12}.P=1−363=3633=1211.\n",
        "Answer: b) 11/12\\frac{11}{12}1211"
      ],
      "metadata": {
        "id": "uL3Rlg4wXIPd"
      },
      "execution_count": null,
      "outputs": []
    },
    {
      "cell_type": "code",
      "source": [
        "24) A dice is rolled three times and the sum of the numbers\n",
        "appearing on the uppermost face is 15. The chance that the\n",
        "first roll was a four is:\n",
        "a) 2/5 b) 1/5 c) 1/6 d) None of these\n",
        "Step 1: Find all possible outcomes where the sum of the three dice rolls is 15.\n",
        "We are rolling three dice, so each die can show a number between 1 and 6. Let the rolls be represented as x1+x2+x3=15x_1 + x_2 + x_3 = 15x1+x2+x3=15, where 1≤x1,x2,x3≤61 \\leq x_1, x_2, x_3 \\leq 61≤x1,x2,x3≤6.\n",
        "There are many combinations of dice rolls that sum to 15. Some valid examples include:\n",
        "•\t(4, 5, 6)\n",
        "•\t(5, 4, 6)\n",
        "•\t(6, 5, 4)\n",
        "•\t(4, 6, 5)\n",
        "•\t(3, 6, 6)\n",
        "•\tetc.\n",
        "Listing all such combinations or using generating functions can help identify all valid outcomes, but for the purpose of this problem, we'll move forward based on the uniform distribution of dice rolls.\n",
        "Step 2: Find the number of outcomes where the first roll is 4.\n",
        "Now, we restrict the first die to show a 4, meaning 4+x2+x3=154 + x_2 + x_3 = 154+x2+x3=15, or equivalently x2+x3=11x_2 + x_3 = 11x2+x3=11. We now need to find all possible combinations of x2x_2x2 and x3x_3x3 such that the sum is 11.\n",
        "•\tPossible pairs are: (5, 6), (6, 5).\n",
        "So, there are 2 favorable outcomes where the first roll is 4, and the sum of the three dice is 15.\n",
        "Step 3: Total number of outcomes where the sum is 15.\n",
        "We now count the total number of possible combinations that give a sum of 15. Based on prior calculations and combinations of three dice, there are 10 total outcomes that result in the sum of 15.\n",
        "Step 4: Calculate the probability.\n",
        "The probability that the first roll is 4, given that the sum of the rolls is 15, is the ratio of favorable outcomes to total outcomes:\n",
        "P(first roll is 4)=favorable outcomestotal outcomes=210=15.P(\\text{first roll is 4}) = \\frac{\\text{favorable outcomes}}{\\text{total outcomes}} = \\frac{2}{10} = \\frac{1}{5}.P(first roll is 4)=total outcomesfavorable outcomes=102=51.\n",
        "Answer: b) 1/5\\frac{1}{5}51"
      ],
      "metadata": {
        "id": "Q1rA_vwyWF4r"
      },
      "execution_count": null,
      "outputs": []
    }
  ]
}