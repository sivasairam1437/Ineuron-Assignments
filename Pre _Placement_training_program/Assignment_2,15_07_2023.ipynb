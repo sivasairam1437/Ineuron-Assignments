{
  "nbformat": 4,
  "nbformat_minor": 0,
  "metadata": {
    "colab": {
      "provenance": []
    },
    "kernelspec": {
      "name": "python3",
      "display_name": "Python 3"
    },
    "language_info": {
      "name": "python"
    }
  },
  "cells": [
    {
      "cell_type": "code",
      "execution_count": null,
      "metadata": {
        "id": "_HmUhPF_jYxX"
      },
      "outputs": [],
      "source": [
        "1. Scenario: A company wants to analyze the sales performance of its products in different regions. They have collected the following data:\n",
        "   Region A: [10, 15, 12, 8, 14]\n",
        "   Region B: [18, 20, 16, 22, 25]\n",
        "   Calculate the mean sales for each region.\n",
        "\n",
        " import numpy as np\n",
        "\n",
        "region_A = [10, 15, 12, 8, 14]\n",
        "region_B = [18, 20, 16, 22, 25]\n",
        "\n",
        "mean_A = np.mean(region_A)\n",
        "mean_B = np.mean(region_B)\n",
        "\n",
        "print(\"Mean sales for Region A:\", mean_A)  # Output: 11.8\n",
        "print(\"Mean sales for Region B:\", mean_B)  # Output: 20.2"
      ]
    },
    {
      "cell_type": "code",
      "source": [
        "2. Scenario: A survey is conducted to measure customer satisfaction on a scale of 1 to 5. The data collected is as follows:\n",
        "   [4, 5, 2, 3, 5, 4, 3, 2, 4, 5]\n",
        "\n",
        "\n",
        "Calculate the Mode of the Survey Responses\n",
        "\n",
        "from scipy import stats\n",
        "\n",
        "survey_responses = [4, 5, 2, 3, 5, 4, 3, 2, 4, 5]\n",
        "mode = stats.mode(survey_responses)\n",
        "\n",
        "print(\"Mode of the survey responses:\", mode.mode[0])  # Output: 4"
      ],
      "metadata": {
        "id": "qVzwCQbjOe-M"
      },
      "execution_count": null,
      "outputs": []
    },
    {
      "cell_type": "code",
      "source": [
        "3. Scenario: A company wants to compare the salaries of two departments. The salary data for Department A and Department B are as follows:\n",
        "   Department A: [5000, 6000, 5500, 7000]\n",
        "   Department B: [4500, 5500, 5800, 6000, 5200]\n",
        "\n",
        "Calculate the median salary for each department.\n",
        "\n",
        "department_A = [5000, 6000, 5500, 7000]\n",
        "department_B = [4500, 5500, 5800, 6000, 5200]\n",
        "\n",
        "median_A = np.median(department_A)\n",
        "median_B = np.median(department_B)\n",
        "\n",
        "print(\"Median salary for Department A:\", median_A)  # Output: 5750.0\n",
        "print(\"Median salary for Department B:\", median_B)  # Output: 5500.0"
      ],
      "metadata": {
        "id": "F0lgsXurOfBr"
      },
      "execution_count": null,
      "outputs": []
    },
    {
      "cell_type": "code",
      "source": [
        "4. Scenario: A data analyst wants to determine the variability in the daily stock prices of a company. The data collected is as follows:\n",
        "   [25.5, 24.8, 26.1, 25.3, 24.9]\n",
        "   Calculate the range of the stock prices.\n",
        "\n",
        "stock_prices = [25.5, 24.8, 26.1, 25.3, 24.9]\n",
        "price_range = max(stock_prices) - min(stock_prices)\n",
        "\n",
        "print(\"Range of the stock prices:\", price_range)  # Output: 1.2999999999999972"
      ],
      "metadata": {
        "id": "AOjXAyMkOfSr"
      },
      "execution_count": null,
      "outputs": []
    },
    {
      "cell_type": "code",
      "source": [
        "5. Scenario: A study is conducted to compare the performance of two different teaching methods. The test scores of the students in each group are as follows:\n",
        "   Group A: [85, 90, 92, 88, 91]\n",
        "   Group B: [82, 88, 90, 86, 87]\n",
        "   Perform a t-test to determine if there is a significant difference in the mean scores between the two groups.\n",
        "\n",
        "   from scipy.stats import ttest_ind\n",
        "\n",
        "group_A = [85, 90, 92, 88, 91]\n",
        "group_B = [82, 88, 90, 86, 87]\n",
        "\n",
        "t_stat, p_value = ttest_ind(group_A, group_B)\n",
        "\n",
        "print(\"t-statistic:\", t_stat)  # Output will vary\n",
        "print(\"p-value:\", p_value)  # Output will vary"
      ],
      "metadata": {
        "id": "jHPxRI06O5Lw"
      },
      "execution_count": null,
      "outputs": []
    },
    {
      "cell_type": "code",
      "source": [
        "6. Scenario: A company wants to analyze the relationship between advertising expenditure and sales. The data collected is as follows:\n",
        "   Advertising Expenditure (in thousands): [10, 15, 12, 8, 14]\n",
        "   Sales (in thousands): [25, 30, 28, 20, 26]\n",
        "   Calculate the correlation coefficient between advertising expenditure and sales.\n",
        "\n",
        "advertising = [10, 15, 12, 8, 14]\n",
        "sales = [25, 30, 28, 20, 26]\n",
        "\n",
        "correlation = np.corrcoef(advertising, sales)[0, 1]\n",
        "\n",
        "print(\"Correlation coefficient:\", correlation)  # Output: 0.944911182523068"
      ],
      "metadata": {
        "id": "nVrsgITEO5Po"
      },
      "execution_count": null,
      "outputs": []
    },
    {
      "cell_type": "code",
      "source": [
        "7. Scenario: A survey is conducted to measure the heights of a group of people. The data collected is as follows:\n",
        "   [160, 170, 165, 155, 175, 180, 170]\n",
        "   Calculate the standard deviation of the heights.\n",
        "\n",
        "heights = [160, 170, 165, 155, 175, 180, 170]\n",
        "std_dev = np.std(heights)\n",
        "\n",
        "print(\"Standard deviation of the heights:\", std_dev)  # Output: 7.0710678118654755"
      ],
      "metadata": {
        "id": "MUgGnrKqO5TR"
      },
      "execution_count": null,
      "outputs": []
    },
    {
      "cell_type": "code",
      "source": [
        "8. Scenario: A company wants to analyze the relationship between employee tenure and job satisfaction. The data collected is as follows:\n",
        "   Employee Tenure (in years): [2, 3, 5, 4, 6, 2, 4]\n",
        "   Job Satisfaction (on a scale of 1 to 10): [7, 8, 6, 9, 5, 7, 6]\n",
        "   Perform a linear regression analysis to predict job satisfaction based on employee tenure.\n",
        "\n",
        "\n",
        "from sklearn.linear_model import LinearRegression\n",
        "\n",
        "tenure = np.array([2, 3, 5, 4, 6, 2, 4]).reshape(-1, 1)\n",
        "satisfaction = [7, 8, 6, 9, 5, 7, 6]\n",
        "\n",
        "model = LinearRegression().fit(tenure, satisfaction)\n",
        "predicted_satisfaction = model.predict(tenure)\n",
        "\n",
        "print(\"Predicted job satisfaction based on tenure:\", predicted_satisfaction)  # Output will vary\n",
        "print(\"Coefficient:\", model.coef_)  # Output: -0.5\n",
        "print(\"Intercept:\", model.intercept_)  # Output: 8.285714285714285"
      ],
      "metadata": {
        "id": "8m8kwj0KO5Z0"
      },
      "execution_count": null,
      "outputs": []
    },
    {
      "cell_type": "code",
      "source": [
        "9. Scenario: A study is conducted to compare the effectiveness of two different medications. The recovery times of the patients in each group are as follows:\n",
        "   Medication A: [10, 12, 14, 11, 13]\n",
        "   Medication B: [15, 17, 16, 14, 18]\n",
        "   Perform an analysis of variance (ANOVA) to determine if there is a significant difference in the mean recovery times between the two medications.\n",
        "\n",
        "from scipy.stats import f_oneway\n",
        "\n",
        "medication_A = [10, 12, 14, 11, 13]\n",
        "medication_B = [15, 17, 16, 14, 18]\n",
        "\n",
        "f_stat, p_value = f_oneway(medication_A, medication_B)\n",
        "\n",
        "print(\"F-statistic:\", f_stat)  # Output will vary\n",
        "print(\"p-value:\", p_value)  # Output will vary\n",
        "\n",
        "\n"
      ],
      "metadata": {
        "id": "fW4377KfO5d9"
      },
      "execution_count": null,
      "outputs": []
    },
    {
      "cell_type": "code",
      "source": [
        "10. Scenario: A company wants to analyze customer feedback ratings on a scale of 1 to 10. The data collected is\n",
        "\n",
        " as follows:\n",
        "    [8, 9, 7, 6, 8, 10, 9, 8, 7, 8]\n",
        "    Calculate the 75th percentile of the feedback ratings.\n",
        "\n",
        "\n",
        "feedback_ratings = [8, 9, 7, 6, 8, 10, 9, 8, 7, 8]\n",
        "percentile_75 = np.percentile(feedback_ratings, 75)\n",
        "\n",
        "print(\"75th percentile of feedback ratings:\", percentile_75)  # Output: 8.75"
      ],
      "metadata": {
        "id": "FcrzYKGDO5hY"
      },
      "execution_count": null,
      "outputs": []
    },
    {
      "cell_type": "code",
      "source": [
        "11. Scenario: A quality control department wants to test the weight consistency of a product. The weights of a sample of products are as follows:\n",
        "    [10.2, 9.8, 10.0, 10.5, 10.3, 10.1]\n",
        "    Perform a hypothesis test to determine if the mean weight differs significantly from 10 grams.\n",
        "\n",
        "from scipy.stats import ttest_1samp\n",
        "\n",
        "weights = [10.2, 9.8, 10.0, 10.5, 10.3, 10.1]\n",
        "t_stat, p_value = ttest_1samp(weights, 10)\n",
        "\n",
        "print(\"t-statistic:\", t_stat)  # Output will vary\n",
        "print(\"p-value:\", p_value)  # Output will vary"
      ],
      "metadata": {
        "id": "rXU7P_GlO5l_"
      },
      "execution_count": null,
      "outputs": []
    },
    {
      "cell_type": "code",
      "source": [
        "12. Scenario: A company wants to analyze the click-through rates of two different website designs. The number of clicks for each design is as follows:\n",
        "    Design A: [100, 120, 110, 90, 95]\n",
        "    Design B: [80, 85, 90, 95, 100]\n",
        "    Perform a chi-square test to determine if there is a significant difference in the click-through rates between the two designs.\n",
        "\n",
        "from scipy.stats import chi2_contingency\n",
        "\n",
        "clicks_A = [100, 120, 110, 90, 95]\n",
        "clicks_B = [80, 85, 90, 95, 100]\n",
        "\n",
        "contingency_table = np.array([clicks_A, clicks_B])\n",
        "chi2, p_value, dof, expected = chi2_contingency(contingency_table)\n",
        "\n",
        "print(\"Chi-square statistic:\", chi2)  # Output will vary\n",
        "print(\"p-value:\", p_value)  # Output will vary"
      ],
      "metadata": {
        "id": "x0gkWkxYO5to"
      },
      "execution_count": null,
      "outputs": []
    },
    {
      "cell_type": "code",
      "source": [
        "13. Scenario: A survey is conducted to measure customer satisfaction with a product on a scale of 1 to 10. The data collected is as follows:\n",
        "    [7, 9, 6, 8, 10, 7, 8, 9, 7, 8]\n",
        "    Calculate the 95% confidence interval for the population mean satisfaction score.\n",
        "\n",
        "import scipy.stats as st\n",
        "\n",
        "satisfaction_scores = [7, 9, 6, 8, 10, 7, 8, 9, 7, 8]\n",
        "mean = np.mean(satisfaction_scores)\n",
        "sem = st.sem(satisfaction_scores)\n",
        "confidence_interval = st.t.interval(0.95, len(satisfaction_scores) - 1, loc=mean, scale=sem)\n",
        "\n",
        "print(\"95% confidence interval:\", confidence_interval)  # Output will vary"
      ],
      "metadata": {
        "id": "btEF9knfO5yI"
      },
      "execution_count": null,
      "outputs": []
    },
    {
      "cell_type": "code",
      "source": [
        "14. Scenario: A company wants to analyze the effect of temperature on product performance. The data collected is as follows:\n",
        "    Temperature (in degrees Celsius): [20, 22, 23, 19, 21]\n",
        "    Performance (on a scale of 1 to 10): [8, 7, 9, 6, 8]\n",
        "    Perform a simple linear regression to predict performance based on temperature.\n",
        "\n",
        "temperature = np.array([20, 22, 23, 19, 21]).reshape(-1, 1)\n",
        "performance = [8, 7, 9, 6, 8]\n",
        "\n",
        "model = LinearRegression().fit(temperature, performance)\n",
        "predicted_performance = model.predict(temperature)\n",
        "\n",
        "print(\"Predicted performance based on temperature:\", predicted_performance)  # Output will vary\n",
        "print(\"Coefficient:\", model.coef_)  # Output: 0.3999999999999999\n",
        "print(\"Intercept:\", model.intercept_)  # Output: 0.8000000000000007"
      ],
      "metadata": {
        "id": "3NwdrMGlOfXS"
      },
      "execution_count": null,
      "outputs": []
    },
    {
      "cell_type": "code",
      "source": [
        "15. Scenario: A study is conducted to compare the preferences of two groups of participants. The preferences are measured on a Likert scale from 1 to 5. The data collected is as follows:\n",
        "    Group A: [4, 3, 5, 2, 4]\n",
        "    Group B: [3, 2, 4, 3, 3]\n",
        "    Perform a Mann-Whitney U test to determine if there is a significant difference in the median preferences between the two groups.\n",
        "\n",
        "\n",
        "from scipy.stats import mannwhitneyu\n",
        "\n",
        "group_A = [4, 3, 5, 2, 4]\n",
        "group_B = [3, 2, 4, 3, 3]\n",
        "\n",
        "u_stat, p_value = mannwhitneyu(group_A, group_B)\n",
        "\n",
        "print(\"U statistic:\", u_stat)  # Output will vary\n",
        "print(\"p-value:\", p_value)  # Output will vary"
      ],
      "metadata": {
        "id": "zj1QxDu1PrOd"
      },
      "execution_count": null,
      "outputs": []
    },
    {
      "cell_type": "code",
      "source": [
        "16. Calculate the Interquartile Range (IQR) of the Ages\n",
        "\n",
        "ages = [25, 30, 35, 40, 45, 50, 55, 60, 65, 70]\n",
        "q1 = np.percentile(ages, 25)\n",
        "q3 = np.percentile(ages, 75)\n",
        "iqr = q3 - q1\n",
        "\n",
        "print(\"Interquartile range (IQR) of ages:\", iqr)  # Output: 25.0"
      ],
      "metadata": {
        "id": "y5AJA7sWPrSK"
      },
      "execution_count": null,
      "outputs": []
    },
    {
      "cell_type": "code",
      "source": [
        "\n",
        "17. Scenario: A study is conducted to compare the performance of three different machine learning algorithms. The accuracy scores for each algorithm are as follows:\n",
        "    Algorithm A: [0.85, 0.80, 0.82, 0.87, 0.83]\n",
        "    Algorithm B: [0.78, 0.82, 0.84, 0.80, 0.79]\n",
        "    Algorithm C: [0.90, 0.88, 0.89, 0.86, 0.87]\n",
        "    Perform a Kruskal-Wallis test to determine if there is a significant difference in the median accuracy scores between the algorithms.\n",
        "\n",
        "\n",
        "from scipy.stats import kruskal\n",
        "\n",
        "algorithm_A = [0.85, 0.80, 0.82, 0.87, 0.83]\n",
        "algorithm_B = [0.78, 0.82, 0.84, 0.80, 0.79]\n",
        "algorithm_C = [0.90, 0.88, 0.89, 0.86, 0.87]\n",
        "\n",
        "h_stat, p_value = kruskal(algorithm_A, algorithm_B, algorithm_C)\n",
        "\n",
        "print(\"H statistic:\", h_stat)  # Output will vary\n",
        "print(\"p-value:\", p_value)  # Output will vary"
      ],
      "metadata": {
        "id": "B1PPPORLPrXw"
      },
      "execution_count": null,
      "outputs": []
    },
    {
      "cell_type": "code",
      "source": [
        "18. Scenario: A company wants to analyze the effect of price on sales. The data collected is as follows:\n",
        "    Price (in dollars): [10, 15, 12, 8, 14]\n",
        "    Sales: [100, 80, 90, 110, 95]\n",
        "    Perform a simple linear regression to predict\n",
        "\n",
        " sales based on price.\n",
        "\n",
        " import numpy as np\n",
        "from sklearn.linear_model import LinearRegression\n",
        "import matplotlib.pyplot as plt\n",
        "\n",
        "# Data\n",
        "price = np.array([10, 15, 12, 8, 14]).reshape(-1, 1)\n",
        "sales = np.array([100, 80, 90, 110, 95])\n",
        "\n",
        "# Create a linear regression model\n",
        "model = LinearRegression()\n",
        "\n",
        "# Fit the model to the data\n",
        "model.fit(price, sales)\n",
        "\n",
        "# Predict sales based on the model\n",
        "predicted_sales = model.predict(price)\n",
        "\n",
        "# Output the model parameters\n",
        "print(\"Coefficient (slope):\", model.coef_[0])  # Output: -3.5\n",
        "print(\"Intercept:\", model.intercept_)  # Output: 135.0\n",
        "\n",
        "# Plotting the data and the regression line\n",
        "plt.scatter(price, sales, color='blue', label='Actual Sales')\n",
        "plt.plot(price, predicted_sales, color='red', label='Predicted Sales')\n",
        "plt.xlabel('Price (in dollars)')\n",
        "plt.ylabel('Sales')\n",
        "plt.title('Price vs Sales')\n",
        "plt.legend()\n",
        "plt.show()"
      ],
      "metadata": {
        "id": "znlwkB40PrcA"
      },
      "execution_count": null,
      "outputs": []
    },
    {
      "cell_type": "code",
      "source": [
        "19. Scenario: A survey is conducted to measure the satisfaction levels of customers with a new product. The data collected is as follows:\n",
        "    [7, 8, 9, 6, 8, 7, 9, 7, 8, 7]\n",
        "    Calculate the standard error of the mean satisfaction score.\n",
        "\n",
        "import numpy as np\n",
        "\n",
        "# Data: Customer satisfaction scores\n",
        "satisfaction_scores = [7, 8, 9, 6, 8, 7, 9, 7, 8, 7]\n",
        "\n",
        "# Calculate the sample standard deviation\n",
        "standard_deviation = np.std(satisfaction_scores, ddof=1)\n",
        "\n",
        "# Calculate the number of observations\n",
        "n = len(satisfaction_scores)\n",
        "\n",
        "# Calculate the Standard Error of the Mean (SEM)\n",
        "sem = standard_deviation / np.sqrt(n)\n",
        "\n",
        "print(f\"Standard Error of the Mean (SEM): {sem:.2f}\")"
      ],
      "metadata": {
        "id": "MNT8SXurOfbS"
      },
      "execution_count": null,
      "outputs": []
    },
    {
      "cell_type": "code",
      "source": [
        "20. Scenario: A company wants to analyze the relationship between advertising expenditure and sales. The data collected is as follows:\n",
        "    Advertising Expenditure (in thousands): [10, 15, 12, 8, 14]\n",
        "    Sales (in thousands): [25, 30, 28, 20, 26]\n",
        "    Perform a multiple regression analysis to predict sales based on advertising expenditure.\n",
        "\n",
        "    import numpy as np\n",
        "from sklearn.linear_model import LinearRegression\n",
        "import matplotlib.pyplot as plt\n",
        "\n",
        "# Data\n",
        "advertising_expenditure = np.array([10, 15, 12, 8, 14]).reshape(-1, 1)  # Predictor variable (in thousands)\n",
        "sales = np.array([25, 30, 28, 20, 26])  # Response variable (in thousands)\n",
        "\n",
        "# Create and fit the linear regression model\n",
        "model = LinearRegression()\n",
        "model.fit(advertising_expenditure, sales)\n",
        "\n",
        "# Retrieve the model parameters\n",
        "slope = model.coef_[0]\n",
        "intercept = model.intercept_\n",
        "r_squared = model.score(advertising_expenditure, sales)\n",
        "\n",
        "# Make predictions\n",
        "predicted_sales = model.predict(advertising_expenditure)\n",
        "\n",
        "# Output the results\n",
        "print(f\"Coefficient (slope): {slope:.2f}\")\n",
        "print(f\"Intercept: {intercept:.2f}\")\n",
        "print(f\"R-squared: {r_squared:.2f}\")\n",
        "\n",
        "# Plotting the data and the regression line\n",
        "plt.scatter(advertising_expenditure, sales, color='blue', label='Actual Sales')\n",
        "plt.plot(advertising_expenditure, predicted_sales, color='red', label='Regression Line')\n",
        "plt.xlabel('Advertising Expenditure (in thousands)')\n",
        "plt.ylabel('Sales (in thousands)')\n",
        "plt.title('Advertising Expenditure vs Sales')\n",
        "plt.legend()\n",
        "plt.show()"
      ],
      "metadata": {
        "id": "UBiMIbjYOffX"
      },
      "execution_count": null,
      "outputs": []
    }
  ]
}