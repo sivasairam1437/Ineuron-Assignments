{
  "nbformat": 4,
  "nbformat_minor": 0,
  "metadata": {
    "colab": {
      "provenance": []
    },
    "kernelspec": {
      "name": "python3",
      "display_name": "Python 3"
    },
    "language_info": {
      "name": "python"
    }
  },
  "cells": [
    {
      "cell_type": "code",
      "execution_count": null,
      "metadata": {
        "id": "rzx3CSCIWg0z"
      },
      "outputs": [],
      "source": [
        "Seating Arrangements"
      ]
    },
    {
      "cell_type": "code",
      "source": [
        "1) A, P, R, X, S and Z are sitting in a row. S and Z are in the centre. A and P are at the ends. R is sitting to the left of A. Who is to the right of P?\n",
        "a) A  b) X  c) S  d) Z\n",
        "•\tAccording to the given seating arrangement, S and Z are in the center, A and P are at the ends, and R is sitting to the left of A. Thus, to the right of P is X.\n",
        "Answer: b) X"
      ],
      "metadata": {
        "id": "GDzcKY1vXAl4"
      },
      "execution_count": null,
      "outputs": []
    },
    {
      "cell_type": "code",
      "source": [
        "2) In a row, Jeevan is 7th from the start and 11th from the end. In another row, Vikas is 10th from the start and 12th from the end. How many people are there in both the rows together?\n",
        "a) 37  b) 36  c) 39  d) None of these\n",
        "•\tJeevan is 7th from the start and 11th from the end, which means there are 7+11−1=177 + 11 - 1 = 177+11−1=17 people in his row.\n",
        "•\tVikas is 10th from the start and 12th from the end, which means there are 10+12−1=2110 + 12 - 1 = 2110+12−1=21 people in his row.\n",
        "•\tTogether, there are 17+21=3817 + 21 = 3817+21=38 people.\n",
        "Answer: d) None of these (since 38 isn't listed as an option)"
      ],
      "metadata": {
        "id": "KT0CZPBrXApw"
      },
      "execution_count": null,
      "outputs": []
    },
    {
      "cell_type": "code",
      "source": [
        "3) Forty boys are standing in a row facing the North. Raghu is 11th from the left and Vijay is 31st from the right end of the row. How far away will Uday, who is third to the right of Raghu in the row, be from Vijay?\n",
        "a) 2nd  b) 3rd  c) 4th  d) 5th\n",
        "•\tRaghu is 11th from the left, and Uday is third to the right of Raghu, which makes Uday the 14th from the left.\n",
        "•\tVijay is 31st from the right in a row of 40 boys, so he is 40−31+1=1040 - 31 + 1 = 1040−31+1=10 from the left.\n",
        "•\tThe distance between Uday (14th) and Vijay (10th) is 14−10=414 - 10 = 414−10=4.\n",
        "Answer: c) 4th"
      ],
      "metadata": {
        "id": "clPoV6-CXAzO"
      },
      "execution_count": null,
      "outputs": []
    },
    {
      "cell_type": "code",
      "source": [
        "4) A, B, C, D and E are sitting on a bench. A is sitting next to B, C is sitting next to D, D is not sitting with E who is on the left end of the bench. C is on the second position from the right. A is to the right of B and E. A and C are sitting together. Between which of the following persons is A sitting?\n",
        "a) B and D  b) B and C  c) E and D  d) C and E\n",
        "•\tA is to the right of B and E, and A and C are sitting together. C is second from the right, so the order must be E, B, A, C, D. Therefore, A is sitting between B and C.\n",
        "Answer: b) B and C"
      ],
      "metadata": {
        "id": "qTJNim31XA20"
      },
      "execution_count": null,
      "outputs": []
    },
    {
      "cell_type": "code",
      "source": [
        "Directions: Six swimmers A, B, C, D, E, F compete in a race. The outcome is as follows.\n",
        "> B does not wins the race\n",
        "> Only two swimmers separate E & D\n",
        "> A is behind D & E\n",
        "> B is ahead of E, with one swimmer between them\n",
        "> F is ahead of D\n",
        "6) Who stood fifth in the race?\n",
        "a) A  b) C  c) E  d) B\n",
        "Answer: a) A"
      ],
      "metadata": {
        "id": "BFpbRBf5Ydab"
      },
      "execution_count": null,
      "outputs": []
    },
    {
      "cell_type": "code",
      "source": [
        "7) How many swimmers separate A and F?\n",
        "a) 1  b) 2  c) 3  d) 4\n",
        "Answer: c) 3"
      ],
      "metadata": {
        "id": "l_lcAe_eYdfP"
      },
      "execution_count": null,
      "outputs": []
    },
    {
      "cell_type": "code",
      "source": [
        "8) If in the end of the race, swimmer D is disqualified by the judge then swimmer B finishes in which place?\n",
        "a) 1  b) 2  c) 3  d) 4\n",
        "Answer: b) 2"
      ],
      "metadata": {
        "id": "4JdE7n35XA56"
      },
      "execution_count": null,
      "outputs": []
    },
    {
      "cell_type": "code",
      "source": [
        "Directions: Five girls are sitting on a bench for a photograph. Seema is to the left of Rani and to the right of Bindu. Mary is to the right of Rani. Reeta is between Rani and Mary.\n",
        "9) Who is sitting immediate right to Reeta?\n",
        "a) Bindu  b) Rani  c) Mary  d) Seema\n",
        "Answer: c) Mary"
      ],
      "metadata": {
        "id": "CO2ZATC2XA86"
      },
      "execution_count": null,
      "outputs": []
    },
    {
      "cell_type": "code",
      "source": [
        "10) Who is in the middle of the photograph?\n",
        "a) Bindu  b) Rani  c) Reeta  d) Seema\n",
        "Answer: c) Reeta"
      ],
      "metadata": {
        "id": "m8SbCZxIXBAU"
      },
      "execution_count": null,
      "outputs": []
    },
    {
      "cell_type": "code",
      "source": [
        "11) Who is second from the right?\n",
        "a) Mary  b) Rani  c) Reeta  d) Bindu\n",
        "Answer: c) Reeta"
      ],
      "metadata": {
        "id": "eqLihkL-XBDq"
      },
      "execution_count": null,
      "outputs": []
    },
    {
      "cell_type": "code",
      "source": [
        "12) Who is second from the left in photograph?\n",
        "a) Reeta  b) Mary  c) Bindu  d) Seema\n",
        "Answer: d) Seema"
      ],
      "metadata": {
        "id": "1LPic1miY01J"
      },
      "execution_count": null,
      "outputs": []
    },
    {
      "cell_type": "code",
      "source": [
        "Directions: In an Exhibition, seven cars of different companies - Cadillac, Ambassador, Fiat, Maruti, Mercedes, Bedford and Fargo are standing facing to east in the following order:\n",
        "> Cadillac is next to right of Fargo.\n",
        "> Fargo is fourth to the right of Fiat.\n",
        "> Maruti car is between Ambassador and Bedford.\n",
        "> Fiat which is third to the left of Ambassador, is at one end.\n",
        "\n",
        "1.\tCadillac is next to the right of Fargo.\n",
        "2.\tFargo is fourth to the right of Fiat.\n",
        "3.\tMaruti car is between Ambassador and Bedford.\n",
        "4.\tFiat, which is third to the left of Ambassador, is at one end.\n",
        "Step 1: Place Fiat\n",
        "•\tFiat is at one end, so it must be the leftmost position.\n",
        "Step 2: Place Fargo\n",
        "•\tFargo is fourth to the right of Fiat, so if Fiat is at position 1, then Fargo is at position 5.\n",
        "Step 3: Place Cadillac\n",
        "•\tCadillac is immediately to the right of Fargo, so Cadillac is at position 6.\n",
        "Step 4: Place Ambassador, Maruti, and Bedford\n",
        "•\tMaruti is between Ambassador and Bedford.\n",
        "•\tSince Fiat is at one end and Fargo and Cadillac are already in positions 5 and 6, the only available positions for Ambassador, Maruti, and Bedford are 2, 3, and 4.\n",
        "•\tFiat is third to the left of Ambassador, so Ambassador must be at position 4.\n",
        "•\tMaruti is between Ambassador and Bedford, so Maruti is at position 3 and Bedford at position 2.\n",
        "Step 5: Place Mercedes\n",
        "•\tThe only remaining position is 7, so Mercedes is in position 7.\n",
        "Thus, the final arrangement is:\n",
        "1.\tFiat\n",
        "2.\tBedford\n",
        "3.\tMaruti\n",
        "4.\tAmbassador\n",
        "5.\tFargo\n",
        "6.\tCadillac\n",
        "Mercedes"
      ],
      "metadata": {
        "id": "fDWE2S8QY04g"
      },
      "execution_count": null,
      "outputs": []
    },
    {
      "cell_type": "code",
      "source": [
        "13) Which of the cars are on both the sides of Cadillac car?\n",
        "a) Ambassador and Maruti  b) Maruti and Fiat\n",
        "c) Fargo and Mercedes  d) Ambassador and Fargo\n",
        "Fargo is on the left of Cadillac, and Mercedes is on the right.\n",
        "Answer: c) Fargo and Mercedes"
      ],
      "metadata": {
        "id": "QJrWcxCrelCA"
      },
      "execution_count": null,
      "outputs": []
    },
    {
      "cell_type": "code",
      "source": [
        "14) Which of the following statement is correct?\n",
        "a) Maruti is next left of Ambassador  b) Bedford is at one end\n",
        "c) Bedford is next left of Fiat  d) Fiat is in the right of Maruti\n",
        "Maruti is to the left of Ambassador, not to the right.\n",
        "Bedford is not at one end, Fiat is.\n",
        "Bedford is next to the left of Fiat.\n",
        "Fiat is not to the right of Maruti.\n",
        "Answer: c) Bedford is next left of Fiat"
      ],
      "metadata": {
        "id": "k09EDNdIY07f"
      },
      "execution_count": null,
      "outputs": []
    },
    {
      "cell_type": "code",
      "source": [
        "15) Which one of the following statements is correct?\n",
        "a) Fargo car is in between Ambassador and Fiat\n",
        "b) Cadillac is next left to Mercedes car\n",
        "c) Fargo is next right of Cadillac\n",
        "d) Maruti is fourth right of Mercedes\n",
        "Fargo is not between Ambassador and Fiat, Maruti is.\n",
        "Cadillac is not next to the left of Mercedes, it is next to the right.\n",
        "Fargo is next to the left of Cadillac.\n",
        "Maruti is not fourth to the right of Mercedes.\n",
        "Answer: c) Fargo is next right of Cadillac"
      ],
      "metadata": {
        "id": "4KIrg3VuY0-T"
      },
      "execution_count": null,
      "outputs": []
    },
    {
      "cell_type": "code",
      "source": [
        "16) Which of the following cars are in the right of Ambassador?\n",
        "a) Cadillac, Fargo and Maruti  b) Mercedes, Cadillac and Fargo\n",
        "c) Maruti, Bedford and Fiat  d) Bedford, Cadillac and Fargo"
      ],
      "metadata": {
        "id": "HW5U03FpgcI2"
      },
      "execution_count": null,
      "outputs": []
    },
    {
      "cell_type": "code",
      "source": [
        "17) Which of the following is the correct position of Mercedes?\n",
        "a) Next to the left of Cadillac  b) Next to the left of Bedford\n",
        "c) Between Bedford and Fargo  d) Fourth to the right of Maruti."
      ],
      "metadata": {
        "id": "xDdh_QqngcMd"
      },
      "execution_count": null,
      "outputs": []
    },
    {
      "cell_type": "code",
      "source": [
        "Directions: Six swimmers A, B, C, D, E, F compete in a race. The outcome is as follows.\n",
        "> B does not wins the race\n",
        "> Only two swimmers separate E & D\n",
        "> A is behind D & E\n",
        "> B is ahead of E, with one swimmer between them\n",
        "> F is ahead of D\n",
        "6) Who stood fifth in the race?\n",
        "a) A  b) C  c) E  d) B"
      ],
      "metadata": {
        "id": "zskrl_v-gcPR"
      },
      "execution_count": null,
      "outputs": []
    },
    {
      "cell_type": "code",
      "source": [
        "7) How many swimmers separate A and F?\n",
        "a) 1  b) 2  c) 3  d) 4"
      ],
      "metadata": {
        "id": "wPQ6HruTgcVJ"
      },
      "execution_count": null,
      "outputs": []
    },
    {
      "cell_type": "code",
      "source": [
        "8) If in the end of the race, swimmer D is disqualified by the judge then swimmer B finishes in which place?\n",
        "a) 1  b) 2  c) 3  d) 4"
      ],
      "metadata": {
        "id": "wkPPgmxVgcYY"
      },
      "execution_count": null,
      "outputs": []
    },
    {
      "cell_type": "code",
      "source": [
        "Seating Arrangement Problem"
      ],
      "metadata": {
        "id": "twBK3uduiRx1"
      },
      "execution_count": null,
      "outputs": []
    },
    {
      "cell_type": "code",
      "source": [
        "Directions: A, B, C, D and E are five men sitting in a line facing to south - while M, N, O, P and Q are five ladies sitting in a second line parallel to the first line and are facing to North.\n",
        "> B who is just next to the left of D, is opposite to Q.\n",
        "> C and N are diagonally opposite to each other.\n",
        "> E is opposite to O who is just next right of M.\n",
        "> P who is just to the left of Q, is opposite to D.\n",
        "> M is at one end of the line.\n",
        "1.\tB is just to the left of D and is opposite Q.\n",
        "2.\tC and N are diagonally opposite.\n",
        "3.\tE is opposite O, who is just to the right of M.\n",
        "4.\tP, who is to the left of Q, is opposite D.\n",
        "5.\tM is at one end of the line.\n",
        "Step 1: Seating Arrangement for Men (facing south):\n",
        "•\tB is just to the left of D.\n",
        "•\tP is opposite D, and Q is opposite B.\n",
        "Possible arrangement for men: A, B, D, C, E.\n",
        "Step 2: Seating Arrangement for Women (facing north):\n",
        "•\tP is to the left of Q, and M is at one end.\n",
        "•\tO is just to the right of M.\n",
        "Possible arrangement for women: M, O, P, Q, N.\n",
        "So, the seating arrangement for men and women is:\n",
        "•\tMen (South): A, B, D, C, E\n",
        "•\tWomen (North): M, O, P, Q, N"
      ],
      "metadata": {
        "id": "BSBZN9Krgcb9"
      },
      "execution_count": null,
      "outputs": []
    },
    {
      "cell_type": "code",
      "source": [
        "18) Who is sitting third to the right of O?\n",
        "a) Q  b) N  c) M  d) Data inadequate\n",
        "•\tO is in the second position. Third to the right of O is Q.\n",
        "•\tAnswer: a) Q"
      ],
      "metadata": {
        "id": "u-5TaOwah_pO"
      },
      "execution_count": null,
      "outputs": []
    },
    {
      "cell_type": "code",
      "source": [
        "19) If B shifts to the place of E, E shifts to the place of Q, and Q shifts to the place of B, then who will be the second to the left of the person opposite to O?\n",
        "a) Q  b) P  c) E  d) D\n",
        "•\tAfter shifting, the new arrangement is:\n",
        "o\tMen (South): A, E, D, C, B\n",
        "o\tWomen (North): M, O, P, Q, N\n",
        "•\tThe person opposite O is E. Second to the left of E is D.\n",
        "•\tAnswer: d) D"
      ],
      "metadata": {
        "id": "Hsfj1t5Ogcq3"
      },
      "execution_count": null,
      "outputs": []
    },
    {
      "cell_type": "code",
      "source": [
        "20) Which of these pairs is diagonally opposite to each other?\n",
        "a) EQ  b) BO  c) AN  d) AM\n",
        "•\tFrom the seating arrangement, A is diagonally opposite to N.\n",
        "Answer: c) AN"
      ],
      "metadata": {
        "id": "JE7BuZRuhjp9"
      },
      "execution_count": null,
      "outputs": []
    },
    {
      "cell_type": "code",
      "source": [
        "21) If O and P, A and E and B and Q interchange their positions, then who will be the second person to the right of the person who is opposite to the person second of the right of P?\n",
        "a) D  b) A  c) E  d) O\n",
        "•\tAfter interchanging:\n",
        "o\tMen (South): E, Q, D, C, A\n",
        "o\tWomen (North): M, P, O, B, N\n",
        "•\tThe person second from the right of P is O. The person opposite O is D. Second to the right of D is A.\n",
        "•\tAnswer: b) A"
      ],
      "metadata": {
        "id": "R9uOJmCzhmAH"
      },
      "execution_count": null,
      "outputs": []
    },
    {
      "cell_type": "code",
      "source": [
        "22) In the original arrangement who is sitting opposite to N?\n",
        "a) B  b) A  c) C  d) D\n",
        "•\tIn the original arrangement, C is sitting opposite to N.\n",
        "•\tAnswer: c) C"
      ],
      "metadata": {
        "id": "i5pDewSOWsz8"
      },
      "execution_count": null,
      "outputs": []
    },
    {
      "cell_type": "code",
      "source": [
        "Group Seating Problem"
      ],
      "metadata": {
        "id": "miJyhsD9rtVf"
      },
      "execution_count": null,
      "outputs": []
    },
    {
      "cell_type": "code",
      "source": [
        "Directions: In a class there are seven students (including boys and girls): A, B, C, D, E, F and G. They sit on three benches I, II and III. Such that at least two students on each bench and at least one girl on each bench. C who is a girl student, does not sit with A, E and D. F the boy student sits with only B. A sits on the bench I with his best friends. G sits on the bench III. E is the brother of C.\n",
        "27) How many girls are there out of these 7 students?\n",
        "a) 3  b) 3 or 4  c) 4  d) Data inadequate\n",
        "•\tFrom the given information, it is not clear exactly how many are girls. However, the context suggests either 3 or 4 girls.\n",
        "Answer: b) 3 or 4"
      ],
      "metadata": {
        "id": "gPvDcHqbmTpn"
      },
      "execution_count": null,
      "outputs": []
    },
    {
      "cell_type": "code",
      "source": [
        "28) Which of the following is the group of girls?\n",
        "a) BAC  b) BFC  c) BCD  d) CDF\n",
        "•\tWe don't have complete information about who the girls are, but based on previous clues, B, C, and D might be girls.\n",
        "•\tAnswer: c) BCD"
      ],
      "metadata": {
        "id": "iE7ooadvmTtY"
      },
      "execution_count": null,
      "outputs": []
    },
    {
      "cell_type": "code",
      "source": [
        "29) Who sits with C?\n",
        "a) B  b) D  c) G  d) E\n",
        "•\tBased on seating arrangements from previous context, B might sit with C.\n",
        "•\tAnswer: a) B"
      ],
      "metadata": {
        "id": "ri2hiwuBmTyo"
      },
      "execution_count": null,
      "outputs": []
    },
    {
      "cell_type": "code",
      "source": [
        "30) On which bench there are three students?\n",
        "a) Bench I  b) Bench II  c) Bench III  d) Bench I or II\n",
        "•\tThe previous context suggests that the bench might be either Bench I or Bench II, but it is not definitively clear.\n",
        "•\tAnswer: d) Bench I or II"
      ],
      "metadata": {
        "id": "tP54jN5Hmdnd"
      },
      "execution_count": null,
      "outputs": []
    },
    {
      "cell_type": "code",
      "source": [
        "Lights Problem"
      ],
      "metadata": {
        "id": "mzEeorp3sKsZ"
      },
      "execution_count": null,
      "outputs": []
    },
    {
      "cell_type": "code",
      "source": [
        "Directions: There are ten lights in a row on a control board. The lights are numbered from 1 to 10 in sequence from left to right. Each light is either on or off. The following is also known:\n",
        "No two consecutively numbered lights are on.\n",
        "No three consecutively numbered lights are off.\n",
        "Exactly four of the ten lights are on. Light 3 is off.\n",
        "Given Information:\n",
        "•\tThere are 10 lights numbered 1 to 10.\n",
        "•\tNo two consecutively numbered lights are on.\n",
        "•\tNo three consecutively numbered lights are off.\n",
        "•\tExactly four of the ten lights are on.\n",
        "•\tLight 3 is off.\n",
        "\n",
        "31) If light 4 is off, which of the following must be true?\n",
        "a) Light 1 is on  b) Light 2 is off  c) Light 5 is off  d) Light 6 is off\n",
        "•\tSince light 3 and light 4 are both off, there must be a light on either side of these lights to satisfy the condition that no three consecutive lights are off.\n",
        "•\tTherefore, light 5 must be on, but this contradicts option c). So, light 1 must be on to ensure that there are no three consecutive lights off.\n",
        "•\tAnswer: a) Light 1 is on"
      ],
      "metadata": {
        "id": "vlzyrQoJmg9N"
      },
      "execution_count": null,
      "outputs": []
    },
    {
      "cell_type": "code",
      "source": [
        "32) If lights 9 and 10 are off, which of the following must be true?\n",
        "a) Light 1 is on  b) Light 2 is off  c) Light 4 is on  d) Light 5 is on\n",
        "•\tSince lights 9 and 10 are both off, to avoid having three consecutive lights off, light 8 must be on.\n",
        "•\tTherefore, light 4 must be on to prevent three consecutive lights from being off from light 6 onward.\n",
        "•\tAnswer: c) Light 4 is on"
      ],
      "metadata": {
        "id": "g0Jz7qfZmj1I"
      },
      "execution_count": null,
      "outputs": []
    },
    {
      "cell_type": "code",
      "source": [
        "33) If light 6 is on and light 8 is off, for how many of the lights can on-off status be determined?\n",
        "a) 8  b) 7  c) 6  d) 5\n",
        "•\tFrom the given conditions:\n",
        "o\tLights 3 and 8 are off.\n",
        "o\tLight 6 is on.\n",
        "o\tLight 7 must be off (to satisfy the \"no two consecutive lights on\" condition).\n",
        "o\tSince lights 3 and 8 are off, light 5 must be on (to prevent three consecutive lights from being off).\n",
        "o\tLight 4 must be off because light 5 is on.\n",
        "This gives us the status of lights 3, 4, 5, 6, 7, and 8. Therefore, the status of 6 lights can be determined.\n",
        "•\tAnswer: c) 6"
      ],
      "metadata": {
        "id": "FFaFE6u6W-5f"
      },
      "execution_count": null,
      "outputs": []
    },
    {
      "cell_type": "code",
      "source": [
        "Circular Arrangements"
      ],
      "metadata": {
        "id": "-7ASA3YmW-8t"
      },
      "execution_count": null,
      "outputs": []
    },
    {
      "cell_type": "code",
      "source": [
        "1) Six persons A, B, C, D, E and F are sitting around a circular table. B is sitting to the immediate right of E. C is not sitting next to F. F is sitting opposite to B and D is sitting opposite to E. Who is sitting to the immediate left of D?\n",
        "a) B  b) A  c) C  d) E\n",
        "•\tB is sitting to the immediate right of E.\n",
        "•\tC is not sitting next to F.\n",
        "•\tF is sitting opposite to B, and D is sitting opposite to E.\n",
        "If B is to the immediate right of E, and D is opposite E, then D must be sitting directly across from E.\n",
        "F is opposite B, so F must be directly across from B.\n",
        "C cannot be next to F.\n",
        "This gives us the following positions:\n",
        "\n",
        "E and D are opposite each other.\n",
        "B and F are opposite each other.\n",
        "C must be placed such that it is not next to F.\n",
        "After placing all the people, we find that C is to the immediate left of D.\n",
        "\n",
        "Answer: c) C"
      ],
      "metadata": {
        "id": "sHzqKf2Dwhra"
      },
      "execution_count": null,
      "outputs": []
    },
    {
      "cell_type": "code",
      "source": [
        "Directions: P, Q, R, S, T, U, V and W are sitting round the circle and are facing the centre:\n",
        "> P is second to the right of T who is the neighbour of R and V.\n",
        "> S is not the neighbour of P.\n",
        "> V is the neighbour of U.\n",
        "> W is between Q and S.\n",
        "2) Which two of the following are not neighbours?\n",
        "a) RV  b) UV  c) RP  d) QW\n",
        "•\tFrom the seating arrangement:\n",
        "o\tT is a neighbor of R and V.\n",
        "o\tV is a neighbor of U.\n",
        "o\tW is between Q and S.\n",
        "R and P are not listed as neighbors.\n",
        "Answer: c) RP"
      ],
      "metadata": {
        "id": "2ch72BXynJZb"
      },
      "execution_count": null,
      "outputs": []
    },
    {
      "cell_type": "code",
      "source": [
        "3) Which one is immediate right to the V?\n",
        "a) P  b) U  c) R  d) T\n",
        "•\tAccording to the arrangement, U is a neighbor of V.\n",
        "•\tSo, U is immediately to the right of V.\n",
        "•\tAnswer: b) U"
      ],
      "metadata": {
        "id": "lx10ZQRznJep"
      },
      "execution_count": null,
      "outputs": []
    },
    {
      "cell_type": "code",
      "source": [
        "4) Which of the following is correct?\n",
        "a) P is to the immediate right of Q  b) R is between U and V\n",
        "•\tP is second to the right of T.\n",
        "•\tR is not between U and V.\n",
        "•\tW is between Q and S, so Q is immediately to the right of W.\n",
        "Answer: a) P is to the immediate right of Q"
      ],
      "metadata": {
        "id": "mEeaxWZanWkN"
      },
      "execution_count": null,
      "outputs": []
    },
    {
      "cell_type": "code",
      "source": [
        "5) What is the position of S?\n",
        "a) Between U and V  b) Second to the right of P\n",
        "c) To the immediate right of W  d) Data inadequate.\n",
        "•\tBased on the seating arrangement:\n",
        "o\tW is between Q and S.\n",
        "o\tU is between W and S.\n",
        "So, S is immediately to the right of W.\n",
        "•\tAnswer: c) To the immediate right of W"
      ],
      "metadata": {
        "id": "PwnugQsEnWnu"
      },
      "execution_count": null,
      "outputs": []
    },
    {
      "cell_type": "code",
      "source": [
        "Directions: Six friends are sitting in a circle and are facing the centre of the circle. Deepa is between Prakash and Pankaj. Priti is between Mukesh and Lalit. Prakash and Mukesh are opposite to each other.\n",
        "•\tDeepa is between Prakash and Pankaj.\n",
        "•\tPriti is between Mukesh and Lalit.\n",
        "•\tPrakash and Mukesh are opposite to each other.\n",
        "Seating arrangement clues:\n",
        "1.\tPrakash and Mukesh are opposite.\n",
        "2.\tDeepa is between Prakash and Pankaj.\n",
        "3.\tPriti is between Mukesh and Lalit.\n",
        "Using these, we can deduce their seating positions.\n",
        "•\tDeepa is between Prakash and Pankaj.\n",
        "•\tPriti is between Mukesh and Lalit.\n",
        "•\tPrakash and Mukesh are opposite to each other.\n",
        "Seating arrangement clues:\n",
        "1.\tPrakash and Mukesh are opposite.\n",
        "2.\tDeepa is between Prakash and Pankaj.\n",
        "3.\tPriti is between Mukesh and Lalit.\n",
        "Using these, we can deduce their seating positions.\n",
        "6) Who is sitting right to Prakash?\n",
        "a) Mukesh  b) Deepa  c) Pankaj  d) Lalit\n",
        "•\tDeepa is sitting between Prakash and Pankaj. Thus, Deepa is sitting to the right of Prakash.\n",
        "Answer: b) Deepa"
      ],
      "metadata": {
        "id": "k2h9FShMnWqn"
      },
      "execution_count": null,
      "outputs": []
    },
    {
      "cell_type": "code",
      "source": [
        "7) Who is just right to Pankaj?\n",
        "a) Deepa  b) Lalit  c) Prakash  d) Priti\n",
        "From the previous clue, Deepa is between Prakash and Pankaj. Hence, Prakash is just to the right of Pankaj.\n",
        "Answer: c) Prakash"
      ],
      "metadata": {
        "id": "kDg2kJd1pKrD"
      },
      "execution_count": null,
      "outputs": []
    },
    {
      "cell_type": "code",
      "source": [
        "8) Who are the neighbours of Mukesh?\n",
        "a) Prakash and Deepa  b) Deepa and Priti\n",
        "c) Priti and Pankaj  d) Lalit and Priti\n",
        "Priti is sitting between Mukesh and Lalit, so the neighbors of Mukesh are Priti and Lalit.\n",
        "Answer: d) Lalit and Priti"
      ],
      "metadata": {
        "id": "tWIPlzO-pKy2"
      },
      "execution_count": null,
      "outputs": []
    },
    {
      "cell_type": "code",
      "source": [
        "9) Who is sitting opposite to Priti?\n",
        "a) Prakash  b) Deepa  c) Pankaj  d) Lalit\n",
        "From the information that Prakash and Mukesh are opposite each other, and considering Priti’s placement, Pankaj is opposite to Priti.\n",
        "Answer: c) Pankaj"
      ],
      "metadata": {
        "id": "MaeOOohUpK3D"
      },
      "execution_count": null,
      "outputs": []
    },
    {
      "cell_type": "code",
      "source": [
        "Directions: Six friends P, Q, R, S, T and U are sitting around the hexagonal table each at one corner and are facing the centre of the hexagonal. P is second to the left of U. Q is neighbour of R and S. T is second to the left of S.\n",
        "10) Which one is sitting opposite to P?\n",
        "a) R  b) Q  c) T  d) S"
      ],
      "metadata": {
        "id": "zoP_coBkptWL"
      },
      "execution_count": null,
      "outputs": []
    },
    {
      "cell_type": "code",
      "source": [
        "11) Who is the fourth person to the left of Q?\n",
        "a) P  b) U  c) R  d) Data inadequate\n",
        "If P is second to the left of U, and considering the seating arrangement, T is sitting opposite to P.\n",
        "Answer: c) T"
      ],
      "metadata": {
        "id": "aGXlF71JptZX"
      },
      "execution_count": null,
      "outputs": []
    },
    {
      "cell_type": "code",
      "source": [
        "12) Which of the following are the neighbours of P?\n",
        "a) U and P  b) T and R  c) U and R  d) Data inadequate\n",
        "Based on the seating arrangement and the given clues, the neighbors of P are U and R.\n",
        "Answer: c) U and R"
      ],
      "metadata": {
        "id": "C_XizKfYptcV"
      },
      "execution_count": null,
      "outputs": []
    },
    {
      "cell_type": "code",
      "source": [
        "13) Which one is sitting opposite to T?\n",
        "a) R  b) Q  c) Cannot be determined  d) S\n",
        "With the hexagonal arrangement, R is sitting opposite to T.\n",
        "Answer: a) R"
      ],
      "metadata": {
        "id": "O49IQvVpptfA"
      },
      "execution_count": null,
      "outputs": []
    },
    {
      "cell_type": "code",
      "source": [
        "Directions: Six girls P, Q, R, S, T and V are sitting in a circle facing towards the centre. T is not between Q and S but some other one. P is next to the left of V. R is 4th to the right of P.\n",
        "14) Which of the following statement is true?\n",
        "a) S is just next to the right to R  b) T is second to the right of V\n",
        "c) R is second to the left of T  d) P is second to the right of R\n",
        "After analyzing the seating arrangement:\n",
        "•\tT is second to the right of V is correct.\n",
        "Answer: b) T is second to the right of V"
      ],
      "metadata": {
        "id": "57k9xntPpth5"
      },
      "execution_count": null,
      "outputs": []
    },
    {
      "cell_type": "code",
      "source": [
        "15) If P and R interchange their positions then which of the following pair will sit together?\n",
        "a) RT  b) PV  c) VT  d) QV\n",
        "After P and R swap, VT will be sitting together.\n",
        "Answer: c) VT"
      ],
      "metadata": {
        "id": "Ix5nD4BRptnV"
      },
      "execution_count": null,
      "outputs": []
    },
    {
      "cell_type": "code",
      "source": [
        "16) What is the position of T?\n",
        "a) Just next to the right of Q  b) Second to the left of P\n",
        "c) Between Q and R  d) To the immediate right of V\n",
        "Based on the given seating arrangement, T is second to the left of P.\n",
        "Answer: b) Second to the left of P"
      ],
      "metadata": {
        "id": "GopAW4FCptqf"
      },
      "execution_count": null,
      "outputs": []
    },
    {
      "cell_type": "code",
      "source": [
        "17) Which one is sitting just right to the V?\n",
        "a) P  b) T  c) R  d) S/Q\n",
        "The person sitting just to the right of V is P.\n",
        "Answer: a) P"
      ],
      "metadata": {
        "id": "MDtw0zLVqHaw"
      },
      "execution_count": null,
      "outputs": []
    },
    {
      "cell_type": "code",
      "source": [
        "Directions: Read the following information given below and answer the questions that follow.\n",
        "i. P, Q, R, S, T, U and V are seven friends and are sitting in a circle facing the center of the circle.\n",
        "ii. V is second to the left of S and is the neighbour of T and U.\n",
        "iii. S is not a neighbour of R or T.\n",
        "iv. P is neighbour of Q and R.\n",
        "Seven friends (P, Q, R, S, T, U, and V) are seated in a circle, and the given clues help determine their positions\n",
        "Q.18. Which of the following is correct?\n",
        "1. Q is between P and S. 2. S is between U and P. 3. T is to the immediate right of V. 4. U is to the immediate left of V.\n",
        "•\tT is to the immediate right of V is the correct statement based on the seating arrangement.\n",
        "Answer: 3) T is to the immediate right of V"
      ],
      "metadata": {
        "id": "foWEoSYAqHfM"
      },
      "execution_count": null,
      "outputs": []
    },
    {
      "cell_type": "code",
      "source": [
        "Q.19. Which of the following has the pair with the second person sitting to the immediate right of the first person?\n",
        "1. QU 2. VU 3. TR 4. PT\n",
        "The correct pair is TR, where R is immediately to the right of T.\n",
        "Answer: 3) TR"
      ],
      "metadata": {
        "id": "zFLaUQYnqHip"
      },
      "execution_count": null,
      "outputs": []
    },
    {
      "cell_type": "code",
      "source": [
        "Q 20. Which of the following will be S’s position after T and S interchange their places?\n",
        "1. Neighbour of V and R 2. To the immediate left of R 3. To the immediate right of U 4. Neighbour of R and P\n",
        "After T and S interchange their positions:\n",
        "•\tS will now sit where T was, and from the clues, T was to the immediate right of V.\n",
        "•\tAfter the swap, S will be to the immediate right of U, meaning S is now a neighbor of V and R.\n",
        "Answer: 1. Neighbor of V and R"
      ],
      "metadata": {
        "id": "el7G0xPXqHld"
      },
      "execution_count": null,
      "outputs": []
    },
    {
      "cell_type": "code",
      "source": [
        "Q 21. What is the position of R?\n",
        "1. Second to the left of Q 2. Third to the right of U 3. To the immediate left of P 4. None of these\n",
        "To determine R's position, we can use the clues:\n",
        "•\tP is the neighbor of Q and R, meaning R is adjacent to P.\n",
        "•\tHowever, none of the given options match this description precisely, so none of the provided options fit the exact placement of R.\n",
        "Answer: 4. None of these"
      ],
      "metadata": {
        "id": "-ClAZoxWqHoG"
      },
      "execution_count": null,
      "outputs": []
    },
    {
      "cell_type": "code",
      "source": [
        "Q. 22 Which of the following has the second person sitting between the first and third persons?\n",
        "1. SPQ 2. VRT 3. QRP 4. VUS\n",
        "Now, we need to determine the arrangement in which the second person is sitting between the first and third:\n",
        "•\tSPQ: In this arrangement, P is between S and Q.\n",
        "•\tVRT: This doesn’t form a valid sequence.\n",
        "•\tQRP: R is sitting between Q and P.\n",
        "•\tVUS: U is not between V and S.\n",
        "The correct sequence is QRP, where R is sitting between Q and P.\n",
        "Answer: 3. QRP"
      ],
      "metadata": {
        "id": "vGwXiciIqykt"
      },
      "execution_count": null,
      "outputs": []
    }
  ]
}