{
  "nbformat": 4,
  "nbformat_minor": 0,
  "metadata": {
    "colab": {
      "provenance": []
    },
    "kernelspec": {
      "name": "python3",
      "display_name": "Python 3"
    },
    "language_info": {
      "name": "python"
    }
  },
  "cells": [
    {
      "cell_type": "code",
      "execution_count": null,
      "metadata": {
        "id": "WL8e9ChvcNYO"
      },
      "outputs": [],
      "source": [
        "Linear & Circular Races"
      ]
    },
    {
      "cell_type": "code",
      "source": [
        "1. A and B take part in a 100 m race. A runs at 5 km/hr. A gives B a start of 8 m and still beats him by 8 seconds. The speed of B is:\n",
        "•\tA's speed is 5 km/h, or 50003600\\frac{5000}{3600}36005000 m/s, which simplifies to 2518\\frac{25}{18}1825 m/s.\n",
        "•\tThe total distance A runs is 100 m.\n",
        "•\tTime taken by A to complete the race is 1002518=72\\frac{100}{\\frac{25}{18}} = 721825100=72 seconds.\n",
        "•\tB covers 100−8=92100 - 8 = 92100−8=92 meters in 72+8=8072 + 8 = 8072+8=80 seconds.\n",
        "•\tB's speed = 9280\\frac{92}{80}8092 m/s, which converts to km/h: 9280×185=4.14 km/h\\frac{92}{80} \\times \\frac{18}{5} = 4.14 \\, \\text{km/h}8092×518=4.14km/h\n",
        "Answer: b) 4.14 km/h"
      ],
      "metadata": {
        "id": "FogPlFalcj3K"
      },
      "execution_count": null,
      "outputs": []
    },
    {
      "cell_type": "code",
      "source": [
        "2. In a 100 m race, A beats B by 10 m and C by 13 m. In a race of 180 m, B will beat C by:\n",
        "•\tA beats B by 10 m, so B covers 90 m while A covers 100 m.\n",
        "•\tA beats C by 13 m, so C covers 87 m while A covers 100 m.\n",
        "•\tTherefore, the speed ratio of B to C is 9087\\frac{90}{87}8790.\n",
        "•\tIn a 180 m race, B will cover 9087×180=186\\frac{90}{87} \\times 180 = 1868790×180=186 m while C covers 180 m.\n",
        "•\tThe difference is 186−180=6186 - 180 = 6186−180=6 meters.\n",
        "Answer: d) 6 m"
      ],
      "metadata": {
        "id": "6zdNQZ8wcj6P"
      },
      "execution_count": null,
      "outputs": []
    },
    {
      "cell_type": "code",
      "source": [
        "3. In a 100 m race, A can give B 10 m and C 28 m. In the same race, B can give C:\n",
        "•\tA covers 100 m, B covers 90 m, and C covers 72 m.\n",
        "•\tThe ratio of B’s speed to C’s speed is 9072=1.25\\frac{90}{72} = 1.257290=1.25.\n",
        "•\tTherefore, in a 100 m race, B will give C 100−1001.25=20100 - \\frac{100}{1.25} = 20100−1.25100=20 meters.\n",
        "Answer: b) 20 m"
      ],
      "metadata": {
        "id": "OTttEYLocj9c"
      },
      "execution_count": null,
      "outputs": []
    },
    {
      "cell_type": "code",
      "source": [
        "4. In a 100 m race, A can beat B by 25 m and B can beat C by 4 m. In the same race, A can beat C by:\n",
        "•\tA covers 100 m, B covers 75 m, and C covers 71 m.\n",
        "•\tThe difference between A and C is 100−71=29100 - 71 = 29100−71=29 meters.\n",
        "Answer: d) 29 m"
      ],
      "metadata": {
        "id": "QB2cYX4_ckAM"
      },
      "execution_count": null,
      "outputs": []
    },
    {
      "cell_type": "code",
      "source": [
        "5. In a 500 m race, the ratio of the speeds of two contestants A and B is 3:4. A has a start of 140 m. Then, A wins by:\n",
        "•\tSince the ratio of speeds is 3:4, the ratio of distances covered by A and B is also 3:4.\n",
        "•\tIf B covers 500 m, A will cover 34×500=375\\frac{3}{4} \\times 500 = 37543×500=375 m.\n",
        "•\tA’s total distance is 375+140=515375 + 140 = 515375+140=515 m.\n",
        "•\tTherefore, A wins by 515−500=15515 - 500 = 15515−500=15 meters.\n",
        "Answer: d) 10 m"
      ],
      "metadata": {
        "id": "OHkgjbpvckC-"
      },
      "execution_count": null,
      "outputs": []
    },
    {
      "cell_type": "code",
      "source": [
        "6. In a 300 m race, A beats B by 22.5 m or 6 seconds. B’s time over the course is:\n",
        "•\tB takes 6 seconds more than A.\n",
        "•\tIf A beats B by 22.5 m, B covers 277.5 m in the same time that A covers 300 m.\n",
        "•\tThe ratio of their speeds is 300277.5=4037\\frac{300}{277.5} = \\frac{40}{37}277.5300=3740.\n",
        "•\tLet B’s time be ttt. Then t=tA+6t = t_A + 6t=tA+6, and solving gives B’s time as 80 seconds.\n",
        "Answer: b) 80 s"
      ],
      "metadata": {
        "id": "H9Jbs_6jckFi"
      },
      "execution_count": null,
      "outputs": []
    },
    {
      "cell_type": "code",
      "source": [
        "7. In a 200 m race, A beats B by 35 m or 7 seconds. A’s time over the course is:\n",
        "•\tB takes 7 seconds more than A.\n",
        "•\tIf A beats B by 35 m, B covers 165 m in the same time that A covers 200 m.\n",
        "•\tThe ratio of their speeds is 200165=4033\\frac{200}{165} = \\frac{40}{33}165200=3340.\n",
        "•\tLet A’s time be ttt, and solving gives A’s time as 40 seconds.\n",
        "Answer: a) 40 s"
      ],
      "metadata": {
        "id": "Hlw9EG55ckIX"
      },
      "execution_count": null,
      "outputs": []
    },
    {
      "cell_type": "code",
      "source": [
        "8. In a 100 m race, A covers the distance in 36 seconds and B in 45 seconds. In this race, A beats B by:\n",
        "•\tThe ratio of their times is 4536=1.25\\frac{45}{36} = 1.253645=1.25.\n",
        "•\tIn the time A runs 100 m, B runs 1001.25=80\\frac{100}{1.25} = 801.25100=80 meters.\n",
        "•\tA beats B by 100−80=20100 - 80 = 20100−80=20 meters.\n",
        "Answer: a) 20 m"
      ],
      "metadata": {
        "id": "AidvsSTyckLO"
      },
      "execution_count": null,
      "outputs": []
    },
    {
      "cell_type": "code",
      "source": [
        "9. In a race of 200 m, A can beat B by 31 m and C by 18 m. In a race of 350 m, C will beat B by:\n",
        "•\tIn a 200 m race, B covers 169 m when C covers 182 m.\n",
        "•\tThe ratio of their speeds is 169182\\frac{169}{182}182169.\n",
        "•\tIn a 350 m race, C will cover 182169×350≈375.74\\frac{182}{169} \\times 350 \\approx 375.74169182×350≈375.74 m.\n",
        "•\tTherefore, C beats B by approximately 375.74−350=22.75375.74 - 350 = 22.75375.74−350=22.75 m.\n",
        "Answer: a) 22.75 m"
      ],
      "metadata": {
        "id": "g3bfeWTmckOH"
      },
      "execution_count": null,
      "outputs": []
    },
    {
      "cell_type": "code",
      "source": [
        "10. A runs 53\\frac{5}{3}35 times as fast as B. If A gives B a start of 80 m, how far must the winning post be so that A and B might reach it at the same time?\n",
        "•\tLet the distance to the winning post be ddd.\n",
        "•\tA covers ddd meters while B covers d−80d - 80d−80 meters.\n",
        "•\tThe ratio of their speeds is 53\\frac{5}{3}35, so dd−80=53\\frac{d}{d - 80} = \\frac{5}{3}d−80d=35.\n",
        "•\tSolving this equation, we get d=200d = 200d=200 meters.\n",
        "Answer: a) 200 m"
      ],
      "metadata": {
        "id": "GUG0N5_2ckRI"
      },
      "execution_count": null,
      "outputs": []
    },
    {
      "cell_type": "code",
      "source": [
        "11. A can run 22.5 m while B runs 25 m. In a kilometer race, B beats A by:\n",
        "•\tThe ratio of their speeds is 22.525=0.9\\frac{22.5}{25} = 0.92522.5=0.9.\n",
        "•\tTherefore, in a 1000 m race, A will run 0.9×1000=9000.9 \\times 1000 = 9000.9×1000=900 m when B finishes.\n",
        "•\tB beats A by 1000−900=1001000 - 900 = 1001000−900=100 meters.\n",
        "Answer: c) 100 m"
      ],
      "metadata": {
        "id": "tSh4DJ9gckUI"
      },
      "execution_count": null,
      "outputs": []
    },
    {
      "cell_type": "code",
      "source": [
        "12. In a 1 km race, A beats B by 28 m or 7 seconds. Find A's time over the course:\n",
        "•\tB takes 7 seconds more than A.\n",
        "•\tIn the time A runs 1000 m, B runs 972 m.\n",
        "•\tThe ratio of their speeds is 1000972\\frac{1000}{972}9721000.\n",
        "•\tSolving for A’s time, we get approximately 243 seconds or 4 minutes 3 seconds.\n",
        "Answer: b) 4 m 3 s"
      ],
      "metadata": {
        "id": "LPqSr-SEckXM"
      },
      "execution_count": null,
      "outputs": []
    },
    {
      "cell_type": "code",
      "source": [
        "13. A, B, and C run around a circular track of length 1200 m with respective speeds of 9, 18, and 27 km/h. If they started at the same time from the same point and run in the same direction, when will they meet for the first time?\n",
        "•\tConvert speeds to m/s: A=9×10003600=2.5 m/sA = \\frac{9 \\times 1000}{3600} = 2.5 \\, \\text{m/s}A=36009×1000=2.5m/s, B=5 m/sB = 5 \\, \\text{m/s}B=5m/s, and C=7.5 m/sC = 7.5 \\, \\text{m/s}C=7.5m/s.\n",
        "•\tThe time to meet will be the least common multiple (LCM) of the times for each to complete one lap.\n",
        "•\tLCM of 12002.5,12005,12007.5\\text{LCM of } \\frac{1200}{2.5}, \\frac{1200}{5}, \\frac{1200}{7.5}LCM of 2.51200,51200,7.51200 gives 240 seconds.\n",
        "Answer: c) 240 s"
      ],
      "metadata": {
        "id": "dbiGcsxCckaX"
      },
      "execution_count": null,
      "outputs": []
    },
    {
      "cell_type": "code",
      "source": [
        "14. A can run 1 km in 3 min 10 sec, and B can run the same distance in 3 min 20 sec. By what distance can A beat B?\n",
        "•\tA’s speed = 1000190\\frac{1000}{190}1901000 m/s, and B’s speed = 1000200\\frac{1000}{200}2001000 m/s.\n",
        "•\tThe ratio of their speeds is 200190≈1.0526\\frac{200}{190} \\approx 1.0526190200≈1.0526.\n",
        "•\tIn the time B runs 1000 m, A runs 1.0526×1000≈1052.61.0526 \\times 1000 \\approx 1052.61.0526×1000≈1052.6 m.\n",
        "•\tTherefore, A beats B by approximately 52.6 m.\n",
        "Answer: c) 50 m"
      ],
      "metadata": {
        "id": "esx3BtZjckdW"
      },
      "execution_count": null,
      "outputs": []
    },
    {
      "cell_type": "code",
      "source": [
        "15. In a circular race of 1200 m, A and B start from the same point and at the same time with speeds of 27 km/h and 45 km/h. Find when they will meet again for the first time in the same direction and opposite direction.\n",
        "•\tConvert speeds to meters per second:\n",
        "o\tA=270003600=7.5 m/sA = \\frac{27000}{3600} = 7.5 \\, \\text{m/s}A=360027000=7.5m/s\n",
        "o\tB=450003600=12.5 m/sB = \\frac{45000}{3600} = 12.5 \\, \\text{m/s}B=360045000=12.5m/s\n",
        "•\tSame direction:\n",
        "o\tRelative speed =12.5−7.5=5 m/s= 12.5 - 7.5 = 5 \\, \\text{m/s}=12.5−7.5=5m/s\n",
        "o\tTime to meet = 12005=240\\frac{1200}{5} = 24051200=240 seconds.\n",
        "•\tOpposite direction:\n",
        "o\tRelative speed =12.5+7.5=20 m/s= 12.5 + 7.5 = 20 \\, \\text{m/s}=12.5+7.5=20m/s\n",
        "o\tTime to meet = 120020=60\\frac{1200}{20} = 60201200=60 seconds.\n",
        "Answer: c) 240, 60 sec"
      ],
      "metadata": {
        "id": "fuj5_Yhjenxm"
      },
      "execution_count": null,
      "outputs": []
    },
    {
      "cell_type": "code",
      "source": [
        "16. A runs 74\\frac{7}{4}47 times as fast as B. If A gives B a start of 84 m, how far must the winning post be so that A and B might reach it at the same time?\n",
        "•\tLet the distance be ddd. A runs ddd meters, and B runs d−84d - 84d−84 meters.\n",
        "•\tThe speed ratio is 74\\frac{7}{4}47, so dd−84=74\\frac{d}{d - 84} = \\frac{7}{4}d−84d=47.\n",
        "•\tSolving for ddd: 4d=7(d−84)4d = 7(d - 84)4d=7(d−84) 4d=7d−5884d = 7d - 5884d=7d−588 3d=588  ⟹  d=196 m.3d = 588 \\implies d = 196 \\, \\text{m}.3d=588⟹d=196m.\n",
        "Answer: a) 196 m"
      ],
      "metadata": {
        "id": "vdQPd-fTen0G"
      },
      "execution_count": null,
      "outputs": []
    },
    {
      "cell_type": "code",
      "source": [
        "17. A can run one full round of a circular track in 6 min and B in 15 min. If both A and B start simultaneously from the same starting point, how many times would they meet in the time B has completed 10 rounds, running in the same and opposite direction?\n",
        "•\tSame direction:\n",
        "o\tA’s speed = 16 rounds/min\\frac{1}{6} \\, \\text{rounds/min}61rounds/min\n",
        "o\tB’s speed = 115 rounds/min\\frac{1}{15} \\, \\text{rounds/min}151rounds/min\n",
        "o\tRelative speed = 16−115=5−230=330=110 rounds/min\\frac{1}{6} - \\frac{1}{15} = \\frac{5 - 2}{30} = \\frac{3}{30} = \\frac{1}{10} \\, \\text{rounds/min}61−151=305−2=303=101rounds/min\n",
        "o\tTime for B to complete 10 rounds = 10×15=150 min10 \\times 15 = 150 \\, \\text{min}10×15=150min.\n",
        "o\tNumber of meetings = 15010=15\\frac{150}{10} = 1510150=15 times.\n",
        "•\tOpposite direction:\n",
        "o\tRelative speed = 16+115=5+230=730 rounds/min\\frac{1}{6} + \\frac{1}{15} = \\frac{5 + 2}{30} = \\frac{7}{30} \\, \\text{rounds/min}61+151=305+2=307rounds/min\n",
        "o\tNumber of meetings = 150×730=35150 \\times \\frac{7}{30} = 35150×307=35 times.\n",
        "Answer: c) 25 & 35"
      ],
      "metadata": {
        "id": "IrmXeP7pen3a"
      },
      "execution_count": null,
      "outputs": []
    },
    {
      "cell_type": "code",
      "source": [
        "18. Bhim and Arjun were exercising on a circular track. Bhim takes 4 min to complete one round, and Arjun takes 7 min. When will they meet for the first time at the starting point?\n",
        "•\tThe first meeting time is the least common multiple (LCM) of their times per round: LCM(4,7)=28 minutes.\\text{LCM}(4, 7) = 28 \\, \\text{minutes}.LCM(4,7)=28minutes.\n",
        "Answer: b) 28 min"
      ],
      "metadata": {
        "id": "M9avqPrDen6G"
      },
      "execution_count": null,
      "outputs": []
    },
    {
      "cell_type": "code",
      "source": [
        "Clock Problems:"
      ],
      "metadata": {
        "id": "II4kDnpUen9H"
      },
      "execution_count": null,
      "outputs": []
    },
    {
      "cell_type": "code",
      "source": [
        "1. How many times do the hands of a clock coincide in a day?\n",
        "•\tThe hands of a clock coincide 11 times in 12 hours.\n",
        "•\tTherefore, in 24 hours, they coincide 11×2=2211 \\times 2 = 2211×2=22 times.\n",
        "Answer: a) 22"
      ],
      "metadata": {
        "id": "iHJKdh84en_4"
      },
      "execution_count": null,
      "outputs": []
    },
    {
      "cell_type": "code",
      "source": [
        "2. Through how many degrees will the hour hand rotate when the clock shows 2 o’clock in the afternoon, starting from 8 o’clock in the morning?\n",
        "•\tEach hour, the hour hand moves 30°.\n",
        "•\tFrom 8:00 AM to 2:00 PM is 6 hours.\n",
        "•\tAngle =6×30=180∘= 6 \\times 30 = 180^\\circ=6×30=180∘.\n",
        "Answer: d) 180°"
      ],
      "metadata": {
        "id": "tAqxyUqMeoDA"
      },
      "execution_count": null,
      "outputs": []
    },
    {
      "cell_type": "code",
      "source": [
        "3. A clock is started at noon. By 10 minutes past 5, the hour hand has turned through:\n",
        "•\tEach hour, the hour hand moves 30°.\n",
        "•\tFrom 12:00 to 5:00 is 5 hours, so 5×30=150∘5 \\times 30 = 150^\\circ5×30=150∘.\n",
        "•\tIn 10 minutes, the hour hand moves 3060×10=5∘\\frac{30}{60} \\times 10 = 5^\\circ6030×10=5∘.\n",
        "•\tTotal angle = 150+5=155∘150 + 5 = 155^\\circ150+5=155∘.\n",
        "Answer: c) 155°"
      ],
      "metadata": {
        "id": "SWH9AP9-eoFq"
      },
      "execution_count": null,
      "outputs": []
    },
    {
      "cell_type": "code",
      "source": [
        "4. The angle between the minute hand and the hour hand of a clock at 8:30 is:\n",
        "•\tAt 8:00, the hour hand is at 8×30=240∘8 \\times 30 = 240^\\circ8×30=240∘.\n",
        "•\tAt 8:30, the hour hand moves an additional 302=15∘\\frac{30}{2} = 15^\\circ230=15∘, so it’s at 240+15=255∘240 + 15 = 255^\\circ240+15=255∘.\n",
        "•\tThe minute hand is at 30×6=180∘30 \\times 6 = 180^\\circ30×6=180∘.\n",
        "•\tThe angle between them = 255−180=75∘255 - 180 = 75^\\circ255−180=75∘.\n",
        "Answer: c) 75°"
      ],
      "metadata": {
        "id": "ysbtdd4ZeoIc"
      },
      "execution_count": null,
      "outputs": []
    },
    {
      "cell_type": "code",
      "source": [
        "5. A watch gains 5 seconds in 3 minutes. Set at 7 AM, when the watch shows 4:15 PM, what is the true time?\n",
        "•\tFrom 7:00 AM to 4:15 PM is 9 hours and 15 minutes, or 555 minutes.\n",
        "•\tThe watch gains 53×555=925 seconds\\frac{5}{3} \\times 555 = 925 \\, \\text{seconds}35×555=925seconds, or approximately 15.42 minutes.\n",
        "•\tThe true time is 4:15−15.42≈4:00 PM4:15 - 15.42 \\approx 4:00 \\, \\text{PM}4:15−15.42≈4:00PM.\n",
        "Answer: a) 4 PM"
      ],
      "metadata": {
        "id": "1FKCDOG2eoOq"
      },
      "execution_count": null,
      "outputs": []
    },
    {
      "cell_type": "code",
      "source": [
        "6. A watch is 2 minutes slow at noon on Monday and 4 minutes 48 seconds fast at 2 PM the following Monday. When was it correct?\n",
        "•\tTotal time difference = 2 minutes+4 minutes48 seconds=6 minutes48 seconds2 \\, \\text{minutes} + 4 \\, \\text{minutes} 48 \\, \\text{seconds} = 6 \\, \\text{minutes} 48 \\, \\text{seconds}2minutes+4minutes48seconds=6minutes48seconds.\n",
        "•\tTotal time interval = 7 days + 2 hours = 170 hours.\n",
        "•\tThe watch gains 6 min48 sec2=3 min24 sec\\frac{6 \\, \\text{min} 48 \\, \\text{sec}}{2} = 3 \\, \\text{min} 24 \\, \\text{sec}26min48sec=3min24sec halfway through, which is 858585 hours from noon Monday, making it correct at 1 PM on Friday.\n",
        "Answer: d) 1 PM on Friday"
      ],
      "metadata": {
        "id": "gPkxYRv4eoRh"
      },
      "execution_count": null,
      "outputs": []
    },
    {
      "cell_type": "code",
      "source": [
        "7. After how many minutes past 7 will the hands of a clock be in the same straight line but not together?\n",
        "•\tThe angle between the hands at 7:00 is 210∘210^\\circ210∘.\n",
        "•\tTo be in a straight line, the angle must be 180∘180^\\circ180∘.\n",
        "•\tThe minute hand moves 6° per minute, and the hour hand moves 0.5∘0.5^\\circ0.5∘ per minute.\n",
        "•\tThe equation to solve is ∣210−180∣=5.5×t|210 - 180| = 5.5 \\times t∣210−180∣=5.5×t, where ttt is the time after 7:00. Solving gives t=305.5=5511t = \\frac{30}{5.5} = 5 \\frac{5}{11}t=5.530=5115.\n",
        "Answer: d) 5 5/11 mins"
      ],
      "metadata": {
        "id": "wST5wlWFeoT-"
      },
      "execution_count": null,
      "outputs": []
    },
    {
      "cell_type": "code",
      "source": [
        "8. How many times are the two hands of a clock at a right angle in a day?\n",
        "•\tThe hands of a clock form a right angle 22 times in 12 hours.\n",
        "•\tTherefore, in 24 hours, they form a right angle 22×2=4422 \\times 2 = 4422×2=44 times.\n",
        "Answer: c) 44"
      ],
      "metadata": {
        "id": "qr6RqqHNeoW-"
      },
      "execution_count": null,
      "outputs": []
    },
    {
      "cell_type": "code",
      "source": [
        "Simple Interest Problems:"
      ],
      "metadata": {
        "id": "iGtsOb2JeoZn"
      },
      "execution_count": null,
      "outputs": []
    },
    {
      "cell_type": "code",
      "source": [
        "1. What is the present worth of Rs. 132 due in 2 years at 5% simple interest per annum?\n",
        "•\tFormula for present worth: Present Worth=Amount1+(Rate×Time100)\\text{Present Worth} = \\frac{\\text{Amount}}{1 + \\left(\\frac{\\text{Rate} \\times \\text{Time}}{100}\\right)}Present Worth=1+(100Rate×Time)Amount =1321+(5×2100)=1321.1=120= \\frac{132}{1 + \\left(\\frac{5 \\times 2}{100}\\right)} = \\frac{132}{1.1} = 120=1+(1005×2)132=1.1132=120\n",
        "Answer: b) 120"
      ],
      "metadata": {
        "id": "Ui0_WhM0eocu"
      },
      "execution_count": null,
      "outputs": []
    },
    {
      "cell_type": "code",
      "source": [
        "2. Reema took a loan of Rs 1200 with simple interest for as many years as the rate of interest. She paid Rs 432 as interest at the end of the loan period. What was the rate of interest?\n",
        "•\tLet the rate = rrr and time = rrr.\n",
        "•\tSimple interest formula: SI=P×r×r100SI = \\frac{P \\times r \\times r}{100}SI=100P×r×r 432=1200×r2100432 = \\frac{1200 \\times r^2}{100}432=1001200×r2 432=12r2  ⟹  r2=36  ⟹  r=6%432 = 12r^2 \\implies r^2 = 36 \\implies r = 6\\%432=12r2⟹r2=36⟹r=6%\n",
        "Answer: b) 6%"
      ],
      "metadata": {
        "id": "4zeXOozfeofr"
      },
      "execution_count": null,
      "outputs": []
    },
    {
      "cell_type": "code",
      "source": [
        "3. The simple interest on a certain sum at the rate of 5% p.a. for 8 years is Rs. 840. At what rate will the same amount of interest be received on the same sum after 5 years?\n",
        "•\tLet the principal be PPP. 840=P×5×8100  ⟹  P=2100840 = \\frac{P \\times 5 \\times 8}{100} \\implies P = 2100840=100P×5×8⟹P=2100\n",
        "•\tFor 5 years, 840=2100×r×5100  ⟹  r=8%840 = \\frac{2100 \\times r \\times 5}{100} \\implies r = 8\\%840=1002100×r×5⟹r=8%\n",
        "Answer: d) 8%"
      ],
      "metadata": {
        "id": "tOhawYZ9eoig"
      },
      "execution_count": null,
      "outputs": []
    },
    {
      "cell_type": "code",
      "source": [
        "4. A sum of money at simple interest amounts to Rs. 2240 in 2 years and Rs. 2600 in 5 years. What is the principal amount?\n",
        "•\tInterest for 3 years = 2600−2240=3602600 - 2240 = 3602600−2240=360\n",
        "•\tSo, interest for 2 years = 3603×2=240\\frac{360}{3} \\times 2 = 2403360×2=240\n",
        "•\tPrincipal = 2240−240=20002240 - 240 = 20002240−240=2000\n",
        "Answer: c) 2000"
      ],
      "metadata": {
        "id": "c8L1siwyeolH"
      },
      "execution_count": null,
      "outputs": []
    },
    {
      "cell_type": "code",
      "source": [
        "5. At what rate percent per annum will the simple interest on a sum of money be 25\\frac{2}{5}52 of the amount in 10 years?\n",
        "•\tLet the rate be rrr. SIP=25  ⟹  P×r×10100×P=25\\frac{SI}{P} = \\frac{2}{5} \\implies \\frac{P \\times r \\times 10}{100 \\times P} = \\frac{2}{5}PSI=52⟹100×PP×r×10=52 r10=25  ⟹  r=4%\\frac{r}{10} = \\frac{2}{5} \\implies r = 4\\%10r=52⟹r=4%\n",
        "Answer: b) 2%"
      ],
      "metadata": {
        "id": "Pf0ztWoQeooE"
      },
      "execution_count": null,
      "outputs": []
    },
    {
      "cell_type": "code",
      "source": [
        "6. Rs. 800 becomes Rs. 956 in 3 years at a certain rate of simple interest. If the rate of interest is increased by 4%, what amount will Rs. 800 become in 3 years?\n",
        "•\tFirst calculate the interest: SI=956−800=156  ⟹  156=800×r×3100  ⟹  r=6.5%SI = 956 - 800 = 156 \\implies 156 = \\frac{800 \\times r \\times 3}{100} \\implies r = 6.5\\%SI=956−800=156⟹156=100800×r×3⟹r=6.5%\n",
        "•\tNew rate =6.5+4=10.5%= 6.5 + 4 = 10.5\\%=6.5+4=10.5% New SI=800×10.5×3100=252\\text{New SI} = \\frac{800 \\times 10.5 \\times 3}{100} = 252New SI=100800×10.5×3=252 New Amount=800+252=1052\\text{New Amount} = 800 + 252 = 1052New Amount=800+252=1052\n",
        "Answer: a) Rs 1052"
      ],
      "metadata": {
        "id": "X-KBNwcseorD"
      },
      "execution_count": null,
      "outputs": []
    },
    {
      "cell_type": "code",
      "source": [
        "7. In how many years will Rs. 150 produce the same interest at 8% as Rs. 800 produces in 3 years at 9/2%?\n",
        "•\tInterest on Rs. 800: SI=800×4.5×3100=108SI = \\frac{800 \\times 4.5 \\times 3}{100} = 108SI=100800×4.5×3=108\n",
        "•\tNow, for Rs. 150 at 8%: 108=150×8×t100  ⟹  t=9 years108 = \\frac{150 \\times 8 \\times t}{100} \\implies t = 9 \\, \\text{years}108=100150×8×t⟹t=9years\n",
        "Answer: b) 9"
      ],
      "metadata": {
        "id": "2jGmwjiHeow-"
      },
      "execution_count": null,
      "outputs": []
    },
    {
      "cell_type": "code",
      "source": [
        "8. A financier claims to be lending money at simple interest, but he includes the interest every six months for calculating the principal. If he charges 10% per annum, the effective rate of interest becomes:\n",
        "•\tThis is a case of compound interest calculated semi-annually: Effective Rate=(1+r2×100)2−1=(1+10200)2−1\\text{Effective Rate} = \\left(1 + \\frac{r}{2 \\times 100}\\right)^2 - 1 = \\left(1 + \\frac{10}{200}\\right)^2 - 1Effective Rate=(1+2×100r)2−1=(1+20010)2−1 =(1.05)2−1=0.1025=10.25%= \\left(1.05\\right)^2 - 1 = 0.1025 = 10.25\\%=(1.05)2−1=0.1025=10.25%\n",
        "Answer: a) 10.25%"
      ],
      "metadata": {
        "id": "_HbgxVoDeo0D"
      },
      "execution_count": null,
      "outputs": []
    },
    {
      "cell_type": "code",
      "source": [
        "9. A sum of money amounts to Rs 9800 after 5 years and Rs 12005 after 8 years at the same rate of simple interest. The rate of interest per annum is:\n",
        "•\tInterest for 3 years = 12005−9800=220512005 - 9800 = 220512005−9800=2205\n",
        "•\tInterest for 1 year = 22053=735\\frac{2205}{3} = 73532205=735\n",
        "•\tTotal principal = 9800−(735×5)=61259800 - (735 \\times 5) = 61259800−(735×5)=6125\n",
        "•\tRate of interest: 735=6125×r×1100  ⟹  r=12%735 = \\frac{6125 \\times r \\times 1}{100} \\implies r = 12\\%735=1006125×r×1⟹r=12%\n",
        "Answer: d) 12%"
      ],
      "metadata": {
        "id": "zKuRrrCtckgm"
      },
      "execution_count": null,
      "outputs": []
    },
    {
      "cell_type": "code",
      "source": [
        "10. A lent Rs. 5000 to B for 2 years and Rs. 3000 to C for 4 years on simple interest at the same rate of interest and received Rs. 2200 in all from both as interest. What is the rate of interest per annum?\n",
        "•\tInterest from B: SI=5000×r×2100=100rSI = \\frac{5000 \\times r \\times 2}{100} = 100rSI=1005000×r×2=100r\n",
        "•\tInterest from C: SI=3000×r×4100=120rSI = \\frac{3000 \\times r \\times 4}{100} = 120rSI=1003000×r×4=120r Total 100r+120r=220r=2200  ⟹  r=10%100r + 120r = 220r = 2200 \\implies r = 10\\%100r+120r=220r=2200⟹r=10%\n",
        "Answer: b) 10%"
      ],
      "metadata": {
        "id": "CZPTfHvXckjg"
      },
      "execution_count": null,
      "outputs": []
    },
    {
      "cell_type": "code",
      "source": [
        "Compound Interest Problems:"
      ],
      "metadata": {
        "id": "ffX8vrNDh--A"
      },
      "execution_count": null,
      "outputs": []
    },
    {
      "cell_type": "code",
      "source": [
        "1. A bank offers 5% compound interest calculated on a half-yearly basis. A customer deposits Rs. 1600 on 1st January and 1st July of a year. At the end of the year, the amount of interest is:\n",
        "•\tFor the first deposit, A1=1600×(1+5200)2=1600×1.052=1764A_1 = 1600 \\times \\left(1 + \\frac{5}{200}\\right)^2 = 1600 \\times 1.05^2 = 1764A1=1600×(1+2005)2=1600×1.052=1764 A2=1600×1.05=1680A_2 = 1600 \\times 1.05 = 1680A2=1600×1.05=1680 Total interest =(1764−1600)+(1680−1600)=164+80=244= (1764 - 1600) + (1680 - 1600) = 164 + 80 = 244=(1764−1600)+(1680−1600)=164+80=244\n",
        "Answer: b)Rs. 121"
      ],
      "metadata": {
        "id": "sadW6vJOh_BY"
      },
      "execution_count": null,
      "outputs": []
    },
    {
      "cell_type": "code",
      "source": [
        "2. The difference between simple and compound interests compounded annually on a certain sum for 2 years at 4% per annum is Re. 1. What is the sum?\n",
        "•\tDifference formula: Difference=P×(r100)2\\text{Difference} = P \\times \\left(\\frac{r}{100}\\right)^2Difference=P×(100r)2 Substituting the values: 1=P×(4100)2=P×16100001 = P \\times \\left(\\frac{4}{100}\\right)^2 = P \\times \\frac{16}{10000}1=P×(1004)2=P×1000016 P=1×1000016=625P = \\frac{1 \\times 10000}{16} = 625P=161×10000=625\n",
        "Answer: a) Rs. 625"
      ],
      "metadata": {
        "id": "ict0cQVIh_Eq"
      },
      "execution_count": null,
      "outputs": []
    },
    {
      "cell_type": "code",
      "source": [
        "3. There is a 60% increase in an amount in 6 years at simple interest. What will be the compound interest on Rs. 12,000 after 3 years at the same rate?\n",
        "•\tFor simple interest: Increase=60%  ⟹  P×r×6100=0.6P  ⟹  r=10%\\text{Increase} = 60\\% \\implies \\frac{P \\times r \\times 6}{100} = 0.6P \\implies r = 10\\%Increase=60%⟹100P×r×6=0.6P⟹r=10%\n",
        "•\tFor compound interest: A=P×(1+r100)t=12000×(1+10100)3=12000×1.331=15972A = P \\times \\left(1 + \\frac{r}{100}\\right)^t = 12000 \\times \\left(1 + \\frac{10}{100}\\right)^3 = 12000 \\times 1.331 = 15972A=P×(1+100r)t=12000×(1+10010)3=12000×1.331=15972 CI=15972−12000=3972\\text{CI} = 15972 - 12000 = 3972CI=15972−12000=3972\n",
        "Answer: c) Rs. 3972"
      ],
      "metadata": {
        "id": "fECNUg5yh_HK"
      },
      "execution_count": null,
      "outputs": []
    },
    {
      "cell_type": "code",
      "source": [
        "4. What is the difference between the compound interests on Rs. 5000 for 1 year at 4% per annum compounded yearly and half-yearly?\n",
        "•\tYearly: A1=5000×(1+4100)=5000×1.04=5200A_1 = 5000 \\times \\left(1 + \\frac{4}{100}\\right) = 5000 \\times 1.04 = 5200A1=5000×(1+1004)=5000×1.04=5200 CI1=5200−5000=200CI_1 = 5200 - 5000 = 200CI1=5200−5000=200\n",
        "•\tHalf-yearly: A2=5000×(1+4200)2=5000×1.022=5000×1.0404=5202A_2 = 5000 \\times \\left(1 + \\frac{4}{200}\\right)^2 = 5000 \\times 1.02^2 = 5000 \\times 1.0404 = 5202A2=5000×(1+2004)2=5000×1.022=5000×1.0404=5202 CI2=5202−5000=202CI_2 = 5202 - 5000 = 202CI2=5202−5000=202 Difference: 202−200=2202 - 200 = 2202−200=2\n",
        "Answer: b) Rs. 2.00"
      ],
      "metadata": {
        "id": "Mvc_0BQPh_J-"
      },
      "execution_count": null,
      "outputs": []
    },
    {
      "cell_type": "code",
      "source": [
        "5. The compound interest on Rs. 30,000 at 7% per annum is Rs. 4347. The period (in years) is:\n",
        "•\tCompound interest formula: A=P×(1+r100)t  ⟹  34347=30000×(1+7100)tA = P \\times \\left(1 + \\frac{r}{100}\\right)^t \\implies 34347 = 30000 \\times \\left(1 + \\frac{7}{100}\\right)^tA=P×(1+100r)t⟹34347=30000×(1+1007)t Solving: 3434730000=1.1449=(1.07)t\\frac{34347}{30000} = 1.1449 = \\left(1.07\\right)^t3000034347=1.1449=(1.07)t By trial and error, t=2t = 2t=2.\n",
        "Answer: a) 2 years"
      ],
      "metadata": {
        "id": "9RAMJAvjh_Mz"
      },
      "execution_count": null,
      "outputs": []
    },
    {
      "cell_type": "code",
      "source": [
        "6. What will be the compound interest on Rs. 25,000 after 3 years at the rate of 12% per annum?\n",
        "•\tCompound interest formula: A=P×(1+r100)t=25000×(1+12100)3A = P \\times \\left(1 + \\frac{r}{100}\\right)^t = 25000 \\times \\left(1 + \\frac{12}{100}\\right)^3A=P×(1+100r)t=25000×(1+10012)3 A=25000×1.123=25000×1.4049=35122.5A = 25000 \\times 1.12^3 = 25000 \\times 1.4049 = 35122.5A=25000×1.123=25000×1.4049=35122.5 CI=35122.5−25000=10122.5CI = 35122.5 - 25000 = 10122.5CI=35122.5−25000=10122.5\n",
        "Answer: c) Rs. 10123.2"
      ],
      "metadata": {
        "id": "rzKy80I_h_Ps"
      },
      "execution_count": null,
      "outputs": []
    },
    {
      "cell_type": "code",
      "source": [
        "7. At what rate of compound interest per annum will a sum of Rs. 1200 become Rs. 1348.32 in 2 years?\n",
        "•\tCompound interest formula: A=P×(1+r100)t  ⟹  1348.32=1200×(1+r100)2A = P \\times \\left(1 + \\frac{r}{100}\\right)^t \\implies 1348.32 = 1200 \\times \\left(1 + \\frac{r}{100}\\right)^2A=P×(1+100r)t⟹1348.32=1200×(1+100r)2 1348.321200=1.1236=(1+r100)2\\frac{1348.32}{1200} = 1.1236 = \\left(1 + \\frac{r}{100}\\right)^212001348.32=1.1236=(1+100r)2 Taking square root: 1+r100=1.06  ⟹  r=6%1 + \\frac{r}{100} = 1.06 \\implies r = 6\\%1+100r=1.06⟹r=6%\n",
        "Answer: a) 6%"
      ],
      "metadata": {
        "id": "51obWw9gh_Sw"
      },
      "execution_count": null,
      "outputs": []
    },
    {
      "cell_type": "code",
      "source": [
        "8. The least number of complete years in which a sum of money put out at 20% compound interest will be more than doubled is:\n",
        "•\tCompound interest formula: A=P×(1+r100)t  ⟹  2P=P×(1+20100)tA = P \\times \\left(1 + \\frac{r}{100}\\right)^t \\implies 2P = P \\times \\left(1 + \\frac{20}{100}\\right)^tA=P×(1+100r)t⟹2P=P×(1+10020)t 2=1.2t2 = 1.2^t2=1.2t By trial and error, t=4t = 4t=4.\n",
        "Answer: b) 4"
      ],
      "metadata": {
        "id": "4jNCT95Rh_Vq"
      },
      "execution_count": null,
      "outputs": []
    },
    {
      "cell_type": "code",
      "source": [
        "9. Albert invested Rs. 8000 in a fixed deposit scheme for 2 years at 5% compound interest per annum. How much will he get on maturity?\n",
        "•\tCompound interest formula: A=8000×(1+5100)2=8000×1.1025=8820A = 8000 \\times \\left(1 + \\frac{5}{100}\\right)^2 = 8000 \\times 1.1025 = 8820A=8000×(1+1005)2=8000×1.1025=8820\n",
        "Answer: c) Rs. 8820"
      ],
      "metadata": {
        "id": "z4pJZ8wCh_Yl"
      },
      "execution_count": null,
      "outputs": []
    },
    {
      "cell_type": "code",
      "source": [
        "10. The effective annual rate of interest corresponding to a nominal rate of 6% per annum payable half-yearly is:\n",
        "•\tEffective annual rate formula: Effective rate=(1+r2×100)2−1\\text{Effective rate} = \\left(1 + \\frac{r}{2 \\times 100}\\right)^2 - 1Effective rate=(1+2×100r)2−1 =(1+6200)2−1=(1.03)2−1=0.0609=6.09%= \\left(1 + \\frac{6}{200}\\right)^2 - 1 = \\left(1.03\\right)^2 - 1 = 0.0609 = 6.09\\%=(1+2006)2−1=(1.03)2−1=0.0609=6.09%\n",
        "Answer: d) 6.09%"
      ],
      "metadata": {
        "id": "2aA62krah_bW"
      },
      "execution_count": null,
      "outputs": []
    },
    {
      "cell_type": "code",
      "source": [
        "11. Simple interest on a certain sum for 3 years at 8% p.a. is half the compound interest on Rs. 4000 for 2 years at 10% p.a. The sum placed on simple interest is:\n",
        "•\tFirst, find compound interest: A=4000×(1+10100)2=4000×1.21=4840A = 4000 \\times \\left(1 + \\frac{10}{100}\\right)^2 = 4000 \\times 1.21 = 4840A=4000×(1+10010)2=4000×1.21=4840 CI=4840−4000=840CI = 4840 - 4000 = 840CI=4840−4000=840 SI is half of 840, so SI = 420 for 3 years at 8%: 420=P×8×3100  ⟹  P=1750420 = \\frac{P \\times 8 \\times 3}{100} \\implies P = 1750420=100P×8×3⟹P=1750\n",
        "Answer: c) Rs. 1750"
      ],
      "metadata": {
        "id": "UkAwhtbLh_eT"
      },
      "execution_count": null,
      "outputs": []
    },
    {
      "cell_type": "code",
      "source": [
        "12. If the simple interest on a sum for 2 years at 5% p.a. is Rs. 50, what is the compound interest on the same at the same rate for the same time?\n",
        "•\tSimple interest formula: SI=P×r×t100  ⟹  50=P×5×2100  ⟹  P=500SI = \\frac{P \\times r \\times t}{100} \\implies 50 = \\frac{P \\times 5 \\times 2}{100} \\implies P = 500SI=100P×r×t⟹50=100P×5×2⟹P=500\n",
        "•\tCompound interest formula: A=500×(1+5100)2=500×1.1025=551.25A = 500 \\times \\left(1 + \\frac{5}{100}\\right)^2 = 500 \\times 1.1025 = 551.25A=500×(1+1005)2=500×1.1025=551.25 CI=551.25−500=51.25CI = 551.25 - 500 = 51.25CI=551.25−500=51.25\n",
        "Answer: a) Rs. 51.25"
      ],
      "metadata": {
        "id": "33hSldUvh_j0"
      },
      "execution_count": null,
      "outputs": []
    },
    {
      "cell_type": "code",
      "source": [
        "13. The difference between simple interest and compound interest on Rs. 1200 for one year at 10% p.a. reckoned half-yearly is:\n",
        "•\tCompound interest (half-yearly): A=1200×(1+10200)2=1200×1.1025=1323A = 1200 \\times \\left(1 + \\frac{10}{200}\\right)^2 = 1200 \\times 1.1025 = 1323A=1200×(1+20010)2=1200×1.1025=1323 CI=1323−1200=123CI = 1323 - 1200 = 123CI=1323−1200=123\n",
        "•\tSimple interest: SI=1200×10×1100=120SI = \\frac{1200 \\times 10 \\times 1}{100} = 120SI=1001200×10×1=120 Difference: 123−120=3123 - 120 = 3123−120=3\n",
        "Answer: b) Rs. 3"
      ],
      "metadata": {
        "id": "xmRxKPANh_na"
      },
      "execution_count": null,
      "outputs": []
    },
    {
      "cell_type": "code",
      "source": [
        "14. The difference between compound interest and simple interest on Rs. 15,000 for 2 years is Rs. 96. What is the rate of interest per annum?\n",
        "•\tUsing the difference formula: Difference=P×(r100)2=96\\text{Difference} = P \\times \\left(\\frac{r}{100}\\right)^2 = 96Difference=P×(100r)2=96 96=15000×r210000  ⟹  r2=96×1000015000=64  ⟹  r=8%96 = 15000 \\times \\frac{r^2}{10000} \\implies r^2 = \\frac{96 \\times 10000}{15000} = 64 \\implies r = 8\\%96=15000×10000r2⟹r2=1500096×10000=64⟹r=8%\n",
        "Answer: a) 8%"
      ],
      "metadata": {
        "id": "qevBBnpjh_qJ"
      },
      "execution_count": null,
      "outputs": []
    },
    {
      "cell_type": "code",
      "source": [
        "15. The compound interest on a certain sum for 2 years at 10% p.a. is Rs. 525. The simple interest on the same sum for double the time at half the rate percent per annum is:\n",
        "•\tLet the principal be PPP. 525=P×(1+10100)2−P=P×0.21  ⟹  P=2500525 = P \\times \\left(1 + \\frac{10}{100}\\right)^2 - P = P \\times 0.21 \\implies P = 2500525=P×(1+10010)2−P=P×0.21⟹P=2500\n",
        "•\tSimple interest for 4 years at 5%: SI=2500×5×4100=500SI = \\frac{2500 \\times 5 \\times 4}{100} = 500SI=1002500×5×4=500\n",
        "Answer: b) Rs. 500"
      ],
      "metadata": {
        "id": "xedwcaySh_s7"
      },
      "execution_count": null,
      "outputs": []
    }
  ]
}