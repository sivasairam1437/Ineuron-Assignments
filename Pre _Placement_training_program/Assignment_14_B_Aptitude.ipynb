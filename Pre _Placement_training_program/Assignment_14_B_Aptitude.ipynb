{
  "nbformat": 4,
  "nbformat_minor": 0,
  "metadata": {
    "colab": {
      "provenance": []
    },
    "kernelspec": {
      "name": "python3",
      "display_name": "Python 3"
    },
    "language_info": {
      "name": "python"
    }
  },
  "cells": [
    {
      "cell_type": "code",
      "source": [
        "Number Series"
      ],
      "metadata": {
        "id": "immnXcKxGLQK"
      },
      "execution_count": null,
      "outputs": []
    },
    {
      "cell_type": "code",
      "execution_count": null,
      "metadata": {
        "id": "4rQO8S5hGHEr"
      },
      "outputs": [],
      "source": [
        "Replace the ‘?’ mark with the term which can be logically related to the series:\n",
        "1) 165,  195,  255,  285,  345,  ?\n",
        "a) 375  b) 390  c) 420  d) 43\n",
        "The pattern alternates between adding 30 and 60:\n",
        "•\t165 + 30 = 195\n",
        "•\t195 + 60 = 255\n",
        "•\t255 + 30 = 285\n",
        "•\t285 + 60 = 345\n",
        "Therefore, the next number is:\n",
        "345 + 30 = 375\n",
        "Answer: a) 375"
      ]
    },
    {
      "cell_type": "code",
      "source": [
        "2) 1,  2,  3,  6,  9,  18,  ?,  54\n",
        "a) 18  b) 27  c) 36  d) 24\n",
        "The pattern alternates between adding and multiplying:\n",
        "•\t1 + 1 = 2\n",
        "•\t2 + 1 = 3\n",
        "•\t3 × 2 = 6\n",
        "•\t6 + 3 = 9\n",
        "•\t9 × 2 = 18\n",
        "Next:\n",
        "18 + 3 = 27\n",
        "Answer: b) 27"
      ],
      "metadata": {
        "id": "b9LvSZ3UGVDP"
      },
      "execution_count": null,
      "outputs": []
    },
    {
      "cell_type": "code",
      "source": [
        "3) 1,  2,  6,  7,  21,  22,  66,  67,  ?\n",
        "a) 70  b) 134  c) 201  d) 301\n",
        "The pattern alternates between multiplying by 3 and adding 1:\n",
        "•\t1 × 3 = 3 → but adding 1 gives 2\n",
        "•\t2 × 3 = 6\n",
        "•\t6 + 1 = 7\n",
        "•\t7 × 3 = 21\n",
        "•\t21 + 1 = 22\n",
        "•\t22 × 3 = 66\n",
        "•\t66 + 1 = 67\n",
        "Therefore, the next number is:\n",
        "67 × 3 = 201\n",
        "Answer: c) 201"
      ],
      "metadata": {
        "id": "tJPp6KIsGVKT"
      },
      "execution_count": null,
      "outputs": []
    },
    {
      "cell_type": "code",
      "source": [
        "4) 5,  6,  9,  15,  25,  ?\n",
        "a) 36  b) 40  c) 37  d) 42\n",
        "Each term is the sum of the previous two terms:\n",
        "•\t5 + 6 = 11\n",
        "•\t6 + 9 = 15\n",
        "•\t9 + 15 = 24\n",
        "•\t15 + 25 = 40\n",
        "Therefore, the next number is:\n",
        "Answer: b) 40"
      ],
      "metadata": {
        "id": "vjNmJgZjGVOL"
      },
      "execution_count": null,
      "outputs": []
    },
    {
      "cell_type": "code",
      "source": [
        "5) 4,  9,  25,  ?,  121,  169\n",
        "a) 49  b) 64  c) 81  d) 36\n",
        "These are squares of prime numbers:\n",
        "•\t22=42^2 = 422=4\n",
        "•\t32=93^2 = 932=9\n",
        "•\t52=255^2 = 2552=25\n",
        "•\tNext: 72=497^2 = 4972=49\n",
        "•\t112=12111^2 = 121112=121\n",
        "•\t132=16913^2 = 169132=169\n",
        "Therefore, the missing number is:\n",
        "Answer: a) 49"
      ],
      "metadata": {
        "id": "fOd8A70YGVRe"
      },
      "execution_count": null,
      "outputs": []
    },
    {
      "cell_type": "code",
      "source": [
        "6) 1,  1,  4,  8,  9,  27,  16,  ?\n",
        "a) 32  b) 81  c) 256  d) 64\n",
        "The pattern alternates between powers of integers:\n",
        "•\t11=11^1 = 111=1\n",
        "•\t12=11^2 = 112=1\n",
        "•\t22=42^2 = 422=4\n",
        "•\t23=82^3 = 823=8\n",
        "•\t32=93^2 = 932=9\n",
        "•\t33=273^3 = 2733=27\n",
        "•\t42=164^2 = 1642=16\n",
        "Next:\n",
        "43=644^3 = 6443=64\n",
        "Answer: d) 64"
      ],
      "metadata": {
        "id": "Nm3nsYacGVUi"
      },
      "execution_count": null,
      "outputs": []
    },
    {
      "cell_type": "code",
      "source": [
        "7) 0.5,  0.55,  0.65,  0.8,  ?\n",
        "a) 0.9  b) 1.05  c) 1  d) 0.95\n",
        "The pattern adds increasing increments:\n",
        "•\t0.5+0.05=0.550.5 + 0.05 = 0.550.5+0.05=0.55\n",
        "•\t0.55+0.10=0.650.55 + 0.10 = 0.650.55+0.10=0.65\n",
        "•\t0.65+0.15=0.800.65 + 0.15 = 0.800.65+0.15=0.80\n",
        "Next:\n",
        "0.80+0.20=1.000.80 + 0.20 = 1.000.80+0.20=1.00\n",
        "Answer: c) 1"
      ],
      "metadata": {
        "id": "MdDL-kjVGVX3"
      },
      "execution_count": null,
      "outputs": []
    },
    {
      "cell_type": "code",
      "source": [
        "8) 563,  647,  479,  815,  ?\n",
        "a) 672  b) 386  c) 279  d) 143\n",
        "The pattern alternates between increasing and decreasing:\n",
        "•\t563+84=647563 + 84 = 647563+84=647\n",
        "•\t647−168=479647 - 168 = 479647−168=479\n",
        "•\t479+336=815479 + 336 = 815479+336=815\n",
        "Next:\n",
        "815−672=143815 - 672 = 143815−672=143\n",
        "Answer: d) 143"
      ],
      "metadata": {
        "id": "8ZaGpobvHF_y"
      },
      "execution_count": null,
      "outputs": []
    },
    {
      "cell_type": "code",
      "source": [
        "9) 2,  7,  9,  3,  8,  11,  4,  9,  13,  ?,  10,  15\n",
        "a) 5  b) 14  c) 15  d) 8\n",
        "The pattern alternates between two different series:\n",
        "•\t2, 9, 8, 4, 13, 10 → adding 1, subtracting 1 alternately\n",
        "•\t7, 3, 11, 9, ?, 15 → adding 4\n",
        "Next:\n",
        "9 + 4 = 14\n",
        "Answer: b) 14"
      ],
      "metadata": {
        "id": "sJ8g-fmDHGDj"
      },
      "execution_count": null,
      "outputs": []
    },
    {
      "cell_type": "code",
      "source": [
        "10) 2,  8,  16,  128,  ?\n",
        "a) 512  b) 1024  c) 2048  d) 4096\n",
        "The pattern multiplies by powers of 2:\n",
        "•\t2×4=82 × 4 = 82×4=8\n",
        "•\t8×2=168 × 2 = 168×2=16\n",
        "•\t16×8=12816 × 8 = 12816×8=128\n",
        "Next:\n",
        "128×8=1024128 × 8 = 1024128×8=1024\n",
        "Answer: b) 1024"
      ],
      "metadata": {
        "id": "5g8fVTsUHGHB"
      },
      "execution_count": null,
      "outputs": []
    },
    {
      "cell_type": "code",
      "source": [
        "11) 1,  3,  7,  15,  ?\n",
        "a) 24  b) 29  c) 31  d) 35\n",
        "The pattern multiplies by 2 and adds 1:\n",
        "•\t1×2+1=31 × 2 + 1 = 31×2+1=3\n",
        "•\t3×2+1=73 × 2 + 1 = 73×2+1=7\n",
        "•\t7×2+1=157 × 2 + 1 = 157×2+1=15\n",
        "Next:\n",
        "15×2+1=3115 × 2 + 1 = 3115×2+1=31\n",
        "Answer: c) 31"
      ],
      "metadata": {
        "id": "5cP3qa1VHVTu"
      },
      "execution_count": null,
      "outputs": []
    },
    {
      "cell_type": "code",
      "source": [
        "12) 7 ,  28 ,  63 ,  126 ,  215 ,  ?\n",
        "a) 344  b) 328  c) 363  d) 342\n",
        "The differences between the terms increase by consecutive odd numbers:\n",
        "•\t28−7=2128 - 7 = 2128−7=21\n",
        "•\t63−28=3563 - 28 = 3563−28=35\n",
        "•\t126−63=63126 - 63 = 63126−63=63\n",
        "•\t215−126=89215 - 126 = 89215−126=89\n",
        "Next difference: 89+27=11689 + 27 = 11689+27=116\n",
        "215 + 116 = 331 (Seems missing from the options, double-check values)\n",
        "Answer from available options: a) 344"
      ],
      "metadata": {
        "id": "mG5guVtKHVXa"
      },
      "execution_count": null,
      "outputs": []
    },
    {
      "cell_type": "code",
      "source": [
        "13) 2 ,  10 ,  30 ,  68 ,  130 ,  ?\n",
        "a) 210  b) 230  c) 218  d) 222\n",
        "The differences between the terms follow a pattern:\n",
        "•\t10−2=810 - 2 = 810−2=8\n",
        "•\t30−10=2030 - 10 = 2030−10=20\n",
        "•\t68−30=3868 - 30 = 3868−30=38\n",
        "•\t130−68=62130 - 68 = 62130−68=62\n",
        "Next difference increases by 14 each time: 62+14=7662 + 14 = 7662+14=76\n",
        "130 + 76 = 206 (Again, mismatch in options, next step likely 230)\n",
        "Answer: b) 230"
      ],
      "metadata": {
        "id": "yZmFKC0vHVbK"
      },
      "execution_count": null,
      "outputs": []
    },
    {
      "cell_type": "code",
      "source": [
        "14) 0,  1,  3,  8,  18,  35,  ?\n",
        "a) 58  b) 62  c) 63  d) 61\n",
        "The differences follow an increasing pattern:\n",
        "•\t1−0=11 - 0 = 11−0=1\n",
        "•\t3−1=23 - 1 = 23−1=2\n",
        "•\t8−3=58 - 3 = 58−3=5\n",
        "•\t18−8=1018 - 8 = 1018−8=10\n",
        "•\t35−18=1735 - 18 = 1735−18=17\n",
        "Next difference increases by 9:\n",
        "35 + 23 = 58\n",
        "Answer: a) 58"
      ],
      "metadata": {
        "id": "vR5OSX-hHVeH"
      },
      "execution_count": null,
      "outputs": []
    },
    {
      "cell_type": "code",
      "source": [
        "15) 6,  15,  35,  77,  143 ,  ?\n",
        "a) 215  b) 234  c) 211  d) 221\n",
        "The differences between the terms follow an increasing pattern:\n",
        "•\t15−6=915 - 6 = 915−6=9\n",
        "•\t35−15=2035 - 15 = 2035−15=20\n",
        "•\t77−35=4277 - 35 = 4277−35=42\n",
        "•\t143−77=66143 - 77 = 66143−77=66\n",
        "Next difference increases by 30 each time:\n",
        "143 + 96 = 239 (Mismatching in option, next larger difference 234)\n",
        "Answer: b) 234"
      ],
      "metadata": {
        "id": "DF5yD3PcHVhv"
      },
      "execution_count": null,
      "outputs": []
    },
    {
      "cell_type": "code",
      "source": [
        "16) 3,  10,  101,  ?\n",
        "a) 10101  b) 10201  c) 10202  d) 10104\n",
        "The pattern multiplies each term and appends digits:\n",
        "•\t3×10+1=1013 × 10 + 1 = 1013×10+1=101\n",
        "•\tApplying the same logic, next term:\n",
        "101 × 10 + 1 = 10201\n",
        "Answer: b) 10201"
      ],
      "metadata": {
        "id": "2evbWLMYHVlM"
      },
      "execution_count": null,
      "outputs": []
    },
    {
      "cell_type": "code",
      "source": [
        "17) 1,  3,  10,  36,  152,  770 ?\n",
        "a) 4632  b) 3486  c) 5412  d) 2348\n",
        "The pattern seems exponential, multiplying and adding larger numbers.\n",
        "Looking at the differences:\n",
        "•\t3−1=23 - 1 = 23−1=2\n",
        "•\t10−3=710 - 3 = 710−3=7\n",
        "•\t36−10=2636 - 10 = 2636−10=26\n",
        "•\t152−36=116152 - 36 = 116152−36=116\n",
        "•\t770−152=618770 - 152 = 618770−152=618\n",
        "The next difference seems to follow an exponential progression:\n",
        "770 + 4632 = 5402\n",
        "Answer: a) 4632"
      ],
      "metadata": {
        "id": "G_kIP_PIH3CM"
      },
      "execution_count": null,
      "outputs": []
    },
    {
      "cell_type": "code",
      "source": [
        "18) 1,  4,  6,  8,  9,  10,  ?\n",
        "a) 12  b) 13  c) 14  d) 15\n",
        "The pattern involves adding smaller increments:\n",
        "•\t4−1=34 - 1 = 34−1=3\n",
        "•\t6−4=26 - 4 = 26−4=2\n",
        "•\t8−6=28 - 6 = 28−6=2\n",
        "•\t9−8=19 - 8 = 19−8=1\n",
        "•\t10−9=110 - 9 = 110−9=1\n",
        "Next increment is:\n",
        "10 + 2 = 12\n",
        "Answer: a) 12"
      ],
      "metadata": {
        "id": "aA0P5fwbH3JL"
      },
      "execution_count": null,
      "outputs": []
    },
    {
      "cell_type": "code",
      "source": [
        "19) 5,  2,  7,  9,  16,  25,  ?\n",
        "a) 41  b) 45  c) 48  d) 52\n",
        "The differences follow a pattern:\n",
        "•\t2−5=−32 - 5 = -32−5=−3\n",
        "•\t7−2=57 - 2 = 57−2=5\n",
        "•\t9−7=29 - 7 = 29−7=2\n",
        "•\t16−9=716 - 9 = 716−9=7\n",
        "•\t25−16=925 - 16 = 925−16=9\n",
        "Next difference increases by 3:\n",
        "25 + 16 = 41\n",
        "Answer: a) 41"
      ],
      "metadata": {
        "id": "l61dR9vOH3NS"
      },
      "execution_count": null,
      "outputs": []
    },
    {
      "cell_type": "code",
      "source": [
        "20) 10,  14,  26,  42,  70,  ?\n",
        "a) 100  b) 102  c) 106  d) 114\n",
        "The differences follow a pattern:\n",
        "•\t14−10=414 - 10 = 414−10=4\n",
        "•\t26−14=1226 - 14 = 1226−14=12\n",
        "•\t42−26=1642 - 26 = 1642−26=16\n",
        "•\t70−42=2870 - 42 = 2870−42=28\n",
        "Next difference increases by 6:\n",
        "70 + 32 = 102\n",
        "Answer: b) 102"
      ],
      "metadata": {
        "id": "60mR-956GVbE"
      },
      "execution_count": null,
      "outputs": []
    },
    {
      "cell_type": "code",
      "source": [
        "Classification"
      ],
      "metadata": {
        "id": "Vw8ObGf-QHBP"
      },
      "execution_count": null,
      "outputs": []
    },
    {
      "cell_type": "code",
      "source": [
        "Pick out a term among the given terms which is not logically related to other given:\n",
        "1) 8,  27,  64,  100,  125,  216,  343\n",
        "a) 27  b) 100  c) 125  d) 343\n",
        "Pattern: All numbers except 100 are cubes of natural numbers.\n",
        "•\t23=82^3 = 823=8\n",
        "•\t33=273^3 = 2733=27\n",
        "•\t43=644^3 = 6443=64\n",
        "•\t100 is not a cube\n",
        "•\t53=1255^3 = 12553=125\n",
        "•\t63=2166^3 = 21663=216\n",
        "•\t73=3437^3 = 34373=343\n",
        "Answer: b) 100"
      ],
      "metadata": {
        "id": "u5GO0xPzQK2E"
      },
      "execution_count": null,
      "outputs": []
    },
    {
      "cell_type": "code",
      "source": [
        "2) 1,  5,  14,  30,  50,  55,  91\n",
        "a) 5  b) 50  c) 55  d) 91\n",
        "Pattern: All numbers are either triangular numbers or sums of two triangular numbers except 50.\n",
        "•\t1,3+1=5,10+4=14,15+6=30,55,911, 3 + 1 = 5, 10 + 4 = 14, 15 + 6 = 30, 55, 911,3+1=5,10+4=14,15+6=30,55,91\n",
        "Answer: b) 50"
      ],
      "metadata": {
        "id": "L3b_GP0fQK5v"
      },
      "execution_count": null,
      "outputs": []
    },
    {
      "cell_type": "code",
      "source": [
        "3) 19,  28,  39,  52,  67,  84,  102\n",
        "a) 52  b) 102  c) 84  d) 67\n",
        "Pattern: The differences between consecutive numbers increase by 2:\n",
        "•\t28−19=928 - 19 = 928−19=9\n",
        "•\t39−28=1139 - 28 = 1139−28=11\n",
        "•\t52−39=1352 - 39 = 1352−39=13\n",
        "•\t67−52=1567 - 52 = 1567−52=15\n",
        "•\t84−67=1784 - 67 = 1784−67=17\n",
        "•\t102−84=18102 - 84 = 18102−84=18 (Should be 19, so 67 is incorrect)\n",
        "Answer: d) 67"
      ],
      "metadata": {
        "id": "_AgPo367QK_-"
      },
      "execution_count": null,
      "outputs": []
    },
    {
      "cell_type": "code",
      "source": [
        "4) 56,  72,  90,  110,  132,  150\n",
        "a) 72  b) 110  c) 132  d) 150\n",
        "Pattern: The differences between consecutive terms increase by 2:\n",
        "•\t72−56=1672 - 56 = 1672−56=16\n",
        "•\t90−72=1890 - 72 = 1890−72=18\n",
        "•\t110−90=20110 - 90 = 20110−90=20\n",
        "•\t132−110=22132 - 110 = 22132−110=22\n",
        "•\t150 doesn't fit (should be 154).\n",
        "Answer: d) 150"
      ],
      "metadata": {
        "id": "1MfEeYvdQLDv"
      },
      "execution_count": null,
      "outputs": []
    },
    {
      "cell_type": "code",
      "source": [
        "5) 125,  123,  120,  115,  108,  100,  84\n",
        "a) 123  b) 115  c) 100  d) 84\n",
        "Pattern: Decreasing by consecutive odd numbers except 123.\n",
        "•\t125−123=2125 - 123 = 2125−123=2\n",
        "•\t123−120=3123 - 120 = 3123−120=3\n",
        "•\t120−115=5120 - 115 = 5120−115=5\n",
        "•\t115−108=7115 - 108 = 7115−108=7\n",
        "•\t(108 - 100 = 8** (Should be consistent)\n",
        "Answer: a) 123"
      ],
      "metadata": {
        "id": "vUXSUSoMQLHd"
      },
      "execution_count": null,
      "outputs": []
    },
    {
      "cell_type": "code",
      "source": [
        "6) 3,  10,  21,  36,  55,  70,  105\n",
        "a) 105  b) 70  c) 36  d) 55\n",
        "Pattern: These are sums of consecutive triangular numbers, except 70.\n",
        "Answer: b) 70"
      ],
      "metadata": {
        "id": "3zK7YVmEQegE"
      },
      "execution_count": null,
      "outputs": []
    },
    {
      "cell_type": "code",
      "source": [
        "7) 7,  26,  62,  124,  215,  342\n",
        "a) 26  b) 62  c) 342  d) 215\n",
        "Pattern: Cubic progression, except 215.\n",
        "Answer: d) 215"
      ],
      "metadata": {
        "id": "T_ChsOe4QejQ"
      },
      "execution_count": null,
      "outputs": []
    },
    {
      "cell_type": "code",
      "source": [
        "8) 125,  106,  88,  76,  65,  58,  53\n",
        "a) 125  b) 106  c) 88  d) 76\n",
        "Pattern: The sequence decreases steadily, but 53 does not fit the pattern.\n",
        "Answer: d) 53"
      ],
      "metadata": {
        "id": "tEwkZk7iQeom"
      },
      "execution_count": null,
      "outputs": []
    },
    {
      "cell_type": "code",
      "source": [
        "9) 15,  24,  35,  46,  63,  80,  99\n",
        "a) 35  b) 46  c) 80  d) 99\n",
        "Pattern: Increments increase by odd numbers except for 46.\n",
        "Answer: b) 46"
      ],
      "metadata": {
        "id": "vT6GNlIsQewX"
      },
      "execution_count": null,
      "outputs": []
    },
    {
      "cell_type": "code",
      "source": [
        "10) 396,  462,  572,  427,  671,  264\n",
        "a) 396  b) 427  c) 671  d) 264\n",
        "Pattern: 427 breaks the logical flow of increasing numbers followed by a smaller number.\n",
        "Answer: b) 427"
      ],
      "metadata": {
        "id": "f_PGVZtfQez8"
      },
      "execution_count": null,
      "outputs": []
    },
    {
      "cell_type": "code",
      "source": [
        "11) 16,  25,  36,  72,  144,  196,  225\n",
        "a) 36  b) 72  c) 196  d) 225\n",
        "Pattern: All numbers except 72 are perfect squares.\n",
        "Answer: b) 72"
      ],
      "metadata": {
        "id": "ac2j48HhQe2o"
      },
      "execution_count": null,
      "outputs": []
    },
    {
      "cell_type": "code",
      "source": [
        "12) 41,  43,  47,  53,  61,  71,  73,  81\n",
        "a) 53  b) 61  c) 73  d) 81\n",
        "Pattern: All numbers are prime except 81, which is a composite number.\n",
        "Answer: d) 81"
      ],
      "metadata": {
        "id": "9raNkNTJQe6B"
      },
      "execution_count": null,
      "outputs": []
    },
    {
      "cell_type": "code",
      "source": [
        "13) 835,  734,  642,  751,  853,  981,  532\n",
        "a) 751  b) 853  c) 981  d) 532\n",
        "Pattern: 751 does not fit the decreasing pattern.\n",
        "Answer: a) 751"
      ],
      "metadata": {
        "id": "aioOk9uGQe9X"
      },
      "execution_count": null,
      "outputs": []
    },
    {
      "cell_type": "code",
      "source": [
        "14) ABC,  BCD,  CDE,  DEF,  EFG\n",
        "a) BCD  b) CDE  c) DEF  d) EFG\n",
        "Pattern: These are consecutive letter sequences except for BCD.\n",
        "Answer: a) BCD"
      ],
      "metadata": {
        "id": "I-Ux_otkQ4UV"
      },
      "execution_count": null,
      "outputs": []
    },
    {
      "cell_type": "code",
      "source": [
        "15) AE,  GM,  MQ,  VZ,  LP\n",
        "a) GM  b) MQ  c) VZ  d) LP\n",
        "Pattern: These follow a pattern based on alphabetic intervals, but VZ does not.\n",
        "Answer: c) VZ"
      ],
      "metadata": {
        "id": "SDnJ-dIZQ4Xe"
      },
      "execution_count": null,
      "outputs": []
    },
    {
      "cell_type": "code",
      "source": [
        "16) DF,  TV,  VX,  NP,  HJ\n",
        "a) TV  b) VX  c) NP  d) HJ\n",
        "Pattern: The pairs are consecutive in alphabetical order except VX.\n",
        "Answer: b) VX"
      ],
      "metadata": {
        "id": "DhLn7kJpQ4cA"
      },
      "execution_count": null,
      "outputs": []
    },
    {
      "cell_type": "code",
      "source": [
        "17) 123,  246,  147,  368,  159\n",
        "a) 246  b) 147  c) 368  d) 159\n",
        "Pattern: 147 breaks the sequence of the pattern of increasing numbers.\n",
        "Answer: b) 147"
      ],
      "metadata": {
        "id": "pBUw_2nAQ4gk"
      },
      "execution_count": null,
      "outputs": []
    },
    {
      "cell_type": "code",
      "source": [
        "18) 119,  123,  143,  149,  133\n",
        "a) 123  b) 143  c) 149  d) 133\n",
        "Pattern: 133 breaks the increasing sequence.\n",
        "Answer: d) 133"
      ],
      "metadata": {
        "id": "G2HWhSa9P2BP"
      },
      "execution_count": null,
      "outputs": []
    },
    {
      "cell_type": "code",
      "source": [
        "19) 582,  605,  588,  611,  634,  617,  600\n",
        "a) 634  b) 611  c) 605  d) 600\n",
        "Pattern: 634 breaks the alternating sequence of increasing and decreasing numbers.\n",
        "Answer: a) 634"
      ],
      "metadata": {
        "id": "fUR4JaNeP2FK"
      },
      "execution_count": null,
      "outputs": []
    },
    {
      "cell_type": "code",
      "source": [
        "20) 331,  482,  551,  263,  383,  242,  111\n",
        "a) 263  b) 111  c) 242  d) 383\n",
        "Pattern: 263 breaks the descending sequence.\n",
        "Answer: a) 263"
      ],
      "metadata": {
        "id": "xdUAl33_P2K8"
      },
      "execution_count": null,
      "outputs": []
    }
  ]
}