{
  "cells": [
    {
      "cell_type": "code",
      "execution_count": null,
      "metadata": {
        "id": "eLOY93wn9OTI"
      },
      "outputs": [],
      "source": [
        "Blood Relations"
      ]
    },
    {
      "cell_type": "code",
      "execution_count": null,
      "metadata": {
        "id": "Vq3uFO_89UBB"
      },
      "outputs": [],
      "source": [
        "1) Pointing to a photograph, Suresh said, \"He is the son of the only son of my mother.\" How is Suresh related to that boy?\n",
        "a) Brother  b) Father  c) Cousin  d) CBD\n",
        "Father\n",
        "Explanation: The only son of Suresh’s mother is Suresh himself. Therefore, the boy is Suresh's son."
      ]
    },
    {
      "cell_type": "code",
      "execution_count": null,
      "metadata": {
        "id": "tTT--Lnn9UEt"
      },
      "outputs": [],
      "source": [
        "2) Introducing a boy, a girl said, \"He is the son of the daughter of the father of my uncle.\" How is the boy related to the girl?\n",
        "a) Brother  b) Nephew  c) Uncle  d) Cousin\n",
        "Brother\n",
        "Explanation: The father of the girl’s uncle is her grandfather. The daughter of the grandfather is the girl’s mother, making the boy her brother."
      ]
    },
    {
      "cell_type": "code",
      "execution_count": null,
      "metadata": {
        "id": "8skhqIjc9b5z"
      },
      "outputs": [],
      "source": [
        "3) If A is the brother of B; B is the sister of C; and C is the father of D, how D is related to A?\n",
        "a) Brother  b) Sister  c) Nephew  d) CBD\n",
        "The correct answer is c) Nephew.\n",
        "Explanation:\n",
        "A is the brother of B.\n",
        "B is the sister of C.\n",
        "C is the father of D.\n",
        "Since A is C’s sibling and C is D’s father, D is A's nephew (if D is male) or niece (if D is female). Therefore, the closest general answer is nephew."
      ]
    },
    {
      "cell_type": "code",
      "execution_count": null,
      "metadata": {
        "id": "nK362Q1X9b_p"
      },
      "outputs": [],
      "source": [
        "4) Pointing to a photograph Lata says, \"He is the son of the only son of my grandfather.\" How is the man in the photograph related to Lata?\n",
        "a) Brother  b) Uncle  c) Cousin  d) Data is inadequate\n",
        "Brother\n",
        "Explanation: The only son of Lata's grandfather is Lata's father. Therefore, the man in the photograph is Lata's brother."
      ]
    },
    {
      "cell_type": "code",
      "execution_count": null,
      "metadata": {
        "id": "639ILO_K9cC0"
      },
      "outputs": [],
      "source": [
        "5) Pointing a photograph X said to his friend Y, \"She is the only daughter of the father of my mother.\" How X is related to the person of photograph?\n",
        "a) Daughter   b) Son  c) Nephew  d) Cannot be decided\n",
        "Mother\n",
        "Explanation: The father of X's mother is X's maternal grandfather. The only daughter of X's maternal grandfather is X's mother."
      ]
    },
    {
      "cell_type": "code",
      "execution_count": null,
      "metadata": {
        "id": "jJlVFABP9cGp"
      },
      "outputs": [],
      "source": [
        "6) Ravi introduced X as “X is the grandson of the paternal grandfather of my son’s son”. How is X related to Ravi?\n",
        "a) Self  b) Grandson  c) Brother  d) Cousin\n",
        "Self\n",
        "Explanation: \"Paternal grandfather of my son’s son\" refers to Ravi's father. X is Ravi’s son, and since Ravi is introducing X, X must be Ravi himself."
      ]
    },
    {
      "cell_type": "code",
      "execution_count": null,
      "metadata": {
        "id": "X9EAHES09cLD"
      },
      "outputs": [],
      "source": [
        "7) If A + B means A is the brother of B; A - B means A is the sister of B and A x B means A is the father of B. Which of the following means that C is the son of M?\n",
        "a) M-NxC+F  b) F-C+NxM  c) N+M-FxC  d) MxN-C+F\n",
        "MxN-C+F\n",
        "Explanation: MxN means M is N's father, and C+F means C is F’s brother. Thus, C is M’s son."
      ]
    },
    {
      "cell_type": "code",
      "execution_count": null,
      "metadata": {
        "id": "6Imllm_V9wDX"
      },
      "outputs": [],
      "source": [
        "8) If A + B means A is the brother of B; A x B means A is the son of B; and A % B means B is the daughter of A then which of the following means M is the maternal uncle of N?\n",
        "a) M+OxN  b) M%OxN+P  c) M+O%N  d) None of these\n",
        "M+OxN\n",
        "Explanation: M+O means M is O’s brother, and O is N’s parent. Thus, M is N’s maternal uncle."
      ]
    },
    {
      "cell_type": "code",
      "execution_count": null,
      "metadata": {
        "id": "Gv6gRWPv9wPX"
      },
      "outputs": [],
      "source": [
        "9) If A + B means A is the sister of B; A x B means A is the wife of B, A % B means A is the father of B and A - B means A is the brother of B. Which of these means T is the daughter of P?\n",
        "a) PxQ%R+S-T  b) PxQ%R-T+S  c) PxQ%R+T–S  d) PxQ%R+S+T\n",
        "PxQ%R+T–S\n",
        "Explanation: PxQ means P is Q’s father, Q%R means Q is R’s father, and T–S means T is S’s sister. Thus, T is P’s daughter."
      ]
    },
    {
      "cell_type": "code",
      "execution_count": null,
      "metadata": {
        "id": "V0cYb5Nc9wVu"
      },
      "outputs": [],
      "source": [
        "10) If A + B means A is the father of B; A - B means A is the brother B; A % B means A is the wife of B and A x B means A is the mother of B, which of the following shows that M is the maternal grandmother of T?\n",
        "a) MxN%S+T  b) MxN-S%T  c) MxS-N%T  d) MxNxS%T\n",
        "MxN%S+T\n",
        "Explanation: MxN means M is N’s mother, N%S means N is S’s wife, and S+T means S is T’s father. Thus, M is T’s maternal grandmother."
      ]
    },
    {
      "cell_type": "code",
      "execution_count": null,
      "metadata": {
        "id": "PNs9SjCt9_rE"
      },
      "outputs": [],
      "source": [
        "Directions: The questions are based on the following statements.\n",
        "A) Mrs. Seeta, Mr. Rajinder and Mr. Surinder are children of Mr. and Mrs. Maudgil\n",
        "B) Ms. Renu, Mr. Raja and Mr. Sunil are children of Mr. and Mrs. Bhaskar\n",
        "C) Mr. Sunil and Mrs. Seeta are married and Mr. Ashok and Mr. Sanjay are their children\n",
        "D) Mrs. Geeta and Mr. Rakesh are children of Mr. and Mrs. Jain\n",
        "E) Mrs. Geeta is married to Mr. Surinder and has three children named Ms. Rita, Mr. Sonu and Mr. Raju.\n",
        "11) How is Rajinder related to Raju?\n",
        "a. Brother         b. Uncle      c. Brother in Law   d. Maternal Uncle\n",
        "Uncle\n",
        "Explanation: Rajinder is Seeta's sibling, and Seeta is married to Sunil. Ashok is Seeta and Sunil’s child, making Rajinder Raju's uncle."
      ]
    },
    {
      "cell_type": "code",
      "execution_count": null,
      "metadata": {
        "id": "VIobcQ6eawjL"
      },
      "outputs": [],
      "source": [
        "12) How is Rajinder related to Ashok?\n",
        "a. Brother in law    b. Father in law  c. Uncle   d. Maternal uncle\n",
        "Brother-in-law\n",
        "Explanation: Rakesh is Geeta's brother, and Geeta is married to Surinder. Thus, Rakesh is Surinder’s brother-in-law."
      ]
    },
    {
      "cell_type": "code",
      "execution_count": null,
      "metadata": {
        "id": "Ssi4D2WkZMRO"
      },
      "outputs": [],
      "source": [
        "13) How is Rakesh related to Surinder?\n",
        "a. Brother           b. Cousin               c. Uncle        d. Brother in law\n",
        "Uncle\n",
        "Explanation: Rajinder is Seeta’s sibling, and Seeta is Ashok’s mother. Thus, Rajinder is Ashok’s uncle."
      ]
    },
    {
      "cell_type": "code",
      "execution_count": null,
      "metadata": {
        "id": "hgmfx563else"
      },
      "outputs": [],
      "source": [
        "14) How is Rakesh related to Raju?\n",
        "a. Brother         b. Uncle             c. Cousin          d. Maternal uncle\n",
        "Uncle\n",
        "Explanation: Rakesh is Geeta’s brother, and Geeta is Raju’s mother. Thus, Rakesh is Raju’s uncle."
      ]
    },
    {
      "cell_type": "code",
      "execution_count": null,
      "metadata": {
        "id": "-vnYykMzelxq"
      },
      "outputs": [],
      "source": [
        "15) What is Sanjay's surname?\n",
        "a. Bhaskar           b. Jain                c. Maudgil       d. None of these\n",
        "Maudgil\n",
        "Explanation: Sanjay is the son of Sunil and Seeta Maudgil, so his surname is Maudgil."
      ]
    }
  ],
  "metadata": {
    "colab": {
      "provenance": []
    },
    "kernelspec": {
      "display_name": "Python 3",
      "name": "python3"
    },
    "language_info": {
      "name": "python"
    }
  },
  "nbformat": 4,
  "nbformat_minor": 0
}
