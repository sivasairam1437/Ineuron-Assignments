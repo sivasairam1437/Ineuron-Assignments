{
  "nbformat": 4,
  "nbformat_minor": 0,
  "metadata": {
    "colab": {
      "provenance": []
    },
    "kernelspec": {
      "name": "python3",
      "display_name": "Python 3"
    },
    "language_info": {
      "name": "python"
    }
  },
  "cells": [
    {
      "cell_type": "code",
      "execution_count": null,
      "metadata": {
        "id": "D3P5F2yTOtYE"
      },
      "outputs": [],
      "source": [
        "\n",
        "💡 **Q1.What is ORM in Hibernate?**\n",
        "ORM (Object-Relational Mapping) is a programming technique in Hibernate that allows developers to map object-oriented Java classes to database tables. It simplifies the data manipulation process by automatically handling the conversion of Java objects into relational database records and vice versa."
      ]
    },
    {
      "cell_type": "code",
      "source": [
        "💡 **Q2.What are the advantages of Hibernate over JDBC?**\n",
        "Simplified Querying: Hibernate provides HQL (Hibernate Query Language), which is more intuitive and object-oriented than SQL.\n",
        "Automatic Table Creation: Hibernate can automatically generate database schema based on mappings.\n",
        "Object Mapping: It simplifies object-to-table and relationship mappings through annotations or XML.\n",
        "Lazy Loading: Hibernate supports lazy loading, loading objects only when required, improving performance.\n",
        "Caching: Hibernate provides built-in caching mechanisms to optimize database access.\n",
        "Transaction Management: It simplifies the management of database transactions compared to JDBC."
      ],
      "metadata": {
        "id": "y46frMnOXbUG"
      },
      "execution_count": null,
      "outputs": []
    },
    {
      "cell_type": "code",
      "source": [
        "\n",
        "💡 **Q3.What are some of the important interfaces of Hibernate framework?**\n",
        "A Session in Hibernate is a lightweight, non-thread-safe object that represents a single unit of work with the database. It wraps a JDBC connection and is used to create, read, update, and delete persistent objects. It also handles transaction management and caching for efficient database interaction."
      ],
      "metadata": {
        "id": "kDJFqo8AXbW1"
      },
      "execution_count": null,
      "outputs": []
    },
    {
      "cell_type": "code",
      "source": [
        "💡 **Q4.What is a Session in Hibernate?**\n",
        "The SessionFactory is a heavyweight object that is responsible for creating Session instances. It is an immutable and thread-safe object used to establish a connection with the database and maintain Hibernate configurations. It’s typically created once per application and used throughout the application lifecycle."
      ],
      "metadata": {
        "id": "6qrD5HKpXbaH"
      },
      "execution_count": null,
      "outputs": []
    },
    {
      "cell_type": "code",
      "source": [
        "💡 **Q5.What is a SessionFactory?**\n",
        "The SessionFactory is a heavyweight object that is responsible for creating Session instances. It is an immutable and thread-safe object used to establish a connection with the database and maintain Hibernate configurations. It’s typically created once per application and used throughout the application lifecycle."
      ],
      "metadata": {
        "id": "epQkg2tDXAeX"
      },
      "execution_count": null,
      "outputs": []
    },
    {
      "cell_type": "code",
      "source": [
        "💡 **Q6.What is HQL?**\n",
        "HQL (Hibernate Query Language) is an object-oriented query language similar to SQL but operates on persistent objects rather than database tables. It allows developers to write database-independent queries using entity class names and property names instead of table names and columns."
      ],
      "metadata": {
        "id": "Vgz9MqjDXAhQ"
      },
      "execution_count": null,
      "outputs": []
    },
    {
      "cell_type": "code",
      "source": [
        "💡 **Q7.What are Many to Many associations?**\n",
        "In Hibernate, Many-to-Many associations occur when multiple records in one entity are associated with multiple records in another entity. This is typically implemented using a join table in the database to manage the relationships between the entities. For example, a student can enroll in multiple courses, and a course can have multiple students."
      ],
      "metadata": {
        "id": "N2dI711vXAjn"
      },
      "execution_count": null,
      "outputs": []
    },
    {
      "cell_type": "code",
      "source": [
        "💡 **Q8.What is hibernate caching?**\n",
        "\n",
        "Hibernate caching is a mechanism to improve performance by reducing database access. There are two levels of caching:\n",
        "\n",
        "First-Level Cache: Associated with the Session object, it caches objects within the session scope.\n",
        "Second-Level Cache: Shared across sessions and can cache objects across multiple sessions."
      ],
      "metadata": {
        "id": "TDhJceuVXAmT"
      },
      "execution_count": null,
      "outputs": []
    },
    {
      "cell_type": "code",
      "source": [
        "💡 **Q9.What is the difference between first level cache and second level cache?**\n",
        "\n",
        "First-Level Cache:\n",
        "Scope: Session-specific.\n",
        "Enabled by default.\n",
        "Caches objects only for the duration of the session.\n",
        "Second-Level Cache:\n",
        "Scope: Application-wide (shared across sessions).\n",
        "Needs to be explicitly enabled.\n",
        "Caches objects across multiple sessions to reduce database calls."
      ],
      "metadata": {
        "id": "CIFbHi-7XAov"
      },
      "execution_count": null,
      "outputs": []
    },
    {
      "cell_type": "code",
      "source": [
        "💡 **Q10.What can you tell about Hibernate Configuration File?**\n",
        "\n",
        "The Hibernate Configuration File (hibernate.cfg.xml) is used to configure Hibernate settings such as database connection parameters, Hibernate properties (like dialect, caching), and mapping between Java classes and database tables. This file is essential for initializing the SessionFactory and setting up the database environment. It can also be configured via annotations in the code."
      ],
      "metadata": {
        "id": "NjO_MMwGXArU"
      },
      "execution_count": null,
      "outputs": []
    }
  ]
}