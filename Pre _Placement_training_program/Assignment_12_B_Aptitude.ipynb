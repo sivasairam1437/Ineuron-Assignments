{
  "nbformat": 4,
  "nbformat_minor": 0,
  "metadata": {
    "colab": {
      "provenance": []
    },
    "kernelspec": {
      "name": "python3",
      "display_name": "Python 3"
    },
    "language_info": {
      "name": "python"
    }
  },
  "cells": [
    {
      "cell_type": "code",
      "execution_count": null,
      "metadata": {
        "id": "Rzaour-n-uTC"
      },
      "outputs": [],
      "source": [
        "Coding & Decoding"
      ]
    },
    {
      "cell_type": "code",
      "source": [
        "1) If in a certain language CHAMPION is coded as HCMAIPNO, how can NEGATIVE be coded in that code?\n",
        "a) ENAGITEV b) NEAGVEIT c) MGAETVIE d) EGAITEVN\n",
        "In the code, the first and second half of the word are reversed.\n",
        "•\tCHAMPION → HCMAIPNO\n",
        "o\t\"CHAM\" ↔ \"HCMA\" and \"PION\" ↔ \"IPNO\"\n",
        "Apply the same rule to NEGATIVE:\n",
        "•\tSplit it as: NEGA and TIVE\n",
        "o\t\"NEGA\" ↔ \"EAGN\" and \"TIVE\" ↔ \"TIEV\"\n",
        "Answer: a) ENAGITEV"
      ],
      "metadata": {
        "id": "DT3uWSNb--5s"
      },
      "execution_count": null,
      "outputs": []
    },
    {
      "cell_type": "code",
      "source": [
        "2) If in a certain language GAMBLE is coded as FBLCKF, how can FLOWER be coded in that language?\n",
        "a) GKPVFQ b) EMNXDS c) GMPVDS d) HNQYGT\n",
        "In this code:\n",
        "•\tEach letter is shifted one position back in the alphabet.\n",
        "o\tG → F, A → B, M → L, etc.\n",
        "Apply the same rule to FLOWER:\n",
        "•\tF → E\n",
        "•\tL → K\n",
        "•\tO → P\n",
        "•\tW → V\n",
        "•\tE → F\n",
        "•\tR → Q\n",
        "Answer: a) GKPVFQ"
      ],
      "metadata": {
        "id": "rF0v90_S--8f"
      },
      "execution_count": null,
      "outputs": []
    },
    {
      "cell_type": "code",
      "source": [
        "3) If FRIEND is coded as HUMJTK, how can CANDLE be written in that code?\n",
        "a) EDRIRL b) DCQHQK c) ESJFME d) FYOBOC\n",
        "It seems each letter is shifted forward by a certain number:\n",
        "•\tF → H (+2)\n",
        "•\tR → U (+3)\n",
        "•\tI → M (+4)\n",
        "•\tE → J (+5)\n",
        "•\tN → T (+6)\n",
        "•\tD → K (+7)\n",
        "Apply the same pattern to CANDLE:\n",
        "•\tC → E (+2)\n",
        "•\tA → D (+3)\n",
        "•\tN → R (+4)\n",
        "•\tD → I (+5)\n",
        "•\tL → R (+6)\n",
        "•\tE → L (+7)\n",
        "Answer: a) EDRIRL"
      ],
      "metadata": {
        "id": "0zTEb2XZ--_e"
      },
      "execution_count": null,
      "outputs": []
    },
    {
      "cell_type": "code",
      "source": [
        "4) If FULFNHW is coded as CRICKET, EULGH will be coded as:\n",
        "a) PRIDE b) BRIDE c) BLADE d) BLIND\n",
        "This code involves a consistent backward shift of letters.\n",
        "•\tF → C, U → R, L → I, F → C, etc.\n",
        "Apply the same backward shifting pattern to EULGH:\n",
        "•\tE → B\n",
        "•\tU → R\n",
        "•\tL → I\n",
        "•\tG → D\n",
        "•\tH → E\n",
        "Answer: b) BRIDE"
      ],
      "metadata": {
        "id": "9cL0X3af-_CD"
      },
      "execution_count": null,
      "outputs": []
    },
    {
      "cell_type": "code",
      "source": [
        "5) If PALE is coded as 2134, EARTH is coded as 41590, how can is PEARL be coded in that language?\n",
        "a) 29530 b) 24153 c) 25413 d) 25430\n",
        "Mapping the letters to their numbers from the given examples:\n",
        "•\tP → 2\n",
        "•\tA → 1\n",
        "•\tL → 3\n",
        "•\tE → 4\n",
        "•\tR → 5 (from EARTH)\n",
        "So, PEARL is coded as 24153.\n",
        "Answer: b) 24153"
      ],
      "metadata": {
        "id": "E4kSkW9a-_E5"
      },
      "execution_count": null,
      "outputs": []
    },
    {
      "cell_type": "code",
      "source": [
        "6) If ROSE is coded as 6821, CHAIR is coded as 73456 and PREACH is coded as 961473, what will be the code for SEARCH?\n",
        "a) 246173 b) 214673 c) 214763 d) 216473\n",
        "From the given codes, map each letter:\n",
        "•\tS → 2\n",
        "•\tE → 1\n",
        "•\tA → 4\n",
        "•\tR → 6\n",
        "•\tC → 3\n",
        "•\tH → 7\n",
        "So, SEARCH is coded as 214673.\n",
        "Answer: b) 214673"
      ],
      "metadata": {
        "id": "oYtz6hv0-_H_"
      },
      "execution_count": null,
      "outputs": []
    },
    {
      "cell_type": "code",
      "source": [
        "7) In a certain code ‘HEAT’ is written as ‘? * $ @’ and ‘FINGER’ is written as ‘! £ • & * #’. How can ‘FATHER’ be written in that code?\n",
        "a) ! $ @ ? * # b) $ @ !? # * c) @ ? ! # $ * d) !$ @ ? # *\n",
        "•\tHEAT = ? * $ @\n",
        "•\tFINGER = ! £ • & * #\n",
        "How can FATHER be written in that code?\n",
        "From the code:\n",
        "•\tF → !\n",
        "•\tA → $\n",
        "•\tT → @\n",
        "•\tH → ?\n",
        "•\tE → *\n",
        "•\tR → #\n",
        "So, FATHER is written as ! $ @ ? * #.\n",
        "Answer: a) ! $ @ ? * #"
      ],
      "metadata": {
        "id": "y0SIy4mG-_Kt"
      },
      "execution_count": null,
      "outputs": []
    },
    {
      "cell_type": "code",
      "source": [
        "8) If Z = 52 and ACT = 48, then BAT will be equal to\n",
        "a) 39 b) 41 c) 44 d) 46\n",
        "•\tZ = 26 × 2 = 52\n",
        "•\tFor ACT: A(1) + C(3) + T(20) = 24, then multiply by 2 to get 48.\n",
        "For BAT:\n",
        "•\tB(2) + A(1) + T(20) = 23, then multiply by 2 to get 46.\n",
        "Answer: d) 46"
      ],
      "metadata": {
        "id": "cZ2s-Yi_-_Nh"
      },
      "execution_count": null,
      "outputs": []
    },
    {
      "cell_type": "code",
      "source": [
        "9) If air is called green, green is called blue, blue is called sky, sky is called yellow, yellow is called water and water is called pink, then what is the colour of clear sky called as?\n",
        "a) Blue b) Sky c) Yellow d) Water\n",
        "Clear sky = sky, and sky is called yellow.\n",
        "Answer: c) Yellow"
      ],
      "metadata": {
        "id": "IRZYEfjD_kxr"
      },
      "execution_count": null,
      "outputs": []
    },
    {
      "cell_type": "code",
      "source": [
        "10) If in a certain code NEE TIM SEE means HOW ARE YOU; BLE NEE SEE means WHERE ARE YOU, what is the code for WHERE?\n",
        "a) nee b) tim c) see d) None of these\n",
        "The common words are:\n",
        "•\tNEE = ARE\n",
        "•\tSEE = YOU\n",
        "Thus, WHERE is coded as BLE.\n",
        "Answer: d) None of these (since BLE is not listed as an option)"
      ],
      "metadata": {
        "id": "Vxw7xiLS_k0t"
      },
      "execution_count": null,
      "outputs": []
    },
    {
      "cell_type": "code",
      "source": [
        "11) In a certain code language PIT NAE TOM means APPLE IS GREEN; NAE HO TAP means GREEN AND WHITE and HO TOM KA means SHIRT IS WHITE. Which of the following represents APPLE in that language?\n",
        "a) nae b) tom c) pit d) ho\n",
        "•\tPIT NAE TOM = APPLE IS GREEN\n",
        "•\tNAE HO TAP = GREEN AND WHITE\n",
        "•\tHO TOM KA = SHIRT IS WHITE\n",
        "What represents APPLE?\n",
        "From the codes, PIT appears only in the sentence with APPLE.\n",
        "Answer: c) PIT"
      ],
      "metadata": {
        "id": "3yIOi8CB_k5q"
      },
      "execution_count": null,
      "outputs": []
    },
    {
      "cell_type": "code",
      "source": [
        "12) If NITCO SCO TIGO stands for SOFTER THAN FLOWER, TIGO RHO MISTO stands for SWEET FLOWER FRAGRANCE and MISTO SCO TIMPO stands for SWEET THAN SMILE what would FRAGRANCE stand for?\n",
        "a) rho b) misto c) timpo d) sco\n",
        "From the second code, RHO corresponds to FRAGRANCE.\n",
        "Answer: a) RHO"
      ],
      "metadata": {
        "id": "yhoAqi55-_Qj"
      },
      "execution_count": null,
      "outputs": []
    },
    {
      "cell_type": "code",
      "source": [
        "13) In a certain code, 247 means SPREAD RED CARPET, 256 means DUST ONE CARPET and 264 means ONE RED CARPET which digit in that code means DUST?\n",
        "a) 2 b) 3 c) 5 d) 6\n",
        "By comparing the codes:\n",
        "•\tCARPET is represented by 2\n",
        "•\tONE is represented by 6\n",
        "•\tSo, DUST is represented by 5.\n",
        "Answer: c) 5"
      ],
      "metadata": {
        "id": "grNCJHpI-_TE"
      },
      "execution_count": null,
      "outputs": []
    },
    {
      "cell_type": "code",
      "source": [
        "14) In a certain code language, 134 means GOOD AND TASTY, 478 means SEE GOOD PICTURES, and 729 means PICTURES ARE FAINT. Which of the following digits stands for SEE?\n",
        "a) 4 b) 7 c) 9 d) 8\n",
        "From the codes, SEE is represented by 4.\n",
        "Answer: a) 4"
      ],
      "metadata": {
        "id": "_nIPYWFl-_Wk"
      },
      "execution_count": null,
      "outputs": []
    },
    {
      "cell_type": "code",
      "source": [
        "Directions: In a certain code, ‘LIL CE PEE’ means ‘ROSE ARE BLUE’ ; ‘ILK HEE’ means ‘RED FLOWERS’ and ‘PEE MIT HEE’ means ‘FLOWERS ARE VEGETABLES’.\n",
        "15) How is ‘RED’ written in that code?\n",
        "a) HEE b) ILK c) BE d) Cannot be determined e) None of these\n",
        "In the second phrase, HEE appears for FLOWERS, which means ILK must represent RED.\n",
        "Answer: b) ILK"
      ],
      "metadata": {
        "id": "BzTKmBgyD6kv"
      },
      "execution_count": null,
      "outputs": []
    },
    {
      "cell_type": "code",
      "source": [
        "16) How is ‘ROSES’ written in that code?\n",
        "a) LIL b) PEE c) BE d) Cannot be determined e) None of these\n",
        "•\t‘LIL CE PEE’ = ‘ROSE ARE BLUE’\n",
        "Here, LIL corresponds to ROSE.\n",
        "Answer: a) LIL"
      ],
      "metadata": {
        "id": "sis5uxnyEJXt"
      },
      "execution_count": null,
      "outputs": []
    },
    {
      "cell_type": "code",
      "source": [
        "17) How is ‘VEGETABLES ARE RED FLOWERS’ written in this code?\n",
        "a) PEE SIK MIT HEE b) SIK PEE HEE BE c) LIL ILK MIT HEE d) Cannot be determined e) None of these.\n",
        "•\tPEE MIT HEE’ = ‘FLOWERS ARE VEGETABLES’\n",
        "•\t‘ILK HEE’ = ‘RED FLOWERS’\n",
        "We already know the code for VEGETABLES ARE FLOWERS is MIT PEE HEE.\n",
        "•\tRED is ILK from Q15.\n",
        "Thus, ‘VEGETABLES ARE RED FLOWERS’ is MIT PEE ILK HEE.\n",
        "Answer: d) Cannot be determined (The exact order isn't clear from the options)"
      ],
      "metadata": {
        "id": "RAIpAbtkEJdZ"
      },
      "execution_count": null,
      "outputs": []
    },
    {
      "cell_type": "code",
      "source": [
        "Directions: ‘134’ means ‘ YOU ARE WELL’; ‘758’ means ‘THEY GO HOME’; ‘839’ means ‘WE ARE HOME’\n",
        "18) Which of the following represents ‘THEY’ in that code language?\n",
        "a) 5 b) 7 c) 3 d) 8 e) Data inadequate.\n",
        "Comparing both:\n",
        "•\tHOME is represented by 8.\n",
        "•\tWe know that ‘758’ = ‘THEY GO HOME’, and THEY is likely 7.\n",
        "Answer: b) 7"
      ],
      "metadata": {
        "id": "eeHax3IOEJgl"
      },
      "execution_count": null,
      "outputs": []
    },
    {
      "cell_type": "code",
      "source": [
        "19) Which of the statements is not required while answering the above question?\n",
        "a) A only b) B only c) A or C only d) B and C only e) None of these.\n",
        "Directions: The data given below represents a coded language for different colours, analyse it and answer the questions following it:\n",
        "“BLACK ORANGE YELLOW PURPLE BLUE” is written as “SET JET LET GET BET”\n",
        "“GREY GREEN RED PURPLE” is written as “GET PET WET VET”\n",
        "“PURPLE BLUE RED SILVER” is written as “VET SET GET TET”\n",
        "“GREY ORANGE PINK” is written as “BET RET PET”\n",
        "To determine THEY, we only needed to compare the codes for ‘758’ and ‘839’. The statement about \"YOU ARE WELL\" (134) is unnecessary.\n",
        "Answer: a) A only"
      ],
      "metadata": {
        "id": "9UC0irelFeEd"
      },
      "execution_count": null,
      "outputs": []
    },
    {
      "cell_type": "code",
      "source": [
        "20) Based on the information given above, what is the code for RED?\n",
        "a) VET b) PET c) RET d) WET e) GET\n",
        "In all cases, PURPLE appears with GET.\n",
        "Answer: GET"
      ],
      "metadata": {
        "id": "hYiELzehGwhD"
      },
      "execution_count": null,
      "outputs": []
    },
    {
      "cell_type": "code",
      "source": [
        "21) What will be the code for “ORANGE IS RED”?\n",
        "a) BET RET VET b) BET VET ZET c) WET GET JET d) JET LET VET e) PET SET VET\n",
        "By comparing the two phrases, RED is VET.\n",
        "Answer: VET"
      ],
      "metadata": {
        "id": "1v7yO9HTGwof"
      },
      "execution_count": null,
      "outputs": []
    },
    {
      "cell_type": "code",
      "source": [
        "22) Which colour has been coded as “SET”?\n",
        "a) YELLOW b) BLACK c) GREEN d) GREY e) BLUE\n",
        "By comparing the two phrases, ORANGE is BET.\n",
        "Answer: BET"
      ],
      "metadata": {
        "id": "caFc9EaLGwtG"
      },
      "execution_count": null,
      "outputs": []
    },
    {
      "cell_type": "code",
      "source": [
        "23) Which of the given combinations is correct?\n",
        "a) GREEN-SET b) ORANGE-BET c) GREY-SET d) PURPLE-BET e) PURPLE-PET\n",
        "From the phrase:\n",
        "•\t“PURPLE BLUE RED SILVER” = “VET SET GET TET”\n",
        "We already know that PURPLE is GET, BLUE is SET, and RED is VET. So, SILVER must be TET.\n",
        "Answer: TET"
      ],
      "metadata": {
        "id": "RkZI69B0Gwww"
      },
      "execution_count": null,
      "outputs": []
    },
    {
      "cell_type": "code",
      "source": [
        "Directions: Study the information given below and answer the questions following it:\n",
        "‘MOVE FAST OR LEFT BEHIND’ is coded as ‘7 1 9 0 3’\n",
        "‘MOVE LEFT BEHIND THE JOURNEY’ is coded as ‘4 9 1 5 3’\n",
        "‘YOUR JOURNEY ENDED FAST’ is coded as ‘5 2 7 6’\n",
        "‘THE LIFE ENDED OR BEHIND’ is coded as ‘0 8 4 9 2’\n",
        "24) What is the code for “LEFT”?\n",
        "a) 5 b) 6 c) 2 d) 0 e) 1\n",
        "Answer: d) 0 (as a guess, based on the options and usual frequency of letters like 'L' in these types of codes)."
      ],
      "metadata": {
        "id": "l0JOK06fGw0Y"
      },
      "execution_count": null,
      "outputs": []
    },
    {
      "cell_type": "code",
      "source": [
        "25) Which word has been coded as “3”?\n",
        "a) MOVE b) BEHIND c) THE d) JOURNEY e) LEFT\n",
        "Given the options:\n",
        "•\tMOVE (4 letters)\n",
        "•\tBEHIND (6 letters)\n",
        "•\tTHE (3 letters)\n",
        "•\tJOURNEY (7 letters)\n",
        "•\tLEFT (4 letters)\n",
        "Answer: c) THE"
      ],
      "metadata": {
        "id": "UCHbNCLCFeHO"
      },
      "execution_count": null,
      "outputs": []
    },
    {
      "cell_type": "code",
      "source": [
        "26) How will ‘YOUR LIFE JOURNEY’ be coded as?\n",
        "a) 5 6 8 b) 1 2 3 c) 9 0 6 d) 0 2 5 e) 6 4 7\n",
        "•\tYOUR (4 letters)\n",
        "•\tLIFE (4 letters)\n",
        "•\tJOURNEY (7 letters)\n",
        "But again, without more concrete rules, the closest matching pattern is:\n",
        "Answer: e) 6 4 7"
      ],
      "metadata": {
        "id": "y7AzktJZFeKO"
      },
      "execution_count": null,
      "outputs": []
    },
    {
      "cell_type": "code",
      "source": [
        "27) Which of the given combinations is correct?\n",
        "a) LEFT-3 b) JOURNEY-5 c) ENDED-0 d) MOVE-6 e) BEHIND-8\n",
        "•\tLEFT: Previously, it seemed to be coded as \"0.\"\n",
        "•\tJOURNEY: 7 letters, possibly \"5\" based on options.\n",
        "•\tENDED: 5 letters, likely doesn't match \"0.\"\n",
        "•\tMOVE: 4 letters, possibly \"6.\"\n",
        "•\tBEHIND: 6 letters, \"8\" seems like a plausible match.\n",
        "Answer: e) BEHIND-8"
      ],
      "metadata": {
        "id": "wThycUvQFeMx"
      },
      "execution_count": null,
      "outputs": []
    },
    {
      "cell_type": "code",
      "source": [
        "28) Here are some words translated from an artificial language:\n",
        "GORBLFLUR means FAN BELT\n",
        "PIXNGORBL means CEILING FAN\n",
        "ARTHTUSL means TILE ROOF\n",
        "Which word could mean \"CEILING TILE\"?\n",
        "a) GORBLTUSL b) FLURGORBL c) ARTHFLUR d) PIXNARTH\n",
        "From the artificial language translations:\n",
        "•\tGORBLFLUR = FAN BELT\n",
        "•\tPIXNGORBL = CEILING FAN\n",
        "•\tARTHTUSL = TILE ROOF\n",
        "Looking at the structure of the words:\n",
        "•\t\"PIXN\" seems to represent CEILING (from PIXNGORBL).\n",
        "•\t\"ARTH\" represents TILE (from ARTHTUSL).\n",
        "So, \"PIXNARTH\" could mean \"CEILING TILE.\"\n",
        "Answer: d) PIXNARTH"
      ],
      "metadata": {
        "id": "ANCyqfkRFePU"
      },
      "execution_count": null,
      "outputs": []
    },
    {
      "cell_type": "code",
      "source": [
        "29) Here are some words translated from an artificial language:\n",
        "GODABIM means KIDNEY STONES\n",
        "ROMZBIM means KIDNEY BEANS\n",
        "ROMZBAKO means WAX BEANS\n",
        "Which word could mean \"WAX STATUE\"?\n",
        "a) GODAROMZ b) LAZBIM c) WASIBAKO d) ROMZPEO\n",
        "From the artificial language translations:\n",
        "•\tGODABIM = KIDNEY STONES\n",
        "•\tROMZBIM = KIDNEY BEANS\n",
        "•\tROMZBAKO = WAX BEANS\n",
        "We can see that:\n",
        "•\t\"ROMZ\" represents KIDNEY.\n",
        "•\t\"BAKO\" represents WAX.\n",
        "We need to find a combination that could mean WAX STATUE:\n",
        "•\t\"ROMZPEO\" might combine PEO as STATUE with ROMZ.\n",
        "Answer: d) ROMZPEO"
      ],
      "metadata": {
        "id": "_xoiJlHGFeR1"
      },
      "execution_count": null,
      "outputs": []
    },
    {
      "cell_type": "code",
      "source": [
        "30) In a certain code language\n",
        "\"GIVEN TIME SIMPLE PLAN\" is written as '@E4 &N4 %N5 #E6'\n",
        "\"TIRED SOLUTION PLANT GREAT\" is written as '#N8 @D5 %T5 &T5'\n",
        "\"SICK POINT GOOD TURN\" is written as '#K4 %D4 @N4 &T5'\n",
        "\"GARDEN SISTER PHONE TEAM\" is written as '&E5 #R6 %N6 @M4'\n",
        "Which of the following code is for 'PLAN' and 'TRANSLATE'?\n",
        "a) @E8 and &N5 b) &N4 and @E9\n",
        "c) @E1 and &N4 d) &N4 and @D7\n",
        "Let's apply the same logic as before:\n",
        "•\tPLAN ends with N and has 4 letters, so it should be &N4.\n",
        "•\tTRANSLATE ends with E and has 9 letters, so it should be @E9.\n",
        "Answer: b) &N4 and @E9"
      ],
      "metadata": {
        "id": "VZWvCoX1FeUP"
      },
      "execution_count": null,
      "outputs": []
    }
  ]
}