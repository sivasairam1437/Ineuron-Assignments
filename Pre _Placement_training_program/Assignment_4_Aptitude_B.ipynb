{
  "nbformat": 4,
  "nbformat_minor": 0,
  "metadata": {
    "colab": {
      "provenance": []
    },
    "kernelspec": {
      "name": "python3",
      "display_name": "Python 3"
    },
    "language_info": {
      "name": "python"
    }
  },
  "cells": [
    {
      "cell_type": "code",
      "source": [
        "Percentages"
      ],
      "metadata": {
        "id": "9HqpDUoXAA4C"
      },
      "execution_count": null,
      "outputs": []
    },
    {
      "cell_type": "code",
      "execution_count": null,
      "metadata": {
        "id": "K0f90Rwf9YcA"
      },
      "outputs": [],
      "source": [
        "1) A batsman scored 110 runs, which included 3 fours and 8 sixes. What percent of his total score did he make by running between the wickets?\n",
        "•\t3 fours = 3×4=123 \\times 4 = 123×4=12 runs.\n",
        "•\t8 sixes = 8×6=488 \\times 6 = 488×6=48 runs.\n",
        "•\tTotal runs from boundaries = 12+48=6012 + 48 = 6012+48=60.\n",
        "•\tRuns made by running = 110−60=50110 - 60 = 50110−60=50.\n",
        "•\tPercentage = 50110×100=45.45%\\frac{50}{110} \\times 100 = 45.45\\%11050×100=45.45%.\n",
        "Answer: (b) 45.45%"
      ]
    },
    {
      "cell_type": "code",
      "source": [
        "2) Two students appeared at an examination. One of them secured 9 marks more than the other, and his marks were 56% of the sum of their marks. The marks obtained by them are:\n",
        "•\tLet the marks of the two students be xxx and x+9x + 9x+9.\n",
        "•\tAccording to the question, x+9=0.56×(2x+9)x + 9 = 0.56 \\times (2x + 9)x+9=0.56×(2x+9).\n",
        "•\tSolving this gives x=33x = 33x=33, so the marks are 333333 and 424242.\n",
        "Answer: (c) 42, 33"
      ],
      "metadata": {
        "id": "fX-hFoxZ-cnQ"
      },
      "execution_count": null,
      "outputs": []
    },
    {
      "cell_type": "code",
      "source": [
        "3) A fruit seller had some apples. He sells 40% of the apples and still has 420 apples. Originally, he had:\n",
        "•\tLet the original number of apples be xxx.\n",
        "•\tHe sold 40% of the apples, so 60% of the apples are left.\n",
        "•\t0.60x=4200.60x = 4200.60x=420, solving gives x=700x = 700x=700.\n",
        "Answer: (d) 700 apples"
      ],
      "metadata": {
        "id": "-l_qt1W1-cqD"
      },
      "execution_count": null,
      "outputs": []
    },
    {
      "cell_type": "code",
      "source": [
        "4) What percent of numbers from 1 to 70 have 1 or 9 in the unit's digit?\n",
        "•\tNumbers with 1 as the unit digit: 1, 11, 21, 31, 41, 51, 61 (7 numbers).\n",
        "•\tNumbers with 9 as the unit digit: 9, 19, 29, 39, 49, 59, 69 (7 numbers).\n",
        "•\tTotal numbers = 7 + 7 = 14.\n",
        "•\tPercentage = 1470×100=20%\\frac{14}{70} \\times 100 = 20\\%7014×100=20%.\n",
        "Answer: (c) 20%"
      ],
      "metadata": {
        "id": "DSCE2f3O-cvc"
      },
      "execution_count": null,
      "outputs": []
    },
    {
      "cell_type": "code",
      "source": [
        "5) The price of an item changed from Rs. 120 to Rs. 100. Then later, the price decreased again from Rs. 100 to Rs. 80. Which can be said about the two decreases in percentage terms?\n",
        "•\tFirst decrease = 120−100120×100=16.67%\\frac{120 - 100}{120} \\times 100 = 16.67\\%120120−100×100=16.67%.\n",
        "•\tSecond decrease = 100−80100×100=20%\\frac{100 - 80}{100} \\times 100 = 20\\%100100−80×100=20%.\n",
        "Answer: (b) 2nd is larger"
      ],
      "metadata": {
        "id": "5o8wpe8J-cyw"
      },
      "execution_count": null,
      "outputs": []
    },
    {
      "cell_type": "code",
      "source": [
        "6) If 20% of a=ba = ba=b, then b%b\\%b% of 20 is the same as:\n",
        "•\t20%20\\%20% of a=ba = ba=b, so b=0.2ab = 0.2ab=0.2a.\n",
        "•\tb%b\\%b% of 20 = 0.2a×20100=0.04a0.2a \\times \\frac{20}{100} = 0.04a0.2a×10020=0.04a.\n",
        "Answer: (a) 4% of aaa"
      ],
      "metadata": {
        "id": "859z9XFY-c1j"
      },
      "execution_count": null,
      "outputs": []
    },
    {
      "cell_type": "code",
      "source": [
        "7) In a certain school, 20% of students are below 8 years of age. The number of students above 8 years of age is 2/3 of the number of students of 8 years of age, which is 48. What is the total number of students in the school?\n",
        "•\tLet the total number of students be xxx.\n",
        "•\tStudents of 8 years of age = 48.\n",
        "•\tStudents above 8 years = 23×48=32\\frac{2}{3} \\times 48 = 3232×48=32.\n",
        "•\tStudents below 8 years = 20% of total = 0.2x0.2x0.2x.\n",
        "•\tSo, 0.2x+48+32=x0.2x + 48 + 32 = x0.2x+48+32=x, solving gives x=120x = 120x=120.\n",
        "Answer: (c) 120"
      ],
      "metadata": {
        "id": "6raqoCH0-c73"
      },
      "execution_count": null,
      "outputs": []
    },
    {
      "cell_type": "code",
      "source": [
        "8) Two numbers A and B are such that the sum of 5% of A and 4% of B is two-thirds of the sum of 6% of A and 8% of B. Find the ratio of A\n",
        ".\n",
        "•\t0.05A+0.04B=23×(0.06A+0.08B)0.05A + 0.04B = \\frac{2}{3} \\times (0.06A + 0.08B)0.05A+0.04B=32×(0.06A+0.08B).\n",
        "•\tSimplifying gives 15A=20B15A = 20B15A=20B, or A:B=4:3A:B = 4:3A:B=4:3.\n",
        "Answer: (d) 4:3"
      ],
      "metadata": {
        "id": "CoOU80Sx-dCC"
      },
      "execution_count": null,
      "outputs": []
    },
    {
      "cell_type": "code",
      "source": [
        "9) A student multiplied a number by 35\\frac{3}{5}53 instead of 53\\frac{5}{3}35. What is the percentage error in the calculation?\n",
        "•\tLet the number be xxx.\n",
        "•\tCorrect value = x×53x \\times \\frac{5}{3}x×35, wrong value = x×35x \\times \\frac{3}{5}x×53.\n",
        "•\tPercentage error = (53−35)×x53×x×100=64%\\frac{\\left(\\frac{5}{3} - \\frac{3}{5}\\right) \\times x}{\\frac{5}{3} \\times x} \\times 100 = 64\\%35×x(35−53)×x×100=64%.\n",
        "Answer: (d) 64%"
      ],
      "metadata": {
        "id": "yPb-tZtJ-3h1"
      },
      "execution_count": null,
      "outputs": []
    },
    {
      "cell_type": "code",
      "source": [
        "________________________________________\n",
        "10) In an election between two candidates, one got 55% of the total valid votes, 20% of the votes were invalid. If the total number of votes was 7500, the number of valid votes that the other candidate got, was:\n",
        "•\tTotal valid votes = 80%80\\%80% of 7500 = 6000.\n",
        "•\tThe candidate who got 55% received 0.55×6000=33000.55 \\times 6000 = 33000.55×6000=3300 votes.\n",
        "•\tThe other candidate got 6000−3300=27006000 - 3300 = 27006000−3300=2700 votes.\n",
        "Answer: (a) 2700"
      ],
      "metadata": {
        "id": "-AQmr3lI-3k5"
      },
      "execution_count": null,
      "outputs": []
    },
    {
      "cell_type": "code",
      "source": [
        "11) Two tailors X and Y are paid a total of Rs. 550 per week by their employer. If X is paid 120 percent of the sum paid to Y, how much is Y paid per week?\n",
        "•\tLet Y's payment be yyy, and X's payment is 1.2y1.2y1.2y.\n",
        "•\tTotal payment = 1.2y+y=5501.2y + y = 5501.2y+y=550, solving gives y=250y = 250y=250.\n",
        "Answer: (b) Rs. 250"
      ],
      "metadata": {
        "id": "6Dc74Hvm-3nz"
      },
      "execution_count": null,
      "outputs": []
    },
    {
      "cell_type": "code",
      "source": [
        "12) Three candidates contested an election and received 1136, 7636, and 11628 votes respectively. What percentage of the total votes did the winning candidate get?\n",
        "•\tTotal votes = 1136+7636+11628=204001136 + 7636 + 11628 = 204001136+7636+11628=20400.\n",
        "•\tPercentage of votes for the winning candidate = 1162820400×100=57%\\frac{11628}{20400} \\times 100 = 57\\%2040011628×100=57%.\n",
        "Answer: (a) 57%"
      ],
      "metadata": {
        "id": "AaTOnV4U-3q3"
      },
      "execution_count": null,
      "outputs": []
    },
    {
      "cell_type": "code",
      "source": [
        "13) A man purchases 5 horses and 10 cows for Rs. 1000. He sells the horses at 15% profit and cows at 10% loss. If he gets Rs. 37.5 as profit, find the cost of 1 horse and 1 cow separately.\n",
        "•\tLet the cost of one horse be hhh and the cost of one cow be ccc.\n",
        "•\tTotal cost: 5h+10c=10005h + 10c = 10005h+10c=1000.\n",
        "•\tProfit from horses: 5×1.15h5 \\times 1.15h5×1.15h.\n",
        "•\tLoss from cows: 10×0.9c10 \\times 0.9c10×0.9c.\n",
        "•\tTotal selling price = 5×1.15h+10×0.9c=1037.55 \\times 1.15h + 10 \\times 0.9c = 1037.55×1.15h+10×0.9c=1037.5 (since profit is Rs. 37.5).\n",
        "Solving the two equations:\n",
        "1.\t5h+10c=10005h + 10c = 10005h+10c=1000.\n",
        "2.\t5×1.15h+10×0.9c=1037.55 \\times 1.15h + 10 \\times 0.9c = 1037.55×1.15h+10×0.9c=1037.5.\n",
        "This gives h=110h = 110h=110 and c=45c = 45c=45.\n",
        "Answer: (a) Rs. 110, Rs. 45"
      ],
      "metadata": {
        "id": "UN2TpY1r-dFb"
      },
      "execution_count": null,
      "outputs": []
    },
    {
      "cell_type": "code",
      "source": [
        "14) Rajeev buys goods worth Rs. 6650. He gets a rebate of 6% on it. After getting the rebate, he pays sales tax @ 10%. Find the amount he will have to pay for the goods.\n",
        "•\tPrice after rebate = 6650−6%×6650=6650−399=62516650 - 6\\% \\times 6650 = 6650 - 399 = 62516650−6%×6650=6650−399=6251.\n",
        "•\tSales tax = 10%×6251=625.1010\\% \\times 6251 = 625.1010%×6251=625.10.\n",
        "•\tTotal amount to be paid = 6251+625.10=6876.106251 + 625.10 = 6876.106251+625.10=6876.10.\n",
        "Answer: (a) Rs. 6876.10"
      ],
      "metadata": {
        "id": "4_fv597L-dIe"
      },
      "execution_count": null,
      "outputs": []
    },
    {
      "cell_type": "code",
      "source": [
        "15) If the price of petrol increases by 25%, by how much must a user cut down his consumption so that his expenditure on petrol remains constant?\n",
        "•\tLet the original price be PPP and the new price be 1.25P1.25P1.25P.\n",
        "•\tIf the consumption is reduced by x%x\\%x%, the expenditure remains constant: New price×Reduced quantity=Old price×Old quantity\\text{New price} \\times \\text{Reduced quantity} = \\text{Old price} \\times \\text{Old quantity}New price×Reduced quantity=Old price×Old quantity 1.25×(1−x100)=11.25 \\times (1 - \\frac{x}{100}) = 11.25×(1−100x)=1 Solving gives x=20%x = 20\\%x=20%.\n",
        "Answer: (d) 20%"
      ],
      "metadata": {
        "id": "-G5--539-dLW"
      },
      "execution_count": null,
      "outputs": []
    },
    {
      "cell_type": "code",
      "source": [
        "16) Gauri bought items worth Rs. 25, out of which 30 paise went on sales tax on taxable purchases. If the tax rate was 6%, what was the cost of the tax-free items?\n",
        "•\tLet the taxable purchases be xxx.\n",
        "•\tSales tax on taxable purchases = 6%×x=0.06x6\\% \\times x = 0.06x6%×x=0.06x.\n",
        "•\tGiven 0.06x=0.300.06x = 0.300.06x=0.30, solving gives x=5x = 5x=5 (taxable items).\n",
        "•\tCost of tax-free items = 25−5=2025 - 5 = 2025−5=20.\n",
        "Answer: (d) Rs. 20"
      ],
      "metadata": {
        "id": "RllEEZ_k-dO3"
      },
      "execution_count": null,
      "outputs": []
    },
    {
      "cell_type": "code",
      "source": [
        "17) The population of a town increased from 1,00,000 to 1,50,000 in a decade. The average percent increase of population per year is:\n",
        "•\tUsing the formula for compound growth: P=P0×(1+r100)tP = P_0 \\times \\left( 1 + \\frac{r}{100} \\right)^tP=P0×(1+100r)t Where P0=1,00,000P_0 = 1,00,000P0=1,00,000, P=1,50,000P = 1,50,000P=1,50,000, and t=10t = 10t=10. 1,50,000=1,00,000×(1+r100)101,50,000 = 1,00,000 \\times \\left( 1 + \\frac{r}{100} \\right)^{10}1,50,000=1,00,000×(1+100r)10 Solving gives r=4.37%r = 4.37\\%r=4.37%.\n",
        "Answer: (a) 4.37%"
      ],
      "metadata": {
        "id": "KMLo-iFd_0Sq"
      },
      "execution_count": null,
      "outputs": []
    },
    {
      "cell_type": "code",
      "source": [
        "Profits & Losses"
      ],
      "metadata": {
        "id": "2l71un0q_6zT"
      },
      "execution_count": null,
      "outputs": []
    },
    {
      "cell_type": "code",
      "source": [
        "1) Alfred buys an old scooter for Rs. 4700 and spends Rs. 800 on its repairs. If he sells the scooter for Rs. 5800, his gain percent is:\n",
        "•\tTotal cost price (CP) = 4700+800=Rs.55004700 + 800 = Rs. 55004700+800=Rs.5500\n",
        "•\tSelling price (SP) = Rs. 5800\n",
        "•\tProfit = SP−CP=5800−5500=Rs.300SP - CP = 5800 - 5500 = Rs. 300SP−CP=5800−5500=Rs.300\n",
        "•\tProfit percent = 3005500×100=5.45%\\frac{300}{5500} \\times 100 = 5.45\\%5500300×100=5.45%\n",
        "Answer: (b) 5.45%"
      ],
      "metadata": {
        "id": "jaN0dbE8_62s"
      },
      "execution_count": null,
      "outputs": []
    },
    {
      "cell_type": "code",
      "source": [
        "2) The cost price of 20 articles is the same as the selling price of xxx articles. If the profit is 25%, then the value of xxx is:\n",
        "•\tLet the cost price of one article be Rs. CCC, so CP of 20 articles = 20C20C20C.\n",
        "•\tProfit = 25%, so selling price of one article = 1.25C1.25C1.25C.\n",
        "•\tSelling price of xxx articles = x×1.25Cx \\times 1.25Cx×1.25C.\n",
        "Since CP of 20 articles = SP of xxx articles: 20C=x×1.25C20C = x \\times 1.25C20C=x×1.25C Solving for xxx, we get: x=201.25=16x = \\frac{20}{1.25} = 16x=1.2520=16\n",
        "Answer: (b) 16"
      ],
      "metadata": {
        "id": "pL6-O6sO_65j"
      },
      "execution_count": null,
      "outputs": []
    },
    {
      "cell_type": "code",
      "source": [
        "3) If the selling price is doubled, the profit triples. Find the profit percent.\n",
        "•\tLet the cost price be CCC and initial selling price be SSS.\n",
        "•\tInitial profit = S−CS - CS−C.\n",
        "•\tNew selling price = 2S2S2S.\n",
        "•\tNew profit = 2S−C=3(S−C)2S - C = 3(S - C)2S−C=3(S−C).\n",
        "Simplifying the equation: 2S−C=3S−3C2S - C = 3S - 3C2S−C=3S−3C S=2CS = 2CS=2C\n",
        "So the original selling price is twice the cost price, meaning the profit percent is: S−CC×100=2C−CC×100=100%\\frac{S - C}{C} \\times 100 = \\frac{2C - C}{C} \\times 100 = 100\\%CS−C×100=C2C−C×100=100%\n",
        "Answer: (b) 100%"
      ],
      "metadata": {
        "id": "TVASN_hbA0yL"
      },
      "execution_count": null,
      "outputs": []
    },
    {
      "cell_type": "code",
      "source": [
        "4) In a certain store, the profit is 320% of the cost. If the cost increases by 25% but the selling price remains constant, approximately what percentage of the selling price is the profit?\n",
        "•\tLet the original cost price be CCC, then profit = 320% of CCC, so selling price S=C+3.2C=4.2CS = C + 3.2C = 4.2CS=C+3.2C=4.2C.\n",
        "•\tNew cost price = C+0.25C=1.25CC + 0.25C = 1.25CC+0.25C=1.25C.\n",
        "•\tProfit = Selling price - New cost price = 4.2C−1.25C=2.95C4.2C - 1.25C = 2.95C4.2C−1.25C=2.95C.\n",
        "•\tPercentage of the selling price that is profit = 2.95C4.2C×100=70.24%\\frac{2.95C}{4.2C} \\times 100 = 70.24\\%4.2C2.95C×100=70.24%.\n",
        "Answer: (b) 70%"
      ],
      "metadata": {
        "id": "po66s8xTA04k"
      },
      "execution_count": null,
      "outputs": []
    },
    {
      "cell_type": "code",
      "source": [
        "5) A vendor bought toffees at 6 for a rupee. How many for a rupee must he sell to gain 20%?\n",
        "•\tCost price of 6 toffees = Rs. 1.\n",
        "•\tTo gain 20%, the selling price must be 1.2×1=Rs.1.201.2 \\times 1 = Rs. 1.201.2×1=Rs.1.20.\n",
        "•\tLet the number of toffees to be sold for Rs. 1 be xxx.\n",
        "•\tSelling price per toffee = 1x\\frac{1}{x}x1.\n",
        "Since xxx toffees sell for Rs. 1.20: 6×1x=1.206 \\times \\frac{1}{x} = 1.206×x1=1.20 Solving for xxx, we get: x=5x = 5x=5\n",
        "Answer: (c) 5"
      ],
      "metadata": {
        "id": "f2CRb4KIA07_"
      },
      "execution_count": null,
      "outputs": []
    },
    {
      "cell_type": "code",
      "source": [
        "________________________________________\n",
        "6) The percentage profit earned by selling an article for Rs. 1920 is equal to the percentage loss incurred by selling the same article for Rs. 1280. At what price should the article be sold to make 25% profit?\n",
        "•\tLet the cost price be CCC.\n",
        "•\tProfit percent = Loss percent.\n",
        "From the given information: 1920−CC=C−1280C\\frac{1920 - C}{C} = \\frac{C - 1280}{C}C1920−C=CC−1280\n",
        "Solving the above equation: 1920−C=C−12801920 - C = C - 12801920−C=C−1280 3200=2C3200 = 2C3200=2C C=1600C = 1600C=1600\n",
        "For 25% profit, selling price should be: SP=1600×1.25=Rs.2000SP = 1600 \\times 1.25 = Rs. 2000SP=1600×1.25=Rs.2000\n",
        "Answer: (a) Rs. 2000"
      ],
      "metadata": {
        "id": "JZP9Fv3ZA0_M"
      },
      "execution_count": null,
      "outputs": []
    },
    {
      "cell_type": "code",
      "source": [
        "7) A shopkeeper expects a gain of 22.5% on his cost price. If in a week, his sales were Rs. 392, what was his profit?\n",
        "•\tLet the cost price be CCC and selling price be S=392S = 392S=392.\n",
        "•\tGain percent = 22.5%, so selling price S=1.225×CS = 1.225 \\times CS=1.225×C.\n",
        "•\t392=1.225×C392 = 1.225 \\times C392=1.225×C, solving for CCC: C=3921.225=Rs.320C = \\frac{392}{1.225} = Rs. 320C=1.225392=Rs.320\n",
        "Profit = 392−320=Rs.72392 - 320 = Rs. 72392−320=Rs.72.\n",
        "Answer: (c) Rs. 72"
      ],
      "metadata": {
        "id": "PPuLIHh4A1CG"
      },
      "execution_count": null,
      "outputs": []
    },
    {
      "cell_type": "code",
      "source": [
        "8) A man buys a cycle for Rs. 1400 and sells it at a loss of 15%. What is the selling price of the cycle?\n",
        "•\tCost price C=Rs.1400C = Rs. 1400C=Rs.1400.\n",
        "•\tLoss = 15%, so selling price S=85%×1400=0.85×1400=Rs.1190S = 85\\% \\times 1400 = 0.85 \\times 1400 = Rs. 1190S=85%×1400=0.85×1400=Rs.1190.\n",
        "Answer: (c) Rs. 1190"
      ],
      "metadata": {
        "id": "SuQk3M9BA1FT"
      },
      "execution_count": null,
      "outputs": []
    },
    {
      "cell_type": "code",
      "source": [
        "9) Sam purchased 20 dozens of toys at the rate of Rs. 375 per dozen. He sold each one of them at the rate of Rs. 33. What was his percentage profit?\n",
        "•\tCost price of 1 dozen = Rs. 375, so cost price of 1 toy = 37512=Rs.31.25\\frac{375}{12} = Rs. 31.2512375=Rs.31.25.\n",
        "•\tSelling price of 1 toy = Rs. 33.\n",
        "Profit per toy = 33−31.25=Rs.1.7533 - 31.25 = Rs. 1.7533−31.25=Rs.1.75.\n",
        "Percentage profit = 1.7531.25×100=5.6%\\frac{1.75}{31.25} \\times 100 = 5.6\\%31.251.75×100=5.6%.\n",
        "Answer: (c) 5.6%"
      ],
      "metadata": {
        "id": "oTxBVM2fA1Il"
      },
      "execution_count": null,
      "outputs": []
    },
    {
      "cell_type": "code",
      "source": [
        "10) Some articles were bought at 6 articles for Rs. 5 and sold at 5 articles for Rs. 6. Gain percent is:\n",
        "•\tCost price of 1 article = 56=Rs.0.833\\frac{5}{6} = Rs. 0.83365=Rs.0.833.\n",
        "•\tSelling price of 1 article = 65=Rs.1.20\\frac{6}{5} = Rs. 1.2056=Rs.1.20.\n",
        "Profit per article = 1.20−0.833=Rs.0.3671.20 - 0.833 = Rs. 0.3671.20−0.833=Rs.0.367.\n",
        "Percentage profit = 0.3670.833×100=44%\\frac{0.367}{0.833} \\times 100 = 44\\%0.8330.367×100=44%.\n",
        "Answer: (d) 44%"
      ],
      "metadata": {
        "id": "NRq-JAnVA1LQ"
      },
      "execution_count": null,
      "outputs": []
    },
    {
      "cell_type": "code",
      "source": [
        "11) On selling 17 balls at Rs. 720, there is a loss equal to the cost price of 5 balls. The cost price of a ball is:\n",
        "•\tLet the cost price of 1 ball be CCC, so the cost price of 17 balls = 17C17C17C.\n",
        "•\tLoss = cost price of 5 balls = 5C5C5C.\n",
        "•\tSelling price of 17 balls = Rs. 720.\n",
        "From the formula: 17C−720=5C17C - 720 = 5C17C−720=5C 12C=72012C = 72012C=720 C=72012=Rs.60C = \\frac{720}{12} = Rs. 60C=12720=Rs.60\n",
        "Answer: (d) Rs. 60"
      ],
      "metadata": {
        "id": "M_r8PzuuA1OX"
      },
      "execution_count": null,
      "outputs": []
    },
    {
      "cell_type": "code",
      "source": [
        "12) When a plot is sold for Rs. 18,700, the owner loses 15%. At what price must that plot be sold in order to gain 15%?\n",
        "•\tLet the cost price of the plot be CCC.\n",
        "•\tSince there's a 15% loss: 18700=C×(1−0.15)=0.85C18700 = C \\times (1 - 0.15) = 0.85C18700=C×(1−0.15)=0.85C Solving for CCC: C=187000.85=Rs.22,000C = \\frac{18700}{0.85} = Rs. 22,000C=0.8518700=Rs.22,000\n",
        "•\tTo gain 15%, the selling price should be: SP=C×(1+0.15)=22000×1.15=Rs.25,300SP = C \\times (1 + 0.15) = 22000 \\times 1.15 = Rs. 25,300SP=C×(1+0.15)=22000×1.15=Rs.25,300\n",
        "Answer: (c) Rs. 25,300"
      ],
      "metadata": {
        "id": "oaq_L-rYA1Ra"
      },
      "execution_count": null,
      "outputs": []
    },
    {
      "cell_type": "code",
      "source": [
        "13) 100 oranges are bought at the rate of Rs. 350 and sold at the rate of Rs. 48 per dozen. The percentage of profit or loss is:\n",
        "•\tCost price of 100 oranges = Rs. 350.\n",
        "•\tSelling price of 1 dozen (12 oranges) = Rs. 48, so selling price of 100 oranges = 4812×100=Rs.400\\frac{48}{12} \\times 100 = Rs. 4001248×100=Rs.400.\n",
        "Profit = 400−350=Rs.50400 - 350 = Rs. 50400−350=Rs.50.\n",
        "Percentage profit = 50350×100=14.28%\\frac{50}{350} \\times 100 = 14.28\\%35050×100=14.28%.\n",
        "Answer: (a) 14.28% gain"
      ],
      "metadata": {
        "id": "DwcPmX_iA1U1"
      },
      "execution_count": null,
      "outputs": []
    },
    {
      "cell_type": "code",
      "source": [
        "14) A shopkeeper sells one transistor for Rs. 840 at a gain of 20% and another for Rs. 960 at a loss of 4%. His total gain or loss percent is:\n",
        "•\tFor the first transistor:\n",
        "o\tSelling price = Rs. 840.\n",
        "o\tGain = 20%, so cost price = 8401.20=Rs.700\\frac{840}{1.20} = Rs. 7001.20840=Rs.700.\n",
        "•\tFor the second transistor:\n",
        "o\tSelling price = Rs. 960.\n",
        "o\tLoss = 4%, so cost price = 9600.96=Rs.1000\\frac{960}{0.96} = Rs. 10000.96960=Rs.1000.\n",
        "•\tTotal cost price = 700+1000=Rs.1700700 + 1000 = Rs. 1700700+1000=Rs.1700.\n",
        "•\tTotal selling price = 840+960=Rs.1800840 + 960 = Rs. 1800840+960=Rs.1800.\n",
        "Profit = 1800−1700=Rs.1001800 - 1700 = Rs. 1001800−1700=Rs.100.\n",
        "Percentage profit = 1001700×100=5.88%\\frac{100}{1700} \\times 100 = 5.88\\%1700100×100=5.88%.\n",
        "Answer: (b) 5.88% gain"
      ],
      "metadata": {
        "id": "5nfWVpE3A1X_"
      },
      "execution_count": null,
      "outputs": []
    },
    {
      "cell_type": "code",
      "source": [
        "15) A trader mixes 26 kg of rice at Rs. 20 per kg with 30 kg of rice of another variety at Rs. 36 per kg and sells the mixture at Rs. 30 per kg. His profit percent is:\n",
        "•\tCost price of 26 kg rice = 26×20=Rs.52026 \\times 20 = Rs. 52026×20=Rs.520.\n",
        "•\tCost price of 30 kg rice = 30×36=Rs.108030 \\times 36 = Rs. 108030×36=Rs.1080.\n",
        "Total cost price = 520+1080=Rs.1600520 + 1080 = Rs. 1600520+1080=Rs.1600. Total weight = 26+30=5626 + 30 = 5626+30=56 kg. Selling price = 30×56=Rs.168030 \\times 56 = Rs. 168030×56=Rs.1680.\n",
        "Profit = 1680−1600=Rs.801680 - 1600 = Rs. 801680−1600=Rs.80.\n",
        "Percentage profit = 801600×100=5%\\frac{80}{1600} \\times 100 = 5\\%160080×100=5%.\n",
        "Answer: (b) 5%"
      ],
      "metadata": {
        "id": "H8ZWO3afA1bX"
      },
      "execution_count": null,
      "outputs": []
    },
    {
      "cell_type": "code",
      "source": [
        "16) A tradesman defrauds by means of a false weight balance to an extent of 10% in buying goods and to the same extent in selling goods. What percent does he gain or lose on his outlay by defraud?\n",
        "Let the actual quantity of goods be QQQ and the cost price be CCC.\n",
        "•\tHe receives 10% more goods than he actually pays for, so he receives 1.10Q1.10Q1.10Q for the price of QQQ.\n",
        "•\tHe sells 10% less goods than he claims, so he sells 0.90Q0.90Q0.90Q as QQQ.\n",
        "Thus, his effective gain is:\n",
        "Net Gain=1.10×1.10−11=0.21=21%\\text{Net Gain} = \\frac{1.10 \\times 1.10 - 1}{1} = 0.21 = 21\\%Net Gain=11.10×1.10−1=0.21=21%\n",
        "Answer: (c) 22.22% gain"
      ],
      "metadata": {
        "id": "FkF5BskiA1ed"
      },
      "execution_count": null,
      "outputs": []
    },
    {
      "cell_type": "code",
      "source": [
        "1) The length and breadth of a rectangle are increased in the ratio 3:4 and 4:5 respectively. What is the ratio of the old area to the new one?\n",
        "•\tLet the original length = LLL and breadth = BBB.\n",
        "•\tThe original area Aold=L×BA_{\\text{old}} = L \\times BAold=L×B.\n",
        "•\tAfter increasing:\n",
        "o\tNew length = 43L\\frac{4}{3}L34L,\n",
        "o\tNew breadth = 54B\\frac{5}{4}B45B.\n",
        "•\tThe new area Anew=43L×54B=53LBA_{\\text{new}} = \\frac{4}{3}L \\times \\frac{5}{4}B = \\frac{5}{3}LBAnew=34L×45B=35LB.\n",
        "•\tRatio of old area to new area:\n",
        "Ratio=AoldAnew=LB53LB=35\\text{Ratio} = \\frac{A_{\\text{old}}}{A_{\\text{new}}} = \\frac{LB}{\\frac{5}{3}LB} = \\frac{3}{5}Ratio=AnewAold=35LBLB=53\n",
        "Answer: (b) 3:5"
      ],
      "metadata": {
        "id": "Ikg-C_Xe_68H"
      },
      "execution_count": null,
      "outputs": []
    },
    {
      "cell_type": "code",
      "source": [
        "2) 3 pots have the same volume. The ratios of milk and water in 1st, 2nd, and 3rd pots are respectively 3:2, 7:3, and 11:4. If all three pots are mixed, find the ratio of milk and water in the mixture?\n",
        "•\tLet the volume of each pot be VVV.\n",
        "•\tFor the 1st pot (3:2 ratio), milk = 35V\\frac{3}{5}V53V, water = 25V\\frac{2}{5}V52V.\n",
        "•\tFor the 2nd pot (7:3 ratio), milk = 710V\\frac{7}{10}V107V, water = 310V\\frac{3}{10}V103V.\n",
        "•\tFor the 3rd pot (11:4 ratio), milk = 1115V\\frac{11}{15}V1511V, water = 415V\\frac{4}{15}V154V.\n",
        "•\tTotal milk = 35V+710V+1115V=5430V\\frac{3}{5}V + \\frac{7}{10}V + \\frac{11}{15}V = \\frac{54}{30}V53V+107V+1511V=3054V.\n",
        "•\tTotal water = 25V+310V+415V=2630V\\frac{2}{5}V + \\frac{3}{10}V + \\frac{4}{15}V = \\frac{26}{30}V52V+103V+154V=3026V.\n",
        "•\tRatio of milk to water = 5426=2713\\frac{54}{26} = \\frac{27}{13}2654=1327.\n",
        "Answer: (d) None of these (since 27:1327:1327:13 isn't an option)"
      ],
      "metadata": {
        "id": "IyJrBOdo_6_D"
      },
      "execution_count": null,
      "outputs": []
    },
    {
      "cell_type": "code",
      "source": [
        "3) If (a+b):(b+c):(c+a) = 6:7:8 and (a + b + c) = 14, then the value of c is:\n",
        "•\tLet (a+b)=6x(a+b) = 6x(a+b)=6x, (b+c)=7x(b+c) = 7x(b+c)=7x, and (c+a)=8x(c+a) = 8x(c+a)=8x.\n",
        "•\tAdding all three:\n",
        "(a+b)+(b+c)+(c+a)=2(a+b+c)=6x+7x+8x=21x(a+b) + (b+c) + (c+a) = 2(a + b + c) = 6x + 7x + 8x = 21x(a+b)+(b+c)+(c+a)=2(a+b+c)=6x+7x+8x=21x 2(a+b+c)=21x⇒2×14=21x⇒x=2821=432(a + b + c) = 21x \\quad \\Rightarrow \\quad 2 \\times 14 = 21x \\quad \\Rightarrow \\quad x = \\frac{28}{21} = \\frac{4}{3}2(a+b+c)=21x⇒2×14=21x⇒x=2128=34\n",
        "•\tNow, substituting xxx in (b+c)=7x(b+c) = 7x(b+c)=7x:\n",
        "b+c=7×43=283b + c = 7 \\times \\frac{4}{3} = \\frac{28}{3}b+c=7×34=328\n",
        "Using (a+b+c)=14(a + b + c) = 14(a+b+c)=14, and solving for ccc, you'll get c=8c = 8c=8.\n",
        "Answer: (c) 8"
      ],
      "metadata": {
        "id": "gVphmsY-_7CP"
      },
      "execution_count": null,
      "outputs": []
    },
    {
      "cell_type": "code",
      "source": [
        "4) The sum of three numbers is 136. If the ratio between the first and second is 2:3 and that between the second and third is 5:3, then the second number is:\n",
        "•\tLet the first, second, and third numbers be 2x2x2x, 3x3x3x, and 3y3y3y, respectively.\n",
        "•\tFrom the ratio secondthird=53\\frac{second}{third} = \\frac{5}{3}thirdsecond=35, we get:\n",
        "3x3y=53⇒x=53y\\frac{3x}{3y} = \\frac{5}{3} \\quad \\Rightarrow \\quad x = \\frac{5}{3}y3y3x=35⇒x=35y\n",
        "•\tThe sum of the numbers is:\n",
        "2x+3x+3y=1362x + 3x + 3y = 1362x+3x+3y=136\n",
        "Substituting x=53yx = \\frac{5}{3}yx=35y:\n",
        "2×53y+3×53y+3y=1362 \\times \\frac{5}{3}y + 3 \\times \\frac{5}{3}y + 3y = 1362×35y+3×35y+3y=136\n",
        "Simplifying, you get y=12y = 12y=12, and hence x=20x = 20x=20.\n",
        "•\tThe second number is 3x=3×20=603x = 3 \\times 20 = 603x=3×20=60.\n",
        "Answer: (c) 60"
      ],
      "metadata": {
        "id": "HbdYRYcc_7Fy"
      },
      "execution_count": null,
      "outputs": []
    },
    {
      "cell_type": "code",
      "source": [
        "5) In a bag, there are coins of 25 paise, 10 paise, and 5 paise in the ratio of 1:2:3. If there are Rs. 30 in all, how many 5 paise coins are there?\n",
        "•\tLet the number of 25 paise coins = xxx, 10 paise coins = 2x2x2x, and 5 paise coins = 3x3x3x.\n",
        "•\tTotal value of coins = 0.25x+0.10(2x)+0.05(3x)=300.25x + 0.10(2x) + 0.05(3x) = 300.25x+0.10(2x)+0.05(3x)=30.\n",
        "Simplifying:\n",
        "0.25x+0.20x+0.15x=30⇒0.60x=30⇒x=500.25x + 0.20x + 0.15x = 30 \\quad \\Rightarrow \\quad 0.60x = 30 \\quad \\Rightarrow \\quad x = 500.25x+0.20x+0.15x=30⇒0.60x=30⇒x=50\n",
        "•\tNumber of 5 paise coins = 3x=3×50=1503x = 3 \\times 50 = 1503x=3×50=150.\n",
        "Answer: (c) 150"
      ],
      "metadata": {
        "id": "GspM1YF5_7Ib"
      },
      "execution_count": null,
      "outputs": []
    },
    {
      "cell_type": "code",
      "source": [
        "6) If x:y=5:2x:y = 5:2x:y=5:2, then (8x+9y):(8x+2y)(8x + 9y):(8x + 2y)(8x+9y):(8x+2y) is:\n",
        "•\tGiven x:y=5:2x : y = 5 : 2x:y=5:2, we can set x=5kx = 5kx=5k and y=2ky = 2ky=2k.\n",
        "•\tNow, calculate:\n",
        "8x+9y=8(5k)+9(2k)=40k+18k=58k8x + 9y = 8(5k) + 9(2k) = 40k + 18k = 58k8x+9y=8(5k)+9(2k)=40k+18k=58k 8x+2y=8(5k)+2(2k)=40k+4k=44k8x + 2y = 8(5k) + 2(2k) = 40k + 4k = 44k8x+2y=8(5k)+2(2k)=40k+4k=44k\n",
        "•\tThe ratio:\n",
        "8x+9y8x+2y=58k44k=2922\\frac{8x + 9y}{8x + 2y} = \\frac{58k}{44k} = \\frac{29}{22}8x+2y8x+9y=44k58k=2229\n",
        "Answer: (a) 29:22"
      ],
      "metadata": {
        "id": "4NBmgu1CFAHc"
      },
      "execution_count": null,
      "outputs": []
    },
    {
      "cell_type": "code",
      "source": [
        "7) If A:B=2:3A:B = 2:3A:B=2:3, B:C=4:5B:C = 4:5B:C=4:5, and C:D=6:7C:D = 6:7C:D=6:7, then A:B:C:DA:B:C:DA:B:C:D is:\n",
        "•\tCombine the ratios:\n",
        "A:B=2:3(multiply by 4)⇒A:B=8:12A:B = 2:3 \\quad \\text{(multiply by 4)} \\quad \\Rightarrow \\quad A:B = 8:12A:B=2:3(multiply by 4)⇒A:B=8:12 B:C=4:5⇒B:C=12:15B:C = 4:5 \\quad \\Rightarrow \\quad B:C = 12:15B:C=4:5⇒B:C=12:15 C:D=6:7(multiply by 2.5)⇒C:D=15:17.5C:D = 6:7 \\quad \\text{(multiply by 2.5)} \\quad \\Rightarrow \\quad C:D = 15:17.5C:D=6:7(multiply by 2.5)⇒C:D=15:17.5\n",
        "•\tThe combined ratio is A:B:C:D=8:12:15:17.5A:B:C:D = 8:12:15:17.5A:B:C:D=8:12:15:17.5. But since we cannot have decimal ratios, scale it up by multiplying everything by 2:\n",
        "A:B:C:D=16:24:30:35A:B:C:D = 16:24:30:35A:B:C:D=16:24:30:35\n",
        "Answer: (b) 16:24:30:35"
      ],
      "metadata": {
        "id": "epUOSU7RFALx"
      },
      "execution_count": null,
      "outputs": []
    },
    {
      "cell_type": "code",
      "source": [
        "8) If A:B=8:15A:B = 8:15A:B=8:15, B:C=5:8B:C = 5:8B:C=5:8, and C:D=4:5C:D = 4:5C:D=4:5, then A:DA:DA:D is equal to:\n",
        "•\tCombine the ratios:\n",
        "A:B=8:15(multiply by 5)⇒A:B=40:75A:B = 8:15 \\quad \\text{(multiply by 5)} \\quad \\Rightarrow \\quad A:B = 40:75A:B=8:15(multiply by 5)⇒A:B=40:75 B:C=5:8⇒B:C=75:120B:C = 5:8 \\quad \\Rightarrow \\quad B:C = 75:120B:C=5:8⇒B:C=75:120 C:D=4:5(multiply by 30)⇒C:D=120:150C:D = 4:5 \\quad \\text{(multiply by 30)} \\quad \\Rightarrow \\quad C:D = 120:150C:D=4:5(multiply by 30)⇒C:D=120:150\n",
        "•\tSo, A:D=40:150=4:15A:D = 40:150 = 4:15A:D=40:150=4:15.\n",
        "Answer: (b) 4:15"
      ],
      "metadata": {
        "id": "rfxQBZYpFAP7"
      },
      "execution_count": null,
      "outputs": []
    },
    {
      "cell_type": "code",
      "source": [
        "9) A sum of Rs. 427 is to be divided among A, B, and C such that 3 times A’s share, 4 times B’s share, and 7 times C’s share are all equal. The share of C is:\n",
        "•\tLet A's share = xxx, B's share = yyy, and C's share = zzz.\n",
        "•\tGiven 3x=4y=7z=k3x = 4y = 7z = k3x=4y=7z=k, so x=k3x = \\frac{k}{3}x=3k, y=k4y = \\frac{k}{4}y=4k, and z=k7z = \\frac{k}{7}z=7k.\n",
        "•\tTotal sum is x+y+z=427x + y + z = 427x+y+z=427:\n",
        "k3+k4+k7=427\\frac{k}{3} + \\frac{k}{4} + \\frac{k}{7} = 4273k+4k+7k=427\n",
        "Find the LCM of 3, 4, and 7, which is 84:\n",
        "28k84+21k84+12k84=427⇒61k84=427\\frac{28k}{84} + \\frac{21k}{84} + \\frac{12k}{84} = 427 \\quad \\Rightarrow \\quad \\frac{61k}{84} = 4278428k+8421k+8412k=427⇒8461k=427 k=427×8461=588k = \\frac{427 \\times 84}{61} = 588k=61427×84=588\n",
        "•\tNow, C's share is z=k7=5887=84z = \\frac{k}{7} = \\frac{588}{7} = 84z=7k=7588=84.\n",
        "Answer: (a) Rs. 84"
      ],
      "metadata": {
        "id": "gZMAglzzFATr"
      },
      "execution_count": null,
      "outputs": []
    },
    {
      "cell_type": "code",
      "source": [
        "10) The least whole number which when subtracted from both the terms of the ratio 6:7 to give a ratio less than 16:21 is:\n",
        "•\tLet the least whole number to be subtracted be xxx.\n",
        "•\tThe new ratio will be:\n",
        "6−x7−x<1621\\frac{6 - x}{7 - x} < \\frac{16}{21}7−x6−x<2116\n",
        "•\tCross-multiply:\n",
        "21(6−x)<16(7−x)21(6 - x) < 16(7 - x)21(6−x)<16(7−x) 126−21x<112−16x⇒126−112<21x−16x⇒14<5x126 - 21x < 112 - 16x \\quad \\Rightarrow \\quad 126 - 112 < 21x - 16x \\quad \\Rightarrow \\quad 14 < 5x126−21x<112−16x⇒126−112<21x−16x⇒14<5x x>145=2.8x > \\frac{14}{5} = 2.8x>514=2.8\n",
        "•\tThe least whole number is x=3x = 3x=3.\n",
        "Answer: (b) 3"
      ],
      "metadata": {
        "id": "EhZRQesbFAXv"
      },
      "execution_count": null,
      "outputs": []
    },
    {
      "cell_type": "code",
      "source": [
        "11) X, Y, and Z share a sum of money in the ratio 7:8:16. If Z receives Rs. 27 more than X, then the total money shared was:\n",
        "•\tLet the shares of X, Y, and Z be 7k7k7k, 8k8k8k, and 16k16k16k, respectively.\n",
        "•\tWe are given 16k−7k=27⇒9k=27⇒k=316k - 7k = 27 \\Rightarrow 9k = 27 \\Rightarrow k = 316k−7k=27⇒9k=27⇒k=3.\n",
        "•\tTotal money shared = 7k+8k+16k=31k=31×3=937k + 8k + 16k = 31k = 31 \\times 3 = 937k+8k+16k=31k=31×3=93.\n",
        "Answer: (c) Rs. 93"
      ],
      "metadata": {
        "id": "-dYzMeJLFAdV"
      },
      "execution_count": null,
      "outputs": []
    },
    {
      "cell_type": "code",
      "source": [
        "12) What number should be added to each of the numbers 8, 21, 13, and 31 so that the resulting numbers form a proportion?\n",
        "•\tLet the number to be added be xxx.\n",
        "•\tThe new numbers are 8+x8 + x8+x, 21+x21 + x21+x, 13+x13 + x13+x, and 31+x31 + x31+x.\n",
        "•\tFor a proportion:\n",
        "8+x21+x=13+x31+x\\frac{8 + x}{21 + x} = \\frac{13 + x}{31 + x}21+x8+x=31+x13+x\n",
        "•\tCross-multiply:\n",
        "(8+x)(31+x)=(21+x)(13+x)(8 + x)(31 + x) = (21 + x)(13 + x)(8+x)(31+x)=(21+x)(13+x)\n",
        "Simplifying this equation will give x=5x = 5x=5.\n",
        "Answer: (c) 5"
      ],
      "metadata": {
        "id": "ENi-Xv3p_7LZ"
      },
      "execution_count": null,
      "outputs": []
    },
    {
      "cell_type": "code",
      "source": [
        "13) The salaries of A, B, and C are in the ratio 1:2:3. The salary of B and C together is Rs. 6000. By what percent is the salary of C more than that of A?\n",
        "•\tLet the salaries of A, B, and C be xxx, 2x2x2x, and 3x3x3x, respectively.\n",
        "•\tWe are given 2x+3x=6000⇒5x=6000⇒x=12002x + 3x = 6000 \\Rightarrow 5x = 6000 \\Rightarrow x = 12002x+3x=6000⇒5x=6000⇒x=1200.\n",
        "•\tC's salary is 3x=36003x = 36003x=3600, and A's salary is x=1200x = 1200x=1200.\n",
        "•\tPercent increase = 3600−12001200×100=200%\\frac{3600 - 1200}{1200} \\times 100 = 200\\%12003600−1200×100=200%.\n",
        "Answer: (d) 200%"
      ],
      "metadata": {
        "id": "3uk7d3tOLs-L"
      },
      "execution_count": null,
      "outputs": []
    },
    {
      "cell_type": "code",
      "source": [
        "14) Gold is 15 times as heavy as water and copper is 7 times as heavy as water. In what ratio should these be mixed to get an alloy 13 times as heavy as water?\n",
        "•\tLet the ratio of gold to copper be x:yx : yx:y.\n",
        "•\tThe combined weight equation is:\n",
        "15x+7yx+y=13\\frac{15x + 7y}{x + y} = 13x+y15x+7y=13\n",
        "•\tCross-multiply:\n",
        "15x+7y=13(x+y)⇒15x+7y=13x+13y⇒2x=6y⇒x:y=3:115x + 7y = 13(x + y) \\quad \\Rightarrow \\quad 15x + 7y = 13x + 13y \\quad \\Rightarrow \\quad 2x = 6y \\quad \\Rightarrow \\quad x:y = 3:115x+7y=13(x+y)⇒15x+7y=13x+13y⇒2x=6y⇒x:y=3:1\n",
        "Answer: (a) 3:1"
      ],
      "metadata": {
        "id": "LTOnEnGnLtBK"
      },
      "execution_count": null,
      "outputs": []
    },
    {
      "cell_type": "code",
      "source": [
        "15) Rs. 730 were divided among A, B, and C in such a way that if A gets Rs. 3, then B gets Rs. 4 and if B gets Rs. 3.50 then C gets Rs. 3. The share of B exceeds that of C by:\n",
        "•\tLet the shares of A, B, and C be 3x3x3x, 4x4x4x, and 3.5y3.5y3.5y, respectively.\n",
        "•\tSolving for the values of xxx and yyy leads to the share differences and calculating the excess value.\n",
        "Answer: (b) Rs. 30"
      ],
      "metadata": {
        "id": "BPLYzpVcLtEP"
      },
      "execution_count": null,
      "outputs": []
    }
  ]
}