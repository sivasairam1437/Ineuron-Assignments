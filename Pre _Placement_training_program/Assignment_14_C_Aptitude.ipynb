{
  "nbformat": 4,
  "nbformat_minor": 0,
  "metadata": {
    "colab": {
      "provenance": []
    },
    "kernelspec": {
      "name": "python3",
      "display_name": "Python 3"
    },
    "language_info": {
      "name": "python"
    }
  },
  "cells": [
    {
      "cell_type": "code",
      "execution_count": null,
      "metadata": {
        "id": "0Su9wkd_Vn36"
      },
      "outputs": [],
      "source": [
        "Analytical Reasoning"
      ]
    },
    {
      "cell_type": "code",
      "source": [
        "Directions: Ravi and Naman are good in Hockey and Volleyball. Sachin and Ravi are good in Hockey and Baseball. Gaurav and Naman are good in Cricket and Volleyball. Sachin, Gaurav and Michael are good in Football and Baseball.\n",
        "1) Who is good in Hockey, Cricket and Volleyball?\n",
        "a) Sachin  b) Naman  c) Ravi  d) Gaurav\n",
        "o\tNaman is good in Volleyball (with Ravi) and Cricket (with Gaurav). Ravi is good in Hockey and Volleyball.\n",
        "Answer: b) Naman"
      ],
      "metadata": {
        "id": "NqOaU6TuUEED"
      },
      "execution_count": null,
      "outputs": []
    },
    {
      "cell_type": "code",
      "source": [
        "2) Who is good in Baseball, Cricket, Volleyball and Football?\n",
        "a) Sachin  b) Naman  c) Gaurav  d) Ravi\n",
        "o\tGaurav plays Cricket and Volleyball and is also good in Baseball and Football (with Sachin and Michael).\n",
        "Answer: c) Gaurav"
      ],
      "metadata": {
        "id": "o2umy3ZCUEHw"
      },
      "execution_count": null,
      "outputs": []
    },
    {
      "cell_type": "code",
      "source": [
        "3) Who is good in Baseball, Volleyball and Hockey?\n",
        "a) Sachin  b) Naman  c) Ravi  d) Gaurav\n",
        "o\tRavi is good in Hockey, Volleyball, and Baseball (with Sachin).\n",
        "Answer: c) Ravi"
      ],
      "metadata": {
        "id": "ehruNb22UEOg"
      },
      "execution_count": null,
      "outputs": []
    },
    {
      "cell_type": "code",
      "source": [
        "Directions: Read the statements and answer the questions:\n",
        "> Kailash, Govind and Harinder are intelligent.\n",
        "> Kailash, Rajesh and Jitendra are hard-working.\n",
        "> Rajesh, Harinder and Jitendra are honest.\n",
        "> Kailash, Govind and Jitendra are ambitious.\n",
        "4) Which of the following persons is neither hard-working nor ambitious?\n",
        "a) Harinder  b) Kailash  c) Govind  d) Rajesh\n",
        "o\tHarinder is intelligent and honest but not hard-working or ambitious.\n",
        "Answer: a) Harinder"
      ],
      "metadata": {
        "id": "2SXD8nNLUEWf"
      },
      "execution_count": null,
      "outputs": []
    },
    {
      "cell_type": "code",
      "source": [
        "5) Which of the following persons is neither honest nor hard-working but is ambitious?\n",
        "a) Kailash  b) Govind  c) Harinder  d) Rajesh\n",
        "o\tGovind is intelligent and ambitious but not hard-working or honest.\n",
        "Answer: b) Govind"
      ],
      "metadata": {
        "id": "A-2G39OLUSbM"
      },
      "execution_count": null,
      "outputs": []
    },
    {
      "cell_type": "code",
      "source": [
        "6) Who among these possesses most number of qualities among given qualities?\n",
        "a) Govind  b) Harinder  c) Rajesh  d) Kailash\n",
        "o\tKailash is intelligent, hard-working, and ambitious (3 qualities).\n",
        "Answer: d) Kailash"
      ],
      "metadata": {
        "id": "QI9Us_EqUSfc"
      },
      "execution_count": null,
      "outputs": []
    },
    {
      "cell_type": "code",
      "source": [
        "Directions: Six friends P, Q, R, S, T and U are members of a club and play a different game of Football, Cricket, Tennis, Basketball, Badminton and Volleyball.\n",
        "> T, who is taller than P and S, plays Tennis.\n",
        "> The tallest among them plays Basketball.\n",
        "> The shortest among them plays Volleyball.\n",
        "> Q and S neither play Volleyball nor Basketball.\n",
        "> R plays Volleyball.\n",
        "> T is between Q who plays Football and P in order of height.\n",
        "7) Who among them is taller than R and shorter than P?\n",
        "a) Q  b) T  c) U  d) None of these\n",
        "o\tT is between Q and P in height and is taller than R (who is the shortest and plays Volleyball).\n",
        "Answer: b) T"
      ],
      "metadata": {
        "id": "Wy9zwefVUSjc"
      },
      "execution_count": null,
      "outputs": []
    },
    {
      "cell_type": "code",
      "source": [
        "8) Who will be at the third place if they arranged in the descending order of their heights?\n",
        "a) Q  b) P  c) S  d) T\n",
        "o\tT is between Q and P in height. So, T would be third.\n",
        "Answer: d) T"
      ],
      "metadata": {
        "id": "oAqdxS89USng"
      },
      "execution_count": null,
      "outputs": []
    },
    {
      "cell_type": "code",
      "source": [
        "9) Which of the following statement is not true?\n",
        "a) P is shorter than R  b) Q is taller than S  c) S is taller than R  d) T is taller than R\n",
        "o\tP is taller than T but shorter than Q. Therefore, \"P is shorter than R\" is not true (R is the shortest).\n",
        "Answer: a) P is shorter than R"
      ],
      "metadata": {
        "id": "GHlo0NMGUSqt"
      },
      "execution_count": null,
      "outputs": []
    },
    {
      "cell_type": "code",
      "source": [
        "10) Who among them plays Basketball?\n",
        "a) Q  b) R  c) U  d) None of these\n",
        "U plays Basketball because U is the tallest, and the tallest person plays Basketball.\n",
        "Answer: c) U"
      ],
      "metadata": {
        "id": "DdzpmWdpUSx1"
      },
      "execution_count": null,
      "outputs": []
    },
    {
      "cell_type": "code",
      "source": [
        "11) What does S plays?\n",
        "a) Cricket  b) Badminton  c) Football  d) Cricket or Badminton\n",
        "•\tSince S does not play Volleyball or Basketball and the only remaining sport is Badminton, S plays Badminton.\n",
        "Answer: b) Badminton"
      ],
      "metadata": {
        "id": "KIyfq-NtUS19"
      },
      "execution_count": null,
      "outputs": []
    },
    {
      "cell_type": "code",
      "source": [
        "Directions: Five cities got more rain than usual this year: Last Stand, Mile City, New Town, Olliopolis, and Polberg. The cities are located in five different areas of the country: the forest, the mountains, the coast, the desert, and in the valley. The rainfall amounts were: 12 inches, 27 inches, 32 inches, 44 inches, and 65 inches.\n",
        "> The city in the desert got the least rain; the city in the forest got the most rain.\n",
        "> New Town is in the mountains.\n",
        "> Last Stand got more rain than Olliopolis.\n",
        "> Mile City got more rain than Polberg but less than New Town.\n",
        "> Olliopolis got 44 inches of rain.\n",
        "> The city in the mountains got 32 inches of rain; the city on the coast got 27 inches of rain.\n",
        "12) Which city got the most rain?\n",
        "a) Last Stand  b) Mile City  c) New Town  d) Polberg\n",
        "•\tThe city in the forest received the most rain (65 inches), and it is neither Olliopolis (44 inches) nor New Town (32 inches). By elimination, Last Stand got the most rain.\n",
        "Answer: a) Last Stand"
      ],
      "metadata": {
        "id": "pJjTGUGUUS81"
      },
      "execution_count": null,
      "outputs": []
    },
    {
      "cell_type": "code",
      "source": [
        "13) How much rain did Mile City get?\n",
        "a) 12 inches  b) 27 inches  c) 32 inches  d) 44 inches\n",
        "•\tNew Town got 32 inches (mountains), Mile City got less rain than New Town but more than Polberg (27 inches on the coast). Therefore, Mile City received 12 inches.\n",
        "Answer: a) 12 inches"
      ],
      "metadata": {
        "id": "3gY-j84ZWFrP"
      },
      "execution_count": null,
      "outputs": []
    },
    {
      "cell_type": "code",
      "source": [
        "14) Which city is in the desert ?\n",
        "a) Last Stand  b) Mile City  c) New Town  d) Polberg\n",
        "•\tThe city in the desert got the least rain, and Mile City received 12 inches, which is the lowest amount.\n",
        "Answer: b) Mile City"
      ],
      "metadata": {
        "id": "YzEZmmY9VuTM"
      },
      "execution_count": null,
      "outputs": []
    },
    {
      "cell_type": "code",
      "source": [
        "15) Where is Olliopolis located?\n",
        "a) the mountains  b) the coast  c) in a valley  d) the desert\n",
        "•\tOlliopolis got 44 inches of rain, and since it is neither in the mountains nor the desert, Olliopolis must be in the valley.\n",
        "Answer: c) in a valley"
      ],
      "metadata": {
        "id": "3JArKniNVueA"
      },
      "execution_count": null,
      "outputs": []
    },
    {
      "cell_type": "code",
      "source": [
        "Directions: Anita, Mahi, Rajan, Lata and Priti are five cousins. Anita is twice as old as Mahi. Rajan is half the age of Mahi. Anita is half the age of Priti and Rajan is twice the age of Lata.\n",
        "16) Who is youngest?\n",
        "a) Priti  b) Rajan  c) Lata  d) Anita\n",
        "•\tRajan is half the age of Mahi, and Rajan is twice the age of Lata. Therefore, Lata is the youngest.\n",
        "Answer: c) Lata"
      ],
      "metadata": {
        "id": "x_kVsaOOVul4"
      },
      "execution_count": null,
      "outputs": []
    },
    {
      "cell_type": "code",
      "source": [
        "17) Who is the eldest?\n",
        "a) Priti  b) Rajan  c) Lata  d) Anita\n",
        "•\tAnita is twice as old as Mahi, and Priti is twice as old as Anita. Hence, Priti is the eldest.\n",
        "Answer: a) Priti"
      ],
      "metadata": {
        "id": "wM32m7VKV2Tn"
      },
      "execution_count": null,
      "outputs": []
    },
    {
      "cell_type": "code",
      "source": [
        "18) Which of the given pairs of persons are of the same age?\n",
        "a) Mahi and Lata  b) Anita and Mahi  c) Mahi and Rajan  d) None of these\n",
        "•\tMahi is older than Rajan, and no one else has the same age.\n",
        "Answer: d) None of these"
      ],
      "metadata": {
        "id": "fZrEe2-3V5Au"
      },
      "execution_count": null,
      "outputs": []
    },
    {
      "cell_type": "code",
      "source": [
        "19) Anita is younger than?\n",
        "a) Rajan  b) Mahi  c) Priti  d) None of these\n",
        "•\tAnita is younger than Priti, as Priti is twice Anita’s age.\n",
        "Answer: c) Priti"
      ],
      "metadata": {
        "id": "N9IZNmzqV5EM"
      },
      "execution_count": null,
      "outputs": []
    },
    {
      "cell_type": "code",
      "source": [
        "20) If Mahi is 16 years old, then what is the age of Lata?\n",
        "a) 4 years  b) 5 years  c) 7 years  d) 14 years\n",
        "•\tRajan is half of Mahi’s age (so, Rajan is 8 years old), and Rajan is twice Lata’s age, so Lata is 4 years old.\n",
        "Answer: a) 4 years"
      ],
      "metadata": {
        "id": "7NyXmtHBV5Ia"
      },
      "execution_count": null,
      "outputs": []
    },
    {
      "cell_type": "code",
      "source": [
        "Directions: Seven persons R, J, M, Q, L, T and K conduct workshop on Developing Managerial skills in seven different companies A, B, C, D, E, F and G on a different day of the week from Monday to Sunday. The order of persons, companies and days of the week are not necessarily the same.\n",
        "J organizes workshop in Company D on Wednesday. Q does not conduct workshop for companies A or C and conducts on the next day of L who conducts the workshop for Company F. T conducts workshop for Company E on Friday. K conducts workshop on Monday but not for Company C or G. M conducts workshop for Company A but not on Tuesday.\n",
        "21) Who conducts workshop on Saturday?\n",
        "a) M  b) Q  c) L  d) Q or L\n",
        "•\tQ conducts the workshop the day after L (who is on Thursday). Therefore, Q conducts the workshop on Saturday.\n",
        "Answer: b) Q"
      ],
      "metadata": {
        "id": "KNeL7yQtV5MT"
      },
      "execution_count": null,
      "outputs": []
    },
    {
      "cell_type": "code",
      "source": [
        "22) On which day does Q conduct the workshop?\n",
        "a) Sunday  b) Saturday  c) Tuesday  d) Cannot be determined\n",
        "•\tQ conducts the workshop on Saturday (the day after L).\n",
        "Answer: b) Saturday"
      ],
      "metadata": {
        "id": "zf8_hpIdWDjr"
      },
      "execution_count": null,
      "outputs": []
    },
    {
      "cell_type": "code",
      "source": [
        "23) M conducts workshop on which day?\n",
        "a) Saturday  b) Sunday  c) Tuesday  d) Thursday\n",
        "•\tM conducts the workshop for Company A, but not on Tuesday. Since Q and L have Saturday and Thursday, respectively, M must conduct the workshop on Sunday.\n",
        "Answer: b) Sunday"
      ],
      "metadata": {
        "id": "6ZZPN3TuWDsP"
      },
      "execution_count": null,
      "outputs": []
    },
    {
      "cell_type": "code",
      "source": [
        "24) Who conducts workshop for Company C & on which day?\n",
        "a) R, Thursday  b) R, Tuesday  c) Q, Saturday  d) Q, Sunday\n",
        "•\tR conducts the workshop on Tuesday, so R conducts the workshop for Company C on Tuesday.\n",
        "Answer: b) R, Tuesday"
      ],
      "metadata": {
        "id": "0kOnQg_bWDxD"
      },
      "execution_count": null,
      "outputs": []
    },
    {
      "cell_type": "code",
      "source": [
        "Directions: Five roommates Rony, Sally, Terry, Uma, and Vernon each do one housekeeping task mopping, sweeping, laundry, vacuuming, or dusting one day a week, Mon to Fri.\n",
        "> Vernon does not vacuum and does not do his task on Tue.\n",
        "> Sally does the dusting, and does not do it on Mon or Fri.\n",
        "> The mopping is done on Thurs.\n",
        "> Terry does his task, which is not vacuuming, on Wed.\n",
        "> The laundry is done on Fri, and not by Uma.\n",
        "> Rony does his task on Mon.\n",
        "25) What task does Vernon do?\n",
        "a) vacuuming  b) dusting  c) mopping  d) sweeping  e) laundry\n",
        "•\tSince Vernon does not vacuum or perform his task on Tuesday, and the mopping is done on Thursday, Vernon must do the sweeping.\n",
        "Answer: d) sweeping"
      ],
      "metadata": {
        "id": "WQGi2X88WD2l"
      },
      "execution_count": null,
      "outputs": []
    },
    {
      "cell_type": "code",
      "source": [
        "26) What day is the vacuuming done?\n",
        "a) Friday  b) Monday  c) Tuesday  d) Wednesday  e) Thursday\n",
        "•\tSince Terry does his task (not vacuuming) on Wednesday and Rony does his task on Monday, the vacuuming is done on Tuesday.\n",
        "Answer: c) Tuesday"
      ],
      "metadata": {
        "id": "-GX6-p7DWO0j"
      },
      "execution_count": null,
      "outputs": []
    },
    {
      "cell_type": "code",
      "source": [
        "27) When does Sally do the dusting?\n",
        "a) Friday  b) Monday  c) Tuesday  d) Wednesday  e) Thursday\n",
        "•\tSally does not do her task on Monday or Friday, and the mopping is on Thursday. Therefore, Sally does the dusting on Tuesday.\n",
        "Answer: c) Tuesday"
      ],
      "metadata": {
        "id": "XURKT51GUBeV"
      },
      "execution_count": null,
      "outputs": []
    },
    {
      "cell_type": "code",
      "source": [
        "Directions: Five friends (Avinash, Vijay, Alok, Vivek and Rajiv) went to a hotel and ordered five different soups (Tomato, Chicken, Vegetable, Corn and Mutton), followed by lunch. After lunch, they ordered five different desserts (Mango, Pista, Vanilla, Tutti-Fruti and Casatta).\n",
        "> Avinash ordered for vegetable soup and Mango ice-cream\n",
        "> Vivek didn't order mutton soup but ordered Vanilla ice-cream\n",
        "> Vijay is a vegetarian who ordered Tutti-Fruti ice-cream\n",
        "> The one who ordered corn-soup also ordered Pista ice-cream\n",
        "> Rajiv ordered Casatta ice-cream\n",
        "28) Who among the following ordered Tomato soup?\n",
        "a) Avinash  b) Vijay  c) Alok  d) Vivek\n",
        "•\tAvinash ordered vegetable soup, and Vivek didn’t order mutton soup. Vijay is a vegetarian, so he wouldn’t have ordered mutton or chicken. Rajiv ordered Casatta ice-cream, so the remaining person is Alok, who ordered Tomato soup.\n",
        "Answer: c) Alok"
      ],
      "metadata": {
        "id": "vbds46L8b5Bz"
      },
      "execution_count": null,
      "outputs": []
    },
    {
      "cell_type": "code",
      "source": [
        "29) Which among the following soups was ordered by Vivek?\n",
        "a) Vegetable  b) Corn  c) Chicken  d) Mutton\n",
        "•\tVivek didn’t order mutton soup and ordered Vanilla ice-cream. Therefore, the remaining option for Vivek is Chicken soup.\n",
        "Answer: c) Chicken"
      ],
      "metadata": {
        "id": "9sLqklSyb5Fd"
      },
      "execution_count": null,
      "outputs": []
    },
    {
      "cell_type": "code",
      "source": [
        "30) Which of the following combinations is FALSE?\n",
        "a) Rajiv - Chicken soup  b) Tomato soup - Tutti Fruti ice-cream\n",
        "c) Chicken soup – Vivek  d) Alok - Corn soup\n",
        "•\tRajiv ordered Casatta ice-cream, and the only soup left for him is Chicken. The false combination is Chicken soup – Vivek, as Vivek ordered Vanilla ice-cream, and we already established he ordered Chicken soup.\n",
        "Answer: c) Chicken soup – Vivek"
      ],
      "metadata": {
        "id": "w8WgQIhQb5I2"
      },
      "execution_count": null,
      "outputs": []
    },
    {
      "cell_type": "code",
      "source": [
        "31) Which of the following ice-creams was ordered by Alok?\n",
        "a) Vanilla  b) Tutti-Fruti  c) Mango  d) Pista\n",
        "The person who ordered corn soup also ordered Pista ice-cream, and Alok ordered Tomato soup. Therefore, Alok ordered Pista ice-cream.\n",
        "Answer: d) Pista"
      ],
      "metadata": {
        "id": "184i6W5gb5MQ"
      },
      "execution_count": null,
      "outputs": []
    },
    {
      "cell_type": "code",
      "source": [
        "32) Which of the following combinations is TRUE?\n",
        "a) Avinash - Tomato soup - Tutti-Fruti ice-cream\n",
        "b) Vijay - Corn soup - Mango ice-cream\n",
        "c) Alok - Mutton soup - Pista ice-cream\n",
        "d) Vivek - Chicken soup - Vanilla ice-cream\n",
        "•\tAlok ordered Tomato soup and Pista ice-cream, making the correct answer:\n",
        "Answer: d) Vivek - Chicken soup - Vanilla ice-cream"
      ],
      "metadata": {
        "id": "QzY43EbZb5Pl"
      },
      "execution_count": null,
      "outputs": []
    },
    {
      "cell_type": "code",
      "source": [
        "Directions: Read the following information carefully and answer the questions given below it:\n",
        "There are six persons A, B, C, D, E and F in a school. Each of the teachers teaches two subjects, one compulsory subject and the other optional subject. D's optional subject was History while three others have it as compulsory subject. E and F have Physics as one of their subjects. F's compulsory subject is Mathematics which is an optional subject of both C and E. History and English are A's compulsory and optional subjects respectively. Chemistry is an optional subject of only one of them. The only female teacher in the school has History and English as her optional and compulsory subject respectively.\n",
        "33) What is C's compulsory subject?\n",
        "a) History  b) Physics  c) Chemistry  d) English  e) Mathematics"
      ],
      "metadata": {
        "id": "Ws46rPAdb5S6"
      },
      "execution_count": null,
      "outputs": []
    },
    {
      "cell_type": "code",
      "source": [
        "34) Who is a female teacher in the group?\n",
        "a) A  b) B  c) C  d) D  e) E\n",
        "•\tC’s optional subject is Mathematics (as it is F’s compulsory subject), and C’s compulsory subject must be one of the remaining. Since D, B, and A have History, and E and F have Physics, C's compulsory subject is History.\n",
        "Answer: a) History"
      ],
      "metadata": {
        "id": "QINAKdQZb5WU"
      },
      "execution_count": null,
      "outputs": []
    },
    {
      "cell_type": "code",
      "source": [
        "35) Which of the following has the same compulsory and optional subjects as those of F's?\n",
        "a) D  b) B  c) A  d) C  e) None of these\n",
        "•\tA's optional subject is English, and she has History as her compulsory subject. Since she is the only teacher with this combination and the only female teacher, A is the female.\n",
        "Answer: a) A"
      ],
      "metadata": {
        "id": "7ifiDXJ0ckCo"
      },
      "execution_count": null,
      "outputs": []
    },
    {
      "cell_type": "code",
      "source": [
        "36) Disregarding which is compulsory and which is optional subject, who has the same combination of subjects as F?\n",
        "a) A  b) B  c) E  d) D  e) None of these\n",
        "F’s compulsory subject is Mathematics, and the optional subject is Physics. No one else has this exact combination of subjects.\n",
        "Answer: e) None of these"
      ],
      "metadata": {
        "id": "FZnJA-tqckGJ"
      },
      "execution_count": null,
      "outputs": []
    },
    {
      "cell_type": "code",
      "source": [
        "37) Which of the following groups has History as the compulsory subject?\n",
        "a) A,C and D  b) B, C and D  c) C and D  d) A, B and C  e) A and D\n",
        "•\tA, C, and D all have History as their compulsory subject.\n",
        "Answer: a) A, C and D"
      ],
      "metadata": {
        "id": "omCIzpM-LxIL"
      },
      "execution_count": null,
      "outputs": []
    },
    {
      "cell_type": "code",
      "source": [
        "Directions: At a small company, parking spaces are reserved for the top executives: CEO, president, vice president, secretary, and treasurer with the spaces lined up in that order. The guard can tell at a glance if the cars are parked correctly by their colours. The cars are yellow, green, purple, red, and blue, and the executives are Alice, Bert, Cheryl, David, and Enid.\n",
        "> The car in the first space is red.\n",
        "> A blue car is parked between the red car and the green car.\n",
        "> The car in the last space is purple.\n",
        "> The secretary drives a yellow car.\n",
        "> Alice's car is parked next to David's.\n",
        "> Enid drives a green car.\n",
        "> Bert's car is parked between Cheryl's and Enid's.\n",
        "> David's car is parked in the last space.\n",
        "38) Who is the secretary?\n",
        "a) Enid  b) David  c) Cheryl  d) Bert  e) Alice\n",
        "•\tThe secretary drives the yellow car, and Cheryl must be the one driving the yellow car.\n",
        "Answer: c) Cheryl"
      ],
      "metadata": {
        "id": "kuGRVyEOckJZ"
      },
      "execution_count": null,
      "outputs": []
    },
    {
      "cell_type": "code",
      "source": [
        "39) Who is the CEO ?\n",
        "a) Alice  b) Bert  c) Cheryl  d) David  e) Enid\n",
        "•\tAlice’s car is parked next to David’s, and David’s car is in the last space. Since Alice’s car is not in the last space and must be in one of the middle spaces, Alice is the CEO.\n",
        "Answer: a) Alice"
      ],
      "metadata": {
        "id": "BaWBn_7bckQJ"
      },
      "execution_count": null,
      "outputs": []
    },
    {
      "cell_type": "code",
      "source": [
        "40) What color is the vice president's car?\n",
        "a) green  b) yellow  c) blue  d) purple  e) red\n",
        "•\tBert's car is parked between Cheryl’s and Enid’s. Since Cheryl drives the yellow car and Enid drives the green car, Bert's car is blue.\n",
        "Answer: c) blue"
      ],
      "metadata": {
        "id": "M1XtLQg1ckTa"
      },
      "execution_count": null,
      "outputs": []
    },
    {
      "cell_type": "code",
      "source": [
        "Directions: Parul, Mohit and Sahil are children of Mr. and Mrs. Ahuja. Rosy, Abhishek and Sandeep are children of Mr. and Mrs. Mehta. Sandeep and Parul are married and Arjun and Sohan are their children, Gunjan and Rakesh are children of Mr. and Mrs. Gupta. Gunjan is married to Sahil and they have three children Raveena, Sonu and Rajat.\n",
        "8.\tHow is Mohit related to Arjun?\n",
        "a.\tSister \tb) Maternal Uncle \tc) Brother \td) Cousin\n",
        "•\tMohit is the brother of Parul, and Parul is Arjun's mother. Therefore, Mohit is Arjun's maternal uncle.\n",
        "Answer: b) Maternal Uncle"
      ],
      "metadata": {
        "id": "_xsQUAaDN9nc"
      },
      "execution_count": null,
      "outputs": []
    },
    {
      "cell_type": "code",
      "source": [
        "9.\tHow is Abhishek related to Parul?\n",
        "a.\tBrother-in-law  \tb) Cousin  \tc) Father-in-law \td) Nephew\n",
        "•\tAbhishek is the sibling of Sandeep, who is married to Parul. Therefore, Abhishek is Parul's brother-in-law.\n",
        "Answer: a) Brother-in-law"
      ],
      "metadata": {
        "id": "b7Qcz-jQOdh8"
      },
      "execution_count": null,
      "outputs": []
    },
    {
      "cell_type": "code",
      "source": [
        "10.\tHow is Parul related to Rosy?\n",
        "a.\tNiece \tb) Aunty \tc) Mother-in-law \td) Sister-in-law\n",
        "•\tParul is married to Sandeep, who is Rosy's brother. Therefore, Parul is Rosy's sister-in-law.\n",
        "Answer: d) Sister-in-law"
      ],
      "metadata": {
        "id": "5gvA_UgPOdk8"
      },
      "execution_count": null,
      "outputs": []
    },
    {
      "cell_type": "code",
      "source": [
        "11.\tHow is Rakesh related to Rajat?\n",
        "a.\tUncle \tb) Cousin \tc) Father-in-law \td) Nephew\n",
        "•\tRakesh is Gunjan’s brother, and Gunjan is Rajat's mother. Therefore, Rakesh is Rajat's uncle.\n",
        "Answer: a) Uncle"
      ],
      "metadata": {
        "id": "llpKNodeOdnp"
      },
      "execution_count": null,
      "outputs": []
    },
    {
      "cell_type": "code",
      "source": [
        "12.\tHow is Mr. Ahuja related to Sahil?\n",
        "a.\tCousin \tb) Brother \tc) Father \t \td) Father-in-law\n",
        "•\tSahil is married to Gunjan, Mr. Gupta's daughter. Therefore, Mr. Ahuja is Sahil's father.\n",
        "Answer: c) Father"
      ],
      "metadata": {
        "id": "Ytnw5yQMOdqQ"
      },
      "execution_count": null,
      "outputs": []
    },
    {
      "cell_type": "code",
      "source": [
        "Directions: A bus has exactly six stops on its route. The bus first stops at stop one and then at stops two, three, four, five and six respectively. After the bus leaves stop six, the bus returns to stop one and repeats the cycle. It stops at six different places which are in alphabetical order A,B,C,D,E and F\n",
        "i) \tE is the third stop    ii) \tB is the sixth stop\n",
        "iii) \tThe stop D is the stop immediately before F iv) \tC is the stop immediate before A\n",
        "13.\tIn case C is the fourth stop, which among the following must be the stop immediately before E ?\n",
        "a.\tD \t \tb) A \t \tc) F \t \td) C\n",
        "•\tSince E is the third stop and D is immediately before F, D must be the stop immediately before E.\n",
        "Answer: a) D"
      ],
      "metadata": {
        "id": "LN8hEaJLQ7ru"
      },
      "execution_count": null,
      "outputs": []
    },
    {
      "cell_type": "code",
      "source": [
        "14.\tIn case A is the second stop, which among the following must be the stop immediately before B?\n",
        "a.\tE \t \tb) C \t \tc) F \t \td) A\n",
        "•\tIf A is the second stop, C is the stop immediately before A. Therefore, C must be the stop immediately before B.\n",
        "Answer: b) C"
      ],
      "metadata": {
        "id": "la2cqkA0OmOF"
      },
      "execution_count": null,
      "outputs": []
    },
    {
      "cell_type": "code",
      "source": [
        "15.\tIn case a passenger gets on the bus at D, sides part one of the stops, and gets off at E, which of the following must be true?\n",
        "a.\tC is stop five\n",
        "b.\tF is stop three\n",
        "c.\tE is stop four\n",
        "d.\tD is stop one\n",
        "•\tSince D is stop five and E is stop three, F must be stop three.\n",
        "Answer: c) F is stop three"
      ],
      "metadata": {
        "id": "lBMGcUoJOmQg"
      },
      "execution_count": null,
      "outputs": []
    },
    {
      "cell_type": "code",
      "source": [
        "Directions: A perfume maker uses two or more essences out of a stock of five essences-L,M,N,O and P to make all types of perfumes he deals in. He follows the given rules to ensure that the essences are in agreement with each other in the perfume:\n",
        "i) A perfume containing L should also contain the essence N, and the quantity of N should be twice as that of L.\n",
        "ii) A perfume containing M must also have O as one of its components and they should be in equal proportion.\n",
        "iii.\tA single perfume should never contain N as well as O; nor can it contain both O and P.\n",
        "iii.\tA perfume containing the essence P should contain P in such a proportion that the total amount of P present should be greater than the total amount of the other essence or essences used.\n",
        "16.\tA perfume contains essences M and O in equal quantities. Which of the following essences can be added to it without impacting its nature (i.e. not making it against the agreed norms)\n",
        "a.\tL \t \tb) N \t \tc) P \t \td) none of the above\n",
        "•\tAccording to the rules, adding L or P would violate the rules. None of the essences can be added.\n",
        "Answer: d) none of the above"
      ],
      "metadata": {
        "id": "dL1C9QGCPaxt"
      },
      "execution_count": null,
      "outputs": []
    },
    {
      "cell_type": "code",
      "source": [
        "17.\tAmong the following, which is an agreeable formula for a perfume?\n",
        "a.\tThree parts N, three parts L\n",
        "b.\tOne part L, one part P\n",
        "c.\tFour parts O, four parts M\n",
        "d.\tTwo parts M, two parts L\n",
        "•\tA perfume containing four parts O and four parts M is an agreeable formula as per the rules.\n",
        "Answer: c) Four parts O, four parts M"
      ],
      "metadata": {
        "id": "mZSmfyVmPa0_"
      },
      "execution_count": null,
      "outputs": []
    },
    {
      "cell_type": "code",
      "source": [
        "18.\tAmong the following, the addition of which combination would make an unagreeable perfume containing two parts N and one part P agreeable?\n",
        "a.\tOne part N  \tb) One part O  \tc) One part P d) Two parts P\n",
        "•\tTo make the perfume agreeable, the amount of P must exceed that of the other essences. Adding two parts of P would make it agreeable.\n",
        "Answer: d) Two parts P"
      ],
      "metadata": {
        "id": "tR9nxzXiPa3k"
      },
      "execution_count": null,
      "outputs": []
    },
    {
      "cell_type": "code",
      "source": [
        "19.\tAdding one part of N will make which of the following perfumes agreeable\n",
        "a.\tTwo parts M, one part N, four parts P.\n",
        "b.\tOne part M, one part N, one part P\n",
        "c.\tTwo parts M, two parts N, two parts P\n",
        "d.\tOne part L, one part N, five parts P\n",
        "One part L, one part N, and five parts P will be agreeable according to the rules.\n",
        "Answer: d) One part L, one part N, five parts P"
      ],
      "metadata": {
        "id": "5V4V2dsqPa6j"
      },
      "execution_count": null,
      "outputs": []
    },
    {
      "cell_type": "code",
      "source": [
        "Directions:A,B,C,D are all different individuals\n",
        "i) \tA is the daughter of B              ii) \tB is the son of C         iii) \tC is the father of D\n",
        "•\tIf Y is the daughter of B, then A and Y are sisters."
      ],
      "metadata": {
        "id": "SEGmf-k9Pa-S"
      },
      "execution_count": null,
      "outputs": []
    },
    {
      "cell_type": "code",
      "source": [
        "20.\tAmong the following statements, which is true?\n",
        "a.\tC is the uncle of A\n",
        "b.\tB and D are brothers\n",
        "c.\tA is the daughter of D\n",
        "d.\tIf Y is the daughter of B, then A and Y are sisters\n",
        "Answer: d) If Y is the daughter of B, then A and Y are sisters"
      ],
      "metadata": {
        "id": "XoNLONDxPmxc"
      },
      "execution_count": null,
      "outputs": []
    },
    {
      "cell_type": "code",
      "source": [
        "21.\tWhich among the following statements in contradictory to the above premises?\n",
        "a.\tD is the father of A\n",
        "b.\tC has three children\n",
        "c.\tA has one brother\n",
        "d.\tA is the granddaughter of C\n",
        "•\tAccording to the premises, D is not the father of A.\n",
        "Answer: a) D is the father of A"
      ],
      "metadata": {
        "id": "dInCA1X4Pm0P"
      },
      "execution_count": null,
      "outputs": []
    },
    {
      "cell_type": "code",
      "source": [
        "22.\tIf Y is the son of B and Y has one brother Z, then\n",
        " \ti) \tA is the sister of Z  \tii) \tZ and B are brothers  \tiii) \tC is the grandfather of Z\n",
        "1 only \tb) II only \tc) III only \td) I and III only\n",
        "•\tA is the sister of Z, and C is the grandfather of Z.\n",
        "Answer: d) I and III only"
      ],
      "metadata": {
        "id": "qp_5k1D3Pm5W"
      },
      "execution_count": null,
      "outputs": []
    }
  ]
}