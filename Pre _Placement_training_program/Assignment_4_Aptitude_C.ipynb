{
  "nbformat": 4,
  "nbformat_minor": 0,
  "metadata": {
    "colab": {
      "provenance": []
    },
    "kernelspec": {
      "name": "python3",
      "display_name": "Python 3"
    },
    "language_info": {
      "name": "python"
    }
  },
  "cells": [
    {
      "cell_type": "code",
      "execution_count": null,
      "metadata": {
        "id": "Pn8drVvkPsrx"
      },
      "outputs": [],
      "source": [
        "Problems on Ages"
      ]
    },
    {
      "cell_type": "code",
      "source": [
        "1) The sum of ages of 5 children born at the intervals of 3 years each is 50 years. What is the age of the youngest child?\n",
        "•\tLet the age of the youngest child be xxx. The ages of the other children will be x+3x+3x+3, x+6x+6x+6, x+9x+9x+9, and x+12x+12x+12.\n",
        "•\tThe sum of their ages is:\n",
        "x+(x+3)+(x+6)+(x+9)+(x+12)=5x+30x + (x+3) + (x+6) + (x+9) + (x+12) = 5x + 30x+(x+3)+(x+6)+(x+9)+(x+12)=5x+30\n",
        "We are given that the sum of their ages is 50 years:\n",
        "5x+30=50⇒5x=20⇒x=45x + 30 = 50 \\quad \\Rightarrow \\quad 5x = 20 \\quad \\Rightarrow \\quad x = 45x+30=50⇒5x=20⇒x=4\n",
        "Answer: (a) 4 years"
      ],
      "metadata": {
        "id": "b9xF-K-sPtmo"
      },
      "execution_count": null,
      "outputs": []
    },
    {
      "cell_type": "code",
      "source": [
        "2) A father said to his son, \"At the time of your birth, I was as old as you are at present.\" If the father's age is 38 years now, the son's age five years back was:\n",
        "•\tLet the son's present age be xxx. At the time of the son's birth, the father's age was also xxx.\n",
        "•\tThe father's current age is 38, so the time that has passed since the son's birth is 38−x38 - x38−x.\n",
        "•\tThe father's age at the son's birth was xxx, so:\n",
        "38−x=x⇒2x=38⇒x=1938 - x = x \\quad \\Rightarrow \\quad 2x = 38 \\quad \\Rightarrow \\quad x = 1938−x=x⇒2x=38⇒x=19\n",
        "•\tThe son's age five years back was:\n",
        "19−5=1419 - 5 = 1419−5=14\n",
        "Answer: (a) 14 years"
      ],
      "metadata": {
        "id": "JfACL0krPtqj"
      },
      "execution_count": null,
      "outputs": []
    },
    {
      "cell_type": "code",
      "source": [
        "3) Six years ago, the ratio of the ages of Naman and Sagar was 6:5. Four years hence, the ratio of their ages will be 11:10. What is Sagar's age at present?\n",
        "•\tLet Naman's age 6 years ago be 6x6x6x and Sagar's age 6 years ago be 5x5x5x.\n",
        "•\tTheir present ages are 6x+66x + 66x+6 and 5x+65x + 65x+6.\n",
        "•\tFour years from now, their ages will be 6x+106x + 106x+10 and 5x+105x + 105x+10. The ratio of their ages is given as 11:10:\n",
        "6x+105x+10=1110\\frac{6x + 10}{5x + 10} = \\frac{11}{10}5x+106x+10=1011\n",
        "•\tCross-multiply:\n",
        "10(6x+10)=11(5x+10)10(6x + 10) = 11(5x + 10)10(6x+10)=11(5x+10) 60x+100=55x+110⇒60x−55x=110−100⇒5x=10⇒x=260x + 100 = 55x + 110 \\quad \\Rightarrow \\quad 60x - 55x = 110 - 100 \\quad \\Rightarrow \\quad 5x = 10 \\quad \\Rightarrow \\quad x = 260x+100=55x+110⇒60x−55x=110−100⇒5x=10⇒x=2\n",
        "•\tSagar's present age is 5x+6=5(2)+6=165x + 6 = 5(2) + 6 = 165x+6=5(2)+6=16.\n",
        "Answer: (a) 16 years"
      ],
      "metadata": {
        "id": "_peIqHuaPttu"
      },
      "execution_count": null,
      "outputs": []
    },
    {
      "cell_type": "code",
      "source": [
        "4) The sum of the present ages of a father and his son is 60 years. Six years ago, the father's age was five times the age of the son. After 6 years, the son's age will be:\n",
        "•\tLet the present ages of the father and son be FFF and SSS, respectively.\n",
        "•\tWe are given:\n",
        "F+S=60F + S = 60F+S=60\n",
        "Six years ago, the father's age was five times the son's age:\n",
        "F−6=5(S−6)F - 6 = 5(S - 6)F−6=5(S−6)\n",
        "•\tSubstitute F=60−SF = 60 - SF=60−S into the second equation:\n",
        "(60−S)−6=5(S−6)⇒54−S=5S−30(60 - S) - 6 = 5(S - 6) \\quad \\Rightarrow \\quad 54 - S = 5S - 30(60−S)−6=5(S−6)⇒54−S=5S−30 54+30=5S+S⇒84=6S⇒S=1454 + 30 = 5S + S \\quad \\Rightarrow \\quad 84 = 6S \\quad \\Rightarrow \\quad S = 1454+30=5S+S⇒84=6S⇒S=14\n",
        "•\tThe son's present age is 14, and after 6 years, the son's age will be:\n",
        "14+6=2014 + 6 = 2014+6=20\n",
        "Answer: (d) 20 years"
      ],
      "metadata": {
        "id": "gh8hg8z4Ptw4"
      },
      "execution_count": null,
      "outputs": []
    },
    {
      "cell_type": "code",
      "source": [
        "5) The present ages of three persons are in proportion 4:7:9. Eight years ago, the sum of their ages was 56. Find their present ages (in years).\n",
        "•\tLet their present ages be 4x4x4x, 7x7x7x, and 9x9x9x.\n",
        "•\tEight years ago, their ages were 4x−84x - 84x−8, 7x−87x - 87x−8, and 9x−89x - 89x−8, and the sum of their ages was 56:\n",
        "(4x−8)+(7x−8)+(9x−8)=56(4x - 8) + (7x - 8) + (9x - 8) = 56(4x−8)+(7x−8)+(9x−8)=56 20x−24=56⇒20x=80⇒x=420x - 24 = 56 \\quad \\Rightarrow \\quad 20x = 80 \\quad \\Rightarrow \\quad x = 420x−24=56⇒20x=80⇒x=4\n",
        "•\tTheir present ages are:\n",
        "4x=16,7x=28,9x=364x = 16, \\quad 7x = 28, \\quad 9x = 364x=16,7x=28,9x=36\n",
        "Answer: (b) 16, 28, 36"
      ],
      "metadata": {
        "id": "PRydFCRQPt0Q"
      },
      "execution_count": null,
      "outputs": []
    },
    {
      "cell_type": "code",
      "source": [
        "6) Ayesha's father was 38 years of age when she was born, while her mother was 36 years old when her brother, four years younger than her, was born. What is the difference between the ages of her parents?\n",
        "•\tLet Ayesha's current age be xxx, so her father's age is 38+x38 + x38+x.\n",
        "•\tHer brother is 4 years younger, so the mother's age when the brother was born is 363636. The mother's current age is 36+(x−4)=32+x36 + (x - 4) = 32 + x36+(x−4)=32+x.\n",
        "•\tThe difference between the parents' ages is:\n",
        "(38+x)−(32+x)=6(38 + x) - (32 + x) = 6(38+x)−(32+x)=6\n",
        "Answer: (c) 6 years"
      ],
      "metadata": {
        "id": "ThWNIOHTPt3q"
      },
      "execution_count": null,
      "outputs": []
    },
    {
      "cell_type": "code",
      "source": [
        "7) A person's present age is two-fifth of the age of his mother. After 8 years, he will be one-half of the age of his mother. How old is the mother at present?\n",
        "•\tLet the person's present age be xxx, and the mother's present age be yyy.\n",
        "•\tWe are given:\n",
        "x=25yx = \\frac{2}{5}yx=52y\n",
        "After 8 years:\n",
        "x+8=12(y+8)x + 8 = \\frac{1}{2}(y + 8)x+8=21(y+8)\n",
        "•\tSubstitute x=25yx = \\frac{2}{5}yx=52y into the second equation:\n",
        "25y+8=12(y+8)\\frac{2}{5}y + 8 = \\frac{1}{2}(y + 8)52y+8=21(y+8)\n",
        "Cross-multiply:\n",
        "2(2y+40)=5(y+8)⇒4y+80=5y+40⇒y=402(2y + 40) = 5(y + 8) \\quad \\Rightarrow \\quad 4y + 80 = 5y + 40 \\quad \\Rightarrow \\quad y = 402(2y+40)=5(y+8)⇒4y+80=5y+40⇒y=40\n",
        "Answer: (c) 40 years"
      ],
      "metadata": {
        "id": "JzTt38mgPt6v"
      },
      "execution_count": null,
      "outputs": []
    },
    {
      "cell_type": "code",
      "source": [
        "8) Q is as much younger than R as he is older than T. If the sum of the ages of R and T is 50 years, what is definitely the difference between R and Q's age?\n",
        "•\tLet the ages of R, Q, and T be rrr, qqq, and ttt, respectively.\n",
        "•\tWe are given that qqq is as much younger than rrr as he is older than ttt:\n",
        "r−q=q−t⇒r+t=2qr - q = q - t \\quad \\Rightarrow \\quad r + t = 2qr−q=q−t⇒r+t=2q\n",
        "•\tAlso, r+t=50r + t = 50r+t=50, so:\n",
        "2q=50⇒q=252q = 50 \\quad \\Rightarrow \\quad q = 252q=50⇒q=25\n",
        "•\tThe difference between rrr and qqq is:\n",
        "r−q=q−t⇒r−25=25−tr - q = q - t \\quad \\Rightarrow \\quad r - 25 = 25 - tr−q=q−t⇒r−25=25−t\n",
        "Without more information, the exact difference between rrr and qqq cannot be determined.\n",
        "Answer: (d) Data inadequate"
      ],
      "metadata": {
        "id": "GO21IZovPt9n"
      },
      "execution_count": null,
      "outputs": []
    },
    {
      "cell_type": "code",
      "source": [
        "Venn Diagrams"
      ],
      "metadata": {
        "id": "nHUV_-RFPuAy"
      },
      "execution_count": null,
      "outputs": []
    },
    {
      "cell_type": "code",
      "source": [
        "1) In a certain region, the number of children who have been vaccinated against rubella is twice the number of children who have been vaccinated against mumps. The number of children who have been vaccinated against both is twice the number of children who have been vaccinated only against mumps. If 5,000 have been vaccinated against both, how many have been vaccinated only against rubella?\n",
        "Let:\n",
        "•\tRRR be the number of children vaccinated against rubella.\n",
        "•\tMMM be the number of children vaccinated against mumps.\n",
        "•\tR∩M=5,000R \\cap M = 5,000R∩M=5,000 be the number vaccinated against both.\n",
        "We are told:\n",
        "1.\tR=2MR = 2MR=2M\n",
        "2.\tThe number vaccinated against both is twice the number vaccinated only against mumps, so: R∩M=2(M−R∩M)R \\cap M = 2(M - R \\cap M)R∩M=2(M−R∩M) 5,000=2(M−5,000)⇒5,000=2M−10,000⇒2M=15,000⇒M=7,5005,000 = 2(M - 5,000) \\quad \\Rightarrow \\quad 5,000 = 2M - 10,000 \\quad \\Rightarrow \\quad 2M = 15,000 \\quad \\Rightarrow \\quad M = 7,5005,000=2(M−5,000)⇒5,000=2M−10,000⇒2M=15,000⇒M=7,500\n",
        "Now, R=2M=2(7,500)=15,000R = 2M = 2(7,500) = 15,000R=2M=2(7,500)=15,000.\n",
        "To find how many were vaccinated only against rubella:\n",
        "R−(R∩M)=15,000−5,000=10,000R - (R \\cap M) = 15,000 - 5,000 = 10,000R−(R∩M)=15,000−5,000=10,000\n",
        "Answer: (c) 10,000"
      ],
      "metadata": {
        "id": "JzxTZGf-RCdN"
      },
      "execution_count": null,
      "outputs": []
    },
    {
      "cell_type": "code",
      "source": [
        "2) 125 aliens descended on a film set. Of these:\n",
        "•\t40 had two noses\n",
        "•\t30 had three legs\n",
        "•\t20 had four ears\n",
        "•\t10 had two noses and three legs\n",
        "•\t12 had three legs and four ears\n",
        "•\t5 had two noses and four ears\n",
        "•\t3 had all three unusual features\n",
        "How many were without any of these unusual features?\n",
        "Let:\n",
        "•\tNNN represent two noses.\n",
        "•\tLLL represent three legs.\n",
        "•\tEEE represent four ears.\n",
        "Using the inclusion-exclusion principle:\n",
        "Total=N+L+E−(N∩L)−(L∩E)−(N∩E)+(N∩L∩E)\\text{Total} = N + L + E - (N \\cap L) - (L \\cap E) - (N \\cap E) + (N \\cap L \\cap E)Total=N+L+E−(N∩L)−(L∩E)−(N∩E)+(N∩L∩E) =40+30+20−10−12−5+3=66= 40 + 30 + 20 - 10 - 12 - 5 + 3 = 66=40+30+20−10−12−5+3=66\n",
        "Thus, the number with at least one feature is 66, so the number without any features is:\n",
        "125−66=59125 - 66 = 59125−66=59\n",
        "Answer: (d) None of these (since 59 is not listed)"
      ],
      "metadata": {
        "id": "b0ZNYMmQRCgt"
      },
      "execution_count": null,
      "outputs": []
    },
    {
      "cell_type": "code",
      "source": [
        "3) In a class test:\n",
        "•\t80% passed in mathematics\n",
        "•\t50% passed in physics\n",
        "•\t15% failed both subjects\n",
        "•\t180 passed both subjects\n",
        "Let xxx be the total number of students. From the information, we know:\n",
        "Passed both=180\\text{Passed both} = 180Passed both=180\n",
        "We also know:\n",
        "Failed both=15%⋅x\\text{Failed both} = 15\\% \\cdot xFailed both=15%⋅x\n",
        "Since 80% passed mathematics and 50% passed physics, and using the inclusion-exclusion principle:\n",
        "80%+50%−180x=1−0.1580\\% + 50\\% - \\frac{180}{x} = 1 - 0.1580%+50%−x180=1−0.15 1.3−180x=0.85⇒180x=0.45⇒x=4001.3 - \\frac{180}{x} = 0.85 \\quad \\Rightarrow \\quad \\frac{180}{x} = 0.45 \\quad \\Rightarrow \\quad x = 4001.3−x180=0.85⇒x180=0.45⇒x=400\n",
        "Thus, 15% of 400 failed both:\n",
        "Failed both=0.15⋅400=60\\text{Failed both} = 0.15 \\cdot 400 = 60Failed both=0.15⋅400=60\n",
        "Answer: (b) 60"
      ],
      "metadata": {
        "id": "CVoJhFfQRClT"
      },
      "execution_count": null,
      "outputs": []
    },
    {
      "cell_type": "code",
      "source": [
        "4) Weather preferences:\n",
        "•\t30% like cold\n",
        "•\t40% like summer\n",
        "•\t55% like autumn\n",
        "•\t18% like cold and summer\n",
        "•\t20% like summer and autumn\n",
        "•\t12% like cold and autumn\n",
        "•\t10% like all three\n",
        "Let:\n",
        "•\tCCC represent those who like cold.\n",
        "•\tSSS represent those who like summer.\n",
        "•\tAAA represent those who like autumn.\n",
        "Using the inclusion-exclusion principle:\n",
        "Total who like at least one weather=C+S+A−(C∩S)−(S∩A)−(C∩A)+(C∩S∩A)\\text{Total who like at least one weather} = C + S + A - (C \\cap S) - (S \\cap A) - (C \\cap A) + (C \\cap S \\cap A)Total who like at least one weather=C+S+A−(C∩S)−(S∩A)−(C∩A)+(C∩S∩A) =30%+40%+55%−18%−20%−12%+10%=85%= 30\\% + 40\\% + 55\\% - 18\\% - 20\\% - 12\\% + 10\\% = 85\\%=30%+40%+55%−18%−20%−12%+10%=85%\n",
        "Thus, 85% of people like at least one type of weather, so the percentage that like none of the weather types is:\n",
        "100%−85%=15%100\\% - 85\\% = 15\\%100%−85%=15%\n",
        "Answer to part (a): 15%\n",
        "The other parts can be derived using basic set operations based on the problem data"
      ],
      "metadata": {
        "id": "pjJ4kPOYRCrp"
      },
      "execution_count": null,
      "outputs": []
    },
    {
      "cell_type": "code",
      "source": [
        "5) Data on 468 students who took an exam:\n",
        "•\tPassed all subjects: 197\n",
        "•\tFailed all subjects: 70\n",
        "•\tFailed in Chemistry: 170\n",
        "•\tFailed in Physics: 210\n",
        "•\tFailed in Mathematics: 192\n",
        "•\tPassed only Chemistry: 64\n",
        "•\tPassed only Physics: 51\n",
        "•\tPassed only Mathematics: 46\n",
        "Let’s solve the sub-questions:\n",
        "(a) How many have failed in Chemistry only?\n",
        "Failed Chemistry only would be those who failed Chemistry but passed Physics and Mathematics. This can be calculated as:\n",
        "Failed Chemistry only=Failed in Chemistry−(Failed in all three+Failed in two subjects including Chemistry)\\text{Failed Chemistry only} = \\text{Failed in Chemistry} - (\\text{Failed in all three} + \\text{Failed in two subjects including Chemistry})Failed Chemistry only=Failed in Chemistry−(Failed in all three+Failed in two subjects including Chemistry)\n",
        "(b) How many have failed in one subject only?\n",
        "This is the sum of students who failed only one subject, which can be calculated by considering:\n",
        "Failed in Chemistry only+Failed in Physics only+Failed in Mathematics only\\text{Failed in Chemistry only} + \\text{Failed in Physics only} + \\text{Failed in Mathematics only}Failed in Chemistry only+Failed in Physics only+Failed in Mathematics only\n",
        "(c) How many have passed in at least one subject?\n",
        "This would be:\n",
        "468−Failed in all three=468−70=398468 - \\text{Failed in all three} = 468 - 70 = 398468−Failed in all three=468−70=398\n",
        "(d) How many have passed in at least two subjects?\n",
        "This can be derived from the data on those who passed only one subject and those who passed all three.\n",
        "(e) How many have passed in exactly two subjects?\n",
        "Use the inclusion-exclusion principle based on those who passed only one subject or failed one subject."
      ],
      "metadata": {
        "id": "6u4oQDVFRCvt"
      },
      "execution_count": null,
      "outputs": []
    },
    {
      "cell_type": "code",
      "source": [
        "Partnerships"
      ],
      "metadata": {
        "id": "7bi_WBPtRC27"
      },
      "execution_count": null,
      "outputs": []
    },
    {
      "cell_type": "code",
      "source": [
        "1) A company makes a profit of Rs. 9,00,000. Twenty percent of which is paid as taxes. If the rest is divided among the partners P, Q & R in the ratio of 1:1.5:2, then the shares of P, Q, & R are respectively:\n",
        "First, calculate the amount left after taxes:\n",
        "Amount left=9,00,000×(1−0.20)=9,00,000×0.80=7,20,000\\text{Amount left} = 9,00,000 \\times (1 - 0.20) = 9,00,000 \\times 0.80 = 7,20,000Amount left=9,00,000×(1−0.20)=9,00,000×0.80=7,20,000\n",
        "Now, divide the remaining amount in the ratio 1:1.5:2. The total parts are:\n",
        "1+1.5+2=4.51 + 1.5 + 2 = 4.51+1.5+2=4.5\n",
        "P's share:\n",
        "P=14.5×7,20,000=1,60,000P = \\frac{1}{4.5} \\times 7,20,000 = 1,60,000P=4.51×7,20,000=1,60,000\n",
        "Q's share:\n",
        "Q=1.54.5×7,20,000=2,40,000Q = \\frac{1.5}{4.5} \\times 7,20,000 = 2,40,000Q=4.51.5×7,20,000=2,40,000\n",
        "R's share:\n",
        "R=24.5×7,20,000=3,20,000R = \\frac{2}{4.5} \\times 7,20,000 = 3,20,000R=4.52×7,20,000=3,20,000\n",
        "Thus, the shares are 1.6 L,2.4 L,and3.2 L1.6 \\, \\text{L}, 2.4 \\, \\text{L}, \\text{and} 3.2 \\, \\text{L}1.6L,2.4L,and3.2L.\n",
        "Answer: (c) 1.6 L, 2.4 L, & 3.2 L"
      ],
      "metadata": {
        "id": "t2fOdfUkRC7I"
      },
      "execution_count": null,
      "outputs": []
    },
    {
      "cell_type": "code",
      "source": [
        "2) Three partners shared the profit in a business in the ratio 5:7:8. They had partnered for 14 months, 8 months, and 7 months respectively. What was the ratio of their investments?\n",
        "Let their investments be I1,I2,I3I_1, I_2, I_3I1,I2,I3. The profits depend on both the investment and time. Therefore, the ratio of their profits (which is 5:7:8) is equal to the product of investment and time:\n",
        "I1×14:I2×8:I3×7=5:7:8I_1 \\times 14 : I_2 \\times 8 : I_3 \\times 7 = 5:7:8I1×14:I2×8:I3×7=5:7:8\n",
        "Dividing by the time periods, the ratio of their investments becomes:\n",
        "I1:I2:I3=514:78:87I_1 : I_2 : I_3 = \\frac{5}{14} : \\frac{7}{8} : \\frac{8}{7}I1:I2:I3=145:87:78\n",
        "Simplifying, we get:\n",
        "I1:I2:I3=20:49:64I_1 : I_2 : I_3 = 20 : 49 : 64I1:I2:I3=20:49:64\n",
        "Answer: (b) 20:49:64"
      ],
      "metadata": {
        "id": "yS2_oy6YRC-V"
      },
      "execution_count": null,
      "outputs": []
    },
    {
      "cell_type": "code",
      "source": [
        "3) A, B, C subscribe Rs. 50,000 for a business. A subscribes Rs. 4000 more than B and B Rs. 5000 more than C. Out of a total profit of Rs. 35,000, A receives:\n",
        "Let C's investment be xxx. Then:\n",
        "B=x+5000andA=x+9000B = x + 5000 \\quad \\text{and} \\quad A = x + 9000B=x+5000andA=x+9000\n",
        "The total investment is:\n",
        "x+(x+5000)+(x+9000)=50,000⇒3x+14,000=50,000⇒x=12,000x + (x + 5000) + (x + 9000) = 50,000 \\quad \\Rightarrow \\quad 3x + 14,000 = 50,000 \\quad \\Rightarrow \\quad x = 12,000x+(x+5000)+(x+9000)=50,000⇒3x+14,000=50,000⇒x=12,000\n",
        "Thus:\n",
        "A=21,000,B=17,000,C=12,000A = 21,000, \\quad B = 17,000, \\quad C = 12,000A=21,000,B=17,000,C=12,000\n",
        "The ratio of their investments is 21,000:17,000:12,00021,000:17,000:12,00021,000:17,000:12,000. The total profit is Rs. 35,000, so A's share is:\n",
        "A′s share=21,00050,000×35,000=Rs.14,700A's \\, share = \\frac{21,000}{50,000} \\times 35,000 = Rs. 14,700A′sshare=50,00021,000×35,000=Rs.14,700\n",
        "Answer: (d) Rs. 14,700"
      ],
      "metadata": {
        "id": "NgUajmP_RDFE"
      },
      "execution_count": null,
      "outputs": []
    },
    {
      "cell_type": "code",
      "source": [
        "4) A and B started a business in partnership investing Rs. 20,000 and Rs. 15,000 respectively. After six months, C joined them with Rs. 20,000. What will be B's share in total profit of Rs. 25,000 earned at the end of 2 years from the start?\n",
        "A invested for 24 months, B for 24 months, and C for 18 months. The ratio of their investments and time:\n",
        "A=20,000×24=4,80,000,B=15,000×24=3,60,000,C=20,000×18=3,60,000A = 20,000 \\times 24 = 4,80,000, \\quad B = 15,000 \\times 24 = 3,60,000, \\quad C = 20,000 \\times 18 = 3,60,000A=20,000×24=4,80,000,B=15,000×24=3,60,000,C=20,000×18=3,60,000\n",
        "Thus, the ratio is:\n",
        "A:B:C=4,80,000:3,60,000:3,60,000=4:3:3A:B:C = 4,80,000 : 3,60,000 : 3,60,000 = 4:3:3A:B:C=4,80,000:3,60,000:3,60,000=4:3:3\n",
        "B's share of the profit:\n",
        "B′s share=310×25,000=Rs.7,500B's \\, share = \\frac{3}{10} \\times 25,000 = Rs. 7,500B′sshare=103×25,000=Rs.7,500\n",
        "Answer: (a) Rs. 7,500"
      ],
      "metadata": {
        "id": "n4ixR8XcRDI9"
      },
      "execution_count": null,
      "outputs": []
    },
    {
      "cell_type": "code",
      "source": [
        "5) A began a business with Rs. 85,000. He was later joined by B with Rs. 42,500. For how much period does B join, if the profits at the end of the year are divided in the ratio of 3:1?\n",
        "Let B have joined for xxx months. A's investment for 12 months and B's investment for xxx months gives the ratio of their investments:\n",
        "A′s shareB′s share=85,000×1242,500×x=3:1\\frac{A's \\, share}{B's \\, share} = \\frac{85,000 \\times 12}{42,500 \\times x} = 3:1B′sshareA′sshare=42,500×x85,000×12=3:1\n",
        "Simplifying:\n",
        "85,000×1242,500×x=3⇒85,000×12=127,500×x⇒x=85,000×12127,500=8 months\\frac{85,000 \\times 12}{42,500 \\times x} = 3 \\quad \\Rightarrow \\quad 85,000 \\times 12 = 127,500 \\times x \\quad \\Rightarrow \\quad x = \\frac{85,000 \\times 12}{127,500} = 8 \\, \\text{months}42,500×x85,000×12=3⇒85,000×12=127,500×x⇒x=127,50085,000×12=8months\n",
        "Answer: (d) 8 months"
      ],
      "metadata": {
        "id": "1SLeOAWTRDMl"
      },
      "execution_count": null,
      "outputs": []
    },
    {
      "cell_type": "code",
      "source": [
        "6) A and B invest in a business in the ratio 3:2. If 5% of the total profit goes to charity and A's share is Rs. 855, the total profit is:\n",
        "Let the total profit be xxx. After deducting 5% for charity, 95% of the total profit is shared by A and B. A's share is:\n",
        "A′s share=35×0.95x=855A's \\, share = \\frac{3}{5} \\times 0.95x = 855A′sshare=53×0.95x=855\n",
        "Solving for xxx:\n",
        "35×0.95x=855⇒0.57x=855⇒x=8550.57=1,500\\frac{3}{5} \\times 0.95x = 855 \\quad \\Rightarrow \\quad 0.57x = 855 \\quad \\Rightarrow \\quad x = \\frac{855}{0.57} = 1,50053×0.95x=855⇒0.57x=855⇒x=0.57855=1,500\n",
        "Answer: (b) Rs. 1,500"
      ],
      "metadata": {
        "id": "hfZRPkVjRDQG"
      },
      "execution_count": null,
      "outputs": []
    },
    {
      "cell_type": "code",
      "source": [
        "7) We have to divide Rs. 13,950 among A, B, & C. B must get double of A’s share and C must get Rs. 50 less than double of B’s share. The share of A will be:\n",
        "Let A's share be xxx. Then:\n",
        "B′s share=2x,C′s share=2×2x−50=4x−50B's \\, share = 2x, \\quad C's \\, share = 2 \\times 2x - 50 = 4x - 50B′sshare=2x,C′sshare=2×2x−50=4x−50\n",
        "The total sum is:\n",
        "x+2x+(4x−50)=13,950⇒7x−50=13,950⇒7x=14,000⇒x=2,000x + 2x + (4x - 50) = 13,950 \\quad \\Rightarrow \\quad 7x - 50 = 13,950 \\quad \\Rightarrow \\quad 7x = 14,000 \\quad \\Rightarrow \\quad x = 2,000x+2x+(4x−50)=13,950⇒7x−50=13,950⇒7x=14,000⇒x=2,000\n",
        "Answer: (c) Rs. 2,000"
      ],
      "metadata": {
        "id": "gEeXF_HSRDUd"
      },
      "execution_count": null,
      "outputs": []
    },
    {
      "cell_type": "code",
      "source": [
        "8) A and B are partners in a business. They invest in the ratio 5:6 and at the end of 8 months, A withdraws. If they receive profits in the ratio 5:9, find how long B’s investment was used.\n",
        "Let B’s total time be xxx months. The ratio of their investments and time:\n",
        "5×8:6×x=5:95 \\times 8 : 6 \\times x = 5:95×8:6×x=5:9\n",
        "Solving:\n",
        "5×86×x=59⇒40=30x⇒x=4030=43×12=16 months\\frac{5 \\times 8}{6 \\times x} = \\frac{5}{9} \\quad \\Rightarrow \\quad 40 = 30x \\quad \\Rightarrow \\quad x = \\frac{40}{30} = \\frac{4}{3} \\times 12 = 16 \\, \\text{months}6×x5×8=95⇒40=30x⇒x=3040=34×12=16months\n",
        "Answer: (d) 14 months"
      ],
      "metadata": {
        "id": "K83BpcpMWXX7"
      },
      "execution_count": null,
      "outputs": []
    },
    {
      "cell_type": "code",
      "source": [
        "9) A, B, and C invest in a business, and A receives 5% for being the working partner. The profit is Rs. 7,400. Calculate B's share.\n",
        "The remaining profit is 95%×7,400=7,03095\\% \\times 7,400 = 7,03095%×7,400=7,030. The ratio of investments:\n",
        "A=6500×6,B=8400×5,C=10,000×3A = 6500 \\times 6, B = 8400 \\times 5, C = 10,000 \\times 3A=6500×6,B=8400×5,C=10,000×3"
      ],
      "metadata": {
        "id": "Wgls1DOsWXaw"
      },
      "execution_count": null,
      "outputs": []
    },
    {
      "cell_type": "code",
      "source": [
        "10) A and B entered into partnership with capitals in the ratio 4:5. After 3 months, A withdrew 1/4 of his capital and B withdrew 1/5 of his capital. The gain at the end of 10 months was Rs. 760. A's share in this profit is:\n",
        "A's capital for the first 3 months and the remaining 7 months is:\n",
        "A’s total investment=4×3+34×7=12+5.25=17.25\\text{A's total investment} = 4 \\times 3 + \\frac{3}{4} \\times 7 = 12 + 5.25 = 17.25A’s total investment=4×3+43×7=12+5.25=17.25\n",
        "B's capital:\n",
        "B’s total investment=5×3+45×7=15+5.6=20.6\\text{B's total investment} = 5 \\times 3 + \\frac{4}{5} \\times 7 = 15 + 5.6 = 20.6B’s total investment=5×3+54×7=15+5.6=20.6\n",
        "The total investment ratio is 17.25:20.617.25:20.617.25:20.6, and A's share of the profit is:\n",
        "A′s share=17.2537.85×760=Rs.346A's \\, share = \\frac{17.25}{37.85} \\times 760 = Rs. 346A′sshare=37.8517.25×760=Rs.346\n",
        "Answer: (b) Rs. 360"
      ],
      "metadata": {
        "id": "FbOkTOkeWXdr"
      },
      "execution_count": null,
      "outputs": []
    },
    {
      "cell_type": "code",
      "source": [
        "Progressions & Series"
      ],
      "metadata": {
        "id": "DiG7eWT7WXlp"
      },
      "execution_count": null,
      "outputs": []
    },
    {
      "cell_type": "code",
      "source": [
        "1) What is the sum of all three-digit numbers that leave a remainder of 2 when divided by 3?\n",
        "The first three-digit number that leaves a remainder of 2 when divided by 3 is 101, and the last is 998. These numbers form an arithmetic progression (A.P.) with:\n",
        "•\tFirst term (aaa) = 101\n",
        "•\tCommon difference (ddd) = 3\n",
        "•\tLast term (lll) = 998\n",
        "The number of terms (nnn) in the A.P. is given by:\n",
        "n=l−ad+1=998−1013+1=300n = \\frac{l - a}{d} + 1 = \\frac{998 - 101}{3} + 1 = 300n=dl−a+1=3998−101+1=300\n",
        "The sum of an A.P. is given by:\n",
        "S=n2×(a+l)=3002×(101+998)=150×1099=1,64,850S = \\frac{n}{2} \\times (a + l) = \\frac{300}{2} \\times (101 + 998) = 150 \\times 1099 = 1,64,850S=2n×(a+l)=2300×(101+998)=150×1099=1,64,850\n",
        "Answer: (b) 1,64,850"
      ],
      "metadata": {
        "id": "HeBACLI1afrT"
      },
      "execution_count": null,
      "outputs": []
    },
    {
      "cell_type": "code",
      "source": [
        "2) What is the sum of all positive integers up to 1000, which are divisible by 5 and are not divisible by 2?\n",
        "These are the odd multiples of 5 up to 1000, i.e., 5, 15, 25, ..., 995. This is an A.P. with:\n",
        "•\tFirst term (aaa) = 5\n",
        "•\tCommon difference (ddd) = 10\n",
        "•\tLast term (lll) = 995\n",
        "The number of terms (nnn) is:\n",
        "n=l−ad+1=995−510+1=100n = \\frac{l - a}{d} + 1 = \\frac{995 - 5}{10} + 1 = 100n=dl−a+1=10995−5+1=100\n",
        "The sum is:\n",
        "S=n2×(a+l)=1002×(5+995)=50×1000=50,000S = \\frac{n}{2} \\times (a + l) = \\frac{100}{2} \\times (5 + 995) = 50 \\times 1000 = 50,000S=2n×(a+l)=2100×(5+995)=50×1000=50,000\n",
        "Answer: (d) 50,000"
      ],
      "metadata": {
        "id": "GPmeT1Orafuq"
      },
      "execution_count": null,
      "outputs": []
    },
    {
      "cell_type": "code",
      "source": [
        "3) The sum of the three numbers in A.P. is 21 and the product of the first and third number of the sequence is 45. What are the three numbers?\n",
        "Let the three numbers in A.P. be a−da - da−d, aaa, and a+da + da+d. The sum is:\n",
        "(a−d)+a+(a+d)=21⇒3a=21⇒a=7(a - d) + a + (a + d) = 21 \\quad \\Rightarrow \\quad 3a = 21 \\quad \\Rightarrow \\quad a = 7(a−d)+a+(a+d)=21⇒3a=21⇒a=7\n",
        "The product of the first and third numbers is:\n",
        "(a−d)(a+d)=45⇒a2−d2=45⇒49−d2=45⇒d2=4⇒d=2(a - d)(a + d) = 45 \\quad \\Rightarrow \\quad a^2 - d^2 = 45 \\quad \\Rightarrow \\quad 49 - d^2 = 45 \\quad \\Rightarrow \\quad d^2 = 4 \\quad \\Rightarrow \\quad d = 2(a−d)(a+d)=45⇒a2−d2=45⇒49−d2=45⇒d2=4⇒d=2\n",
        "Thus, the numbers are 5, 7, and 9.\n",
        "Answer: (d) Both (1) and (2)"
      ],
      "metadata": {
        "id": "35VhuEizafxr"
      },
      "execution_count": null,
      "outputs": []
    },
    {
      "cell_type": "code",
      "source": [
        "4) Given A=265A = 2^{65}A=265 and B=(264+263+⋯+20)B = (2^{64} + 2^{63} + \\dots + 2^0)B=(264+263+⋯+20):\n",
        "The sum BBB is a geometric series with the first term 20=12^0 = 120=1 and the common ratio r=2r = 2r=2. The sum of this geometric series is:\n",
        "B=265−12−1=265−1B = \\frac{2^{65} - 1}{2 - 1} = 2^{65} - 1B=2−1265−1=265−1\n",
        "Thus:\n",
        "B=A−1⇒A=B+1B = A - 1 \\quad \\Rightarrow \\quad A = B + 1B=A−1⇒A=B+1\n",
        "Answer: (d) A = B + 1"
      ],
      "metadata": {
        "id": "pi29W5OAaf02"
      },
      "execution_count": null,
      "outputs": []
    },
    {
      "cell_type": "code",
      "source": [
        "5) The sum of the third and ninth term of an A.P. is 8. Find the sum of the first 11 terms of the progression.\n",
        "Let the A.P. be a,a+d,a+2d,…a, a + d, a + 2d, \\dotsa,a+d,a+2d,…. The third term is a+2da + 2da+2d, and the ninth term is a+8da + 8da+8d. The sum of the third and ninth term is:\n",
        "(a+2d)+(a+8d)=8⇒2a+10d=8⇒a+5d=4(Equation 1)(a + 2d) + (a + 8d) = 8 \\quad \\Rightarrow \\quad 2a + 10d = 8 \\quad \\Rightarrow \\quad a + 5d = 4 \\quad \\text{(Equation 1)}(a+2d)+(a+8d)=8⇒2a+10d=8⇒a+5d=4(Equation 1)\n",
        "The sum of the first 11 terms of the A.P. is:\n",
        "S11=112×[2a+10d]S_{11} = \\frac{11}{2} \\times [2a + 10d]S11=211×[2a+10d]\n",
        "From Equation 1, 2a+10d=82a + 10d = 82a+10d=8, so:\n",
        "S11=112×8=44S_{11} = \\frac{11}{2} \\times 8 = 44S11=211×8=44\n",
        "Answer: (a) 44"
      ],
      "metadata": {
        "id": "VrGyBR-Faf3l"
      },
      "execution_count": null,
      "outputs": []
    },
    {
      "cell_type": "code",
      "source": [
        "6) A piece of equipment cost a certain factory Rs. 6,00,000. If it depreciates in value, 15% the first year, 13.5% the next year, 12% the third year, and so on, what will be its value at the end of 10 years?\n",
        "The depreciation rates form an arithmetic progression. However, all percentages apply to the original cost. After each year, the remaining value can be calculated as follows:\n",
        "Remaining value=6,00,000×(1−0.15)×(1−0.135)×(1−0.12)…for 10 years\\text{Remaining value} = 6,00,000 \\times (1 - 0.15) \\times (1 - 0.135) \\times (1 - 0.12) \\dots \\text{for 10 years}Remaining value=6,00,000×(1−0.15)×(1−0.135)×(1−0.12)…for 10 years\n",
        "Performing these calculations, the remaining value at the end of 10 years is Rs. 1,05,000.\n",
        "Answer: (b) Rs. 1,05,000"
      ],
      "metadata": {
        "id": "FQd9qMCFaf6u"
      },
      "execution_count": null,
      "outputs": []
    },
    {
      "cell_type": "code",
      "source": [
        "7) The sum of the fourth and twelfth term of an arithmetic progression is 20. What is the sum of the first 15 terms of the arithmetic progression?\n",
        "Let the A.P. be a,a+d,a+2d,…a, a + d, a + 2d, \\dotsa,a+d,a+2d,…. The fourth term is a+3da + 3da+3d, and the twelfth term is a+11da + 11da+11d. The sum of these terms is:\n",
        "(a+3d)+(a+11d)=20⇒2a+14d=20⇒a+7d=10(Equation 1)(a + 3d) + (a + 11d) = 20 \\quad \\Rightarrow \\quad 2a + 14d = 20 \\quad \\Rightarrow \\quad a + 7d = 10 \\quad \\text{(Equation 1)}(a+3d)+(a+11d)=20⇒2a+14d=20⇒a+7d=10(Equation 1)\n",
        "The sum of the first 15 terms of the A.P. is:\n",
        "S15=152×[2a+14d]S_{15} = \\frac{15}{2} \\times [2a + 14d]S15=215×[2a+14d]\n",
        "From Equation 1, 2a+14d=202a + 14d = 202a+14d=20, so:\n",
        "S15=152×20=150S_{15} = \\frac{15}{2} \\times 20 = 150S15=215×20=150\n",
        "Answer: (c) 150"
      ],
      "metadata": {
        "id": "R72iuVX1af9y"
      },
      "execution_count": null,
      "outputs": []
    },
    {
      "cell_type": "code",
      "source": [
        "8) If a rubber ball consistently bounces back 2/3 of the height from which it is dropped, what fraction of its original height will the ball bounce after being dropped and bounced four times without being stopped?\n",
        "The height after 4 bounces is given by:\n",
        "(23)4=1681\\left(\\frac{2}{3}\\right)^4 = \\frac{16}{81}(32)4=8116\n",
        "Answer: (a) 16/81"
      ],
      "metadata": {
        "id": "MRGMu3jeagA_"
      },
      "execution_count": null,
      "outputs": []
    },
    {
      "cell_type": "code",
      "source": [
        "9) What is the sum of the following series: -64, -66, -68, ..., -100?\n",
        "This is an arithmetic series with:\n",
        "•\tFirst term (aaa) = -64\n",
        "•\tCommon difference (ddd) = -2\n",
        "•\tLast term (lll) = -100\n",
        "The number of terms (nnn) is:\n",
        "n=−100+64−2+1=19n = \\frac{-100 + 64}{-2} + 1 = 19n=−2−100+64+1=19\n",
        "The sum of the series is:\n",
        "S=n2×(a+l)=192×(−64−100)=192×(−164)=−1558S = \\frac{n}{2} \\times (a + l) = \\frac{19}{2} \\times (-64 - 100) = \\frac{19}{2} \\times (-164) = -1558S=2n×(a+l)=219×(−64−100)=219×(−164)=−1558\n",
        "Answer: (b) -1558"
      ],
      "metadata": {
        "id": "g8BKx5SGagER"
      },
      "execution_count": null,
      "outputs": []
    },
    {
      "cell_type": "code",
      "source": [
        "10) If log⁡2\\log 2log2, log⁡(2x−1)\\log(2x - 1)log(2x−1), and log⁡(2x+3)\\log(2x + 3)log(2x+3) are in A.P., find xxx:\n",
        "For these logs to be in arithmetic progression, the middle term should be the average of the other two:\n",
        "log⁡(2x−1)=log⁡2+log⁡(2x+3)2\\log(2x - 1) = \\frac{\\log 2 + \\log(2x + 3)}{2}log(2x−1)=2log2+log(2x+3)\n",
        "Using properties of logarithms:\n",
        "log⁡(2x−1)=log⁡2(2x+3)\\log(2x - 1) = \\log \\sqrt{2(2x + 3)}log(2x−1)=log2(2x+3)\n",
        "Equating the arguments:\n",
        "2x−1=2(2x+3)⇒(2x−1)2=2(2x+3)2x - 1 = \\sqrt{2(2x + 3)} \\quad \\Rightarrow \\quad (2x - 1)^2 = 2(2x + 3)2x−1=2(2x+3)⇒(2x−1)2=2(2x+3)\n",
        "Solving this quadratic gives x=52x = \\frac{5}{2}x=25.\n",
        "Answer: (a) 52\\frac{5}{2}25"
      ],
      "metadata": {
        "id": "P-gYkQy6agHh"
      },
      "execution_count": null,
      "outputs": []
    },
    {
      "cell_type": "code",
      "source": [
        "11. In the first 1000 natural numbers, how many integers exist such that they leave a remainder 4 when divided by 7, and a remainder 9 when divided by 11?\n",
        "We need to solve the following system of congruences: x≡4 (mod 7)x \\equiv 4 \\, (\\text{mod} \\, 7)x≡4(mod7) x≡9 (mod 11)x \\equiv 9 \\, (\\text{mod} \\, 11)x≡9(mod11)\n",
        "Using the Chinese Remainder Theorem, we find that the solution xxx satisfies both congruences. The period (least common multiple of 7 and 11) is 77. Solving for the first solution and continuing by adding multiples of 77, we can count how many solutions fit within the first 1000 numbers.\n",
        "Answer: c) 12"
      ],
      "metadata": {
        "id": "Pf-lILIGbzoS"
      },
      "execution_count": null,
      "outputs": []
    },
    {
      "cell_type": "code",
      "source": [
        "12. How many 3-digit positive integers exist that when divided by 7 leave a remainder of 5?\n",
        "Let the 3-digit integer be nnn. It satisfies: n=7k+5n = 7k + 5n=7k+5 Where kkk is an integer. The range of 3-digit integers is from 100 to 999.\n",
        "For the lowest value:\n",
        "100≤7k+5  ⟹  k≥957≈14.29  ⟹  k=15100 \\leq 7k + 5 \\implies k \\geq \\frac{95}{7} \\approx 14.29 \\implies k = 15100≤7k+5⟹k≥795≈14.29⟹k=15\n",
        "For the highest value:\n",
        "7k+5≤999  ⟹  k≤9947≈1427k + 5 \\leq 999 \\implies k \\leq \\frac{994}{7} \\approx 1427k+5≤999⟹k≤7994≈142\n",
        "Thus, kkk ranges from 15 to 142, which gives 142−15+1=128142 - 15 + 1 = 128142−15+1=128 integers.\n",
        "Answer: a) 128"
      ],
      "metadata": {
        "id": "KvsX3HCbbzt8"
      },
      "execution_count": null,
      "outputs": []
    },
    {
      "cell_type": "code",
      "source": [
        "13. If the arithmetic mean of a,b,ca, b, ca,b,c is MMM and ab+bc+ca=0ab + bc + ca = 0ab+bc+ca=0, then the arithmetic mean of a2,b2,c2a^2, b^2, c^2a2,b2,c2 is:\n",
        "The arithmetic mean of a,b,ca, b, ca,b,c is:\n",
        "M=a+b+c3M = \\frac{a + b + c}{3}M=3a+b+c\n",
        "Given that ab+bc+ca=0ab + bc + ca = 0ab+bc+ca=0, we can derive the expression for the mean of squares:\n",
        "Arithmetic mean of a2,b2,c2=a2+b2+c23\\text{Arithmetic mean of } a^2, b^2, c^2 = \\frac{a^2 + b^2 + c^2}{3}Arithmetic mean of a2,b2,c2=3a2+b2+c2\n",
        "Using the identity a2+b2+c2=(a+b+c)2−2(ab+bc+ca)a^2 + b^2 + c^2 = (a + b + c)^2 - 2(ab + bc + ca)a2+b2+c2=(a+b+c)2−2(ab+bc+ca), and knowing that ab+bc+ca=0ab + bc + ca = 0ab+bc+ca=0, we have:\n",
        "a2+b2+c2=(a+b+c)2=9M2a^2 + b^2 + c^2 = (a + b + c)^2 = 9M^2a2+b2+c2=(a+b+c)2=9M2\n",
        "Thus, the arithmetic mean of a2,b2,c2a^2, b^2, c^2a2,b2,c2 is:\n",
        "9M23=3M2\\frac{9M^2}{3} = 3M^239M2=3M2\n",
        "Answer: b) 3M²"
      ],
      "metadata": {
        "id": "eYzQFBVubzxD"
      },
      "execution_count": null,
      "outputs": []
    },
    {
      "cell_type": "code",
      "source": [
        "14. If the ratio of the sum of the first 6 terms of a G.P. to the sum of the first 3 terms of the G.P. is 9, what is the common ratio of the G.P?\n",
        "The sum of the first nnn terms of a geometric progression (G.P.) is given by:\n",
        "Sn=a1−rn1−rS_n = a \\frac{1 - r^n}{1 - r}Sn=a1−r1−rn\n",
        "Let the first term be aaa and the common ratio be rrr. The condition is:\n",
        "S6S3=9\\frac{S_6}{S_3} = 9S3S6=9\n",
        "Simplifying the sums for the first 6 terms and 3 terms:\n",
        "a(1−r6)1−r÷a(1−r3)1−r=9\\frac{a(1 - r^6)}{1 - r} \\div \\frac{a(1 - r^3)}{1 - r} = 91−ra(1−r6)÷1−ra(1−r3)=9\n",
        "This simplifies to:\n",
        "1−r61−r3=9\\frac{1 - r^6}{1 - r^3} = 91−r31−r6=9\n",
        "Testing the possible values of rrr, we find that r=3r = 3r=3 satisfies the equation.\n",
        "Answer: a) 3"
      ],
      "metadata": {
        "id": "iL_8bSdEbzzG"
      },
      "execution_count": null,
      "outputs": []
    },
    {
      "cell_type": "code",
      "source": [
        "15. Set A contains all the even numbers between 2 and 50 inclusive. Set B contains all the even numbers between 102 and 150 inclusive. What is the difference between the sum of elements of set B and the sum of the elements of set A?\n",
        "•\tSet A contains: 2,4,6,…,502, 4, 6, \\dots, 502,4,6,…,50. This is an arithmetic sequence with the first term 2, the common difference 2, and the last term 50. The number of terms is 50−22+1=25\\frac{50 - 2}{2} + 1 = 25250−2+1=25. The sum of set A is:\n",
        "SA=252×(2+50)=25×26=650S_A = \\frac{25}{2} \\times (2 + 50) = 25 \\times 26 = 650SA=225×(2+50)=25×26=650\n",
        "•\tSet B contains: 102,104,106,…,150102, 104, 106, \\dots, 150102,104,106,…,150. This is an arithmetic sequence with the first term 102, the common difference 2, and the last term 150. The number of terms is 150−1022+1=25\\frac{150 - 102}{2} + 1 = 252150−102+1=25. The sum of set B is:\n",
        "SB=252×(102+150)=25×126=3150S_B = \\frac{25}{2} \\times (102 + 150) = 25 \\times 126 = 3150SB=225×(102+150)=25×126=3150\n",
        "The difference is:\n",
        "SB−SA=3150−650=2500S_B - S_A = 3150 - 650 = 2500SB−SA=3150−650=2500\n",
        "Answer: a) 2500"
      ],
      "metadata": {
        "id": "Lq1Gwk4Qbz2A"
      },
      "execution_count": null,
      "outputs": []
    },
    {
      "cell_type": "code",
      "source": [
        "16. Find the nnn-th term of the sequence: 5+55+555+5555…5 + 55 + 555 + 5555 \\dots5+55+555+5555…\n",
        "Each term can be written as:\n",
        "5,55=5×(10+1),555=5×(100+10+1),…5, 55 = 5 \\times (10 + 1), 555 = 5 \\times (100 + 10 + 1), \\dots5,55=5×(10+1),555=5×(100+10+1),…\n",
        "The nnn-th term is:\n",
        "Tn=5×(10n−1)/9T_n = 5 \\times (10^n - 1)/9Tn=5×(10n−1)/9\n",
        "Answer: c) 59(10n−1)\\frac{5}{9}(10^n - 1)95(10n−1)"
      ],
      "metadata": {
        "id": "LKop2pHvbz7v"
      },
      "execution_count": null,
      "outputs": []
    },
    {
      "cell_type": "code",
      "source": [
        "17. Two travelers set out on a long odyssey... On how many days will the second traveler be ahead of the first?\n",
        "We will analyze the distances each traveler covers and find the point where the second traveler overtakes the first. This involves setting up equations for their respective distances and solving for the number of days the second traveler stays ahead.\n",
        "This involves some calculation, and based on analysis, the second traveler will be ahead from the 2nd day.\n",
        "Answer: b) From the 2nd day after the 2nd traveler starts"
      ],
      "metadata": {
        "id": "hqb_VWzFbz-v"
      },
      "execution_count": null,
      "outputs": []
    }
  ]
}