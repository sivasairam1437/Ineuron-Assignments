{
  "nbformat": 4,
  "nbformat_minor": 0,
  "metadata": {
    "colab": {
      "provenance": []
    },
    "kernelspec": {
      "name": "python3",
      "display_name": "Python 3"
    },
    "language_info": {
      "name": "python"
    }
  },
  "cells": [
    {
      "cell_type": "markdown",
      "source": [
        "##Data Sufficiency"
      ],
      "metadata": {
        "id": "c9j5F6gAbSah"
      }
    },
    {
      "cell_type": "code",
      "execution_count": null,
      "metadata": {
        "id": "A5_FoOw1bDuj"
      },
      "outputs": [],
      "source": [
        "\n",
        "Directions to solve: Each of the questions below consists of a major and two minor statements numbered I and II. You have to decide whether the data provided in the statements is sufficient to answer the question or not. Answer:\n",
        "(A) If the data in statement I alone is sufficient to answer the question, while the data in statement II alone is not sufficient.\n",
        "(B) If the data in statement II alone is sufficient to answer the question, while the data in statement I alone is not sufficient.\n",
        "(C) If the data either in statement I alone or in statement II alone is sufficient to answer the question.\n",
        "(D) If the data in both statements I and II together is necessary to answer the question.\n",
        "(E) If the data in both statements I and II together is not sufficient to answer the question\n",
        "\n",
        "1) What is the average of x, y, and z?\n",
        "i) 2x + y + 4z = 23  ii) 3x + 4y + z = 22\n",
        "o\tStatement I: 2x+y+4z=232x + y + 4z = 232x+y+4z=23\n",
        "o\tStatement II: 3x+4y+z=223x + 4y + z = 223x+4y+z=22\n",
        "o\tAnalysis: We have two equations with three unknowns, so neither statement alone nor together provides enough information to find the average of x, y, and z.\n",
        "Answer: (E)"
      ]
    },
    {
      "cell_type": "code",
      "source": [
        "2) What is the value of 3x² + 2x - 1?\n",
        "i) x² + 2x = 0  ii) x = -2\n",
        "o\tStatement I: x2+2x=0x^2 + 2x = 0x2+2x=0\n",
        "o\tStatement II: x=−2x = -2x=−2\n",
        "o\tAnalysis: Statement II alone gives xxx, which allows calculation of 3x2+2x−13x^2 + 2x - 13x2+2x−1. Statement I also allows solving for xxx (solutions are x=0x = 0x=0 or x=−2x = -2x=−2).\n",
        "Answer: (C)"
      ],
      "metadata": {
        "id": "elc1bNqob0H4"
      },
      "execution_count": null,
      "outputs": []
    },
    {
      "cell_type": "code",
      "source": [
        "3) Rajesh drove from city A to city B. What was the average speed for the journey?\n",
        "i) He drove the first 40 kms at a speed of 100 kmph\n",
        "ii) He drove the last 60 kms at a speed of 120 kmph\n",
        "o\tStatement I: He drove the first 40 km at 100 kmph.\n",
        "o\tStatement II: He drove the last 60 km at 120 kmph.\n",
        "o\tAnalysis: Neither statement alone or together provides the total distance or time for the journey, so we cannot determine the average speed.\n",
        "Answer: (E)"
      ],
      "metadata": {
        "id": "kNDebuYdb0K_"
      },
      "execution_count": null,
      "outputs": []
    },
    {
      "cell_type": "code",
      "source": [
        "4) If x and y are both positive, and if x/y = 7/2, how much greater is x than y?\n",
        "i) 2x + y = 8  ii) 2x-7y = 8\n",
        "o\tStatement I: 2x+y=82x + y = 82x+y=8\n",
        "o\tStatement II: 2x−7y=82x - 7y = 82x−7y=8\n",
        "o\tAnalysis: Both statements together form a system of linear equations which can be solved for x and y.\n",
        "Answer: (D)"
      ],
      "metadata": {
        "id": "vKml6omLb0N_"
      },
      "execution_count": null,
      "outputs": []
    },
    {
      "cell_type": "code",
      "source": [
        "5) Given that x and y are distinct real numbers, what is the value of x + y ?\n",
        "i) (x² – y²) / (x-y) = 7  ii) x/y + y/x = 49/xy – 2\n",
        "o\tStatement I: x2−y2x−y=7\\frac{x^2 - y^2}{x - y} = 7x−yx2−y2=7\n",
        "o\tStatement II: xy+yx=49xy−2\\frac{x}{y} + \\frac{y}{x} = \\frac{49}{xy} - 2yx+xy=xy49−2\n",
        "o\tAnalysis: Statement I simplifies to x+y=7x + y = 7x+y=7. Statement II alone is complex and unnecessary for finding x+yx + yx+y.\n",
        "Answer: (A)"
      ],
      "metadata": {
        "id": "mc_Mmfspb0Qo"
      },
      "execution_count": null,
      "outputs": []
    },
    {
      "cell_type": "code",
      "source": [
        "6) How many students in a class take both French and Spanish?\n",
        "i) In the class, 100 students take French and 125 students take Spanish.  ii) There are 200 students in the class.\n",
        "o\tStatement I: 100 students take French, and 125 students take Spanish.\n",
        "o\tStatement II: There are 200 students in the class.\n",
        "o\tAnalysis: We lack information about the overlap between French and Spanish classes, so both statements together are insufficient.\n",
        "Answer: (E)"
      ],
      "metadata": {
        "id": "JZ6Et5Pgb0TQ"
      },
      "execution_count": null,
      "outputs": []
    },
    {
      "cell_type": "code",
      "source": [
        "7) What is the length of the diagonal of rectangle ABCD?\n",
        "i) The perimeter of the rectangle is 16.\n",
        "ii) The area of the rectangle is 16.\n",
        "o\tStatement I: The perimeter of the rectangle is 16.\n",
        "o\tStatement II: The area of the rectangle is 16.\n",
        "o\tAnalysis: Together, these statements allow determination of the rectangle's length and width, so we can find the diagonal.\n",
        "Answer: (D)"
      ],
      "metadata": {
        "id": "x10Iyr5rb0WD"
      },
      "execution_count": null,
      "outputs": []
    },
    {
      "cell_type": "code",
      "source": [
        "8) How is A related to D?\n",
        "i) B is the brother of A.  ii) B is D's son.\n",
        "o\tStatement I: B is the brother of A.\n",
        "o\tStatement II: B is D's son.\n",
        "o\tAnalysis: Both statements are needed to infer that A is related to D as a child or sibling.\n",
        "Answer: (D)"
      ],
      "metadata": {
        "id": "3AM8hKYyb0Yi"
      },
      "execution_count": null,
      "outputs": []
    },
    {
      "cell_type": "code",
      "source": [
        "9) If w, x, y, and z are the digits of the four-digit number N, a positive integer, what is the remainder when N is divided by 9?\n",
        "i) w + x + y + z = 13  ii) N + 5 is divisible by 9\n",
        "o\tStatement I: w+x+y+z=13w + x + y + z = 13w+x+y+z=13\n",
        "o\tStatement II: N+5N + 5N+5 is divisible by 9.\n",
        "o\tAnalysis: Statement II alone is sufficient as it implies N≡4(mod9)N \\equiv 4 \\pmod{9}N≡4(mod9).\n",
        "Answer: (B)"
      ],
      "metadata": {
        "id": "dLayeatvb0bW"
      },
      "execution_count": null,
      "outputs": []
    },
    {
      "cell_type": "code",
      "source": [
        "10) A nursery has 30 trees, carrying only pines, oaks, and maples. How many oaks does the nursery have?\n",
        "i) The ratio of pines to maples is 2:1.\n",
        "ii) The ratio of pines to oaks is 14:9.\n",
        "•\tStatement I: The ratio of pines to maples is 2:1.\n",
        "•\tStatement II: The ratio of pines to oaks is 14:9.\n",
        "•\tAnalysis: Both ratios are required to solve the exact number of each type of tree.\n",
        "Answer: (D)"
      ],
      "metadata": {
        "id": "tJoOeRtGcfEa"
      },
      "execution_count": null,
      "outputs": []
    },
    {
      "cell_type": "code",
      "source": [
        "11) What is the two-digit number?\n",
        "i) The difference between the two digits is 9.\n",
        "ii) The sum of the digits is equal to the difference between the two digits.\n",
        "•\tStatement I: The difference between the two digits is 9.\n",
        "•\tStatement II: The sum of the digits is equal to the difference between the two digits.\n",
        "•\tAnalysis: Both statements are necessary to determine the exact two-digit number.\n",
        "Answer: (D)"
      ],
      "metadata": {
        "id": "mPyHR8AQcfJp"
      },
      "execution_count": null,
      "outputs": []
    },
    {
      "cell_type": "code",
      "source": [
        "12) A set S contains the following elements: {7, 11, 15, 19, 23, x}. What is the value of x?\n",
        "i) The elements are in arithmetic progression  ii) x is prime\n",
        "•\tStatement I: The elements are in arithmetic progression.\n",
        "•\tStatement II: xxx is prime.\n",
        "•\tAnalysis: Statement I alone is sufficient, as it allows calculating the common difference and value of xxx.\n",
        "Answer: (A)"
      ],
      "metadata": {
        "id": "TRVYqzZxcfMl"
      },
      "execution_count": null,
      "outputs": []
    },
    {
      "cell_type": "code",
      "source": [
        "13) Are p and q both greater than zero?\n",
        "i) p – q > 0  ii) p > q\n",
        "•\tStatement I: p−q>0p - q > 0p−q>0\n",
        "•\tStatement II: p>qp > qp>q\n",
        "•\tAnalysis: Neither statement alone is sufficient to determine if both are positive, nor are they together.\n",
        "Answer: (E)"
      ],
      "metadata": {
        "id": "BiAsv5-YcfPO"
      },
      "execution_count": null,
      "outputs": []
    },
    {
      "cell_type": "code",
      "source": [
        "14) Is xy > 0 ?\n",
        "i) x/y < 0  ii) x + y < 0\n",
        "•\tStatement I: x/y<0x/y < 0x/y<0 (implies xxx and y have opposite signs).\n",
        "•\tStatement II: x+y<0x + y < 0x+y<0.\n",
        "•\tAnalysis: Statement I alone tells us that xy<0xy < 0xy<0, so the answer is \"no.\" Statement II alone does not give enough information about the signs of x and y.\n",
        "Answer: (A)"
      ],
      "metadata": {
        "id": "4A841HM4cfRx"
      },
      "execution_count": null,
      "outputs": []
    },
    {
      "cell_type": "code",
      "source": [
        "15) Is the positive integer X divisible by 21?\n",
        "i) When X is divided by 14, the remainder is 4\n",
        "ii) When X is divided by 15, the remainder is 5\n",
        "•\tStatement I: When XXX is divided by 14, the remainder is 4.\n",
        "•\tStatement II: When XXX is divided by 15, the remainder is 5.\n",
        "•\tAnalysis: Together, we can apply the Chinese Remainder Theorem to determine if there is a solution divisible by 21.\n",
        "Answer: (D)"
      ],
      "metadata": {
        "id": "cXyNkP3RcfUx"
      },
      "execution_count": null,
      "outputs": []
    },
    {
      "cell_type": "code",
      "source": [
        "16) Does x = 2?\n",
        "i) x is a number such that x2 – 3x + 2 = 0.\n",
        "ii) x is a number such that x2 – x – 2 = 0\n",
        "•\tStatement I: xxx is a number such that x2−3x+2=0x^2 - 3x + 2 = 0x2−3x+2=0 (solutions are x=1x = 1x=1 or x=2x = 2x=2).\n",
        "•\tStatement II: xxx is a number such that x2−x−2=0x^2 - x - 2 = 0x2−x−2=0 (solutions are x=2x = 2x=2 or x=−1x = -1x=−1).\n",
        "•\tAnalysis: Both statements are required to conclude that x=2x = 2x=2 is the only common solution.\n",
        "Answer: (D)"
      ],
      "metadata": {
        "id": "Q5ktb4xGcfXA"
      },
      "execution_count": null,
      "outputs": []
    },
    {
      "cell_type": "code",
      "source": [
        "17) Is x = y?\n",
        "i) (x+y)(1/x + 1/y) = 4  ii) (x – 50)2 = (y – 50)2\n",
        "•\tStatement I: (x+y)(1/x+1/y)=4(x + y)(1/x + 1/y) = 4(x+y)(1/x+1/y)=4.\n",
        "•\tStatement II: (x−50)2=(y−50)2(x - 50)^2 = (y - 50)^2(x−50)2=(y−50)2.\n",
        "•\tAnalysis: Statement II alone tells us x=yx = yx=y or x=100−yx = 100 - yx=100−y. Together, both statements allow us to conclude if x=yx = yx=y.\n",
        "Answer: (D)"
      ],
      "metadata": {
        "id": "71XY_acfb0eF"
      },
      "execution_count": null,
      "outputs": []
    },
    {
      "cell_type": "code",
      "source": [
        "18) Is the value of K odd or even?\n",
        "i) Square of K is odd.  ii) Square root of K is odd.\n",
        "•\tStatement I: Square of KKK is odd (implies KKK is odd).\n",
        "•\tStatement II: Square root of KKK is odd (also implies KKK is odd).\n",
        "•\tAnalysis: Either statement alone is sufficient.\n",
        "Answer: (C)"
      ],
      "metadata": {
        "id": "PurjGzmpdJh0"
      },
      "execution_count": null,
      "outputs": []
    },
    {
      "cell_type": "code",
      "source": [
        "19) Is y = 3?\n",
        "i) (y - 3)(x - 4) = 0  ii) (x - 4) = 0\n",
        "•\tStatement I: (y−3)(x−4)=0(y - 3)(x - 4) = 0(y−3)(x−4)=0.\n",
        "•\tStatement II: x−4=0x - 4 = 0x−4=0.\n",
        "•\tAnalysis: Together, both statements imply y=3y = 3y=3.\n",
        "Answer: (D)"
      ],
      "metadata": {
        "id": "jehf2jxcdJqg"
      },
      "execution_count": null,
      "outputs": []
    },
    {
      "cell_type": "code",
      "source": [
        "20) Is triangle ABC obtuse angled?\n",
        "i) a2 + b2 > c2  ii) The center of the circle circumscribing the triangle does not lie inside the triangle.\n",
        "•\tStatement I: a2+b2>c2a^2 + b^2 > c^2a2+b2>c2 (indicates an acute or right-angled triangle, not obtuse).\n",
        "•\tStatement II: The center of the circle circumscribing the triangle does not lie inside the triangle (implies the triangle is obtuse).\n",
        "•\tAnalysis: Statement II alone is sufficient.\n",
        "Answer: (B)"
      ],
      "metadata": {
        "id": "jwaX58pAb0iJ"
      },
      "execution_count": null,
      "outputs": []
    }
  ]
}