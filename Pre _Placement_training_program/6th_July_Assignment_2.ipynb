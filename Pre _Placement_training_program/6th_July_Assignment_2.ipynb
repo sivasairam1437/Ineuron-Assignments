{
  "nbformat": 4,
  "nbformat_minor": 0,
  "metadata": {
    "colab": {
      "provenance": []
    },
    "kernelspec": {
      "name": "python3",
      "display_name": "Python 3"
    },
    "language_info": {
      "name": "python"
    }
  },
  "cells": [
    {
      "cell_type": "code",
      "execution_count": null,
      "metadata": {
        "id": "9DpPtzrw3-jE"
      },
      "outputs": [],
      "source": [
        "\n",
        "💡 **1. What are the Conditional Operators in Java?**\n",
        "\n",
        "In Java, conditional operators are used to perform logical and comparison operations. These include:\n",
        "\n",
        "Ternary Operator (?:):\n",
        "\n",
        "Syntax: condition ? expression1 : expression2;\n",
        "Example: int result = (a > b) ? a : b;\n",
        "Logical AND (&&): Returns true if both conditions are true.\n",
        "\n",
        "Logical OR (||): Returns true if at least one condition is true.\n",
        "\n",
        "Logical NOT (!): Reverses the logical state of the operand"
      ]
    },
    {
      "cell_type": "code",
      "source": [
        "💡 **Q2. What are the types of operators based on the number of operands?**\n",
        "Unary Operator: Works with one operand (e.g., ++, --, !).\n",
        "Binary Operator: Works with two operands (e.g., +, -, *, /, &&, ||).\n",
        "Ternary Operator: Works with three operands (e.g., condition ? expression1 : expression2)."
      ],
      "metadata": {
        "id": "lSRNxv1k4fLb"
      },
      "execution_count": null,
      "outputs": []
    },
    {
      "cell_type": "code",
      "source": [
        "💡 **Q3.What is the use of Switch case in Java programming?**\n",
        "\n",
        "The switch statement in Java is used to execute one block of code from multiple options based on the value of an expression. It works as an alternative to the if-else-if ladder.\n",
        "\n",
        "switch(expression) {\n",
        "    case value1:\n",
        "        // code block\n",
        "        break;\n",
        "    case value2:\n",
        "        // code block\n",
        "        break;\n",
        "    default:\n",
        "        // default block\n",
        "}"
      ],
      "metadata": {
        "id": "ocuBRTnT4fOy"
      },
      "execution_count": null,
      "outputs": []
    },
    {
      "cell_type": "code",
      "source": [
        "💡 **Q4.What are the conditional Statements and use of conditional statements in Java?**\n",
        "\n",
        "Conditional statements allow Java programs to make decisions and execute specific blocks of code based on conditions. The key conditional statements in Java are:\n",
        "\n",
        "if statement: Executes a block of code if a condition is true.\n",
        "if-else statement: Executes one block if the condition is true, otherwise another block.\n",
        "else-if ladder: Used when there are multiple conditions.\n",
        "switch statement: Selects one of many code blocks to be executed."
      ],
      "metadata": {
        "id": "rNCsUz7P4fRs"
      },
      "execution_count": null,
      "outputs": []
    },
    {
      "cell_type": "code",
      "source": [
        "💡 **Q5.What is the syntax of if else statement?**\n",
        "if (condition) {\n",
        "    // code block to be executed if the condition is true\n",
        "} else {\n",
        "    // code block to be executed if the condition is false\n",
        "}"
      ],
      "metadata": {
        "id": "E3hnIRFf4fUJ"
      },
      "execution_count": null,
      "outputs": []
    },
    {
      "cell_type": "code",
      "source": [
        "💡 **Q6.How do you compare two strings in Java?**\n",
        "\n",
        "In Java, you can compare two strings using:\n",
        "\n",
        "equals() method: Checks the content of two strings for equality.\n",
        "Example: str1.equals(str2);\n",
        "compareTo() method: Compares two strings lexicographically.\n",
        "Example: str1.compareTo(str2);\n",
        "== operator: Checks if two string references point to the same object (not recommended for content comparison)."
      ],
      "metadata": {
        "id": "chjRc_1M4fW7"
      },
      "execution_count": null,
      "outputs": []
    },
    {
      "cell_type": "code",
      "source": [
        "💡 **Q7.What is Mutable String in Java Explain with an example**\n",
        "In Java, a mutable string is a string that can be modified after it has been created. The StringBuilder and StringBuffer classes provide mutable string objects.\n",
        "\n",
        "StringBuilder sb = new StringBuilder(\"Hello\");\n",
        "sb.append(\" World\");\n",
        "System.out.println(sb);  // Output: Hello World"
      ],
      "metadata": {
        "id": "yhq-FnPu4fZ4"
      },
      "execution_count": null,
      "outputs": []
    },
    {
      "cell_type": "code",
      "source": [
        "💡 **Q8.Write a program to sort a String Alphabetically**\n",
        "\n",
        "import java.util.Arrays;\n",
        "\n",
        "public class SortString {\n",
        "    public static void main(String[] args) {\n",
        "        String str = \"java\";\n",
        "        char[] charArray = str.toCharArray();\n",
        "        Arrays.sort(charArray);\n",
        "        String sortedStr = new String(charArray);\n",
        "        System.out.println(sortedStr);\n",
        "    }\n",
        "}"
      ],
      "metadata": {
        "id": "w6POLaTH4fcp"
      },
      "execution_count": null,
      "outputs": []
    },
    {
      "cell_type": "code",
      "source": [
        "💡 **Q9.Write a program to check if the letter 'e' is present in the word** **'Umbrella'.**\n",
        "\n",
        "public class CheckLetter {\n",
        "    public static void main(String[] args) {\n",
        "        String word = \"Umbrella\";\n",
        "        if (word.contains(\"e\")) {\n",
        "            System.out.println(\"'e' is present in the word 'Umbrella'.\");\n",
        "        } else {\n",
        "            System.out.println(\"'e' is not present in the word 'Umbrella'.\");\n",
        "        }\n",
        "    }\n",
        "}"
      ],
      "metadata": {
        "id": "j0PHyVxG4ffZ"
      },
      "execution_count": null,
      "outputs": []
    },
    {
      "cell_type": "code",
      "source": [
        "💡 **Q10.Where exactly is the string constant pool located in the**\n",
        "\n",
        "**memory?**\n",
        "\n",
        "The string constant pool in Java is part of the Heap Memory. It's a special area where strings that are created as string literals (e.g., String str = \"hello\";) are stored to optimize memory usage by reusing identical string literals. If a string with the same value already exists in the pool, a new reference is created instead of allocating new memory."
      ],
      "metadata": {
        "id": "7IrcVOct4fh_"
      },
      "execution_count": null,
      "outputs": []
    }
  ]
}