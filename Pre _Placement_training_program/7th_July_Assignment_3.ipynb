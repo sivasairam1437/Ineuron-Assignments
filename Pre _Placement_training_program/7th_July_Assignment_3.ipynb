{
  "nbformat": 4,
  "nbformat_minor": 0,
  "metadata": {
    "colab": {
      "provenance": []
    },
    "kernelspec": {
      "name": "python3",
      "display_name": "Python 3"
    },
    "language_info": {
      "name": "python"
    }
  },
  "cells": [
    {
      "cell_type": "code",
      "execution_count": null,
      "metadata": {
        "id": "asGBnXlL8GpU"
      },
      "outputs": [],
      "source": [
        "\n",
        "💡 **Q1.Write a simple Banking System program by using OOPs concept where you can get account Holder name balance etc?**\n",
        "\n",
        "class BankAccount {\n",
        "    private String accountHolderName;\n",
        "    private double balance;\n",
        "\n",
        "    // Constructor\n",
        "    public BankAccount(String name, double initialBalance) {\n",
        "        this.accountHolderName = name;\n",
        "        this.balance = initialBalance;\n",
        "    }\n",
        "\n",
        "    // Method to deposit money\n",
        "    public void deposit(double amount) {\n",
        "        balance += amount;\n",
        "    }\n",
        "\n",
        "    // Method to withdraw money\n",
        "    public void withdraw(double amount) {\n",
        "        if (amount <= balance) {\n",
        "            balance -= amount;\n",
        "        } else {\n",
        "            System.out.println(\"Insufficient balance!\");\n",
        "        }\n",
        "    }\n",
        "\n",
        "    // Method to display account details\n",
        "    public void displayAccountDetails() {\n",
        "        System.out.println(\"Account Holder: \" + accountHolderName);\n",
        "        System.out.println(\"Balance: $\" + balance);\n",
        "    }\n",
        "}\n",
        "\n",
        "public class BankingSystem {\n",
        "    public static void main(String[] args) {\n",
        "        BankAccount account = new BankAccount(\"John Doe\", 1000.0);\n",
        "        account.deposit(500.0);\n",
        "        account.withdraw(200.0);\n",
        "        account.displayAccountDetails();\n",
        "    }\n",
        "}"
      ]
    },
    {
      "cell_type": "code",
      "source": [
        "💡 **Q2. Write a Program where you inherit method from parent class and show method Overridden Concept?**\n",
        "\n",
        "class Animal {\n",
        "    public void sound() {\n",
        "        System.out.println(\"Animals make sound\");\n",
        "    }\n",
        "}\n",
        "\n",
        "class Dog extends Animal {\n",
        "    @Override\n",
        "    public void sound() {\n",
        "        System.out.println(\"Dog barks\");\n",
        "    }\n",
        "}\n",
        "\n",
        "public class MethodOverridingExample {\n",
        "    public static void main(String[] args) {\n",
        "        Animal animal = new Dog();\n",
        "        animal.sound();  // Outputs: Dog barks\n",
        "    }\n",
        "}"
      ],
      "metadata": {
        "id": "HmWHHlcK8mRv"
      },
      "execution_count": null,
      "outputs": []
    },
    {
      "cell_type": "code",
      "source": [
        "💡 **Q3.Write a program to show run time polymorphism in java?**\n",
        "\n",
        "class Shape {\n",
        "    public void draw() {\n",
        "        System.out.println(\"Drawing a shape\");\n",
        "    }\n",
        "}\n",
        "\n",
        "class Circle extends Shape {\n",
        "    @Override\n",
        "    public void draw() {\n",
        "        System.out.println(\"Drawing a circle\");\n",
        "    }\n",
        "}\n",
        "\n",
        "class Rectangle extends Shape {\n",
        "    @Override\n",
        "    public void draw() {\n",
        "        System.out.println(\"Drawing a rectangle\");\n",
        "    }\n",
        "}\n",
        "\n",
        "public class RuntimePolymorphismExample {\n",
        "    public static void main(String[] args) {\n",
        "        Shape shape;\n",
        "\n",
        "        shape = new Circle();\n",
        "        shape.draw();  // Outputs: Drawing a circle\n",
        "\n",
        "        shape = new Rectangle();\n",
        "        shape.draw();  // Outputs: Drawing a rectangle\n",
        "    }\n",
        "}"
      ],
      "metadata": {
        "id": "-frZ_wfR8mUz"
      },
      "execution_count": null,
      "outputs": []
    },
    {
      "cell_type": "code",
      "source": [
        "💡 **Q4.Write a program to show Compile time polymorphism in java?**\n",
        "\n",
        "class Calculator {\n",
        "    // Method overloading (compile-time polymorphism)\n",
        "    public int add(int a, int b) {\n",
        "        return a + b;\n",
        "    }\n",
        "\n",
        "    public int add(int a, int b, int c) {\n",
        "        return a + b + c;\n",
        "    }\n",
        "}\n",
        "\n",
        "public class CompileTimePolymorphismExample {\n",
        "    public static void main(String[] args) {\n",
        "        Calculator calc = new Calculator();\n",
        "        System.out.println(calc.add(5, 10));      // Outputs: 15\n",
        "        System.out.println(calc.add(5, 10, 15));  // Outputs: 30\n",
        "    }\n",
        "}"
      ],
      "metadata": {
        "id": "WzXUm21E8mXq"
      },
      "execution_count": null,
      "outputs": []
    },
    {
      "cell_type": "code",
      "source": [
        "💡 **Q5. Achieve loose coupling in java by using OOPs  concept?**\n",
        "\n",
        "Loose coupling is achieved in Java through interfaces or abstract classes. This allows you to modify the classes independently without affecting others.\n",
        "\n",
        "interface Vehicle {\n",
        "    void drive();\n",
        "}\n",
        "\n",
        "class Car implements Vehicle {\n",
        "    public void drive() {\n",
        "        System.out.println(\"Car is being driven\");\n",
        "    }\n",
        "}\n",
        "\n",
        "class Bike implements Vehicle {\n",
        "    public void drive() {\n",
        "        System.out.println(\"Bike is being driven\");\n",
        "    }\n",
        "}\n",
        "\n",
        "public class LooseCouplingExample {\n",
        "    public static void main(String[] args) {\n",
        "        Vehicle vehicle = new Car();  // Can easily switch to Bike\n",
        "        vehicle.drive();\n",
        "    }\n",
        "}"
      ],
      "metadata": {
        "id": "Ovu9kE-Q8maa"
      },
      "execution_count": null,
      "outputs": []
    },
    {
      "cell_type": "code",
      "source": [
        "💡 **Q6. What is the benefit of encapsulation in java?**\n",
        "\n",
        "Encapsulation hides the internal implementation details of a class and only exposes necessary components through getter and setter methods. Benefits include:\n",
        "\n",
        "Data Protection: Prevents unauthorized access.\n",
        "Modularity: Makes code more modular.\n",
        "Maintainability: Easy to update code without affecting external code."
      ],
      "metadata": {
        "id": "wFElTOYu8mdM"
      },
      "execution_count": null,
      "outputs": []
    },
    {
      "cell_type": "code",
      "source": [
        "💡 **Q7.Is java a t 100% Object oriented Programming language? If no why ?**\n",
        "\n",
        "No, Java is not 100% object-oriented because it uses primitive data types (like int, char, boolean) that are not objects. A fully object-oriented language would treat everything, including these, as objects."
      ],
      "metadata": {
        "id": "j2s-JFs58mgG"
      },
      "execution_count": null,
      "outputs": []
    },
    {
      "cell_type": "code",
      "source": [
        "💡 **Q8.What are the advantages of abstraction in java?**\n",
        "\n",
        "Simplifies Complexity: By hiding complex implementations, users only see the essential features.\n",
        "Promotes Code Reusability: Abstract classes and interfaces can be reused across different programs.\n",
        "Improves Maintainability: Changes to abstracted code do not affect the outer application."
      ],
      "metadata": {
        "id": "KwtuO-Xh8mjF"
      },
      "execution_count": null,
      "outputs": []
    },
    {
      "cell_type": "code",
      "source": [
        "💡 **Q9.What is an abstraction explained with an Example?**\n",
        "\n",
        "Abstraction is the concept of hiding the complex implementation details and showing only the necessary functionalities.\n",
        "\n",
        "abstract class Vehicle {\n",
        "    abstract void start();\n",
        "}\n",
        "\n",
        "class Car extends Vehicle {\n",
        "    @Override\n",
        "    void start() {\n",
        "        System.out.println(\"Car is starting\");\n",
        "    }\n",
        "}\n",
        "\n",
        "public class AbstractionExample {\n",
        "    public static void main(String[] args) {\n",
        "        Vehicle vehicle = new Car();\n",
        "        vehicle.start();  // Outputs: Car is starting\n",
        "    }\n",
        "}"
      ],
      "metadata": {
        "id": "4cRbreJi8mmW"
      },
      "execution_count": null,
      "outputs": []
    },
    {
      "cell_type": "code",
      "source": [
        "💡 **Q10.What is the final class in Java?**\n",
        "\n",
        "A final class in Java cannot be extended or subclassed. This is used to prevent inheritance when you want to make sure that a class remains unchanged.\n",
        "\n",
        "final class Calculator {\n",
        "    public int add(int a, int b) {\n",
        "        return a + b;\n",
        "    }\n",
        "}\n",
        "\n",
        "// The following line would produce an error:\n",
        "// class AdvancedCalculator extends Calculator {}"
      ],
      "metadata": {
        "id": "HUdfnHve8mpt"
      },
      "execution_count": null,
      "outputs": []
    }
  ]
}