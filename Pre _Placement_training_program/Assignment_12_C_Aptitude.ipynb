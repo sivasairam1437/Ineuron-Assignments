{
  "nbformat": 4,
  "nbformat_minor": 0,
  "metadata": {
    "colab": {
      "provenance": []
    },
    "kernelspec": {
      "name": "python3",
      "display_name": "Python 3"
    },
    "language_info": {
      "name": "python"
    }
  },
  "cells": [
    {
      "cell_type": "code",
      "source": [
        "Directions"
      ],
      "metadata": {
        "id": "6Vnzgex21j_4"
      },
      "execution_count": null,
      "outputs": []
    },
    {
      "cell_type": "code",
      "source": [
        "1) Starting from the point X, Jayant walked 15 m towards west. He turned left and walked 20 m. He then turned left and walked 15 m. After this he turned to his right and walked 12 m. How far and in which directions is now Jayant from X?\n",
        "a) 32 m, South  b) 47 m, East  c) 42 m, North  d) 27 m, South\n",
        "After walking 12 m south, Jayant is now 32 m south from point X.\n",
        "Answer: a) 32 m, South"
      ],
      "metadata": {
        "id": "um0zoMhl2_Yc"
      },
      "execution_count": null,
      "outputs": []
    },
    {
      "cell_type": "code",
      "source": [
        "2) A horse is facing north. It turns 90 degrees in the clockwise direction, then 180 degrees in the anti-clockwise and then another 90 degrees in the same direction. Which direction is the horse facing now?\n",
        "A) East\tB) South C) South-west\tD) South-east\n",
        "•\t90° clockwise = East\n",
        "•\t180° anti-clockwise = West\n",
        "•\t90° anti-clockwise again = South\n",
        "Answer: B) South"
      ],
      "metadata": {
        "id": "DYV-9Wmk1kC_"
      },
      "execution_count": null,
      "outputs": []
    },
    {
      "cell_type": "code",
      "source": [
        "3) Two cars start from the opposite places of a main road, 150 km apart. First car runs for 25 km and takes a right turn and then runs 15 km. It then turns left and then runs for another 25 km and then takes the direction back to reach the main road. In the meantime, due to minor break down the other car has run only 35 km along the main road. What would be the distance between two cars at this point?\n",
        "a) 65 km  b) 75 km  c) 80 km  d) 85 km\n",
        "At this point, using the Pythagorean theorem, the distance between the two cars is:\n",
        "(150−(25+25+35))2+(15)2=80 km\\sqrt{(150 - (25 + 25 + 35))^2 + (15)^2} = 80 \\text{ km}(150−(25+25+35))2+(15)2=80 km\n",
        "Answer: c) 80 km"
      ],
      "metadata": {
        "id": "2OeVKTea1kFy"
      },
      "execution_count": null,
      "outputs": []
    },
    {
      "cell_type": "code",
      "source": [
        "4) The length and breadth of a room are 8 m and 6 m respectively. A cat runs along all the four walls and finally along a diagonal order to catch a rat. How much total distance is covered by the cat?\n",
        "a) 10  b) 14  c) 38  d) 48\n",
        "The total distance the cat runs is the perimeter of the room plus the diagonal:\n",
        "(8+6+8+6)+82+62=28+10=38 meters(8 + 6 + 8 + 6) + \\sqrt{8^2 + 6^2} = 28 + 10 = 38 \\text{ meters}(8+6+8+6)+82+62=28+10=38 meters\n",
        "Answer: c) 38"
      ],
      "metadata": {
        "id": "Mq-skkxI1z8C"
      },
      "execution_count": null,
      "outputs": []
    },
    {
      "cell_type": "code",
      "source": [
        "5) Y is in the east of X which is in the north of Z. If P is in the south of Z, then in which direction of Y, is P?\n",
        "a) North  b) South  c) South-East  d) None of these\n",
        "Y is east of X, X is north of Z, and P is south of Z. Therefore, P is southeast of Y.\n",
        "Answer: c) South-East"
      ],
      "metadata": {
        "id": "6Xwjy3Cv1z_n"
      },
      "execution_count": null,
      "outputs": []
    },
    {
      "cell_type": "code",
      "source": [
        "6) K is 40 m South-West of L. If M is 40 m South-East of L, then M is in which direction of K?\n",
        "A. East \tB. West\tC. North-East\tD. South\n",
        "K is southwest of L, and M is southeast of L. So M is directly east of K.\n",
        "Answer: A) East"
      ],
      "metadata": {
        "id": "nCJb9R-U16Bi"
      },
      "execution_count": null,
      "outputs": []
    },
    {
      "cell_type": "code",
      "source": [
        "7) If South-East becomes North, North-East becomes West and so on. What will West become?\n",
        "a) North-East  b) North-West  c) South-East  d) South-West\n",
        "If directions are rotated as mentioned, West becomes South-East.\n",
        "Answer: c) South-East"
      ],
      "metadata": {
        "id": "fbDov7vO16EF"
      },
      "execution_count": null,
      "outputs": []
    },
    {
      "cell_type": "code",
      "source": [
        "8) Debu walks towards East, then towards North and, then turning 45 degrees right, walks for a while and at last turns towards left. In which direction is he walking now?\n",
        "A. North\tB. East\tC. South East\tD. North West\n",
        "Debu walks east, then north, then turns 45° to the right (northeast), and then turns left, which means he's now heading North.\n",
        "Answer: A) North"
      ],
      "metadata": {
        "id": "cyZJTivZ16Jv"
      },
      "execution_count": null,
      "outputs": []
    },
    {
      "cell_type": "code",
      "source": [
        "9) A clock is so placed that at 2:00 p.m. the minute hand points towards North-west. In which direction does the hour hand point at 6:00 p.m.?\n",
        "A. North-West\tB. West\t\tC. North-East\tD. South-East\n",
        "At 2:00 p.m., the minute hand points northwest. The hour hand at 6:00 p.m. will be pointing directly South-East.\n",
        "Answer: D) South-East"
      ],
      "metadata": {
        "id": "Q6qh6X2O16PE"
      },
      "execution_count": null,
      "outputs": []
    },
    {
      "cell_type": "code",
      "source": [
        "10) Rahul put his timepiece on the table in such a way that at 6 pm, hour hand points to North. In which direction the minute hand will point at 9:15 pm?\n",
        "a) South-East  b) South  c) North  d) West\n",
        "If the hour hand at 6:00 p.m. points north, then at 9:15 p.m., the minute hand will point West.\n",
        "Answer: d) West"
      ],
      "metadata": {
        "id": "YSKLdGKZ16Sr"
      },
      "execution_count": null,
      "outputs": []
    },
    {
      "cell_type": "code",
      "source": [
        "11) Reema walked from A to B in the East 10 feet. Then she turned to the right and walked 3 feet. Again she turned to the right and walked 14 feet. How far is she from A?\n",
        "A. 4 feet \t B. 5 feet \tC. 24 feet \tD. 27 feet\n",
        "Using the Pythagorean theorem:\n",
        "(10−14)2+32=42+32=5 feet\\sqrt{(10 - 14)^2 + 3^2} = \\sqrt{4^2 + 3^2} = 5 \\text{ feet}(10−14)2+32=42+32=5 feet\n",
        "Answer: B) 5 feet"
      ],
      "metadata": {
        "id": "IrwWsCMg16Xg"
      },
      "execution_count": null,
      "outputs": []
    },
    {
      "cell_type": "code",
      "source": [
        "12) A man walks 2 km towards North. Then he walks 10 km towards East. Then he walks 3 km towards North. Then again he walks 2 km towards East. How far is he from starting point?\n",
        "a) 10 km  b) 13 km  c) 15 km  d) None of these\n",
        "The total displacement is:\n",
        "(10+2)2+(2+3)2=122+52=13 km\\sqrt{(10 + 2)^2 + (2 + 3)^2} = \\sqrt{12^2 + 5^2} = 13 \\text{ km}(10+2)2+(2+3)2=122+52=13 km\n",
        "Answer: b) 13 km"
      ],
      "metadata": {
        "id": "6CK8gmbI10Ew"
      },
      "execution_count": null,
      "outputs": []
    },
    {
      "cell_type": "code",
      "source": [
        "13) Rasik walked 20 m towards north. Then he turned right and walks 30 m. Then he turns right and walks 35 m. Then he turns left and walks 15 m. Finally he turns left and walks 15 m. In which direction and how far is he from the starting position?\n",
        "a) 15 m West  b) 30 m East  c) 30 m West  d) 45 m East\n",
        "Final displacement is 30 m east.\n",
        "Answer: b) 30 m East"
      ],
      "metadata": {
        "id": "uG6Zgyfb10Ig"
      },
      "execution_count": null,
      "outputs": []
    },
    {
      "cell_type": "code",
      "source": [
        "14) A boy rode his bicycle northward, then turned left and rode 1 km and again turned left and rode 2 km. He found himself 1 km west of his starting point. How far did he ride initially?\n",
        "a) 1 km  b) 2 km  c) 3 km  d) 5 km\n",
        "Now he is 1 km west of the starting point, so he initially rode 1 km north.\n",
        "Answer: a) 1 km"
      ],
      "metadata": {
        "id": "84QnGYkT10La"
      },
      "execution_count": null,
      "outputs": []
    },
    {
      "cell_type": "code",
      "source": [
        "15) One morning Sujata started to walk towards the Sun. After covering some distance she turned to right then again to the right and after covering some distance she again turns to the right. Now in which direction is she facing?\n",
        "a) North  b) South  c) North-East  d) South-West\n",
        "Sujata initially walks east (toward the sun). After three right turns, she is facing West.\n",
        "Answer: b) South"
      ],
      "metadata": {
        "id": "R1HAmiAS2axf"
      },
      "execution_count": null,
      "outputs": []
    },
    {
      "cell_type": "code",
      "source": [
        "16) One morning after sunrise, Amrit was standing facing a pole. The shadow of the pole was forming on the left side. Which direction was Amrit facing?\n",
        "A. East B. West C. North D. South E. None of these\n",
        "If Amrit is facing the pole and the shadow is on his left side in the morning, the sun is in the east, meaning he is facing North.\n",
        "Answer: C) North"
      ],
      "metadata": {
        "id": "-AShkMuB2a1S"
      },
      "execution_count": null,
      "outputs": []
    },
    {
      "cell_type": "code",
      "source": [
        "17) One morning Udai and Vishal were talking to each other face to face at a crossing. If Vishal's shadow was exactly to the left of Udai, which direction was Udai facing?\n",
        "a) East  b) West  c) North  d) South\n",
        "If Vishal's shadow is to the left of Udai, and it's morning, Udai must be facing East.\n",
        "Answer: a) East"
      ],
      "metadata": {
        "id": "P5UnGdqV10OR"
      },
      "execution_count": null,
      "outputs": []
    },
    {
      "cell_type": "code",
      "source": [
        "18) One evening before sunset Rekha and Hema were talking to each other face to face. If Hema's shadow was exactly to the right of Hema, which direction was Rekha facing?\n",
        "a) North  b) South  c) East  d) Data is inadequate\n",
        "If Hema's shadow is to her right in the evening, Rekha must be facing North.\n",
        "Answer: a) North"
      ],
      "metadata": {
        "id": "GDfCc2db10RN"
      },
      "execution_count": null,
      "outputs": []
    },
    {
      "cell_type": "code",
      "source": [
        "19) If A x B means A is to the south of B; A + B means A is to the north of B; A % B means A is to the east of B; A - B means A is to the west of B; then in P % Q + R - S, S is in which direction with respect to Q?\n",
        "A. South-West  B. South-East  \tC. North-East  D. North-West\n",
        "S is southeast of Q.\n",
        "Answer: B) South-East"
      ],
      "metadata": {
        "id": "baIYwSHz1kLR"
      },
      "execution_count": null,
      "outputs": []
    },
    {
      "cell_type": "code",
      "source": [
        "20) If A@B means ‘B is west of A’, A#B means ‘A is south of B’, A%B means ‘A is east of B’ and A&B means ‘A is north of B’. Then what is the direction of P with respect of R in the given expression- P % Q # S @ R\n",
        "(a) North     (b) South\t     (c) North- East     (d) South- East\n",
        "P is northeast of R.\n",
        "Answer: c) North-East"
      ],
      "metadata": {
        "id": "AZOyDHlX2rbX"
      },
      "execution_count": null,
      "outputs": []
    }
  ]
}