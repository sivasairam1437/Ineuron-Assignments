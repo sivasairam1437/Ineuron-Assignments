{
  "nbformat": 4,
  "nbformat_minor": 0,
  "metadata": {
    "colab": {
      "provenance": []
    },
    "kernelspec": {
      "name": "python3",
      "display_name": "Python 3"
    },
    "language_info": {
      "name": "python"
    }
  },
  "cells": [
    {
      "cell_type": "code",
      "execution_count": null,
      "metadata": {
        "id": "T71wcAcwFHU1"
      },
      "outputs": [],
      "source": [
        "\n",
        "💡 **Q1.What is the use of JDBC in java?**\n",
        "JDBC (Java Database Connectivity) is a Java API that enables Java applications to interact with relational databases. It provides methods to connect to a database, execute SQL queries, and retrieve results, allowing Java programs to manage database operations."
      ]
    },
    {
      "cell_type": "code",
      "source": [
        "💡 **Q2.What are the steps involved in JDBC?**\n",
        "The basic steps to connect to a database using JDBC are:\n",
        "\n",
        "Load the JDBC driver: Use Class.forName() to load the driver.\n",
        "Establish a connection: Use DriverManager.getConnection() to connect to the database.\n",
        "Create a statement: Use Connection.createStatement() to create a statement.\n",
        "Execute SQL queries: Use executeQuery() for SELECT or executeUpdate() for INSERT, UPDATE, DELETE.\n",
        "Process the results: Use ResultSet to process the result set of a query.\n",
        "Close connections: Close the ResultSet, Statement, and Connection to free resources"
      ],
      "metadata": {
        "id": "LKiyHkyEHHLk"
      },
      "execution_count": null,
      "outputs": []
    },
    {
      "cell_type": "code",
      "source": [
        "💡 **Q3.What are the types of statement in JDBC in java?**\n",
        "There are three types of statements in JDBC:\n",
        "\n",
        "Statement: Used for executing simple SQL queries without parameters.\n",
        "PreparedStatement: Precompiled SQL statements that allow you to set parameters dynamically, improving performance and security.\n",
        "CallableStatement: Used to call stored procedures in the database."
      ],
      "metadata": {
        "id": "_D6uNStgHHOB"
      },
      "execution_count": null,
      "outputs": []
    },
    {
      "cell_type": "code",
      "source": [
        "💡 **Q4.What is Servlet in Java?**\n",
        "A Servlet is a Java class used to handle HTTP requests and responses in a web application. It runs on the server and is capable of processing incoming requests, generating dynamic content, and returning responses to clients (usually browsers)."
      ],
      "metadata": {
        "id": "OUaHzkvEHHQ6"
      },
      "execution_count": null,
      "outputs": []
    },
    {
      "cell_type": "code",
      "source": [
        "💡 **Q5.Explain the life Cycle of servlet?**\n",
        "The Servlet life cycle includes the following phases:\n",
        "\n",
        "Initialization (init()): The servlet is initialized by the web container, and the init() method is called.\n",
        "Service (service()): After initialization, for each client request, the service() method is called. It handles the request and generates the response, calling doGet(), doPost(), or other HTTP-specific methods.\n",
        "Destruction (destroy()): The servlet is removed from memory, and the destroy() method is called by the container when the servlet is taken out of service."
      ],
      "metadata": {
        "id": "lzIPTcp-HHTQ"
      },
      "execution_count": null,
      "outputs": []
    },
    {
      "cell_type": "code",
      "source": [
        "💡 **Q6.Explain the difference between the RequestDispatcher.forward() and HttpServletResponse.sendRedirect() methods?**\n",
        "\n",
        "HttpServletResponse.sendRedirect() methods.\n",
        "RequestDispatcher.forward():\n",
        "Forwards the request from one servlet to another resource (servlet, JSP, HTML) on the same server.\n",
        "The URL in the browser remains the same.\n",
        "More efficient as it happens on the server side.\n",
        "HttpServletResponse.sendRedirect():\n",
        "Redirects the client to a different URL.\n",
        "The browser's address bar changes, and it sends a new request.\n",
        "Can redirect to external domains."
      ],
      "metadata": {
        "id": "HJAA6DS8HHWE"
      },
      "execution_count": null,
      "outputs": []
    },
    {
      "cell_type": "code",
      "source": [
        "💡 **Q7.What is the purpose of the doGet() and doPost() methods in a servlet?**\n",
        "doGet(): Handles HTTP GET requests, typically used to fetch data or render web pages. Query parameters are appended to the URL.\n",
        "\n",
        "doPost(): Handles HTTP POST requests, usually used for submitting form data. Data is sent in the body of the request, which is more secure for sensitive information."
      ],
      "metadata": {
        "id": "nI-rFzSsHHY3"
      },
      "execution_count": null,
      "outputs": []
    },
    {
      "cell_type": "code",
      "source": [
        "💡 **Q8.Explain the JSP Model-View-Controller (MVC) architecture.**\n",
        "In JSP MVC architecture:\n",
        "\n",
        "Model: Represents the business logic or data of the application (JavaBeans, POJOs).\n",
        "View: Responsible for rendering the UI (JSP pages).\n",
        "Controller: Handles incoming requests and responses, controlling the flow of the application (servlets). The controller forwards data to the view and interacts with the model."
      ],
      "metadata": {
        "id": "stgoHWuGHHbY"
      },
      "execution_count": null,
      "outputs": []
    },
    {
      "cell_type": "code",
      "source": [
        "💡 **Q9.What are some of the advantages of Servlets?**\n",
        "Platform-independent: Servlets are written in Java, making them portable across different platforms.\n",
        "Efficient and scalable: Servlets are multithreaded and eliminate the overhead of creating separate processes for each request.\n",
        "Robust: Managed by the Java platform, servlets benefit from Java’s garbage collection, exception handling, and other features.\n",
        "Integration with Java technologies: Seamlessly integrates with other Java technologies like JDBC, EJB, and JSP."
      ],
      "metadata": {
        "id": "izvNu1CsHHeS"
      },
      "execution_count": null,
      "outputs": []
    },
    {
      "cell_type": "code",
      "source": [
        "💡 **Q10.What are the limitations of JSP?**\n",
        "Complexity in large projects: Managing complex logic in JSP can make it harder to maintain and debug, as it mixes presentation with business logic.\n",
        "Performance: JSP pages require compilation into servlets, which may cause overhead, especially if the pages are not precompiled.\n",
        "Separation of concerns: JSPs often blur the separation between presentation and logic, which can lead to code that's difficult to maintain in the long run. Using JSP without proper MVC architecture can be problematic."
      ],
      "metadata": {
        "id": "b2pnJxIbHHhv"
      },
      "execution_count": null,
      "outputs": []
    }
  ]
}