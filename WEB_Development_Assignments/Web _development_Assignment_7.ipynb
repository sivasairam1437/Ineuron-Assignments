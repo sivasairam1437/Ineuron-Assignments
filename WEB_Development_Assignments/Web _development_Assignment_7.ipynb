{
 "cells": [
  {
   "cell_type": "markdown",
   "id": "150c01cc-3d05-4b42-971c-ccbf7e98e51b",
   "metadata": {},
   "source": [
    "# Assignment Questions 7"
   ]
  },
  {
   "cell_type": "markdown",
   "id": "6557f74f-01fa-4b76-a4ed-096317e0c855",
   "metadata": {},
   "source": [
    "<aside>\n",
    "💡 **Q.1** Develop a captivating quiz web application with an engaging user interface using HTML, CSS, and JavaScript, incorporating a dynamic leaderboard feature to track and display the scores of participants in real-time with following features\n",
    "\n",
    "- When the user submits an answer, display a popup to indicate whether the answer is right or wrong as shown in the image.\n",
    "- Provide immediate feedback to the user, enhancing their engagement and learning experience.\n",
    "- Once the user answers all the questions, present them with a leaderboard.\n",
    "- The **leaderboard** should display the number of questions the user answered correctly and incorrectly.\n",
    "- Display the user's overall result, showcasing their performance in the quiz.\n",
    "\n",
    "**Note:** The overall result and leaderboard format should be designed similar to the image provided below.\n",
    "\n",
    "![quiz web app.png](https://s3-us-west-2.amazonaws.com/secure.notion-static.com/8ff4ef13-4fc8-49c8-818f-7766c37f47fe/quiz_web_app.png)\n",
    "\n",
    "</aside>"
   ]
  },
  {
   "cell_type": "markdown",
   "id": "319a4a30-bc13-48e8-ae7d-f660363bdeaa",
   "metadata": {},
   "source": [
    "\n",
    "\n",
    "\n",
    "\n",
    "<aside>\n",
    "💡 **Q.2** Create an elegant and functional digital clock using HTML, CSS, and JavaScript, where the current time is displayed with precision and style as shown in the below image\n",
    "\n",
    "![Untitled](https://s3-us-west-2.amazonaws.com/secure.notion-static.com/da6f0418-c36a-4f07-8c86-4157bb625550/Untitled.png)\n",
    "\n",
    "</aside>\n"
   ]
  },
  {
   "cell_type": "markdown",
   "id": "94359b62-a1f7-48f4-b960-ef9d2faf8b70",
   "metadata": {},
   "source": [
    "\n",
    "<aside>\n",
    "💡 **Q.3** Develop a **GitHub User Finder** web application using **HTML**, **CSS**, and **JavaScript**. The application should allow users to enter a **GitHub username** and display relevant information about the user, including their avatar and name. The design of the application should follow the layout provided in the image below.\n",
    "\n",
    "- Use Github Api to get User Data “https://api.github.com/users”\n",
    "\n",
    "![github user find.png](https://s3-us-west-2.amazonaws.com/secure.notion-static.com/fcd43c3b-9f13-4eba-a654-de1e0284d5e6/github_user_find.png)\n",
    "\n",
    "</aside>\n"
   ]
  },
  {
   "cell_type": "markdown",
   "id": "d4d3f7fc-9010-4a80-bd40-9b09a9951417",
   "metadata": {},
   "source": [
    "\n",
    "<aside>\n",
    "💡 **Q.4** Develop a simple website using **HTML**, **CSS**, and **JavaScript** to fetch and display products from the \"https://fakestoreapi.com/products\" API. The website should have the following features:\n",
    "\n",
    "- Fetch product data from the \"https://fakestoreapi.com/products\" API.\n",
    "- Display the products in a user-friendly UI.\n",
    "- Show **four products** in a single row for optimal visibility and layout.\n",
    "- Use **HTML, CSS**, and **JavaScript** to achieve the desired layout and functionality.\n",
    "- Ensure that the UI is visually appealing and responsive.\n",
    "- Implement error handling to handle any issues with API requests.\n",
    "- Test the website thoroughly to ensure proper functionality and performance.\n",
    "- Provide clear and concise documentation to guide users on how to interact with the website and understand its features.\n",
    "\n",
    "**Note**: Refer to the provided image or design specification for the desired layout and styling of the product display in a single row.\n",
    "\n",
    "![Untitled](https://s3-us-west-2.amazonaws.com/secure.notion-static.com/bc8b0ff9-1e30-4955-9baf-c25e4aa9ccda/Untitled.png)\n",
    "\n",
    "</aside>\n"
   ]
  },
  {
   "cell_type": "markdown",
   "id": "e505dc70-3c76-4c44-ace6-bf5f115b8598",
   "metadata": {},
   "source": [
    "\n",
    "<aside>\n",
    "💡 **Q.5**  Extend the previous website that fetches products from the '**https://fakestoreapi.com/products**' API using HTML, CSS, and JavaScript. Implement the following additional functionalities and features:\n",
    "\n",
    "1. Integrate an 'Add to Cart' functionality:\n",
    "    - When a user clicks on the 'Add to Cart' button on a product card, the selected product should be added to the cart.\n",
    "    - Use JavaScript to handle the 'Add to Cart' functionality.\n",
    "2. Display the Cart UI:\n",
    "    - Create a separate section or modal that displays the products added to the cart.\n",
    "    - The cart UI should show the added product cards, including their image, name, price, and quantity.\n",
    "    - Ensure that the cart UI is visually appealing and user-friendly.\n",
    "\n",
    "**Note:** Refer to the provided image or design specification for the desired layout and styling of the cart UI.\n",
    "\n",
    "![add to card.png](https://s3-us-west-2.amazonaws.com/secure.notion-static.com/7a6f7425-f2c8-4f4a-b6a8-1049020a487e/add_to_card.png)\n",
    "\n",
    "</aside>"
   ]
  },
  {
   "cell_type": "markdown",
   "id": "88aef619-86b9-4d33-a598-d1a849cd5826",
   "metadata": {},
   "source": [
    "\n",
    "\n",
    "<aside>\n",
    "💡 **Q.6** Extension to Previous Problem**,** The task is to create a single product page with the following functionalities:\n",
    "\n",
    "- On clicking on any product, the user should be redirected to a single product page.\n",
    "- The single product page should display the data specific to the clicked product.\n",
    "\n",
    "Hint  : Use LocalStorage to store data\n",
    "\n",
    "![productPage.png](https://s3-us-west-2.amazonaws.com/secure.notion-static.com/ff7dec30-06cb-4b4a-8c1a-b349a182ca79/productPage.png)\n",
    "\n",
    "</aside>"
   ]
  },
  {
   "cell_type": "markdown",
   "id": "320bfa66-13d4-488e-a833-b9afd6a35d11",
   "metadata": {},
   "source": [
    "\n",
    "\n",
    "<aside>\n",
    "💡 **Q.7** develop a live preview project using HTML, CSS, and JavaScript, consisting of two sections: a form section and a live preview section. The live preview section should dynamically display the information filled in the form section in real time. as shown in the below image\n",
    "\n",
    "![livePreview.png](https://s3-us-west-2.amazonaws.com/secure.notion-static.com/0c1992a2-ad02-49ef-91fc-a581ac2aa990/livePreview.png)\n",
    "\n",
    "</aside>"
   ]
  },
  {
   "cell_type": "markdown",
   "id": "f2d17902-1890-47bd-bc9d-d9e5147c5ba6",
   "metadata": {},
   "source": [
    "\n",
    "\n",
    "<aside>\n",
    "💡 **Q.8** Create a Simple Todo Web App with following features :\n",
    "\n",
    "- An input button where users can type their tasks.\n",
    "- On clicking the submit button, the entered task should be displayed in the UI.\n",
    "- The UI layout should resemble the image provided.\n",
    "\n",
    "![todo.PNG](https://s3-us-west-2.amazonaws.com/secure.notion-static.com/2ab6994d-3875-4cc9-8791-61594ff5f410/todo.png)\n",
    "\n",
    "</aside>\n"
   ]
  },
  {
   "cell_type": "markdown",
   "id": "10d11e45-d708-4484-9424-2a2cb9c1e349",
   "metadata": {},
   "source": [
    "\n",
    "<aside>\n",
    "💡 **Q.9** Expand the existing todo web app with two additional functionalities:\n",
    "\n",
    "1. On clicking the \"Update Status\" button:\n",
    "    - Update the status of the task.\n",
    "    - Change the background color of the task to indicate the updated status.\n",
    "2. On clicking the \"Delete Todo\" button:\n",
    "    - Remove the selected todo from the UI.\n",
    "    - Ensure that the deleted todo is no longer visible in the todo list.\n",
    "\n",
    "See below **image** for **Reference**  \n",
    "\n",
    "![todowebapp.png](https://s3-us-west-2.amazonaws.com/secure.notion-static.com/d5301209-64d9-4980-89bf-fb4e7be7f99c/todowebapp.png)\n",
    "\n",
    "</aside>\n"
   ]
  },
  {
   "cell_type": "markdown",
   "id": "588a0160-434e-41c7-a7af-ee9889a259b9",
   "metadata": {},
   "source": [
    "\n",
    "<aside>\n",
    "💡 **Q.10** Assignment Extension: Add Edit Functionality to the Todo Web App\n",
    "\n",
    "On clicking the \"**Edit**\" button for a specific todo:\n",
    "\n",
    "- Display a Form where the user can update the data of the selected todo.\n",
    "- Provide input fields or text areas in the modal to edit the todo's details.\n",
    "- On clicking the \"Update\" button in the modal:\n",
    "    - Update the data of the todo with the user's changes.\n",
    "    - Ensure that the updated data is immediately visible in the UI, reflecting the changes made by the user.\n",
    "\n",
    "See below image for reference  \n",
    "\n",
    "![Untitled](https://s3-us-west-2.amazonaws.com/secure.notion-static.com/5e5e319a-889e-4caf-b875-e72ceb38247f/Untitled.png)\n",
    "\n",
    "</aside>"
   ]
  }
 ],
 "metadata": {
  "kernelspec": {
   "display_name": "Python 3 (ipykernel)",
   "language": "python",
   "name": "python3"
  },
  "language_info": {
   "codemirror_mode": {
    "name": "ipython",
    "version": 3
   },
   "file_extension": ".py",
   "mimetype": "text/x-python",
   "name": "python",
   "nbconvert_exporter": "python",
   "pygments_lexer": "ipython3",
   "version": "3.10.6"
  }
 },
 "nbformat": 4,
 "nbformat_minor": 5
}
