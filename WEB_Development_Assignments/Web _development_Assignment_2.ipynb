{
 "cells": [
  {
   "cell_type": "markdown",
   "id": "5ea8a47a-02fa-4ed5-ae29-7934a12762a5",
   "metadata": {},
   "source": [
    "# Assignment Questions 2"
   ]
  },
  {
   "cell_type": "markdown",
   "id": "3f0ccfd6-0e78-45e7-9ac3-14234f3d1240",
   "metadata": {},
   "source": [
    "<aside>\n",
    "💡 Q.1 What’s Box Model in CSS ?\n",
    "\n",
    "</aside>"
   ]
  },
  {
   "cell_type": "markdown",
   "id": "62a6100c-35b0-4e3e-8ab1-2ed4d066d37c",
   "metadata": {},
   "source": [
    "A. The Box Model is a fundamental concept in CSS (Cascading Style Sheets) that defines how elements on a web page are visually represented and how their dimensions are calculated. It describes how the content of an HTML element is surrounded by padding, borders, and margins.\n",
    "\n",
    "The Box Model consists of four main components:\n",
    "\n",
    "Content: This is the actual content of the HTML element, such as text, images, or other elements.\n",
    "\n",
    "Padding: Padding is the space between the content and the element's border. It provides extra spacing inside the element. Padding can be set individually for each side (top, right, bottom, left) using CSS properties like padding-top, padding-right, padding-bottom, and padding-left.\n",
    "\n",
    "Border: The border surrounds the padding and content, giving the element a visible boundary. You can control the width, style, and color of the border using properties like border-width, border-style, and border-color.\n",
    "\n",
    "Margin: Margins are the space outside the element's border. They create spacing between neighboring elements. Like padding, margins can also be set for each side separately using properties like margin-top, margin-right, margin-bottom, and margin-left."
   ]
  },
  {
   "cell_type": "markdown",
   "id": "f980d75d-308a-4107-8886-b581ed8f87c7",
   "metadata": {},
   "source": [
    "<aside>\n",
    "💡 Q.2 What are the Different Types of Selectors in CSS & what are the advantages of them?\n",
    "\n",
    "</aside>"
   ]
  },
  {
   "cell_type": "markdown",
   "id": "4bc6e2af-d99c-4cc6-8315-6b66c0e8d1c0",
   "metadata": {},
   "source": [
    "A. Certainly, here's a brief summary of different types of CSS selectors and their advantages:\n",
    "\n",
    "Type Selectors: Apply styles to all instances of a specific HTML element.\n",
    "Class Selectors: Target elements by a shared class attribute, offering flexibility.\n",
    "ID Selectors: Target unique elements by their ID attribute.\n",
    "Descendant Selectors: Style nested elements within a certain structure.\n",
    "Child Selectors: Target immediate child elements of a parent.\n",
    "Adjacent Sibling Selectors: Style an element immediately following another.\n",
    "General Sibling Selectors: Style elements that are siblings of a common parent.\n",
    "Attribute Selectors: Style elements based on their attributes.\n",
    "Pseudo-classes and Pseudo-elements: Style elements based on state or specific content parts.\n",
    "Advantages include specificity, efficient targeting, separation of style and content, and easier maintenance. Selectors offer a versatile way to apply styles in various scenarios."
   ]
  },
  {
   "cell_type": "markdown",
   "id": "8e3d059c-7710-49bd-a280-eae66515898f",
   "metadata": {},
   "source": [
    "<aside>\n",
    "💡 Q.3 What is VW/VH ?\n",
    "\n",
    "</aside>\n"
   ]
  },
  {
   "cell_type": "markdown",
   "id": "9d61f0a0-c0a1-4749-a84d-54bbeac2b9f6",
   "metadata": {},
   "source": [
    "A. vw and vh are units of measurement in CSS that refer to viewport width and viewport height, respectively. They are relative units, which means they are based on the size of the browser viewport, or the visible area of the web page.\n",
    "\n",
    "vw (Viewport Width): This unit represents 1% of the width of the viewport. So, 1vw is equal to 1% of the viewport's width. If the viewport width is 1000 pixels, 1vw would be 10 pixels.\n",
    "\n",
    "vh (Viewport Height): Similarly, this unit represents 1% of the height of the viewport. So, 1vh is equal to 1% of the viewport's height. If the viewport height is 800 pixels, 1vh would be 8 pixels.\n",
    "\n",
    "Using vw and vh units can be quite handy for creating responsive designs that adapt to different screen sizes. For example, you can set font sizes, margins, paddings, or even widths of elements using these units, ensuring that they adjust proportionally as the viewport dimensions change. However, it's important to test and fine-tune these values across various devices to ensure the desired layout and readability are maintained."
   ]
  },
  {
   "cell_type": "markdown",
   "id": "12671d3c-cc7e-498f-b4dd-109184a195b6",
   "metadata": {},
   "source": [
    "\n",
    "<aside>\n",
    "💡 Q.4 Whats difference between Inline, Inline Block and block ?\n",
    "\n",
    "</aside>\n"
   ]
  },
  {
   "cell_type": "raw",
   "id": "faa0fb2b-d271-483c-bd2d-f99bc98f2432",
   "metadata": {},
   "source": [
    "A. In CSS, \"inline,\" \"inline-block,\" and \"block\" are three display values that define how elements are rendered in terms of their layout and interaction with other elements. Here's a comparison of these three display values:\n",
    "\n",
    "Inline:\n",
    "\n",
    "Elements are displayed on the same line, next to each other, if there's enough space.\n",
    "Width and height properties are ignored.\n",
    "Margins and paddings can only be applied horizontally (left and right).\n",
    "Examples: <span>, <a>, <strong>\n",
    "Inline-Block:\n",
    "\n",
    "Elements are displayed inline, but they can have block-level properties like width, height, margins, and padding.\n",
    "Elements sit on the same line as long as there's enough space, then wrap to the next line.\n",
    "Can be used for creating inline elements with block-like properties.\n",
    "Examples: <img>, <input>, <button>\n",
    "Block:\n",
    "\n",
    "Elements take up the full width available and create a new \"block\" or line break after themselves.\n",
    "Block elements stack on top of each other vertically.\n",
    "Width, height, margins, padding, and all properties are applicable.\n",
    "Examples: <div>, <p>, <h1>, <ul>, <li>"
   ]
  },
  {
   "cell_type": "markdown",
   "id": "a5b98f47-8348-4ff2-bf20-12ffd87d9f7e",
   "metadata": {},
   "source": [
    "<aside>\n",
    "💡 Q.5 How is Border-box different from Content Box?\n",
    "\n",
    "\n",
    "</aside>\n"
   ]
  },
  {
   "cell_type": "markdown",
   "id": "63259982-e019-4f57-9355-117fc462ec6a",
   "metadata": {},
   "source": [
    "A. box-sizing is a CSS property that defines how the dimensions of an element are calculated, specifically in relation to its padding and border. There are two main values for the box-sizing property: content-box and border-box.\n",
    "\n",
    "1.Content-Box:\n",
    "\n",
    "This is the default value for the box-sizing property.\n",
    "When box-sizing: content-box is used, the width and height of an element include only the content area and do not include padding or border.\n",
    "Any padding or border you add will increase the overall dimensions of the element.\n",
    "\n",
    "2.Border-Box:\n",
    "\n",
    "When box-sizing: border-box is used, the width and height of an element include both the content area, padding, and border.\n",
    "This means that the element's total dimensions are calculated by considering everything within the element's borders.\n",
    "This can be particularly useful for responsive design and layout, as it makes it easier to manage element sizes without having to account for padding and border separately."
   ]
  },
  {
   "cell_type": "markdown",
   "id": "e7da63c8-33ae-48d4-aece-dc003cf14c10",
   "metadata": {},
   "source": [
    "<aside>\n",
    "💡 Q.6 What’s z-index and How does it Function ?\n",
    "\n",
    "</aside>\n"
   ]
  },
  {
   "cell_type": "markdown",
   "id": "1c08db05-f689-4010-8d38-691e35ecff86",
   "metadata": {},
   "source": [
    "A. z-index is a CSS property that controls the stacking order of positioned elements on a web page. It determines which element should be displayed in front of or behind other elements when they overlap in the same stacking context. Elements with higher z-index values are displayed on top of elements with lower values.\n",
    "\n",
    "Here's how z-index functions:\n",
    "\n",
    "Stacking Contexts: The stacking order is managed within stacking contexts. A stacking context is created by an element with a position value of relative, absolute, fixed, or sticky, along with a few other properties like opacity and CSS transforms. Elements inside a stacking context are positioned relative to each other, but they don't affect elements in other stacking contexts.\n",
    "\n",
    "Z-Index Values: The z-index property accepts numeric values (both positive and negative), indicating the element's stacking order. Elements with higher z-index values are stacked above those with lower values.\n",
    "\n",
    "Auto Stacking: If z-index is not explicitly set, elements follow the order they appear in the HTML document, with later elements stacking above earlier ones.\n",
    "\n",
    "Siblings within Stacking Context: Within a single stacking context, siblings are positioned based on their z-index values. The stacking order applies to sibling elements only; parent and child elements don't directly affect each other's stacking order.\n",
    "\n",
    "Stacking Context Nesting: A child element with a higher z-index value than its parent can still be positioned behind a sibling of the parent with a higher z-index.\n",
    "\n",
    "Positioned vs Non-Positioned: Non-positioned elements (those with position: static) are considered at the bottom of the stacking order. Adding positioning (e.g., relative, absolute, fixed) creates a new stacking context, and the z-index of those elements affects their position in the stacking order."
   ]
  },
  {
   "cell_type": "markdown",
   "id": "1a43c875-f0c3-46c1-ae5b-ab7302dc2b77",
   "metadata": {},
   "source": [
    "<aside>\n",
    "💡 Q.7 What’s Grid & Flex and difference between them?\n",
    "\n",
    "</aside>\n"
   ]
  },
  {
   "cell_type": "raw",
   "id": "345a92f6-b344-4778-84ef-23bd7926fcea",
   "metadata": {},
   "source": [
    "Flexbox:\n",
    "\n",
    "One-dimensional layout (row or column).\n",
    "Aligns and distributes items along the main or cross axis.\n",
    "Best for simpler layouts and content alignment.\n",
    "Ideal for navigation menus, form layouts.\n",
    "CSS Grid:\n",
    "\n",
    "Two-dimensional layout (rows and columns).\n",
    "Defines rows and columns within a grid container.\n",
    "Suited for complex layouts with precise item placement.\n",
    "Ideal for magazine layouts, image galleries, multi-column content.\n",
    "Difference:\n",
    "\n",
    "Flexbox is one-dimensional, while Grid is two-dimensional.\n",
    "Flexbox is for aligning and distributing along one axis.\n",
    "Grid is for structured layouts with rows and columns.\n",
    "Use both for different layout needs within a project."
   ]
  },
  {
   "cell_type": "markdown",
   "id": "5b379256-96af-4bb2-ba77-e6fefc0ce246",
   "metadata": {},
   "source": [
    "\n",
    "\n",
    "\n",
    "\n",
    "\n",
    "\n",
    "\n",
    "\n",
    "\n",
    "\n",
    "<aside>\n",
    "💡 Q.8 Difference between absolute and relative and sticky and fixed position explain with example.****\n",
    "\n",
    "</aside>"
   ]
  },
  {
   "cell_type": "raw",
   "id": "d460d6df-fdeb-4340-b8f2-22dcbc448e4e",
   "metadata": {},
   "source": [
    "A. Relative Position:\n",
    "\n",
    "Adjusts position relative to its normal position.\n",
    "Doesn't affect other elements.\n",
    "Absolute Position:\n",
    "\n",
    "Positioned relative to its closest positioned ancestor.\n",
    "Can overlap other elements.\n",
    "Fixed Position:\n",
    "\n",
    "Positioned relative to the viewport.\n",
    "Remains fixed during scrolling.\n",
    "Sticky Position:\n",
    "\n",
    "Initially relative, becomes fixed on scrolling.\n",
    "Stops at a specified scroll position."
   ]
  },
  {
   "cell_type": "markdown",
   "id": "c5dd0944-96ba-4bd3-931f-ba55ff220854",
   "metadata": {},
   "source": [
    "\n",
    "<aside>\n",
    "💡 Q.9 Build Periodic Table as shown in the below image****\n",
    "\n",
    "</aside>\n",
    "\n",
    "![periodic table.png](https://s3-us-west-2.amazonaws.com/secure.notion-static.com/41470e09-2a72-448e-b080-ed9ede4b3c76/periodic_table.png)"
   ]
  },
  {
   "cell_type": "markdown",
   "id": "a83b19b9-5695-44ce-bba6-67bbc5deebdd",
   "metadata": {},
   "source": [
    "<!DOCTYPE html>\n",
    "<html>\n",
    "<head>\n",
    "    <title>Periodic Table</title>\n",
    "    <style>\n",
    "        body {\n",
    "            font-family: Arial, sans-serif;\n",
    "        }\n",
    "        .table-container {\n",
    "            display: grid;\n",
    "            grid-template-columns: repeat(18, 1fr);\n",
    "            gap: 1px;\n",
    "            border: 1px solid #000;\n",
    "        }\n",
    "        .element {\n",
    "            padding: 10px;\n",
    "            border: 1px solid #ccc;\n",
    "            background-color: #fff;\n",
    "            text-align: center;\n",
    "        }\n",
    "        .element.hydrogen {\n",
    "            background-color: #ffeb3b;\n",
    "        }\n",
    "        .element.helium {\n",
    "            background-color: #b2ebf2;\n",
    "        }\n",
    "        /* Add similar styling rules for other elements */\n",
    "    </style>\n",
    "</head>\n",
    "<body>\n",
    "    <div class=\"table-container\">\n",
    "        <!-- Hydrogen -->\n",
    "        <div class=\"element hydrogen\">\n",
    "            <div class=\"number\">1</div>\n",
    "            <div class=\"symbol\">H</div>\n",
    "            <div class=\"name\">Hydrogen</div>\n",
    "        </div>\n",
    "        <!-- Helium -->\n",
    "        <div class=\"element helium\">\n",
    "            <div class=\"number\">2</div>\n",
    "            <div class=\"symbol\">He</div>\n",
    "            <div class=\"name\">Helium</div>\n",
    "        </div>\n",
    "        <!-- Add more elements here -->\n",
    "    </div>\n",
    "</body>\n",
    "</html>"
   ]
  },
  {
   "cell_type": "markdown",
   "id": "dd8944ef-a23d-4f07-91cd-7427b8fe45a3",
   "metadata": {},
   "source": [
    "\n",
    "\n",
    "\n",
    "<aside>\n",
    "💡 **Q.10** Build Responsive Layout both desktop and mobile and Tablet, see below image for reference ?\n",
    "\n",
    "</aside>"
   ]
  },
  {
   "cell_type": "markdown",
   "id": "8fc41c6a-dc60-4b7e-a096-100ae9efefcb",
   "metadata": {},
   "source": [
    "<!DOCTYPE html>\n",
    "<html>\n",
    "<head>\n",
    "    <title>Responsive Layout</title>\n",
    "    <link rel=\"stylesheet\" type=\"text/css\" href=\"styles.css\">\n",
    "</head>\n",
    "<body>\n",
    "    <div class=\"container\">\n",
    "        <header>Header</header>\n",
    "        <nav>Navigation</nav>\n",
    "        <main>Main Content</main>\n",
    "        <aside>Aside</aside>\n",
    "        <footer>Footer</footer>\n",
    "    </div>\n",
    "</body>\n",
    "</html>"
   ]
  },
  {
   "cell_type": "markdown",
   "id": "f265c300-a9fe-4b6b-838f-88ceba3def1f",
   "metadata": {},
   "source": [
    "/* Common styles for all screen sizes */\n",
    "body {\n",
    "    margin: 0;\n",
    "    font-family: Arial, sans-serif;\n",
    "}\n",
    "\n",
    ".container {\n",
    "    max-width: 1200px;\n",
    "    margin: 0 auto;\n",
    "    padding: 20px;\n",
    "}\n",
    "\n",
    "/* Desktop styles */\n",
    "@media screen and (min-width: 992px) {\n",
    "    header {\n",
    "        background-color: #333;\n",
    "        color: #fff;\n",
    "        padding: 10px;\n",
    "    }\n",
    "    nav, main, aside {\n",
    "        float: left;\n",
    "        width: 25%;\n",
    "        padding: 20px;\n",
    "        box-sizing: border-box;\n",
    "    }\n",
    "    footer {\n",
    "        clear: both;\n",
    "        background-color: #333;\n",
    "        color: #fff;\n",
    "        padding: 10px;\n",
    "    }\n",
    "}\n",
    "\n",
    "/* Tablet styles */\n",
    "@media screen and (max-width: 991px) {\n",
    "    nav, main, aside {\n",
    "        width: 33.33%;\n",
    "    }\n",
    "}\n",
    "\n",
    "/* Mobile styles */\n",
    "@media screen and (max-width: 767px) {\n",
    "    nav, main, aside {\n",
    "        float: none;\n",
    "        width: 100%;\n",
    "    }\n",
    "}"
   ]
  }
 ],
 "metadata": {
  "kernelspec": {
   "display_name": "Python 3 (ipykernel)",
   "language": "python",
   "name": "python3"
  },
  "language_info": {
   "codemirror_mode": {
    "name": "ipython",
    "version": 3
   },
   "file_extension": ".py",
   "mimetype": "text/x-python",
   "name": "python",
   "nbconvert_exporter": "python",
   "pygments_lexer": "ipython3",
   "version": "3.10.6"
  }
 },
 "nbformat": 4,
 "nbformat_minor": 5
}
