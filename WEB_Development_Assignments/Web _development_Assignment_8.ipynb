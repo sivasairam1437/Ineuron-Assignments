{
 "cells": [
  {
   "cell_type": "markdown",
   "id": "384b744d-c860-4c7d-b252-e3d0507e2cd8",
   "metadata": {},
   "source": [
    "# Assignment Questions 8"
   ]
  },
  {
   "cell_type": "markdown",
   "id": "1386e0b9-3b96-427d-b552-f111f8523e82",
   "metadata": {},
   "source": [
    "\n",
    "<aside>\n",
    "💡 **Q.1**  Whats React and its pros and cons?\n",
    "\n",
    "</aside>\n"
   ]
  },
  {
   "cell_type": "markdown",
   "id": "ed2b7429-615f-4a5e-8460-abe1fa6dcb45",
   "metadata": {},
   "source": [
    "\n",
    "<aside>\n",
    "💡 **Q.2** What do you understand by Virtual Dom?\n",
    "\n",
    "</aside>\n"
   ]
  },
  {
   "cell_type": "markdown",
   "id": "14453165-c67c-419e-a904-3426db78d963",
   "metadata": {},
   "source": [
    "\n",
    "<aside>\n",
    "💡 **Q.3** Difference between Virtual Dom vs Real Dom\n",
    "\n",
    "</aside>\n"
   ]
  },
  {
   "cell_type": "markdown",
   "id": "1e1ec4b4-7563-49f1-b99d-3a45b24bc0ca",
   "metadata": {},
   "source": [
    "\n",
    "<aside>\n",
    "💡 **Q.4** Whats component? Types of component\n",
    "\n",
    "</aside>"
   ]
  },
  {
   "cell_type": "markdown",
   "id": "875aae33-fdf9-431c-a16a-2a136b95de69",
   "metadata": {},
   "source": [
    "\n",
    "<aside>\n",
    "💡 **Q.5** Difference between class & function based component\n",
    "\n",
    "</aside>\n"
   ]
  },
  {
   "cell_type": "markdown",
   "id": "a99b6fe9-63b3-41f2-9b05-8da26b2c8bf8",
   "metadata": {},
   "source": [
    "\n",
    "<aside>\n",
    "💡 **Q.6** Explain react component life cycle\n",
    "\n",
    "</aside>"
   ]
  },
  {
   "cell_type": "markdown",
   "id": "f39bd62c-5b5b-4312-b510-bd4f490063c5",
   "metadata": {},
   "source": [
    "<aside>\n",
    "💡 **Q.7** Explain Prop Drilling in React & Ways to avoid it\n",
    "\n",
    "</aside>"
   ]
  },
  {
   "cell_type": "markdown",
   "id": "a91cc860-101f-4c45-a516-e58cbca515d6",
   "metadata": {},
   "source": [
    "<aside>\n",
    "💡 **Q.8** Create a Counter Web App using React\n",
    "\n",
    "- Develop a web application using React that functions as a counter.\n",
    "- Include two buttons in the UI:\n",
    "    1. \"Increment\" button:\n",
    "        - On clicking this button, the counter value should be incremented by one.\n",
    "    2. \"Decrement\" button:\n",
    "        - On clicking this button, the counter value should be decremented by one.\n",
    "- Implement the counter logic using React's state management.\n",
    "- Ensure that the counter value is displayed in the UI and updates in real-time when incremented or decremented.\n",
    "- Use appropriate React components and hooks to manage the counter state and handle button click events.\n",
    "\n",
    "![Untitled](https://s3-us-west-2.amazonaws.com/secure.notion-static.com/3b3213d6-6918-4e52-9f90-3f973973f9ee/Untitled.png)\n",
    "\n",
    "</aside>"
   ]
  },
  {
   "cell_type": "markdown",
   "id": "52ad85f2-4ef0-40a4-a0d2-52aa3d8eb7d2",
   "metadata": {},
   "source": [
    "<aside>\n",
    "💡 **Q.9**  Develop a **GitHub User Finder** web application using **React** The application should allow users to enter a **GitHub username** and display relevant information about the user, including their avatar and name. The design of the application should follow the layout provided in the image below.\n",
    "\n",
    "- Use Github Api to get User Data “https://api.github.com/users”\n",
    "\n",
    "![github user find.png](https://s3-us-west-2.amazonaws.com/secure.notion-static.com/fcd43c3b-9f13-4eba-a654-de1e0284d5e6/github_user_find.png)\n",
    "\n",
    "</aside>"
   ]
  },
  {
   "cell_type": "markdown",
   "id": "2c398adf-a8a8-4e78-bb59-a15909429187",
   "metadata": {},
   "source": [
    "\n",
    "\n",
    "\n",
    "\n",
    "\n",
    "\n",
    "\n",
    "\n",
    "\n",
    "<aside>\n",
    "💡 **Q.10**  Develop a simple website using React, fetch and display products from the \"https://fakestoreapi.com/products\" API. The website should have the following features:\n",
    "\n",
    "- Fetch product data from the \"https://fakestoreapi.com/products\" API.\n",
    "- Display the products in a user-friendly UI.\n",
    "- Show **Three products** in a single row for optimal visibility and layout.\n",
    "- Use **React** to achieve the desired layout and functionality.\n",
    "- Ensure that the UI is visually appealing and responsive.\n",
    "- Implement error handling to handle any issues with API requests.\n",
    "- Test the website thoroughly to ensure proper functionality and performance.\n",
    "- Provide clear and concise documentation to guide users on how to interact with the website and understand its features.\n",
    "\n",
    "**Note**: Refer to the provided image or design specification for the desired layout and styling of the product display in a single row.\n",
    "\n",
    "</aside>"
   ]
  },
  {
   "cell_type": "code",
   "execution_count": null,
   "id": "12b1ae2f-a1c1-4336-8474-4aa340feb8f9",
   "metadata": {},
   "outputs": [],
   "source": []
  }
 ],
 "metadata": {
  "kernelspec": {
   "display_name": "Python 3 (ipykernel)",
   "language": "python",
   "name": "python3"
  },
  "language_info": {
   "codemirror_mode": {
    "name": "ipython",
    "version": 3
   },
   "file_extension": ".py",
   "mimetype": "text/x-python",
   "name": "python",
   "nbconvert_exporter": "python",
   "pygments_lexer": "ipython3",
   "version": "3.10.6"
  }
 },
 "nbformat": 4,
 "nbformat_minor": 5
}
