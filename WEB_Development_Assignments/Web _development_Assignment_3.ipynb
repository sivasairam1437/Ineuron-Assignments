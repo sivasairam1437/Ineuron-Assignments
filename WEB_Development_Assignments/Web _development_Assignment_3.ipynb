{
 "cells": [
  {
   "cell_type": "markdown",
   "id": "bc8169dc-7265-42ed-82ac-3f4ec97f7513",
   "metadata": {},
   "source": [
    "# Assignment Questions 3\n"
   ]
  },
  {
   "cell_type": "markdown",
   "id": "d18d42c1-5883-403a-a0c2-a97f9574b9d3",
   "metadata": {},
   "source": [
    "\n",
    "<aside>\n",
    "💡 **Q.1** What is a Media Query in CSS, and what is its purpose?\n",
    "\n",
    "</aside>"
   ]
  },
  {
   "cell_type": "markdown",
   "id": "1b6ed210-541e-45bb-8cef-0adc7e14774d",
   "metadata": {},
   "source": [
    "A. A Media Query in CSS is a technique used to apply different styles to a webpage based on certain conditions, such as the characteristics of the user's device, screen size, orientation, and other media-related features. The purpose of media queries is to create responsive designs that adapt and optimize the layout and presentation of web content across various devices and screen sizes.\n",
    "\n",
    "With the proliferation of devices like smartphones, tablets, laptops, and desktops, it's important for websites to look and function well on different screen sizes and resolutions. Media queries enable web designers and developers to write CSS rules that target specific conditions, allowing them to create flexible and adaptable layouts without needing to write separate stylesheets for each device type."
   ]
  },
  {
   "cell_type": "markdown",
   "id": "77304c4d-0609-426e-9801-a37988b4a4fb",
   "metadata": {},
   "source": [
    "\n",
    "<aside>\n",
    "💡 **Q.2** How do you define a media query in CSS?\n",
    "\n",
    "</aside>"
   ]
  },
  {
   "cell_type": "markdown",
   "id": "df68c9fe-7dc0-4252-883e-0d6950a62433",
   "metadata": {},
   "source": [
    "A. A media query in CSS is defined using the @media rule. This rule allows you to apply a block of styles only if certain conditions are met, such as the width of the viewport, the device's orientation, the display type, and more. Here's the basic syntax for defining a media query in CSS:\n",
    "\n",
    "Let's break down the components of the syntax:\n",
    "\n",
    "@media: This is the at-rule that signifies the start of a media query.\n",
    "mediaType: This is an optional part that specifies the type of media being targeted. It can be things like screen for computer screens, print for printing, speech for screen readers, etc. If no media type is specified, the styles will apply to all types of media.\n",
    "mediaFeature: This is a condition that you want to check against. It can be properties like width, height, orientation, aspect-ratio, max-width, min-width, and more.\n",
    "value: This is the value associated with the media feature against which the condition is being tested."
   ]
  },
  {
   "cell_type": "markdown",
   "id": "6112e04d-069b-4765-8ee7-2e391aef1b94",
   "metadata": {},
   "source": [
    "<aside>\n",
    "💡 **Q.3** Explain the concept of Breakpoints in Responsive Web Design and How They are used in Media Queries.\n",
    "\n",
    "</aside>"
   ]
  },
  {
   "cell_type": "markdown",
   "id": "3427dd91-4a3b-4a55-935d-279445dce2eb",
   "metadata": {},
   "source": [
    "A. In responsive web design, breakpoints are specific points in the range of screen widths at which a website's layout and design need to adapt to provide an optimal viewing experience. Breakpoints essentially mark the transition points where the design switches from one layout configuration to another, ensuring that the content remains usable and visually appealing across various devices and screen sizes.\n",
    "\n",
    "Breakpoints are crucial because they help designers define how the content should be rearranged, resized, or reorganized to accommodate different screen dimensions. By using breakpoints, web designers can create fluid and flexible layouts that respond gracefully to changes in viewport size.\n",
    "\n",
    "Media queries are the CSS technique used to implement responsive design, and they are closely related to breakpoints. Here's how breakpoints and media queries work together:\n",
    "\n",
    "Identifying Breakpoints: Designers analyze their design and determine specific points at which the layout should change. These points are often based on common device sizes or the natural breakpoints in the design itself. For example, you might choose breakpoints at 480px, 768px, and 1024px.\n",
    "\n",
    "Writing Media Queries: For each breakpoint, designers write media queries that target specific screen sizes or ranges of sizes. These media queries are embedded within the CSS and contain rules that dictate how the layout and styles should change when the screen width falls within the specified range.\n",
    "\n",
    "Applying Styles: Inside the media queries, designers adjust styles, such as font sizes, spacing, columns, and more. The goal is to create a layout that works best for the given screen width, ensuring readability, usability, and aesthetics."
   ]
  },
  {
   "cell_type": "markdown",
   "id": "f10c812a-3eef-4397-ba57-55d69d3f8692",
   "metadata": {},
   "source": [
    "\n",
    "<aside>\n",
    "💡 **Q.4** What is the purpose of using Media Queries for Print Media?\n",
    "\n",
    "</aside>"
   ]
  },
  {
   "cell_type": "markdown",
   "id": "ddba4693-fcf3-4dac-b3d2-e5af982e14a4",
   "metadata": {},
   "source": [
    "A. Using media queries for print media allows you to create styles specifically tailored for when a webpage is printed as a physical document. The purpose of these print-specific styles is to ensure that the content looks well-formatted, readable, and visually appealing when printed on paper.\n",
    "\n",
    "Here are a few reasons why media queries for print media are useful:\n",
    "\n",
    "Optimized Formatting: Web content is often designed for on-screen viewing, which may not translate well to print. Media queries for print allow you to adjust font sizes, margins, padding, and other layout elements to ensure that the content fits well on paper.\n",
    "\n",
    "Minimized Clutter: Print-specific styles can hide elements that are not necessary or relevant when the content is printed. This helps in reducing clutter and making the printed document more focused and easier to read.\n",
    "\n",
    "Improved Readability: Print media queries enable adjustments to font styles and sizes that work better for reading on paper. This ensures that text is legible and doesn't strain the eyes when printed.\n",
    "\n",
    "Conservation of Resources: By optimizing styles for print, you can minimize the amount of ink and paper used. This is especially important for users who prefer to print content, as it reduces waste and printing costs.\n",
    "\n",
    "Branding and Identity: When users print web content, it's still an extension of your brand. By applying print-specific styles, you can maintain a consistent look and feel that aligns with your brand's identity."
   ]
  },
  {
   "cell_type": "markdown",
   "id": "68a9bfc6-4430-4126-bb2f-329b88835f76",
   "metadata": {},
   "source": [
    "\n",
    "<aside>\n",
    "💡 **Q.5** What is the purpose of the **`orientation`** media feature?\n",
    "\n",
    "</aside>\n"
   ]
  },
  {
   "cell_type": "markdown",
   "id": "db5fc720-def1-4375-8ccd-07241120feed",
   "metadata": {},
   "source": [
    "A. The orientation media feature in CSS is used to target different styles based on the orientation of the device's display. It allows you to apply specific CSS rules depending on whether the device is in portrait or landscape mode. This media feature is particularly useful for creating responsive designs that adapt not only to screen size but also to the way the user is holding or viewing the device.\n",
    "\n",
    "The two possible values for the orientation media feature are:\n",
    "\n",
    "portrait: This value indicates that the device's height is greater than its width. In other words, the device is held vertically.\n",
    "landscape: This value indicates that the device's width is greater than its height. The device is held horizontally."
   ]
  },
  {
   "cell_type": "markdown",
   "id": "f90386ac-dfd1-44e7-9e72-dd4d16a492b0",
   "metadata": {},
   "source": [
    "\n",
    "\n",
    "<aside>\n",
    "💡 **Q.6** Imagine you are a web developer working for a creative agency that specializes in building visually appealing and interactive websites. The agency has recently received a client request to create a landing page similar to the design of the one-page website: https://www.getonecard.app/. The client wants to showcase a video prominently on the page to engage visitors.\n",
    "\n",
    "Your task is to create a simple webpage that replicates the one-page landing page design, including a responsive layout and an HTML video. The below images are for your reference. Some browsers don’t allow you to play videos without the controls attribute. So, you can add controls here, we will learn how to play a video without the controls attribute in the later sections.\n",
    "\n",
    "</aside>\n",
    "\n",
    "![                                                                                    **LARGE SCREEN**](https://s3-us-west-2.amazonaws.com/secure.notion-static.com/529878ec-dfdf-4ea9-9198-0eb71b182bec/1.png)\n",
    "\n",
    "                                                                                    **LARGE SCREEN**\n",
    "\n",
    "![                                      **SMALL SCREEN**](https://s3-us-west-2.amazonaws.com/secure.notion-static.com/0472f14c-c72f-4a13-a43b-1bea11c78437/2.png)\n",
    "\n",
    "                                      **SMALL SCREEN**\n",
    "\n",
    "<aside>"
   ]
  },
  {
   "cell_type": "markdown",
   "id": "513cfa74-296f-4aaf-987d-9b3c77cbed78",
   "metadata": {},
   "source": [
    "<!DOCTYPE html>\n",
    "<html lang=\"en\">\n",
    "<head>\n",
    "  <meta charset=\"UTF-8\">\n",
    "  <meta name=\"viewport\" content=\"width=device-width, initial-scale=1.0\">\n",
    "  <title>Your Landing Page</title>\n",
    "  <link rel=\"stylesheet\" href=\"styles.css\">\n",
    "</head>\n",
    "<body>\n",
    "  <header>\n",
    "    <nav>\n",
    "      <ul>\n",
    "        <li><a href=\"#home\">Home</a></li>\n",
    "        <li><a href=\"#features\">Features</a></li>\n",
    "        <li><a href=\"#video\">Video</a></li>\n",
    "        <li><a href=\"#contact\">Contact</a></li>\n",
    "      </ul>\n",
    "    </nav>\n",
    "  </header>\n",
    "\n",
    "  <section id=\"home\">\n",
    "    <h1>Welcome to OneCard</h1>\n",
    "    <p>Your All-In-One Card Solution</p>\n",
    "    <a href=\"#features\" class=\"btn\">Learn More</a>\n",
    "  </section>\n",
    "\n",
    "  <section id=\"features\">\n",
    "    <!-- Feature details here -->\n",
    "  </section>\n",
    "\n",
    "  <section id=\"video\">\n",
    "    <div class=\"video-container\">\n",
    "      <video controls>\n",
    "        <source src=\"your-video.mp4\" type=\"video/mp4\">\n",
    "        Your browser does not support the video tag.\n",
    "      </video>\n",
    "    </div>\n",
    "  </section>\n",
    "\n",
    "  <section id=\"contact\">\n",
    "    <!-- Contact form or details here -->\n",
    "  </section>\n",
    "</body>\n",
    "</html>\n"
   ]
  },
  {
   "cell_type": "markdown",
   "id": "8899420f-9b83-4532-a375-4e591bee05b4",
   "metadata": {},
   "source": [
    "\n",
    "💡 **Q.7** You are tasked with building a webpage that displays an image gallery using a grid layout. The challenge is to ensure the gallery is visually appealing and functional on both large and small screens. On large screens, the gallery should display multiple images per row, while on small screens, it should collapse into a single column for optimal viewing. Refer to the attached images for visual reference. Implement this using CSS Grid and media queries for responsiveness.\n",
    "\n",
    "</aside>\n",
    "\n",
    "![3.PNG](https://s3-us-west-2.amazonaws.com/secure.notion-static.com/c0c9b12f-7ad7-4d43-8a1d-3a7296caa8c6/3.png)\n",
    "\n",
    "![4.PNG](https://s3-us-west-2.amazonaws.com/secure.notion-static.com/6b7d1874-feac-4be4-bd37-90122f54d024/4.png)\n",
    "\n",
    "<aside>"
   ]
  },
  {
   "cell_type": "markdown",
   "id": "6d3e46f5-4748-48ba-8e0e-a695713431c4",
   "metadata": {},
   "source": [
    "<!DOCTYPE html>\n",
    "<html lang=\"en\">\n",
    "<head>\n",
    "  <meta charset=\"UTF-8\">\n",
    "  <meta name=\"viewport\" content=\"width=device-width, initial-scale=1.0\">\n",
    "  <title>Image Gallery</title>\n",
    "  <link rel=\"stylesheet\" href=\"styles.css\">\n",
    "</head>\n",
    "<body>\n",
    "  <div class=\"gallery\">\n",
    "    <img src=\"https://pwskills.notion.site/image/https%3A%2F%2Fs3-us-west-2.amazonaws.com%2Fsecure.notion-static.com%2Fc0c9b12f-7ad7-4d43-8a1d-3a7296caa8c6%2F3.png?table=block&id=52fd127d-3e53-453c-990c-ed0691ab7125&spaceId=6fae2e0f-dedc-48e9-bc59-af2654c78209&width=2000&userId=&cache=v2.jpg\" alt=\"Image \">\n",
    "   \n",
    "  </div>\n",
    "</body>\n",
    "</html>\n"
   ]
  },
  {
   "cell_type": "markdown",
   "id": "a0ac0bc1-8148-4850-9ce3-8cc31072f4bb",
   "metadata": {},
   "source": [
    "\n",
    "💡 **Q.8** In this coding challenge, your task is to create an information section for the previously built OneCard webpage clone, focusing on the different modes like dark and light modes. The webpage should look different depending on the screen size: dark mode for larger screens and light mode for smaller devices. The reference images are attached below.\n",
    "\n",
    "</aside>\n",
    "\n",
    "![5.PNG](https://s3-us-west-2.amazonaws.com/secure.notion-static.com/6aa9a291-1923-4caf-b34b-799c72b452f4/5.png)\n",
    "\n",
    "![6.PNG](https://s3-us-west-2.amazonaws.com/secure.notion-static.com/60b972ef-01de-49b3-bacc-21b6b98d4dd3/6.png)\n",
    "\n",
    "<aside>"
   ]
  },
  {
   "cell_type": "markdown",
   "id": "46aed335-c2ce-41f2-bfb6-61af19137b3e",
   "metadata": {},
   "source": [
    "<!DOCTYPE html>\n",
    "<html lang=\"en\">\n",
    "<head>\n",
    "  <meta charset=\"UTF-8\">\n",
    "  <meta name=\"viewport\" content=\"width=device-width, initial-scale=1.0\">\n",
    "  <title>OneCard Clone</title>\n",
    "  <link rel=\"stylesheet\" href=\"styles.css\">\n",
    "</head>\n",
    "<body>\n",
    "  <section class=\"information\">\n",
    "    <div class=\"info-content\">\n",
    "      <h2>Get the All-In-One Card</h2>\n",
    "      <p>Your ultimate card solution for convenience and security.</p>\n",
    "      <a href=\"#\" class=\"btn\">Apply Now</a>\n",
    "    </div>\n",
    "  </section>\n",
    "</body>\n",
    "</html>\n"
   ]
  },
  {
   "cell_type": "markdown",
   "id": "2ef83833-6aed-4373-a2d2-8b3241ed6433",
   "metadata": {},
   "source": [
    "\n",
    "💡 **Q.9** You have reached the final task of learning responsive web design, which involves designing a responsive footer. Your goal is to build a simple webpage footer that matches the design shown in the attached image. The footer should adapt to different screen sizes, ensuring optimal visibility and alignment of the content. Refer to the attached image for a visual reference.\n",
    "\n",
    "</aside>\n",
    "\n",
    "![7.PNG](https://s3-us-west-2.amazonaws.com/secure.notion-static.com/db124079-45bd-42ff-b782-5d1dc13ac288/7.png)\n",
    "\n",
    "![8.PNG](https://s3-us-west-2.amazonaws.com/secure.notion-static.com/a41975e1-ac00-4c06-bb1f-7436747dabf8/8.png)"
   ]
  },
  {
   "cell_type": "markdown",
   "id": "7b7c1df4-dbb3-4b42-b2e1-62bd8bdd5a84",
   "metadata": {},
   "source": [
    "<!DOCTYPE html>\n",
    "<html lang=\"en\">\n",
    "<head>\n",
    "  <meta charset=\"UTF-8\">\n",
    "  <meta name=\"viewport\" content=\"width=device-width, initial-scale=1.0\">\n",
    "  <title>Responsive Footer</title>\n",
    "  <link rel=\"stylesheet\" href=\"styles.css\">\n",
    "</head>\n",
    "<body>\n",
    "  <footer class=\"footer\">\n",
    "    <div class=\"footer-content\">\n",
    "      <div class=\"footer-logo\">\n",
    "        <img src=\"logo.png\" alt=\"Logo\">\n",
    "      </div>\n",
    "      <div class=\"footer-links\">\n",
    "        <a href=\"#\">Home</a>\n",
    "        <a href=\"#\">Services</a>\n",
    "        <a href=\"#\">Portfolio</a>\n",
    "        <a href=\"#\">About Us</a>\n",
    "        <a href=\"#\">Contact</a>\n",
    "      </div>\n",
    "    </div>\n",
    "    <p class=\"footer-text\">© 2023 Your Company. All rights reserved.</p>\n",
    "  </footer>\n",
    "</body>\n",
    "</html>\n"
   ]
  },
  {
   "cell_type": "markdown",
   "id": "a510086a-d226-4496-ae5d-c3544b452ba5",
   "metadata": {},
   "source": [
    "\n",
    "\n",
    "<aside>\n",
    "💡 **Q.10** You have been given to create a student dashboard page that includes a student details table. The challenge lies in handling the table's display on different screen sizes. On large screens, the table should be fully visible, while on small screens, it should have an internal scroll to ensure proper visibility of information. Refer to the attached images for visual reference.\n",
    "\n",
    "</aside>"
   ]
  },
  {
   "cell_type": "markdown",
   "id": "21b4f3d7-efbc-4205-8458-ee52585d5cb0",
   "metadata": {},
   "source": [
    "<!DOCTYPE html>\n",
    "<html lang=\"en\">\n",
    "<head>\n",
    "  <meta charset=\"UTF-8\">\n",
    "  <meta name=\"viewport\" content=\"width=device-width, initial-scale=1.0\">\n",
    "  <title>Student Dashboard</title>\n",
    "  <link rel=\"stylesheet\" href=\"styles.css\">\n",
    "</head>\n",
    "<body>\n",
    "  <header class=\"header\">\n",
    "    <h1>Student Dashboard</h1>\n",
    "  </header>\n",
    "  <main class=\"main-content\">\n",
    "    <table class=\"student-table\">\n",
    "      <thead>\n",
    "        <tr>\n",
    "          <th>ID</th>\n",
    "          <th>Name</th>\n",
    "          <th>Age</th>\n",
    "          <th>Grade</th>\n",
    "        </tr>\n",
    "      </thead>\n",
    "      <tbody>\n",
    "        <!-- Populate the table rows with data -->\n",
    "      </tbody>\n",
    "    </table>\n",
    "  </main>\n",
    "</body>\n",
    "</html>\n"
   ]
  }
 ],
 "metadata": {
  "kernelspec": {
   "display_name": "Python 3 (ipykernel)",
   "language": "python",
   "name": "python3"
  },
  "language_info": {
   "codemirror_mode": {
    "name": "ipython",
    "version": 3
   },
   "file_extension": ".py",
   "mimetype": "text/x-python",
   "name": "python",
   "nbconvert_exporter": "python",
   "pygments_lexer": "ipython3",
   "version": "3.10.6"
  }
 },
 "nbformat": 4,
 "nbformat_minor": 5
}
