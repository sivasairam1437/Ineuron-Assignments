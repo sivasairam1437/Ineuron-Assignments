{
 "cells": [
  {
   "cell_type": "markdown",
   "id": "e0703d5c-d2ee-4e4e-82b1-9d7a3b623bb1",
   "metadata": {},
   "source": [
    "# Assignment Questions 1"
   ]
  },
  {
   "cell_type": "raw",
   "id": "ec892170-4fd8-4646-b1c1-108a789ebf80",
   "metadata": {},
   "source": [
    "\n",
    "💡 **Q.1** <!DOCTYPE html> is it a tag of html? If not, what is it and why do we use it?\n",
    "A. DOCTYPE html> declaration before the <html> tag. HTML <! DOCTYPE> tag is used to inform the browser about the version of HTML used in the document. It is called as the document type declaration (DTD)."
   ]
  },
  {
   "cell_type": "markdown",
   "id": "89c052bc-5691-405c-b3eb-6de9477268f5",
   "metadata": {},
   "source": [
    "\n",
    "<aside>\n",
    "💡 **Q.2** ****Explain Semantic tags in html? And why do we need it?\n",
    "\n",
    "</aside>"
   ]
  },
  {
   "cell_type": "markdown",
   "id": "8fbaab47-068f-4a61-9c0b-612d16a034fb",
   "metadata": {},
   "source": [
    "A. Semantic HTML refers to syntax that makes the HTML more comprehensible by better defining the different sections and layout of web pages. It makes web pages more informative and adaptable, allowing browsers and search engines to better interpret content."
   ]
  },
  {
   "cell_type": "markdown",
   "id": "f8b9b93d-9f80-4e31-86fc-2c069971a4f8",
   "metadata": {},
   "source": [
    "\n",
    "<aside>\n",
    "💡 **Q.3** Differentiate between HTML Tags and Elements?\n",
    "\n",
    "</aside>\n"
   ]
  },
  {
   "cell_type": "raw",
   "id": "21528cd7-38cd-4a96-a6e8-5d5f3dfe3b80",
   "metadata": {},
   "source": [
    "               HTML Tags\t                                                                                          HTML Elements\t                                       \n",
    "HTML tags are used to hold the HTML element.\t                                                         HTML element holds the content.\t                  \n",
    "HTML tag starts with < and ends with >\t                                                                 Whatever written within a HTML tag are HTML elements.\t \n",
    "HTML tags are almost like keywords where every single tag has unique meaning.\t                         HTML elements specifies the general content."
   ]
  },
  {
   "cell_type": "markdown",
   "id": "a695a530-7eab-4aa1-875d-37582c278a52",
   "metadata": {},
   "source": [
    "\n",
    "<aside>\n",
    "💡 **Q.4** Build Your Resume using HTML only\n",
    "\n",
    "</aside>\n"
   ]
  },
  {
   "cell_type": "markdown",
   "id": "e560f923-7ff9-4576-b44a-92ff11ae65d5",
   "metadata": {},
   "source": [
    "<html lang =\"en\">\n",
    "\n",
    "<head>\n",
    "\t<meta charset=\"UTF-8\">\n",
    "\t<meta http-equiv=\"X-UA-Compatible\" content=\"IE=edge\">\n",
    "\t<meta name=\"viewport\"\n",
    "\t\tcontent=\"width=device-width, initial-scale=1.0\">\n",
    "\t<link rel=\"stylesheet\" href=\"resume.css\">\n",
    "</head>\n",
    "\n",
    "<body>\n",
    "\t<div class=\"full\">\n",
    "\t\t<div class=\"left\">\n",
    "\t\t\t<div class=\"image\">\n",
    "\t\t\t\t<img src=\n",
    "\n",
    "\t\t\t\t\talt=\"gfg-logo\"\n",
    "\t\t\t\t\tstyle=\"width:100px;height:100px;\">\n",
    "\t\t\t</div>\n",
    "\t\t\t<div class=\"Contact\">\n",
    "\t\t\t\t<h2>Contact</h2>\n",
    "\t\t\t\t<p><b>Email id:</b>sivasairam1437@gmail.com</p>\n",
    "\t\t\t\t<p><b>Mobile no :</b>8096923369</p>\n",
    "\t\t\t</div>\n",
    "\t\t\t<div class=\"Skills\">\n",
    "\t\t\t\t<h2>Skills</h2>\n",
    "\t\t\t\t<ul>\n",
    "\t\t\t\t\t<li><b>Programming Languages :\n",
    "\t\t\t\t\tPython</b></li>\n",
    "\t\t\t\t\t<li><b>Frontend : HTML5\n",
    "\t\t\t\n",
    "\t\t\t\t</ul>\n",
    "\t\t\t</div>\n",
    "\t\t\t<div class=\"Language\">\n",
    "\t\t\t\t<h2>Language</h2>\n",
    "\t\t\t\t<ul>\n",
    "\t\t\t\t\t<li>English</li>\n",
    "\t\t\t\t\t<li>Telugu</li>\n",
    "\t\t\t\t</ul>\n",
    "\t\t\t</div>\n",
    "\t\t\t<div class=\"Hobbies\">\n",
    "\t\t\t\t<h2>Hobbies</h2>\n",
    "\t\t\t\t<ul>\n",
    "\t\t\t\t\t<li>Playing cricket</li>\n",
    "\t\t\t\t\t<li>Reading Books</li>\n",
    "\t\t\t\t</ul>\n",
    "\t\t\t</div>\n",
    "\t\t</div>\n",
    "\t\t<div class=\"right\">\n",
    "\t\t\t<div class=\"name\">\n",
    "\t\t\t\t<h1>Resume</h1>\n",
    "\t\t\t</div>\n",
    "\t\t\t<div class=\"title\">\n",
    "\t\t\t\t<p>Data Science</p>\n",
    "\t\t\t</div>\n",
    "\t\t\t<div class=\"Summary\">\n",
    "\t\t\t\t<h2>Summary</h2>\n",
    "\t\t\t\t<p>To secure a challenging position in a\n",
    "\t\t\t\treputable organization\n",
    "\t\t\t\t\tto expand my learning knowledge and skill\n",
    "\t\t\t\t</p>\n",
    "\t\t\t</div>\n",
    "\t\t\t<div class=\"Experience\">\n",
    "\t\t\t\t<h2>Experience</h2>\n",
    "\t\t\t\t<h3>Focus Edumatics pvt ltd - Online Tutor</h3>\n",
    "\t\t\t\t<p>September 2022 to March 2023</p>\n",
    "\t\t\t\t<ul>\n",
    "\t\t\t\t\t<li>Actively engaged in web creative\n",
    "\t\t\t\t\tdesign and development.</li>\n",
    "\t\t\t\t\t<li>Designing project & planning</li>\n",
    "\t\t\t\t</ul>\n",
    "\t\t\t\t<h3>Xyz webdev pvt ltd - junior web developer</h3>\n",
    "\t\t\t\t<p>August 2021 to December 2021</p>\n",
    "\t\t\t\t<ul>\n",
    "\t\t\t\t\t<li>Actively engaged in web creative\n",
    "\t\t\t\t\tdesign and development.</li>\n",
    "\t\t\t\t\t<li>Designing project & planning</li>\n",
    "\t\t\t\t\t<li>Working on designing</li>\n",
    "\t\t\t\t</ul>\n",
    "\t\t\t</div>\n",
    "\t\t\t<div class=\"Education\">\n",
    "\t\t\t\t<h2>Education</h2>\n",
    "\t\t\t\t<table>\n",
    "\t\t\t\t\t<tr>\n",
    "\t\t\t\t\t\t<th>University/college </th>\n",
    "\t\t\t\t\t\t<th>Passing year </th>\n",
    "\t\t\t\t\t\t<th>percentage/cgpa</th>\n",
    "\t\t\t\t\t</tr>\n",
    "\t\t\t\t\t<tr>\n",
    "\t\t\t\t\t\t<td>Gitam</td>\n",
    "\t\t\t\t\t\t<td>2021</td>\n",
    "\t\t\t\t\t\t<td>7.24</td>\n",
    "\t\t\t\t\t</tr>\n",
    "\t\t\t\t\t<tr>\n",
    "\t\t\t\t\t\t<td>Intermediate</td>\n",
    "\t\t\t\t\t\t<td>2013</td>\n",
    "\t\t\t\t\t\t<td>92.2%</td>\n",
    "\t\t\t\t\t</tr>\n",
    "\t\t\t\t</table>\n",
    "\t\t\t</div>\n",
    "\t\t\t<div class=\"project\">\n",
    "\t\t\t\t<ul>\n",
    "\t\t\t\t\t<li>\n",
    "\t\t\t\t\t\t<h2>Project1</h2>\n",
    "\t\t\t\t\t\t<p>This project is based on Html\n",
    "\t\t\t\t\t\t& used React</p>\n",
    "\t\t\t\t\t</li>\n",
    "\t\t\t\t\t<li>\n",
    "\t\t\t\t\t\t<h2>Project2</h2>\n",
    "\t\t\t\t\t\t<p>This project is based on Html\n",
    "\t\t\t\t\t\t& used React</p>\n",
    "\t\t\t\t\t</li>\n",
    "\t\t\t\t</ul>\n",
    "\t\t\t</div>\n",
    "\t\t</div>\n",
    "\t</div>\n",
    "</body>\n",
    "\n",
    "</html>\n"
   ]
  },
  {
   "cell_type": "markdown",
   "id": "b75f853c-3d1a-4fc4-a023-c5266f09fe62",
   "metadata": {},
   "source": [
    "<aside>\n",
    "💡 **Q.5** Write HTML code so that it looks like the below image\n",
    "\n",
    "</aside>\n",
    "\n",
    "\n",
    "![html.png](https://s3-us-west-2.amazonaws.com/secure.notion-static.com/5d76dcda-d8eb-4c2e-836d-5c1aee0f8c6d/html.png)"
   ]
  },
  {
   "cell_type": "markdown",
   "id": "2d0c0e0f-bb68-4d1f-ad31-79b63cf16353",
   "metadata": {},
   "source": [
    "<!DOCTYPE html>\n",
    "\n",
    "<html>\n",
    "    \n",
    "</head>\n",
    "     <title>Welcome To GFG</title>\n",
    "</head>\n",
    " \n",
    "<body>\n",
    "    <h2>Image</h2>\n",
    "    <p>This is the demo of <img> tag.</p>\n",
    "    <img src=\n",
    "\"https://s3-us-west-2.amazonaws.com/secure.notion-static.com/5d76dcda-d8eb-4c2e-836d-5c1aee0f8c6d/html.png />\n",
    "</body>\n",
    " \n",
    "</html>"
   ]
  },
  {
   "cell_type": "markdown",
   "id": "abfe98c2-bdf9-4934-88f9-658bdecafb2d",
   "metadata": {},
   "source": [
    "<aside>\n",
    "💡 **Q.6** What are some of the advantages of HTML5 over its previous versions?\n",
    "\n",
    "</aside"
   ]
  },
  {
   "cell_type": "markdown",
   "id": "6bebd937-6c5b-45d4-bccd-d3da97fdfff8",
   "metadata": {},
   "source": [
    "A. Advantages of HTML5 vs HTML\n",
    "It is mobile-friendly and easy to use.\n",
    "Web pages contain a wide range of colors, shades, and different font types.\n",
    "HTML5 is compatible with all web browsers.\n",
    "It supports client-side databases.\n",
    "HTML5 has improved performance and security, as it enables storage across numerous browsers."
   ]
  },
  {
   "cell_type": "markdown",
   "id": "7ec9bd51-ddc4-42e9-9e06-82c582f35a1c",
   "metadata": {},
   "source": [
    "<aside>\n",
    "💡 **Q.7** Create a simple Music player using html only\n",
    "\n",
    "</aside>"
   ]
  },
  {
   "cell_type": "markdown",
   "id": "f7f1adde-e6c3-4ce7-819a-54b0a1a45d2c",
   "metadata": {},
   "source": [
    "A. Adding the Structure for our Music Player Html:\n",
    "First of all using the <h1> tag selector we will give a heading to our music player. <div> tag. The next, previous, and play/pause buttons will now be included as icons to the music navigation section."
   ]
  },
  {
   "cell_type": "markdown",
   "id": "1f578d13-46b3-4714-8849-0c9232463e27",
   "metadata": {},
   "source": [
    "<aside>\n",
    "💡 **Q.8** What is the difference between <figure> tag and <img> tag?\n",
    "\n",
    "</aside>\n"
   ]
  },
  {
   "cell_type": "raw",
   "id": "a233d925-61e5-47b4-b27f-bf63534d0727",
   "metadata": {},
   "source": [
    "<img> tag\n",
    "\n",
    "Difference between <figure> & <img> tags:\n",
    "\n",
    "S.No.\n",
    "                <figure> Tag                                                                                             <img> Tag\n",
    "1.\tThe figure tag is used to semantically organize the content of images,         1.The image tag is used to add an image to an   HTML page. <img> tag can only insert image.\n",
    "    videos, audios or even charts or tables, block of codes in the HTML \n",
    "    document.\t\n",
    "2.\t<figure> tag is a container tag.\t                                           2. <img> tag is a void tag.\n",
    "3.\tThis tag provides a container for content that is equivalent to a              3.The HTML <img> tag is used for embedding images into an HTML document.\n",
    "    figure or diagram in a book.\t\n",
    "4.\tThis tag is inline element.\t                                                   4.It is an inline element but when we specify width and height it becomes a block element.\n",
    "5.\tYou can use the figure element in conjunction with the figcaption element      5.In image tag there’s no special tag for caption rather we can use <p> tag or <span> tag       to provide a caption for the contents of your figure element.\t              to add pseudo captions.\n",
    "6.\tIt makes it easy for the machine to understand the code.                       6. It is difficult for machines to understand.\n",
    "    Easy to get on search engines.\t\n",
    "7.\tThe <figure> element itself may contain multiple other child elements          7. The <img> tag can not have multiple elements inside it only images can be added in <img> \n",
    "    be it a block of code, images, audios, video etc.\t                            tag.\n",
    "8.\tThe figure tag contains default alignment and styling.\t                       8.The image tag does not contain any default alignment and styling."
   ]
  },
  {
   "cell_type": "markdown",
   "id": "500da45f-30e8-46c0-a6e2-9db01dbe1baf",
   "metadata": {},
   "source": [
    "\n",
    "<aside>\n",
    "💡 **Q.9** What’s the difference between html tag and attribute and give example of some global attributes?\n",
    "\n",
    "</aside>"
   ]
  },
  {
   "cell_type": "markdown",
   "id": "f6b18866-d753-433e-8018-6709b6f349c9",
   "metadata": {},
   "source": [
    "HTML Tags\t                                               HTML Elements\t                                                        HTML Attributes\n",
    "HTML tags are used to hold the HTML element.\t     HTML element holds the content.\t                        HTML attributes are used to describe the characteristic of \n",
    "                                                                                                                an HTML element in detail.\n",
    "HTML tag starts with < and ends with >\t             Whatever written within a HTML tag are HTML elements.\t    HTML attributes are found only in the starting tag.\n",
    "HTML tags are almost like keywords where \n",
    "every single tag has unique meaning.\t             HTML elements specifies the general content.\t            HTML attributes specify various additional properties to the \n",
    "                                                                                                                existing HTML element."
   ]
  },
  {
   "cell_type": "markdown",
   "id": "c3c00b62-7444-4480-9843-3a50e350948c",
   "metadata": {},
   "source": [
    "\n",
    "<aside>\n",
    "💡 **Q.10** Write Html code so that it looks like the below image\n",
    "\n",
    "![Untitled](https://s3-us-west-2.amazonaws.com/secure.notion-static.com/365d0427-ccce-4f03-8f68-f71394cb86b5/Untitled.png)\n",
    "\n",
    "</aside>"
   ]
  },
  {
   "cell_type": "code",
   "execution_count": null,
   "id": "ebfd2f32-1fb4-4bda-9a49-83e8cfee3505",
   "metadata": {},
   "outputs": [],
   "source": [
    "<!DOCTYPE html>\n",
    "<html>\n",
    "<head>\n",
    "    <title>Seminar Schedule</title>\n",
    "    \n",
    "    </style>\n",
    "</head>\n",
    "<body>\n",
    "    <h1>Seminar Schedule</h1>\n",
    "    \n",
    "    <table>\n",
    "        <tr>\n",
    "            <th>Day</th>\n",
    "            <th>Begin</th>\n",
    "            <th>End</th>\n",
    "            <th>Topic</th>\n",
    "        </tr>\n",
    "        <tr>\n",
    "            <td>Monday</td>\n",
    "            <td>8:00 AM</td>\n",
    "            <td>5:00 PM</td>\n",
    "            <td>Introduction to XML</td>\n",
    "        </tr>\n",
    "        <tr>\n",
    "            <td rowspan=\"2\">Tuesday</td>\n",
    "            <td>11:00 AM</td>\n",
    "            <td>2:00 PM</td>\n",
    "            <td>X PATH</td>\n",
    "        </tr>\n",
    "        <tr>\n",
    "            <td>2:00 PM</td>\n",
    "            <td>5:00 PM</td>\n",
    "            <td>XSL Transformations</td>\n",
    "        </tr>\n",
    "        <tr>\n",
    "            <td>Wednesday</td>\n",
    "            <td>8:00 AM</td>\n",
    "            <td>5:00 PM</td>\n",
    "            <td>XSL Formatting objects</td>\n",
    "        </tr>\n",
    "    </table>\n",
    "</body>\n",
    "</html>"
   ]
  }
 ],
 "metadata": {
  "kernelspec": {
   "display_name": "Python 3 (ipykernel)",
   "language": "python",
   "name": "python3"
  },
  "language_info": {
   "codemirror_mode": {
    "name": "ipython",
    "version": 3
   },
   "file_extension": ".py",
   "mimetype": "text/x-python",
   "name": "python",
   "nbconvert_exporter": "python",
   "pygments_lexer": "ipython3",
   "version": "3.10.6"
  }
 },
 "nbformat": 4,
 "nbformat_minor": 5
}
