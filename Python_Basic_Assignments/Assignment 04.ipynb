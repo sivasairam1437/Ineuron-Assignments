{
 "cells": [
  {
   "cell_type": "raw",
   "id": "eda5f757-67b6-467a-9506-d07b649f509f",
   "metadata": {},
   "source": [
    "Q1. What exactly is []?\n",
    "A.The empty list value, which is a list value that contains no items."
   ]
  },
  {
   "cell_type": "raw",
   "id": "e15d1fb1-1557-4430-810c-cd2c3dcb8b46",
   "metadata": {},
   "source": [
    "Q2. In a list of values stored in a variable called spam, how would you assign the value \"hello\" as the\n",
    "third value? (Assume [2, 4, 6, 8, 10] are in spam.)\n",
    "A.spam[2] = 'hello'"
   ]
  },
  {
   "cell_type": "code",
   "execution_count": 1,
   "id": "d8e6d3ec-a1a0-4951-99cf-5a48530f27de",
   "metadata": {},
   "outputs": [
    {
     "data": {
      "text/plain": [
       "[2, 4, 'hello', 8, 10]"
      ]
     },
     "execution_count": 1,
     "metadata": {},
     "output_type": "execute_result"
    }
   ],
   "source": [
    "spam = [2, 4, 6, 8, 10] \n",
    "spam[2] = \"hello\"\n",
    "spam"
   ]
  },
  {
   "cell_type": "raw",
   "id": "2cc71fb1-3bf2-4dfc-87c6-069e48b475d7",
   "metadata": {},
   "source": [
    "Let's pretend the spam includes the list ['a', 'b' 'c','d'] for the next three queries.\n",
    "@3. What is the value of spam[int(int('3' * 2) / 11)]?"
   ]
  },
  {
   "cell_type": "code",
   "execution_count": 3,
   "id": "04eab431-a0f3-4030-b906-cf3926cff840",
   "metadata": {},
   "outputs": [
    {
     "data": {
      "text/plain": [
       "'d'"
      ]
     },
     "execution_count": 3,
     "metadata": {},
     "output_type": "execute_result"
    }
   ],
   "source": [
    "spam = ['a', 'b','c','d']\n",
    "spam[int(int('3' * 2) / 11)]"
   ]
  },
  {
   "cell_type": "raw",
   "id": "07fbf2bc-b3ec-4c51-8393-ebf6e82ed31c",
   "metadata": {},
   "source": [
    "Q4. What is the value of spam[-1]?"
   ]
  },
  {
   "cell_type": "code",
   "execution_count": 4,
   "id": "0eae29ff-538c-4572-a365-bf41d126705a",
   "metadata": {},
   "outputs": [
    {
     "data": {
      "text/plain": [
       "'d'"
      ]
     },
     "execution_count": 4,
     "metadata": {},
     "output_type": "execute_result"
    }
   ],
   "source": [
    "spam[-1]"
   ]
  },
  {
   "cell_type": "raw",
   "id": "e94c646c-3f7c-44e5-8538-55fad3f2958b",
   "metadata": {},
   "source": [
    "Q5. What is the value of spam[:2]?"
   ]
  },
  {
   "cell_type": "code",
   "execution_count": 5,
   "id": "503e9237-fc26-4e7f-a414-57455f244278",
   "metadata": {},
   "outputs": [
    {
     "data": {
      "text/plain": [
       "['a', 'b']"
      ]
     },
     "execution_count": 5,
     "metadata": {},
     "output_type": "execute_result"
    }
   ],
   "source": [
    "spam[:2]"
   ]
  },
  {
   "cell_type": "raw",
   "id": "68166b63-300e-404d-a3e2-a9efb5dfa229",
   "metadata": {},
   "source": [
    "Let's pretend bacon has the list [3.14, 'cat','11','cat', 'True'] for the next three questions.\n",
    "Q6. What is the value of bacon.index('cat')?"
   ]
  },
  {
   "cell_type": "code",
   "execution_count": 15,
   "id": "2b6c5bdd-40d5-4a20-908c-09aa7defbd0f",
   "metadata": {},
   "outputs": [
    {
     "data": {
      "text/plain": [
       "1"
      ]
     },
     "execution_count": 15,
     "metadata": {},
     "output_type": "execute_result"
    }
   ],
   "source": [
    "bacon = [3.14, 'cat','11','cat', 'True']\n",
    "bacon.index('cat')"
   ]
  },
  {
   "cell_type": "code",
   "execution_count": null,
   "id": "345e79f1-c26d-4cbd-ad96-5958ca9c63a9",
   "metadata": {},
   "outputs": [],
   "source": [
    "Q7. How does bacon.append(99) change the look of the list value in bacon?"
   ]
  },
  {
   "cell_type": "code",
   "execution_count": 16,
   "id": "9b96cf28-e3b5-4898-b0cd-a792d34a4b42",
   "metadata": {},
   "outputs": [
    {
     "data": {
      "text/plain": [
       "[3.14, 'cat', '11', 'cat', 'True', 99]"
      ]
     },
     "execution_count": 16,
     "metadata": {},
     "output_type": "execute_result"
    }
   ],
   "source": [
    "bacon.append(99)\n",
    "bacon"
   ]
  },
  {
   "cell_type": "raw",
   "id": "775dadad-4033-437d-a948-0e23ca5f6953",
   "metadata": {},
   "source": [
    "Q8. How does bacon.remove('cat') change the look of the list in bacon?"
   ]
  },
  {
   "cell_type": "code",
   "execution_count": 17,
   "id": "fa49b7aa-fc40-4aaf-86a0-645d73c5ad88",
   "metadata": {},
   "outputs": [],
   "source": [
    "bacon.remove('cat')"
   ]
  },
  {
   "cell_type": "code",
   "execution_count": 18,
   "id": "34df94dd-094a-4b84-ad88-d88cb9f35f98",
   "metadata": {},
   "outputs": [
    {
     "data": {
      "text/plain": [
       "[3.14, '11', 'cat', 'True', 99]"
      ]
     },
     "execution_count": 18,
     "metadata": {},
     "output_type": "execute_result"
    }
   ],
   "source": [
    "bacon"
   ]
  },
  {
   "cell_type": "raw",
   "id": "61de1f10-62f0-4199-a005-950d6007c4c7",
   "metadata": {},
   "source": [
    "Q9.What are the list concatenation and list replication operators?\n",
    "A.The operator for list concatenation is +, while the operator for replication is *."
   ]
  },
  {
   "cell_type": "raw",
   "id": "8c0a2e66-ad9f-4e69-89b1-88a573ed5c6e",
   "metadata": {},
   "source": [
    "Q10. What is difference between the list methods append() and insert()?\n",
    "A. While append() will add values only to the end of a list, insert() can add them anywhere in the list."
   ]
  },
  {
   "cell_type": "raw",
   "id": "0fb75181-1b59-42f0-b41f-ef72890c8bdf",
   "metadata": {},
   "source": [
    "Q11.What are the two methods for removing items from a list?\n",
    "A.The del statement and the remove() list method are two ways to remove values from a lisAt."
   ]
  },
  {
   "cell_type": "raw",
   "id": "eee93fd1-d979-47ef-b5dc-894e7a662a13",
   "metadata": {},
   "source": [
    "Q12.Describe how list values and string values are identical?\n",
    "A.Both lists and strings can be passed to len(), have indexes and slices, be used in for loops, be concatenated or replicated, and be used with the in and not in operators."
   ]
  },
  {
   "cell_type": "raw",
   "id": "f72fff6b-28dd-4b57-83b9-1a019def1a3e",
   "metadata": {},
   "source": [
    "Q13. What is the difference between tuples and lists?\n",
    "A.The primary difference between tuples and lists is that tuples are immutable as opposed to lists which are mutable. Therefore, it is possible to change a list but not a tuple. The contents of a tuple cannot change once they have been created in Python due to the immutability of tuples."
   ]
  },
  {
   "cell_type": "raw",
   "id": "891e9fc6-fc6d-4c58-b6af-a32aaa2fc203",
   "metadata": {},
   "source": [
    "Q14. How do you type a tuple value that only contains the integer 42?\n",
    "A.(42,) (The trailing comma is mandatory.)"
   ]
  },
  {
   "cell_type": "raw",
   "id": "185e1436-d137-45a7-b73d-d35f6ee63c19",
   "metadata": {},
   "source": [
    "Q15. How do you get a list value's tuple form? How do you get a tuple value's list form?\n",
    "A.To convert a tuple into list in Python, call list() builtin function and pass the tuple as argument to the function. list() returns a new list generated from the items of the given tuple."
   ]
  },
  {
   "cell_type": "raw",
   "id": "f9f0bc1d-c6e1-457a-846e-ead1f282ef41",
   "metadata": {},
   "source": [
    "Q16. Variables that &quot;contain&quot; list values are not necessarily lists themselves. Instead, what do they\n",
    "contain?\n",
    "A.They contain references to list values."
   ]
  },
  {
   "cell_type": "raw",
   "id": "c460cc05-6fc2-4525-ad79-a6cccf4ed9c7",
   "metadata": {},
   "source": [
    "Q17. How do you distinguish between copy.copy() and copy.deepcopy()?\n",
    "A.The copy() returns a shallow copy of the list, and deepcopy() returns a deep copy of the list."
   ]
  }
 ],
 "metadata": {
  "kernelspec": {
   "display_name": "Python 3 (ipykernel)",
   "language": "python",
   "name": "python3"
  },
  "language_info": {
   "codemirror_mode": {
    "name": "ipython",
    "version": 3
   },
   "file_extension": ".py",
   "mimetype": "text/x-python",
   "name": "python",
   "nbconvert_exporter": "python",
   "pygments_lexer": "ipython3",
   "version": "3.10.6"
  }
 },
 "nbformat": 4,
 "nbformat_minor": 5
}
