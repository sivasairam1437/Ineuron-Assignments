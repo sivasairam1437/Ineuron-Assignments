{
 "cells": [
  {
   "cell_type": "raw",
   "id": "ba45e980-c6e6-440c-9e84-e00c97774b38",
   "metadata": {},
   "source": [
    "Q1. Why are functions advantageous to have in your programs?\n",
    "A.Using a function, it is possible to reduce the size of a program by calling and using the function at different places in the program. Functions help in code modularity, which means that the entire code is divided into separate blocks, each of which is self-contained and performs a different task."
   ]
  },
  {
   "cell_type": "raw",
   "id": "64120b8b-1370-4772-8638-af80e20f45d9",
   "metadata": {},
   "source": [
    "Q2. When does the code in a function run: when it's specified or when it's called?\n",
    "A.A function is a block of code that performs a task. It can be called and reused multiple times. You can pass information to a function and it can send information back. Many programming languages have built-in functions that you can access in their library, but you can also create your own functions."
   ]
  },
  {
   "cell_type": "raw",
   "id": "a5ca2803-fde0-4203-937a-ab0235c15f31",
   "metadata": {},
   "source": [
    "Q3. What statement creates a function?\n",
    "The “def” keyword is a statement for defining a function in Python. You start a function with the def keyword, specify a name followed by a colon (:) sign. The “def” call creates the function object and assigns it to the name given. You can further re-assign the same function object to other names."
   ]
  },
  {
   "cell_type": "raw",
   "id": "bc59ec07-08ec-4199-8847-25b3297f0e51",
   "metadata": {},
   "source": [
    "4. What is the difference between a function and a function call?\n",
    "A function call is an expression containing the function name followed by the function call operator, () . If the function has been defined to receive parameters, the values that are to be sent into the function are listed inside the parentheses of the function call operator."
   ]
  },
  {
   "cell_type": "raw",
   "id": "e950c01a-5610-483c-a222-722b45ac11bb",
   "metadata": {},
   "source": [
    "5. How many global scopes are there in a Python program? How many local scopes?\n",
    "A.Variables that are defined inside a function body have a local scope, and those defined outside have a global scope. This means that local variables can be accessed only inside the function in which they are declared, whereas global variables can be accessed throughout the program body by all functions."
   ]
  },
  {
   "cell_type": "raw",
   "id": "715a6c4d-db13-4212-a536-61b103e1776d",
   "metadata": {},
   "source": [
    "6.What happens to variables in a local scope when the function call returns?\n",
    "A.If a function is called more than once in a program, the values stored in the function's local variables do not persist between function calls. This is because the local variables are destroyed when the function terminates, and are then re-created when the function starts again."
   ]
  },
  {
   "cell_type": "raw",
   "id": "ff9cb888-05dc-4b57-8137-8b60eaf926ad",
   "metadata": {},
   "source": [
    "7. What is the concept of a return value? Is it possible to have a return value in an expression?\n",
    "A.A return statement is used to end the execution of the function call and “returns” the result (value of the expression following the return keyword) to the caller. The statements after the return statements are not executed. If the return statement is without any expression, then the special value None is returned."
   ]
  },
  {
   "cell_type": "raw",
   "id": "99ed0315-0964-4c80-a5a3-c8871ce5e37a",
   "metadata": {},
   "source": [
    "Q8.If a function does not have a return statement, what is the return value of a call to that function?\n",
    "A.If no return statement appears in a function definition, control automatically returns to the calling function after the last statement of the called function is executed. In this case, the return value of the called function is undefined."
   ]
  },
  {
   "cell_type": "raw",
   "id": "ab90688d-9f26-4913-a366-10eb190b0666",
   "metadata": {},
   "source": [
    "Q9.How do you make a function variable refer to the global variable?\n",
    "A.Normally, when you create a variable inside a function, that variable is local, and can only be used inside that function. To create a global variable inside a function, you can use the global keyword."
   ]
  },
  {
   "cell_type": "raw",
   "id": "44fd928d-8a51-4380-8cb1-9fbd2e244958",
   "metadata": {},
   "source": [
    "Q10. What is the data type of None?\n",
    "A.In Python, None keyword is an object, and it is a data type of the class NoneType . We can assign None to any variable, but you can not create other NoneType objects. Note: All variables that are assigned None point to the same object. New instances of None are not created."
   ]
  },
  {
   "cell_type": "raw",
   "id": "624a2813-5900-4edf-93a3-1e082c8c7f9f",
   "metadata": {},
   "source": [
    "Q11. What does the sentence import areallyourpetsnamederic do?\n",
    "A.That import statement imports a module named areallyourpetsnamederic."
   ]
  },
  {
   "cell_type": "raw",
   "id": "dc70bb95-17fb-41b0-bdd6-1f9f5a3ddf13",
   "metadata": {},
   "source": [
    "Q12. If you had a bacon() feature in a spam module, what would you call it after importing spam?\n",
    "A.This function can be called with spam.bacon()."
   ]
  },
  {
   "cell_type": "raw",
   "id": "48f4fd72-b1b9-4d62-a266-8b0187cc7ead",
   "metadata": {},
   "source": [
    "Q13. What can you do to save a programme from crashing if it encounters an error?\n",
    "A.Place the line of code that might cause an error in a try clause."
   ]
  },
  {
   "cell_type": "raw",
   "id": "c5804787-abfa-4f51-b8bc-0bc878684c22",
   "metadata": {},
   "source": [
    "Q14. What is the purpose of the try clause? What is the purpose of the except clause?\n",
    "A.The code that could potentially cause an error goes in the try clause.\n",
    "  The code that executes if an error happens goes in the except clause."
   ]
  }
 ],
 "metadata": {
  "kernelspec": {
   "display_name": "Python 3 (ipykernel)",
   "language": "python",
   "name": "python3"
  },
  "language_info": {
   "codemirror_mode": {
    "name": "ipython",
    "version": 3
   },
   "file_extension": ".py",
   "mimetype": "text/x-python",
   "name": "python",
   "nbconvert_exporter": "python",
   "pygments_lexer": "ipython3",
   "version": "3.10.6"
  }
 },
 "nbformat": 4,
 "nbformat_minor": 5
}
