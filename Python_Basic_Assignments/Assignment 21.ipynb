{
 "cells": [
  {
   "cell_type": "raw",
   "id": "4ebf4bad-7eb4-424a-a53e-9e0e0cba01d7",
   "metadata": {},
   "source": [
    "1. Add the current date to the text file today.txt as a string."
   ]
  },
  {
   "cell_type": "code",
   "execution_count": 1,
   "id": "bdec9a1e-d81e-43fc-b303-36df9ad18b51",
   "metadata": {},
   "outputs": [
    {
     "name": "stdout",
     "output_type": "stream",
     "text": [
      "19-05-2023\n"
     ]
    }
   ],
   "source": [
    "import datetime\n",
    "# Code to Add current date to the today.txt file\n",
    "file = open('today.txt','w')\n",
    "file.write(datetime.datetime.now().strftime(\"%d-%m-%Y\"))\n",
    "file.close()\n",
    "# Code to Read current date from today.txt file\n",
    "file = open('today.txt','r')\n",
    "print(file.read())\n",
    "file.close()"
   ]
  },
  {
   "cell_type": "raw",
   "id": "ecb047cf-0d88-4040-960f-3fe528bf62d7",
   "metadata": {},
   "source": [
    "2. Read the text file today.txt into the string today_string"
   ]
  },
  {
   "cell_type": "code",
   "execution_count": 2,
   "id": "fe3abfb3-4306-4211-8019-f2753ad23f25",
   "metadata": {},
   "outputs": [
    {
     "name": "stdout",
     "output_type": "stream",
     "text": [
      "19-05-2023\n"
     ]
    }
   ],
   "source": [
    "file = open('today.txt','r')\n",
    "today_string = file.read()\n",
    "print(today_string)"
   ]
  },
  {
   "cell_type": "raw",
   "id": "28569e78-a2eb-4f89-b497-2c877d1c65c7",
   "metadata": {},
   "source": [
    "3. Parse the date from today_string."
   ]
  },
  {
   "cell_type": "code",
   "execution_count": 3,
   "id": "ba5ebd30-0ba3-4a04-87c2-7e7d591f1b8e",
   "metadata": {},
   "outputs": [
    {
     "name": "stdout",
     "output_type": "stream",
     "text": [
      "2023-05-19 00:00:00\n"
     ]
    }
   ],
   "source": [
    "from datetime import datetime\n",
    "parsed_data = datetime.strptime(today_string, '%d-%m-%Y')\n",
    "print(parsed_data)"
   ]
  },
  {
   "cell_type": "raw",
   "id": "069076b6-6443-4227-bd24-895ea1a0a6b7",
   "metadata": {},
   "source": [
    "4. List the files in your current directory"
   ]
  },
  {
   "cell_type": "code",
   "execution_count": 5,
   "id": "d1664cb5-987f-42e0-9b5d-d13ef650d016",
   "metadata": {},
   "outputs": [
    {
     "name": "stdout",
     "output_type": "stream",
     "text": [
      "11.02.2013 class.ipynb\n",
      "contacts.csv\n",
      "README.md\n",
      "Assignment 10.ipynb\n",
      "Assignment 12.ipynb\n",
      "11.03.2023.ipynb\n",
      "17.12.2022.ipynb\n",
      "Assignment 2.ipynb\n",
      "test1.csv\n",
      "test.txt\n",
      "10.12.2022.ipynb\n",
      "sample-code.ipynb\n",
      "29.04.2023 ipynb\n",
      "airline.xls\n",
      "18.12.2022.ipynb\n",
      "Pandas 3 & Numpy 29.01.2023.ipynb\n",
      "addresses.csv\n",
      "Assignment 5.ipynb\n",
      "Assignment 16.ipynb\n",
      "SVM practical.ipynb\n",
      "programs.csv\n",
      "Assignment 17.ipynb\n",
      "pandas 28.01.2023.ipynb\n",
      "Assignment20.ipynb\n",
      "airline1.xls\n",
      "Hacker ranking.ipynb\n",
      "mail_addresses.csv\n",
      "holiday_schedules.csv\n",
      "clean_google_playstore_data.csv\n",
      "Assignment 4.ipynb\n",
      "data-20230201T095707Z-001.zip\n",
      "Assignment21.ipynb\n",
      "phones.csv\n",
      "29.10.22 Assessment.ipynb\n",
      "organizations.csv\n",
      "12.11.2022.ipynb\n",
      "Assignment 18.ipynb\n",
      "LUSID Excel - Manage Orders.xlsx\n",
      "taxonomy.csv\n",
      "Assignment 15.ipynb\n",
      "01.04.2023.ipynb\n",
      "Untitled3.ipynb\n",
      "12.03.2023.ipynb\n",
      "13.11.22.ipynb\n",
      "Assignment 7.ipynb\n",
      "regular_schedules.csv\n",
      "Assignment 9.ipynb\n",
      "Pandas 27 jan class.ipynb\n",
      "Assignment 6.ipynb\n",
      "Untitled1.ipynb\n",
      "Assignment 3.ipynb\n",
      "Numpy and graph 04.02.2023.ipynb\n",
      "11.12.2022.ipynb\n",
      "Untitled4.ipynb\n",
      "books.db\n",
      "29.10.2Class.ipynb\n",
      "Assignment 11.ipynb\n",
      "Assignment 8.ipynb\n",
      "function continued (2).ipynb\n",
      "Untitled.ipynb\n",
      "clean_google_playstore_data\n",
      "test2.log\n",
      "First Assignment.ipynb\n",
      "today.txt\n",
      "players.csv\n",
      "Assignment 14.ipynb\n",
      "test.xlsx\n",
      "text.txt\n",
      "abc.log\n",
      "Function.ipynb\n",
      "Assignment19.ipynb\n",
      "books.csv\n",
      "application_log.txt\n",
      "26.02.2023.ipynb\n",
      "Assignment 13.ipynb\n",
      "20.03.2023.ipynb\n",
      "locations.csv\n",
      "Untitled2.ipynb\n",
      "services.csv\n",
      "Numpy 29.01.2023.ipynb\n",
      "Applying Ratios Speed.txt\n",
      "A.3B Rate of change.docx\n",
      "8.1.NS.2.Repeating decimals.docx\n",
      "Untitled1.ipynb\n",
      "Untitled.ipynb\n",
      " 04.12.22.ipynb\n",
      "Untitled1-checkpoint.ipynb\n",
      " 04.12.22-checkpoint.ipynb\n",
      "Untitled-checkpoint.ipynb\n",
      "Applying Ratios Speed-checkpoint.txt\n",
      "packed-refs\n",
      "HEAD\n",
      "index\n",
      "config\n",
      "description\n",
      "HEAD\n",
      "main\n",
      "HEAD\n",
      "exclude\n",
      "pack-290036e657c294196be1b61a981e44da145e2135.pack\n",
      "pack-290036e657c294196be1b61a981e44da145e2135.idx\n",
      "pre-push.sample\n",
      "prepare-commit-msg.sample\n",
      "applypatch-msg.sample\n",
      "pre-applypatch.sample\n",
      "commit-msg.sample\n",
      "pre-rebase.sample\n",
      "pre-receive.sample\n",
      "update.sample\n",
      "fsmonitor-watchman.sample\n",
      "pre-merge-commit.sample\n",
      "pre-commit.sample\n",
      "push-to-checkout.sample\n",
      "post-update.sample\n",
      "main\n",
      "HEAD\n",
      "17.12.2022-checkpoint.ipynb\n",
      "test2-checkpoint.log\n",
      "26.02.2023-checkpoint.ipynb\n",
      "13.11.22-checkpoint.ipynb\n",
      "Assignment 8-checkpoint.ipynb\n",
      "sample-code-checkpoint.ipynb\n",
      "Pandas 3 & Numpy 29.01.2023-checkpoint.ipynb\n",
      "SVM practical-checkpoint.ipynb\n",
      "29.10.2Class-checkpoint.ipynb\n",
      "12.03.2023-checkpoint.ipynb\n",
      "Assignment 17-checkpoint.ipynb\n",
      "test1-checkpoint.csv\n",
      "Assignment 14-checkpoint.ipynb\n",
      "Assignment 13-checkpoint.ipynb\n",
      "Numpy 29.01.2023-checkpoint.ipynb\n",
      "10.12.2022-checkpoint.ipynb\n",
      "First Assignment-checkpoint.ipynb\n",
      "29.10.22 Assessment-checkpoint.ipynb\n",
      "Assignment 18-checkpoint.ipynb\n",
      "11.03.2023-checkpoint.ipynb\n",
      "Assignment21-checkpoint.ipynb\n",
      "Pandas 27 jan class-checkpoint.ipynb\n",
      "18.12.2022-checkpoint.ipynb\n",
      "Untitled1-checkpoint.ipynb\n",
      "Assignment 9-checkpoint.ipynb\n",
      "Untitled4-checkpoint.ipynb\n",
      "Assignment 4-checkpoint.ipynb\n",
      "12.11.2022-checkpoint.ipynb\n",
      "Untitled2-checkpoint.ipynb\n",
      "function continued (2)-checkpoint.ipynb\n",
      "README-checkpoint.md\n",
      "abc-checkpoint.log\n",
      "Assignment20-checkpoint.ipynb\n",
      "addresses-checkpoint.csv\n",
      "Assignment 11-checkpoint.ipynb\n",
      "Assignment 2-checkpoint.ipynb\n",
      "11.12.2022-checkpoint.ipynb\n",
      "Untitled3-checkpoint.ipynb\n",
      "20.03.2023-checkpoint.ipynb\n",
      "Assignment 12-checkpoint.ipynb\n",
      "Assignment 5-checkpoint.ipynb\n",
      "Function-checkpoint.ipynb\n",
      "11.02.2013 class-checkpoint.ipynb\n",
      "Assignment 10-checkpoint.ipynb\n",
      "29.04-checkpoint.2023 ipynb\n",
      "Assignment 3-checkpoint.ipynb\n",
      "Numpy and graph 04.02.2023-checkpoint.ipynb\n",
      "Assignment 15-checkpoint.ipynb\n",
      "Untitled-checkpoint.ipynb\n",
      "players-checkpoint.csv\n",
      "Assignment 7-checkpoint.ipynb\n",
      "Assignment19-checkpoint.ipynb\n",
      "Hacker ranking-checkpoint.ipynb\n",
      "Assignment 6-checkpoint.ipynb\n",
      "01.04.2023-checkpoint.ipynb\n",
      "Assignment 16-checkpoint.ipynb\n",
      "pandas 28.01.2023-checkpoint.ipynb\n"
     ]
    }
   ],
   "source": [
    "import os\n",
    "for folders, subfolders, files in os.walk(os.getcwd()):\n",
    "    for file in files:\n",
    "        print(file)"
   ]
  },
  {
   "cell_type": "raw",
   "id": "06842884-df6e-4df7-a7c8-986226ef5c1b",
   "metadata": {},
   "source": [
    "5. Create a list of all of the files in your parent directory (minimum five files should be available)."
   ]
  },
  {
   "cell_type": "code",
   "execution_count": 6,
   "id": "97599ed2-201e-4a70-bde4-fd0689d4f0bc",
   "metadata": {},
   "outputs": [
    {
     "data": {
      "text/plain": [
       "['11.02.2013 class.ipynb',\n",
       " 'contacts.csv',\n",
       " 'README.md',\n",
       " '17.12.2022.ipynb',\n",
       " 'test1.csv',\n",
       " '14.Assignment_14.ipynb',\n",
       " '07.Assignment_07.ipynb',\n",
       " 'test.txt',\n",
       " 'Untitled Folder',\n",
       " 'sample-code.ipynb',\n",
       " '15.Assignment_15.ipynb',\n",
       " '29.04.2023 ipynb',\n",
       " 'airline.xls',\n",
       " '18.12.2022.ipynb',\n",
       " 'Pandas 3 & Numpy 29.01.2023.ipynb',\n",
       " 'addresses.csv',\n",
       " 'SVM practical.ipynb',\n",
       " 'programs.csv',\n",
       " 'pandas 28.01.2023.ipynb',\n",
       " '06.Assignment_06.ipynb',\n",
       " '11.12.2022class.ipynb',\n",
       " 'airline1.xls',\n",
       " '04.Assignment_04.ipynb',\n",
       " '.git',\n",
       " 'Hacker ranking.ipynb',\n",
       " 'mail_addresses.csv',\n",
       " 'holiday_schedules.csv',\n",
       " '19.Assignment_19.ipynb',\n",
       " 'clean_google_playstore_data.csv',\n",
       " '10.Assignment_10.ipynb',\n",
       " '16.Assignment_16.ipynb',\n",
       " '23.Assignment_23.ipynb',\n",
       " 'data-20230201T095707Z-001.zip',\n",
       " 'phones.csv',\n",
       " '29.10.22 Assessment.ipynb',\n",
       " 'organizations.csv',\n",
       " '12.11.2022.ipynb',\n",
       " 'LUSID Excel - Manage Orders.xlsx',\n",
       " 'taxonomy.csv',\n",
       " '01.04.2023.ipynb',\n",
       " 'Untitled3.ipynb',\n",
       " '03.Assignment_03.ipynb',\n",
       " '11.03.2023class.ipynb',\n",
       " '12.03.2023.ipynb',\n",
       " '13.11.22.ipynb',\n",
       " '22.Assignment_22.ipynb',\n",
       " 'regular_schedules.csv',\n",
       " '11.Assignment_11.ipynb',\n",
       " 'Pandas 27 jan class.ipynb',\n",
       " 'Untitled1.ipynb',\n",
       " 'Numpy and graph 04.02.2023.ipynb',\n",
       " '13.Assignment_13.ipynb',\n",
       " 'Untitled4.ipynb',\n",
       " 'books.db',\n",
       " '29.10.2Class.ipynb',\n",
       " '09.Assignment_09.ipynb',\n",
       " 'function continued (2).ipynb',\n",
       " 'Untitled.ipynb',\n",
       " '.ipynb_checkpoints',\n",
       " 'clean_google_playstore_data',\n",
       " 'test2.log',\n",
       " 'First Assignment.ipynb',\n",
       " 'today.txt',\n",
       " '20.Assignment_20.ipynb',\n",
       " 'players.csv',\n",
       " 'test.xlsx',\n",
       " '21.Assignment_21.ipynb',\n",
       " '08.Assignment_08.ipynb',\n",
       " '24.Assignment_24..ipynb',\n",
       " 'text.txt',\n",
       " '18.Assignment_18.ipynb',\n",
       " 'abc.log',\n",
       " 'Function.ipynb',\n",
       " '05.Assignment_05.ipynb',\n",
       " 'class.ipynb',\n",
       " 'books.csv',\n",
       " 'application_log.txt',\n",
       " '26.02.2023.ipynb',\n",
       " '20.03.2023.ipynb',\n",
       " '02.Assignment_02.ipynb',\n",
       " '25.Assignment_25.ipynb',\n",
       " 'locations.csv',\n",
       " 'Untitled2.ipynb',\n",
       " '12.Assignment_12.ipynb',\n",
       " 'services.csv',\n",
       " 'Numpy 29.01.2023.ipynb',\n",
       " '17.Assignment_17.ipynb']"
      ]
     },
     "execution_count": 6,
     "metadata": {},
     "output_type": "execute_result"
    }
   ],
   "source": [
    "import os \n",
    "os.listdir()"
   ]
  },
  {
   "cell_type": "raw",
   "id": "971bbd4c-18b8-4d03-80db-ac735838db47",
   "metadata": {},
   "source": [
    "6. Use multiprocessing to create three separate processes. Make each one wait a random number of seconds between one and five, print the current time, and then exit."
   ]
  },
  {
   "cell_type": "code",
   "execution_count": 7,
   "id": "afbe7c39-27dc-4c46-87d6-212546432e88",
   "metadata": {},
   "outputs": [
    {
     "name": "stdout",
     "output_type": "stream",
     "text": [
      "Proc_one_Starttime -> 2023-05-19 04:18:37.661351\n",
      "Proc_two_Starttime -> 2023-05-19 04:18:37.665035\n",
      "Proc_two_Starttime -> 2023-05-19 04:18:37.670343\n",
      "Proc_one_Endtime -> 2023-05-19 04:18:39.667733\n",
      "Proc_two_Endtime -> 2023-05-19 04:18:40.677359\n",
      "Proc_two_Endtime -> 2023-05-19 04:18:42.675997\n"
     ]
    }
   ],
   "source": [
    "import multiprocessing\n",
    "import time \n",
    "import random\n",
    "import datetime\n",
    "\n",
    "def procOne():\n",
    "    print(f'Proc_one_Starttime -> {datetime.datetime.now()}')\n",
    "    time.sleep(random.randint(1,5))\n",
    "    print(f'Proc_one_Endtime -> {datetime.datetime.now()}')\n",
    "    \n",
    "def procTwo():\n",
    "    print(f'Proc_two_Starttime -> {datetime.datetime.now()}')\n",
    "    time.sleep(random.randint(1,5))\n",
    "    print(f'Proc_two_Endtime -> {datetime.datetime.now()}')\n",
    "\n",
    "def procThree():\n",
    "    print(f'Proc_two_Starttime -> {datetime.datetime.now()}')\n",
    "    time.sleep(random.randint(1,5))\n",
    "    print(f'Proc_two_Endtime -> {datetime.datetime.now()}')\n",
    "    \n",
    "if __name__ == \"__main__\":    \n",
    "    p1 = multiprocessing.Process(target=procOne)\n",
    "    p2 = multiprocessing.Process(target=procTwo)\n",
    "    p3 = multiprocessing.Process(target=procThree)\n",
    "\n",
    "    p1.start()\n",
    "    p2.start()\n",
    "    p3.start()\n",
    "\n",
    "    p1.join()\n",
    "    p2.join()\n",
    "    p3.join()"
   ]
  },
  {
   "cell_type": "raw",
   "id": "945429f8-12ff-413f-88dc-9133a56acc46",
   "metadata": {},
   "source": [
    "7. Create a date object of your day of birth."
   ]
  },
  {
   "cell_type": "code",
   "execution_count": 8,
   "id": "4e30e73b-af23-4431-8d32-f1b0c45598e8",
   "metadata": {},
   "outputs": [
    {
     "name": "stdout",
     "output_type": "stream",
     "text": [
      "1996-05-01 00:00:00 <class 'datetime.datetime'>\n"
     ]
    }
   ],
   "source": [
    "from datetime import datetime\n",
    "my_dob = datetime.strptime('01/05/1996','%d/%m/%Y')\n",
    "print(my_dob, type(my_dob))"
   ]
  },
  {
   "cell_type": "raw",
   "id": "d8b6ad69-b92a-400d-b265-e91d4412438b",
   "metadata": {},
   "source": [
    "8. What day of the week was your day of birth?"
   ]
  },
  {
   "cell_type": "code",
   "execution_count": 9,
   "id": "b0d8cb04-5951-40d3-906d-007705488317",
   "metadata": {},
   "outputs": [
    {
     "data": {
      "text/plain": [
       "'Wednesday'"
      ]
     },
     "execution_count": 9,
     "metadata": {},
     "output_type": "execute_result"
    }
   ],
   "source": [
    "from datetime import datetime\n",
    "my_dob = datetime(1996,5,1)\n",
    "my_dob.strftime(\"%A\")"
   ]
  },
  {
   "cell_type": "raw",
   "id": "79182acc-19ea-4c2e-add7-ad029faf45f8",
   "metadata": {},
   "source": [
    "9. When will you be (or when were you) 10,000 days old?"
   ]
  },
  {
   "cell_type": "code",
   "execution_count": 11,
   "id": "f5ad529c-2099-4c91-a061-79c241183789",
   "metadata": {},
   "outputs": [
    {
     "data": {
      "text/plain": [
       "datetime.datetime(1967, 12, 14, 0, 0)"
      ]
     },
     "execution_count": 11,
     "metadata": {},
     "output_type": "execute_result"
    }
   ],
   "source": [
    "from datetime import datetime, timedelta\n",
    "my_dob = datetime.strptime(\"1/05/1995\",'%d/%m/%Y')\n",
    "future_date = my_dob-timedelta(10000)\n",
    "future_date"
   ]
  }
 ],
 "metadata": {
  "kernelspec": {
   "display_name": "Python 3 (ipykernel)",
   "language": "python",
   "name": "python3"
  },
  "language_info": {
   "codemirror_mode": {
    "name": "ipython",
    "version": 3
   },
   "file_extension": ".py",
   "mimetype": "text/x-python",
   "name": "python",
   "nbconvert_exporter": "python",
   "pygments_lexer": "ipython3",
   "version": "3.10.6"
  }
 },
 "nbformat": 4,
 "nbformat_minor": 5
}
