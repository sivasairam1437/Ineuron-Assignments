{
 "cells": [
  {
   "cell_type": "raw",
   "id": "040efd3c-b01e-440a-8e55-e8df7b6ddcc4",
   "metadata": {},
   "source": [
    "#1. In the below elements which of them are values or an expression? eg:- values can be\n",
    "#integer or string and expressions will be mathematical operators.\n",
    "* = Expression\n",
    "\"hello\"=Value\n",
    "-= Expression\n",
    "-87.8 =Value\n",
    "-= Expression\n",
    "/= Expression\n",
    "+= Expression\n",
    "6  =Value\n",
    "#A.In Python, operators are special symbols that designate that some sort of computation should be performed. The values that an operator acts on are called operands. A sequence of operands and operators, like a + b - 5 , is called an expression. Python supports many operators for combining data objects into expressions.\n",
    "\n"
   ]
  },
  {
   "cell_type": "raw",
   "id": "34202578-d60d-4e47-8cec-aa919c898cfe",
   "metadata": {},
   "source": [
    "#2. What is the difference between string and variable?\n",
    "#A.Variables are symbols that you can use to store data in a program. You can think of them as an empty box that you fill with some data or value. Strings are data, so we can use them to fill up a variable. Declaring strings as variables can make it easier for us to work with strings throughout our Python programs."
   ]
  },
  {
   "cell_type": "raw",
   "id": "0c33acd7-2224-429d-a95d-a3af489c61eb",
   "metadata": {},
   "source": [
    "3. Describe three different data types.\n",
    "#A.Data Types\tExamples\t    Explanation\n",
    "Integers  \t    5364\t         Whole numbers\n",
    "Floats  \t    3.1415  \t     Decimal Numbers\n",
    "Booleans     True, False\t     Truth values that represent Yes/No\n",
    "Lists\t       [1,2,3,4,5]\t     A collection of data, sits between [ ]"
   ]
  },
  {
   "cell_type": "raw",
   "id": "27bc4da2-86b9-4bb2-8ab6-e8cfa414b52b",
   "metadata": {},
   "source": [
    "4. What is an expression made up of? What do all expressions do?\n",
    "A.An expression in Python is a combination of operators and operands. An example of expression can be : x = x + 1 0 x = x + 10 x=x+10. In this expression, the first 1 0 10 10 is added to the variable x. After the addition is performed, the result is assigned to the variable x.\n"
   ]
  },
  {
   "cell_type": "raw",
   "id": "1de72d3d-a011-4e9e-8e11-eb3b728861ef",
   "metadata": {},
   "source": [
    "5. This assignment statements, like spam = 10. What is the difference between an\n",
    "expression and a statement?\n",
    "A. The Main Differences Between an Expression and a Statement in Programming. Expressions can be assigned or used as operands, while statements can only be declared. Statements create side effects to be useful, while expressions are values or execute to values"
   ]
  },
  {
   "cell_type": "raw",
   "id": "1760d7ef-580d-464f-b83d-885424f25819",
   "metadata": {},
   "source": [
    "6. After running the following code, what does the variable bacon contain?\n",
    "bacon = 22\n",
    "bacon + 1\n",
    "A. bacon = 23\n"
   ]
  },
  {
   "cell_type": "code",
   "execution_count": null,
   "id": "ab6b8d19-8686-44e0-a547-a5017c1bc439",
   "metadata": {},
   "outputs": [],
   "source": [
    "7. What should the values of the following two terms \n",
    "\"spam\" +\"spamspam\" = 'spamspamspam'\n",
    "\"spam\" * 3 = 'spamspamspam'\n",
    "\n",
    "The values of the following two terms should be same."
   ]
  },
  {
   "cell_type": "raw",
   "id": "aa514e6f-d84b-49c9-8a2b-124b865d5213",
   "metadata": {},
   "source": [
    "8. Why is eggs a valid variable name while 100 is invalid?\n",
    "A.Variable names cannot begin with a number."
   ]
  },
  {
   "cell_type": "raw",
   "id": "7d42ee7f-8ef1-478e-8907-12daf901a14b",
   "metadata": {},
   "source": [
    "9. What three functions can be used to get the integer, floating-point number, or string\n",
    "version of a value?\n",
    "A.The int() , float() , and str( ) functions will evaluate to the integer, floating-point number, and string versions of the value passed to them."
   ]
  },
  {
   "cell_type": "raw",
   "id": "b4bcb397-0588-4960-b69e-d93c6e877b1c",
   "metadata": {},
   "source": [
    "10. Why does this expression cause an error? How can you fix it?\n",
    "\"I have eaten\" 99 + \"burritos\"\n",
    "A.The expression causes an error because 99 is an integer, and only strings can be concatenated to other strings with the + operator. The correct way is I have eaten ' + str(99) + ' burritos.\n",
    "i.e., \"I have eaten\" \"99\" + \"burritos\""
   ]
  }
 ],
 "metadata": {
  "kernelspec": {
   "display_name": "Python 3 (ipykernel)",
   "language": "python",
   "name": "python3"
  },
  "language_info": {
   "codemirror_mode": {
    "name": "ipython",
    "version": 3
   },
   "file_extension": ".py",
   "mimetype": "text/x-python",
   "name": "python",
   "nbconvert_exporter": "python",
   "pygments_lexer": "ipython3",
   "version": "3.10.6"
  }
 },
 "nbformat": 4,
 "nbformat_minor": 5
}
