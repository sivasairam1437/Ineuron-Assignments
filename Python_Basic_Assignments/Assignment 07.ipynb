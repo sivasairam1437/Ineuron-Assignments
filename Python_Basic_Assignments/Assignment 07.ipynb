{
 "cells": [
  {
   "cell_type": "raw",
   "id": "3fbdae3e-4474-4451-8dfa-29a8aff9bd0f",
   "metadata": {},
   "source": [
    "Q1. What is the name of the feature responsible for generating Regex objects?\n",
    "A.The name of the feature responsible for generating Regex objects is re.compile() function which returns Regex objects."
   ]
  },
  {
   "cell_type": "raw",
   "id": "a0cd1207-e7ab-474f-90e0-d676f053c392",
   "metadata": {},
   "source": [
    "Q2. Why do raw strings often appear in Regex objects?\n",
    "A.Raw strings are used so that backslashes do not have to be escaped."
   ]
  },
  {
   "cell_type": "raw",
   "id": "717dcb6d-e66e-4887-9047-4a821c71a199",
   "metadata": {},
   "source": [
    "Q3. What is the return value of the search() method?\n",
    "A.The return value of the search() method is that it returns Match objects.The search() function searches the string for a match, and returns a Match object if there is a match."
   ]
  },
  {
   "cell_type": "raw",
   "id": "6eecc97d-7dc7-4441-9639-46712641d728",
   "metadata": {},
   "source": [
    "Q4. From a Match item, how do you get the actual strings that match the pattern?"
   ]
  },
  {
   "cell_type": "code",
   "execution_count": 1,
   "id": "95f448d5-85c0-4d9d-923c-b9e942646fa9",
   "metadata": {},
   "outputs": [
    {
     "name": "stdout",
     "output_type": "stream",
     "text": [
      "The first i character is located in position: 2\n"
     ]
    },
    {
     "data": {
      "text/plain": [
       "re.Match"
      ]
     },
     "execution_count": 1,
     "metadata": {},
     "output_type": "execute_result"
    }
   ],
   "source": [
    "import re\n",
    "\n",
    "data = \"This is iNeuron Full Stack Data Science Class\"\n",
    "x = re.search(\"i\", data)\n",
    "\n",
    "print(\"The first i character is located in position:\", x.start()) \n",
    "type(x)"
   ]
  },
  {
   "cell_type": "raw",
   "id": "fff90928-dd0a-4792-bbf7-3317c3e01694",
   "metadata": {},
   "source": [
    "Q5. In the regex which created from the '(\\d\\d\\d)-(\\d\\d\\d-\\d\\d\\d\\d)', what does group zero cover?\n",
    "Group 2? Group 1?\n",
    "A.Group 0 is the entire match, group 1 covers the first set of parentheses, and group 2 covers the second set of parentheses."
   ]
  },
  {
   "cell_type": "raw",
   "id": "d2202454-6eef-4879-8a74-49fa97969582",
   "metadata": {},
   "source": [
    "Q6. In standard expression syntax, parentheses and intervals have distinct meanings. How can you tell\n",
    "a regex that you want it to fit real parentheses and periods?\n",
    "A.Periods and parentheses can be escaped with a backslash: \\"
   ]
  },
  {
   "cell_type": "raw",
   "id": "9032da9b-8edd-4fdd-8679-ab250e470461",
   "metadata": {},
   "source": [
    "Q7. The findall() method returns a string list or a list of string tuples. What causes it to return one of\n",
    "the two options?\n",
    "A.If the regex has no groups, a list of strings is returned. If the regex has groups, a list of tuples of strings is returned."
   ]
  },
  {
   "cell_type": "raw",
   "id": "ae560bfd-d070-4a6f-9d97-7507aba47610",
   "metadata": {},
   "source": [
    "Q8.In standard expressions, what does the | character mean?\n",
    "A.The | character signifies matching \"either, or\" between two groups."
   ]
  },
  {
   "cell_type": "raw",
   "id": "e01b9b41-b649-412e-a25e-3a3e93e1ae54",
   "metadata": {},
   "source": [
    "Q9.What two things does the ? character signify in regular expressions?\n",
    "A.The ? character can either mean \"match zero or one of the preceding group\" or be used to signify nongreedy matching."
   ]
  },
  {
   "cell_type": "raw",
   "id": "753d3221-d1e2-4c93-9a98-3fb91fe32869",
   "metadata": {},
   "source": [
    "Q10.In regular expressions, what is the difference between the + and * characters?\n",
    "A.The + matches one or more. The * matches zero or more."
   ]
  },
  {
   "cell_type": "raw",
   "id": "e9f6774e-ca3c-4fd9-8d9f-45dacb8ac766",
   "metadata": {},
   "source": [
    "Q11. What is the difference between {4} and {4,5} in regular expression?\n",
    "A.The {4} matches exactly three instances of the preceding group. The {4,5} matches between four and five instances."
   ]
  },
  {
   "cell_type": "raw",
   "id": "631542f4-65cf-4460-8dc2-dfebde61c727",
   "metadata": {},
   "source": [
    "Q12. What do you mean by the \\d, \\w, and \\s shorthand character classes signify in regular\n",
    "expressions?\n",
    "A.The \\d, \\w, and \\s shorthand character classes match a single digit, word, or space character, respectively."
   ]
  },
  {
   "cell_type": "raw",
   "id": "e5bbb851-56e7-488f-a2ca-6c6348b22e95",
   "metadata": {},
   "source": [
    "Q13. What do means by \\D, \\W, and \\S shorthand character classes signify in regular expressions?\n",
    "A.The \\D, \\W, and \\S shorthand character classes match a single character that is not a digit, word, or space character, respectively."
   ]
  },
  {
   "cell_type": "raw",
   "id": "de4ca7b5-40bb-4d39-819b-2ed40566dd56",
   "metadata": {},
   "source": [
    "Q14. What is the difference between .*? and .*?\n",
    "A.The .* performs a greedy match, and the .*? performs a nongreedy match."
   ]
  },
  {
   "cell_type": "raw",
   "id": "40f94fb8-8fb0-4db6-becb-c9febad00001",
   "metadata": {},
   "source": [
    "Q15. What is the syntax for matching both numbers and lowercase letters with a character class\n",
    "A.Either [0-9a-z] or [a-z0-9]"
   ]
  },
  {
   "cell_type": "raw",
   "id": "1ba862a6-3ee0-48ea-a9dc-e0c7759b7ac4",
   "metadata": {},
   "source": [
    "Q16. What is the procedure for making a normal expression in regax case insensitive?\n",
    "A.Passing re.I or re.IGNORECASE as the second argument to re.compile() will make the matching case insensitive."
   ]
  },
  {
   "cell_type": "raw",
   "id": "5c7ea9af-5d81-4231-b899-c9fe5320d58b",
   "metadata": {},
   "source": [
    "Q17. What does the . character normally match? What does it match if re.DOTALL is passed as 2nd\n",
    "argument in re.compile()?\n",
    "A.The . character normally matches any character except the newline character. If re.DOTALL is passed as the second argument to re.compile(), then the dot will also match newline characters."
   ]
  },
  {
   "cell_type": "raw",
   "id": "9731ddf0-a7b9-4ee0-b091-9f57ec25b4a5",
   "metadata": {},
   "source": [
    "Q18. If numRegex = re.compile(r'\\d+'), what will numRegex.sub('X','11 drummers, 10 pipers, five rings, 4\n",
    "hen') return?"
   ]
  },
  {
   "cell_type": "code",
   "execution_count": 11,
   "id": "8a2f769e-6215-40fc-93b1-7fe61e395d24",
   "metadata": {},
   "outputs": [],
   "source": [
    "import re\n",
    "numRegex= re.compile(r'\\'d+')"
   ]
  },
  {
   "cell_type": "code",
   "execution_count": 12,
   "id": "7bd8704f-3533-4d15-a2b6-85167d514bbe",
   "metadata": {},
   "outputs": [
    {
     "data": {
      "text/plain": [
       "'11 drummers, 10 pipers, five rings, 4 hen'"
      ]
     },
     "execution_count": 12,
     "metadata": {},
     "output_type": "execute_result"
    }
   ],
   "source": [
    "numRegex.sub('X','11 drummers, 10 pipers, five rings, 4 hen')"
   ]
  },
  {
   "cell_type": "raw",
   "id": "546efe17-1797-4d7f-992a-fa082f50222e",
   "metadata": {},
   "source": [
    "Q19. What does passing re.VERBOSE as the 2nd argument to re.compile() allow to do?\n",
    "A.The re.VERBOSE argument allows you to add whitespace and comments to the string passed to re.compile()."
   ]
  },
  {
   "cell_type": "raw",
   "id": "f641e374-6291-40bf-a240-9d832c1d015f",
   "metadata": {},
   "source": [
    "Q20. How would you write a regex that match a number with comma for every three digits? It must\n",
    "match the given following:\n",
    "'42'\n",
    "'1,234'\n",
    "'6,368,745'\n",
    "but not the following:\n",
    "'12,34,567' (which has only two digits between the commas)\n",
    "'1234' (which lacks commas)\n",
    "A.re.compile(r'^\\d{1,3}(,\\d{3})*$') will create this regex, but other regex strings can produce a similar regular expression."
   ]
  },
  {
   "cell_type": "raw",
   "id": "81d8ecdc-4de9-42b0-9233-2f0c2b5cb78c",
   "metadata": {},
   "source": [
    "Q21. How would you write a regex that matches the full name of someone whose last name is\n",
    "Watanabe? You can assume that the first name that comes before it will always be one word that\n",
    "begins with a capital letter. The regex must match the following:\n",
    "'Haruto Watanabe'\n",
    "'Alice Watanabe'\n",
    "'RoboCop Watanabe'\n",
    "but not the following:\n",
    "'haruto Watanabe' (where the first name is not capitalized)\n",
    "'Mr. Watanab' (where the preceding word has a nonletter character)\n",
    "'Watanabe' (which has no first name)\n",
    "'Haruto watanabe' (where Watanabe is not capitalized)\n",
    "A.re.compile(r'[A-Z][a-z]*\\sNakamoto')"
   ]
  },
  {
   "cell_type": "raw",
   "id": "ff1b8f39-7074-4eab-8078-88b2c718a6f5",
   "metadata": {},
   "source": [
    "Q22. How would you write a regex that matches a sentence where the first word is either Alice, Bob,\n",
    "or Carol; the second word is either eats, pets, or throws; the third word is apples, cats, or baseballs;\n",
    "and the sentence ends with a period? This regex should be case-insensitive. It must match the\n",
    "following:\n",
    "'Alice eats apples.'\n",
    "'Bob pets cats.'\n",
    "'Carol throws baseballs.'\n",
    "'Alice throws Apples.'\n",
    "'BOB EATS CATS.'\n",
    "but not the following:\n",
    "'RoboCop eats apples.'\n",
    "'ALICE THROWS FOOTBALLS.'\n",
    "'Carol eats 7 cats.'\n",
    "A.re.compile(r'(Alice|Bob|Carol)\\s(eats|pets|throws)\\s(apples|cats|baseballs).', re.IGNORECASE)"
   ]
  }
 ],
 "metadata": {
  "kernelspec": {
   "display_name": "Python 3 (ipykernel)",
   "language": "python",
   "name": "python3"
  },
  "language_info": {
   "codemirror_mode": {
    "name": "ipython",
    "version": 3
   },
   "file_extension": ".py",
   "mimetype": "text/x-python",
   "name": "python",
   "nbconvert_exporter": "python",
   "pygments_lexer": "ipython3",
   "version": "3.10.6"
  }
 },
 "nbformat": 4,
 "nbformat_minor": 5
}
