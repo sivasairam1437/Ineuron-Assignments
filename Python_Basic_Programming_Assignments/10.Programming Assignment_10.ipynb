{
 "cells": [
  {
   "cell_type": "raw",
   "id": "408142b4-ad0d-4f0a-ac1b-9c8c9e130c00",
   "metadata": {},
   "source": [
    "1.Write a Python Program to find sum of elements in a list ?"
   ]
  },
  {
   "cell_type": "code",
   "execution_count": 1,
   "id": "2f4e8dcf-6b33-46aa-9cec-f9e445cbe363",
   "metadata": {},
   "outputs": [
    {
     "name": "stdin",
     "output_type": "stream",
     "text": [
      "Enter the No of Entries in a List:  5\n",
      "Enter a element:  2\n",
      "Enter a element:  3\n",
      "Enter a element:  56\n",
      "Enter a element:  7\n",
      "Enter a element:  5\n"
     ]
    },
    {
     "name": "stdout",
     "output_type": "stream",
     "text": [
      "Sum of Elements: 73\n"
     ]
    }
   ],
   "source": [
    "def sumofList():\n",
    "    in_ele = int(input('Enter the No of Entries in a List: '))\n",
    "    in_list = []\n",
    "    for itr in range(in_ele):\n",
    "        in_list.append(int(input('Enter a element: ')))\n",
    "    print(f'Sum of Elements: {sum(in_list)}')\n",
    "sumofList()"
   ]
  },
  {
   "cell_type": "raw",
   "id": "a2da5ea2-1522-4952-97ef-5a64e4080279",
   "metadata": {},
   "source": [
    "2.Write a Python Program to multiply all numbers in the list ?"
   ]
  },
  {
   "cell_type": "code",
   "execution_count": 2,
   "id": "414a9ad2-6cf6-4e64-bb74-ccf957590db5",
   "metadata": {},
   "outputs": [
    {
     "name": "stdin",
     "output_type": "stream",
     "text": [
      "Enter the No of Entries in a List:  6\n",
      "Enter a element:  22\n",
      "Enter a element:  44\n",
      "Enter a element:  55\n",
      "Enter a element:  66\n",
      "Enter a element:  88\n",
      "Enter a element:  77\n"
     ]
    },
    {
     "name": "stdout",
     "output_type": "stream",
     "text": [
      "23809779840\n"
     ]
    }
   ],
   "source": [
    "def mulofList():\n",
    "    in_ele = int(input('Enter the No of Entries in a List: '))\n",
    "    in_list = []\n",
    "    mul = 1\n",
    "    for itr in range(in_ele):\n",
    "        in_list.append(int(input('Enter a element: ')))\n",
    "    for ele in in_list:\n",
    "        mul = mul * ele\n",
    "    print(mul)\n",
    "\n",
    "mulofList()"
   ]
  },
  {
   "cell_type": "raw",
   "id": "e7b27bf2-53d9-4042-bb36-8e700d2bca92",
   "metadata": {},
   "source": [
    "3.Write a Python Program to find smallest number in the list ?"
   ]
  },
  {
   "cell_type": "code",
   "execution_count": 3,
   "id": "682dbd31-8828-4246-a668-4fc86b2a433a",
   "metadata": {},
   "outputs": [
    {
     "name": "stdin",
     "output_type": "stream",
     "text": [
      "Enter the No of elements in a list:  6\n",
      "Enter a Element:  42\n",
      "Enter a Element:  21\n",
      "Enter a Element:  56\n",
      "Enter a Element:  78\n",
      "Enter a Element:  98\n",
      "Enter a Element:  22\n"
     ]
    },
    {
     "name": "stdout",
     "output_type": "stream",
     "text": [
      "The Smallest Element in [42, 21, 56, 78, 98, 22] is 21\n"
     ]
    }
   ],
   "source": [
    "def smallEleInList():\n",
    "    in_ele = int(input('Enter the No of elements in a list: '))\n",
    "    in_list = []\n",
    "    for ele in range(in_ele):\n",
    "        in_list.append(int(input('Enter a Element: ')))\n",
    "    print(f'The Smallest Element in {in_list} is {sorted(in_list)[0]}')\n",
    "smallEleInList()"
   ]
  },
  {
   "cell_type": "raw",
   "id": "32df26f3-8800-47f1-994d-2ac14e0efabb",
   "metadata": {},
   "source": [
    "4.Write a Python Program to find largest number in the list ?"
   ]
  },
  {
   "cell_type": "code",
   "execution_count": 5,
   "id": "f25c656e-a745-4ac7-9dea-61d9d2acbfe6",
   "metadata": {},
   "outputs": [
    {
     "name": "stdin",
     "output_type": "stream",
     "text": [
      "Enter the No of elements in a list:  10\n",
      "Enter a Element:  5\n",
      "Enter a Element:  2\n",
      "Enter a Element:  4\n",
      "Enter a Element:  56\n",
      "Enter a Element:  45\n",
      "Enter a Element:  66\n",
      "Enter a Element:  33\n",
      "Enter a Element:  8\n",
      "Enter a Element:  7\n",
      "Enter a Element:  9\n"
     ]
    },
    {
     "name": "stdout",
     "output_type": "stream",
     "text": [
      "The Largest Element in [5, 2, 4, 56, 45, 66, 33, 8, 7, 9] is 66\n"
     ]
    }
   ],
   "source": [
    "def largestEleInList():\n",
    "    in_ele = int(input('Enter the No of elements in a list: '))\n",
    "    in_list = []\n",
    "    for ele in range(in_ele):\n",
    "        in_list.append(int(input('Enter a Element: ')))\n",
    "    print(f'The Largest Element in {in_list} is {sorted(in_list, reverse=True)[0]}')\n",
    "\n",
    "largestEleInList()"
   ]
  },
  {
   "cell_type": "raw",
   "id": "a14966e0-69fd-41c5-a32f-c745a908eb8d",
   "metadata": {},
   "source": [
    "5.Write a Python Program to find second largest number in the list ?"
   ]
  },
  {
   "cell_type": "code",
   "execution_count": null,
   "id": "b7f6614e-a7f4-4938-aee9-93f6e6f17f55",
   "metadata": {},
   "outputs": [],
   "source": []
  },
  {
   "cell_type": "code",
   "execution_count": 6,
   "id": "7009838d-2c81-443f-bbc3-cad5174d5372",
   "metadata": {},
   "outputs": [
    {
     "name": "stdin",
     "output_type": "stream",
     "text": [
      "Enter the No of elements in a list:  5\n",
      "Enter a Element:  11\n",
      "Enter a Element:  12\n",
      "Enter a Element:  16\n",
      "Enter a Element:  14\n",
      "Enter a Element:  15\n"
     ]
    },
    {
     "name": "stdout",
     "output_type": "stream",
     "text": [
      "The Second Largest Element in [11, 12, 16, 14, 15] is 15\n"
     ]
    }
   ],
   "source": [
    "def secondLargestEleInList():\n",
    "    in_ele = int(input('Enter the No of elements in a list: '))\n",
    "    in_list = []\n",
    "    for ele in range(in_ele):\n",
    "        in_list.append(int(input('Enter a Element: ')))\n",
    "    print(f'The Second Largest Element in {in_list} is {sorted(in_list, reverse=True)[1]}')\n",
    "\n",
    "secondLargestEleInList()"
   ]
  },
  {
   "cell_type": "raw",
   "id": "4b427fae-038b-4830-8591-76c3e4aec93d",
   "metadata": {},
   "source": [
    "6.Wrte a Python Program to find N largest elements in the list ?"
   ]
  },
  {
   "cell_type": "code",
   "execution_count": 7,
   "id": "310dbad1-fd2b-4f18-9031-83b6fa2e6976",
   "metadata": {},
   "outputs": [
    {
     "name": "stdin",
     "output_type": "stream",
     "text": [
      "Enter the No of elements in a list:  12\n",
      "Enter a Element:  12\n",
      "Enter a Element:  11\n",
      "Enter a Element:  13\n",
      "Enter a Element:  14\n",
      "Enter a Element:  15\n",
      "Enter a Element:  16\n",
      "Enter a Element:  17\n",
      "Enter a Element:  18\n",
      "Enter a Element:  19\n",
      "Enter a Element:  20\n",
      "Enter a Element:  21\n",
      "Enter a Element:  22\n"
     ]
    },
    {
     "name": "stdout",
     "output_type": "stream",
     "text": [
      "The 4 Largest Element in [12, 11, 13, 14, 15, 16, 17, 18, 19, 20, 21, 22] is [22, 21, 20, 19]\n"
     ]
    }
   ],
   "source": [
    "def nLargestEleInList(k):\n",
    "    in_ele = int(input('Enter the No of elements in a list: '))\n",
    "    in_list = []\n",
    "    for ele in range(in_ele):\n",
    "        in_list.append(int(input('Enter a Element: ')))\n",
    "    print(f'The {k} Largest Element in {in_list} is {sorted(in_list, reverse=True)[0:k]}')\n",
    "\n",
    "nLargestEleInList(4)"
   ]
  },
  {
   "cell_type": "raw",
   "id": "64ec4781-7efc-4fa0-b737-910b09eecec3",
   "metadata": {},
   "source": [
    "7.Write a Python Program to find even numbers in the list ?"
   ]
  },
  {
   "cell_type": "code",
   "execution_count": 8,
   "id": "b64a72f1-b020-4792-aa3b-fab5c7d44960",
   "metadata": {},
   "outputs": [
    {
     "name": "stdin",
     "output_type": "stream",
     "text": [
      "Enter the No of elements in a list:  5\n",
      "Enter a Element:  1\n",
      "Enter a Element:  2\n",
      "Enter a Element:  3\n",
      "Enter a Element:  4\n",
      "Enter a Element:  5\n"
     ]
    },
    {
     "name": "stdout",
     "output_type": "stream",
     "text": [
      "The Even Elements in [1, 2, 3, 4, 5] are [2, 4]\n"
     ]
    }
   ],
   "source": [
    "def evenNoInList():\n",
    "    in_ele = int(input('Enter the No of elements in a list: '))\n",
    "    in_list = []\n",
    "    even_list = []\n",
    "    for ele in range(in_ele):\n",
    "        in_list.append(int(input('Enter a Element: ')))\n",
    "    for ele in in_list:\n",
    "        if ele%2 == 0:\n",
    "            even_list.append(ele)\n",
    "    print(f'The Even Elements in {in_list} are {even_list}')\n",
    "\n",
    "evenNoInList()"
   ]
  },
  {
   "cell_type": "raw",
   "id": "b4df3f90-c662-4c56-9bb5-d3f1455fb971",
   "metadata": {},
   "source": [
    "8.Write a Python Program to find odd numbers in the list ?"
   ]
  },
  {
   "cell_type": "code",
   "execution_count": 9,
   "id": "ac9b2957-0227-402c-b7ce-8005afd4d33a",
   "metadata": {},
   "outputs": [
    {
     "name": "stdin",
     "output_type": "stream",
     "text": [
      "Enter the No of elements in a list:  5\n",
      "Enter a Element:  1\n",
      "Enter a Element:  2\n",
      "Enter a Element:  3\n",
      "Enter a Element:  4\n",
      "Enter a Element:  5\n"
     ]
    },
    {
     "name": "stdout",
     "output_type": "stream",
     "text": [
      "The Even Elements in [1, 2, 3, 4, 5] are [1, 3, 5]\n"
     ]
    }
   ],
   "source": [
    "def oddNoInList():\n",
    "    in_ele = int(input('Enter the No of elements in a list: '))\n",
    "    in_list = []\n",
    "    odd_list = []\n",
    "    for ele in range(in_ele):\n",
    "        in_list.append(int(input('Enter a Element: ')))\n",
    "    for ele in in_list:\n",
    "        if ele%2 != 0:\n",
    "            odd_list.append(ele)\n",
    "    print(f'The Even Elements in {in_list} are {odd_list}')\n",
    "\n",
    "oddNoInList()"
   ]
  },
  {
   "cell_type": "raw",
   "id": "e1a7b54e-acae-4fb9-a928-9a2e1d164adc",
   "metadata": {},
   "source": [
    "9.Write a Python Program to remove empty list from list ?"
   ]
  },
  {
   "cell_type": "code",
   "execution_count": 10,
   "id": "e5a66e9a-e1df-4539-82bf-b69916621f07",
   "metadata": {},
   "outputs": [
    {
     "name": "stdin",
     "output_type": "stream",
     "text": [
      "Enter all elements of the list:  [1,2,3,4,5,[],6,7,8,9,0]\n"
     ]
    },
    {
     "name": "stdout",
     "output_type": "stream",
     "text": [
      "There is an Empty list in [1, 2, 3, 4, 5, [], 6, 7, 8, 9, 0] at Position 5\n",
      "The List after removing [] is [1, 2, 3, 4, 5, 6, 7, 8, 9, 0]\n"
     ]
    }
   ],
   "source": [
    "def checkEmptyList():\n",
    "    in_list = eval(input('Enter all elements of the list: '))\n",
    "    if [] in in_list:\n",
    "        print(f'There is an Empty list in {in_list} at Position {in_list.index([])}')\n",
    "        in_list.remove([])\n",
    "        print(f'The List after removing [] is {in_list}')\n",
    "    else:\n",
    "        print(f'There is no [] List in the list {in_list}')\n",
    "        \n",
    "checkEmptyList()"
   ]
  },
  {
   "cell_type": "raw",
   "id": "bd2d9dbe-efec-4e18-8996-f321f151e15b",
   "metadata": {},
   "source": [
    "10.Write a Python Program to Cloning or Copying a list ?"
   ]
  },
  {
   "cell_type": "code",
   "execution_count": 11,
   "id": "543b770b-0298-4347-8a29-2b52adefbeef",
   "metadata": {},
   "outputs": [
    {
     "name": "stdin",
     "output_type": "stream",
     "text": [
      "Enter a list [1,2,3,4,5,6,7,8,9,0]\n"
     ]
    },
    {
     "name": "stdout",
     "output_type": "stream",
     "text": [
      "[1, 2, 3, 4, 5, 6, 7, 8, 9, 0] 139855613824128\n",
      "[1, 2, 3, 4, 5, 6, 7, 8, 9, 0] 139855613832704\n"
     ]
    }
   ],
   "source": [
    "import copy\n",
    "\n",
    "def cloneList():\n",
    "    in_list = eval(input('Enter a list'))\n",
    "    print(in_list, id(in_list))\n",
    "    cloned_list = in_list.copy()\n",
    "    print(cloned_list, id(cloned_list))\n",
    "\n",
    "cloneList()"
   ]
  },
  {
   "cell_type": "raw",
   "id": "d25988eb-1687-4c78-ba36-8c83aa5b90eb",
   "metadata": {},
   "source": [
    "11.Write a Python Program to count occurences of an element in a list ?"
   ]
  },
  {
   "cell_type": "code",
   "execution_count": 12,
   "id": "964680f8-decb-45a6-834b-3b0ea38f9753",
   "metadata": {},
   "outputs": [
    {
     "name": "stdin",
     "output_type": "stream",
     "text": [
      "Enter the elements of the list:  [1,2,3,1,2,3,1,2,3,4,5,6,4,5,6]\n",
      "Enter the element to find:  5\n"
     ]
    },
    {
     "name": "stdout",
     "output_type": "stream",
     "text": [
      "There are 2 occurences of 5 in [1, 2, 3, 1, 2, 3, 1, 2, 3, 4, 5, 6, 4, 5, 6]\n"
     ]
    }
   ],
   "source": [
    "def checkOccurence():\n",
    "    in_list = eval(input('Enter the elements of the list: '))\n",
    "    in_num = eval(input('Enter the element to find: '))\n",
    "    count = 0\n",
    "    if in_num in in_list:\n",
    "        for ele in in_list:\n",
    "            if ele == in_num:\n",
    "                count = count+1\n",
    "    print(f'There are {count} occurences of {in_num} in {in_list}')\n",
    "    \n",
    "checkOccurence()"
   ]
  }
 ],
 "metadata": {
  "kernelspec": {
   "display_name": "Python 3 (ipykernel)",
   "language": "python",
   "name": "python3"
  },
  "language_info": {
   "codemirror_mode": {
    "name": "ipython",
    "version": 3
   },
   "file_extension": ".py",
   "mimetype": "text/x-python",
   "name": "python",
   "nbconvert_exporter": "python",
   "pygments_lexer": "ipython3",
   "version": "3.10.6"
  }
 },
 "nbformat": 4,
 "nbformat_minor": 5
}
