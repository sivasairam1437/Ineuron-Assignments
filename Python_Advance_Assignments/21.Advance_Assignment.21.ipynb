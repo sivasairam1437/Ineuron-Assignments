{
 "cells": [
  {
   "cell_type": "markdown",
   "id": "6ef9782a-605f-4ed1-8d4a-6ef13bba19db",
   "metadata": {},
   "source": [
    "Q1. What is a probability distribution, exactly? If the values are meant to be random, how can you predict them at all ?\n",
    "\n",
    "Ans: A probability distribution describes how a random variable is distributed.\n",
    "\n",
    "It tells us which values a random variable is most likely to take on and which values are less likely. Based on the previous data and the occurences of the random event, we can predict the outcome in terms of probabilities."
   ]
  },
  {
   "cell_type": "markdown",
   "id": "4925559d-d7da-459f-9f6f-48c1b04da123",
   "metadata": {},
   "source": [
    "Q2. Is there a distinction between true random numbers and pseudo-random numbers, if there is one? Why are the latter considered “good enough”?\n",
    "\n",
    "Ans: : True Random Numbers are true physical values while pseudo-random numbers are generated internally by a program . Latter is considered good enough as they have sort of uniform distribution."
   ]
  },
  {
   "cell_type": "markdown",
   "id": "2d6b1b66-47ff-403f-9653-6cc0ac0d9c01",
   "metadata": {},
   "source": [
    "Q3. What are the two main factors that influence the behaviour of a \"normal\" probability distribution ?\n",
    "\n",
    "\n",
    "Ans: Normal Probability Distribution are influenced by two factors mean and the variance."
   ]
  },
  {
   "cell_type": "markdown",
   "id": "20c3682e-8757-44f1-9078-7095f0b89db1",
   "metadata": {},
   "source": [
    "Q4. Provide a real-life example of a normal distribution ?\n",
    "\n",
    "\n",
    "Ans: A Real-life example of a normal distribution are heights or blood pressure measurements."
   ]
  },
  {
   "cell_type": "markdown",
   "id": "45e3c2f8-bcac-4179-89b7-a88c65fbb920",
   "metadata": {},
   "source": [
    "Q5. In the short term, how can you expect a probability distribution to behave? What do you think will happen as the number of trials grows ?\n",
    "\n",
    "\n",
    "Ans: Variance will decrease with number of trials."
   ]
  },
  {
   "cell_type": "markdown",
   "id": "f67cb2fb-3b2c-4372-9711-e829fe879598",
   "metadata": {},
   "source": [
    "Q6. What kind of object can be shuffled by using random.shuffle ?\n",
    "\n",
    "\n",
    "Ans: lists (list), strings (str) and tuples (tuple) objects can be shuffled by using random.shuffle."
   ]
  },
  {
   "cell_type": "raw",
   "id": "e597493a-8f76-4011-a4ce-9ec9cabec65b",
   "metadata": {},
   "source": [
    "Q7. Describe the math package's general categories of functions ?\n",
    "\n",
    "\n",
    "Ans: The Math package's general categories of functions are:\n",
    "\n",
    "Trigonometric functions\n",
    "Quadratic functions\n",
    "Exponential functions\n",
    "Hyperbolic functions\n",
    "Periodic functions\n",
    "Arithmetic functions\n",
    "Logarithimic functions\n",
    "Conversions to Integer"
   ]
  },
  {
   "cell_type": "markdown",
   "id": "13ce66d3-cb26-4b83-8d76-710f049c0fac",
   "metadata": {},
   "source": [
    "Q8. What is the relationship between exponentiation and logarithms ?\n",
    "\n",
    "\n",
    "Ans: Exponentiation and logarithms are inverse of each other."
   ]
  },
  {
   "cell_type": "raw",
   "id": "0a6b3b87-1e27-4b48-a37e-7ca81727fb5a",
   "metadata": {},
   "source": [
    "Q9. What are the three logarithmic functions that Python supports ?\n",
    "\n",
    "\n",
    "Ans: The Three Logarithmic Functions that Python supports are:\n",
    "\n",
    "log2(x) - logarithmic value of x to base 2\n",
    "log10(x) - logarithmic value of x to base 10\n",
    "log1p(a) - This function is used to compute logarithm(1+a) ."
   ]
  }
 ],
 "metadata": {
  "kernelspec": {
   "display_name": "Python 3 (ipykernel)",
   "language": "python",
   "name": "python3"
  },
  "language_info": {
   "codemirror_mode": {
    "name": "ipython",
    "version": 3
   },
   "file_extension": ".py",
   "mimetype": "text/x-python",
   "name": "python",
   "nbconvert_exporter": "python",
   "pygments_lexer": "ipython3",
   "version": "3.10.6"
  }
 },
 "nbformat": 4,
 "nbformat_minor": 5
}
