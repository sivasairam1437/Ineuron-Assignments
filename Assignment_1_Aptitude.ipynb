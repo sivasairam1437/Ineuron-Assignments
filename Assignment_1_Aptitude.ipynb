{
  "nbformat": 4,
  "nbformat_minor": 0,
  "metadata": {
    "colab": {
      "provenance": []
    },
    "kernelspec": {
      "name": "python3",
      "display_name": "Python 3"
    },
    "language_info": {
      "name": "python"
    }
  },
  "cells": [
    {
      "cell_type": "code",
      "source": [
        "Divisibility"
      ],
      "metadata": {
        "id": "2NGIi86Jk7DK"
      },
      "execution_count": null,
      "outputs": []
    },
    {
      "cell_type": "code",
      "execution_count": null,
      "metadata": {
        "id": "AFhxbrkNaLth"
      },
      "outputs": [],
      "source": [
        "1. Which one of the following numbers is divisible by 99?\n",
        "To check if a number is divisible by 99, it must be divisible by both 9 and 11.\n",
        "\n",
        "3572404 is not divisible by 9 and 11.\n",
        "135792 is not divisible by 9 and 11.\n",
        "913464 is not divisible by 9 and 11.\n",
        "114345 is not divisible by 9 but is divisible by 11.\n",
        "None of the given options appear divisible by 99."
      ]
    },
    {
      "cell_type": "code",
      "source": [
        "2. If n is an integer, what is the remainder when (2𝑛+2)^2 is divided by 4?\n",
        "\n",
        "We simplify (2𝑛+2)^2=4(𝑛+1)^2 is an integer, so 4(𝑛+1)^2 is divisible by 4, and the remainder is 0."
      ],
      "metadata": {
        "id": "kuoq85aJdGdF"
      },
      "execution_count": null,
      "outputs": []
    },
    {
      "cell_type": "code",
      "source": [
        "3. Find two nearest numbers to 19506 which are divisible by 9.\n",
        "The sum of digits of 19506 = 1 + 9 + 5 + 0 + 6 = 21.\n",
        "Since 21 is divisible by 9, 19506 is divisible by 9.\n",
        "The next closest number divisible by 9 is 19506 - 9 = 19497 and 19506 + 9 = 19515.\n",
        "So the nearest numbers are 19497 and 19515."
      ],
      "metadata": {
        "id": "hRSTRv2DdGhY"
      },
      "execution_count": null,
      "outputs": []
    },
    {
      "cell_type": "code",
      "source": [
        "4. What is the value of M and N respectively if M39048458N is divisible by 8 and 11, where M and N are single digit integers?\n",
        "Divisibility by 8: The last three digits, 58N, must be divisible by 8. The values of 𝑁= 4 makes 584 divisible by 8.\n",
        "Divisibility by 11: The alternating sum rule gives 𝑀−3+9−0+4−8+4−5+𝑁=𝑀+𝑁−9. To satisfy the divisibility rule for 11,\n",
        "𝑀+𝑁−9 must be divisible by 11. Substituting 𝑁=4, we get M+4-9=M-5 Thus, 𝑀=5\n",
        "So,𝑀=5 and 𝑁 = 4."
      ],
      "metadata": {
        "id": "YbAbZVp_dGmU"
      },
      "execution_count": null,
      "outputs": []
    },
    {
      "cell_type": "code",
      "source": [
        "5. How many pairs of X and Y are possible in the number 763X4Y2, if the number is divisible by 9?\n",
        "For divisibility by 9, the sum of digits must be divisible by 9.\n",
        "\n",
        "Sum = 7+6+3+𝑋+4+𝑌+2=22+𝑋+𝑌\n",
        "22+𝑋+𝑌 must be divisible by 9. Thus, 𝑋+𝑌 must satisfy (22+𝑋+𝑌) mod 9 = 0\n",
        "or 𝑋+𝑌=5. Possible pairs of 𝑋 and 𝑌 that satisfy this are:(0,5),(1,4),(2,3),(3,2),(4,1)(5,0). There are 6 pairs."
      ],
      "metadata": {
        "id": "xZD81kW0dGqT"
      },
      "execution_count": null,
      "outputs": []
    },
    {
      "cell_type": "code",
      "source": [
        "6. When the integer n is divided by 8, the re mainder is 3. What is the remainder if 6n is divided by 8?\n",
        "If 𝑛≡3 mod 8, then 6𝑛=6×3=18 mod8, and 18 mod 8=2.\n",
        "So, the remainder is 2."
      ],
      "metadata": {
        "id": "JXECBzWaiILP"
      },
      "execution_count": null,
      "outputs": []
    },
    {
      "cell_type": "code",
      "source": [
        "7. If the product 4864 × 9 𝑃 2 is divisible by 12, what is the value of 𝑃?\n",
        "For divisibility by 12, the number must be divisible by both 3 and 4.\n",
        "\n",
        "Divisibility by 4: The last two digits of 9𝑃2 are P2. For divisibility by 4, 𝑃2 mod4=0 which gives 𝑃=0 or P=2.\n",
        "Divisibility by 3: The sum of the digits 4+8+6+4+9+𝑃+2=33+P. For divisibility by 3, 𝑃=0 satisfies this.\n",
        "Thus, 𝑃=0."
      ],
      "metadata": {
        "id": "48pjSXlhiIOK"
      },
      "execution_count": null,
      "outputs": []
    },
    {
      "cell_type": "code",
      "source": [
        "8. If the number 7X860387X860387X86038 is exactly divisible by 11, what is the smallest whole number in place of XXX?\n",
        "For divisibility by 11, the alternating sum of digits must be divisible by 11.\n",
        "•\tAlternating sum = 7−X+8−6+0−3+8=14−X7 - X + 8 - 6 + 0 - 3 + 8 = 14 - X7−X+8−6+0−3+8=14−X.\n",
        "•\t14−X≡0mod  1114 - X \\equiv 0 \\mod 1114−X≡0mod11, so X=3X = 3X=3.\n",
        "Thus, X=3X = 3X=3"
      ],
      "metadata": {
        "id": "n_F1RHiBiIRa"
      },
      "execution_count": null,
      "outputs": []
    },
    {
      "cell_type": "code",
      "source": [
        "9. If an integer nnn is divisible by 3, 5, and 12, what is the next larger integer divisible by all these numbers?\n",
        "•\tThe least common multiple (LCM) of 3, 5, and 12 is 60.\n",
        "•\tThe next integer divisible by 60 is n+60n + 60n+60.\n",
        "So, the answer is n + 60."
      ],
      "metadata": {
        "id": "AHNtOtF2iIUl"
      },
      "execution_count": null,
      "outputs": []
    },
    {
      "cell_type": "code",
      "source": [
        "10. What is the product of the largest and the smallest possible values of MMM for which a number 5M83M4M15M83M4M15M83M4M1 is divisible by 9?\n",
        "For divisibility by 9, the sum of digits must be divisible by 9.\n",
        "•\tSum of digits: 5+M+8+3+M+4+M+1=21+3M5 + M + 8 + 3 + M + 4 + M + 1 = 21 + 3M5+M+8+3+M+4+M+1=21+3M.\n",
        "•\t21+3M≡0mod  921 + 3M \\equiv 0 \\mod 921+3M≡0mod9, which gives 3M≡6mod  93M \\equiv 6 \\mod 93M≡6mod9, so M=2M = 2M=2 or M=5M = 5M=5.\n",
        "•\tThe smallest value of MMM is 2, and the largest value of MMM is 5.\n",
        "Thus, the product is 2×5=102 \\times 5 = 102×5=10"
      ],
      "metadata": {
        "id": "3IRUN3x4iIXh"
      },
      "execution_count": null,
      "outputs": []
    },
    {
      "cell_type": "code",
      "source": [
        "  Factors"
      ],
      "metadata": {
        "id": "F9yTNIo_iIaf"
      },
      "execution_count": null,
      "outputs": []
    },
    {
      "cell_type": "code",
      "source": [
        "1. What is the number of prime factors in 64×86×108×1410×22126^4 \\times 8^6 \\times 10^8 \\times 14^{10} \\times 22^{12}64×86×108×1410×2212?\n",
        "First, express each number in terms of its prime factorization:\n",
        "•\t6=2×36 = 2 \\times 36=2×3\n",
        "•\t8=238 = 2^38=23\n",
        "•\t10=2×510 = 2 \\times 510=2×5\n",
        "•\t14=2×714 = 2 \\times 714=2×7\n",
        "•\t22=2×1122 = 2 \\times 1122=2×11\n",
        "Now calculate the exponents of the prime factors:\n",
        "•\t64=24×346^4 = 2^4 \\times 3^464=24×34\n",
        "•\t86=2188^6 = 2^{18}86=218\n",
        "•\t108=28×5810^8 = 2^8 \\times 5^8108=28×58\n",
        "•\t1410=210×71014^{10} = 2^{10} \\times 7^{10}1410=210×710\n",
        "•\t2212=212×111222^{12} = 2^{12} \\times 11^{12}2212=212×1112\n",
        "Combine all powers of each prime factor:\n",
        "•\tPowers of 2: 4+18+8+10+12=524 + 18 + 8 + 10 + 12 = 524+18+8+10+12=52\n",
        "•\tPowers of 3: 444\n",
        "•\tPowers of 5: 888\n",
        "•\tPowers of 7: 101010\n",
        "•\tPowers of 11: 121212\n",
        "Thus, the number of distinct prime factors is 5."
      ],
      "metadata": {
        "id": "O1jAgzhPiIdq"
      },
      "execution_count": null,
      "outputs": []
    },
    {
      "cell_type": "code",
      "source": [
        "2. N=a4×b3×c7N = a^4 \\times b^3 \\times c^7N=a4×b3×c7. Find the number of perfect square factors of NNN where a,b,ca, b, ca,b,c are three distinct prime numbers.\n",
        "To be a perfect square, the exponent of each prime factor in a factor must be even.\n",
        "•\tFor a4a^4a4, the exponents of aaa in a perfect square can be 0,2,40, 2, 40,2,4 (3 choices).\n",
        "•\tFor b3b^3b3, the exponents of bbb in a perfect square can be 0,20, 20,2 (2 choices).\n",
        "•\tFor c7c^7c7, the exponents of ccc in a perfect square can be 0,2,4,60, 2, 4, 60,2,4,6 (4 choices).\n",
        "The total number of perfect square factors of NNN is 3×2×4=243 \\times 2 \\times 4 = 243×2×4=24."
      ],
      "metadata": {
        "id": "9CTLg3s8iIg0"
      },
      "execution_count": null,
      "outputs": []
    },
    {
      "cell_type": "code",
      "source": [
        "3. How many factors of 123×304×352123 \\times 304 \\times 35^2123×304×352 are even numbers?\n",
        "•\t123=3×41123 = 3 \\times 41123=3×41 (no factor of 2)\n",
        "•\t304=24×19304 = 2^4 \\times 19304=24×19\n",
        "•\t352=52×7235^2 = 5^2 \\times 7^2352=52×72\n",
        "For the number to be even, it must include at least one factor of 2. The total number of factors is:\n",
        "(1+0)×(4+1)×(2+1)=1×5×3=15 factors.(1+0) \\times (4+1) \\times (2+1) = 1 \\times 5 \\times 3 = 15 \\text{ factors}.(1+0)×(4+1)×(2+1)=1×5×3=15 factors.\n",
        "Subtracting the odd factors (which don’t include 2), the number of odd factors is:\n",
        "(0+1)×(0+1)×(2+1)=1×1×3=3 odd factors.(0+1) \\times (0+1) \\times (2+1) = 1 \\times 1 \\times 3 = 3 \\text{ odd factors}.(0+1)×(0+1)×(2+1)=1×1×3=3 odd factors.\n",
        "Thus, the number of even factors is 15−3=1215 - 3 = 1215−3=12."
      ],
      "metadata": {
        "id": "J-qgnBfTiIj8"
      },
      "execution_count": null,
      "outputs": []
    },
    {
      "cell_type": "code",
      "source": [
        "4. If N=27×34N = 27 \\times 3^4N=27×34, M=24×32×5M = 2^4 \\times 3^2 \\times 5M=24×32×5, then find the number of factors of NNN that are common with the factors of MMM.\n",
        "The common factors of NNN and MMM will be determined by the minimum powers of the common prime factors:\n",
        "•\tFor 3, the minimum power is min⁡(4,2)=2\\min(4, 2) = 2min(4,2)=2.\n",
        "Thus, the common factors are the divisors of 323^232, which gives:\n",
        "(2+1)=3 common factors.(2+1) = 3 \\text{ common factors}.(2+1)=3 common factors."
      ],
      "metadata": {
        "id": "9edlbeFbiInB"
      },
      "execution_count": null,
      "outputs": []
    },
    {
      "cell_type": "code",
      "source": [
        "5. NNN is the smallest number that has 5 factors. How many factors does N−1N - 1N−1 have?\n",
        "If a number has 5 factors, it must be of the form p4p^4p4, where ppp is a prime number, since the number of factors of pkp^kpk is k+1k+1k+1.\n",
        "•\tThe smallest such number is 24=162^4 = 1624=16 (which has 5 factors: 1, 2, 4, 8, 16).\n",
        "•\tN−1=16−1=15N - 1 = 16 - 1 = 15N−1=16−1=15.\n",
        "The prime factorization of 15 is 3×53 \\times 53×5, which has (1+1)(1+1)=4(1+1)(1+1) = 4(1+1)(1+1)=4 factors."
      ],
      "metadata": {
        "id": "6JCHbV0AiIqQ"
      },
      "execution_count": null,
      "outputs": []
    },
    {
      "cell_type": "code",
      "source": [
        "6. If both 112 and 34 are factors of the number A×43×62×1311A \\times 4^3 \\times 6^2 \\times 13^{11}A×43×62×1311, then what is the smallest possible value of AAA?\n",
        "•\tThe prime factorization of 112 is 24×72^4 \\times 724×7.\n",
        "•\tThe prime factorization of 34 is 2×172 \\times 172×17.\n",
        "To include both 112112112 and 343434 as factors, AAA must include the additional prime factors of 7 and 17. Hence, A=7×17=119A = 7 \\times 17 = 119A=7×17=119."
      ],
      "metadata": {
        "id": "22AO4l9CiItM"
      },
      "execution_count": null,
      "outputs": []
    },
    {
      "cell_type": "code",
      "source": [
        "7. Find the total number of factors of 10!10!10!.\n",
        "The prime factorization of 10!=10×9×⋯×110! = 10 \\times 9 \\times \\dots \\times 110!=10×9×⋯×1 is:\n",
        "10!=28×34×52×7.10! = 2^8 \\times 3^4 \\times 5^2 \\times 7.10!=28×34×52×7.\n",
        "The total number of factors is given by (8+1)(4+1)(2+1)(1+1)=9×5×3×2=270(8+1)(4+1)(2+1)(1+1) = 9 \\times 5 \\times 3 \\times 2 = 270(8+1)(4+1)(2+1)(1+1)=9×5×3×2=270."
      ],
      "metadata": {
        "id": "pwrEhmJ1iIwP"
      },
      "execution_count": null,
      "outputs": []
    },
    {
      "cell_type": "code",
      "source": [
        "8. How many factors of 27×36×54×732^7 \\times 3^6 \\times 5^4 \\times 7^327×36×54×73 are even perfect squares?\n",
        "•\tFor a factor to be even, it must include at least one factor of 2.\n",
        "•\tFor a factor to be a perfect square, all exponents must be even.\n",
        "Possible exponents for a perfect square:\n",
        "•\tFor 272^727, even exponents are 2, 4, 6.\n",
        "•\tFor 363^636, even exponents are 0, 2, 4, 6.\n",
        "•\tFor 545^454, even exponents are 0, 2, 4.\n",
        "•\tFor 737^373, even exponents are 0, 2.\n",
        "So, the total number of even perfect square factors is 4×4×3×2=964 \\times 4 \\times 3 \\times 2 = 964×4×3×2=96."
      ],
      "metadata": {
        "id": "pM7eO2-eiIzF"
      },
      "execution_count": null,
      "outputs": []
    },
    {
      "cell_type": "code",
      "source": [
        "9. In how many ways can 480 be written as a product of two natural numbers?\n",
        "The number of ways to express 480 as a product of two numbers is half the number of its factors.\n",
        "•\tPrime factorization of 480: 25×3×52^5 \\times 3 \\times 525×3×5.\n",
        "•\tNumber of factors: (5+1)(1+1)(1+1)=24(5+1)(1+1)(1+1) = 24(5+1)(1+1)(1+1)=24.\n",
        "Thus, the number of ways to express 480 as a product of two numbers is 242=12\\frac{24}{2} = 12224=12."
      ],
      "metadata": {
        "id": "QZXkO11HiI2B"
      },
      "execution_count": null,
      "outputs": []
    },
    {
      "cell_type": "code",
      "source": [
        "10. How many factors of 25×34×532^5 \\times 3^4 \\times 5^325×34×53 are not the factors of 23×54×752^3 \\times 5^4 \\times 7^523×54×75?\n",
        "We compare the prime factorizations:\n",
        "•\tFactors of 25×34×532^5 \\times 3^4 \\times 5^325×34×53 include all combinations of powers of 2, 3, and 5.\n",
        "•\tFactors of 23×54×752^3 \\times 5^4 \\times 7^523×54×75 include powers of 2, 5, and 7.\n",
        "The non-common factors are those involving powers of 3, and powers of 2 greater than 3. For the factors of 2, the extra factors are 242^424 and 252^525. For 3, all powers of 3 contribute to non-common factors:\n",
        "•\t24,25,31,32,33,342^4, 2^5, 3^1, 3^2, 3^3, 3^424,25,31,32,33,34.\n",
        "Thus, there are (2+1)(4+1)=3×5=15(2+1)(4+1) = 3 \\times 5 = 15(2+1)(4+1)=3×5=15 non-common factors.\n",
        "4o"
      ],
      "metadata": {
        "id": "1EJZ9QV_iI5k"
      },
      "execution_count": null,
      "outputs": []
    },
    {
      "cell_type": "code",
      "source": [
        "Unit digits (Cyclicity)"
      ],
      "metadata": {
        "id": "dCj4h7BTj-Bg"
      },
      "execution_count": null,
      "outputs": []
    },
    {
      "cell_type": "code",
      "source": [
        "1. What is the unit digit in the product 365×659×771365 \\times 659 \\times 771365×659×771?\n",
        "The unit digit of a product depends only on the unit digits of the numbers being multiplied. Let's find the unit digits of each number:\n",
        "•\tUnit digit of 365: 555\n",
        "•\tUnit digit of 659: 999\n",
        "•\tUnit digit of 771: 111\n",
        "Now, multiply the unit digits:\n",
        "•\t5×9=455 \\times 9 = 455×9=45, unit digit = 555\n",
        "•\t5×1=55 \\times 1 = 55×1=5\n",
        "So, the unit digit of 365×659×771365 \\times 659 \\times 771365×659×771 is 5."
      ],
      "metadata": {
        "id": "KeOyy3DefLaV"
      },
      "execution_count": null,
      "outputs": []
    },
    {
      "cell_type": "code",
      "source": [
        "2. Find the unit digit of (173)45×(152)77×(777)999(173)^{45} \\times (152)^{77} \\times (777)^{999}(173)45×(152)77×(777)999.\n",
        "Find the cyclicity of the unit digits:\n",
        "•\tUnit digit of 173: 333. The cyclicity of 3 is 3,9,7,13, 9, 7, 13,9,7,1 (repeats every 4 terms). 45mod  4=145 \\mod 4 = 145mod4=1, so the unit digit of 3453^{45}345 is 333.\n",
        "•\tUnit digit of 152: 222. The cyclicity of 2 is 2,4,8,62, 4, 8, 62,4,8,6. 77mod  4=177 \\mod 4 = 177mod4=1, so the unit digit of 2772^{77}277 is 222.\n",
        "•\tUnit digit of 777: 777. The cyclicity of 7 is 7,9,3,17, 9, 3, 17,9,3,1. 999mod  4=3999 \\mod 4 = 3999mod4=3, so the unit digit of 79997^{999}7999 is 333.\n",
        "Now multiply the unit digits:\n",
        "•\t3×2=63 \\times 2 = 63×2=6\n",
        "•\t6×3=186 \\times 3 = 186×3=18, so the unit digit is 8."
      ],
      "metadata": {
        "id": "8OiSRkkgfLdw"
      },
      "execution_count": null,
      "outputs": []
    },
    {
      "cell_type": "code",
      "source": [
        "3. What is the unit digit of the number 6256−4256625^{6} - 42566256−4256?\n",
        "•\tThe unit digit of 6256625^66256 depends on the unit digit of 625625625, which is 555. Since the unit digit of any power of 555 is always 555, the unit digit of 6256625^66256 is 555.\n",
        "•\tThe unit digit of 425642564256 is 666.\n",
        "Now subtract:\n",
        "•\t5−6=−15 - 6 = -15−6=−1, and the unit digit of −1-1−1 is 9."
      ],
      "metadata": {
        "id": "3-0XX4tvfLim"
      },
      "execution_count": null,
      "outputs": []
    },
    {
      "cell_type": "code",
      "source": [
        "4. Find the unit's digit in 264102+264103264^{102} + 264^{103}264102+264103.\n",
        "•\tThe unit digit of 264 is 444. The cyclicity of 4 is 4,64, 64,6 (repeats every 2 terms).\n",
        "•\t102mod  2=0102 \\mod 2 = 0102mod2=0, so the unit digit of 41024^{102}4102 is 666.\n",
        "•\t103mod  2=1103 \\mod 2 = 1103mod2=1, so the unit digit of 41034^{103}4103 is 444.\n",
        "Now, add:\n",
        "•\t6+4=106 + 4 = 106+4=10, so the unit digit is 0."
      ],
      "metadata": {
        "id": "UA3oicIVfLlw"
      },
      "execution_count": null,
      "outputs": []
    },
    {
      "cell_type": "code",
      "source": [
        "5. What is the unit digit of (316)3n+1(316)^{3n + 1}(316)3n+1?\n",
        "•\tThe unit digit of 316316316 is 666. The unit digit of any power of 666 is always 666.\n",
        "•\tTherefore, the unit digit of (316)3n+1(316)^{3n + 1}(316)3n+1 is 6."
      ],
      "metadata": {
        "id": "o89b4pLBfLoo"
      },
      "execution_count": null,
      "outputs": []
    },
    {
      "cell_type": "code",
      "source": [
        "6. What is the unit digit in (795−358)(795 - 3^{58})(795−358)?\n",
        "•\tThe unit digit of 795 is 555.\n",
        "•\tThe unit digit of 3 has a cyclicity of 3,9,7,13, 9, 7, 13,9,7,1. 58mod  4=258 \\mod 4 = 258mod4=2, so the unit digit of 3583^{58}358 is 999.\n",
        "Now subtract:\n",
        "5−9=−45 - 9 = -45−9=−4, and the unit digit of −4-4−4 is 6"
      ],
      "metadata": {
        "id": "T68dqB0NfLrm"
      },
      "execution_count": null,
      "outputs": []
    },
    {
      "cell_type": "code",
      "source": [
        "7. What is the rightmost non-zero digit of 30!30!30!?\n",
        "•\t30!30!30! contains multiple factors of 2 and 5, which result in trailing zeros.\n",
        "•\tTo find the rightmost non-zero digit, first remove the factors of 10 (i.e., remove pairs of 2 and 5) and then calculate the remaining factorial.\n",
        "The rightmost non-zero digit of 30!30!30! is 8"
      ],
      "metadata": {
        "id": "yq5Aafaxgpw_"
      },
      "execution_count": null,
      "outputs": []
    },
    {
      "cell_type": "code",
      "source": [
        "8. What will be the last digit of the number obtained by multiplying 81×82×83×84×86×87×88×8981 \\times 82 \\times 83 \\times 84 \\times 86 \\times 87 \\times 88 \\times 8981×82×83×84×86×87×88×89?\n",
        "First, find the unit digits of each number:\n",
        "•\tUnit digit of 81: 111\n",
        "•\tUnit digit of 82: 222\n",
        "•\tUnit digit of 83: 333\n",
        "•\tUnit digit of 84: 444\n",
        "•\tUnit digit of 86: 666\n",
        "•\tUnit digit of 87: 777\n",
        "•\tUnit digit of 88: 888\n",
        "•\tUnit digit of 89: 999\n",
        "Now multiply the unit digits:\n",
        "•\t1×2=21 \\times 2 = 21×2=2\n",
        "•\t2×3=62 \\times 3 = 62×3=6\n",
        "•\t6×4=246 \\times 4 = 246×4=24, unit digit = 444\n",
        "•\t4×6=244 \\times 6 = 244×6=24, unit digit = 444\n",
        "•\t4×7=284 \\times 7 = 284×7=28, unit digit = 888\n",
        "•\t8×8=648 \\times 8 = 648×8=64, unit digit = 444\n",
        "•\t4×9=364 \\times 9 = 364×9=36, unit digit = 666\n",
        "So, the last digit is 6."
      ],
      "metadata": {
        "id": "HT3uU4NBfLul"
      },
      "execution_count": null,
      "outputs": []
    },
    {
      "cell_type": "code",
      "source": [
        "9. Find the last three digits of the product 12345×5432112345 \\times 5432112345×54321.\n",
        "Let's compute the last three digits of the product:\n",
        "•\t12345mod  1000=34512345 \\mod 1000 = 34512345mod1000=345\n",
        "•\t54321mod  1000=32154321 \\mod 1000 = 32154321mod1000=321\n",
        "Now, multiply the last three digits of the numbers:\n",
        "345×321=110745.345 \\times 321 = 110745.345×321=110745.\n",
        "The last three digits are 745745745, so the answer is 745."
      ],
      "metadata": {
        "id": "WFYySe_WfLx_"
      },
      "execution_count": null,
      "outputs": []
    },
    {
      "cell_type": "code",
      "source": [
        "10. Find the last digit of 15+25+35+⋯+951^5 + 2^5 + 3^5 + \\dots + 9^515+25+35+⋯+95.\n",
        "Find the unit digit of each term:\n",
        "•\t15=11^5 = 115=1\n",
        "•\t25=322^5 = 3225=32, unit digit = 222\n",
        "•\t35=2433^5 = 24335=243, unit digit = 333\n",
        "•\t45=10244^5 = 102445=1024, unit digit = 444\n",
        "•\t55=31255^5 = 312555=3125, unit digit = 555\n",
        "•\t65=77766^5 = 777665=7776, unit digit = 666\n",
        "•\t75=168077^5 = 1680775=16807, unit digit = 777\n",
        "•\t85=327688^5 = 3276885=32768, unit digit = 888\n",
        "•\t95=590499^5 = 5904995=59049, unit digit = 999\n",
        "Now, add the unit digits:\n",
        "1+2+3+4+5+6+7+8+9=45.1 + 2 + 3 + 4 + 5 + 6 + 7 + 8 + 9 = 45.1+2+3+4+5+6+7+8+9=45.\n",
        "The unit digit of 454545 is 5."
      ],
      "metadata": {
        "id": "USood-5NfL0s"
      },
      "execution_count": null,
      "outputs": []
    },
    {
      "cell_type": "code",
      "source": [],
      "metadata": {
        "id": "33q9JdvBlKTG"
      },
      "execution_count": null,
      "outputs": []
    },
    {
      "cell_type": "code",
      "source": [
        "1) What is the remainder when 725725725 is divided by 6?\n",
        "•\t725÷6=120725 \\div 6 = 120725÷6=120 remainder 5."
      ],
      "metadata": {
        "id": "61_kFhBVlKWN"
      },
      "execution_count": null,
      "outputs": []
    },
    {
      "cell_type": "code",
      "source": [
        "2) What is the remainder when 345345345 is divided by 8?\n",
        "•\t345÷8=43345 \\div 8 = 43345÷8=43 remainder 1."
      ],
      "metadata": {
        "id": "tZ8G-6zwlKZI"
      },
      "execution_count": null,
      "outputs": []
    },
    {
      "cell_type": "code",
      "source": [
        "3) Find the remainder when 496496496 is divided by 6.\n",
        "•\t496÷6=82496 \\div 6 = 82496÷6=82 remainder 4."
      ],
      "metadata": {
        "id": "4CXbTnjilKb5"
      },
      "execution_count": null,
      "outputs": []
    },
    {
      "cell_type": "code",
      "source": [
        "4) What is the remainder when 141516141516141516 is divided by 5?\n",
        "•\tThe last digit of 141516141516141516 is 6, and any number ending in 6 gives a remainder of 1 when divided by 5."
      ],
      "metadata": {
        "id": "e7TnOa4alKe2"
      },
      "execution_count": null,
      "outputs": []
    },
    {
      "cell_type": "code",
      "source": [
        "5) Find the remainder when 679967996799 is divided by 7.\n",
        "•\t6799÷7=9716799 \\div 7 = 9716799÷7=971 remainder 2."
      ],
      "metadata": {
        "id": "E5f4QPkSlKh7"
      },
      "execution_count": null,
      "outputs": []
    },
    {
      "cell_type": "code",
      "source": [
        "6) What is the remainder when 73×75×78×57×197×3773 \\times 75 \\times 78 \\times 57 \\times 197 \\times 3773×75×78×57×197×37 is divided by 34?\n",
        "•\tCalculate the product modulo 34: (73mod  34)=5, (75mod  34)=7, (78mod  34)=10, (57mod  34)=23, (197mod  34)=25, (37mod  34)=3.(73 \\mod 34) = 5,\\ (75 \\mod 34) = 7,\\ (78 \\mod 34) = 10,\\ (57 \\mod 34) = 23,\\ (197 \\mod 34) = 25,\\ (37 \\mod 34) = 3.(73mod34)=5, (75mod34)=7, (78mod34)=10, (57mod34)=23, (197mod34)=25, (37mod34)=3. (5×7×10×23×25×3)mod  34=120750mod  34=32.(5 \\times 7 \\times 10 \\times 23 \\times 25 \\times 3) \\mod 34 = 120750 \\mod 34 = 32.(5×7×10×23×25×3)mod34=120750mod34=32. The remainder is 32."
      ],
      "metadata": {
        "id": "2YjWQNATlKlH"
      },
      "execution_count": null,
      "outputs": []
    },
    {
      "cell_type": "code",
      "source": [
        "7) Let N=1421×1423×1425N = 1421 \\times 1423 \\times 1425N=1421×1423×1425. What is the remainder when NNN is divided by 12?\n",
        "•\tFirst, find the remainders of 1421, 1423, and 1425 when divided by 12: 1421mod  12=5, 1423mod  12=7, 1425mod  12=9.1421 \\mod 12 = 5,\\ 1423 \\mod 12 = 7,\\ 1425 \\mod 12 = 9.1421mod12=5, 1423mod12=7, 1425mod12=9. Now, Nmod  12=(5×7×9)mod  12=315mod  12=3N \\mod 12 = (5 \\times 7 \\times 9) \\mod 12 = 315 \\mod 12 = 3Nmod12=(5×7×9)mod12=315mod12=3. The remainder is 3."
      ],
      "metadata": {
        "id": "SNQjKBPLlKn5"
      },
      "execution_count": null,
      "outputs": []
    },
    {
      "cell_type": "code",
      "source": [
        "8) Find the remainder when 225622562256 is divided by 17.\n",
        "•\tUse Fermat’s Little Theorem: ap−1mod  p=1a^{p-1} \\mod p = 1ap−1modp=1, where aaa is an integer, and ppp is a prime.\n",
        "o\t216≡1mod  172^{16} \\equiv 1 \\mod 17216≡1mod17, so:\n",
        "2256≡216×16≡(216)16≡116≡1mod  17.2256 \\equiv 2^{16 \\times 16} \\equiv (2^{16})^{16} \\equiv 1^{16} \\equiv 1 \\mod 17.2256≡216×16≡(216)16≡116≡1mod17. The remainder is 1."
      ],
      "metadata": {
        "id": "jvyPkVpglKrQ"
      },
      "execution_count": null,
      "outputs": []
    },
    {
      "cell_type": "code",
      "source": [
        "9) The remainder of 3997!÷403997! \\div 403997!÷40 is:\n",
        "•\t3997!3997!3997! contains factors of 40 (since 40 is 23×52^3 \\times 523×5, and 3997!3997!3997! contains many factors of 2 and 5).\n",
        "o\tThe remainder is 0."
      ],
      "metadata": {
        "id": "kzqJtmsQlKuO"
      },
      "execution_count": null,
      "outputs": []
    },
    {
      "cell_type": "code",
      "source": [
        "10) Find the remainder on dividing 1!+2!+3!+⋯+100!1! + 2! + 3! + \\dots + 100!1!+2!+3!+⋯+100! by 7.\n",
        "•\tFor n≥7n \\geq 7n≥7, n!mod  7=0n! \\mod 7 = 0n!mod7=0 (since 7 is a factor in every factorial n!n!n! when n≥7n \\geq 7n≥7).\n",
        "•\tSo, we only need to sum the first few factorials modulo 7: 1!=1, 2!=2, 3!=6, 4!=24mod  7=3, 5!=120mod  7=1, 6!=720mod  7=6.1! = 1,\\ 2! = 2,\\ 3! = 6,\\ 4! = 24 \\mod 7 = 3,\\ 5! = 120 \\mod 7 = 1,\\ 6! = 720 \\mod 7 = 6.1!=1, 2!=2, 3!=6, 4!=24mod7=3, 5!=120mod7=1, 6!=720mod7=6. 1+2+6+3+1+6=19mod  7=5.1 + 2 + 6 + 3 + 1 + 6 = 19 \\mod 7 = 5.1+2+6+3+1+6=19mod7=5. The remainder is 5."
      ],
      "metadata": {
        "id": "ykhHnRFPlKwx"
      },
      "execution_count": null,
      "outputs": []
    },
    {
      "cell_type": "code",
      "source": [
        "Factorials"
      ],
      "metadata": {
        "id": "aAinj9HQfL3_"
      },
      "execution_count": null,
      "outputs": []
    },
    {
      "cell_type": "code",
      "source": [
        "1. What is the remainder when 725725725 is divided by 666?\n",
        "To find the remainder, divide 725725725 by 666:\n",
        "725÷6=120 (quotient)and725−120×6=725−720=5725 \\div 6 = 120 \\text{ (quotient)} \\quad \\text{and} \\quad 725 - 120 \\times 6 = 725 - 720 = 5725÷6=120 (quotient)and725−120×6=725−720=5\n",
        "So, the remainder is 5."
      ],
      "metadata": {
        "id": "eemaFw84fL6m"
      },
      "execution_count": null,
      "outputs": []
    },
    {
      "cell_type": "code",
      "source": [
        "2. What is the remainder when 345345345 is divided by 888?\n",
        "Divide 345345345 by 888:\n",
        "345÷8=43 (quotient)and345−43×8=345−344=1345 \\div 8 = 43 \\text{ (quotient)} \\quad \\text{and} \\quad 345 - 43 \\times 8 = 345 - 344 = 1345÷8=43 (quotient)and345−43×8=345−344=1\n",
        "So, the remainder is 1"
      ],
      "metadata": {
        "id": "h3gOEaCxfL92"
      },
      "execution_count": null,
      "outputs": []
    },
    {
      "cell_type": "code",
      "source": [
        "3. Find the remainder when 496496496 is divided by 666.\n",
        "Divide 496496496 by 666:\n",
        "496÷6=82 (quotient)and496−82×6=496−492=4496 \\div 6 = 82 \\text{ (quotient)} \\quad \\text{and} \\quad 496 - 82 \\times 6 = 496 - 492 = 4496÷6=82 (quotient)and496−82×6=496−492=4\n",
        "So, the remainder is 4"
      ],
      "metadata": {
        "id": "f05VpDsIfMBJ"
      },
      "execution_count": null,
      "outputs": []
    },
    {
      "cell_type": "code",
      "source": [
        "4. What is the remainder when 141516141516141516 is divided by 555?\n",
        "The remainder when dividing by 5 depends on the last digit of the number. The last digit of 141516141516141516 is 666.\n",
        "6÷5=1 remainder 16 \\div 5 = 1 \\text{ remainder } 16÷5=1 remainder 1\n",
        "So, the remainder is 1."
      ],
      "metadata": {
        "id": "3GQU-wqii3qO"
      },
      "execution_count": null,
      "outputs": []
    },
    {
      "cell_type": "code",
      "source": [
        "5. Find the remainder when 679967996799 is divided by 777.\n",
        "To find the remainder:\n",
        "6799÷7=971 (quotient)and6799−971×7=6799−6797=26799 \\div 7 = 971 \\text{ (quotient)} \\quad \\text{and} \\quad 6799 - 971 \\times 7 = 6799 - 6797 = 26799÷7=971 (quotient)and6799−971×7=6799−6797=2\n",
        "So, the remainder is 2."
      ],
      "metadata": {
        "id": "PLMWrKyYi3tG"
      },
      "execution_count": null,
      "outputs": []
    },
    {
      "cell_type": "code",
      "source": [
        "6. What is the remainder when 73×75×78×57×197×3773 \\times 75 \\times 78 \\times 57 \\times 197 \\times 3773×75×78×57×197×37 is divided by 343434?\n",
        "We can use modular arithmetic for each factor modulo 343434:\n",
        "73mod  34=5,75mod  34=7,78mod  34=1073 \\mod 34 = 5,\\quad 75 \\mod 34 = 7,\\quad 78 \\mod 34 = 1073mod34=5,75mod34=7,78mod34=10 57mod  34=23,197mod  34=25,37mod  34=357 \\mod 34 = 23,\\quad 197 \\mod 34 = 25,\\quad 37 \\mod 34 = 357mod34=23,197mod34=25,37mod34=3\n",
        "Now, multiply the results:\n",
        "5×7=35mod  34=15 \\times 7 = 35 \\mod 34 = 15×7=35mod34=1 1×10=10,10×23=230mod  34=241 \\times 10 = 10,\\quad 10 \\times 23 = 230 \\mod 34 = 241×10=10,10×23=230mod34=24 24×25=600mod  34=20,20×3=60mod  34=2624 \\times 25 = 600 \\mod 34 = 20,\\quad 20 \\times 3 = 60 \\mod 34 = 2624×25=600mod34=20,20×3=60mod34=26\n",
        "So, the remainder is 26."
      ],
      "metadata": {
        "id": "tRZhfXaOi3vm"
      },
      "execution_count": null,
      "outputs": []
    },
    {
      "cell_type": "code",
      "source": [
        "7. Let N=1421×1423×1425N = 1421 \\times 1423 \\times 1425N=1421×1423×1425. What is the remainder when NNN is divided by 121212?\n",
        "We reduce each number modulo 121212:\n",
        "1421mod  12=5,1423mod  12=7,1425mod  12=91421 \\mod 12 = 5,\\quad 1423 \\mod 12 = 7,\\quad 1425 \\mod 12 = 91421mod12=5,1423mod12=7,1425mod12=9\n",
        "Now, multiply them:\n",
        "5×7=35mod  12=115 \\times 7 = 35 \\mod 12 = 115×7=35mod12=11 11×9=99mod  12=311 \\times 9 = 99 \\mod 12 = 311×9=99mod12=3\n",
        "So, the remainder is 3"
      ],
      "metadata": {
        "id": "YDXYXStli3yi"
      },
      "execution_count": null,
      "outputs": []
    },
    {
      "cell_type": "code",
      "source": [
        "8. Find the remainder when 22562^{256}2256 is divided by 171717.\n",
        "Using Fermat's Little Theorem, since 171717 is prime, 216≡1mod  172^{16} \\equiv 1 \\mod 17216≡1mod17. Thus:\n",
        "2256=(216)16≡116≡1mod  172^{256} = (2^{16})^{16} \\equiv 1^{16} \\equiv 1 \\mod 172256=(216)16≡116≡1mod17\n",
        "So, the remainder is 1."
      ],
      "metadata": {
        "id": "e0PYV3Ati31G"
      },
      "execution_count": null,
      "outputs": []
    },
    {
      "cell_type": "code",
      "source": [
        "________________________________________\n",
        "9. The remainder of 3997!40\\frac{3997!}{40}403997! is:\n",
        "Since 3997!3997!3997! contains factors of 40=23×540 = 2^3 \\times 540=23×5, 3997!3997!3997! is divisible by 40. So, the remainder is 0"
      ],
      "metadata": {
        "id": "vXFixtPBi33v"
      },
      "execution_count": null,
      "outputs": []
    },
    {
      "cell_type": "code",
      "source": [
        "10. Find the remainder on dividing 1!+2!+3!+⋯+100!1! + 2! + 3! + \\dots + 100!1!+2!+3!+⋯+100! by 777.\n",
        "Since factorials grow quickly, n!mod  7=0n! \\mod 7 = 0n!mod7=0 for n≥7n \\geq 7n≥7. So, we only need to consider the sum of factorials up to 6!6!6!:\n",
        "1!+2!+3!+4!+5!+6!=1+2+6+24+120+720=8731! + 2! + 3! + 4! + 5! + 6! = 1 + 2 + 6 + 24 + 120 + 720 = 8731!+2!+3!+4!+5!+6!=1+2+6+24+120+720=873\n",
        "Now, find 873mod  7873 \\mod 7873mod7:\n",
        "873÷7=124 (quotient)and873−124×7=873−868=5873 \\div 7 = 124 \\text{ (quotient)} \\quad \\text{and} \\quad 873 - 124 \\times 7 = 873 - 868 = 5873÷7=124 (quotient)and873−124×7=873−868=5\n",
        "So, the remainder is 5."
      ],
      "metadata": {
        "id": "QPPB6-9ai39h"
      },
      "execution_count": null,
      "outputs": []
    },
    {
      "cell_type": "code",
      "source": [
        "HCF/LCM"
      ],
      "metadata": {
        "id": "5XfmnpCai4Av"
      },
      "execution_count": null,
      "outputs": []
    },
    {
      "cell_type": "code",
      "source": [
        "1) The greatest number of four digits which is divisible by 15, 25, 40, and 75 is:\n",
        "•\tThe LCM of 15, 25, 40, and 75 is calculated as: LCM(15,25,40,75)=600\\text{LCM}(15, 25, 40, 75) = 600LCM(15,25,40,75)=600\n",
        "•\tNow, the greatest four-digit number divisible by 600 is: 9999600≈16.665⇒600×16=9600\\frac{9999}{600} \\approx 16.665 \\quad \\Rightarrow \\quad 600 \\times 16 = 96006009999≈16.665⇒600×16=9600\n",
        "•\tTherefore, the greatest four-digit number divisible by 600 is 9600.\n",
        "Answer: c) 9600"
      ],
      "metadata": {
        "id": "F7v4bFc0i4G4"
      },
      "execution_count": null,
      "outputs": []
    },
    {
      "cell_type": "code",
      "source": [
        "2) The H.C.F. of two numbers is 11 and their L.C.M. is 7700. If one of the numbers is 275, then the other is:\n",
        "•\tWe know the relationship between HCF, LCM, and the two numbers: HCF×LCM=Number 1×Number 2\\text{HCF} \\times \\text{LCM} = \\text{Number 1} \\times \\text{Number 2}HCF×LCM=Number 1×Number 2 Substituting the values: 11×7700=275×Number 211 \\times 7700 = 275 \\times \\text{Number 2}11×7700=275×Number 2 Solving for the other number: Number 2=11×7700275=308\\text{Number 2} = \\frac{11 \\times 7700}{275} = 308Number 2=27511×7700=308\n",
        "Answer: c) 308"
      ],
      "metadata": {
        "id": "9XP3JgeCi4Js"
      },
      "execution_count": null,
      "outputs": []
    },
    {
      "cell_type": "code",
      "source": [
        "3) Six bells commence tolling together and toll at intervals of 2, 4, 6, 8, 10, and 12 seconds respectively. In 30 minutes, how many times do they toll together including the toll at start?\n",
        "•\tThe bells will toll together every time the Least Common Multiple (LCM) of their intervals is reached. LCM(2,4,6,8,10,12)=120 seconds (or 2 minutes)\\text{LCM}(2, 4, 6, 8, 10, 12) = 120 \\text{ seconds (or 2 minutes)}LCM(2,4,6,8,10,12)=120 seconds (or 2 minutes)\n",
        "•\tIn 30 minutes, the number of times they toll together is: 30 minutes2 minutes=15\\frac{30 \\text{ minutes}}{2 \\text{ minutes}} = 152 minutes30 minutes=15 Including the initial toll, the total number of times they toll together is: 15+1=1615 + 1 = 1615+1=16\n",
        "Answer: d) 16"
      ],
      "metadata": {
        "id": "_AhK0CISi4NA"
      },
      "execution_count": null,
      "outputs": []
    },
    {
      "cell_type": "code",
      "source": [
        "4) Let NNN be the greatest number that will divide 1305, 4665, and 6905, leaving the same remainder in each case. Then sum of the digits in NNN is:\n",
        "•\tTo find NNN, we first calculate the differences between the numbers: 4665−1305=3360,6905−4665=22404665 - 1305 = 3360,\\quad 6905 - 4665 = 22404665−1305=3360,6905−4665=2240\n",
        "•\tNow, find the HCF of 3360 and 2240: HCF(3360,2240)=1120\\text{HCF}(3360, 2240) = 1120HCF(3360,2240)=1120\n",
        "•\tSo, N=1120N = 1120N=1120. The sum of the digits of 1120 is: 1+1+2+0=41 + 1 + 2 + 0 = 41+1+2+0=4\n",
        "Answer: a) 4"
      ],
      "metadata": {
        "id": "llCPsLhYfMEl"
      },
      "execution_count": null,
      "outputs": []
    },
    {
      "cell_type": "code",
      "source": [
        "5) Find the greatest number that will divide 43, 91, and 183 so as to leave the same remainder in each case:\n",
        "•\tFirst, find the differences between the numbers: 91−43=48,183−91=92,183−43=14091 - 43 = 48, \\quad 183 - 91 = 92, \\quad 183 - 43 = 14091−43=48,183−91=92,183−43=140\n",
        "•\tNow, find the HCF of 48, 92, and 140: HCF(48,92,140)=4\\text{HCF}(48, 92, 140) = 4HCF(48,92,140)=4\n",
        "•\tThe greatest number that divides 43, 91, and 183, leaving the same remainder, is 4.\n",
        "Answer: a) 4"
      ],
      "metadata": {
        "id": "OULNCcgqfMHq"
      },
      "execution_count": null,
      "outputs": []
    },
    {
      "cell_type": "code",
      "source": [
        "6) The product of two numbers is 4107. If the H.C.F. of these numbers is 37, then the greater number is:\n",
        "•\tThe product of two numbers is related to their HCF and LCM as: HCF×LCM=Number 1×Number 2\\text{HCF} \\times \\text{LCM} = \\text{Number 1} \\times \\text{Number 2}HCF×LCM=Number 1×Number 2\n",
        "•\tWe know that the HCF is 37, so: 37×LCM=410737 \\times \\text{LCM} = 410737×LCM=4107 Solving for the other number: LCM=410737=111\\text{LCM} = \\frac{4107}{37} = 111LCM=374107=111 So, the greater number is 111.\n",
        "Answer: c) 111"
      ],
      "metadata": {
        "id": "dVigo0cW8yvS"
      },
      "execution_count": null,
      "outputs": []
    },
    {
      "cell_type": "code",
      "source": [
        "7) Three numbers are in the ratio of 3:4:5, and their L.C.M. is 2400. Their H.C.F. is:\n",
        "•\tLet the numbers be 3x,4x,5x3x, 4x, 5x3x,4x,5x. The LCM of these numbers is LCM(3x,4x,5x)=60x\\text{LCM}(3x, 4x, 5x) = 60xLCM(3x,4x,5x)=60x.\n",
        "•\tWe are given that the LCM is 2400: 60x=2400⇒x=4060x = 2400 \\quad \\Rightarrow \\quad x = 4060x=2400⇒x=40 The HCF of 3x, 4x, and 5x is x=40x = 40x=40.\n",
        "Answer: a) 40"
      ],
      "metadata": {
        "id": "0KTPGGPT8yx6"
      },
      "execution_count": null,
      "outputs": []
    },
    {
      "cell_type": "code",
      "source": [
        "8) The G.C.D. of 1.08, 0.36, and 0.9 is:\n",
        "•\tConvert the decimals into fractions: 1.08=108100,0.36=36100,0.9=901001.08 = \\frac{108}{100}, \\quad 0.36 = \\frac{36}{100}, \\quad 0.9 = \\frac{90}{100}1.08=100108,0.36=10036,0.9=10090\n",
        "•\tFind the GCD of the numerators (108, 36, 90): GCD(108,36,90)=18\\text{GCD}(108, 36, 90) = 18GCD(108,36,90)=18\n",
        "•\tNow, divide by the denominator 100: 18100=0.18\\frac{18}{100} = 0.1810018=0.18\n",
        "Answer: c) 0.18"
      ],
      "metadata": {
        "id": "FIDgJdHp8y00"
      },
      "execution_count": null,
      "outputs": []
    },
    {
      "cell_type": "code",
      "source": [
        "9) The product of two numbers is 2028 and their H.C.F. is 13. The number of such pairs is:\n",
        "•\tWe are given that the product of two numbers is 2028 and their HCF is 13. Thus, the product of their LCM and HCF is: LCM×HCF=2028\\text{LCM} \\times \\text{HCF} = 2028LCM×HCF=2028 Since the HCF is 13: LCM=202813=156\\text{LCM} = \\frac{2028}{13} = 156LCM=132028=156\n",
        "•\tNow, factorize 156 as: 156=22×3×13156 = 2^2 \\times 3 \\times 13156=22×3×13 So, the two pairs of numbers are (13,156)(13, 156)(13,156) and (26,78)(26, 78)(26,78).\n",
        "Answer: b) 2"
      ],
      "metadata": {
        "id": "CGCz8Hm68y3y"
      },
      "execution_count": null,
      "outputs": []
    },
    {
      "cell_type": "code",
      "source": [
        "10) The least multiple of 7, which leaves a remainder of 4 when divided by 6, 9, 15, and 18 is:\n",
        "•\tThe LCM of 6, 9, 15, and 18 is: LCM(6,9,15,18)=90\\text{LCM}(6, 9, 15, 18) = 90LCM(6,9,15,18)=90\n",
        "•\tNow, find the smallest multiple of 7 that satisfies: N≡4(mod90)N \\equiv 4 \\pmod{90}N≡4(mod90) The smallest such number is 94.\n",
        "Answer: b) 94"
      ],
      "metadata": {
        "id": "kKrUr1zB8y6i"
      },
      "execution_count": null,
      "outputs": []
    },
    {
      "cell_type": "code",
      "source": [
        "11) The least number which should be added to 2497 so that the sum is exactly divisible by 5, 6, 4, and 3 is:\n",
        "•\tThe LCM of 5, 6, 4, and 3 is: LCM(5,6,4,3)=60\\text{LCM}(5, 6, 4, 3) = 60LCM(5,6,4,3)=60\n",
        "•\tFind the remainder when 2497 is divided by 60: 2497mod  60=372497 \\mod 60 = 372497mod60=37 To make it divisible by 60, we need to add 60−37=2360 - 37 = 2360−37=23.\n",
        "Answer: c) 23"
      ],
      "metadata": {
        "id": "klSWwop08y9Z"
      },
      "execution_count": null,
      "outputs": []
    },
    {
      "cell_type": "code",
      "source": [
        "12) The least number which when divided by 5, 6, 7, and 8 leaves a remainder of 3, but is divisible by 9 is:\n",
        "•\tThe LCM of 5, 6, 7, and 8 is: LCM(5,6,7,8)=840\\text{LCM}(5, 6, 7, 8) = 840LCM(5,6,7,8)=840 We need to solve: N≡3(mod840),N≡0(mod9)N \\equiv 3 \\pmod{840}, \\quad N \\equiv 0 \\pmod{9}N≡3(mod840),N≡0(mod9) The smallest such number is 1683.\n",
        "Answer: b) 1683"
      ],
      "metadata": {
        "id": "jo1_ENz_8zAJ"
      },
      "execution_count": null,
      "outputs": []
    },
    {
      "cell_type": "code",
      "source": [
        "13) A, B, and C start at the same time in the same direction to run around a circular stadium. A completes a round in 252 seconds, B in 308 seconds, and C in 198 seconds. After what time will they cross the same point from where they started?\n",
        "•\tFind the LCM of 252, 308, and 198: LCM(252,308,198)=2772 seconds=46 minutes and 12 seconds\\text{LCM}(252, 308, 198) = 2772 \\text{ seconds} = 46 \\text{ minutes and 12 seconds}LCM(252,308,198)=2772 seconds=46 minutes and 12 seconds\n",
        "Answer: d) 46 m 12 s"
      ],
      "metadata": {
        "id": "DnNY2HNt8zC3"
      },
      "execution_count": null,
      "outputs": []
    },
    {
      "cell_type": "code",
      "source": [
        "14) The H.C.F. of two numbers is 23, and the other two factors of their L.C.M. are 13 and 14. The larger of the two numbers is:\n",
        "•\tThe two numbers are: 23×13=299,23×14=32223 \\times 13 = 299, \\quad 23 \\times 14 = 32223×13=299,23×14=322 The larger number is 322.\n",
        "Answer: c) 322"
      ],
      "metadata": {
        "id": "05DmkjDf8zFy"
      },
      "execution_count": null,
      "outputs": []
    },
    {
      "cell_type": "code",
      "source": [
        "15) What will be the least number which when doubled will be exactly divisible by 12, 18, 21, and 30?\n",
        "•\tFind the LCM of 12, 18, 21, and 30: LCM(12,18,21,30)=1260\\text{LCM}(12, 18, 21, 30) = 1260LCM(12,18,21,30)=1260 The least number is: 12602=630\\frac{1260}{2} = 63021260=630\n",
        "Answer: b) 630"
      ],
      "metadata": {
        "id": "xrBCn4bI8zIV"
      },
      "execution_count": null,
      "outputs": []
    },
    {
      "cell_type": "code",
      "source": [
        "16) A rectangular courtyard 3.78 meters long and 5.25 meters wide is to be paved with square tiles of exactly the same size. What is the largest size of the tile that can be used for this purpose?\n",
        "•\tConvert the dimensions to centimeters: 3.78 meters=378 cm,5.25 meters=525 cm3.78 \\text{ meters} = 378 \\text{ cm}, \\quad 5.25 \\text{ meters} = 525 \\text{ cm}3.78 meters=378 cm,5.25 meters=525 cm\n",
        "•\tFind the greatest common divisor (GCD) of 378 and 525 using the Euclidean algorithm: GCD(378,525)=21 cm\\text{GCD}(378, 525) = 21 \\text{ cm}GCD(378,525)=21 cm\n",
        "•\tThe largest size of the tile that can be used is 21 cm.\n",
        "Answer: b) 21 cm"
      ],
      "metadata": {
        "id": "O5NpO32k8zLD"
      },
      "execution_count": null,
      "outputs": []
    },
    {
      "cell_type": "code",
      "source": [
        "17) Three numbers, which are co-prime to each other, are such that the product of the first two is 551 and that of the last two is 1073. The sum of the three numbers is:\n",
        "•\tLet the three numbers be aaa, bbb, and ccc. From the information given: a×b=551andb×c=1073a \\times b = 551 \\quad \\text{and} \\quad b \\times c = 1073a×b=551andb×c=1073\n",
        "•\tSince the numbers are co-prime, factorize 551 and 1073: 551=19×29,1073=29×37551 = 19 \\times 29, \\quad 1073 = 29 \\times 37551=19×29,1073=29×37 So, b=29b = 29b=29, a=19a = 19a=19, and c=37c = 37c=37.\n",
        "•\tThe sum of the three numbers is: a+b+c=19+29+37=85a + b + c = 19 + 29 + 37 = 85a+b+c=19+29+37=85\n",
        "Answer: c) 85"
      ],
      "metadata": {
        "id": "CpoT8vBN9Wv4"
      },
      "execution_count": null,
      "outputs": []
    },
    {
      "cell_type": "code",
      "source": [
        "18) The greatest number which, on dividing 1657 and 2037, leaves remainders 6 and 5 respectively is:\n",
        "•\tSubtract the remainders from the numbers: 1657−6=1651,2037−5=20321657 - 6 = 1651, \\quad 2037 - 5 = 20321657−6=1651,2037−5=2032\n",
        "•\tFind the GCD of 1651 and 2032 using the Euclidean algorithm: GCD(1651,2032)=127\\text{GCD}(1651, 2032) = 127GCD(1651,2032)=127\n",
        "•\tThe greatest number is 127.\n",
        "Answer: b) 127"
      ],
      "metadata": {
        "id": "MNDaqNGb9Wzz"
      },
      "execution_count": null,
      "outputs": []
    },
    {
      "cell_type": "code",
      "source": [
        "19) The L.C.M. of two numbers is 48. The numbers are in the ratio 2:3. The sum of the numbers is:\n",
        "•\tLet the two numbers be 2x2x2x and 3x3x3x. The LCM of 2x2x2x and 3x3x3x is: LCM(2x,3x)=6x\\text{LCM}(2x, 3x) = 6xLCM(2x,3x)=6x Given that the LCM is 48: 6x=48⇒x=86x = 48 \\quad \\Rightarrow \\quad x = 86x=48⇒x=8\n",
        "•\tTherefore, the two numbers are 2×8=162 \\times 8 = 162×8=16 and 3×8=243 \\times 8 = 243×8=24.\n",
        "•\tThe sum of the numbers is: 16+24=4016 + 24 = 4016+24=40\n",
        "Answer: c) 40"
      ],
      "metadata": {
        "id": "bSbionc39W5S"
      },
      "execution_count": null,
      "outputs": []
    },
    {
      "cell_type": "code",
      "source": [
        "20) The greatest possible length which can be used to measure exactly the lengths 7 m, 3 m 85 cm, and 12 m 95 cm is:\n",
        "•\tConvert all measurements to centimeters: 7 m=700 cm,3 m85 cm=385 cm,12 m95 cm=1295 cm7 \\text{ m} = 700 \\text{ cm}, \\quad 3 \\text{ m} 85 \\text{ cm} = 385 \\text{ cm}, \\quad 12 \\text{ m} 95 \\text{ cm} = 1295 \\text{ cm}7 m=700 cm,3 m85 cm=385 cm,12 m95 cm=1295 cm\n",
        "•\tFind the GCD of 700, 385, and 1295 using the Euclidean algorithm: GCD(700,385,1295)=35 cm\\text{GCD}(700, 385, 1295) = 35 \\text{ cm}GCD(700,385,1295)=35 cm\n",
        "•\tThe greatest possible length is 35 cm.\n",
        "Answer: c) 35 cm"
      ],
      "metadata": {
        "id": "heikIpFJ9W8r"
      },
      "execution_count": null,
      "outputs": []
    },
    {
      "cell_type": "code",
      "source": [
        "21) L.C.M. of two prime numbers xxx and yyy (x>yx > yx>y) is 161. The value of 3y−x3y - x3y−x is:\n",
        "•\tSince the LCM of two prime numbers xxx and yyy is their product, x×y=161x \\times y = 161x×y=161. Factorizing 161: 161=7×23161 = 7 \\times 23161=7×23 So, x=23x = 23x=23 and y=7y = 7y=7.\n",
        "•\tNow, calculate 3y−x3y - x3y−x: 3y−x=3×7−23=21−23=−23y - x = 3 \\times 7 - 23 = 21 - 23 = -23y−x=3×7−23=21−23=−2\n",
        "Answer: a) -2"
      ],
      "metadata": {
        "id": "_7CKoP8m9XDE"
      },
      "execution_count": null,
      "outputs": []
    },
    {
      "cell_type": "code",
      "source": [
        "22) The H.C.F. and L.C.M. of two numbers are 11 and 385 respectively. If one number lies between 75 and 125, then that number is:\n",
        "•\tLet the two numbers be aaa and bbb. Using the relation: a×b=HCF×LCM=11×385=4235a \\times b = \\text{HCF} \\times \\text{LCM} = 11 \\times 385 = 4235a×b=HCF×LCM=11×385=4235\n",
        "•\tSuppose a=11ka = 11ka=11k and b=385/kb = 385/kb=385/k for some integer kkk. Check for values of kkk such that aaa lies between 75 and 125: 11k=77(as k=7)11k = 77 \\quad (\\text{as} \\, k = 7)11k=77(ask=7) Thus, the number is 77.\n",
        "Answer: a) 77"
      ],
      "metadata": {
        "id": "nzxLQfQX9XGY"
      },
      "execution_count": null,
      "outputs": []
    },
    {
      "cell_type": "code",
      "source": [
        "23) If the sum of two numbers is 55 and the H.C.F. and L.C.M. of these numbers are 5 and 120 respectively, then the sum of the reciprocals of the numbers is equal to:\n",
        "•\tLet the two numbers be aaa and bbb. Using the relation between HCF and LCM: a×b=HCF×LCM=5×120=600a \\times b = \\text{HCF} \\times \\text{LCM} = 5 \\times 120 = 600a×b=HCF×LCM=5×120=600 Also, a+b=55a + b = 55a+b=55.\n",
        "•\tThe sum of reciprocals is: 1a+1b=a+ba×b=55600=11120\\frac{1}{a} + \\frac{1}{b} = \\frac{a + b}{a \\times b} = \\frac{55}{600} = \\frac{11}{120}a1+b1=a×ba+b=60055=12011\n",
        "Answer: c) 11/120"
      ],
      "metadata": {
        "id": "hpdw4MRT9XJx"
      },
      "execution_count": null,
      "outputs": []
    },
    {
      "cell_type": "code",
      "source": [
        "24) The maximum number of students among whom 1001 pens and 910 pencils can be distributed in such a way that each student gets the same number of pens and the same number of pencils is:\n",
        "•\tWe need to find the GCD of 1001 and 910: GCD(1001,910)=91\\text{GCD}(1001, 910) = 91GCD(1001,910)=91\n",
        "•\tThus, the maximum number of students is 91.\n",
        "Answer: a) 9"
      ],
      "metadata": {
        "id": "KkQIZTwm9XM-"
      },
      "execution_count": null,
      "outputs": []
    },
    {
      "cell_type": "code",
      "source": [
        "Problem on Numbers"
      ],
      "metadata": {
        "id": "xkmfEzI49XQj"
      },
      "execution_count": null,
      "outputs": []
    },
    {
      "cell_type": "code",
      "source": [
        "1) A girl wrote all the numbers from 100 to 200. Then she started counting the number of ones that has been used while writing all these numbers. What is the number that she got?\n",
        "•\tWe are asked to find how many times the digit \"1\" appears in the numbers from 100 to 200.\n",
        "•\tFor the hundreds place, all numbers from 100 to 199 have 1 in the hundreds place, so that's 100 occurrences.\n",
        "•\tFor the tens place, numbers from 110 to 119 (10 numbers) each have 1 in the tens place, so that's 10 occurrences.\n",
        "•\tFor the units place, numbers ending in 1 from 101 to 191 (101, 111, 121, ..., 191) have 1 in the units place, so there are 10 occurrences.\n",
        "Total number of ones = 100+10+10=120100 + 10 + 10 = 120100+10+10=120.\n",
        "Answer: 120"
      ],
      "metadata": {
        "id": "ORtqtJqh9XTU"
      },
      "execution_count": null,
      "outputs": []
    },
    {
      "cell_type": "code",
      "source": [
        "2) If we write down all the numbers from 259 to 492 side by side like: 259260261....491492, how many 8's will be used to write this large natural number?\n",
        "•\tThe range of numbers is from 259 to 492. First, count how many times the digit \"8\" appears in the hundreds, tens, and units places:\n",
        "o\tHundreds place: No numbers from 259 to 492 have an 8 in the hundreds place.\n",
        "o\tTens place: The numbers from 280 to 289 and 380 to 389 (10 numbers each) have 8 in the tens place. That's 20 occurrences.\n",
        "o\tUnits place: Numbers ending in 8 are 268, 278, 288, ..., 488. These are 6 numbers for each set of tens (e.g., 268, 278, 288, ..., etc.). That's 24 occurrences (268, 278, 288, 298, 368, 378, 388, 398, 468, 478, 488).\n",
        "Total occurrences of 8 = 20+24=4420 + 24 = 4420+24=44.\n",
        "Answer: 44"
      ],
      "metadata": {
        "id": "rft1Sutu9XWU"
      },
      "execution_count": null,
      "outputs": []
    },
    {
      "cell_type": "code",
      "source": [
        "3) A number 3 divides ‘a’ with a result of ‘b’ and a remainder of 2. The number 3 divides ‘b’ with a result of 2 and a remainder of 1. What is the value of a?\n",
        "•\tWe are given that:\n",
        "o\ta=3b+2a = 3b + 2a=3b+2\n",
        "o\tb=3×2+1=7b = 3 \\times 2 + 1 = 7b=3×2+1=7\n",
        "•\tSubstituting b=7b = 7b=7 into the first equation: a=3×7+2=21+2=23a = 3 \\times 7 + 2 = 21 + 2 = 23a=3×7+2=21+2=23\n",
        "Answer: 23"
      ],
      "metadata": {
        "id": "zCRN51N59XZG"
      },
      "execution_count": null,
      "outputs": []
    },
    {
      "cell_type": "code",
      "source": [
        "4) When a number is divided by 5, the remainder is 2. When it is divided by 6, the remainder is 1. If the difference between the quotients of division is 3, then find the number.\n",
        "•\tLet the number be NNN. We have the system:\n",
        "o\tN=5q1+2N = 5q_1 + 2N=5q1+2\n",
        "o\tN=6q2+1N = 6q_2 + 1N=6q2+1\n",
        "o\tq1−q2=3q_1 - q_2 = 3q1−q2=3\n",
        "•\tSubstituting q1=q2+3q_1 = q_2 + 3q1=q2+3 into the first equation: 5(q2+3)+2=6q2+15(q_2 + 3) + 2 = 6q_2 + 15(q2+3)+2=6q2+1 Simplifying: 5q2+15+2=6q2+1⇒17=q2+1⇒q2=165q_2 + 15 + 2 = 6q_2 + 1 \\quad \\Rightarrow \\quad 17 = q_2 + 1 \\quad \\Rightarrow \\quad q_2 = 165q2+15+2=6q2+1⇒17=q2+1⇒q2=16 Thus, N=6×16+1=97N = 6 \\times 16 + 1 = 97N=6×16+1=97.\n",
        "Answer: 97"
      ],
      "metadata": {
        "id": "FHwT7Cwm9Xcd"
      },
      "execution_count": null,
      "outputs": []
    },
    {
      "cell_type": "code",
      "source": [
        "5) The number formed by writing 1 to 29 side by side as: 12345678910...29 is divided by 9, then what is the remainder?\n",
        "•\tFirst, write the number formed by concatenating the digits of the numbers from 1 to 29: 123456789101112...2929123456789101112...2929123456789101112...2929\n",
        "•\tTo find the remainder when this number is divided by 9, use the property that the remainder of a number when divided by 9 is the same as the remainder of the sum of its digits when divided by 9.\n",
        "•\tThe sum of the digits from 1 to 29 is: 1+2+3+4+5+6+7+8+9+(1+0)+(1+1)+...+(2+9)=45+46+47=1381 + 2 + 3 + 4 + 5 + 6 + 7 + 8 + 9 + (1 + 0) + (1 + 1) + ... + (2 + 9) = 45 + 46 + 47 = 1381+2+3+4+5+6+7+8+9+(1+0)+(1+1)+...+(2+9)=45+46+47=138 Now, find the remainder of 138 divided by 9: 138÷9=15 remainder 3138 \\div 9 = 15 \\text{ remainder } 3138÷9=15 remainder 3\n",
        "Answer: 3"
      ],
      "metadata": {
        "id": "z-VUcdx69Xj5"
      },
      "execution_count": null,
      "outputs": []
    },
    {
      "cell_type": "code",
      "source": [
        "6) When 75% of a two-digit number is added to the number, the digits of the number are reversed. Find the ratio of the unit's digit to the ten's digit in the original number.\n",
        "•\tLet the two-digit number be 10x+y10x + y10x+y, where xxx is the tens digit and yyy is the units digit.\n",
        "•\tWe are given: 10x+y+0.75(10x+y)=10y+x10x + y + 0.75(10x + y) = 10y + x10x+y+0.75(10x+y)=10y+x Simplifying: 1.75(10x+y)=10y+x1.75(10x + y) = 10y + x1.75(10x+y)=10y+x Expanding and simplifying further: 17.5x+1.75y=10y+x⇒16.5x=8.25y⇒2x=y17.5x + 1.75y = 10y + x \\quad \\Rightarrow \\quad 16.5x = 8.25y \\quad \\Rightarrow \\quad 2x = y17.5x+1.75y=10y+x⇒16.5x=8.25y⇒2x=y Thus, the ratio of the unit's digit to the tens digit is 2:1.\n",
        "Answer: 2:1"
      ],
      "metadata": {
        "id": "Vh8QrQUO9Xnx"
      },
      "execution_count": null,
      "outputs": []
    },
    {
      "cell_type": "code",
      "source": [
        "7) A two-digit number is such that the product of the digits is 8. When 18 is added to the number, then the digits are reversed. Find the number.\n",
        "•\tLet the two-digit number be 10x+y10x + y10x+y, where xxx is the tens digit and yyy is the units digit.\n",
        "•\tWe are given:\n",
        "o\txy=8xy = 8xy=8\n",
        "o\t10x+y+18=10y+x10x + y + 18 = 10y + x10x+y+18=10y+x\n",
        "•\tSimplifying the second equation: 9x−9y=−18⇒x−y=−2⇒x=y−29x - 9y = -18 \\quad \\Rightarrow \\quad x - y = -2 \\quad \\Rightarrow \\quad x = y - 29x−9y=−18⇒x−y=−2⇒x=y−2\n",
        "•\tSubstituting x=y−2x = y - 2x=y−2 into xy=8xy = 8xy=8: (y−2)y=8⇒y2−2y−8=0⇒(y−4)(y+2)=0(y - 2)y = 8 \\quad \\Rightarrow \\quad y^2 - 2y - 8 = 0 \\quad \\Rightarrow \\quad (y - 4)(y + 2) = 0(y−2)y=8⇒y2−2y−8=0⇒(y−4)(y+2)=0 Thus, y=4y = 4y=4. Substituting into x=y−2x = y - 2x=y−2, we get x=2x = 2x=2.\n",
        "•\tThe number is 10×2+4=2410 \\times 2 + 4 = 2410×2+4=24.\n",
        "Answer: 24"
      ],
      "metadata": {
        "id": "d29BLuhA8zOG"
      },
      "execution_count": null,
      "outputs": []
    },
    {
      "cell_type": "code",
      "source": [
        "8) The product of 4 consecutive even numbers is always divisible by which of the largest number?\n",
        "•\tThe four consecutive even numbers can be written as n,n+2,n+4,n+6n, n+2, n+4, n+6n,n+2,n+4,n+6.\n",
        "•\tSince the numbers are even, the product will always be divisible by 16 (as the product includes at least four factors of 2). Additionally, one of the numbers will always be divisible by 4, contributing to a factor of 2^4.\n",
        "•\tHowever, the product will also be divisible by 24, since at least one of the numbers will be divisible by 3 and another by 8.\n",
        "Answer: 24"
      ],
      "metadata": {
        "id": "eGiQcHwG8zTI"
      },
      "execution_count": null,
      "outputs": []
    }
  ]
}